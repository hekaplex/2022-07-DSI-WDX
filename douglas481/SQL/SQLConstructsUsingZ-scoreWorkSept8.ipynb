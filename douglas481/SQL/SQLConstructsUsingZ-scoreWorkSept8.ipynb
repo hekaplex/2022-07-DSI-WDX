{
    "metadata": {
        "kernelspec": {
            "name": "SQL",
            "display_name": "SQL",
            "language": "sql"
        },
        "language_info": {
            "name": "sql",
            "version": ""
        }
    },
    "nbformat_minor": 2,
    "nbformat": 4,
    "cells": [
        {
            "cell_type": "markdown",
            "source": [
                "Calculate z-scores for ship counts at ports"
            ],
            "metadata": {
                "azdata_cell_guid": "2beec248-e37b-4f14-8d80-b3e87ad4d832"
            },
            "attachments": {}
        },
        {
            "cell_type": "code",
            "source": [
                "WITH ShipCount\r\n",
                "AS\r\n",
                "    (\r\n",
                "    SELECT C.portname 'PortName'\r\n",
                "    , COUNT(C.callid) 'ShipCount'\r\n",
                "    FROM Calls C  \r\n",
                "    GROUP BY C.portname\r\n",
                "    )\r\n",
                "SELECT ST.PortName\r\n",
                ", (ST.ShipCount - AVG(ST.ShipCount) over()) / STDEV(ST.ShipCount) over() 'Z-Score'\r\n",
                "FROM ShipCount ST\r\n",
                "GROUP BY ST.PortName\r\n",
                ",ST.ShipCount;"
            ],
            "metadata": {
                "azdata_cell_guid": "ee9b9028-f244-4012-966a-148387773d01",
                "language": "sql"
            },
            "outputs": [
                {
                    "output_type": "display_data",
                    "data": {
                        "text/html": "(1670 rows affected)"
                    },
                    "metadata": {}
                },
                {
                    "output_type": "display_data",
                    "data": {
                        "text/html": "Total execution time: 00:00:00.150"
                    },
                    "metadata": {}
                },
                {
                    "output_type": "execute_result",
                    "execution_count": 13,
                    "data": {
                        "application/vnd.dataresource+json": {
                            "schema": {
                                "fields": [
                                    {
                                        "name": "PortName"
                                    },
                                    {
                                        "name": "Z-Score"
                                    }
                                ]
                            },
                            "data": [
                                {
                                    "0": "Aberdeen (United Kingdom) Anchorage",
                                    "1": "-0.24191551701031205"
                                },
                                {
                                    "0": "Abidjan",
                                    "1": "0.019951795217345324"
                                },
                                {
                                    "0": "Abidjan Anchorage",
                                    "1": "-0.23443359380380754"
                                },
                                {
                                    "0": "Abidjan Inner Anchorage",
                                    "1": "-0.11971077130407194"
                                },
                                {
                                    "0": "Abidjan Outer Anchorage",
                                    "1": "0.19702397777128508"
                                },
                                {
                                    "0": "Abu Dhabi",
                                    "1": "0.6334694981507141"
                                },
                                {
                                    "0": "Abu Dhabi Anchorage",
                                    "1": "-0.1870480801626124"
                                },
                                {
                                    "0": "Abu Dhabi Anchorage S2",
                                    "1": "-0.09975897608672663"
                                },
                                {
                                    "0": "Acajutla",
                                    "1": "-0.07731320646721312"
                                },
                                {
                                    "0": "Acajutla Anchorage",
                                    "1": "-0.21448179858646224"
                                },
                                {
                                    "0": "Acapulco",
                                    "1": "0.05985538565203597"
                                },
                                {
                                    "0": "Adelaide",
                                    "1": "0.19951795217345325"
                                },
                                {
                                    "0": "Aden",
                                    "1": "-0.23942154260814388"
                                },
                                {
                                    "0": "Aguadilla",
                                    "1": "-0.24191551701031205"
                                },
                                {
                                    "0": "Aioi",
                                    "1": "-0.2244576961951349"
                                },
                                {
                                    "0": "Aioi Anchorage",
                                    "1": "-0.22944564499947123"
                                },
                                {
                                    "0": "Ajman Anchorage",
                                    "1": "-0.24191551701031205"
                                },
                                {
                                    "0": "Akcansa (Canakkale) Anchorage",
                                    "1": "-0.24191551701031205"
                                },
                                {
                                    "0": "Aktau Anchorage Area No 126",
                                    "1": "-0.24191551701031205"
                                },
                                {
                                    "0": "Al Basra Oil Terminal Anchorage A",
                                    "1": "-0.24191551701031205"
                                },
                                {
                                    "0": "Al Basra Oil Terminal Anchorage B",
                                    "1": "-0.20699987537995773"
                                },
                                {
                                    "0": "Al Shaheen Terminal",
                                    "1": "-0.23942154260814388"
                                },
                                {
                                    "0": "Alabama Inland Ports",
                                    "1": "-0.24191551701031205"
                                },
                                {
                                    "0": "Alang",
                                    "1": "-0.24191551701031205"
                                },
                                {
                                    "0": "Alang Anchorage",
                                    "1": "-0.22944564499947123"
                                },
                                {
                                    "0": "Al-Basra Oil Terminal",
                                    "1": "-0.2319396194016394"
                                },
                                {
                                    "0": "Al-Basra Oil Terminal Anchorage A",
                                    "1": "-0.21946974739079855"
                                },
                                {
                                    "0": "Al-Basra Oil Terminal Anchorage B",
                                    "1": "-0.12719269451057644"
                                },
                                {
                                    "0": "Aleksandrovsk Sakhalinsky",
                                    "1": "-0.24191551701031205"
                                },
                                {
                                    "0": "Alexandria (Egypt)",
                                    "1": "0.1596143617387626"
                                },
                                {
                                    "0": "Alexandria (Egypt) Anchorage",
                                    "1": "0.19951795217345325"
                                },
                                {
                                    "0": "Alexandria LPG Anchorage",
                                    "1": "-0.2319396194016394"
                                },
                                {
                                    "0": "Algeciras Anchorage A",
                                    "1": "-0.24191551701031205"
                                },
                                {
                                    "0": "Algeciras Anchorage B",
                                    "1": "-0.24191551701031205"
                                },
                                {
                                    "0": "Algeciras Anchorage D",
                                    "1": "-0.24191551701031205"
                                },
                                {
                                    "0": "Algeciras Bay Anchorage",
                                    "1": "-0.20699987537995773"
                                },
                                {
                                    "0": "Alghero",
                                    "1": "-0.24191551701031205"
                                },
                                {
                                    "0": "Aliaga",
                                    "1": "-0.24191551701031205"
                                },
                                {
                                    "0": "Aliaga Anchorage No 7",
                                    "1": "-0.24191551701031205"
                                },
                                {
                                    "0": "Alicante",
                                    "1": "-0.24191551701031205"
                                },
                                {
                                    "0": "Altamira",
                                    "1": "-0.05985538565203597"
                                },
                                {
                                    "0": "Altamira Anchorage No. 1",
                                    "1": "-0.2369275682059757"
                                },
                                {
                                    "0": "Altamira Anchorage No. 2",
                                    "1": "-0.21697577298863038"
                                },
                                {
                                    "0": "Amagasaki-Nishinomiya-Ashiya",
                                    "1": "-0.13966256652141726"
                                },
                                {
                                    "0": "Amfilochia",
                                    "1": "-0.24191551701031205"
                                },
                                {
                                    "0": "Amsterdam",
                                    "1": "0.11222884809756745"
                                },
                                {
                                    "0": "Anchorage 32LD",
                                    "1": "-0.23942154260814388"
                                },
                                {
                                    "0": "Annaba Anchorage",
                                    "1": "-0.24191551701031205"
                                },
                                {
                                    "0": "Annacis Island",
                                    "1": "0.8978307847805396"
                                },
                                {
                                    "0": "Antibes",
                                    "1": "-0.21448179858646224"
                                },
                                {
                                    "0": "Antifer Anchorage",
                                    "1": "-0.2244576961951349"
                                },
                                {
                                    "0": "Antofagasta",
                                    "1": "-0.2369275682059757"
                                },
                                {
                                    "0": "Antwerp",
                                    "1": "1.6809387470613435"
                                },
                                {
                                    "0": "Antwerp Methaniers Pilot Boarding Area",
                                    "1": "-0.22196372179296672"
                                },
                                {
                                    "0": "Antwerp Wandelaar Pilot Boarding Area",
                                    "1": "0.07731320646721312"
                                },
                                {
                                    "0": "Aoshan Joint-Inspection Anchorage",
                                    "1": "-0.2094938497821259"
                                },
                                {
                                    "0": "Apapa",
                                    "1": "-0.08978307847805396"
                                },
                                {
                                    "0": "Apra Harbor",
                                    "1": "-0.08728910407588579"
                                },
                                {
                                    "0": "Aqaba",
                                    "1": "0.6135177029333687"
                                },
                                {
                                    "0": "Aratu",
                                    "1": "0.08479512967371762"
                                },
                                {
                                    "0": "Arawak Cay Port",
                                    "1": "-0.20699987537995773"
                                },
                                {
                                    "0": "Ardrossan (Australia)",
                                    "1": "-0.23942154260814388"
                                },
                                {
                                    "0": "Arica",
                                    "1": "-0.2244576961951349"
                                },
                                {
                                    "0": "Arica Anchorage",
                                    "1": "-0.22196372179296672"
                                },
                                {
                                    "0": "Aruba STS Transhipment Area",
                                    "1": "0.2593733378254892"
                                },
                                {
                                    "0": "Ashdod",
                                    "1": "-0.2369275682059757"
                                },
                                {
                                    "0": "Ashdod Anchorage",
                                    "1": "-0.23443359380380754"
                                },
                                {
                                    "0": "Assaluyeh",
                                    "1": "-0.24191551701031205"
                                },
                                {
                                    "0": "Astoria North Anchorage",
                                    "1": "-0.22944564499947123"
                                },
                                {
                                    "0": "Astoria South Anchorage",
                                    "1": "-0.22944564499947123"
                                },
                                {
                                    "0": "Atreco",
                                    "1": "-0.2369275682059757"
                                },
                                {
                                    "0": "Atucha",
                                    "1": "-0.03990359043469065"
                                },
                                {
                                    "0": "Auckland",
                                    "1": "0.48632500842279225"
                                },
                                {
                                    "0": "Auckland Anchor Berths",
                                    "1": "-0.13966256652141726"
                                },
                                {
                                    "0": "Augusta",
                                    "1": "-0.24191551701031205"
                                },
                                {
                                    "0": "Augusta Anchorage",
                                    "1": "-0.24191551701031205"
                                },
                                {
                                    "0": "Aussenelbe Reede Anchorage",
                                    "1": "-0.21697577298863038"
                                },
                                {
                                    "0": "Avola Anchorage",
                                    "1": "-0.19951795217345325"
                                },
                                {
                                    "0": "Bacolod Anchorages",
                                    "1": "-0.24191551701031205"
                                },
                                {
                                    "0": "Balao Terminal Pilot Waiting Area",
                                    "1": "-0.24191551701031205"
                                },
                                {
                                    "0": "Balboa",
                                    "1": "1.294372714725278"
                                },
                                {
                                    "0": "Balikpapan",
                                    "1": "0.37908410912956114"
                                },
                                {
                                    "0": "Balikpapan Anchorage",
                                    "1": "0.1945300033691169"
                                },
                                {
                                    "0": "Baltimore (USA)",
                                    "1": "2.2944564499947124"
                                },
                                {
                                    "0": "Baltimore (USA) Anchorage No. 1",
                                    "1": "-0.24191551701031205"
                                },
                                {
                                    "0": "Baltimore (USA) Anchorage No. 3 Lower",
                                    "1": "-0.19203602896694874"
                                },
                                {
                                    "0": "Baltimore (USA) Anchorage No. 3 Upper",
                                    "1": "-0.21946974739079855"
                                },
                                {
                                    "0": "Baltimore (USA) Anchorage No. 4",
                                    "1": "-0.22196372179296672"
                                },
                                {
                                    "0": "Baltimore (USA) Outer Anchorage",
                                    "1": "-0.06733730885854047"
                                },
                                {
                                    "0": "Bandar Abbas Merchant Anchorage",
                                    "1": "-0.15462641293442625"
                                },
                                {
                                    "0": "Bandar Abbas Naval Anchorages",
                                    "1": "-0.24191551701031205"
                                },
                                {
                                    "0": "Bandar Imam Khomeini Outer Anchorage",
                                    "1": "-0.2369275682059757"
                                },
                                {
                                    "0": "Bandar Imam Khomeini Outer Anchorage No. 2",
                                    "1": "-0.23942154260814388"
                                },
                                {
                                    "0": "Bandar Shahid Rejaee",
                                    "1": "-0.21697577298863038"
                                },
                                {
                                    "0": "Bandirma Anchorage No. 2",
                                    "1": "-0.24191551701031205"
                                },
                                {
                                    "0": "Bangkok Bar Anchorage",
                                    "1": "-0.24191551701031205"
                                },
                                {
                                    "0": "Banjarmasin",
                                    "1": "0.45639731559677427"
                                },
                                {
                                    "0": "Baoshan North Anchorage",
                                    "1": "-0.22695167059730306"
                                },
                                {
                                    "0": "Baozhen",
                                    "1": "-0.24191551701031205"
                                },
                                {
                                    "0": "Barcelona",
                                    "1": "0.6359634725528822"
                                },
                                {
                                    "0": "Barcelona Fondeadero Este Anchorage",
                                    "1": "-0.15712038733659442"
                                },
                                {
                                    "0": "Barcelona Fondeadero Sur Anchorage",
                                    "1": "-0.2369275682059757"
                                },
                                {
                                    "0": "Barletta",
                                    "1": "-0.23942154260814388"
                                },
                                {
                                    "0": "Barletta Anchorage B",
                                    "1": "-0.24191551701031205"
                                },
                                {
                                    "0": "Barrow Island",
                                    "1": "-0.24191551701031205"
                                },
                                {
                                    "0": "Basseterre",
                                    "1": "-0.18954205456478057"
                                },
                                {
                                    "0": "Bata",
                                    "1": "-0.23443359380380754"
                                },
                                {
                                    "0": "Bata Anchorage",
                                    "1": "-0.22695167059730306"
                                },
                                {
                                    "0": "Batangas",
                                    "1": "0.052373462445531475"
                                },
                                {
                                    "0": "Batangas Bay Anchorage",
                                    "1": "-0.2369275682059757"
                                },
                                {
                                    "0": "Batangas Bay Eastern Anchorages",
                                    "1": "-0.2020119265756214"
                                },
                                {
                                    "0": "Batangas Bay Easterrn Anchorages",
                                    "1": "-0.20450590097778956"
                                },
                                {
                                    "0": "Batangas Outer Anchorage",
                                    "1": "-0.21946974739079855"
                                },
                                {
                                    "0": "Batu Ampar",
                                    "1": "-0.19203602896694874"
                                },
                                {
                                    "0": "Batu Ampar Anchorage",
                                    "1": "-0.17956615695610792"
                                },
                                {
                                    "0": "Baybay",
                                    "1": "-0.24191551701031205"
                                },
                                {
                                    "0": "Bayonne (USA)",
                                    "1": "1.4115895116271817"
                                },
                                {
                                    "0": "Bayu Undan Terminal",
                                    "1": "-0.24191551701031205"
                                },
                                {
                                    "0": "Beaumont",
                                    "1": "-0.1945300033691169"
                                },
                                {
                                    "0": "Beicao Anchorage",
                                    "1": "3.6362146783611853"
                                },
                                {
                                    "0": "Beihai",
                                    "1": "-0.2369275682059757"
                                },
                                {
                                    "0": "Beiliang",
                                    "1": "-0.20450590097778956"
                                },
                                {
                                    "0": "Beira",
                                    "1": "-0.2369275682059757"
                                },
                                {
                                    "0": "Beira Offshore STS",
                                    "1": "-0.2244576961951349"
                                },
                                {
                                    "0": "Beirut",
                                    "1": "0.10724089929323112"
                                },
                                {
                                    "0": "Beirut Anchorage",
                                    "1": "-0.08230115527154946"
                                },
                                {
                                    "0": "Belawan",
                                    "1": "0.014963846413008993"
                                },
                                {
                                    "0": "Belawan Anchorage",
                                    "1": "-0.20699987537995773"
                                },
                                {
                                    "0": "Belekeri",
                                    "1": "-0.24191551701031205"
                                },
                                {
                                    "0": "Belem",
                                    "1": "-0.24191551701031205"
                                },
                                {
                                    "0": "Belem Outer Anchorage",
                                    "1": "-0.09726500168455846"
                                },
                                {
                                    "0": "Bellingham General Anchorage",
                                    "1": "-0.24191551701031205"
                                },
                                {
                                    "0": "Bembridge Anchorage",
                                    "1": "-0.11721679690190377"
                                },
                                {
                                    "0": "Bendorf",
                                    "1": "-0.24191551701031205"
                                },
                                {
                                    "0": "Benghazi",
                                    "1": "-0.2369275682059757"
                                },
                                {
                                    "0": "Benghazi Anchorage",
                                    "1": "-0.22944564499947123"
                                },
                                {
                                    "0": "Benicia",
                                    "1": "0.39155398114040196"
                                },
                                {
                                    "0": "Benteng",
                                    "1": "-0.24191551701031205"
                                },
                                {
                                    "0": "Berong",
                                    "1": "-0.24191551701031205"
                                },
                                {
                                    "0": "Big Stone Beach Anchorage",
                                    "1": "0.15712038733659442"
                                },
                                {
                                    "0": "Bima Terminal",
                                    "1": "-0.14714448972792177"
                                },
                                {
                                    "0": "Bintulu Gas Tanker Anchorage",
                                    "1": "-0.24191551701031205"
                                },
                                {
                                    "0": "Bohai Peng Lai FPSO",
                                    "1": "-0.23942154260814388"
                                },
                                {
                                    "0": "Bonga Offshore Terminal",
                                    "1": "-0.24191551701031205"
                                },
                                {
                                    "0": "Bongkot Terminal",
                                    "1": "-0.24191551701031205"
                                },
                                {
                                    "0": "Bopec Terminal Anchorage",
                                    "1": "-0.1670962849452671"
                                },
                                {
                                    "0": "Borg Havn IKS",
                                    "1": "-0.24191551701031205"
                                },
                                {
                                    "0": "Borusan",
                                    "1": "0.11721679690190377"
                                },
                                {
                                    "0": "Borusan Anchorage",
                                    "1": "0.014963846413008993"
                                },
                                {
                                    "0": "Boryeong",
                                    "1": "-0.24191551701031205"
                                },
                                {
                                    "0": "Boryeong Anchor Berth A-2",
                                    "1": "-0.24191551701031205"
                                },
                                {
                                    "0": "Bosphorus TSS Lane Northbound",
                                    "1": "-0.1596143617387626"
                                },
                                {
                                    "0": "Bosphorus TSS Lane Southbound",
                                    "1": "-0.12469872010840827"
                                },
                                {
                                    "0": "Boston (USA)",
                                    "1": "0.11971077130407194"
                                },
                                {
                                    "0": "Boston (USA) Outer Anchorage",
                                    "1": "-0.19702397777128508"
                                },
                                {
                                    "0": "Botany Bay",
                                    "1": "-0.23942154260814388"
                                },
                                {
                                    "0": "Botany Bay Anchorage",
                                    "1": "0.1446505153257536"
                                },
                                {
                                    "0": "Botas (Ceyhan) Oil Terminal",
                                    "1": "-0.24191551701031205"
                                },
                                {
                                    "0": "Boulogne-sur-Mer Anchorage",
                                    "1": "-0.24191551701031205"
                                },
                                {
                                    "0": "Bozcaada North Anchorage",
                                    "1": "-0.24191551701031205"
                                },
                                {
                                    "0": "Brake",
                                    "1": "-0.2319396194016394"
                                },
                                {
                                    "0": "Bremen",
                                    "1": "-0.20699987537995773"
                                },
                                {
                                    "0": "Bremen Neue-Weser-Nord-Reede Anchorage",
                                    "1": "-0.09726500168455846"
                                },
                                {
                                    "0": "Bremerhaven",
                                    "1": "2.723420047167637"
                                },
                                {
                                    "0": "Brest",
                                    "1": "-0.24191551701031205"
                                },
                                {
                                    "0": "Bridgetown",
                                    "1": "-0.15462641293442625"
                                },
                                {
                                    "0": "Brighton",
                                    "1": "-0.23942154260814388"
                                },
                                {
                                    "0": "Brisbane",
                                    "1": "1.3966256652141726"
                                },
                                {
                                    "0": "Brisbane Anchorage",
                                    "1": "0.8279995015198309"
                                },
                                {
                                    "0": "Brisbane Outer Anchorage",
                                    "1": "1.5188304109204127"
                                },
                                {
                                    "0": "Bristol",
                                    "1": "0.05486743684769964"
                                },
                                {
                                    "0": "Brunsbuttel",
                                    "1": "-0.2369275682059757"
                                },
                                {
                                    "0": "Brunswick",
                                    "1": "1.1771559178233741"
                                },
                                {
                                    "0": "BTC Terminal Ceyhan",
                                    "1": "-0.23942154260814388"
                                },
                                {
                                    "0": "Buenaventura",
                                    "1": "0.3441684674992068"
                                },
                                {
                                    "0": "Buenaventura Anchorage",
                                    "1": "0.4613852644011106"
                                },
                                {
                                    "0": "Bunga Orkid Terminal",
                                    "1": "-0.23942154260814388"
                                },
                                {
                                    "0": "Bunyu",
                                    "1": "-0.24191551701031205"
                                },
                                {
                                    "0": "Busan",
                                    "1": "-0.21198782418429407"
                                },
                                {
                                    "0": "Busan New Port",
                                    "1": "0.19203602896694874"
                                },
                                {
                                    "0": "Busan Section N Anchorage",
                                    "1": "-0.17707218255393975"
                                },
                                {
                                    "0": "Busan West Anchorage",
                                    "1": "-0.24191551701031205"
                                },
                                {
                                    "0": "BZ 28 Terminal",
                                    "1": "-0.23942154260814388"
                                },
                                {
                                    "0": "Cadiz",
                                    "1": "-0.2319396194016394"
                                },
                                {
                                    "0": "Cadiz Anchorage",
                                    "1": "-0.21198782418429407"
                                },
                                {
                                    "0": "Cadiz OPL Anchorage",
                                    "1": "-0.24191551701031205"
                                },
                                {
                                    "0": "Caen",
                                    "1": "-0.24191551701031205"
                                },
                                {
                                    "0": "Cagliari Zona Bravo Anchorage",
                                    "1": "-0.24191551701031205"
                                },
                                {
                                    "0": "Cai Lan",
                                    "1": "-0.22695167059730306"
                                },
                                {
                                    "0": "Cai Mep",
                                    "1": "-0.22695167059730306"
                                },
                                {
                                    "0": "Cai Mep Anchorages",
                                    "1": "-0.24191551701031205"
                                },
                                {
                                    "0": "Caishi",
                                    "1": "-0.24191551701031205"
                                },
                                {
                                    "0": "Calcasieu Pass South Anchorage",
                                    "1": "-0.24191551701031205"
                                },
                                {
                                    "0": "Caldera (Costa Rica)",
                                    "1": "-0.10474692489106295"
                                },
                                {
                                    "0": "Callao",
                                    "1": "1.072408992932311"
                                },
                                {
                                    "0": "Callao Anchorages",
                                    "1": "0.8255055271176628"
                                },
                                {
                                    "0": "Camaret",
                                    "1": "-0.24191551701031205"
                                },
                                {
                                    "0": "Campana",
                                    "1": "-0.21697577298863038"
                                },
                                {
                                    "0": "Campana Anchorage",
                                    "1": "0.6509273189658912"
                                },
                                {
                                    "0": "Cannes",
                                    "1": "-0.1870480801626124"
                                },
                                {
                                    "0": "Canvey Island",
                                    "1": "-0.2369275682059757"
                                },
                                {
                                    "0": "Caofeidian",
                                    "1": "-0.2369275682059757"
                                },
                                {
                                    "0": "Caofeidian East Anchorage",
                                    "1": "-0.08230115527154946"
                                },
                                {
                                    "0": "Caofeidian West Anchorage",
                                    "1": "-0.22196372179296672"
                                },
                                {
                                    "0": "Cape Cod Canal",
                                    "1": "-0.1296866689127446"
                                },
                                {
                                    "0": "Cape Cuvier",
                                    "1": "-0.24191551701031205"
                                },
                                {
                                    "0": "Cape Town",
                                    "1": "-0.23443359380380754"
                                },
                                {
                                    "0": "Cape Town No 2 General Anchorage",
                                    "1": "-0.24191551701031205"
                                },
                                {
                                    "0": "Cape Town No 3 Small Craft Anchorage",
                                    "1": "-0.24191551701031205"
                                },
                                {
                                    "0": "Carnarvon",
                                    "1": "-0.24191551701031205"
                                },
                                {
                                    "0": "Caronte",
                                    "1": "-0.22944564499947123"
                                },
                                {
                                    "0": "Cartagena (Colombia)",
                                    "1": "0.6309755237485458"
                                },
                                {
                                    "0": "Cartagena (Colombia) Anchorage",
                                    "1": "0.0648433344563723"
                                },
                                {
                                    "0": "Casablanca",
                                    "1": "-0.09726500168455846"
                                },
                                {
                                    "0": "Casablanca Anchorage",
                                    "1": "-0.08728910407588579"
                                },
                                {
                                    "0": "Casablanca East Anchorage",
                                    "1": "-0.23942154260814388"
                                },
                                {
                                    "0": "Castellon",
                                    "1": "-0.24191551701031205"
                                },
                                {
                                    "0": "Castellon Outer Anchorage",
                                    "1": "-0.24191551701031205"
                                },
                                {
                                    "0": "Castries",
                                    "1": "-0.19203602896694874"
                                },
                                {
                                    "0": "Cebu",
                                    "1": "-0.23942154260814388"
                                },
                                {
                                    "0": "CFD 11 Terminal",
                                    "1": "-0.22196372179296672"
                                },
                                {
                                    "0": "Chaguaramas Anchorage",
                                    "1": "0.4489153923902698"
                                },
                                {
                                    "0": "Challis Venture Terminal",
                                    "1": "-0.24191551701031205"
                                },
                                {
                                    "0": "Changi General Purposes Anchorage (ACGP)",
                                    "1": "-0.2369275682059757"
                                },
                                {
                                    "0": "Changjiang Mouth No 1 Anchorage",
                                    "1": "4.541527386348229"
                                },
                                {
                                    "0": "Changjiang Mouth No 2 Anchorage",
                                    "1": "2.6161791478744054"
                                },
                                {
                                    "0": "Changjiang Mouth No 3 Anchorage",
                                    "1": "0.7132766790200953"
                                },
                                {
                                    "0": "Changsha",
                                    "1": "-0.23942154260814388"
                                },
                                {
                                    "0": "Changshu Port Ocean Liners Anchorage",
                                    "1": "-0.23942154260814388"
                                },
                                {
                                    "0": "Changshu Port Xiahailun Anchorage",
                                    "1": "-0.2319396194016394"
                                },
                                {
                                    "0": "Changzhou",
                                    "1": "-0.24191551701031205"
                                },
                                {
                                    "0": "Chanthaburi",
                                    "1": "-0.24191551701031205"
                                },
                                {
                                    "0": "Charleston",
                                    "1": "0.1521324385322581"
                                },
                                {
                                    "0": "Charleston Commercial Anchorage A",
                                    "1": "-0.24191551701031205"
                                },
                                {
                                    "0": "Charleston Outer Anchorage",
                                    "1": "0.3990359043469065"
                                },
                                {
                                    "0": "Chemainus",
                                    "1": "-0.2319396194016394"
                                },
                                {
                                    "0": "Chennai",
                                    "1": "-0.017457820815177157"
                                },
                                {
                                    "0": "Cherbourg No 1 Anchorage",
                                    "1": "-0.24191551701031205"
                                },
                                {
                                    "0": "Cherbourg No 2 Anchorage",
                                    "1": "-0.24191551701031205"
                                },
                                {
                                    "0": "Chernomorsk",
                                    "1": "-0.24191551701031205"
                                },
                                {
                                    "0": "Cherry Island General Anchorage 5",
                                    "1": "-0.24191551701031205"
                                },
                                {
                                    "0": "Cherry Island General Anchorage 6",
                                    "1": "-0.2244576961951349"
                                },
                                {
                                    "0": "Chiba",
                                    "1": "0.10973487369539928"
                                },
                                {
                                    "0": "Chiba Anchorage",
                                    "1": "0.27184320983633004"
                                },
                                {
                                    "0": "Chittagong",
                                    "1": "-0.06983128326070863"
                                },
                                {
                                    "0": "Chittagong Anchorages",
                                    "1": "0.02244576961951349"
                                },
                                {
                                    "0": "Chiwan",
                                    "1": "-0.24191551701031205"
                                },
                                {
                                    "0": "Chongming",
                                    "1": "-0.1371685921192491"
                                },
                                {
                                    "0": "Chongming Anchorage",
                                    "1": "-0.21198782418429407"
                                },
                                {
                                    "0": "Chuansha",
                                    "1": "-0.2244576961951349"
                                },
                                {
                                    "0": "Cidade de Santos MV20 FPSO",
                                    "1": "-0.24191551701031205"
                                },
                                {
                                    "0": "Cinta",
                                    "1": "-0.21448179858646224"
                                },
                                {
                                    "0": "Cinta Anchorage",
                                    "1": "-0.24191551701031205"
                                },
                                {
                                    "0": "Civitavecchia",
                                    "1": "-0.19702397777128508"
                                },
                                {
                                    "0": "Cochin Anchorage",
                                    "1": "-0.24191551701031205"
                                },
                                {
                                    "0": "Coco Solo North",
                                    "1": "0.24440949141248022"
                                },
                                {
                                    "0": "Cologne",
                                    "1": "-0.24191551701031205"
                                },
                                {
                                    "0": "Colombo",
                                    "1": "-0.09975897608672663"
                                },
                                {
                                    "0": "Colombo Inner Anchorage",
                                    "1": "-0.10973487369539928"
                                },
                                {
                                    "0": "Colombo Outer Anchorage",
                                    "1": "-0.019951795217345324"
                                },
                                {
                                    "0": "Colombo Southern Anchorage",
                                    "1": "-0.10225295048889478"
                                },
                                {
                                    "0": "Colon",
                                    "1": "0.7382164230417769"
                                },
                                {
                                    "0": "Come By Chance",
                                    "1": "-0.24191551701031205"
                                },
                                {
                                    "0": "Conakry",
                                    "1": "-0.1521324385322581"
                                },
                                {
                                    "0": "Constantza",
                                    "1": "-0.19951795217345325"
                                },
                                {
                                    "0": "Constantza Anchorage No. 1",
                                    "1": "-0.23942154260814388"
                                },
                                {
                                    "0": "Constantza Anchorage No. 2",
                                    "1": "-0.22944564499947123"
                                },
                                {
                                    "0": "Constantza Anchorage No. 3",
                                    "1": "-0.23942154260814388"
                                },
                                {
                                    "0": "Corinto",
                                    "1": "-0.052373462445531475"
                                },
                                {
                                    "0": "Cotonou",
                                    "1": "0.21448179858646224"
                                },
                                {
                                    "0": "Cotonou Anchorage",
                                    "1": "0.07731320646721312"
                                },
                                {
                                    "0": "Cottonwood Island Anchorage",
                                    "1": "-0.23443359380380754"
                                },
                                {
                                    "0": "CPC Terminal SPBM 1",
                                    "1": "-0.24191551701031205"
                                },
                                {
                                    "0": "CPC Terminal SPBM 2",
                                    "1": "-0.24191551701031205"
                                },
                                {
                                    "0": "Cristobal",
                                    "1": "-0.23942154260814388"
                                },
                                {
                                    "0": "Cuddalore",
                                    "1": "-0.24191551701031205"
                                },
                                {
                                    "0": "Cumana",
                                    "1": "-0.24191551701031205"
                                },
                                {
                                    "0": "Cuxhaven",
                                    "1": "-0.17956615695610792"
                                },
                                {
                                    "0": "Dabhol",
                                    "1": "-0.24191551701031205"
                                },
                                {
                                    "0": "Daesan",
                                    "1": "-0.24191551701031205"
                                },
                                {
                                    "0": "Daesan Anchorage No 2",
                                    "1": "2.8905163321129037"
                                },
                                {
                                    "0": "Daesan Anchorages",
                                    "1": "-0.22695167059730306"
                                },
                                {
                                    "0": "Daesan Mazhi Dangerous Goods Anchorage",
                                    "1": "-0.2369275682059757"
                                },
                                {
                                    "0": "Dafeng Anchorage",
                                    "1": "-0.24191551701031205"
                                },
                                {
                                    "0": "Dagang (Qingdao)",
                                    "1": "-0.1596143617387626"
                                },
                                {
                                    "0": "Dagukou Chemical Disperse Anchorage",
                                    "1": "-0.1945300033691169"
                                },
                                {
                                    "0": "Dagukou North Anchorage",
                                    "1": "1.8056374671697517"
                                },
                                {
                                    "0": "Dagukou Quarantine Anchorage",
                                    "1": "0.5885779589116871"
                                },
                                {
                                    "0": "Dagukou South Anchorage",
                                    "1": "0.9327464264108939"
                                },
                                {
                                    "0": "Dahej",
                                    "1": "-0.24191551701031205"
                                },
                                {
                                    "0": "Dahej Anchorage",
                                    "1": "-0.2369275682059757"
                                },
                                {
                                    "0": "Dai Hung Offshore Terminals STS Area",
                                    "1": "-0.18455410576044423"
                                },
                                {
                                    "0": "Daishan",
                                    "1": "-0.21198782418429407"
                                },
                                {
                                    "0": "Dakar",
                                    "1": "-0.037409616032522484"
                                },
                                {
                                    "0": "Dakar Anchorage",
                                    "1": "-0.10225295048889478"
                                },
                                {
                                    "0": "Dalian",
                                    "1": "-0.22695167059730306"
                                },
                                {
                                    "0": "Dalian Cargo Vessel Anchorage",
                                    "1": "-0.1371685921192491"
                                },
                                {
                                    "0": "Dalian No 1 Quarantine Anchorage",
                                    "1": "-0.20699987537995773"
                                },
                                {
                                    "0": "Dalian No 2 Quarantine Anchorage",
                                    "1": "-0.23942154260814388"
                                },
                                {
                                    "0": "Dalian Oil Tanker Anchorage",
                                    "1": "-0.2369275682059757"
                                },
                                {
                                    "0": "Dalian Outer Anchorage",
                                    "1": "-0.02244576961951349"
                                },
                                {
                                    "0": "Dalian Tanker Anchorage",
                                    "1": "-0.2369275682059757"
                                },
                                {
                                    "0": "Damietta Anchorage",
                                    "1": "-0.23443359380380754"
                                },
                                {
                                    "0": "Dammam",
                                    "1": "1.384155793203332"
                                },
                                {
                                    "0": "Dammam E Anchorage",
                                    "1": "1.8530229808109469"
                                },
                                {
                                    "0": "Dammam W Anchorage",
                                    "1": "-0.24191551701031205"
                                },
                                {
                                    "0": "Dandong",
                                    "1": "-0.24191551701031205"
                                },
                                {
                                    "0": "Dar es Salaam",
                                    "1": "0.4913129572271286"
                                },
                                {
                                    "0": "Dar es Salaam Anchorages",
                                    "1": "1.1472282249973562"
                                },
                                {
                                    "0": "Dardanelles TSS Lane Northbound",
                                    "1": "0.4713611620097833"
                                },
                                {
                                    "0": "Dardanelles TSS Lane Southbound",
                                    "1": "-0.0798071808693813"
                                },
                                {
                                    "0": "Dardanelles TTS Lane Southbound",
                                    "1": "0.32920462108619786"
                                },
                                {
                                    "0": "Darwin",
                                    "1": "-0.18954205456478057"
                                },
                                {
                                    "0": "Darwin Anchor Berth A2",
                                    "1": "-0.24191551701031205"
                                },
                                {
                                    "0": "Darwin Outer Anchorages",
                                    "1": "-0.24191551701031205"
                                },
                                {
                                    "0": "Darwin SPM Anchorage",
                                    "1": "-0.23942154260814388"
                                },
                                {
                                    "0": "Dayao Bay",
                                    "1": "-0.07731320646721312"
                                },
                                {
                                    "0": "Deauville",
                                    "1": "-0.24191551701031205"
                                },
                                {
                                    "0": "Degrad des Cannes",
                                    "1": "-0.16959025934743524"
                                },
                                {
                                    "0": "Dellys",
                                    "1": "-0.24191551701031205"
                                },
                                {
                                    "0": "Deltaport",
                                    "1": "-0.24191551701031205"
                                },
                                {
                                    "0": "Derince",
                                    "1": "0.19951795217345325"
                                },
                                {
                                    "0": "Digang",
                                    "1": "-0.24191551701031205"
                                },
                                {
                                    "0": "Dighi",
                                    "1": "-0.24191551701031205"
                                },
                                {
                                    "0": "Diliskelesi",
                                    "1": "-0.03990359043469065"
                                },
                                {
                                    "0": "Diliskelesi Anchorage",
                                    "1": "-0.24191551701031205"
                                },
                                {
                                    "0": "Djibouti",
                                    "1": "0.04239756483685881"
                                },
                                {
                                    "0": "Djibouti Outer Anchorage",
                                    "1": "-0.04738551364119514"
                                },
                                {
                                    "0": "Djibouti Waiting Anchorage",
                                    "1": "-0.24191551701031205"
                                },
                                {
                                    "0": "Doha (Qatar)",
                                    "1": "0.8654091175523534"
                                },
                                {
                                    "0": "Doha (Qatar) Anchorage A",
                                    "1": "0.09227705288022212"
                                },
                                {
                                    "0": "Doha (Qatar) Anchorage B",
                                    "1": "-0.21448179858646224"
                                },
                                {
                                    "0": "Dongdu",
                                    "1": "-0.21697577298863038"
                                },
                                {
                                    "0": "Dongtai",
                                    "1": "-0.24191551701031205"
                                },
                                {
                                    "0": "Dongwan",
                                    "1": "-0.23942154260814388"
                                },
                                {
                                    "0": "Dongying",
                                    "1": "-0.24191551701031205"
                                },
                                {
                                    "0": "Douala",
                                    "1": "-0.17707218255393975"
                                },
                                {
                                    "0": "Douala Anchorage",
                                    "1": "-0.08479512967371762"
                                },
                                {
                                    "0": "Dover Strait",
                                    "1": "1.838059134397938"
                                },
                                {
                                    "0": "DP World Djazair",
                                    "1": "-0.22695167059730306"
                                },
                                {
                                    "0": "DP World Djazair Anchorage 1",
                                    "1": "-0.2369275682059757"
                                },
                                {
                                    "0": "DP World Djazair Anchorage 2",
                                    "1": "-0.22695167059730306"
                                },
                                {
                                    "0": "DP World Djen-Djen",
                                    "1": "-0.04489153923902698"
                                },
                                {
                                    "0": "DP World Djen-Djen Anchorage",
                                    "1": "0.06983128326070863"
                                },
                                {
                                    "0": "Dublin",
                                    "1": "-0.23942154260814388"
                                },
                                {
                                    "0": "Duisburg (Ruhrort)",
                                    "1": "-0.24191551701031205"
                                },
                                {
                                    "0": "Dulang Marine Terminal",
                                    "1": "-0.22944564499947123"
                                },
                                {
                                    "0": "Dumai",
                                    "1": "-0.24191551701031205"
                                },
                                {
                                    "0": "Dunkirk",
                                    "1": "-0.23942154260814388"
                                },
                                {
                                    "0": "Durban",
                                    "1": "1.3966256652141726"
                                },
                                {
                                    "0": "Durban Outer Anchorage",
                                    "1": "2.3418419636359076"
                                },
                                {
                                    "0": "Durres",
                                    "1": "-0.24191551701031205"
                                },
                                {
                                    "0": "Durres Bay Anchorage",
                                    "1": "-0.24191551701031205"
                                },
                                {
                                    "0": "East London",
                                    "1": "0.0723252576628768"
                                },
                                {
                                    "0": "East Port Said Bypass",
                                    "1": "0.995095786465098"
                                },
                                {
                                    "0": "East Wight Anchorage",
                                    "1": "0.8703970663566898"
                                },
                                {
                                    "0": "Eastern Anchorage (AEW)",
                                    "1": "0.8329874503241673"
                                },
                                {
                                    "0": "Eastern Bunkering A Anchorage (AEBA)",
                                    "1": "-0.014963846413008993"
                                },
                                {
                                    "0": "Eastern Bunkering B Anchorage (AEBB)",
                                    "1": "0.46637321320544695"
                                },
                                {
                                    "0": "Eastern Bunkering C Anchorage (AEBC)",
                                    "1": "1.5986375917897941"
                                },
                                {
                                    "0": "Eastern Holding A Anchorage (AEHA)",
                                    "1": "-0.0798071808693813"
                                },
                                {
                                    "0": "Eastern Holding B Anchorage (AEHB)",
                                    "1": "0.11222884809756745"
                                },
                                {
                                    "0": "Eastern Passage",
                                    "1": "-0.017457820815177157"
                                },
                                {
                                    "0": "Eastern Petroleum A Anchorage (AEPA)",
                                    "1": "-0.024939744021681656"
                                },
                                {
                                    "0": "Eastern Petroleum B Anchorage (AEPBB)",
                                    "1": "-0.24191551701031205"
                                },
                                {
                                    "0": "Eastern Petroleum C Anchorage (AEPBC)",
                                    "1": "-0.17707218255393975"
                                },
                                {
                                    "0": "Eastern Special Purposes A Anchorage (AESPA)",
                                    "1": "1.1796498922255423"
                                },
                                {
                                    "0": "Eemshaven",
                                    "1": "-0.22944564499947123"
                                },
                                {
                                    "0": "Eilat",
                                    "1": "-0.08230115527154946"
                                },
                                {
                                    "0": "El Dekheila",
                                    "1": "-0.2369275682059757"
                                },
                                {
                                    "0": "El Palito Anchorage",
                                    "1": "-0.24191551701031205"
                                },
                                {
                                    "0": "Elbe Approach Outer Anchorage",
                                    "1": "0"
                                },
                                {
                                    "0": "Elbe Approach Reede Anchorage",
                                    "1": "-0.24191551701031205"
                                },
                                {
                                    "0": "Eleusis",
                                    "1": "-0.24191551701031205"
                                },
                                {
                                    "0": "Emden",
                                    "1": "0.44392744358593345"
                                },
                                {
                                    "0": "Ennore",
                                    "1": "-0.037409616032522484"
                                },
                                {
                                    "0": "Erawan Terminal",
                                    "1": "-0.22695167059730306"
                                },
                                {
                                    "0": "Escobar LNG",
                                    "1": "-0.22196372179296672"
                                },
                                {
                                    "0": "Esmeraldas",
                                    "1": "-0.037409616032522484"
                                },
                                {
                                    "0": "Esmeraldas Pilot Boarding Anchorage",
                                    "1": "-0.24191551701031205"
                                },
                                {
                                    "0": "Esmeraldas Quarantine Anchorage",
                                    "1": "-0.2369275682059757"
                                },
                                {
                                    "0": "Essequibo River",
                                    "1": "-0.11971077130407194"
                                },
                                {
                                    "0": "Europoort",
                                    "1": "0.024939744021681656"
                                },
                                {
                                    "0": "Everett (Washington)",
                                    "1": "-0.1945300033691169"
                                },
                                {
                                    "0": "Everingen Anchorage",
                                    "1": "-0.23443359380380754"
                                },
                                {
                                    "0": "Ezhou",
                                    "1": "-0.24191551701031205"
                                },
                                {
                                    "0": "Falmouth",
                                    "1": "-0.23942154260814388"
                                },
                                {
                                    "0": "Falmouth Bay Anchorage",
                                    "1": "-0.2319396194016394"
                                },
                                {
                                    "0": "Fangcheng Anchor Berths B1 to B10",
                                    "1": "-0.24191551701031205"
                                },
                                {
                                    "0": "Fangcheng No 1 Anchorage",
                                    "1": "-0.24191551701031205"
                                },
                                {
                                    "0": "Fawley",
                                    "1": "-0.08479512967371762"
                                },
                                {
                                    "0": "Fengxian",
                                    "1": "-0.24191551701031205"
                                },
                                {
                                    "0": "Fethiye",
                                    "1": "-0.24191551701031205"
                                },
                                {
                                    "0": "Fort-de-France",
                                    "1": "-0.052373462445531475"
                                },
                                {
                                    "0": "Fort-de-France Tanker Anchorage",
                                    "1": "-0.24191551701031205"
                                },
                                {
                                    "0": "Fraser River Port",
                                    "1": "-0.22196372179296672"
                                },
                                {
                                    "0": "Fredericia",
                                    "1": "-0.21198782418429407"
                                },
                                {
                                    "0": "Fredericia FA1 Anchorage",
                                    "1": "-0.24191551701031205"
                                },
                                {
                                    "0": "Freeport (Bahamas)",
                                    "1": "-0.17457820815177158"
                                },
                                {
                                    "0": "Freeport (Bahamas) Anchorage",
                                    "1": "-0.23443359380380754"
                                },
                                {
                                    "0": "Freetown",
                                    "1": "-0.2369275682059757"
                                },
                                {
                                    "0": "Freetown Anchor Berths",
                                    "1": "-0.24191551701031205"
                                },
                                {
                                    "0": "Freetown Anchorage",
                                    "1": "-0.21946974739079855"
                                },
                                {
                                    "0": "Fremantle",
                                    "1": "0.5860839845095189"
                                },
                                {
                                    "0": "Fremantle Anchorage N",
                                    "1": "0.5362044964661555"
                                },
                                {
                                    "0": "Fujairah Anchorage A",
                                    "1": "-0.23942154260814388"
                                },
                                {
                                    "0": "Fujairah Anchorage B",
                                    "1": "-0.09726500168455846"
                                },
                                {
                                    "0": "Fujairah Anchorage C",
                                    "1": "-0.2319396194016394"
                                },
                                {
                                    "0": "Fujairah Anchorage D",
                                    "1": "-0.24191551701031205"
                                },
                                {
                                    "0": "Fujairah Anchorage N",
                                    "1": "-0.23942154260814388"
                                },
                                {
                                    "0": "Fujairah Anchorage No 2",
                                    "1": "0.3416744930970387"
                                },
                                {
                                    "0": "Fujairah Anchorage S",
                                    "1": "-0.1945300033691169"
                                },
                                {
                                    "0": "Fujairah Anchorage T",
                                    "1": "-0.24191551701031205"
                                },
                                {
                                    "0": "Fujairah Anchorage W",
                                    "1": "-0.24191551701031205"
                                },
                                {
                                    "0": "Fukuyama Quarantine Anchorage",
                                    "1": "-0.2319396194016394"
                                },
                                {
                                    "0": "Fukuyama Tsuneishi Shipyard",
                                    "1": "-0.23942154260814388"
                                },
                                {
                                    "0": "Funabashi",
                                    "1": "-0.21198782418429407"
                                },
                                {
                                    "0": "Funafuti",
                                    "1": "-0.24191551701031205"
                                },
                                {
                                    "0": "Fushiki",
                                    "1": "-0.2369275682059757"
                                },
                                {
                                    "0": "Gadani",
                                    "1": "-0.24191551701031205"
                                },
                                {
                                    "0": "Galveston",
                                    "1": "0.2967829538580117"
                                },
                                {
                                    "0": "Galveston - Bolivar Roads Anchorage",
                                    "1": "-0.2319396194016394"
                                },
                                {
                                    "0": "Galveston Approach Anchorage",
                                    "1": "0.02743371842384982"
                                },
                                {
                                    "0": "Galveston Deep Water Anchorage",
                                    "1": "-0.06733730885854047"
                                },
                                {
                                    "0": "Gamagori",
                                    "1": "0.09227705288022212"
                                },
                                {
                                    "0": "Gamagori Anchorage",
                                    "1": "-0.02743371842384982"
                                },
                                {
                                    "0": "Ganjingzi",
                                    "1": "-0.24191551701031205"
                                },
                                {
                                    "0": "Gaolan",
                                    "1": "-0.24191551701031205"
                                },
                                {
                                    "0": "Garrucha Anchorage",
                                    "1": "-0.24191551701031205"
                                },
                                {
                                    "0": "Gebe Island",
                                    "1": "-0.24191551701031205"
                                },
                                {
                                    "0": "Gela Anchorage B",
                                    "1": "-0.24191551701031205"
                                },
                                {
                                    "0": "Gelendzhik",
                                    "1": "-0.24191551701031205"
                                },
                                {
                                    "0": "Gelibolu Explosives Anchorage",
                                    "1": "-0.24191551701031205"
                                },
                                {
                                    "0": "Gemlik",
                                    "1": "-0.22196372179296672"
                                },
                                {
                                    "0": "Gemlik Anchorage",
                                    "1": "-0.14963846413008994"
                                },
                                {
                                    "0": "Gemlik Explosives Anchorage",
                                    "1": "-0.2244576961951349"
                                },
                                {
                                    "0": "General San Martin",
                                    "1": "-0.2319396194016394"
                                },
                                {
                                    "0": "General San Martin Anchor Berth No 1",
                                    "1": "-0.24191551701031205"
                                },
                                {
                                    "0": "General San Martin Anchor Berth No 4",
                                    "1": "-0.24191551701031205"
                                },
                                {
                                    "0": "Genoa",
                                    "1": "-0.17707218255393975"
                                },
                                {
                                    "0": "Genoa Zona Alfa Anchorage",
                                    "1": "-0.1945300033691169"
                                },
                                {
                                    "0": "Genoa Zona Delta Anchorage",
                                    "1": "-0.23942154260814388"
                                },
                                {
                                    "0": "Georgetown (Guyana)",
                                    "1": "-0.08479512967371762"
                                },
                                {
                                    "0": "Gera Bay",
                                    "1": "-0.23942154260814388"
                                },
                                {
                                    "0": "Ghent",
                                    "1": "-0.17457820815177158"
                                },
                                {
                                    "0": "Gibraltar",
                                    "1": "-0.23942154260814388"
                                },
                                {
                                    "0": "Gibraltar Bay Anchorage",
                                    "1": "-0.15462641293442625"
                                },
                                {
                                    "0": "Gibraltar East Anchorage",
                                    "1": "-0.24191551701031205"
                                },
                                {
                                    "0": "Gijon",
                                    "1": "-0.2369275682059757"
                                },
                                {
                                    "0": "Gijon Dangerous Cargoes Anchorage",
                                    "1": "-0.24191551701031205"
                                },
                                {
                                    "0": "Gingoog",
                                    "1": "-0.24191551701031205"
                                },
                                {
                                    "0": "Gioia Tauro",
                                    "1": "0.1870480801626124"
                                },
                                {
                                    "0": "Giurgiu",
                                    "1": "-0.24191551701031205"
                                },
                                {
                                    "0": "Gladstone",
                                    "1": "-0.2319396194016394"
                                },
                                {
                                    "0": "Gladstone Outer Harbour Anchorage",
                                    "1": "-0.2244576961951349"
                                },
                                {
                                    "0": "Godbout",
                                    "1": "-0.23942154260814388"
                                },
                                {
                                    "0": "Golfo di Genova Anchorage",
                                    "1": "0.19203602896694874"
                                },
                                {
                                    "0": "Gothenburg",
                                    "1": "-0.13218064331491278"
                                },
                                {
                                    "0": "Gothenburg Inner Anchorage",
                                    "1": "-0.21946974739079855"
                                },
                                {
                                    "0": "Gouangzhou Anchorage Berths",
                                    "1": "0.15462641293442625"
                                },
                                {
                                    "0": "Grays Harbor",
                                    "1": "-0.024939744021681656"
                                },
                                {
                                    "0": "Greenock Anchorage A",
                                    "1": "-0.23942154260814388"
                                },
                                {
                                    "0": "Gresik",
                                    "1": "-0.23942154260814388"
                                },
                                {
                                    "0": "Gresik Anchorage",
                                    "1": "-0.029927692826017985"
                                },
                                {
                                    "0": "Guangzhou",
                                    "1": "0.9576861704325755"
                                },
                                {
                                    "0": "Guangzhou Anchorage Berths",
                                    "1": "0.3117468002710207"
                                },
                                {
                                    "0": "Guanta",
                                    "1": "-0.23942154260814388"
                                },
                                {
                                    "0": "Guanta Anchorage",
                                    "1": "-0.24191551701031205"
                                },
                                {
                                    "0": "Guayaquil",
                                    "1": "-0.04738551364119514"
                                },
                                {
                                    "0": "Guayaquil Deep Water Anchorage",
                                    "1": "-0.2094938497821259"
                                },
                                {
                                    "0": "Guayaquil Explosives Anchorage",
                                    "1": "-0.05736141124986781"
                                },
                                {
                                    "0": "Guayaquil Explosives Anchorage No. 2",
                                    "1": "-0.22695167059730306"
                                },
                                {
                                    "0": "Guayaquil Quarantine Anchorage",
                                    "1": "-0.22196372179296672"
                                },
                                {
                                    "0": "Guiria",
                                    "1": "-0.2369275682059757"
                                },
                                {
                                    "0": "Gulf of Arzew Anchorage",
                                    "1": "-0.2094938497821259"
                                },
                                {
                                    "0": "Gulfmex No 2",
                                    "1": "0.11721679690190377"
                                },
                                {
                                    "0": "Gunsan",
                                    "1": "0.5187466756509784"
                                },
                                {
                                    "0": "Gunsan Anchorage A-1",
                                    "1": "-0.2369275682059757"
                                },
                                {
                                    "0": "Gunsan Anchorage A-2",
                                    "1": "-0.14963846413008994"
                                },
                                {
                                    "0": "Gunsan Anchorage A-3",
                                    "1": "-0.2369275682059757"
                                },
                                {
                                    "0": "Gunsan Quarantine Anchorage",
                                    "1": "-0.04738551364119514"
                                },
                                {
                                    "0": "Gwadar",
                                    "1": "-0.24191551701031205"
                                },
                                {
                                    "0": "Gwangyang",
                                    "1": "1.670962849452671"
                                },
                                {
                                    "0": "Gythion",
                                    "1": "-0.24191551701031205"
                                },
                                {
                                    "0": "Hadera Anchorage",
                                    "1": "-0.24191551701031205"
                                },
                                {
                                    "0": "Haikou",
                                    "1": "-0.24191551701031205"
                                },
                                {
                                    "0": "Hakata",
                                    "1": "0.10474692489106295"
                                },
                                {
                                    "0": "Hakata Anchorage",
                                    "1": "-0.06983128326070863"
                                },
                                {
                                    "0": "Hakata Quarantine Anchorage",
                                    "1": "-0.16959025934743524"
                                },
                                {
                                    "0": "Haldia Anchorage",
                                    "1": "-0.20450590097778956"
                                },
                                {
                                    "0": "Haldia Outer Anchorage",
                                    "1": "-0.1670962849452671"
                                },
                                {
                                    "0": "Halifax",
                                    "1": "-0.2244576961951349"
                                },
                                {
                                    "0": "Halifax Inner Anchorage",
                                    "1": "-0.16959025934743524"
                                },
                                {
                                    "0": "Halifax Outer Anchorage",
                                    "1": "-0.2369275682059757"
                                },
                                {
                                    "0": "Hambantota",
                                    "1": "0.29428897945584354"
                                },
                                {
                                    "0": "Hamble",
                                    "1": "-0.24191551701031205"
                                },
                                {
                                    "0": "Hamburg",
                                    "1": "0.05486743684769964"
                                },
                                {
                                    "0": "Hamburg Aussenelbe Reede Anchorage",
                                    "1": "-0.23942154260814388"
                                },
                                {
                                    "0": "Hamburg Elbe Approach Outer Anchorage",
                                    "1": "-0.20699987537995773"
                                },
                                {
                                    "0": "Hamburg Neue-Weser-Reede Anchorage",
                                    "1": "-0.2369275682059757"
                                },
                                {
                                    "0": "Hamilton (Bermuda)",
                                    "1": "-0.21198782418429407"
                                },
                                {
                                    "0": "Hamina",
                                    "1": "-0.24191551701031205"
                                },
                                {
                                    "0": "Hampton Roads",
                                    "1": "-0.24191551701031205"
                                },
                                {
                                    "0": "Hampton Roads A Anchorage North",
                                    "1": "-0.17457820815177158"
                                },
                                {
                                    "0": "Hampton Roads A Anchorage South",
                                    "1": "-0.23942154260814388"
                                },
                                {
                                    "0": "Hampton Roads East Anchorage",
                                    "1": "-0.24191551701031205"
                                },
                                {
                                    "0": "Hampton Roads F Anchorage",
                                    "1": "-0.24191551701031205"
                                },
                                {
                                    "0": "Hampton Roads G Anchorage",
                                    "1": "-0.2369275682059757"
                                },
                                {
                                    "0": "Hampton Roads I Anchorage",
                                    "1": "-0.19203602896694874"
                                },
                                {
                                    "0": "Hamriyah Anchorage A",
                                    "1": "-0.21198782418429407"
                                },
                                {
                                    "0": "Hamriyah Anchorage B",
                                    "1": "-0.23942154260814388"
                                },
                                {
                                    "0": "Hannan",
                                    "1": "-0.2369275682059757"
                                },
                                {
                                    "0": "Hannan Outer Anchorage",
                                    "1": "0.08728910407588579"
                                },
                                {
                                    "0": "Hansweert",
                                    "1": "-0.20699987537995773"
                                },
                                {
                                    "0": "Havana",
                                    "1": "-0.2244576961951349"
                                },
                                {
                                    "0": "Hengsha Anchorage East Area",
                                    "1": "-0.20699987537995773"
                                },
                                {
                                    "0": "Hengsha Anchorage Western Area",
                                    "1": "-0.21448179858646224"
                                },
                                {
                                    "0": "Hengsha Tanker Anchorage",
                                    "1": "-0.23443359380380754"
                                },
                                {
                                    "0": "Hengyang",
                                    "1": "-0.24191551701031205"
                                },
                                {
                                    "0": "Heshangdao",
                                    "1": "-0.24191551701031205"
                                },
                                {
                                    "0": "Hibikinada Inner Anchorage",
                                    "1": "-0.24191551701031205"
                                },
                                {
                                    "0": "Higashi-Harima Anchorage",
                                    "1": "-0.24191551701031205"
                                },
                                {
                                    "0": "Hilo",
                                    "1": "-0.10973487369539928"
                                },
                                {
                                    "0": "Himeji",
                                    "1": "-0.24191551701031205"
                                },
                                {
                                    "0": "Himekawa",
                                    "1": "-0.23942154260814388"
                                },
                                {
                                    "0": "Hirohata",
                                    "1": "-0.24191551701031205"
                                },
                                {
                                    "0": "Hiroshima",
                                    "1": "1.4664569484748813"
                                },
                                {
                                    "0": "Hiroshima Quarantine Anchorage",
                                    "1": "1.1671800202147014"
                                },
                                {
                                    "0": "Hitachi",
                                    "1": "0.11721679690190377"
                                },
                                {
                                    "0": "Hitachinaka",
                                    "1": "0.3117468002710207"
                                },
                                {
                                    "0": "Hodeidah",
                                    "1": "-0.014963846413008993"
                                },
                                {
                                    "0": "Hodeidah Anchorage",
                                    "1": "-0.10474692489106295"
                                },
                                {
                                    "0": "Hoheweg-Reede Anchorage",
                                    "1": "-0.2094938497821259"
                                },
                                {
                                    "0": "Holtenau",
                                    "1": "-0.24191551701031205"
                                },
                                {
                                    "0": "Homs",
                                    "1": "-0.19203602896694874"
                                },
                                {
                                    "0": "Homs Anchorage",
                                    "1": "-0.1870480801626124"
                                },
                                {
                                    "0": "Hon Gay",
                                    "1": "-0.2319396194016394"
                                },
                                {
                                    "0": "Honfleur",
                                    "1": "-0.23942154260814388"
                                },
                                {
                                    "0": "Hong Kong",
                                    "1": "0.16959025934743524"
                                },
                                {
                                    "0": "Hong Kong Anchorage 10DG",
                                    "1": "-0.0723252576628768"
                                },
                                {
                                    "0": "Hong Kong Anchorage 13ZH",
                                    "1": "0.5511683428791646"
                                },
                                {
                                    "0": "Hong Kong Anchorage 17GS",
                                    "1": "-0.019951795217345324"
                                },
                                {
                                    "0": "Hong Kong Anchorage 18GS",
                                    "1": "0.7481923206504496"
                                },
                                {
                                    "0": "Hong Kong Anchorage 22DY",
                                    "1": "-0.24191551701031205"
                                },
                                {
                                    "0": "Hong Kong Anchorage 23DY",
                                    "1": "-0.24191551701031205"
                                },
                                {
                                    "0": "Hong Kong Anchorage No 11SM",
                                    "1": "-0.24191551701031205"
                                },
                                {
                                    "0": "Hong Kong Anchorage No 1BJ",
                                    "1": "-0.2319396194016394"
                                },
                                {
                                    "0": "Hong Kong Anchorage No 2WS",
                                    "1": "-0.2369275682059757"
                                },
                                {
                                    "0": "Hong Kong Anchorage No 4DT",
                                    "1": "-0.21697577298863038"
                                },
                                {
                                    "0": "Hong KOng Anchorage No 5GZ",
                                    "1": "-0.21198782418429407"
                                },
                                {
                                    "0": "Hong Kong Anchorage No 8SM",
                                    "1": "-0.24191551701031205"
                                },
                                {
                                    "0": "Hong Kong Anchorages 21 & 22DY",
                                    "1": "-0.22695167059730306"
                                },
                                {
                                    "0": "Hong Kong Anchorages 7SM",
                                    "1": "-0.17707218255393975"
                                },
                                {
                                    "0": "Hong Kong Anchorages 7SM 8SM & 11SM",
                                    "1": "-0.12719269451057644"
                                },
                                {
                                    "0": "Hong Kong Dangan Island Anchorage",
                                    "1": "-0.21448179858646224"
                                },
                                {
                                    "0": "Hong Kong Dangan Island Eastern Anchorage",
                                    "1": "0.15712038733659442"
                                },
                                {
                                    "0": "Hong Kong Kau Yi Chau Dangerous Goods Anchorage",
                                    "1": "-0.24191551701031205"
                                },
                                {
                                    "0": "Hong Kong Kellett Anchorage No 1",
                                    "1": "-0.23443359380380754"
                                },
                                {
                                    "0": "Hong Kong Kowloon",
                                    "1": "-0.11971077130407194"
                                },
                                {
                                    "0": "Hong Kong North Lamma Anchorage",
                                    "1": "-0.22695167059730306"
                                },
                                {
                                    "0": "Hong Kong North West Anchorage",
                                    "1": "-0.2319396194016394"
                                },
                                {
                                    "0": "Hong Kong Pun Shan Shek Anchorage",
                                    "1": "-0.23942154260814388"
                                },
                                {
                                    "0": "Hong Kong South East Lamma Anchorage",
                                    "1": "-0.24191551701031205"
                                },
                                {
                                    "0": "Hong Kong South Lamma Anchorage",
                                    "1": "-0.09726500168455846"
                                },
                                {
                                    "0": "Hong Kong South West Lamma Anchorage",
                                    "1": "-0.24191551701031205"
                                },
                                {
                                    "0": "Hong Kong Western Anchorage No 1-3",
                                    "1": "-0.2319396194016394"
                                },
                                {
                                    "0": "Hong Kong Western Quarantine and Immigration Anchorage",
                                    "1": "-0.24191551701031205"
                                },
                                {
                                    "0": "Honolulu",
                                    "1": "0.05985538565203597"
                                },
                                {
                                    "0": "Horsburgh Anchorage",
                                    "1": "0.9851198888564253"
                                },
                                {
                                    "0": "Hososhima",
                                    "1": "-0.24191551701031205"
                                },
                                {
                                    "0": "Hososhima Anchorage",
                                    "1": "-0.24191551701031205"
                                },
                                {
                                    "0": "Houston",
                                    "1": "0.22196372179296672"
                                },
                                {
                                    "0": "Huainan",
                                    "1": "-0.24191551701031205"
                                },
                                {
                                    "0": "Huanghua Anchorage No. 2",
                                    "1": "-0.23942154260814388"
                                },
                                {
                                    "0": "Huanghua Anchorage No. 4",
                                    "1": "-0.24191551701031205"
                                },
                                {
                                    "0": "Huanghua Anchorage No. 6",
                                    "1": "-0.21448179858646224"
                                },
                                {
                                    "0": "Huangpu",
                                    "1": "-0.2369275682059757"
                                },
                                {
                                    "0": "Huelva Outer Anchorage",
                                    "1": "-0.2319396194016394"
                                },
                                {
                                    "0": "Hueneme",
                                    "1": "0.6384574469550504"
                                },
                                {
                                    "0": "Huizhou Anchorage No 10",
                                    "1": "-0.24191551701031205"
                                },
                                {
                                    "0": "Huizhou Terminal",
                                    "1": "-0.24191551701031205"
                                },
                                {
                                    "0": "Humen",
                                    "1": "-0.23942154260814388"
                                },
                                {
                                    "0": "Humen Anchorage Berths 41-44SJ",
                                    "1": "0.0024939744021681655"
                                },
                                {
                                    "0": "Ijmuiden",
                                    "1": "0.3441684674992068"
                                },
                                {
                                    "0": "IJmuiden Anchorage",
                                    "1": "-0.20699987537995773"
                                },
                                {
                                    "0": "IJmuiden Anchorage No. 7",
                                    "1": "-0.22944564499947123"
                                },
                                {
                                    "0": "Ijmuiden Inner Anchorage",
                                    "1": "-0.12719269451057644"
                                },
                                {
                                    "0": "Ijmuiden Outer Anchorage",
                                    "1": "-0.23942154260814388"
                                },
                                {
                                    "0": "Illichevsk",
                                    "1": "-0.21946974739079855"
                                },
                                {
                                    "0": "Illichevsk No 351 Anchorage",
                                    "1": "-0.23942154260814388"
                                },
                                {
                                    "0": "Imari",
                                    "1": "-0.2369275682059757"
                                },
                                {
                                    "0": "Imari Outer Anchorage",
                                    "1": "-0.24191551701031205"
                                },
                                {
                                    "0": "Immingham",
                                    "1": "-0.02743371842384982"
                                },
                                {
                                    "0": "Immingham Anchorage",
                                    "1": "-0.21697577298863038"
                                },
                                {
                                    "0": "Incheon",
                                    "1": "1.2544691242905872"
                                },
                                {
                                    "0": "Incheon Central Fairway Anchorage",
                                    "1": "0.5436864196726601"
                                },
                                {
                                    "0": "Incheon Inner Fairway Anchorage",
                                    "1": "0.3391805186948705"
                                },
                                {
                                    "0": "Incheon Outer Anchorage",
                                    "1": "-0.04489153923902698"
                                },
                                {
                                    "0": "Innoshima",
                                    "1": "-0.17457820815177158"
                                },
                                {
                                    "0": "Interflour Port",
                                    "1": "-0.2319396194016394"
                                },
                                {
                                    "0": "Iquique",
                                    "1": "0.49879488043363307"
                                },
                                {
                                    "0": "Iquique Explosives Anchorage",
                                    "1": "-0.21946974739079855"
                                },
                                {
                                    "0": "Iquique Quarantine Anchorage",
                                    "1": "-0.17707218255393975"
                                },
                                {
                                    "0": "Isdemir",
                                    "1": "-0.24191551701031205"
                                },
                                {
                                    "0": "Ishikariwan Shinko",
                                    "1": "-0.24191551701031205"
                                },
                                {
                                    "0": "Iskenderun",
                                    "1": "-0.10973487369539928"
                                },
                                {
                                    "0": "Iskenderun Anchorage",
                                    "1": "-0.22944564499947123"
                                },
                                {
                                    "0": "Iskenderun Explosives Anchorage",
                                    "1": "-0.0723252576628768"
                                },
                                {
                                    "0": "Istanbul Anchorage",
                                    "1": "-0.2244576961951349"
                                },
                                {
                                    "0": "Istanbul Outer Anchorage",
                                    "1": "1.1497221993995244"
                                },
                                {
                                    "0": "Itozaki Outer Anchorage",
                                    "1": "-0.23443359380380754"
                                },
                                {
                                    "0": "Iwakuni",
                                    "1": "-0.24191551701031205"
                                },
                                {
                                    "0": "Izmir",
                                    "1": "-0.1596143617387626"
                                },
                                {
                                    "0": "Izmit Anchorage",
                                    "1": "-0.11222884809756745"
                                },
                                {
                                    "0": "Jabiru Marine Terminal",
                                    "1": "-0.24191551701031205"
                                },
                                {
                                    "0": "Jacksonville",
                                    "1": "2.2919624755925443"
                                },
                                {
                                    "0": "Jacksonville Anchorage",
                                    "1": "0.23443359380380754"
                                },
                                {
                                    "0": "Jakhau Anchorage",
                                    "1": "-0.23942154260814388"
                                },
                                {
                                    "0": "Jebel Ali",
                                    "1": "2.2720106803751987"
                                },
                                {
                                    "0": "Jebel Ali Anchorage",
                                    "1": "4.573949053576415"
                                },
                                {
                                    "0": "Jeddah",
                                    "1": "1.838059134397938"
                                },
                                {
                                    "0": "Jeddah Anchorage D",
                                    "1": "-0.2094938497821259"
                                },
                                {
                                    "0": "Jeddah Anchorage E",
                                    "1": "-0.04987948804336331"
                                },
                                {
                                    "0": "Jiading",
                                    "1": "-0.24191551701031205"
                                },
                                {
                                    "0": "Jiang Yin",
                                    "1": "-0.23942154260814388"
                                },
                                {
                                    "0": "Jiang Yin Anchorage",
                                    "1": "0.7831079622808039"
                                },
                                {
                                    "0": "Jiangyin",
                                    "1": "-0.24191551701031205"
                                },
                                {
                                    "0": "Jiangyin Anchorage",
                                    "1": "-0.22196372179296672"
                                },
                                {
                                    "0": "Jiangyuanansha Temporary Anchorage",
                                    "1": "-0.24191551701031205"
                                },
                                {
                                    "0": "Jijel",
                                    "1": "-0.24191551701031205"
                                },
                                {
                                    "0": "Jingjiang",
                                    "1": "-0.2319396194016394"
                                },
                                {
                                    "0": "Jinhae Bay East Anchorage",
                                    "1": "-0.2369275682059757"
                                },
                                {
                                    "0": "Jinhae Bay West Anchorage",
                                    "1": "-0.24191551701031205"
                                },
                                {
                                    "0": "Jinzhou Anchorage No 1",
                                    "1": "-0.24191551701031205"
                                },
                                {
                                    "0": "Johor",
                                    "1": "-0.1820601313582761"
                                },
                                {
                                    "0": "Johor Anchorages",
                                    "1": "-0.19951795217345325"
                                },
                                {
                                    "0": "Jorf Lasfar Anchorage",
                                    "1": "-0.16210833614093076"
                                },
                                {
                                    "0": "Jubail",
                                    "1": "-0.24191551701031205"
                                },
                                {
                                    "0": "Jubail Holding Anchorage",
                                    "1": "-0.04489153923902698"
                                },
                                {
                                    "0": "Jubail Inner Anchorage",
                                    "1": "-0.24191551701031205"
                                },
                                {
                                    "0": "Kabil",
                                    "1": "-0.23942154260814388"
                                },
                                {
                                    "0": "Kabil Anchorage",
                                    "1": "-0.24191551701031205"
                                },
                                {
                                    "0": "Kagoshima",
                                    "1": "0.6384574469550504"
                                },
                                {
                                    "0": "Kahului",
                                    "1": "-0.09726500168455846"
                                },
                                {
                                    "0": "Kaimana",
                                    "1": "-0.24191551701031205"
                                },
                                {
                                    "0": "Kakinada",
                                    "1": "-0.24191551701031205"
                                },
                                {
                                    "0": "Kakogawa",
                                    "1": "0.06733730885854047"
                                },
                                {
                                    "0": "Kakogawa Anchorage",
                                    "1": "-0.06983128326070863"
                                },
                                {
                                    "0": "Kalama",
                                    "1": "-0.24191551701031205"
                                },
                                {
                                    "0": "Kalama Anchorage",
                                    "1": "-0.21946974739079855"
                                },
                                {
                                    "0": "Kalamata",
                                    "1": "-0.24191551701031205"
                                },
                                {
                                    "0": "Kalba Anchorage B",
                                    "1": "-0.24191551701031205"
                                },
                                {
                                    "0": "Kalundborg Fjord Anchorage",
                                    "1": "-0.22695167059730306"
                                },
                                {
                                    "0": "Kamaishi",
                                    "1": "-0.24191551701031205"
                                },
                                {
                                    "0": "Kamarajar",
                                    "1": "-0.1670962849452671"
                                },
                                {
                                    "0": "Kanda",
                                    "1": "1.3766738699968273"
                                },
                                {
                                    "0": "Kanda Northern Anchorage",
                                    "1": "-0.21198782418429407"
                                },
                                {
                                    "0": "Kanda Outer Anchorage",
                                    "1": "0.04738551364119514"
                                },
                                {
                                    "0": "Kanda Southern Anchorage",
                                    "1": "-0.1820601313582761"
                                },
                                {
                                    "0": "Kanmon Ko",
                                    "1": "0.10973487369539928"
                                },
                                {
                                    "0": "Kanokawa Anchorage",
                                    "1": "-0.23443359380380754"
                                },
                                {
                                    "0": "Kaohsiung",
                                    "1": "-0.2094938497821259"
                                },
                                {
                                    "0": "Kaohsiung No 1 Anchorage",
                                    "1": "-0.21946974739079855"
                                },
                                {
                                    "0": "Kaohsiung No 2 Anchorage",
                                    "1": "-0.21946974739079855"
                                },
                                {
                                    "0": "Kaohsiung No 3 Anchorage",
                                    "1": "-0.23443359380380754"
                                },
                                {
                                    "0": "Kapar Power Station",
                                    "1": "-0.24191551701031205"
                                },
                                {
                                    "0": "Karabiga Anchorage No 1",
                                    "1": "-0.24191551701031205"
                                },
                                {
                                    "0": "Karachi",
                                    "1": "-0.1820601313582761"
                                },
                                {
                                    "0": "Karachi Anchorages",
                                    "1": "-0.19702397777128508"
                                },
                                {
                                    "0": "Karimun STS Anchorage",
                                    "1": "-0.09477102728239029"
                                },
                                {
                                    "0": "Karumba",
                                    "1": "-0.24191551701031205"
                                },
                                {
                                    "0": "Kasaoka Anchorage",
                                    "1": "-0.2369275682059757"
                                },
                                {
                                    "0": "Kashima",
                                    "1": "-0.2369275682059757"
                                },
                                {
                                    "0": "Kashima Anchorage",
                                    "1": "-0.14714448972792177"
                                },
                                {
                                    "0": "Kasim Marine Terminal",
                                    "1": "-0.2369275682059757"
                                },
                                {
                                    "0": "Kattegat Anchorage A",
                                    "1": "-0.23443359380380754"
                                },
                                {
                                    "0": "Kattegat Anchorage 'A'",
                                    "1": "-0.20450590097778956"
                                },
                                {
                                    "0": "Kattegat Anchorage B",
                                    "1": "-0.24191551701031205"
                                },
                                {
                                    "0": "Kattegat Anchorage 'B'",
                                    "1": "-0.23443359380380754"
                                },
                                {
                                    "0": "Kattupalli",
                                    "1": "-0.24191551701031205"
                                },
                                {
                                    "0": "Kawasaki",
                                    "1": "1.3243004075512959"
                                },
                                {
                                    "0": "Kawasaki Anchorage",
                                    "1": "1.2320233546710737"
                                },
                                {
                                    "0": "Keelung",
                                    "1": "-0.04987948804336331"
                                },
                                {
                                    "0": "Keelung Anchorage",
                                    "1": "-0.21697577298863038"
                                },
                                {
                                    "0": "Kelly Point Anchorage",
                                    "1": "-0.19203602896694874"
                                },
                                {
                                    "0": "Kertih Port",
                                    "1": "-0.24191551701031205"
                                },
                                {
                                    "0": "Khalifa Bin Salman",
                                    "1": "0.8953368103783714"
                                },
                                {
                                    "0": "Khalifa Bin Salman Anchorage",
                                    "1": "0.2768311586406664"
                                },
                                {
                                    "0": "Khalifa Port",
                                    "1": "-0.09227705288022212"
                                },
                                {
                                    "0": "Khalifa Port Anchorage",
                                    "1": "-0.2369275682059757"
                                },
                                {
                                    "0": "Khasab",
                                    "1": "-0.2369275682059757"
                                },
                                {
                                    "0": "Khor Al Zubair",
                                    "1": "-0.24191551701031205"
                                },
                                {
                                    "0": "Khor Al Zubair Anchorage",
                                    "1": "0.0024939744021681655"
                                },
                                {
                                    "0": "Khor Fakkan Anchorage B",
                                    "1": "-0.24191551701031205"
                                },
                                {
                                    "0": "Khor Fakkan Anchorage C",
                                    "1": "-0.23942154260814388"
                                },
                                {
                                    "0": "Kiame Marine Terminal",
                                    "1": "-0.24191551701031205"
                                },
                                {
                                    "0": "Kikeh Marine Terminal",
                                    "1": "-0.24191551701031205"
                                },
                                {
                                    "0": "Kikuma Anchorage",
                                    "1": "-0.24191551701031205"
                                },
                                {
                                    "0": "Killingholme",
                                    "1": "-0.23942154260814388"
                                },
                                {
                                    "0": "King Fahd Industrial Port (Yanbu)",
                                    "1": "-0.24191551701031205"
                                },
                                {
                                    "0": "King Fahd Industrial Port (Yanbu) Anchorage North",
                                    "1": "0.16959025934743524"
                                },
                                {
                                    "0": "King Fahd Industrial Port (Yanbu) Anchorage South",
                                    "1": "-0.24191551701031205"
                                },
                                {
                                    "0": "Kingston (Jamaica)",
                                    "1": "0.1521324385322581"
                                },
                                {
                                    "0": "Kingston (jamaica) Inner Anchorage",
                                    "1": "-0.23443359380380754"
                                },
                                {
                                    "0": "Kingston (Jamaica) Outer Anchorage",
                                    "1": "0.2319396194016394"
                                },
                                {
                                    "0": "Kingstown",
                                    "1": "-0.20450590097778956"
                                },
                                {
                                    "0": "Kinuura",
                                    "1": "-0.19951795217345325"
                                },
                                {
                                    "0": "Kinuura Quarantine Anchorage",
                                    "1": "-0.21448179858646224"
                                },
                                {
                                    "0": "Kinwan",
                                    "1": "-0.24191551701031205"
                                },
                                {
                                    "0": "Kisarazu",
                                    "1": "-0.02743371842384982"
                                },
                                {
                                    "0": "Kisarazu Anchorage",
                                    "1": "-0.04738551364119514"
                                },
                                {
                                    "0": "Kiyanly",
                                    "1": "-0.24191551701031205"
                                },
                                {
                                    "0": "Kizomba Terminals Anchorage",
                                    "1": "-0.19951795217345325"
                                },
                                {
                                    "0": "Kobe",
                                    "1": "1.78069772314807"
                                },
                                {
                                    "0": "Kobe Anchorage",
                                    "1": "1.8305772111914334"
                                },
                                {
                                    "0": "Kochi (Japan)",
                                    "1": "-0.23443359380380754"
                                },
                                {
                                    "0": "Kokura",
                                    "1": "-0.24191551701031205"
                                },
                                {
                                    "0": "Kolkata",
                                    "1": "-0.18954205456478057"
                                },
                                {
                                    "0": "Kolkata Anchorage",
                                    "1": "-0.1870480801626124"
                                },
                                {
                                    "0": "Komatsushima",
                                    "1": "-0.24191551701031205"
                                },
                                {
                                    "0": "Koper",
                                    "1": "0.2319396194016394"
                                },
                                {
                                    "0": "Koper Anchorage",
                                    "1": "0.16460231054309893"
                                },
                                {
                                    "0": "Kos",
                                    "1": "-0.24191551701031205"
                                },
                                {
                                    "0": "Kota Kinabalu",
                                    "1": "-0.17956615695610792"
                                },
                                {
                                    "0": "Kota Kinabalu Dangerous Petroleum Anchorage",
                                    "1": "-0.24191551701031205"
                                },
                                {
                                    "0": "Kralendijk",
                                    "1": "-0.18954205456478057"
                                },
                                {
                                    "0": "Krasnogorskiy",
                                    "1": "-0.23942154260814388"
                                },
                                {
                                    "0": "Krautsand Reede Anchorage",
                                    "1": "-0.24191551701031205"
                                },
                                {
                                    "0": "Krefeld",
                                    "1": "-0.24191551701031205"
                                },
                                {
                                    "0": "Kuching",
                                    "1": "-0.19203602896694874"
                                },
                                {
                                    "0": "Kuching Anchorage",
                                    "1": "-0.22196372179296672"
                                },
                                {
                                    "0": "Kudamatsu",
                                    "1": "-0.2319396194016394"
                                },
                                {
                                    "0": "Kudamatsu Loading Anchorage",
                                    "1": "-0.22196372179296672"
                                },
                                {
                                    "0": "Kure",
                                    "1": "-0.23942154260814388"
                                },
                                {
                                    "0": "Kwame Nkrumah MV21 FPSO Waiting Area",
                                    "1": "-0.23942154260814388"
                                },
                                {
                                    "0": "La Goulette",
                                    "1": "-0.1670962849452671"
                                },
                                {
                                    "0": "La Goulette Anchorage",
                                    "1": "-0.17457820815177158"
                                },
                                {
                                    "0": "La Guaira",
                                    "1": "-0.22944564499947123"
                                },
                                {
                                    "0": "La Maddalena (Sardinia)",
                                    "1": "-0.24191551701031205"
                                },
                                {
                                    "0": "La Paz",
                                    "1": "-0.24191551701031205"
                                },
                                {
                                    "0": "La Plata Anchorage",
                                    "1": "0.5287225732596511"
                                },
                                {
                                    "0": "La Rochelle-Pallice",
                                    "1": "-0.24191551701031205"
                                },
                                {
                                    "0": "La Rochelle-Pallice Anchorage",
                                    "1": "-0.24191551701031205"
                                },
                                {
                                    "0": "La Salina Anchorage",
                                    "1": "-0.24191551701031205"
                                },
                                {
                                    "0": "Labuan",
                                    "1": "-0.1945300033691169"
                                },
                                {
                                    "0": "Labuan Anchorage",
                                    "1": "-0.16210833614093076"
                                },
                                {
                                    "0": "Labuan Oil Terminal Tanker Anchorage",
                                    "1": "-0.2244576961951349"
                                },
                                {
                                    "0": "Lae",
                                    "1": "-0.17956615695610792"
                                },
                                {
                                    "0": "Lae Anchor Berth QS",
                                    "1": "-0.23942154260814388"
                                },
                                {
                                    "0": "Laem Chabang",
                                    "1": "2.0575288817887367"
                                },
                                {
                                    "0": "Lagos (Nigeria)",
                                    "1": "0.4838310340206241"
                                },
                                {
                                    "0": "Lagos (Nigeria) Anchorage",
                                    "1": "1.2120715594537284"
                                },
                                {
                                    "0": "Lalang Marine Terminal",
                                    "1": "-0.23942154260814388"
                                },
                                {
                                    "0": "Larnaca",
                                    "1": "-0.20699987537995773"
                                },
                                {
                                    "0": "Larnaca Anchorage",
                                    "1": "-0.2369275682059757"
                                },
                                {
                                    "0": "Las Palmas",
                                    "1": "-0.21697577298863038"
                                },
                                {
                                    "0": "Las Palmas Rada Norte Anchorage",
                                    "1": "-0.23942154260814388"
                                },
                                {
                                    "0": "Las Palmas Rada Sur Anchorage",
                                    "1": "-0.1596143617387626"
                                },
                                {
                                    "0": "Lazaro Cardenas",
                                    "1": "0.9252645032043894"
                                },
                                {
                                    "0": "Le Havre",
                                    "1": "0.45889128999894246"
                                },
                                {
                                    "0": "Le Havre No 1 Anchorage",
                                    "1": "-0.22695167059730306"
                                },
                                {
                                    "0": "Le Havre No 2 Anchorage",
                                    "1": "-0.16460231054309893"
                                },
                                {
                                    "0": "Le Havre No 3 Anchorage",
                                    "1": "-0.07481923206504497"
                                },
                                {
                                    "0": "Leam Chabang Harbour Anchorage",
                                    "1": "1.1996016874428876"
                                },
                                {
                                    "0": "Leigh Small Ship Anchorage",
                                    "1": "-0.23942154260814388"
                                },
                                {
                                    "0": "Leixoes",
                                    "1": "-0.24191551701031205"
                                },
                                {
                                    "0": "Leixoes Anchorage",
                                    "1": "-0.24191551701031205"
                                },
                                {
                                    "0": "Leonis FSO",
                                    "1": "-0.23942154260814388"
                                },
                                {
                                    "0": "Levuka",
                                    "1": "-0.24191551701031205"
                                },
                                {
                                    "0": "Lhokseumawe",
                                    "1": "-0.24191551701031205"
                                },
                                {
                                    "0": "Lianyungang",
                                    "1": "0.03242166722818615"
                                },
                                {
                                    "0": "Lianyungang Anchorage No 1",
                                    "1": "-0.09726500168455846"
                                },
                                {
                                    "0": "Lianyungang Anchorage No 2",
                                    "1": "-0.1296866689127446"
                                },
                                {
                                    "0": "Lianyungang Anchorage No 3",
                                    "1": "-0.14215654092358543"
                                },
                                {
                                    "0": "Lianyungang Anchorage No 4",
                                    "1": "-0.15462641293442625"
                                },
                                {
                                    "0": "Lianyungang Anchorage No 5",
                                    "1": "-0.20699987537995773"
                                },
                                {
                                    "0": "Lianyungang Dangerous Goods Anchorage",
                                    "1": "-0.22944564499947123"
                                },
                                {
                                    "0": "Libreville Anchorage",
                                    "1": "-0.13218064331491278"
                                },
                                {
                                    "0": "Limas",
                                    "1": "0.014963846413008993"
                                },
                                {
                                    "0": "Limassol",
                                    "1": "-0.22695167059730306"
                                },
                                {
                                    "0": "Limassol Port Anchorage",
                                    "1": "-0.2369275682059757"
                                },
                                {
                                    "0": "Liuhe Ocean Liners Anchorage",
                                    "1": "-0.21697577298863038"
                                },
                                {
                                    "0": "Liuheng",
                                    "1": "-0.11721679690190377"
                                },
                                {
                                    "0": "Liuheng North Anchorage",
                                    "1": "-0.11721679690190377"
                                },
                                {
                                    "0": "Livorno",
                                    "1": "0.2244576961951349"
                                },
                                {
                                    "0": "Lobito",
                                    "1": "-0.22944564499947123"
                                },
                                {
                                    "0": "Lobito Anchorage",
                                    "1": "-0.23443359380380754"
                                },
                                {
                                    "0": "Lobos Islands",
                                    "1": "-0.1670962849452671"
                                },
                                {
                                    "0": "Lome",
                                    "1": "-0.12719269451057644"
                                },
                                {
                                    "0": "Lome Anchorage",
                                    "1": "-0.17457820815177158"
                                },
                                {
                                    "0": "London",
                                    "1": "-0.17956615695610792"
                                },
                                {
                                    "0": "London Gateway",
                                    "1": "-0.2369275682059757"
                                },
                                {
                                    "0": "London Thamesport",
                                    "1": "-0.24191551701031205"
                                },
                                {
                                    "0": "Long Beach",
                                    "1": "0.5062768036401376"
                                },
                                {
                                    "0": "Long Beach Anchorage B",
                                    "1": "-0.19203602896694874"
                                },
                                {
                                    "0": "Long Beach Anchorage F",
                                    "1": "-0.19951795217345325"
                                },
                                {
                                    "0": "Long Beach Anchorage G",
                                    "1": "-0.22695167059730306"
                                },
                                {
                                    "0": "Long Beach Anchorage P",
                                    "1": "-0.24191551701031205"
                                },
                                {
                                    "0": "Long Beach Southern Anchorage",
                                    "1": "1.2569630986927554"
                                },
                                {
                                    "0": "Longkou",
                                    "1": "-0.2319396194016394"
                                },
                                {
                                    "0": "Longview Anchorage",
                                    "1": "-0.22944564499947123"
                                },
                                {
                                    "0": "Los Angeles",
                                    "1": "0.17956615695610792"
                                },
                                {
                                    "0": "Lower Vancouver Anchorage",
                                    "1": "-0.2369275682059757"
                                },
                                {
                                    "0": "Luanda",
                                    "1": "0.12220474570624011"
                                },
                                {
                                    "0": "Luanda Inner Anchorage",
                                    "1": "0.16959025934743524"
                                },
                                {
                                    "0": "Luanda Outer Anchorage",
                                    "1": "0.4264696227707563"
                                },
                                {
                                    "0": "Luhuashan South Anchorage",
                                    "1": "-0.1720842337496034"
                                },
                                {
                                    "0": "Luoyuan Bay Harbour",
                                    "1": "-0.23942154260814388"
                                },
                                {
                                    "0": "Luoyuan bay Harbour Anchorage",
                                    "1": "-0.24191551701031205"
                                },
                                {
                                    "0": "Lusi",
                                    "1": "-0.24191551701031205"
                                },
                                {
                                    "0": "Lyttelton",
                                    "1": "0.08230115527154946"
                                },
                                {
                                    "0": "Lyttelton Anchorage",
                                    "1": "-0.12220474570624011"
                                },
                                {
                                    "0": "Ma Zhou Island",
                                    "1": "-0.2319396194016394"
                                },
                                {
                                    "0": "Ma Zhou West Dangerous Goods Anchorage",
                                    "1": "-0.2369275682059757"
                                },
                                {
                                    "0": "Madura",
                                    "1": "-0.23942154260814388"
                                },
                                {
                                    "0": "Magellan Strait Area",
                                    "1": "-0.07731320646721312"
                                },
                                {
                                    "0": "Mailiao No 2 Anchorage",
                                    "1": "-0.24191551701031205"
                                },
                                {
                                    "0": "Mailiao Outer Anchorage",
                                    "1": "-0.24191551701031205"
                                },
                                {
                                    "0": "Maizuru",
                                    "1": "-0.22695167059730306"
                                },
                                {
                                    "0": "Majishan Port Anchorage No 1",
                                    "1": "-0.16210833614093076"
                                },
                                {
                                    "0": "Majishan Port Anchorage No 2",
                                    "1": "-0.22944564499947123"
                                },
                                {
                                    "0": "Majuro",
                                    "1": "-0.24191551701031205"
                                },
                                {
                                    "0": "Makassar",
                                    "1": "0.1820601313582761"
                                },
                                {
                                    "0": "Makassar Anchorage",
                                    "1": "0.1720842337496034"
                                },
                                {
                                    "0": "Malabo",
                                    "1": "-0.22695167059730306"
                                },
                                {
                                    "0": "Malacca",
                                    "1": "-0.23942154260814388"
                                },
                                {
                                    "0": "Malaga",
                                    "1": "-0.19702397777128508"
                                },
                                {
                                    "0": "Malaga Anchorage",
                                    "1": "-0.2369275682059757"
                                },
                                {
                                    "0": "Malaga Dangerous Cargo Anchorage",
                                    "1": "-0.22944564499947123"
                                },
                                {
                                    "0": "Malmo",
                                    "1": "-0.09726500168455846"
                                },
                                {
                                    "0": "Malmok Anchorage",
                                    "1": "-0.21448179858646224"
                                },
                                {
                                    "0": "Malta Valletta and Marsaxlokk Anchorage",
                                    "1": "1.2145655338558965"
                                },
                                {
                                    "0": "Mamonal Anchorage A",
                                    "1": "-0.24191551701031205"
                                },
                                {
                                    "0": "Mamonal Anchorage E",
                                    "1": "-0.22695167059730306"
                                },
                                {
                                    "0": "Manfredonia",
                                    "1": "-0.23942154260814388"
                                },
                                {
                                    "0": "Mangalia",
                                    "1": "-0.2319396194016394"
                                },
                                {
                                    "0": "Mangalia Anchorage",
                                    "1": "-0.24191551701031205"
                                },
                                {
                                    "0": "Mangalore",
                                    "1": "-0.23942154260814388"
                                },
                                {
                                    "0": "Manila",
                                    "1": "-0.21448179858646224"
                                },
                                {
                                    "0": "Manila Anchorages",
                                    "1": "-0.1945300033691169"
                                },
                                {
                                    "0": "Man-of-War Anchorage (AMOW)",
                                    "1": "-0.2369275682059757"
                                },
                                {
                                    "0": "Manta",
                                    "1": "0.09227705288022212"
                                },
                                {
                                    "0": "Manzanillo (Mexico)",
                                    "1": "0.017457820815177157"
                                },
                                {
                                    "0": "Manzanillo (Mexico) Anchorage",
                                    "1": "-0.1720842337496034"
                                },
                                {
                                    "0": "Manzanillo (Mexico) Anchorage A",
                                    "1": "-0.23942154260814388"
                                },
                                {
                                    "0": "Manzanillo (Mexico) Anchorage B",
                                    "1": "-0.24191551701031205"
                                },
                                {
                                    "0": "Maputo",
                                    "1": "0.3641202627165522"
                                },
                                {
                                    "0": "Maputo Bay Anchorage",
                                    "1": "0.8304934759219991"
                                },
                                {
                                    "0": "Maputo Outer Anchorage",
                                    "1": "-0.04987948804336331"
                                },
                                {
                                    "0": "Marcus Hook General Anchorage 7",
                                    "1": "-0.16460231054309893"
                                },
                                {
                                    "0": "Marcus Hook Quarantine Anchorage",
                                    "1": "-0.2369275682059757"
                                },
                                {
                                    "0": "Margate Roads Anchorage",
                                    "1": "0.11472282249973562"
                                },
                                {
                                    "0": "Marsaxlokk",
                                    "1": "-0.22944564499947123"
                                },
                                {
                                    "0": "Marsaxlokk Anchorage",
                                    "1": "-0.05486743684769964"
                                },
                                {
                                    "0": "Marseille",
                                    "1": "-0.18954205456478057"
                                },
                                {
                                    "0": "Marseille Nord Anchorage",
                                    "1": "-0.23942154260814388"
                                },
                                {
                                    "0": "Marseilles Mouillage Ouest Anchorage",
                                    "1": "-0.23443359380380754"
                                },
                                {
                                    "0": "Marseilles Nord Anchorage",
                                    "1": "-0.22196372179296672"
                                },
                                {
                                    "0": "Marugame",
                                    "1": "-0.21448179858646224"
                                },
                                {
                                    "0": "Masan",
                                    "1": "0.2743371842384982"
                                },
                                {
                                    "0": "Masao",
                                    "1": "-0.24191551701031205"
                                },
                                {
                                    "0": "Mashi Anchorage Area No 1",
                                    "1": "0.11222884809756745"
                                },
                                {
                                    "0": "Mashi Anchorage Area No 2",
                                    "1": "-0.08978307847805396"
                                },
                                {
                                    "0": "Massawa",
                                    "1": "-0.24191551701031205"
                                },
                                {
                                    "0": "Matanzas (Cuba) Anchorage",
                                    "1": "-0.23942154260814388"
                                },
                                {
                                    "0": "Matsuura Anchorage",
                                    "1": "-0.23942154260814388"
                                },
                                {
                                    "0": "Matsuyama",
                                    "1": "-0.2369275682059757"
                                },
                                {
                                    "0": "Mazhi Dangerous Goods Anchorage",
                                    "1": "-0.16959025934743524"
                                },
                                {
                                    "0": "Mazhi Dangerous Goods Operation Anchorage",
                                    "1": "-0.23443359380380754"
                                },
                                {
                                    "0": "M'Bao Oil Terminal",
                                    "1": "-0.24191551701031205"
                                },
                                {
                                    "0": "Mega",
                                    "1": "-0.2319396194016394"
                                },
                                {
                                    "0": "Meishan",
                                    "1": "-0.2319396194016394"
                                },
                                {
                                    "0": "Mejillones",
                                    "1": "-0.22944564499947123"
                                },
                                {
                                    "0": "Melbourne",
                                    "1": "1.4090955372250136"
                                },
                                {
                                    "0": "Melbourne Explosives Anchorage",
                                    "1": "-0.06733730885854047"
                                },
                                {
                                    "0": "Merak Anchorage",
                                    "1": "-0.2244576961951349"
                                },
                                {
                                    "0": "Mersin",
                                    "1": "-0.08479512967371762"
                                },
                                {
                                    "0": "Mersin Anchorage",
                                    "1": "-0.13218064331491278"
                                },
                                {
                                    "0": "Mersin Anchorage No. 1",
                                    "1": "-0.22944564499947123"
                                },
                                {
                                    "0": "Mersin Anchorage No. 2",
                                    "1": "-0.23942154260814388"
                                },
                                {
                                    "0": "Mersin Anchorages",
                                    "1": "-0.15712038733659442"
                                },
                                {
                                    "0": "Mesaieed",
                                    "1": "-0.24191551701031205"
                                },
                                {
                                    "0": "Mesaieed Main anchorage",
                                    "1": "-0.24191551701031205"
                                },
                                {
                                    "0": "Methaniers Pilot Boarding Area",
                                    "1": "-0.2244576961951349"
                                },
                                {
                                    "0": "Miami",
                                    "1": "-0.24191551701031205"
                                },
                                {
                                    "0": "Miami Anchorage",
                                    "1": "-0.23942154260814388"
                                },
                                {
                                    "0": "Milford Haven Anchorage",
                                    "1": "-0.2369275682059757"
                                },
                                {
                                    "0": "Milos Island",
                                    "1": "-0.24191551701031205"
                                },
                                {
                                    "0": "Mina Abd Allah Terminal_Mina Ash Shuaybah Petroleum Products Pier Anchorage",
                                    "1": "-0.24191551701031205"
                                },
                                {
                                    "0": "Mina Al Ahmadi South Pier Anchorage",
                                    "1": "-0.23942154260814388"
                                },
                                {
                                    "0": "MIna Al Ahmadi SPM Anchorage",
                                    "1": "-0.2244576961951349"
                                },
                                {
                                    "0": "Mina al Fahal Anchorage",
                                    "1": "-0.24191551701031205"
                                },
                                {
                                    "0": "Mina Salman",
                                    "1": "-0.23942154260814388"
                                },
                                {
                                    "0": "Miri",
                                    "1": "-0.24191551701031205"
                                },
                                {
                                    "0": "Mishima-Kawanoe",
                                    "1": "-0.24191551701031205"
                                },
                                {
                                    "0": "Misumi (Kumamoto)",
                                    "1": "-0.24191551701031205"
                                },
                                {
                                    "0": "Mitajiri",
                                    "1": "0.857927194345849"
                                },
                                {
                                    "0": "Mizushima",
                                    "1": "0.4314575715750926"
                                },
                                {
                                    "0": "Mizushima Anchor Berths A - E",
                                    "1": "-0.24191551701031205"
                                },
                                {
                                    "0": "Mizushima Quarantine Anchorage",
                                    "1": "-0.1446505153257536"
                                },
                                {
                                    "0": "Mobile",
                                    "1": "-0.2319396194016394"
                                },
                                {
                                    "0": "Mobile Outer Fairway Anchorage",
                                    "1": "-0.23443359380380754"
                                },
                                {
                                    "0": "Mohammedia Anchorage",
                                    "1": "-0.23942154260814388"
                                },
                                {
                                    "0": "Moji",
                                    "1": "0.9053127079870441"
                                },
                                {
                                    "0": "Moji Northern Anchorage",
                                    "1": "-0.23942154260814388"
                                },
                                {
                                    "0": "Moji Southern Anchorage",
                                    "1": "-0.2094938497821259"
                                },
                                {
                                    "0": "Mokha",
                                    "1": "-0.24191551701031205"
                                },
                                {
                                    "0": "Mokpo",
                                    "1": "1.7707218255393975"
                                },
                                {
                                    "0": "Mokpo Anchorage Area IV",
                                    "1": "0.21697577298863038"
                                },
                                {
                                    "0": "Mokpo Anchorage Area V",
                                    "1": "-0.15712038733659442"
                                },
                                {
                                    "0": "Mokpo Outer Anchorages",
                                    "1": "-0.02743371842384982"
                                },
                                {
                                    "0": "Mombasa",
                                    "1": "0.49879488043363307"
                                },
                                {
                                    "0": "Mombasa Anchorages",
                                    "1": "0.2369275682059757"
                                },
                                {
                                    "0": "Monbetsu",
                                    "1": "-0.24191551701031205"
                                },
                                {
                                    "0": "Monfalcone",
                                    "1": "-0.24191551701031205"
                                },
                                {
                                    "0": "Monfalcone Anchorage",
                                    "1": "-0.24191551701031205"
                                },
                                {
                                    "0": "Mongla",
                                    "1": "-0.18954205456478057"
                                },
                                {
                                    "0": "Montevideo",
                                    "1": "0.08230115527154946"
                                },
                                {
                                    "0": "Montevideo Anchorage and Service Area",
                                    "1": "1.0325054024976206"
                                },
                                {
                                    "0": "Mormugao",
                                    "1": "-0.24191551701031205"
                                },
                                {
                                    "0": "Mostaganem",
                                    "1": "-0.21697577298863038"
                                },
                                {
                                    "0": "Mostaganem Anchorage",
                                    "1": "-0.23942154260814388"
                                },
                                {
                                    "0": "Muara",
                                    "1": "-0.1371685921192491"
                                },
                                {
                                    "0": "Muara Anchorage",
                                    "1": "-0.02743371842384982"
                                },
                                {
                                    "0": "Muara Pantai",
                                    "1": "-0.24191551701031205"
                                },
                                {
                                    "0": "Muara Tawar Power Station (PLTGU) CBM",
                                    "1": "-0.24191551701031205"
                                },
                                {
                                    "0": "Muhammad Bin Qasim",
                                    "1": "-0.21946974739079855"
                                },
                                {
                                    "0": "Muhammad Bin Qasim Outer Anchorage",
                                    "1": "-0.2369275682059757"
                                },
                                {
                                    "0": "Mumbai",
                                    "1": "0.012469872010840828"
                                },
                                {
                                    "0": "Mumbai Anchorage",
                                    "1": "-0.052373462445531475"
                                },
                                {
                                    "0": "Mumbai Bravo (East) Anchorage",
                                    "1": "-0.2369275682059757"
                                },
                                {
                                    "0": "Mumbai Bravo (West) Anchorage",
                                    "1": "-0.1870480801626124"
                                },
                                {
                                    "0": "Mumbai Cargo Transhipment Area",
                                    "1": "-0.2369275682059757"
                                },
                                {
                                    "0": "Mumbai Outer Anchorage",
                                    "1": "-0.09975897608672663"
                                },
                                {
                                    "0": "Mundra",
                                    "1": "-0.08479512967371762"
                                },
                                {
                                    "0": "Mundra General Anchorage A",
                                    "1": "-0.019951795217345324"
                                },
                                {
                                    "0": "Mundra General Anchorage B",
                                    "1": "-0.23443359380380754"
                                },
                                {
                                    "0": "Mundra South Basin",
                                    "1": "-0.1870480801626124"
                                },
                                {
                                    "0": "Mundra SPM Anchorage",
                                    "1": "-0.22944564499947123"
                                },
                                {
                                    "0": "Mundra SPM's Anchorage",
                                    "1": "-0.2369275682059757"
                                },
                                {
                                    "0": "Munguba",
                                    "1": "-0.24191551701031205"
                                },
                                {
                                    "0": "Muroran",
                                    "1": "-0.24191551701031205"
                                },
                                {
                                    "0": "Musaffah",
                                    "1": "-0.24191551701031205"
                                },
                                {
                                    "0": "Musaffah Anchorage",
                                    "1": "-0.19702397777128508"
                                },
                                {
                                    "0": "My Thoi",
                                    "1": "-0.24191551701031205"
                                },
                                {
                                    "0": "NA",
                                    "1": "32.18224568557801"
                                },
                                {
                                    "0": "Nagasaki South Section",
                                    "1": "-0.24191551701031205"
                                },
                                {
                                    "0": "Nagoya",
                                    "1": "5.963092795584084"
                                },
                                {
                                    "0": "Nagoya Anchorage",
                                    "1": "1.3342763051599684"
                                },
                                {
                                    "0": "Nagoya LPG Anchorage",
                                    "1": "0.8055537319003174"
                                },
                                {
                                    "0": "Naha",
                                    "1": "-0.22196372179296672"
                                },
                                {
                                    "0": "Nakhodka",
                                    "1": "-0.23443359380380754"
                                },
                                {
                                    "0": "Nakhodka Anchorage No. 167",
                                    "1": "-0.24191551701031205"
                                },
                                {
                                    "0": "Nakhodka Anchorage No. 306",
                                    "1": "-0.24191551701031205"
                                },
                                {
                                    "0": "Nakhodka Anchorages 166 to 167",
                                    "1": "-0.23443359380380754"
                                },
                                {
                                    "0": "Nampo",
                                    "1": "-0.24191551701031205"
                                },
                                {
                                    "0": "Nanao",
                                    "1": "-0.23942154260814388"
                                },
                                {
                                    "0": "Nancao Temporary Anchorage A for Dangerous Cargo Vessels",
                                    "1": "-0.24191551701031205"
                                },
                                {
                                    "0": "Nancao Temporary Anchorage B for Dangerous Cargo Vessels",
                                    "1": "-0.24191551701031205"
                                },
                                {
                                    "0": "Nancao Temporary Anchorage No 1",
                                    "1": "-0.24191551701031205"
                                },
                                {
                                    "0": "Nancao Temporary Anchorage No 2",
                                    "1": "-0.23942154260814388"
                                },
                                {
                                    "0": "Nanhui",
                                    "1": "-0.24191551701031205"
                                },
                                {
                                    "0": "Nanjing",
                                    "1": "-0.22944564499947123"
                                },
                                {
                                    "0": "Nansha",
                                    "1": "-0.24191551701031205"
                                },
                                {
                                    "0": "Nansha Anchorage 33LD",
                                    "1": "-0.24191551701031205"
                                },
                                {
                                    "0": "Nantong",
                                    "1": "-0.12469872010840827"
                                },
                                {
                                    "0": "Nantong Port Dangerous Goods Anchorage",
                                    "1": "-0.17707218255393975"
                                },
                                {
                                    "0": "Nantong Port Erhaojia Anchorage",
                                    "1": "-0.23443359380380754"
                                },
                                {
                                    "0": "Nantong Port Lightering Anchorage",
                                    "1": "-0.2319396194016394"
                                },
                                {
                                    "0": "Naoetsu",
                                    "1": "-0.24191551701031205"
                                },
                                {
                                    "0": "Nassau",
                                    "1": "-0.0798071808693813"
                                },
                                {
                                    "0": "Naze",
                                    "1": "-0.14215654092358543"
                                },
                                {
                                    "0": "Neendakara",
                                    "1": "-0.23942154260814388"
                                },
                                {
                                    "0": "Nelson",
                                    "1": "0.009975897608672662"
                                },
                                {
                                    "0": "Nemrut Bay Outer Anchorage",
                                    "1": "-0.24191551701031205"
                                },
                                {
                                    "0": "Neue-Weser-Nord-Reede Anchorage",
                                    "1": "0.4539033411946061"
                                },
                                {
                                    "0": "Neue-Weser-Reede Anchorage",
                                    "1": "-0.24191551701031205"
                                },
                                {
                                    "0": "Neuhaus",
                                    "1": "-0.24191551701031205"
                                },
                                {
                                    "0": "New Glasgow & Trenton",
                                    "1": "-0.24191551701031205"
                                },
                                {
                                    "0": "New Sand Hole Anchorage",
                                    "1": "-0.15712038733659442"
                                },
                                {
                                    "0": "New York & New Jersey",
                                    "1": "2.144817985864622"
                                },
                                {
                                    "0": "New York & New Jersey Anchorage",
                                    "1": "-0.21198782418429407"
                                },
                                {
                                    "0": "New York & New Jersey Brenton Point Anchorage Ground",
                                    "1": "-0.2319396194016394"
                                },
                                {
                                    "0": "New York_New Jersey Anchorage",
                                    "1": "-0.19702397777128508"
                                },
                                {
                                    "0": "Newcaste Upon Tyne Anchorage",
                                    "1": "-0.04239756483685881"
                                },
                                {
                                    "0": "Newcastle (Australia)",
                                    "1": "-0.22695167059730306"
                                },
                                {
                                    "0": "Newcastle (Australia) Anchorage",
                                    "1": "-0.22695167059730306"
                                },
                                {
                                    "0": "Newcastle upon Tyne",
                                    "1": "-0.009975897608672662"
                                },
                                {
                                    "0": "Newcastle upon Tyne Anchorage",
                                    "1": "-0.2020119265756214"
                                },
                                {
                                    "0": "Newport (Rhode Island)",
                                    "1": "-0.2319396194016394"
                                },
                                {
                                    "0": "Newport (Rhode Island) Naval & General A",
                                    "1": "-0.12469872010840827"
                                },
                                {
                                    "0": "Newport (Rhode Island) Naval & General A Anchorage",
                                    "1": "-0.21697577298863038"
                                },
                                {
                                    "0": "Newport News",
                                    "1": "0.052373462445531475"
                                },
                                {
                                    "0": "Nghe Tinh",
                                    "1": "-0.24191551701031205"
                                },
                                {
                                    "0": "Nha Trang",
                                    "1": "-0.24191551701031205"
                                },
                                {
                                    "0": "Niihama",
                                    "1": "-0.2369275682059757"
                                },
                                {
                                    "0": "Niihama Anchorage",
                                    "1": "-0.2020119265756214"
                                },
                                {
                                    "0": "Nikolayev Outer Anchorage",
                                    "1": "-0.24191551701031205"
                                },
                                {
                                    "0": "Ningbo Anchorage",
                                    "1": "-0.21946974739079855"
                                },
                                {
                                    "0": "No 1 Qianhai Anchorage",
                                    "1": "-0.21448179858646224"
                                },
                                {
                                    "0": "Nordenham",
                                    "1": "-0.23443359380380754"
                                },
                                {
                                    "0": "Nordostreed Anchorage; Brunsbuttel",
                                    "1": "-0.2369275682059757"
                                },
                                {
                                    "0": "Norfolk",
                                    "1": "-0.2369275682059757"
                                },
                                {
                                    "0": "North Port",
                                    "1": "0.06733730885854047"
                                },
                                {
                                    "0": "North Port Anchorage North",
                                    "1": "-0.2244576961951349"
                                },
                                {
                                    "0": "North Port Anchorage South",
                                    "1": "-0.17956615695610792"
                                },
                                {
                                    "0": "North Vancouver",
                                    "1": "-0.20450590097778956"
                                },
                                {
                                    "0": "Northport (Malaysia)",
                                    "1": "-0.1870480801626124"
                                },
                                {
                                    "0": "Northport Anchorage North (Malaysia)",
                                    "1": "-0.23942154260814388"
                                },
                                {
                                    "0": "Northport Anchorage South (Malaysia)",
                                    "1": "-0.2369275682059757"
                                },
                                {
                                    "0": "Noumea",
                                    "1": "-0.13966256652141726"
                                },
                                {
                                    "0": "Novorossiysk",
                                    "1": "-0.1870480801626124"
                                },
                                {
                                    "0": "Novorossiysk Anchorage 410",
                                    "1": "-0.24191551701031205"
                                },
                                {
                                    "0": "Novorossiysk Anchorage 414",
                                    "1": "-0.24191551701031205"
                                },
                                {
                                    "0": "Nueva Palmira",
                                    "1": "-0.22196372179296672"
                                },
                                {
                                    "0": "Nueva Palmira Anchorage",
                                    "1": "-0.22944564499947123"
                                },
                                {
                                    "0": "Oarai",
                                    "1": "-0.23942154260814388"
                                },
                                {
                                    "0": "Offshore Pascagoula No 2",
                                    "1": "-0.23942154260814388"
                                },
                                {
                                    "0": "Ogishima",
                                    "1": "-0.1820601313582761"
                                },
                                {
                                    "0": "Oita",
                                    "1": "-0.23942154260814388"
                                },
                                {
                                    "0": "Oita Anchorage",
                                    "1": "-0.24191551701031205"
                                },
                                {
                                    "0": "Oita Quarantine Anchorage",
                                    "1": "-0.24191551701031205"
                                },
                                {
                                    "0": "Okpo Anchorage",
                                    "1": "1.838059134397938"
                                },
                                {
                                    "0": "Omaezaki",
                                    "1": "0.13218064331491278"
                                },
                                {
                                    "0": "Onahama",
                                    "1": "-0.23443359380380754"
                                },
                                {
                                    "0": "Onahama Quarantine Anchorage",
                                    "1": "-0.24191551701031205"
                                },
                                {
                                    "0": "Oostdyck",
                                    "1": "-0.18455410576044423"
                                },
                                {
                                    "0": "Oranjestad (Aruba)",
                                    "1": "-0.04738551364119514"
                                },
                                {
                                    "0": "Osaka",
                                    "1": "-0.012469872010840828"
                                },
                                {
                                    "0": "Osaka Anchorage",
                                    "1": "-0.20450590097778956"
                                },
                                {
                                    "0": "Osaka Quarantine Anchorage",
                                    "1": "-0.1870480801626124"
                                },
                                {
                                    "0": "Oudna Terminal",
                                    "1": "-0.24191551701031205"
                                },
                                {
                                    "0": "Owendo",
                                    "1": "-0.17707218255393975"
                                },
                                {
                                    "0": "Palenque",
                                    "1": "-0.1820601313582761"
                                },
                                {
                                    "0": "Palm Beach",
                                    "1": "-0.24191551701031205"
                                },
                                {
                                    "0": "Palma",
                                    "1": "-0.24191551701031205"
                                },
                                {
                                    "0": "Panama Canal",
                                    "1": "1.6684688750505028"
                                },
                                {
                                    "0": "Panama Canal Atlantic Inner Anchorage",
                                    "1": "1.4390232300510315"
                                },
                                {
                                    "0": "Panama Canal Atlantic Outer Anchorage",
                                    "1": "4.115057763577473"
                                },
                                {
                                    "0": "Panama Canal Pacific Anchorage",
                                    "1": "2.815697100047859"
                                },
                                {
                                    "0": "Pantoloan",
                                    "1": "-0.22695167059730306"
                                },
                                {
                                    "0": "Papeete",
                                    "1": "-0.19702397777128508"
                                },
                                {
                                    "0": "Paramaribo",
                                    "1": "-0.052373462445531475"
                                },
                                {
                                    "0": "Paranagua",
                                    "1": "0.3641202627165522"
                                },
                                {
                                    "0": "Paranagua Anchorage No 11",
                                    "1": "-0.24191551701031205"
                                },
                                {
                                    "0": "Paranagua Anchorage No 12",
                                    "1": "0.8878548871718669"
                                },
                                {
                                    "0": "Paranagua Anchorage No 5",
                                    "1": "-0.22695167059730306"
                                },
                                {
                                    "0": "Paranagua Anchorage No 6",
                                    "1": "-0.2094938497821259"
                                },
                                {
                                    "0": "Paranagua Anchorage No 7",
                                    "1": "-0.21198782418429407"
                                },
                                {
                                    "0": "Paranagua Anchorage No 8",
                                    "1": "-0.23443359380380754"
                                },
                                {
                                    "0": "Paranagua Anchorage No 9",
                                    "1": "-0.20450590097778956"
                                },
                                {
                                    "0": "Paris",
                                    "1": "-0.23942154260814388"
                                },
                                {
                                    "0": "Pasajes",
                                    "1": "-0.24191551701031205"
                                },
                                {
                                    "0": "Paulsboro",
                                    "1": "0.0798071808693813"
                                },
                                {
                                    "0": "Pearl Harbor",
                                    "1": "-0.2244576961951349"
                                },
                                {
                                    "0": "Pecem Anchorage",
                                    "1": "-0.24191551701031205"
                                },
                                {
                                    "0": "Pemba",
                                    "1": "-0.24191551701031205"
                                },
                                {
                                    "0": "Petchburi Terminal",
                                    "1": "-0.24191551701031205"
                                },
                                {
                                    "0": "Philadelphia",
                                    "1": "0.1945300033691169"
                                },
                                {
                                    "0": "Philipsburg Anchorage",
                                    "1": "-0.24191551701031205"
                                },
                                {
                                    "0": "Phnom-Penh",
                                    "1": "-0.24191551701031205"
                                },
                                {
                                    "0": "Pindhara",
                                    "1": "-0.24191551701031205"
                                },
                                {
                                    "0": "Piraeus",
                                    "1": "0.8155296295089901"
                                },
                                {
                                    "0": "Piraeus Anchorage",
                                    "1": "1.2469872010840828"
                                },
                                {
                                    "0": "Pittsburg",
                                    "1": "-0.24191551701031205"
                                },
                                {
                                    "0": "Plumper Sound Anchorage No 1-5",
                                    "1": "-0.23942154260814388"
                                },
                                {
                                    "0": "Pohang",
                                    "1": "-0.24191551701031205"
                                },
                                {
                                    "0": "Pohang Outer Anchorages",
                                    "1": "-0.24191551701031205"
                                },
                                {
                                    "0": "Pohang Yeongil",
                                    "1": "-0.2369275682059757"
                                },
                                {
                                    "0": "Pointe-a-Pierre General Anchorage",
                                    "1": "-0.2369275682059757"
                                },
                                {
                                    "0": "Pointe-a-Pierre SBM",
                                    "1": "-0.2369275682059757"
                                },
                                {
                                    "0": "Pointe-a-Pitre",
                                    "1": "-0.10724089929323112"
                                },
                                {
                                    "0": "Pointe-Noire",
                                    "1": "-0.16460231054309893"
                                },
                                {
                                    "0": "Pointe-Noire Anchorage",
                                    "1": "-0.08728910407588579"
                                },
                                {
                                    "0": "Poleng",
                                    "1": "-0.23942154260814388"
                                },
                                {
                                    "0": "Pomalaa",
                                    "1": "-0.23942154260814388"
                                },
                                {
                                    "0": "Pontianak Anchorage",
                                    "1": "-0.24191551701031205"
                                },
                                {
                                    "0": "Poronaysk",
                                    "1": "-0.24191551701031205"
                                },
                                {
                                    "0": "Port Akdeniz Anchorage No 1",
                                    "1": "-0.23942154260814388"
                                },
                                {
                                    "0": "Port Akdeniz Anchorage No 2",
                                    "1": "-0.24191551701031205"
                                },
                                {
                                    "0": "Port Angeles",
                                    "1": "-0.2244576961951349"
                                },
                                {
                                    "0": "Port Arthur",
                                    "1": "-0.20450590097778956"
                                },
                                {
                                    "0": "Port au Prince",
                                    "1": "-0.21697577298863038"
                                },
                                {
                                    "0": "Port Bonython",
                                    "1": "-0.24191551701031205"
                                },
                                {
                                    "0": "Port Canaveral",
                                    "1": "-0.17956615695610792"
                                },
                                {
                                    "0": "Port de L'Amitie",
                                    "1": "-0.21448179858646224"
                                },
                                {
                                    "0": "Port de L'Amitie Anchorage",
                                    "1": "-0.19702397777128508"
                                },
                                {
                                    "0": "Port Elizabeth",
                                    "1": "0.3117468002710207"
                                },
                                {
                                    "0": "Port Elizabeth Anchorage No 1",
                                    "1": "-0.21198782418429407"
                                },
                                {
                                    "0": "Port Elizabeth Anchorage No 2",
                                    "1": "-0.17956615695610792"
                                },
                                {
                                    "0": "Port Everglades",
                                    "1": "-0.16460231054309893"
                                },
                                {
                                    "0": "Port Everglades Anchorage",
                                    "1": "-0.22196372179296672"
                                },
                                {
                                    "0": "Port Gentil",
                                    "1": "-0.24191551701031205"
                                },
                                {
                                    "0": "Port Gentil Anchorage",
                                    "1": "-0.24191551701031205"
                                },
                                {
                                    "0": "Port Jerome",
                                    "1": "-0.22196372179296672"
                                },
                                {
                                    "0": "Port Kembla",
                                    "1": "1.4190714348336861"
                                },
                                {
                                    "0": "Port Kembla Anchor Berths",
                                    "1": "1.506360538909572"
                                },
                                {
                                    "0": "Port Klang Lay-Up Anchorage",
                                    "1": "2.1922034995058173"
                                },
                                {
                                    "0": "Port Louis",
                                    "1": "-0.14714448972792177"
                                },
                                {
                                    "0": "Port Louis Anchorage",
                                    "1": "-0.11721679690190377"
                                },
                                {
                                    "0": "Port Moresby",
                                    "1": "-0.18455410576044423"
                                },
                                {
                                    "0": "Port Moresby Outer Anchorage",
                                    "1": "-0.16210833614093076"
                                },
                                {
                                    "0": "Port Moresby Quarantine Anchorage",
                                    "1": "-0.2244576961951349"
                                },
                                {
                                    "0": "Port Neches",
                                    "1": "-0.21946974739079855"
                                },
                                {
                                    "0": "Port North Fraser",
                                    "1": "0.7905898854873085"
                                },
                                {
                                    "0": "Port of Davisville",
                                    "1": "-0.12719269451057644"
                                },
                                {
                                    "0": "Port of South Louisiana",
                                    "1": "-0.24191551701031205"
                                },
                                {
                                    "0": "Port of Spain",
                                    "1": "0.16460231054309893"
                                },
                                {
                                    "0": "Port Rashid",
                                    "1": "-0.1870480801626124"
                                },
                                {
                                    "0": "Port Rashid Anchorage A",
                                    "1": "-0.18954205456478057"
                                },
                                {
                                    "0": "Port Rashid Anchorage C",
                                    "1": "-0.18455410576044423"
                                },
                                {
                                    "0": "Port Rashid Anchorage D",
                                    "1": "-0.10724089929323112"
                                },
                                {
                                    "0": "Port Rashid Long Term Anchorage",
                                    "1": "-0.2020119265756214"
                                },
                                {
                                    "0": "Port Refuge",
                                    "1": "-0.24191551701031205"
                                },
                                {
                                    "0": "Port Reunion",
                                    "1": "-0.12469872010840827"
                                },
                                {
                                    "0": "Port Royal (Jamaica) Small Craft Anchorage",
                                    "1": "-0.22196372179296672"
                                },
                                {
                                    "0": "Port Said",
                                    "1": "0.39155398114040196"
                                },
                                {
                                    "0": "Port Said Cargo Transhipment Anchorage",
                                    "1": "-0.23942154260814388"
                                },
                                {
                                    "0": "Port Said North Anchorage",
                                    "1": "1.0898668137474883"
                                },
                                {
                                    "0": "Port Said South Anchorage",
                                    "1": "1.0449752745084613"
                                },
                                {
                                    "0": "Port Said West Anchorage",
                                    "1": "-0.23942154260814388"
                                },
                                {
                                    "0": "Port Sudan",
                                    "1": "-0.0723252576628768"
                                },
                                {
                                    "0": "Port Sultan Qaboos",
                                    "1": "0.15462641293442625"
                                },
                                {
                                    "0": "Port Sultan Qaboos Anchorage",
                                    "1": "-0.22695167059730306"
                                },
                                {
                                    "0": "Port Wentworth",
                                    "1": "-0.03242166722818615"
                                },
                                {
                                    "0": "Portland (USA-Oregon)",
                                    "1": "0.6459393701615549"
                                },
                                {
                                    "0": "Porto Cervo",
                                    "1": "-0.24191551701031205"
                                },
                                {
                                    "0": "Portsmouth (USA-Hampton Roads)",
                                    "1": "-0.2319396194016394"
                                },
                                {
                                    "0": "Portsmouth Man-of-War Anchorage",
                                    "1": "-0.2369275682059757"
                                },
                                {
                                    "0": "Posorja Anchorage",
                                    "1": "-0.2319396194016394"
                                },
                                {
                                    "0": "Providence",
                                    "1": "-0.1521324385322581"
                                },
                                {
                                    "0": "PSVM FPSO",
                                    "1": "-0.22944564499947123"
                                },
                                {
                                    "0": "Puerto Cabello",
                                    "1": "0.08230115527154946"
                                },
                                {
                                    "0": "Puerto Cabello Anchorage",
                                    "1": "0.28431308184717086"
                                },
                                {
                                    "0": "Puerto Cortes",
                                    "1": "-0.17956615695610792"
                                },
                                {
                                    "0": "Puerto Cortes Anchorage",
                                    "1": "-0.24191551701031205"
                                },
                                {
                                    "0": "Puerto La Cruz",
                                    "1": "-0.2369275682059757"
                                },
                                {
                                    "0": "Puerto La Cruz Tanker Anchorage West",
                                    "1": "-0.24191551701031205"
                                },
                                {
                                    "0": "Puerto Limon",
                                    "1": "-0.17707218255393975"
                                },
                                {
                                    "0": "Puerto Limon Anchorage",
                                    "1": "-0.18954205456478057"
                                },
                                {
                                    "0": "Puerto Moin",
                                    "1": "-0.22695167059730306"
                                },
                                {
                                    "0": "Puerto Princesa",
                                    "1": "-0.24191551701031205"
                                },
                                {
                                    "0": "Puerto Progreso Anchorage",
                                    "1": "-0.24191551701031205"
                                },
                                {
                                    "0": "Puerto Quetzal",
                                    "1": "-0.024939744021681656"
                                },
                                {
                                    "0": "Puerto Quetzal Anchorage",
                                    "1": "-0.17956615695610792"
                                },
                                {
                                    "0": "Pulupandan",
                                    "1": "-0.23942154260814388"
                                },
                                {
                                    "0": "Pyeong Taek",
                                    "1": "4.164937251620836"
                                },
                                {
                                    "0": "Pyeong Taek Anchorage",
                                    "1": "2.7832754328196727"
                                },
                                {
                                    "0": "Pyeong Taek Quarantine Anchorage",
                                    "1": "2.9927692826017984"
                                },
                                {
                                    "0": "Qasr Ahmed",
                                    "1": "-0.009975897608672662"
                                },
                                {
                                    "0": "Qasr Ahmed Anchorage",
                                    "1": "0.16210833614093076"
                                },
                                {
                                    "0": "Qingdao",
                                    "1": "0.08230115527154946"
                                },
                                {
                                    "0": "Qingdao Inner Anchorage",
                                    "1": "-0.22944564499947123"
                                },
                                {
                                    "0": "Qingdao Outer Anchorage",
                                    "1": "-0.2094938497821259"
                                },
                                {
                                    "0": "Qinhuangdao East Anchorage",
                                    "1": "-0.23942154260814388"
                                },
                                {
                                    "0": "Qinhuangdao Lightering Anchorage",
                                    "1": "-0.24191551701031205"
                                },
                                {
                                    "0": "Qinzhou No 1 Anchorage 10 to 20t vessels",
                                    "1": "-0.24191551701031205"
                                },
                                {
                                    "0": "Qinzhou Quarantine Anchorage",
                                    "1": "-0.23942154260814388"
                                },
                                {
                                    "0": "Qushan",
                                    "1": "-0.14714448972792177"
                                },
                                {
                                    "0": "Rabaul",
                                    "1": "-0.24191551701031205"
                                },
                                {
                                    "0": "Raffles Reserved Anchorage (ARAFR)",
                                    "1": "-0.24191551701031205"
                                },
                                {
                                    "0": "Rang Dong FPSO",
                                    "1": "-0.24191551701031205"
                                },
                                {
                                    "0": "Ras Diheisa Deep Water Anchorage",
                                    "1": "-0.17457820815177158"
                                },
                                {
                                    "0": "Ras Laffan Anchorage 1",
                                    "1": "-0.24191551701031205"
                                },
                                {
                                    "0": "Ras Laffan Anchorage 2",
                                    "1": "-0.2020119265756214"
                                },
                                {
                                    "0": "Ras Laffan SPM Terminal",
                                    "1": "-0.24191551701031205"
                                },
                                {
                                    "0": "Ras Tanura Tanker Anchorage",
                                    "1": "-0.2369275682059757"
                                },
                                {
                                    "0": "Recalada Anchorage",
                                    "1": "-0.12220474570624011"
                                },
                                {
                                    "0": "Recife",
                                    "1": "-0.22695167059730306"
                                },
                                {
                                    "0": "Recife Anchorage",
                                    "1": "-0.2319396194016394"
                                },
                                {
                                    "0": "Rede Vlissingen Anchorage",
                                    "1": "-0.22695167059730306"
                                },
                                {
                                    "0": "Reede Fedderwarden Anchorage",
                                    "1": "-0.23443359380380754"
                                },
                                {
                                    "0": "Revdanda",
                                    "1": "-0.23942154260814388"
                                },
                                {
                                    "0": "Richards Bay Anchorage",
                                    "1": "-0.23443359380380754"
                                },
                                {
                                    "0": "Richmond (California)",
                                    "1": "0.1596143617387626"
                                },
                                {
                                    "0": "Richmond (Canada)",
                                    "1": "0.26186731222765736"
                                },
                                {
                                    "0": "Ridens Anchorage",
                                    "1": "-0.23942154260814388"
                                },
                                {
                                    "0": "Rimini",
                                    "1": "-0.24191551701031205"
                                },
                                {
                                    "0": "Rio de Janeiro",
                                    "1": "0.034915641630354315"
                                },
                                {
                                    "0": "Rio de Janeiro Anchorage No 1",
                                    "1": "-0.22944564499947123"
                                },
                                {
                                    "0": "Rio de Janeiro Anchorage No 13",
                                    "1": "0.014963846413008993"
                                },
                                {
                                    "0": "Rio de Janeiro Anchorage No 14",
                                    "1": "-0.17956615695610792"
                                },
                                {
                                    "0": "Rio de Janeiro Anchorage No 2 (N)",
                                    "1": "-0.22944564499947123"
                                },
                                {
                                    "0": "Rio de Janeiro Anchorage No 3A",
                                    "1": "-0.24191551701031205"
                                },
                                {
                                    "0": "Rio de Janeiro Anchorage No 4",
                                    "1": "-0.24191551701031205"
                                },
                                {
                                    "0": "Rio de Janeiro Anchorage No 6 (E)",
                                    "1": "-0.24191551701031205"
                                },
                                {
                                    "0": "Rio de Janeiro Anchorage No 8A",
                                    "1": "-0.24191551701031205"
                                },
                                {
                                    "0": "Rio Grande (Brazil)",
                                    "1": "-0.0798071808693813"
                                },
                                {
                                    "0": "Rio Grande (Brazil) Anchorage",
                                    "1": "0.02244576961951349"
                                },
                                {
                                    "0": "Rio Haina",
                                    "1": "-0.21946974739079855"
                                },
                                {
                                    "0": "River Plate Lightering Area A",
                                    "1": "0.7332284742374406"
                                },
                                {
                                    "0": "River Plate Lightering Area D",
                                    "1": "-0.19702397777128508"
                                },
                                {
                                    "0": "Rizhao Anchorage No 2",
                                    "1": "-0.24191551701031205"
                                },
                                {
                                    "0": "Roberts Bank",
                                    "1": "-0.24191551701031205"
                                },
                                {
                                    "0": "Rodman Naval Station",
                                    "1": "-0.23942154260814388"
                                },
                                {
                                    "0": "Rosario",
                                    "1": "-0.24191551701031205"
                                },
                                {
                                    "0": "Roseau",
                                    "1": "-0.2094938497821259"
                                },
                                {
                                    "0": "Rostock",
                                    "1": "-0.24191551701031205"
                                },
                                {
                                    "0": "Rosyth",
                                    "1": "-0.24191551701031205"
                                },
                                {
                                    "0": "Rota",
                                    "1": "-0.23942154260814388"
                                },
                                {
                                    "0": "Rotterdam",
                                    "1": "-0.24191551701031205"
                                },
                                {
                                    "0": "Rotterdam Anchorage No 3A",
                                    "1": "-0.10973487369539928"
                                },
                                {
                                    "0": "Rotterdam Anchorage No 3C",
                                    "1": "-0.1670962849452671"
                                },
                                {
                                    "0": "Rotterdam Anchorage No 4BN",
                                    "1": "-0.22695167059730306"
                                },
                                {
                                    "0": "Rotterdam Anchorage No 5A",
                                    "1": "-0.2369275682059757"
                                },
                                {
                                    "0": "Rotterdam Anchorage No 5B",
                                    "1": "-0.22944564499947123"
                                },
                                {
                                    "0": "Rotterdam Anchorage No 6",
                                    "1": "-0.24191551701031205"
                                },
                                {
                                    "0": "Rotterdam Anchorage No. 2",
                                    "1": "-0.24191551701031205"
                                },
                                {
                                    "0": "Rotterdam Emergency Deep Water Anchorage",
                                    "1": "-0.21946974739079855"
                                },
                                {
                                    "0": "Rouen",
                                    "1": "-0.22695167059730306"
                                },
                                {
                                    "0": "Ryde Middle Anchorage",
                                    "1": "-0.19702397777128508"
                                },
                                {
                                    "0": "Sabine Pass",
                                    "1": "-0.19702397777128508"
                                },
                                {
                                    "0": "Sabine Pass Inshore Anchorage",
                                    "1": "-0.22944564499947123"
                                },
                                {
                                    "0": "Safety Fairway Anchorages",
                                    "1": "-0.24191551701031205"
                                },
                                {
                                    "0": "Sagunto",
                                    "1": "-0.014963846413008993"
                                },
                                {
                                    "0": "Sagunto Anchorage",
                                    "1": "-0.17707218255393975"
                                },
                                {
                                    "0": "Sagunto Dangerous Cargo Anchorage",
                                    "1": "-0.19951795217345325"
                                },
                                {
                                    "0": "Saigon",
                                    "1": "-0.11222884809756745"
                                },
                                {
                                    "0": "Saiki",
                                    "1": "-0.24191551701031205"
                                },
                                {
                                    "0": "Saipan",
                                    "1": "-0.15712038733659442"
                                },
                                {
                                    "0": "Saiqi",
                                    "1": "-0.24191551701031205"
                                },
                                {
                                    "0": "Sakai",
                                    "1": "-0.2319396194016394"
                                },
                                {
                                    "0": "Sakai Anchor Berths",
                                    "1": "-0.24191551701031205"
                                },
                                {
                                    "0": "Sakaide",
                                    "1": "-0.17457820815177158"
                                },
                                {
                                    "0": "Sakaide Quarantine Anchorage",
                                    "1": "-0.22944564499947123"
                                },
                                {
                                    "0": "Sakaiminato",
                                    "1": "-0.24191551701031205"
                                },
                                {
                                    "0": "Sakata",
                                    "1": "-0.24191551701031205"
                                },
                                {
                                    "0": "Salalah",
                                    "1": "-0.19702397777128508"
                                },
                                {
                                    "0": "Salalah Anchorage",
                                    "1": "-0.2319396194016394"
                                },
                                {
                                    "0": "Salalah Anchorage D",
                                    "1": "-0.24191551701031205"
                                },
                                {
                                    "0": "Saldanha Bay Outer Anchorage",
                                    "1": "-0.24191551701031205"
                                },
                                {
                                    "0": "Salem River Anchorage No 1",
                                    "1": "-0.24191551701031205"
                                },
                                {
                                    "0": "Salem River Anchorage No 2",
                                    "1": "-0.24191551701031205"
                                },
                                {
                                    "0": "Salem River Anchorage No 3",
                                    "1": "-0.1820601313582761"
                                },
                                {
                                    "0": "Salerno",
                                    "1": "-0.21697577298863038"
                                },
                                {
                                    "0": "Salina Anchorage",
                                    "1": "-0.2319396194016394"
                                },
                                {
                                    "0": "Salvador",
                                    "1": "-0.1870480801626124"
                                },
                                {
                                    "0": "Salvador Anchorage No 1",
                                    "1": "-0.2369275682059757"
                                },
                                {
                                    "0": "Salvador Anchorage No 2",
                                    "1": "-0.1596143617387626"
                                },
                                {
                                    "0": "Salvador Anchorage No 3",
                                    "1": "-0.1371685921192491"
                                },
                                {
                                    "0": "Salvador Quarantine Anchorage",
                                    "1": "-0.2369275682059757"
                                },
                                {
                                    "0": "Samalaju",
                                    "1": "-0.23942154260814388"
                                },
                                {
                                    "0": "Samos",
                                    "1": "-0.24191551701031205"
                                },
                                {
                                    "0": "San Antonio",
                                    "1": "0.5012888548358012"
                                },
                                {
                                    "0": "San Antonio Anchorage",
                                    "1": "0.23942154260814388"
                                },
                                {
                                    "0": "San Diego",
                                    "1": "0.9526982216282393"
                                },
                                {
                                    "0": "San Francisco",
                                    "1": "-0.2369275682059757"
                                },
                                {
                                    "0": "San Francisco General Anchorage",
                                    "1": "-0.2020119265756214"
                                },
                                {
                                    "0": "San Juan",
                                    "1": "0.19203602896694874"
                                },
                                {
                                    "0": "San Lorenzo - San Martin",
                                    "1": "-0.24191551701031205"
                                },
                                {
                                    "0": "San Lorenzo (Honduras)",
                                    "1": "-0.07731320646721312"
                                },
                                {
                                    "0": "Sandakan",
                                    "1": "-0.24191551701031205"
                                },
                                {
                                    "0": "Sangi",
                                    "1": "-0.23942154260814388"
                                },
                                {
                                    "0": "Santa Cruz de Tenerife",
                                    "1": "-0.24191551701031205"
                                },
                                {
                                    "0": "Santa Cruz de Tenerife Anchorage",
                                    "1": "-0.2244576961951349"
                                },
                                {
                                    "0": "Santa Marta",
                                    "1": "0.13218064331491278"
                                },
                                {
                                    "0": "Santa Panagia Oil Terminal Anchorage",
                                    "1": "-0.24191551701031205"
                                },
                                {
                                    "0": "Santander",
                                    "1": "-0.012469872010840828"
                                },
                                {
                                    "0": "Santander Anchorage",
                                    "1": "-0.1820601313582761"
                                },
                                {
                                    "0": "Santo Domingo",
                                    "1": "0.2893010306515072"
                                },
                                {
                                    "0": "Santo Domingo Anchorage",
                                    "1": "-0.21448179858646224"
                                },
                                {
                                    "0": "Santo Tomas de Castilla",
                                    "1": "-0.16210833614093076"
                                },
                                {
                                    "0": "Santos",
                                    "1": "0.7307344998352725"
                                },
                                {
                                    "0": "Santos Anchorage",
                                    "1": "-0.16959025934743524"
                                },
                                {
                                    "0": "Santos Outer Anchorage",
                                    "1": "1.099842711356161"
                                },
                                {
                                    "0": "Santos Quarantine Anchorage",
                                    "1": "-0.1870480801626124"
                                },
                                {
                                    "0": "Sao Sebastiao",
                                    "1": "-0.1720842337496034"
                                },
                                {
                                    "0": "Sao Sebastiao North Anchorage",
                                    "1": "-0.2319396194016394"
                                },
                                {
                                    "0": "Sao Sebastiao South Anchorage",
                                    "1": "-0.19203602896694874"
                                },
                                {
                                    "0": "Saraylar",
                                    "1": "-0.24191551701031205"
                                },
                                {
                                    "0": "Sarikei",
                                    "1": "-0.2369275682059757"
                                },
                                {
                                    "0": "Satui Coal Anchorage A",
                                    "1": "0.3092528258688525"
                                },
                                {
                                    "0": "Saumlaki",
                                    "1": "-0.24191551701031205"
                                },
                                {
                                    "0": "Savannah",
                                    "1": "0.21198782418429407"
                                },
                                {
                                    "0": "Savona-Vado",
                                    "1": "-0.03242166722818615"
                                },
                                {
                                    "0": "Savona-Vado Anchorage A",
                                    "1": "-0.23443359380380754"
                                },
                                {
                                    "0": "Savona-Vado Anchorage B",
                                    "1": "-0.2369275682059757"
                                },
                                {
                                    "0": "Savona-Vado Anchorage C",
                                    "1": "-0.23942154260814388"
                                },
                                {
                                    "0": "Savona-Vado Anchorage D",
                                    "1": "-0.23443359380380754"
                                },
                                {
                                    "0": "Savona-Vado Anchorage E",
                                    "1": "-0.2094938497821259"
                                },
                                {
                                    "0": "Savona-Vado Outer Anchorage",
                                    "1": "-0.24191551701031205"
                                },
                                {
                                    "0": "Scheveningen",
                                    "1": "-0.24191551701031205"
                                },
                                {
                                    "0": "Schouwenbank Anchorage",
                                    "1": "0.9851198888564253"
                                },
                                {
                                    "0": "Seattle",
                                    "1": "-0.2319396194016394"
                                },
                                {
                                    "0": "Seibu Oil Sea Berth",
                                    "1": "-0.23942154260814388"
                                },
                                {
                                    "0": "Seine Approach Anchorage",
                                    "1": "-0.23443359380380754"
                                },
                                {
                                    "0": "Selaata",
                                    "1": "-0.24191551701031205"
                                },
                                {
                                    "0": "Senboku",
                                    "1": "0.8753850151610261"
                                },
                                {
                                    "0": "Senboku Anchorage",
                                    "1": "-0.05736141124986781"
                                },
                                {
                                    "0": "Senbong",
                                    "1": "-0.24191551701031205"
                                },
                                {
                                    "0": "Sendai",
                                    "1": "-0.2244576961951349"
                                },
                                {
                                    "0": "Sendai Anchorage",
                                    "1": "-0.2369275682059757"
                                },
                                {
                                    "0": "Sete",
                                    "1": "-0.11971077130407194"
                                },
                                {
                                    "0": "Sete Anchorage",
                                    "1": "-0.21697577298863038"
                                },
                                {
                                    "0": "Setubal",
                                    "1": "-0.15712038733659442"
                                },
                                {
                                    "0": "Setubal Military & Commercial Anchorage",
                                    "1": "-0.21448179858646224"
                                },
                                {
                                    "0": "Seville",
                                    "1": "-0.24191551701031205"
                                },
                                {
                                    "0": "Sha Lung Oil Terminal",
                                    "1": "-0.24191551701031205"
                                },
                                {
                                    "0": "Shahid Rajaee",
                                    "1": "-0.2020119265756214"
                                },
                                {
                                    "0": "Shahid Rajaee Anchorage",
                                    "1": "-0.2369275682059757"
                                },
                                {
                                    "0": "Shanghai",
                                    "1": "3.077564412275516"
                                },
                                {
                                    "0": "Shanghai Changxing Island",
                                    "1": "-0.21448179858646224"
                                },
                                {
                                    "0": "Shanghai Wusong Estuary Anchorage",
                                    "1": "-0.22196372179296672"
                                },
                                {
                                    "0": "Shanhaiguan",
                                    "1": "-0.1945300033691169"
                                },
                                {
                                    "0": "Shanhaiguan Shipyard Anchorage",
                                    "1": "-0.23443359380380754"
                                },
                                {
                                    "0": "Shanwei Lightering Anchorage",
                                    "1": "-0.24191551701031205"
                                },
                                {
                                    "0": "Sharjah",
                                    "1": "0.0723252576628768"
                                },
                                {
                                    "0": "Sharjah Anchorage",
                                    "1": "0.3541443651078795"
                                },
                                {
                                    "0": "Sharjah Offshore Terminal Anchorage No. 2",
                                    "1": "-0.24191551701031205"
                                },
                                {
                                    "0": "Sheerness",
                                    "1": "0.13467461771708095"
                                },
                                {
                                    "0": "Shenhu",
                                    "1": "-0.23942154260814388"
                                },
                                {
                                    "0": "Shi Wei",
                                    "1": "-0.24191551701031205"
                                },
                                {
                                    "0": "Shihu Anchorage",
                                    "1": "-0.2244576961951349"
                                },
                                {
                                    "0": "Shilong",
                                    "1": "-0.24191551701031205"
                                },
                                {
                                    "0": "Shimizu",
                                    "1": "-0.22695167059730306"
                                },
                                {
                                    "0": "Shimonoseki",
                                    "1": "-0.0723252576628768"
                                },
                                {
                                    "0": "Shimonoseki Inner Anchorage",
                                    "1": "-0.24191551701031205"
                                },
                                {
                                    "0": "Shimonoseki New Port",
                                    "1": "-0.2369275682059757"
                                },
                                {
                                    "0": "Shimonoseki Outer Anchorage",
                                    "1": "0.15462641293442625"
                                },
                                {
                                    "0": "Shimonoseki Quarantine Anchorage",
                                    "1": "-0.2319396194016394"
                                },
                                {
                                    "0": "Shimotsu Anchorage",
                                    "1": "-0.21697577298863038"
                                },
                                {
                                    "0": "Shin-Moji Anchorage",
                                    "1": "-0.22944564499947123"
                                },
                                {
                                    "0": "Shirashima",
                                    "1": "-0.24191551701031205"
                                },
                                {
                                    "0": "Shuaiba",
                                    "1": "-0.18954205456478057"
                                },
                                {
                                    "0": "Shuaiba Outer Harbour Anchorage",
                                    "1": "-0.21198782418429407"
                                },
                                {
                                    "0": "Shui Dong",
                                    "1": "-0.2319396194016394"
                                },
                                {
                                    "0": "Shui Dong SBM Anchorage",
                                    "1": "-0.24191551701031205"
                                },
                                {
                                    "0": "Shuwaikh",
                                    "1": "0.995095786465098"
                                },
                                {
                                    "0": "Shuwaikh Anchorage B",
                                    "1": "-0.1820601313582761"
                                },
                                {
                                    "0": "Shuwaikh Anchorage C",
                                    "1": "0.8255055271176628"
                                },
                                {
                                    "0": "Shuwaikh Anchorage D",
                                    "1": "-0.019951795217345324"
                                },
                                {
                                    "0": "Shuwaikh Anchorage E",
                                    "1": "-0.10973487369539928"
                                },
                                {
                                    "0": "Sidi Kerir Anchorage",
                                    "1": "-0.24191551701031205"
                                },
                                {
                                    "0": "Sidi Kerir Terminal",
                                    "1": "-0.24191551701031205"
                                },
                                {
                                    "0": "Sikka Product Vessel Anchorage",
                                    "1": "-0.24191551701031205"
                                },
                                {
                                    "0": "Sines Anchorage",
                                    "1": "-0.24191551701031205"
                                },
                                {
                                    "0": "Singapore",
                                    "1": "6.569128575310948"
                                },
                                {
                                    "0": "Singapore Eastern Anchorage (AEW)",
                                    "1": "0.03242166722818615"
                                },
                                {
                                    "0": "Singapore Eastern Bunkering A Anchorage (AEBA)",
                                    "1": "-0.18954205456478057"
                                },
                                {
                                    "0": "Singapore Eastern Bunkering B Anchorage (AEBB)",
                                    "1": "-0.0723252576628768"
                                },
                                {
                                    "0": "Singapore Eastern Bunkering C Anchorage (AEBC)",
                                    "1": "0.17457820815177158"
                                },
                                {
                                    "0": "Singapore Eastern Holding A Anchorage (AEHA)",
                                    "1": "-0.1870480801626124"
                                },
                                {
                                    "0": "Singapore Eastern Holding B Anchorage (AEHB)",
                                    "1": "-0.11472282249973562"
                                },
                                {
                                    "0": "Singapore Eastern Petroleum A Anchorage (AEPA)",
                                    "1": "-0.21448179858646224"
                                },
                                {
                                    "0": "Singapore Eastern Petroleum C Anchorage (AEPBC)",
                                    "1": "-0.23443359380380754"
                                },
                                {
                                    "0": "Singapore Eastern Special Purposes A Anchorage (AESPA)",
                                    "1": "0.10724089929323112"
                                },
                                {
                                    "0": "Singapore EOPL Anchorage",
                                    "1": "-0.05486743684769964"
                                },
                                {
                                    "0": "Singapore Horsburgh Anchorage",
                                    "1": "0.26186731222765736"
                                },
                                {
                                    "0": "Singapore LNG/LPG/Chemical Gas Carrier Anchorage (ALGAS)",
                                    "1": "-0.24191551701031205"
                                },
                                {
                                    "0": "Singapore Man-of-War Anchorage (AMOW)",
                                    "1": "-0.23942154260814388"
                                },
                                {
                                    "0": "Singapore Nipa Transit Anchorage",
                                    "1": "-0.21697577298863038"
                                },
                                {
                                    "0": "Singapore Pasir Panjang Holding Anchorage",
                                    "1": "-0.2369275682059757"
                                },
                                {
                                    "0": "Singapore Raffles Reserved Anchorage (ARAFR)",
                                    "1": "-0.2369275682059757"
                                },
                                {
                                    "0": "Singapore Sudong Bunkering A Anchorage (ASUBA)",
                                    "1": "-0.24191551701031205"
                                },
                                {
                                    "0": "Singapore Sudong Bunkering B Anchorage (ASUBB)",
                                    "1": "-0.24191551701031205"
                                },
                                {
                                    "0": "Singapore Sudong Holding Anchorage (ASH)",
                                    "1": "-0.22944564499947123"
                                },
                                {
                                    "0": "Singapore Very Large Crude Carrier Anchorage (AVLCC)",
                                    "1": "-0.24191551701031205"
                                },
                                {
                                    "0": "Singapore Western Anchorage (AWW)",
                                    "1": "-0.18954205456478057"
                                },
                                {
                                    "0": "Singapore Western Holding Anchorage (AWH)",
                                    "1": "-0.22944564499947123"
                                },
                                {
                                    "0": "Singapore Western Petroleum A Anchorage (AWPA)",
                                    "1": "-0.2369275682059757"
                                },
                                {
                                    "0": "Singapore Western Petroleum B Anchorage (AWPB)",
                                    "1": "-0.19203602896694874"
                                },
                                {
                                    "0": "Singapore Western Quarantine and Immigration Anchorage (AWQI)",
                                    "1": "-0.19702397777128508"
                                },
                                {
                                    "0": "Singapore WOPL Anchorage",
                                    "1": "0.36910821152088846"
                                },
                                {
                                    "0": "Sintete",
                                    "1": "-0.24191551701031205"
                                },
                                {
                                    "0": "Sitra",
                                    "1": "-0.23443359380380754"
                                },
                                {
                                    "0": "Sitra Explosives Anchorage",
                                    "1": "-0.06733730885854047"
                                },
                                {
                                    "0": "Sitra Inner Anchorage",
                                    "1": "-0.22944564499947123"
                                },
                                {
                                    "0": "Sitra Outer Anchorages A1 to A4",
                                    "1": "0.07731320646721312"
                                },
                                {
                                    "0": "Sitra Outer Anchorages B1 to B7",
                                    "1": "-0.21448179858646224"
                                },
                                {
                                    "0": "Skagen Anchorage",
                                    "1": "-0.18954205456478057"
                                },
                                {
                                    "0": "Slavyanka",
                                    "1": "-0.24191551701031205"
                                },
                                {
                                    "0": "Slavyanka Anchorages",
                                    "1": "-0.23942154260814388"
                                },
                                {
                                    "0": "Small Craft A Anchorage (ASCA)",
                                    "1": "-0.24191551701031205"
                                },
                                {
                                    "0": "Smith's Bluff",
                                    "1": "-0.21946974739079855"
                                },
                                {
                                    "0": "Sochi",
                                    "1": "-0.24191551701031205"
                                },
                                {
                                    "0": "Sohar",
                                    "1": "0.6110237285312006"
                                },
                                {
                                    "0": "Sohar Anchorage A",
                                    "1": "-0.034915641630354315"
                                },
                                {
                                    "0": "Sohar Anchorage B",
                                    "1": "-0.18455410576044423"
                                },
                                {
                                    "0": "Song Xia",
                                    "1": "-0.24191551701031205"
                                },
                                {
                                    "0": "Song Xia Anchorage",
                                    "1": "-0.23443359380380754"
                                },
                                {
                                    "0": "Songjin",
                                    "1": "-0.23942154260814388"
                                },
                                {
                                    "0": "South Falls Head Anchorage",
                                    "1": "-0.014963846413008993"
                                },
                                {
                                    "0": "South Sabine Point",
                                    "1": "0.45639731559677427"
                                },
                                {
                                    "0": "South Sabine Point Western Extension",
                                    "1": "-0.19702397777128508"
                                },
                                {
                                    "0": "Southampton",
                                    "1": "1.6410351566266528"
                                },
                                {
                                    "0": "Southend Deep Water Anchorage",
                                    "1": "-0.2319396194016394"
                                },
                                {
                                    "0": "Southtex",
                                    "1": "0.08728910407588579"
                                },
                                {
                                    "0": "Southwold STS",
                                    "1": "-0.2319396194016394"
                                },
                                {
                                    "0": "Split",
                                    "1": "-0.24191551701031205"
                                },
                                {
                                    "0": "Springergeul Anchorage",
                                    "1": "-0.2369275682059757"
                                },
                                {
                                    "0": "Sriracha Oil Terminals",
                                    "1": "-0.1820601313582761"
                                },
                                {
                                    "0": "Sriracha Oil Terminals Anchorage",
                                    "1": "-0.20450590097778956"
                                },
                                {
                                    "0": "Sriracha Oil Terminals Western Petroleum and Lightening Anchorage Area",
                                    "1": "-0.24191551701031205"
                                },
                                {
                                    "0": "St George's (Bermuda)",
                                    "1": "-0.24191551701031205"
                                },
                                {
                                    "0": "St George's (Bermuda) Anchorage",
                                    "1": "-0.23443359380380754"
                                },
                                {
                                    "0": "St Helier",
                                    "1": "-0.24191551701031205"
                                },
                                {
                                    "0": "St John's (Antigua)",
                                    "1": "-0.17707218255393975"
                                },
                                {
                                    "0": "St Marc",
                                    "1": "-0.23942154260814388"
                                },
                                {
                                    "0": "St Petersburg",
                                    "1": "-0.24191551701031205"
                                },
                                {
                                    "0": "Strasbourg",
                                    "1": "-0.24191551701031205"
                                },
                                {
                                    "0": "Su-Ao",
                                    "1": "-0.2369275682059757"
                                },
                                {
                                    "0": "Suape",
                                    "1": "-0.1870480801626124"
                                },
                                {
                                    "0": "Suape Anchorage",
                                    "1": "-0.17956615695610792"
                                },
                                {
                                    "0": "Suape Marine Terminal",
                                    "1": "-0.2244576961951349"
                                },
                                {
                                    "0": "Subic Bay",
                                    "1": "-0.23942154260814388"
                                },
                                {
                                    "0": "Subic Bay Anchorages",
                                    "1": "-0.23942154260814388"
                                },
                                {
                                    "0": "Sudong Bunkering A Anchorage (ASUBA)",
                                    "1": "-0.2319396194016394"
                                },
                                {
                                    "0": "Sudong Bunkering B Anchorage (ASUBB)",
                                    "1": "-0.24191551701031205"
                                },
                                {
                                    "0": "Sudong Explosive Anchorage (ASUEX)",
                                    "1": "-0.23942154260814388"
                                },
                                {
                                    "0": "Sudong Holding Anchorage (ASH)",
                                    "1": "-0.22196372179296672"
                                },
                                {
                                    "0": "Sudong Special Purpose Anchorage (ASSPU)",
                                    "1": "-0.24191551701031205"
                                },
                                {
                                    "0": "Sudreede Anchorage; Brunsbuttel",
                                    "1": "-0.24191551701031205"
                                },
                                {
                                    "0": "Suez",
                                    "1": "0.9127946311935485"
                                },
                                {
                                    "0": "Suez Bay Anchorage 1A - 10A",
                                    "1": "0.406517827553411"
                                },
                                {
                                    "0": "Suez Bay Anchorage 1C - 5C",
                                    "1": "-0.2369275682059757"
                                },
                                {
                                    "0": "Suez Bay Anchorage 1D - 6D",
                                    "1": "-0.1670962849452671"
                                },
                                {
                                    "0": "Suez Bay Eastern Channel Anchorage",
                                    "1": "-0.24191551701031205"
                                },
                                {
                                    "0": "Suez Bay Outer Anchorage 1 - 29",
                                    "1": "1.9103843920608148"
                                },
                                {
                                    "0": "Suez Canal",
                                    "1": "1.6360472078223165"
                                },
                                {
                                    "0": "Sungai Linggi",
                                    "1": "-0.23942154260814388"
                                },
                                {
                                    "0": "Sungai Pakning",
                                    "1": "-0.20450590097778956"
                                },
                                {
                                    "0": "Sungai Udang",
                                    "1": "-0.24191551701031205"
                                },
                                {
                                    "0": "Sunk Deep Water Anchorage",
                                    "1": "-0.23942154260814388"
                                },
                                {
                                    "0": "Susaki",
                                    "1": "-0.24191551701031205"
                                },
                                {
                                    "0": "Suva",
                                    "1": "-0.1720842337496034"
                                },
                                {
                                    "0": "Suva Medical Examination Anchorage",
                                    "1": "-0.20699987537995773"
                                },
                                {
                                    "0": "Swinoujscie",
                                    "1": "-0.24191551701031205"
                                },
                                {
                                    "0": "Taboneo Anchorages",
                                    "1": "0.6883369349984136"
                                },
                                {
                                    "0": "Tacoma",
                                    "1": "0.7556742438569541"
                                },
                                {
                                    "0": "Tacoma Anchorage",
                                    "1": "0.4738551364119514"
                                },
                                {
                                    "0": "Tagonoura",
                                    "1": "-0.24191551701031205"
                                },
                                {
                                    "0": "Tahuna",
                                    "1": "-0.24191551701031205"
                                },
                                {
                                    "0": "Taicang",
                                    "1": "-0.21697577298863038"
                                },
                                {
                                    "0": "Taicang Dangerous Goods Anchorage",
                                    "1": "-0.24191551701031205"
                                },
                                {
                                    "0": "Taicang Ocean Liners Anchorage",
                                    "1": "-0.22695167059730306"
                                },
                                {
                                    "0": "Taichung",
                                    "1": "-0.20699987537995773"
                                },
                                {
                                    "0": "Taichung Anchorage",
                                    "1": "-0.21448179858646224"
                                },
                                {
                                    "0": "Taipei",
                                    "1": "0.4813370596184559"
                                },
                                {
                                    "0": "Taipei Anchorage",
                                    "1": "-0.03242166722818615"
                                },
                                {
                                    "0": "Taizhou",
                                    "1": "-0.24191551701031205"
                                },
                                {
                                    "0": "Takamatsu",
                                    "1": "-0.23942154260814388"
                                },
                                {
                                    "0": "Takehara",
                                    "1": "-0.23942154260814388"
                                },
                                {
                                    "0": "Takoradi Anchorage",
                                    "1": "-0.2094938497821259"
                                },
                                {
                                    "0": "Ta'Kuntah FSO",
                                    "1": "-0.24191551701031205"
                                },
                                {
                                    "0": "Tampa",
                                    "1": "-0.16210833614093076"
                                },
                                {
                                    "0": "Tanabe",
                                    "1": "-0.24191551701031205"
                                },
                                {
                                    "0": "Tanauan",
                                    "1": "-0.24191551701031205"
                                },
                                {
                                    "0": "Tangier-Mediterranean",
                                    "1": "-0.19702397777128508"
                                },
                                {
                                    "0": "Tangier-Mediterranean Anchorage",
                                    "1": "-0.1820601313582761"
                                },
                                {
                                    "0": "Tangier-Mediterranean NE Harbour",
                                    "1": "-0.16210833614093076"
                                },
                                {
                                    "0": "Tangier-Mediterranean Outer Anchorage",
                                    "1": "-0.24191551701031205"
                                },
                                {
                                    "0": "Tangshan Anchorage No. 4",
                                    "1": "-0.2369275682059757"
                                },
                                {
                                    "0": "Tangshan Anchorage No. 5",
                                    "1": "-0.22196372179296672"
                                },
                                {
                                    "0": "Tanjung Emas",
                                    "1": "-0.2319396194016394"
                                },
                                {
                                    "0": "Tanjung Emas Anchorage",
                                    "1": "-0.22944564499947123"
                                },
                                {
                                    "0": "Tanjung Intan",
                                    "1": "-0.24191551701031205"
                                },
                                {
                                    "0": "Tanjung Intan Anchorage",
                                    "1": "-0.24191551701031205"
                                },
                                {
                                    "0": "Tanjung Pelepas General Purpose Anchorage",
                                    "1": "-0.24191551701031205"
                                },
                                {
                                    "0": "Tanjung Perak",
                                    "1": "-0.017457820815177157"
                                },
                                {
                                    "0": "Tanjung Perak Anchorage",
                                    "1": "-0.02743371842384982"
                                },
                                {
                                    "0": "Tanjung Perak Inner Anchorages",
                                    "1": "-0.05985538565203597"
                                },
                                {
                                    "0": "Tanjung Peutang",
                                    "1": "-0.24191551701031205"
                                },
                                {
                                    "0": "Tanjung Priok",
                                    "1": "1.915372340865151"
                                },
                                {
                                    "0": "Tanjung Priok Anchorage",
                                    "1": "3.3568895453183507"
                                },
                                {
                                    "0": "Tarakan Island",
                                    "1": "-0.23942154260814388"
                                },
                                {
                                    "0": "Tarragona",
                                    "1": "-0.07481923206504497"
                                },
                                {
                                    "0": "Tarragona Anchorage",
                                    "1": "-0.22695167059730306"
                                },
                                {
                                    "0": "Teesport Approach Anchorage",
                                    "1": "-0.11971077130407194"
                                },
                                {
                                    "0": "Tema",
                                    "1": "0.2244576961951349"
                                },
                                {
                                    "0": "Tema Anchorage",
                                    "1": "0.4090118019555791"
                                },
                                {
                                    "0": "Tema Tanker Anchorage",
                                    "1": "-0.20450590097778956"
                                },
                                {
                                    "0": "Termini Imerese Anchorage",
                                    "1": "-0.24191551701031205"
                                },
                                {
                                    "0": "Termoli",
                                    "1": "-0.24191551701031205"
                                },
                                {
                                    "0": "Terneuzen",
                                    "1": "0.8030597574981493"
                                },
                                {
                                    "0": "Thessaloniki",
                                    "1": "-0.24191551701031205"
                                },
                                {
                                    "0": "Thilawa",
                                    "1": "-0.034915641630354315"
                                },
                                {
                                    "0": "Thira Anchorage East",
                                    "1": "-0.24191551701031205"
                                },
                                {
                                    "0": "Thunder Bay",
                                    "1": "-0.24191551701031205"
                                },
                                {
                                    "0": "Tianjin",
                                    "1": "1.915372340865151"
                                },
                                {
                                    "0": "Tianjin Anchorage No 6",
                                    "1": "-0.24191551701031205"
                                },
                                {
                                    "0": "Tianzhen",
                                    "1": "-0.24191551701031205"
                                },
                                {
                                    "0": "Tilbury",
                                    "1": "0.009975897608672662"
                                },
                                {
                                    "0": "Tin Can Island",
                                    "1": "0.27184320983633004"
                                },
                                {
                                    "0": "Toamasina",
                                    "1": "-0.06733730885854047"
                                },
                                {
                                    "0": "Toamasina Anchorage",
                                    "1": "-0.12220474570624011"
                                },
                                {
                                    "0": "Tobata",
                                    "1": "-0.24191551701031205"
                                },
                                {
                                    "0": "Tobruk",
                                    "1": "-0.22944564499947123"
                                },
                                {
                                    "0": "Tobruk and Marsa El Brega Anchorage",
                                    "1": "-0.2319396194016394"
                                },
                                {
                                    "0": "Tokuyama Anchorage",
                                    "1": "-0.21198782418429407"
                                },
                                {
                                    "0": "Tokuyama Quarantine Anchorage",
                                    "1": "-0.24191551701031205"
                                },
                                {
                                    "0": "Tokyo",
                                    "1": "-0.2244576961951349"
                                },
                                {
                                    "0": "Tokyo Anchorage",
                                    "1": "0.02743371842384982"
                                },
                                {
                                    "0": "Tomakomai",
                                    "1": "-0.21198782418429407"
                                },
                                {
                                    "0": "Tomakomai Anchorage",
                                    "1": "-0.19203602896694874"
                                },
                                {
                                    "0": "Tongshan",
                                    "1": "-0.24191551701031205"
                                },
                                {
                                    "0": "Tongue DW Anchorage - Hazardous Cargoes",
                                    "1": "-0.23942154260814388"
                                },
                                {
                                    "0": "Tongue DW Anchorage - Non-Hazardous Cargoes",
                                    "1": "-0.12719269451057644"
                                },
                                {
                                    "0": "Torbay Harbour Deep Water Anchorage",
                                    "1": "-0.2094938497821259"
                                },
                                {
                                    "0": "Torres Strait & Great Barrier Reef",
                                    "1": "-0.03990359043469065"
                                },
                                {
                                    "0": "Townsville",
                                    "1": "-0.014963846413008993"
                                },
                                {
                                    "0": "Townsville Anchorage",
                                    "1": "-0.0024939744021681655"
                                },
                                {
                                    "0": "Toyama",
                                    "1": "-0.052373462445531475"
                                },
                                {
                                    "0": "Toyohashi",
                                    "1": "2.065010804995241"
                                },
                                {
                                    "0": "Trieste",
                                    "1": "-0.2369275682059757"
                                },
                                {
                                    "0": "Tripoli (Libya)",
                                    "1": "-0.21198782418429407"
                                },
                                {
                                    "0": "Tripoli (Libya) Anchorage",
                                    "1": "-0.21697577298863038"
                                },
                                {
                                    "0": "Tsukumi",
                                    "1": "-0.24191551701031205"
                                },
                                {
                                    "0": "Tsumatsusaka (Tsu)",
                                    "1": "-0.23942154260814388"
                                },
                                {
                                    "0": "Tsuruga Outer Anchorage",
                                    "1": "-0.24191551701031205"
                                },
                                {
                                    "0": "Tuban",
                                    "1": "-0.1296866689127446"
                                },
                                {
                                    "0": "Tubarao Anchorage No1",
                                    "1": "-0.1371685921192491"
                                },
                                {
                                    "0": "Tubarao Anchorage No2",
                                    "1": "0.05486743684769964"
                                },
                                {
                                    "0": "Tubarao Anchorage No3",
                                    "1": "0.29428897945584354"
                                },
                                {
                                    "0": "Tubarao Anchorage No4",
                                    "1": "-0.24191551701031205"
                                },
                                {
                                    "0": "Tuen Mun",
                                    "1": "-0.24191551701031205"
                                },
                                {
                                    "0": "Tuzla",
                                    "1": "-0.2369275682059757"
                                },
                                {
                                    "0": "Tuzla Anchorage",
                                    "1": "-0.22944564499947123"
                                },
                                {
                                    "0": "Twielenfleth Reede Anchorage",
                                    "1": "-0.24191551701031205"
                                },
                                {
                                    "0": "Tyne",
                                    "1": "-0.07731320646721312"
                                },
                                {
                                    "0": "Ube Quarantine Anchorage",
                                    "1": "1.0674210441279748"
                                },
                                {
                                    "0": "Uchiura",
                                    "1": "-0.23443359380380754"
                                },
                                {
                                    "0": "Uddevalla",
                                    "1": "-0.20699987537995773"
                                },
                                {
                                    "0": "Ukishima",
                                    "1": "-0.2319396194016394"
                                },
                                {
                                    "0": "Ulsan",
                                    "1": "2.9029862041237444"
                                },
                                {
                                    "0": "Ulsan Anchorage",
                                    "1": "-0.13218064331491278"
                                },
                                {
                                    "0": "Ulsan Hyundai",
                                    "1": "0.15462641293442625"
                                },
                                {
                                    "0": "Umm Qasr",
                                    "1": "-0.11472282249973562"
                                },
                                {
                                    "0": "Umm Qasr Anchorage",
                                    "1": "-0.2094938497821259"
                                },
                                {
                                    "0": "Upper Vancouver Anchorage",
                                    "1": "-0.23942154260814388"
                                },
                                {
                                    "0": "Usan Terminal",
                                    "1": "-0.21946974739079855"
                                },
                                {
                                    "0": "Ust-Luga",
                                    "1": "-0.24191551701031205"
                                },
                                {
                                    "0": "Ust-Luga Anchorage No 10A",
                                    "1": "-0.24191551701031205"
                                },
                                {
                                    "0": "Valencia",
                                    "1": "-0.0723252576628768"
                                },
                                {
                                    "0": "Valencia Anchorages",
                                    "1": "-0.18954205456478057"
                                },
                                {
                                    "0": "Valletta",
                                    "1": "-0.15462641293442625"
                                },
                                {
                                    "0": "Valletta Anchorage",
                                    "1": "1.461468999670545"
                                },
                                {
                                    "0": "Valletta Bunkering Anchorage 1",
                                    "1": "-0.23942154260814388"
                                },
                                {
                                    "0": "Valletta Bunkering Anchorage 6",
                                    "1": "-0.24191551701031205"
                                },
                                {
                                    "0": "Valparaiso",
                                    "1": "0.08728910407588579"
                                },
                                {
                                    "0": "Valparaiso Anchorage",
                                    "1": "0.02244576961951349"
                                },
                                {
                                    "0": "Vancouver - English Bay Anchorages",
                                    "1": "-0.17457820815177158"
                                },
                                {
                                    "0": "Vancouver (USA)",
                                    "1": "0.09975897608672663"
                                },
                                {
                                    "0": "Vancouver (USA) Anchorage",
                                    "1": "-0.23942154260814388"
                                },
                                {
                                    "0": "Vancouver Harbour Anchorage",
                                    "1": "-0.17956615695610792"
                                },
                                {
                                    "0": "Vancouver Outer Anchorage",
                                    "1": "-0.10973487369539928"
                                },
                                {
                                    "0": "Vasto",
                                    "1": "-0.18954205456478057"
                                },
                                {
                                    "0": "Vasto Anchorage A",
                                    "1": "-0.23443359380380754"
                                },
                                {
                                    "0": "Venice",
                                    "1": "-0.24191551701031205"
                                },
                                {
                                    "0": "Veracruz",
                                    "1": "1.1272764297800109"
                                },
                                {
                                    "0": "Veracruz Anchorage",
                                    "1": "0.6559152677702276"
                                },
                                {
                                    "0": "Very Large Crude Carrier Anchorage (AVLCC)",
                                    "1": "-0.22695167059730306"
                                },
                                {
                                    "0": "Vigo",
                                    "1": "0.23942154260814388"
                                },
                                {
                                    "0": "Vigo Anchorage",
                                    "1": "-0.08230115527154946"
                                },
                                {
                                    "0": "Vigo Inner Anchorage",
                                    "1": "-0.20450590097778956"
                                },
                                {
                                    "0": "Vila do Conde",
                                    "1": "-0.20450590097778956"
                                },
                                {
                                    "0": "Vila do Conde Anchorages",
                                    "1": "-0.2244576961951349"
                                },
                                {
                                    "0": "Villefranche",
                                    "1": "-0.24191551701031205"
                                },
                                {
                                    "0": "Vitoria",
                                    "1": "0.14215654092358543"
                                },
                                {
                                    "0": "Vlaardingen",
                                    "1": "-0.23942154260814388"
                                },
                                {
                                    "0": "Vladivostok",
                                    "1": "0.18455410576044423"
                                },
                                {
                                    "0": "Vladivostok Anchorage",
                                    "1": "-0.19951795217345325"
                                },
                                {
                                    "0": "Vladivostok Anchorage No. 164A",
                                    "1": "-0.2369275682059757"
                                },
                                {
                                    "0": "Vladivostok Anchorage No. 175a",
                                    "1": "-0.23942154260814388"
                                },
                                {
                                    "0": "Vlissingen",
                                    "1": "1.2669389963014281"
                                },
                                {
                                    "0": "Vostochny Bunkering Anchorage",
                                    "1": "-0.2319396194016394"
                                },
                                {
                                    "0": "Vung Tau Anchorage",
                                    "1": "-0.10474692489106295"
                                },
                                {
                                    "0": "Wada",
                                    "1": "-0.24191551701031205"
                                },
                                {
                                    "0": "Wakayama Anchorage No 2",
                                    "1": "-0.2319396194016394"
                                },
                                {
                                    "0": "Wallhamn",
                                    "1": "-0.019951795217345324"
                                },
                                {
                                    "0": "Walvis Bay",
                                    "1": "-0.05486743684769964"
                                },
                                {
                                    "0": "Walvis Bay Anchorages",
                                    "1": "-0.024939744021681656"
                                },
                                {
                                    "0": "Wandelaar Pilot Boarding Area",
                                    "1": "-0.037409616032522484"
                                },
                                {
                                    "0": "Wanger Reede Anchorage",
                                    "1": "-0.24191551701031205"
                                },
                                {
                                    "0": "Weifang",
                                    "1": "-0.24191551701031205"
                                },
                                {
                                    "0": "Weifang Anchorage No 3",
                                    "1": "-0.24191551701031205"
                                },
                                {
                                    "0": "Weipa Anchor Berths",
                                    "1": "-0.24191551701031205"
                                },
                                {
                                    "0": "Weitou",
                                    "1": "-0.23942154260814388"
                                },
                                {
                                    "0": "Wellington",
                                    "1": "0.05486743684769964"
                                },
                                {
                                    "0": "Wellington Explosives Anchorage",
                                    "1": "-0.23443359380380754"
                                },
                                {
                                    "0": "Wellington Inner Anchorage",
                                    "1": "-0.10474692489106295"
                                },
                                {
                                    "0": "West Hinder Anchorage",
                                    "1": "1.4340352812466952"
                                },
                                {
                                    "0": "West Java LNG Terminal",
                                    "1": "-0.23942154260814388"
                                },
                                {
                                    "0": "West Jurong Anchorage (AWJ)",
                                    "1": "-0.22944564499947123"
                                },
                                {
                                    "0": "Western Anchorage (AWW)",
                                    "1": "0.12220474570624011"
                                },
                                {
                                    "0": "Western Holding Anchorage (AWH)",
                                    "1": "-0.1945300033691169"
                                },
                                {
                                    "0": "Western Petroleum A Anchorage (AWPA)",
                                    "1": "-0.21946974739079855"
                                },
                                {
                                    "0": "Western Petroleum B Anchorage (AWPB)",
                                    "1": "-0.08230115527154946"
                                },
                                {
                                    "0": "Western Quarantine and Immigration Anchorage (AWQI)",
                                    "1": "-0.09975897608672663"
                                },
                                {
                                    "0": "Westport (Malaysia)",
                                    "1": "0.5636382148900054"
                                },
                                {
                                    "0": "Whyalla",
                                    "1": "-0.24191551701031205"
                                },
                                {
                                    "0": "Widuri Marine Terminal",
                                    "1": "-0.18455410576044423"
                                },
                                {
                                    "0": "Wielingen Noord Anchorage",
                                    "1": "-0.23443359380380754"
                                },
                                {
                                    "0": "Wielingen Zuid Anchorage",
                                    "1": "-0.23942154260814388"
                                },
                                {
                                    "0": "Wilhelmshaven",
                                    "1": "-0.2369275682059757"
                                },
                                {
                                    "0": "Willemstad",
                                    "1": "-0.03242166722818615"
                                },
                                {
                                    "0": "Wilmington (USA-Delaware)",
                                    "1": "0.019951795217345324"
                                },
                                {
                                    "0": "Wilmington (USA-N Carolina)",
                                    "1": "-0.2369275682059757"
                                },
                                {
                                    "0": "Wismar",
                                    "1": "-0.24191551701031205"
                                },
                                {
                                    "0": "Woodbridge Bay",
                                    "1": "-0.2369275682059757"
                                },
                                {
                                    "0": "Wrest Java LNG Terminal",
                                    "1": "-0.2369275682059757"
                                },
                                {
                                    "0": "Wuhu",
                                    "1": "-0.24191551701031205"
                                },
                                {
                                    "0": "Xiahai",
                                    "1": "-0.24191551701031205"
                                },
                                {
                                    "0": "Xiamen",
                                    "1": "-0.029927692826017985"
                                },
                                {
                                    "0": "Xiamen No 1 Anchorage",
                                    "1": "0.2543853890211529"
                                },
                                {
                                    "0": "Xiamen No 4 Quarantine Anchorage",
                                    "1": "-0.24191551701031205"
                                },
                                {
                                    "0": "Xiangfan",
                                    "1": "-0.24191551701031205"
                                },
                                {
                                    "0": "Xianglujiao",
                                    "1": "-0.24191551701031205"
                                },
                                {
                                    "0": "Xiazhimen Crude Oil Lightering Anchorage",
                                    "1": "-0.2369275682059757"
                                },
                                {
                                    "0": "Xiazhimen Kou Ore Carrier Anchorage",
                                    "1": "-0.04987948804336331"
                                },
                                {
                                    "0": "Xiazhimen Kouwai Tanker Anchorage",
                                    "1": "-0.05985538565203597"
                                },
                                {
                                    "0": "Xiazhimen North Anchorage",
                                    "1": "-0.037409616032522484"
                                },
                                {
                                    "0": "Xiazhimen South Anchorage",
                                    "1": "-0.04239756483685881"
                                },
                                {
                                    "0": "Xinhe",
                                    "1": "-0.21198782418429407"
                                },
                                {
                                    "0": "Xiongjiagou",
                                    "1": "-0.24191551701031205"
                                },
                                {
                                    "0": "Xiuyu Anchorage No 2",
                                    "1": "-0.24191551701031205"
                                },
                                {
                                    "0": "Xiuyu Outer Anchorage",
                                    "1": "-0.2369275682059757"
                                },
                                {
                                    "0": "Xuzhou",
                                    "1": "-0.24191551701031205"
                                },
                                {
                                    "0": "Yalova",
                                    "1": "-0.24191551701031205"
                                },
                                {
                                    "0": "Yalova Anchorage",
                                    "1": "0.3666142371187203"
                                },
                                {
                                    "0": "Yangjiang",
                                    "1": "-0.24191551701031205"
                                },
                                {
                                    "0": "Yangjiang Anchorage No 1 - Intermediate Vessels",
                                    "1": "-0.24191551701031205"
                                },
                                {
                                    "0": "Yangjiang Anchorage No 1 - Large Vessels",
                                    "1": "-0.24191551701031205"
                                },
                                {
                                    "0": "Yangkou",
                                    "1": "-0.23942154260814388"
                                },
                                {
                                    "0": "Yangon",
                                    "1": "-0.22695167059730306"
                                },
                                {
                                    "0": "Yangpu Anchorage No 4",
                                    "1": "-0.24191551701031205"
                                },
                                {
                                    "0": "Yangshan",
                                    "1": "-0.19951795217345325"
                                },
                                {
                                    "0": "Yangshan Quarantine Anchorage",
                                    "1": "-0.029927692826017985"
                                },
                                {
                                    "0": "Yangzhou",
                                    "1": "-0.24191551701031205"
                                },
                                {
                                    "0": "Yantai",
                                    "1": "-0.06983128326070863"
                                },
                                {
                                    "0": "Yantai No 1 Anchorage",
                                    "1": "-0.22695167059730306"
                                },
                                {
                                    "0": "Yantai No 2 Anchorage",
                                    "1": "-0.1670962849452671"
                                },
                                {
                                    "0": "Yantai No 2 Quarantine Anchorage",
                                    "1": "-0.22944564499947123"
                                },
                                {
                                    "0": "Yarimca",
                                    "1": "-0.2244576961951349"
                                },
                                {
                                    "0": "Yarimca Anchorage",
                                    "1": "-0.2020119265756214"
                                },
                                {
                                    "0": "Yeyashan Joint Inspection Mooring Anchorage",
                                    "1": "-0.24191551701031205"
                                },
                                {
                                    "0": "Yingkou Quarantine Anchorage",
                                    "1": "-0.24191551701031205"
                                },
                                {
                                    "0": "Yokkaichi",
                                    "1": "0.052373462445531475"
                                },
                                {
                                    "0": "Yokkaichi Anchorage",
                                    "1": "-0.1870480801626124"
                                },
                                {
                                    "0": "Yokkaichi and Nagoya Outer Anchorage",
                                    "1": "7.511850899330514"
                                },
                                {
                                    "0": "Yokkaichi SBMs",
                                    "1": "-0.2244576961951349"
                                },
                                {
                                    "0": "Yokohama",
                                    "1": "6.035418053246961"
                                },
                                {
                                    "0": "Yokohama Anchorage",
                                    "1": "6.110237285312006"
                                },
                                {
                                    "0": "Yokosuka",
                                    "1": "0.40152987874907464"
                                },
                                {
                                    "0": "Yokosuka Anchorage",
                                    "1": "0.09227705288022212"
                                },
                                {
                                    "0": "Yonghung Power Station",
                                    "1": "-0.24191551701031205"
                                },
                                {
                                    "0": "Yosu",
                                    "1": "-0.23443359380380754"
                                },
                                {
                                    "0": "Yosu Anchorage",
                                    "1": "-0.1820601313582761"
                                },
                                {
                                    "0": "Yosu Quarantine Anchorage D-1",
                                    "1": "-0.20699987537995773"
                                },
                                {
                                    "0": "Yosu Quarantine Anchorage D-2",
                                    "1": "-0.14714448972792177"
                                },
                                {
                                    "0": "Yuanyuansha Emergency Anchorage",
                                    "1": "-0.2369275682059757"
                                },
                                {
                                    "0": "Yura",
                                    "1": "-0.1945300033691169"
                                },
                                {
                                    "0": "Yutang Anchorage",
                                    "1": "-0.24191551701031205"
                                },
                                {
                                    "0": "Yuzhny No 357 Anchorage",
                                    "1": "-0.24191551701031205"
                                },
                                {
                                    "0": "Zaanstad",
                                    "1": "-0.21946974739079855"
                                },
                                {
                                    "0": "Zafiro Marine Terminal",
                                    "1": "-0.24191551701031205"
                                },
                                {
                                    "0": "Zarate",
                                    "1": "0.37160218592305666"
                                },
                                {
                                    "0": "Zarate Anchorage",
                                    "1": "-0.19702397777128508"
                                },
                                {
                                    "0": "Zeebrugge",
                                    "1": "1.8056374671697517"
                                },
                                {
                                    "0": "Zhangjia Port Tongsha Anchorage",
                                    "1": "-0.23942154260814388"
                                },
                                {
                                    "0": "Zhangjiabu",
                                    "1": "-0.24191551701031205"
                                },
                                {
                                    "0": "Zhangjiagang",
                                    "1": "-0.1596143617387626"
                                },
                                {
                                    "0": "Zhangyan",
                                    "1": "-0.24191551701031205"
                                },
                                {
                                    "0": "Zhanjiang",
                                    "1": "-0.24191551701031205"
                                },
                                {
                                    "0": "Zhenjiang",
                                    "1": "-0.24191551701031205"
                                },
                                {
                                    "0": "Zhongshan",
                                    "1": "-0.24191551701031205"
                                },
                                {
                                    "0": "Zhoupu (Zhejiang Province)",
                                    "1": "-0.24191551701031205"
                                },
                                {
                                    "0": "Zhoushan",
                                    "1": "0.13218064331491278"
                                },
                                {
                                    "0": "Zhoushan Anchorage",
                                    "1": "-0.1870480801626124"
                                },
                                {
                                    "0": "Zhoushan Tide and Berth Waiting Anchorage",
                                    "1": "-0.24191551701031205"
                                },
                                {
                                    "0": "Zhuanghe",
                                    "1": "-0.24191551701031205"
                                }
                            ]
                        },
                        "text/html": "<table><tr><th>PortName</th><th>Z-Score</th></tr><tr><td>Aberdeen (United Kingdom) Anchorage</td><td>-0.24191551701031205</td></tr><tr><td>Abidjan</td><td>0.019951795217345324</td></tr><tr><td>Abidjan Anchorage</td><td>-0.23443359380380754</td></tr><tr><td>Abidjan Inner Anchorage</td><td>-0.11971077130407194</td></tr><tr><td>Abidjan Outer Anchorage</td><td>0.19702397777128508</td></tr><tr><td>Abu Dhabi</td><td>0.6334694981507141</td></tr><tr><td>Abu Dhabi Anchorage</td><td>-0.1870480801626124</td></tr><tr><td>Abu Dhabi Anchorage S2</td><td>-0.09975897608672663</td></tr><tr><td>Acajutla</td><td>-0.07731320646721312</td></tr><tr><td>Acajutla Anchorage</td><td>-0.21448179858646224</td></tr><tr><td>Acapulco</td><td>0.05985538565203597</td></tr><tr><td>Adelaide</td><td>0.19951795217345325</td></tr><tr><td>Aden</td><td>-0.23942154260814388</td></tr><tr><td>Aguadilla</td><td>-0.24191551701031205</td></tr><tr><td>Aioi</td><td>-0.2244576961951349</td></tr><tr><td>Aioi Anchorage</td><td>-0.22944564499947123</td></tr><tr><td>Ajman Anchorage</td><td>-0.24191551701031205</td></tr><tr><td>Akcansa (Canakkale) Anchorage</td><td>-0.24191551701031205</td></tr><tr><td>Aktau Anchorage Area No 126</td><td>-0.24191551701031205</td></tr><tr><td>Al Basra Oil Terminal Anchorage A</td><td>-0.24191551701031205</td></tr><tr><td>Al Basra Oil Terminal Anchorage B</td><td>-0.20699987537995773</td></tr><tr><td>Al Shaheen Terminal</td><td>-0.23942154260814388</td></tr><tr><td>Alabama Inland Ports</td><td>-0.24191551701031205</td></tr><tr><td>Alang</td><td>-0.24191551701031205</td></tr><tr><td>Alang Anchorage</td><td>-0.22944564499947123</td></tr><tr><td>Al-Basra Oil Terminal</td><td>-0.2319396194016394</td></tr><tr><td>Al-Basra Oil Terminal Anchorage A</td><td>-0.21946974739079855</td></tr><tr><td>Al-Basra Oil Terminal Anchorage B</td><td>-0.12719269451057644</td></tr><tr><td>Aleksandrovsk Sakhalinsky</td><td>-0.24191551701031205</td></tr><tr><td>Alexandria (Egypt)</td><td>0.1596143617387626</td></tr><tr><td>Alexandria (Egypt) Anchorage</td><td>0.19951795217345325</td></tr><tr><td>Alexandria LPG Anchorage</td><td>-0.2319396194016394</td></tr><tr><td>Algeciras Anchorage A</td><td>-0.24191551701031205</td></tr><tr><td>Algeciras Anchorage B</td><td>-0.24191551701031205</td></tr><tr><td>Algeciras Anchorage D</td><td>-0.24191551701031205</td></tr><tr><td>Algeciras Bay Anchorage</td><td>-0.20699987537995773</td></tr><tr><td>Alghero</td><td>-0.24191551701031205</td></tr><tr><td>Aliaga</td><td>-0.24191551701031205</td></tr><tr><td>Aliaga Anchorage No 7</td><td>-0.24191551701031205</td></tr><tr><td>Alicante</td><td>-0.24191551701031205</td></tr><tr><td>Altamira</td><td>-0.05985538565203597</td></tr><tr><td>Altamira Anchorage No. 1</td><td>-0.2369275682059757</td></tr><tr><td>Altamira Anchorage No. 2</td><td>-0.21697577298863038</td></tr><tr><td>Amagasaki-Nishinomiya-Ashiya</td><td>-0.13966256652141726</td></tr><tr><td>Amfilochia</td><td>-0.24191551701031205</td></tr><tr><td>Amsterdam</td><td>0.11222884809756745</td></tr><tr><td>Anchorage 32LD</td><td>-0.23942154260814388</td></tr><tr><td>Annaba Anchorage</td><td>-0.24191551701031205</td></tr><tr><td>Annacis Island</td><td>0.8978307847805396</td></tr><tr><td>Antibes</td><td>-0.21448179858646224</td></tr><tr><td>Antifer Anchorage</td><td>-0.2244576961951349</td></tr><tr><td>Antofagasta</td><td>-0.2369275682059757</td></tr><tr><td>Antwerp</td><td>1.6809387470613435</td></tr><tr><td>Antwerp Methaniers Pilot Boarding Area</td><td>-0.22196372179296672</td></tr><tr><td>Antwerp Wandelaar Pilot Boarding Area</td><td>0.07731320646721312</td></tr><tr><td>Aoshan Joint-Inspection Anchorage</td><td>-0.2094938497821259</td></tr><tr><td>Apapa</td><td>-0.08978307847805396</td></tr><tr><td>Apra Harbor</td><td>-0.08728910407588579</td></tr><tr><td>Aqaba</td><td>0.6135177029333687</td></tr><tr><td>Aratu</td><td>0.08479512967371762</td></tr><tr><td>Arawak Cay Port</td><td>-0.20699987537995773</td></tr><tr><td>Ardrossan (Australia)</td><td>-0.23942154260814388</td></tr><tr><td>Arica</td><td>-0.2244576961951349</td></tr><tr><td>Arica Anchorage</td><td>-0.22196372179296672</td></tr><tr><td>Aruba STS Transhipment Area</td><td>0.2593733378254892</td></tr><tr><td>Ashdod</td><td>-0.2369275682059757</td></tr><tr><td>Ashdod Anchorage</td><td>-0.23443359380380754</td></tr><tr><td>Assaluyeh</td><td>-0.24191551701031205</td></tr><tr><td>Astoria North Anchorage</td><td>-0.22944564499947123</td></tr><tr><td>Astoria South Anchorage</td><td>-0.22944564499947123</td></tr><tr><td>Atreco</td><td>-0.2369275682059757</td></tr><tr><td>Atucha</td><td>-0.03990359043469065</td></tr><tr><td>Auckland</td><td>0.48632500842279225</td></tr><tr><td>Auckland Anchor Berths</td><td>-0.13966256652141726</td></tr><tr><td>Augusta</td><td>-0.24191551701031205</td></tr><tr><td>Augusta Anchorage</td><td>-0.24191551701031205</td></tr><tr><td>Aussenelbe Reede Anchorage</td><td>-0.21697577298863038</td></tr><tr><td>Avola Anchorage</td><td>-0.19951795217345325</td></tr><tr><td>Bacolod Anchorages</td><td>-0.24191551701031205</td></tr><tr><td>Balao Terminal Pilot Waiting Area</td><td>-0.24191551701031205</td></tr><tr><td>Balboa</td><td>1.294372714725278</td></tr><tr><td>Balikpapan</td><td>0.37908410912956114</td></tr><tr><td>Balikpapan Anchorage</td><td>0.1945300033691169</td></tr><tr><td>Baltimore (USA)</td><td>2.2944564499947124</td></tr><tr><td>Baltimore (USA) Anchorage No. 1</td><td>-0.24191551701031205</td></tr><tr><td>Baltimore (USA) Anchorage No. 3 Lower</td><td>-0.19203602896694874</td></tr><tr><td>Baltimore (USA) Anchorage No. 3 Upper</td><td>-0.21946974739079855</td></tr><tr><td>Baltimore (USA) Anchorage No. 4</td><td>-0.22196372179296672</td></tr><tr><td>Baltimore (USA) Outer Anchorage</td><td>-0.06733730885854047</td></tr><tr><td>Bandar Abbas Merchant Anchorage</td><td>-0.15462641293442625</td></tr><tr><td>Bandar Abbas Naval Anchorages</td><td>-0.24191551701031205</td></tr><tr><td>Bandar Imam Khomeini Outer Anchorage</td><td>-0.2369275682059757</td></tr><tr><td>Bandar Imam Khomeini Outer Anchorage No. 2</td><td>-0.23942154260814388</td></tr><tr><td>Bandar Shahid Rejaee</td><td>-0.21697577298863038</td></tr><tr><td>Bandirma Anchorage No. 2</td><td>-0.24191551701031205</td></tr><tr><td>Bangkok Bar Anchorage</td><td>-0.24191551701031205</td></tr><tr><td>Banjarmasin</td><td>0.45639731559677427</td></tr><tr><td>Baoshan North Anchorage</td><td>-0.22695167059730306</td></tr><tr><td>Baozhen</td><td>-0.24191551701031205</td></tr><tr><td>Barcelona</td><td>0.6359634725528822</td></tr><tr><td>Barcelona Fondeadero Este Anchorage</td><td>-0.15712038733659442</td></tr><tr><td>Barcelona Fondeadero Sur Anchorage</td><td>-0.2369275682059757</td></tr><tr><td>Barletta</td><td>-0.23942154260814388</td></tr><tr><td>Barletta Anchorage B</td><td>-0.24191551701031205</td></tr><tr><td>Barrow Island</td><td>-0.24191551701031205</td></tr><tr><td>Basseterre</td><td>-0.18954205456478057</td></tr><tr><td>Bata</td><td>-0.23443359380380754</td></tr><tr><td>Bata Anchorage</td><td>-0.22695167059730306</td></tr><tr><td>Batangas</td><td>0.052373462445531475</td></tr><tr><td>Batangas Bay Anchorage</td><td>-0.2369275682059757</td></tr><tr><td>Batangas Bay Eastern Anchorages</td><td>-0.2020119265756214</td></tr><tr><td>Batangas Bay Easterrn Anchorages</td><td>-0.20450590097778956</td></tr><tr><td>Batangas Outer Anchorage</td><td>-0.21946974739079855</td></tr><tr><td>Batu Ampar</td><td>-0.19203602896694874</td></tr><tr><td>Batu Ampar Anchorage</td><td>-0.17956615695610792</td></tr><tr><td>Baybay</td><td>-0.24191551701031205</td></tr><tr><td>Bayonne (USA)</td><td>1.4115895116271817</td></tr><tr><td>Bayu Undan Terminal</td><td>-0.24191551701031205</td></tr><tr><td>Beaumont</td><td>-0.1945300033691169</td></tr><tr><td>Beicao Anchorage</td><td>3.6362146783611853</td></tr><tr><td>Beihai</td><td>-0.2369275682059757</td></tr><tr><td>Beiliang</td><td>-0.20450590097778956</td></tr><tr><td>Beira</td><td>-0.2369275682059757</td></tr><tr><td>Beira Offshore STS</td><td>-0.2244576961951349</td></tr><tr><td>Beirut</td><td>0.10724089929323112</td></tr><tr><td>Beirut Anchorage</td><td>-0.08230115527154946</td></tr><tr><td>Belawan</td><td>0.014963846413008993</td></tr><tr><td>Belawan Anchorage</td><td>-0.20699987537995773</td></tr><tr><td>Belekeri</td><td>-0.24191551701031205</td></tr><tr><td>Belem</td><td>-0.24191551701031205</td></tr><tr><td>Belem Outer Anchorage</td><td>-0.09726500168455846</td></tr><tr><td>Bellingham General Anchorage</td><td>-0.24191551701031205</td></tr><tr><td>Bembridge Anchorage</td><td>-0.11721679690190377</td></tr><tr><td>Bendorf</td><td>-0.24191551701031205</td></tr><tr><td>Benghazi</td><td>-0.2369275682059757</td></tr><tr><td>Benghazi Anchorage</td><td>-0.22944564499947123</td></tr><tr><td>Benicia</td><td>0.39155398114040196</td></tr><tr><td>Benteng</td><td>-0.24191551701031205</td></tr><tr><td>Berong</td><td>-0.24191551701031205</td></tr><tr><td>Big Stone Beach Anchorage</td><td>0.15712038733659442</td></tr><tr><td>Bima Terminal</td><td>-0.14714448972792177</td></tr><tr><td>Bintulu Gas Tanker Anchorage</td><td>-0.24191551701031205</td></tr><tr><td>Bohai Peng Lai FPSO</td><td>-0.23942154260814388</td></tr><tr><td>Bonga Offshore Terminal</td><td>-0.24191551701031205</td></tr><tr><td>Bongkot Terminal</td><td>-0.24191551701031205</td></tr><tr><td>Bopec Terminal Anchorage</td><td>-0.1670962849452671</td></tr><tr><td>Borg Havn IKS</td><td>-0.24191551701031205</td></tr><tr><td>Borusan</td><td>0.11721679690190377</td></tr><tr><td>Borusan Anchorage</td><td>0.014963846413008993</td></tr><tr><td>Boryeong</td><td>-0.24191551701031205</td></tr><tr><td>Boryeong Anchor Berth A-2</td><td>-0.24191551701031205</td></tr><tr><td>Bosphorus TSS Lane Northbound</td><td>-0.1596143617387626</td></tr><tr><td>Bosphorus TSS Lane Southbound</td><td>-0.12469872010840827</td></tr><tr><td>Boston (USA)</td><td>0.11971077130407194</td></tr><tr><td>Boston (USA) Outer Anchorage</td><td>-0.19702397777128508</td></tr><tr><td>Botany Bay</td><td>-0.23942154260814388</td></tr><tr><td>Botany Bay Anchorage</td><td>0.1446505153257536</td></tr><tr><td>Botas (Ceyhan) Oil Terminal</td><td>-0.24191551701031205</td></tr><tr><td>Boulogne-sur-Mer Anchorage</td><td>-0.24191551701031205</td></tr><tr><td>Bozcaada North Anchorage</td><td>-0.24191551701031205</td></tr><tr><td>Brake</td><td>-0.2319396194016394</td></tr><tr><td>Bremen</td><td>-0.20699987537995773</td></tr><tr><td>Bremen Neue-Weser-Nord-Reede Anchorage</td><td>-0.09726500168455846</td></tr><tr><td>Bremerhaven</td><td>2.723420047167637</td></tr><tr><td>Brest</td><td>-0.24191551701031205</td></tr><tr><td>Bridgetown</td><td>-0.15462641293442625</td></tr><tr><td>Brighton</td><td>-0.23942154260814388</td></tr><tr><td>Brisbane</td><td>1.3966256652141726</td></tr><tr><td>Brisbane Anchorage</td><td>0.8279995015198309</td></tr><tr><td>Brisbane Outer Anchorage</td><td>1.5188304109204127</td></tr><tr><td>Bristol</td><td>0.05486743684769964</td></tr><tr><td>Brunsbuttel</td><td>-0.2369275682059757</td></tr><tr><td>Brunswick</td><td>1.1771559178233741</td></tr><tr><td>BTC Terminal Ceyhan</td><td>-0.23942154260814388</td></tr><tr><td>Buenaventura</td><td>0.3441684674992068</td></tr><tr><td>Buenaventura Anchorage</td><td>0.4613852644011106</td></tr><tr><td>Bunga Orkid Terminal</td><td>-0.23942154260814388</td></tr><tr><td>Bunyu</td><td>-0.24191551701031205</td></tr><tr><td>Busan</td><td>-0.21198782418429407</td></tr><tr><td>Busan New Port</td><td>0.19203602896694874</td></tr><tr><td>Busan Section N Anchorage</td><td>-0.17707218255393975</td></tr><tr><td>Busan West Anchorage</td><td>-0.24191551701031205</td></tr><tr><td>BZ 28 Terminal</td><td>-0.23942154260814388</td></tr><tr><td>Cadiz</td><td>-0.2319396194016394</td></tr><tr><td>Cadiz Anchorage</td><td>-0.21198782418429407</td></tr><tr><td>Cadiz OPL Anchorage</td><td>-0.24191551701031205</td></tr><tr><td>Caen</td><td>-0.24191551701031205</td></tr><tr><td>Cagliari Zona Bravo Anchorage</td><td>-0.24191551701031205</td></tr><tr><td>Cai Lan</td><td>-0.22695167059730306</td></tr><tr><td>Cai Mep</td><td>-0.22695167059730306</td></tr><tr><td>Cai Mep Anchorages</td><td>-0.24191551701031205</td></tr><tr><td>Caishi</td><td>-0.24191551701031205</td></tr><tr><td>Calcasieu Pass South Anchorage</td><td>-0.24191551701031205</td></tr><tr><td>Caldera (Costa Rica)</td><td>-0.10474692489106295</td></tr><tr><td>Callao</td><td>1.072408992932311</td></tr><tr><td>Callao Anchorages</td><td>0.8255055271176628</td></tr><tr><td>Camaret</td><td>-0.24191551701031205</td></tr><tr><td>Campana</td><td>-0.21697577298863038</td></tr><tr><td>Campana Anchorage</td><td>0.6509273189658912</td></tr><tr><td>Cannes</td><td>-0.1870480801626124</td></tr><tr><td>Canvey Island</td><td>-0.2369275682059757</td></tr><tr><td>Caofeidian</td><td>-0.2369275682059757</td></tr><tr><td>Caofeidian East Anchorage</td><td>-0.08230115527154946</td></tr><tr><td>Caofeidian West Anchorage</td><td>-0.22196372179296672</td></tr><tr><td>Cape Cod Canal</td><td>-0.1296866689127446</td></tr><tr><td>Cape Cuvier</td><td>-0.24191551701031205</td></tr><tr><td>Cape Town</td><td>-0.23443359380380754</td></tr><tr><td>Cape Town No 2 General Anchorage</td><td>-0.24191551701031205</td></tr><tr><td>Cape Town No 3 Small Craft Anchorage</td><td>-0.24191551701031205</td></tr><tr><td>Carnarvon</td><td>-0.24191551701031205</td></tr><tr><td>Caronte</td><td>-0.22944564499947123</td></tr><tr><td>Cartagena (Colombia)</td><td>0.6309755237485458</td></tr><tr><td>Cartagena (Colombia) Anchorage</td><td>0.0648433344563723</td></tr><tr><td>Casablanca</td><td>-0.09726500168455846</td></tr><tr><td>Casablanca Anchorage</td><td>-0.08728910407588579</td></tr><tr><td>Casablanca East Anchorage</td><td>-0.23942154260814388</td></tr><tr><td>Castellon</td><td>-0.24191551701031205</td></tr><tr><td>Castellon Outer Anchorage</td><td>-0.24191551701031205</td></tr><tr><td>Castries</td><td>-0.19203602896694874</td></tr><tr><td>Cebu</td><td>-0.23942154260814388</td></tr><tr><td>CFD 11 Terminal</td><td>-0.22196372179296672</td></tr><tr><td>Chaguaramas Anchorage</td><td>0.4489153923902698</td></tr><tr><td>Challis Venture Terminal</td><td>-0.24191551701031205</td></tr><tr><td>Changi General Purposes Anchorage (ACGP)</td><td>-0.2369275682059757</td></tr><tr><td>Changjiang Mouth No 1 Anchorage</td><td>4.541527386348229</td></tr><tr><td>Changjiang Mouth No 2 Anchorage</td><td>2.6161791478744054</td></tr><tr><td>Changjiang Mouth No 3 Anchorage</td><td>0.7132766790200953</td></tr><tr><td>Changsha</td><td>-0.23942154260814388</td></tr><tr><td>Changshu Port Ocean Liners Anchorage</td><td>-0.23942154260814388</td></tr><tr><td>Changshu Port Xiahailun Anchorage</td><td>-0.2319396194016394</td></tr><tr><td>Changzhou</td><td>-0.24191551701031205</td></tr><tr><td>Chanthaburi</td><td>-0.24191551701031205</td></tr><tr><td>Charleston</td><td>0.1521324385322581</td></tr><tr><td>Charleston Commercial Anchorage A</td><td>-0.24191551701031205</td></tr><tr><td>Charleston Outer Anchorage</td><td>0.3990359043469065</td></tr><tr><td>Chemainus</td><td>-0.2319396194016394</td></tr><tr><td>Chennai</td><td>-0.017457820815177157</td></tr><tr><td>Cherbourg No 1 Anchorage</td><td>-0.24191551701031205</td></tr><tr><td>Cherbourg No 2 Anchorage</td><td>-0.24191551701031205</td></tr><tr><td>Chernomorsk</td><td>-0.24191551701031205</td></tr><tr><td>Cherry Island General Anchorage 5</td><td>-0.24191551701031205</td></tr><tr><td>Cherry Island General Anchorage 6</td><td>-0.2244576961951349</td></tr><tr><td>Chiba</td><td>0.10973487369539928</td></tr><tr><td>Chiba Anchorage</td><td>0.27184320983633004</td></tr><tr><td>Chittagong</td><td>-0.06983128326070863</td></tr><tr><td>Chittagong Anchorages</td><td>0.02244576961951349</td></tr><tr><td>Chiwan</td><td>-0.24191551701031205</td></tr><tr><td>Chongming</td><td>-0.1371685921192491</td></tr><tr><td>Chongming Anchorage</td><td>-0.21198782418429407</td></tr><tr><td>Chuansha</td><td>-0.2244576961951349</td></tr><tr><td>Cidade de Santos MV20 FPSO</td><td>-0.24191551701031205</td></tr><tr><td>Cinta</td><td>-0.21448179858646224</td></tr><tr><td>Cinta Anchorage</td><td>-0.24191551701031205</td></tr><tr><td>Civitavecchia</td><td>-0.19702397777128508</td></tr><tr><td>Cochin Anchorage</td><td>-0.24191551701031205</td></tr><tr><td>Coco Solo North</td><td>0.24440949141248022</td></tr><tr><td>Cologne</td><td>-0.24191551701031205</td></tr><tr><td>Colombo</td><td>-0.09975897608672663</td></tr><tr><td>Colombo Inner Anchorage</td><td>-0.10973487369539928</td></tr><tr><td>Colombo Outer Anchorage</td><td>-0.019951795217345324</td></tr><tr><td>Colombo Southern Anchorage</td><td>-0.10225295048889478</td></tr><tr><td>Colon</td><td>0.7382164230417769</td></tr><tr><td>Come By Chance</td><td>-0.24191551701031205</td></tr><tr><td>Conakry</td><td>-0.1521324385322581</td></tr><tr><td>Constantza</td><td>-0.19951795217345325</td></tr><tr><td>Constantza Anchorage No. 1</td><td>-0.23942154260814388</td></tr><tr><td>Constantza Anchorage No. 2</td><td>-0.22944564499947123</td></tr><tr><td>Constantza Anchorage No. 3</td><td>-0.23942154260814388</td></tr><tr><td>Corinto</td><td>-0.052373462445531475</td></tr><tr><td>Cotonou</td><td>0.21448179858646224</td></tr><tr><td>Cotonou Anchorage</td><td>0.07731320646721312</td></tr><tr><td>Cottonwood Island Anchorage</td><td>-0.23443359380380754</td></tr><tr><td>CPC Terminal SPBM 1</td><td>-0.24191551701031205</td></tr><tr><td>CPC Terminal SPBM 2</td><td>-0.24191551701031205</td></tr><tr><td>Cristobal</td><td>-0.23942154260814388</td></tr><tr><td>Cuddalore</td><td>-0.24191551701031205</td></tr><tr><td>Cumana</td><td>-0.24191551701031205</td></tr><tr><td>Cuxhaven</td><td>-0.17956615695610792</td></tr><tr><td>Dabhol</td><td>-0.24191551701031205</td></tr><tr><td>Daesan</td><td>-0.24191551701031205</td></tr><tr><td>Daesan Anchorage No 2</td><td>2.8905163321129037</td></tr><tr><td>Daesan Anchorages</td><td>-0.22695167059730306</td></tr><tr><td>Daesan Mazhi Dangerous Goods Anchorage</td><td>-0.2369275682059757</td></tr><tr><td>Dafeng Anchorage</td><td>-0.24191551701031205</td></tr><tr><td>Dagang (Qingdao)</td><td>-0.1596143617387626</td></tr><tr><td>Dagukou Chemical Disperse Anchorage</td><td>-0.1945300033691169</td></tr><tr><td>Dagukou North Anchorage</td><td>1.8056374671697517</td></tr><tr><td>Dagukou Quarantine Anchorage</td><td>0.5885779589116871</td></tr><tr><td>Dagukou South Anchorage</td><td>0.9327464264108939</td></tr><tr><td>Dahej</td><td>-0.24191551701031205</td></tr><tr><td>Dahej Anchorage</td><td>-0.2369275682059757</td></tr><tr><td>Dai Hung Offshore Terminals STS Area</td><td>-0.18455410576044423</td></tr><tr><td>Daishan</td><td>-0.21198782418429407</td></tr><tr><td>Dakar</td><td>-0.037409616032522484</td></tr><tr><td>Dakar Anchorage</td><td>-0.10225295048889478</td></tr><tr><td>Dalian</td><td>-0.22695167059730306</td></tr><tr><td>Dalian Cargo Vessel Anchorage</td><td>-0.1371685921192491</td></tr><tr><td>Dalian No 1 Quarantine Anchorage</td><td>-0.20699987537995773</td></tr><tr><td>Dalian No 2 Quarantine Anchorage</td><td>-0.23942154260814388</td></tr><tr><td>Dalian Oil Tanker Anchorage</td><td>-0.2369275682059757</td></tr><tr><td>Dalian Outer Anchorage</td><td>-0.02244576961951349</td></tr><tr><td>Dalian Tanker Anchorage</td><td>-0.2369275682059757</td></tr><tr><td>Damietta Anchorage</td><td>-0.23443359380380754</td></tr><tr><td>Dammam</td><td>1.384155793203332</td></tr><tr><td>Dammam E Anchorage</td><td>1.8530229808109469</td></tr><tr><td>Dammam W Anchorage</td><td>-0.24191551701031205</td></tr><tr><td>Dandong</td><td>-0.24191551701031205</td></tr><tr><td>Dar es Salaam</td><td>0.4913129572271286</td></tr><tr><td>Dar es Salaam Anchorages</td><td>1.1472282249973562</td></tr><tr><td>Dardanelles TSS Lane Northbound</td><td>0.4713611620097833</td></tr><tr><td>Dardanelles TSS Lane Southbound</td><td>-0.0798071808693813</td></tr><tr><td>Dardanelles TTS Lane Southbound</td><td>0.32920462108619786</td></tr><tr><td>Darwin</td><td>-0.18954205456478057</td></tr><tr><td>Darwin Anchor Berth A2</td><td>-0.24191551701031205</td></tr><tr><td>Darwin Outer Anchorages</td><td>-0.24191551701031205</td></tr><tr><td>Darwin SPM Anchorage</td><td>-0.23942154260814388</td></tr><tr><td>Dayao Bay</td><td>-0.07731320646721312</td></tr><tr><td>Deauville</td><td>-0.24191551701031205</td></tr><tr><td>Degrad des Cannes</td><td>-0.16959025934743524</td></tr><tr><td>Dellys</td><td>-0.24191551701031205</td></tr><tr><td>Deltaport</td><td>-0.24191551701031205</td></tr><tr><td>Derince</td><td>0.19951795217345325</td></tr><tr><td>Digang</td><td>-0.24191551701031205</td></tr><tr><td>Dighi</td><td>-0.24191551701031205</td></tr><tr><td>Diliskelesi</td><td>-0.03990359043469065</td></tr><tr><td>Diliskelesi Anchorage</td><td>-0.24191551701031205</td></tr><tr><td>Djibouti</td><td>0.04239756483685881</td></tr><tr><td>Djibouti Outer Anchorage</td><td>-0.04738551364119514</td></tr><tr><td>Djibouti Waiting Anchorage</td><td>-0.24191551701031205</td></tr><tr><td>Doha (Qatar)</td><td>0.8654091175523534</td></tr><tr><td>Doha (Qatar) Anchorage A</td><td>0.09227705288022212</td></tr><tr><td>Doha (Qatar) Anchorage B</td><td>-0.21448179858646224</td></tr><tr><td>Dongdu</td><td>-0.21697577298863038</td></tr><tr><td>Dongtai</td><td>-0.24191551701031205</td></tr><tr><td>Dongwan</td><td>-0.23942154260814388</td></tr><tr><td>Dongying</td><td>-0.24191551701031205</td></tr><tr><td>Douala</td><td>-0.17707218255393975</td></tr><tr><td>Douala Anchorage</td><td>-0.08479512967371762</td></tr><tr><td>Dover Strait</td><td>1.838059134397938</td></tr><tr><td>DP World Djazair</td><td>-0.22695167059730306</td></tr><tr><td>DP World Djazair Anchorage 1</td><td>-0.2369275682059757</td></tr><tr><td>DP World Djazair Anchorage 2</td><td>-0.22695167059730306</td></tr><tr><td>DP World Djen-Djen</td><td>-0.04489153923902698</td></tr><tr><td>DP World Djen-Djen Anchorage</td><td>0.06983128326070863</td></tr><tr><td>Dublin</td><td>-0.23942154260814388</td></tr><tr><td>Duisburg (Ruhrort)</td><td>-0.24191551701031205</td></tr><tr><td>Dulang Marine Terminal</td><td>-0.22944564499947123</td></tr><tr><td>Dumai</td><td>-0.24191551701031205</td></tr><tr><td>Dunkirk</td><td>-0.23942154260814388</td></tr><tr><td>Durban</td><td>1.3966256652141726</td></tr><tr><td>Durban Outer Anchorage</td><td>2.3418419636359076</td></tr><tr><td>Durres</td><td>-0.24191551701031205</td></tr><tr><td>Durres Bay Anchorage</td><td>-0.24191551701031205</td></tr><tr><td>East London</td><td>0.0723252576628768</td></tr><tr><td>East Port Said Bypass</td><td>0.995095786465098</td></tr><tr><td>East Wight Anchorage</td><td>0.8703970663566898</td></tr><tr><td>Eastern Anchorage (AEW)</td><td>0.8329874503241673</td></tr><tr><td>Eastern Bunkering A Anchorage (AEBA)</td><td>-0.014963846413008993</td></tr><tr><td>Eastern Bunkering B Anchorage (AEBB)</td><td>0.46637321320544695</td></tr><tr><td>Eastern Bunkering C Anchorage (AEBC)</td><td>1.5986375917897941</td></tr><tr><td>Eastern Holding A Anchorage (AEHA)</td><td>-0.0798071808693813</td></tr><tr><td>Eastern Holding B Anchorage (AEHB)</td><td>0.11222884809756745</td></tr><tr><td>Eastern Passage</td><td>-0.017457820815177157</td></tr><tr><td>Eastern Petroleum A Anchorage (AEPA)</td><td>-0.024939744021681656</td></tr><tr><td>Eastern Petroleum B Anchorage (AEPBB)</td><td>-0.24191551701031205</td></tr><tr><td>Eastern Petroleum C Anchorage (AEPBC)</td><td>-0.17707218255393975</td></tr><tr><td>Eastern Special Purposes A Anchorage (AESPA)</td><td>1.1796498922255423</td></tr><tr><td>Eemshaven</td><td>-0.22944564499947123</td></tr><tr><td>Eilat</td><td>-0.08230115527154946</td></tr><tr><td>El Dekheila</td><td>-0.2369275682059757</td></tr><tr><td>El Palito Anchorage</td><td>-0.24191551701031205</td></tr><tr><td>Elbe Approach Outer Anchorage</td><td>0</td></tr><tr><td>Elbe Approach Reede Anchorage</td><td>-0.24191551701031205</td></tr><tr><td>Eleusis</td><td>-0.24191551701031205</td></tr><tr><td>Emden</td><td>0.44392744358593345</td></tr><tr><td>Ennore</td><td>-0.037409616032522484</td></tr><tr><td>Erawan Terminal</td><td>-0.22695167059730306</td></tr><tr><td>Escobar LNG</td><td>-0.22196372179296672</td></tr><tr><td>Esmeraldas</td><td>-0.037409616032522484</td></tr><tr><td>Esmeraldas Pilot Boarding Anchorage</td><td>-0.24191551701031205</td></tr><tr><td>Esmeraldas Quarantine Anchorage</td><td>-0.2369275682059757</td></tr><tr><td>Essequibo River</td><td>-0.11971077130407194</td></tr><tr><td>Europoort</td><td>0.024939744021681656</td></tr><tr><td>Everett (Washington)</td><td>-0.1945300033691169</td></tr><tr><td>Everingen Anchorage</td><td>-0.23443359380380754</td></tr><tr><td>Ezhou</td><td>-0.24191551701031205</td></tr><tr><td>Falmouth</td><td>-0.23942154260814388</td></tr><tr><td>Falmouth Bay Anchorage</td><td>-0.2319396194016394</td></tr><tr><td>Fangcheng Anchor Berths B1 to B10</td><td>-0.24191551701031205</td></tr><tr><td>Fangcheng No 1 Anchorage</td><td>-0.24191551701031205</td></tr><tr><td>Fawley</td><td>-0.08479512967371762</td></tr><tr><td>Fengxian</td><td>-0.24191551701031205</td></tr><tr><td>Fethiye</td><td>-0.24191551701031205</td></tr><tr><td>Fort-de-France</td><td>-0.052373462445531475</td></tr><tr><td>Fort-de-France Tanker Anchorage</td><td>-0.24191551701031205</td></tr><tr><td>Fraser River Port</td><td>-0.22196372179296672</td></tr><tr><td>Fredericia</td><td>-0.21198782418429407</td></tr><tr><td>Fredericia FA1 Anchorage</td><td>-0.24191551701031205</td></tr><tr><td>Freeport (Bahamas)</td><td>-0.17457820815177158</td></tr><tr><td>Freeport (Bahamas) Anchorage</td><td>-0.23443359380380754</td></tr><tr><td>Freetown</td><td>-0.2369275682059757</td></tr><tr><td>Freetown Anchor Berths</td><td>-0.24191551701031205</td></tr><tr><td>Freetown Anchorage</td><td>-0.21946974739079855</td></tr><tr><td>Fremantle</td><td>0.5860839845095189</td></tr><tr><td>Fremantle Anchorage N</td><td>0.5362044964661555</td></tr><tr><td>Fujairah Anchorage A</td><td>-0.23942154260814388</td></tr><tr><td>Fujairah Anchorage B</td><td>-0.09726500168455846</td></tr><tr><td>Fujairah Anchorage C</td><td>-0.2319396194016394</td></tr><tr><td>Fujairah Anchorage D</td><td>-0.24191551701031205</td></tr><tr><td>Fujairah Anchorage N</td><td>-0.23942154260814388</td></tr><tr><td>Fujairah Anchorage No 2</td><td>0.3416744930970387</td></tr><tr><td>Fujairah Anchorage S</td><td>-0.1945300033691169</td></tr><tr><td>Fujairah Anchorage T</td><td>-0.24191551701031205</td></tr><tr><td>Fujairah Anchorage W</td><td>-0.24191551701031205</td></tr><tr><td>Fukuyama Quarantine Anchorage</td><td>-0.2319396194016394</td></tr><tr><td>Fukuyama Tsuneishi Shipyard</td><td>-0.23942154260814388</td></tr><tr><td>Funabashi</td><td>-0.21198782418429407</td></tr><tr><td>Funafuti</td><td>-0.24191551701031205</td></tr><tr><td>Fushiki</td><td>-0.2369275682059757</td></tr><tr><td>Gadani</td><td>-0.24191551701031205</td></tr><tr><td>Galveston</td><td>0.2967829538580117</td></tr><tr><td>Galveston - Bolivar Roads Anchorage</td><td>-0.2319396194016394</td></tr><tr><td>Galveston Approach Anchorage</td><td>0.02743371842384982</td></tr><tr><td>Galveston Deep Water Anchorage</td><td>-0.06733730885854047</td></tr><tr><td>Gamagori</td><td>0.09227705288022212</td></tr><tr><td>Gamagori Anchorage</td><td>-0.02743371842384982</td></tr><tr><td>Ganjingzi</td><td>-0.24191551701031205</td></tr><tr><td>Gaolan</td><td>-0.24191551701031205</td></tr><tr><td>Garrucha Anchorage</td><td>-0.24191551701031205</td></tr><tr><td>Gebe Island</td><td>-0.24191551701031205</td></tr><tr><td>Gela Anchorage B</td><td>-0.24191551701031205</td></tr><tr><td>Gelendzhik</td><td>-0.24191551701031205</td></tr><tr><td>Gelibolu Explosives Anchorage</td><td>-0.24191551701031205</td></tr><tr><td>Gemlik</td><td>-0.22196372179296672</td></tr><tr><td>Gemlik Anchorage</td><td>-0.14963846413008994</td></tr><tr><td>Gemlik Explosives Anchorage</td><td>-0.2244576961951349</td></tr><tr><td>General San Martin</td><td>-0.2319396194016394</td></tr><tr><td>General San Martin Anchor Berth No 1</td><td>-0.24191551701031205</td></tr><tr><td>General San Martin Anchor Berth No 4</td><td>-0.24191551701031205</td></tr><tr><td>Genoa</td><td>-0.17707218255393975</td></tr><tr><td>Genoa Zona Alfa Anchorage</td><td>-0.1945300033691169</td></tr><tr><td>Genoa Zona Delta Anchorage</td><td>-0.23942154260814388</td></tr><tr><td>Georgetown (Guyana)</td><td>-0.08479512967371762</td></tr><tr><td>Gera Bay</td><td>-0.23942154260814388</td></tr><tr><td>Ghent</td><td>-0.17457820815177158</td></tr><tr><td>Gibraltar</td><td>-0.23942154260814388</td></tr><tr><td>Gibraltar Bay Anchorage</td><td>-0.15462641293442625</td></tr><tr><td>Gibraltar East Anchorage</td><td>-0.24191551701031205</td></tr><tr><td>Gijon</td><td>-0.2369275682059757</td></tr><tr><td>Gijon Dangerous Cargoes Anchorage</td><td>-0.24191551701031205</td></tr><tr><td>Gingoog</td><td>-0.24191551701031205</td></tr><tr><td>Gioia Tauro</td><td>0.1870480801626124</td></tr><tr><td>Giurgiu</td><td>-0.24191551701031205</td></tr><tr><td>Gladstone</td><td>-0.2319396194016394</td></tr><tr><td>Gladstone Outer Harbour Anchorage</td><td>-0.2244576961951349</td></tr><tr><td>Godbout</td><td>-0.23942154260814388</td></tr><tr><td>Golfo di Genova Anchorage</td><td>0.19203602896694874</td></tr><tr><td>Gothenburg</td><td>-0.13218064331491278</td></tr><tr><td>Gothenburg Inner Anchorage</td><td>-0.21946974739079855</td></tr><tr><td>Gouangzhou Anchorage Berths</td><td>0.15462641293442625</td></tr><tr><td>Grays Harbor</td><td>-0.024939744021681656</td></tr><tr><td>Greenock Anchorage A</td><td>-0.23942154260814388</td></tr><tr><td>Gresik</td><td>-0.23942154260814388</td></tr><tr><td>Gresik Anchorage</td><td>-0.029927692826017985</td></tr><tr><td>Guangzhou</td><td>0.9576861704325755</td></tr><tr><td>Guangzhou Anchorage Berths</td><td>0.3117468002710207</td></tr><tr><td>Guanta</td><td>-0.23942154260814388</td></tr><tr><td>Guanta Anchorage</td><td>-0.24191551701031205</td></tr><tr><td>Guayaquil</td><td>-0.04738551364119514</td></tr><tr><td>Guayaquil Deep Water Anchorage</td><td>-0.2094938497821259</td></tr><tr><td>Guayaquil Explosives Anchorage</td><td>-0.05736141124986781</td></tr><tr><td>Guayaquil Explosives Anchorage No. 2</td><td>-0.22695167059730306</td></tr><tr><td>Guayaquil Quarantine Anchorage</td><td>-0.22196372179296672</td></tr><tr><td>Guiria</td><td>-0.2369275682059757</td></tr><tr><td>Gulf of Arzew Anchorage</td><td>-0.2094938497821259</td></tr><tr><td>Gulfmex No 2</td><td>0.11721679690190377</td></tr><tr><td>Gunsan</td><td>0.5187466756509784</td></tr><tr><td>Gunsan Anchorage A-1</td><td>-0.2369275682059757</td></tr><tr><td>Gunsan Anchorage A-2</td><td>-0.14963846413008994</td></tr><tr><td>Gunsan Anchorage A-3</td><td>-0.2369275682059757</td></tr><tr><td>Gunsan Quarantine Anchorage</td><td>-0.04738551364119514</td></tr><tr><td>Gwadar</td><td>-0.24191551701031205</td></tr><tr><td>Gwangyang</td><td>1.670962849452671</td></tr><tr><td>Gythion</td><td>-0.24191551701031205</td></tr><tr><td>Hadera Anchorage</td><td>-0.24191551701031205</td></tr><tr><td>Haikou</td><td>-0.24191551701031205</td></tr><tr><td>Hakata</td><td>0.10474692489106295</td></tr><tr><td>Hakata Anchorage</td><td>-0.06983128326070863</td></tr><tr><td>Hakata Quarantine Anchorage</td><td>-0.16959025934743524</td></tr><tr><td>Haldia Anchorage</td><td>-0.20450590097778956</td></tr><tr><td>Haldia Outer Anchorage</td><td>-0.1670962849452671</td></tr><tr><td>Halifax</td><td>-0.2244576961951349</td></tr><tr><td>Halifax Inner Anchorage</td><td>-0.16959025934743524</td></tr><tr><td>Halifax Outer Anchorage</td><td>-0.2369275682059757</td></tr><tr><td>Hambantota</td><td>0.29428897945584354</td></tr><tr><td>Hamble</td><td>-0.24191551701031205</td></tr><tr><td>Hamburg</td><td>0.05486743684769964</td></tr><tr><td>Hamburg Aussenelbe Reede Anchorage</td><td>-0.23942154260814388</td></tr><tr><td>Hamburg Elbe Approach Outer Anchorage</td><td>-0.20699987537995773</td></tr><tr><td>Hamburg Neue-Weser-Reede Anchorage</td><td>-0.2369275682059757</td></tr><tr><td>Hamilton (Bermuda)</td><td>-0.21198782418429407</td></tr><tr><td>Hamina</td><td>-0.24191551701031205</td></tr><tr><td>Hampton Roads</td><td>-0.24191551701031205</td></tr><tr><td>Hampton Roads A Anchorage North</td><td>-0.17457820815177158</td></tr><tr><td>Hampton Roads A Anchorage South</td><td>-0.23942154260814388</td></tr><tr><td>Hampton Roads East Anchorage</td><td>-0.24191551701031205</td></tr><tr><td>Hampton Roads F Anchorage</td><td>-0.24191551701031205</td></tr><tr><td>Hampton Roads G Anchorage</td><td>-0.2369275682059757</td></tr><tr><td>Hampton Roads I Anchorage</td><td>-0.19203602896694874</td></tr><tr><td>Hamriyah Anchorage A</td><td>-0.21198782418429407</td></tr><tr><td>Hamriyah Anchorage B</td><td>-0.23942154260814388</td></tr><tr><td>Hannan</td><td>-0.2369275682059757</td></tr><tr><td>Hannan Outer Anchorage</td><td>0.08728910407588579</td></tr><tr><td>Hansweert</td><td>-0.20699987537995773</td></tr><tr><td>Havana</td><td>-0.2244576961951349</td></tr><tr><td>Hengsha Anchorage East Area</td><td>-0.20699987537995773</td></tr><tr><td>Hengsha Anchorage Western Area</td><td>-0.21448179858646224</td></tr><tr><td>Hengsha Tanker Anchorage</td><td>-0.23443359380380754</td></tr><tr><td>Hengyang</td><td>-0.24191551701031205</td></tr><tr><td>Heshangdao</td><td>-0.24191551701031205</td></tr><tr><td>Hibikinada Inner Anchorage</td><td>-0.24191551701031205</td></tr><tr><td>Higashi-Harima Anchorage</td><td>-0.24191551701031205</td></tr><tr><td>Hilo</td><td>-0.10973487369539928</td></tr><tr><td>Himeji</td><td>-0.24191551701031205</td></tr><tr><td>Himekawa</td><td>-0.23942154260814388</td></tr><tr><td>Hirohata</td><td>-0.24191551701031205</td></tr><tr><td>Hiroshima</td><td>1.4664569484748813</td></tr><tr><td>Hiroshima Quarantine Anchorage</td><td>1.1671800202147014</td></tr><tr><td>Hitachi</td><td>0.11721679690190377</td></tr><tr><td>Hitachinaka</td><td>0.3117468002710207</td></tr><tr><td>Hodeidah</td><td>-0.014963846413008993</td></tr><tr><td>Hodeidah Anchorage</td><td>-0.10474692489106295</td></tr><tr><td>Hoheweg-Reede Anchorage</td><td>-0.2094938497821259</td></tr><tr><td>Holtenau</td><td>-0.24191551701031205</td></tr><tr><td>Homs</td><td>-0.19203602896694874</td></tr><tr><td>Homs Anchorage</td><td>-0.1870480801626124</td></tr><tr><td>Hon Gay</td><td>-0.2319396194016394</td></tr><tr><td>Honfleur</td><td>-0.23942154260814388</td></tr><tr><td>Hong Kong</td><td>0.16959025934743524</td></tr><tr><td>Hong Kong Anchorage 10DG</td><td>-0.0723252576628768</td></tr><tr><td>Hong Kong Anchorage 13ZH</td><td>0.5511683428791646</td></tr><tr><td>Hong Kong Anchorage 17GS</td><td>-0.019951795217345324</td></tr><tr><td>Hong Kong Anchorage 18GS</td><td>0.7481923206504496</td></tr><tr><td>Hong Kong Anchorage 22DY</td><td>-0.24191551701031205</td></tr><tr><td>Hong Kong Anchorage 23DY</td><td>-0.24191551701031205</td></tr><tr><td>Hong Kong Anchorage No 11SM</td><td>-0.24191551701031205</td></tr><tr><td>Hong Kong Anchorage No 1BJ</td><td>-0.2319396194016394</td></tr><tr><td>Hong Kong Anchorage No 2WS</td><td>-0.2369275682059757</td></tr><tr><td>Hong Kong Anchorage No 4DT</td><td>-0.21697577298863038</td></tr><tr><td>Hong KOng Anchorage No 5GZ</td><td>-0.21198782418429407</td></tr><tr><td>Hong Kong Anchorage No 8SM</td><td>-0.24191551701031205</td></tr><tr><td>Hong Kong Anchorages 21 &amp; 22DY</td><td>-0.22695167059730306</td></tr><tr><td>Hong Kong Anchorages 7SM</td><td>-0.17707218255393975</td></tr><tr><td>Hong Kong Anchorages 7SM 8SM &amp; 11SM</td><td>-0.12719269451057644</td></tr><tr><td>Hong Kong Dangan Island Anchorage</td><td>-0.21448179858646224</td></tr><tr><td>Hong Kong Dangan Island Eastern Anchorage</td><td>0.15712038733659442</td></tr><tr><td>Hong Kong Kau Yi Chau Dangerous Goods Anchorage</td><td>-0.24191551701031205</td></tr><tr><td>Hong Kong Kellett Anchorage No 1</td><td>-0.23443359380380754</td></tr><tr><td>Hong Kong Kowloon</td><td>-0.11971077130407194</td></tr><tr><td>Hong Kong North Lamma Anchorage</td><td>-0.22695167059730306</td></tr><tr><td>Hong Kong North West Anchorage</td><td>-0.2319396194016394</td></tr><tr><td>Hong Kong Pun Shan Shek Anchorage</td><td>-0.23942154260814388</td></tr><tr><td>Hong Kong South East Lamma Anchorage</td><td>-0.24191551701031205</td></tr><tr><td>Hong Kong South Lamma Anchorage</td><td>-0.09726500168455846</td></tr><tr><td>Hong Kong South West Lamma Anchorage</td><td>-0.24191551701031205</td></tr><tr><td>Hong Kong Western Anchorage No 1-3</td><td>-0.2319396194016394</td></tr><tr><td>Hong Kong Western Quarantine and Immigration Anchorage</td><td>-0.24191551701031205</td></tr><tr><td>Honolulu</td><td>0.05985538565203597</td></tr><tr><td>Horsburgh Anchorage</td><td>0.9851198888564253</td></tr><tr><td>Hososhima</td><td>-0.24191551701031205</td></tr><tr><td>Hososhima Anchorage</td><td>-0.24191551701031205</td></tr><tr><td>Houston</td><td>0.22196372179296672</td></tr><tr><td>Huainan</td><td>-0.24191551701031205</td></tr><tr><td>Huanghua Anchorage No. 2</td><td>-0.23942154260814388</td></tr><tr><td>Huanghua Anchorage No. 4</td><td>-0.24191551701031205</td></tr><tr><td>Huanghua Anchorage No. 6</td><td>-0.21448179858646224</td></tr><tr><td>Huangpu</td><td>-0.2369275682059757</td></tr><tr><td>Huelva Outer Anchorage</td><td>-0.2319396194016394</td></tr><tr><td>Hueneme</td><td>0.6384574469550504</td></tr><tr><td>Huizhou Anchorage No 10</td><td>-0.24191551701031205</td></tr><tr><td>Huizhou Terminal</td><td>-0.24191551701031205</td></tr><tr><td>Humen</td><td>-0.23942154260814388</td></tr><tr><td>Humen Anchorage Berths 41-44SJ</td><td>0.0024939744021681655</td></tr><tr><td>Ijmuiden</td><td>0.3441684674992068</td></tr><tr><td>IJmuiden Anchorage</td><td>-0.20699987537995773</td></tr><tr><td>IJmuiden Anchorage No. 7</td><td>-0.22944564499947123</td></tr><tr><td>Ijmuiden Inner Anchorage</td><td>-0.12719269451057644</td></tr><tr><td>Ijmuiden Outer Anchorage</td><td>-0.23942154260814388</td></tr><tr><td>Illichevsk</td><td>-0.21946974739079855</td></tr><tr><td>Illichevsk No 351 Anchorage</td><td>-0.23942154260814388</td></tr><tr><td>Imari</td><td>-0.2369275682059757</td></tr><tr><td>Imari Outer Anchorage</td><td>-0.24191551701031205</td></tr><tr><td>Immingham</td><td>-0.02743371842384982</td></tr><tr><td>Immingham Anchorage</td><td>-0.21697577298863038</td></tr><tr><td>Incheon</td><td>1.2544691242905872</td></tr><tr><td>Incheon Central Fairway Anchorage</td><td>0.5436864196726601</td></tr><tr><td>Incheon Inner Fairway Anchorage</td><td>0.3391805186948705</td></tr><tr><td>Incheon Outer Anchorage</td><td>-0.04489153923902698</td></tr><tr><td>Innoshima</td><td>-0.17457820815177158</td></tr><tr><td>Interflour Port</td><td>-0.2319396194016394</td></tr><tr><td>Iquique</td><td>0.49879488043363307</td></tr><tr><td>Iquique Explosives Anchorage</td><td>-0.21946974739079855</td></tr><tr><td>Iquique Quarantine Anchorage</td><td>-0.17707218255393975</td></tr><tr><td>Isdemir</td><td>-0.24191551701031205</td></tr><tr><td>Ishikariwan Shinko</td><td>-0.24191551701031205</td></tr><tr><td>Iskenderun</td><td>-0.10973487369539928</td></tr><tr><td>Iskenderun Anchorage</td><td>-0.22944564499947123</td></tr><tr><td>Iskenderun Explosives Anchorage</td><td>-0.0723252576628768</td></tr><tr><td>Istanbul Anchorage</td><td>-0.2244576961951349</td></tr><tr><td>Istanbul Outer Anchorage</td><td>1.1497221993995244</td></tr><tr><td>Itozaki Outer Anchorage</td><td>-0.23443359380380754</td></tr><tr><td>Iwakuni</td><td>-0.24191551701031205</td></tr><tr><td>Izmir</td><td>-0.1596143617387626</td></tr><tr><td>Izmit Anchorage</td><td>-0.11222884809756745</td></tr><tr><td>Jabiru Marine Terminal</td><td>-0.24191551701031205</td></tr><tr><td>Jacksonville</td><td>2.2919624755925443</td></tr><tr><td>Jacksonville Anchorage</td><td>0.23443359380380754</td></tr><tr><td>Jakhau Anchorage</td><td>-0.23942154260814388</td></tr><tr><td>Jebel Ali</td><td>2.2720106803751987</td></tr><tr><td>Jebel Ali Anchorage</td><td>4.573949053576415</td></tr><tr><td>Jeddah</td><td>1.838059134397938</td></tr><tr><td>Jeddah Anchorage D</td><td>-0.2094938497821259</td></tr><tr><td>Jeddah Anchorage E</td><td>-0.04987948804336331</td></tr><tr><td>Jiading</td><td>-0.24191551701031205</td></tr><tr><td>Jiang Yin</td><td>-0.23942154260814388</td></tr><tr><td>Jiang Yin Anchorage</td><td>0.7831079622808039</td></tr><tr><td>Jiangyin</td><td>-0.24191551701031205</td></tr><tr><td>Jiangyin Anchorage</td><td>-0.22196372179296672</td></tr><tr><td>Jiangyuanansha Temporary Anchorage</td><td>-0.24191551701031205</td></tr><tr><td>Jijel</td><td>-0.24191551701031205</td></tr><tr><td>Jingjiang</td><td>-0.2319396194016394</td></tr><tr><td>Jinhae Bay East Anchorage</td><td>-0.2369275682059757</td></tr><tr><td>Jinhae Bay West Anchorage</td><td>-0.24191551701031205</td></tr><tr><td>Jinzhou Anchorage No 1</td><td>-0.24191551701031205</td></tr><tr><td>Johor</td><td>-0.1820601313582761</td></tr><tr><td>Johor Anchorages</td><td>-0.19951795217345325</td></tr><tr><td>Jorf Lasfar Anchorage</td><td>-0.16210833614093076</td></tr><tr><td>Jubail</td><td>-0.24191551701031205</td></tr><tr><td>Jubail Holding Anchorage</td><td>-0.04489153923902698</td></tr><tr><td>Jubail Inner Anchorage</td><td>-0.24191551701031205</td></tr><tr><td>Kabil</td><td>-0.23942154260814388</td></tr><tr><td>Kabil Anchorage</td><td>-0.24191551701031205</td></tr><tr><td>Kagoshima</td><td>0.6384574469550504</td></tr><tr><td>Kahului</td><td>-0.09726500168455846</td></tr><tr><td>Kaimana</td><td>-0.24191551701031205</td></tr><tr><td>Kakinada</td><td>-0.24191551701031205</td></tr><tr><td>Kakogawa</td><td>0.06733730885854047</td></tr><tr><td>Kakogawa Anchorage</td><td>-0.06983128326070863</td></tr><tr><td>Kalama</td><td>-0.24191551701031205</td></tr><tr><td>Kalama Anchorage</td><td>-0.21946974739079855</td></tr><tr><td>Kalamata</td><td>-0.24191551701031205</td></tr><tr><td>Kalba Anchorage B</td><td>-0.24191551701031205</td></tr><tr><td>Kalundborg Fjord Anchorage</td><td>-0.22695167059730306</td></tr><tr><td>Kamaishi</td><td>-0.24191551701031205</td></tr><tr><td>Kamarajar</td><td>-0.1670962849452671</td></tr><tr><td>Kanda</td><td>1.3766738699968273</td></tr><tr><td>Kanda Northern Anchorage</td><td>-0.21198782418429407</td></tr><tr><td>Kanda Outer Anchorage</td><td>0.04738551364119514</td></tr><tr><td>Kanda Southern Anchorage</td><td>-0.1820601313582761</td></tr><tr><td>Kanmon Ko</td><td>0.10973487369539928</td></tr><tr><td>Kanokawa Anchorage</td><td>-0.23443359380380754</td></tr><tr><td>Kaohsiung</td><td>-0.2094938497821259</td></tr><tr><td>Kaohsiung No 1 Anchorage</td><td>-0.21946974739079855</td></tr><tr><td>Kaohsiung No 2 Anchorage</td><td>-0.21946974739079855</td></tr><tr><td>Kaohsiung No 3 Anchorage</td><td>-0.23443359380380754</td></tr><tr><td>Kapar Power Station</td><td>-0.24191551701031205</td></tr><tr><td>Karabiga Anchorage No 1</td><td>-0.24191551701031205</td></tr><tr><td>Karachi</td><td>-0.1820601313582761</td></tr><tr><td>Karachi Anchorages</td><td>-0.19702397777128508</td></tr><tr><td>Karimun STS Anchorage</td><td>-0.09477102728239029</td></tr><tr><td>Karumba</td><td>-0.24191551701031205</td></tr><tr><td>Kasaoka Anchorage</td><td>-0.2369275682059757</td></tr><tr><td>Kashima</td><td>-0.2369275682059757</td></tr><tr><td>Kashima Anchorage</td><td>-0.14714448972792177</td></tr><tr><td>Kasim Marine Terminal</td><td>-0.2369275682059757</td></tr><tr><td>Kattegat Anchorage A</td><td>-0.23443359380380754</td></tr><tr><td>Kattegat Anchorage 'A'</td><td>-0.20450590097778956</td></tr><tr><td>Kattegat Anchorage B</td><td>-0.24191551701031205</td></tr><tr><td>Kattegat Anchorage 'B'</td><td>-0.23443359380380754</td></tr><tr><td>Kattupalli</td><td>-0.24191551701031205</td></tr><tr><td>Kawasaki</td><td>1.3243004075512959</td></tr><tr><td>Kawasaki Anchorage</td><td>1.2320233546710737</td></tr><tr><td>Keelung</td><td>-0.04987948804336331</td></tr><tr><td>Keelung Anchorage</td><td>-0.21697577298863038</td></tr><tr><td>Kelly Point Anchorage</td><td>-0.19203602896694874</td></tr><tr><td>Kertih Port</td><td>-0.24191551701031205</td></tr><tr><td>Khalifa Bin Salman</td><td>0.8953368103783714</td></tr><tr><td>Khalifa Bin Salman Anchorage</td><td>0.2768311586406664</td></tr><tr><td>Khalifa Port</td><td>-0.09227705288022212</td></tr><tr><td>Khalifa Port Anchorage</td><td>-0.2369275682059757</td></tr><tr><td>Khasab</td><td>-0.2369275682059757</td></tr><tr><td>Khor Al Zubair</td><td>-0.24191551701031205</td></tr><tr><td>Khor Al Zubair Anchorage</td><td>0.0024939744021681655</td></tr><tr><td>Khor Fakkan Anchorage B</td><td>-0.24191551701031205</td></tr><tr><td>Khor Fakkan Anchorage C</td><td>-0.23942154260814388</td></tr><tr><td>Kiame Marine Terminal</td><td>-0.24191551701031205</td></tr><tr><td>Kikeh Marine Terminal</td><td>-0.24191551701031205</td></tr><tr><td>Kikuma Anchorage</td><td>-0.24191551701031205</td></tr><tr><td>Killingholme</td><td>-0.23942154260814388</td></tr><tr><td>King Fahd Industrial Port (Yanbu)</td><td>-0.24191551701031205</td></tr><tr><td>King Fahd Industrial Port (Yanbu) Anchorage North</td><td>0.16959025934743524</td></tr><tr><td>King Fahd Industrial Port (Yanbu) Anchorage South</td><td>-0.24191551701031205</td></tr><tr><td>Kingston (Jamaica)</td><td>0.1521324385322581</td></tr><tr><td>Kingston (jamaica) Inner Anchorage</td><td>-0.23443359380380754</td></tr><tr><td>Kingston (Jamaica) Outer Anchorage</td><td>0.2319396194016394</td></tr><tr><td>Kingstown</td><td>-0.20450590097778956</td></tr><tr><td>Kinuura</td><td>-0.19951795217345325</td></tr><tr><td>Kinuura Quarantine Anchorage</td><td>-0.21448179858646224</td></tr><tr><td>Kinwan</td><td>-0.24191551701031205</td></tr><tr><td>Kisarazu</td><td>-0.02743371842384982</td></tr><tr><td>Kisarazu Anchorage</td><td>-0.04738551364119514</td></tr><tr><td>Kiyanly</td><td>-0.24191551701031205</td></tr><tr><td>Kizomba Terminals Anchorage</td><td>-0.19951795217345325</td></tr><tr><td>Kobe</td><td>1.78069772314807</td></tr><tr><td>Kobe Anchorage</td><td>1.8305772111914334</td></tr><tr><td>Kochi (Japan)</td><td>-0.23443359380380754</td></tr><tr><td>Kokura</td><td>-0.24191551701031205</td></tr><tr><td>Kolkata</td><td>-0.18954205456478057</td></tr><tr><td>Kolkata Anchorage</td><td>-0.1870480801626124</td></tr><tr><td>Komatsushima</td><td>-0.24191551701031205</td></tr><tr><td>Koper</td><td>0.2319396194016394</td></tr><tr><td>Koper Anchorage</td><td>0.16460231054309893</td></tr><tr><td>Kos</td><td>-0.24191551701031205</td></tr><tr><td>Kota Kinabalu</td><td>-0.17956615695610792</td></tr><tr><td>Kota Kinabalu Dangerous Petroleum Anchorage</td><td>-0.24191551701031205</td></tr><tr><td>Kralendijk</td><td>-0.18954205456478057</td></tr><tr><td>Krasnogorskiy</td><td>-0.23942154260814388</td></tr><tr><td>Krautsand Reede Anchorage</td><td>-0.24191551701031205</td></tr><tr><td>Krefeld</td><td>-0.24191551701031205</td></tr><tr><td>Kuching</td><td>-0.19203602896694874</td></tr><tr><td>Kuching Anchorage</td><td>-0.22196372179296672</td></tr><tr><td>Kudamatsu</td><td>-0.2319396194016394</td></tr><tr><td>Kudamatsu Loading Anchorage</td><td>-0.22196372179296672</td></tr><tr><td>Kure</td><td>-0.23942154260814388</td></tr><tr><td>Kwame Nkrumah MV21 FPSO Waiting Area</td><td>-0.23942154260814388</td></tr><tr><td>La Goulette</td><td>-0.1670962849452671</td></tr><tr><td>La Goulette Anchorage</td><td>-0.17457820815177158</td></tr><tr><td>La Guaira</td><td>-0.22944564499947123</td></tr><tr><td>La Maddalena (Sardinia)</td><td>-0.24191551701031205</td></tr><tr><td>La Paz</td><td>-0.24191551701031205</td></tr><tr><td>La Plata Anchorage</td><td>0.5287225732596511</td></tr><tr><td>La Rochelle-Pallice</td><td>-0.24191551701031205</td></tr><tr><td>La Rochelle-Pallice Anchorage</td><td>-0.24191551701031205</td></tr><tr><td>La Salina Anchorage</td><td>-0.24191551701031205</td></tr><tr><td>Labuan</td><td>-0.1945300033691169</td></tr><tr><td>Labuan Anchorage</td><td>-0.16210833614093076</td></tr><tr><td>Labuan Oil Terminal Tanker Anchorage</td><td>-0.2244576961951349</td></tr><tr><td>Lae</td><td>-0.17956615695610792</td></tr><tr><td>Lae Anchor Berth QS</td><td>-0.23942154260814388</td></tr><tr><td>Laem Chabang</td><td>2.0575288817887367</td></tr><tr><td>Lagos (Nigeria)</td><td>0.4838310340206241</td></tr><tr><td>Lagos (Nigeria) Anchorage</td><td>1.2120715594537284</td></tr><tr><td>Lalang Marine Terminal</td><td>-0.23942154260814388</td></tr><tr><td>Larnaca</td><td>-0.20699987537995773</td></tr><tr><td>Larnaca Anchorage</td><td>-0.2369275682059757</td></tr><tr><td>Las Palmas</td><td>-0.21697577298863038</td></tr><tr><td>Las Palmas Rada Norte Anchorage</td><td>-0.23942154260814388</td></tr><tr><td>Las Palmas Rada Sur Anchorage</td><td>-0.1596143617387626</td></tr><tr><td>Lazaro Cardenas</td><td>0.9252645032043894</td></tr><tr><td>Le Havre</td><td>0.45889128999894246</td></tr><tr><td>Le Havre No 1 Anchorage</td><td>-0.22695167059730306</td></tr><tr><td>Le Havre No 2 Anchorage</td><td>-0.16460231054309893</td></tr><tr><td>Le Havre No 3 Anchorage</td><td>-0.07481923206504497</td></tr><tr><td>Leam Chabang Harbour Anchorage</td><td>1.1996016874428876</td></tr><tr><td>Leigh Small Ship Anchorage</td><td>-0.23942154260814388</td></tr><tr><td>Leixoes</td><td>-0.24191551701031205</td></tr><tr><td>Leixoes Anchorage</td><td>-0.24191551701031205</td></tr><tr><td>Leonis FSO</td><td>-0.23942154260814388</td></tr><tr><td>Levuka</td><td>-0.24191551701031205</td></tr><tr><td>Lhokseumawe</td><td>-0.24191551701031205</td></tr><tr><td>Lianyungang</td><td>0.03242166722818615</td></tr><tr><td>Lianyungang Anchorage No 1</td><td>-0.09726500168455846</td></tr><tr><td>Lianyungang Anchorage No 2</td><td>-0.1296866689127446</td></tr><tr><td>Lianyungang Anchorage No 3</td><td>-0.14215654092358543</td></tr><tr><td>Lianyungang Anchorage No 4</td><td>-0.15462641293442625</td></tr><tr><td>Lianyungang Anchorage No 5</td><td>-0.20699987537995773</td></tr><tr><td>Lianyungang Dangerous Goods Anchorage</td><td>-0.22944564499947123</td></tr><tr><td>Libreville Anchorage</td><td>-0.13218064331491278</td></tr><tr><td>Limas</td><td>0.014963846413008993</td></tr><tr><td>Limassol</td><td>-0.22695167059730306</td></tr><tr><td>Limassol Port Anchorage</td><td>-0.2369275682059757</td></tr><tr><td>Liuhe Ocean Liners Anchorage</td><td>-0.21697577298863038</td></tr><tr><td>Liuheng</td><td>-0.11721679690190377</td></tr><tr><td>Liuheng North Anchorage</td><td>-0.11721679690190377</td></tr><tr><td>Livorno</td><td>0.2244576961951349</td></tr><tr><td>Lobito</td><td>-0.22944564499947123</td></tr><tr><td>Lobito Anchorage</td><td>-0.23443359380380754</td></tr><tr><td>Lobos Islands</td><td>-0.1670962849452671</td></tr><tr><td>Lome</td><td>-0.12719269451057644</td></tr><tr><td>Lome Anchorage</td><td>-0.17457820815177158</td></tr><tr><td>London</td><td>-0.17956615695610792</td></tr><tr><td>London Gateway</td><td>-0.2369275682059757</td></tr><tr><td>London Thamesport</td><td>-0.24191551701031205</td></tr><tr><td>Long Beach</td><td>0.5062768036401376</td></tr><tr><td>Long Beach Anchorage B</td><td>-0.19203602896694874</td></tr><tr><td>Long Beach Anchorage F</td><td>-0.19951795217345325</td></tr><tr><td>Long Beach Anchorage G</td><td>-0.22695167059730306</td></tr><tr><td>Long Beach Anchorage P</td><td>-0.24191551701031205</td></tr><tr><td>Long Beach Southern Anchorage</td><td>1.2569630986927554</td></tr><tr><td>Longkou</td><td>-0.2319396194016394</td></tr><tr><td>Longview Anchorage</td><td>-0.22944564499947123</td></tr><tr><td>Los Angeles</td><td>0.17956615695610792</td></tr><tr><td>Lower Vancouver Anchorage</td><td>-0.2369275682059757</td></tr><tr><td>Luanda</td><td>0.12220474570624011</td></tr><tr><td>Luanda Inner Anchorage</td><td>0.16959025934743524</td></tr><tr><td>Luanda Outer Anchorage</td><td>0.4264696227707563</td></tr><tr><td>Luhuashan South Anchorage</td><td>-0.1720842337496034</td></tr><tr><td>Luoyuan Bay Harbour</td><td>-0.23942154260814388</td></tr><tr><td>Luoyuan bay Harbour Anchorage</td><td>-0.24191551701031205</td></tr><tr><td>Lusi</td><td>-0.24191551701031205</td></tr><tr><td>Lyttelton</td><td>0.08230115527154946</td></tr><tr><td>Lyttelton Anchorage</td><td>-0.12220474570624011</td></tr><tr><td>Ma Zhou Island</td><td>-0.2319396194016394</td></tr><tr><td>Ma Zhou West Dangerous Goods Anchorage</td><td>-0.2369275682059757</td></tr><tr><td>Madura</td><td>-0.23942154260814388</td></tr><tr><td>Magellan Strait Area</td><td>-0.07731320646721312</td></tr><tr><td>Mailiao No 2 Anchorage</td><td>-0.24191551701031205</td></tr><tr><td>Mailiao Outer Anchorage</td><td>-0.24191551701031205</td></tr><tr><td>Maizuru</td><td>-0.22695167059730306</td></tr><tr><td>Majishan Port Anchorage No 1</td><td>-0.16210833614093076</td></tr><tr><td>Majishan Port Anchorage No 2</td><td>-0.22944564499947123</td></tr><tr><td>Majuro</td><td>-0.24191551701031205</td></tr><tr><td>Makassar</td><td>0.1820601313582761</td></tr><tr><td>Makassar Anchorage</td><td>0.1720842337496034</td></tr><tr><td>Malabo</td><td>-0.22695167059730306</td></tr><tr><td>Malacca</td><td>-0.23942154260814388</td></tr><tr><td>Malaga</td><td>-0.19702397777128508</td></tr><tr><td>Malaga Anchorage</td><td>-0.2369275682059757</td></tr><tr><td>Malaga Dangerous Cargo Anchorage</td><td>-0.22944564499947123</td></tr><tr><td>Malmo</td><td>-0.09726500168455846</td></tr><tr><td>Malmok Anchorage</td><td>-0.21448179858646224</td></tr><tr><td>Malta Valletta and Marsaxlokk Anchorage</td><td>1.2145655338558965</td></tr><tr><td>Mamonal Anchorage A</td><td>-0.24191551701031205</td></tr><tr><td>Mamonal Anchorage E</td><td>-0.22695167059730306</td></tr><tr><td>Manfredonia</td><td>-0.23942154260814388</td></tr><tr><td>Mangalia</td><td>-0.2319396194016394</td></tr><tr><td>Mangalia Anchorage</td><td>-0.24191551701031205</td></tr><tr><td>Mangalore</td><td>-0.23942154260814388</td></tr><tr><td>Manila</td><td>-0.21448179858646224</td></tr><tr><td>Manila Anchorages</td><td>-0.1945300033691169</td></tr><tr><td>Man-of-War Anchorage (AMOW)</td><td>-0.2369275682059757</td></tr><tr><td>Manta</td><td>0.09227705288022212</td></tr><tr><td>Manzanillo (Mexico)</td><td>0.017457820815177157</td></tr><tr><td>Manzanillo (Mexico) Anchorage</td><td>-0.1720842337496034</td></tr><tr><td>Manzanillo (Mexico) Anchorage A</td><td>-0.23942154260814388</td></tr><tr><td>Manzanillo (Mexico) Anchorage B</td><td>-0.24191551701031205</td></tr><tr><td>Maputo</td><td>0.3641202627165522</td></tr><tr><td>Maputo Bay Anchorage</td><td>0.8304934759219991</td></tr><tr><td>Maputo Outer Anchorage</td><td>-0.04987948804336331</td></tr><tr><td>Marcus Hook General Anchorage 7</td><td>-0.16460231054309893</td></tr><tr><td>Marcus Hook Quarantine Anchorage</td><td>-0.2369275682059757</td></tr><tr><td>Margate Roads Anchorage</td><td>0.11472282249973562</td></tr><tr><td>Marsaxlokk</td><td>-0.22944564499947123</td></tr><tr><td>Marsaxlokk Anchorage</td><td>-0.05486743684769964</td></tr><tr><td>Marseille</td><td>-0.18954205456478057</td></tr><tr><td>Marseille Nord Anchorage</td><td>-0.23942154260814388</td></tr><tr><td>Marseilles Mouillage Ouest Anchorage</td><td>-0.23443359380380754</td></tr><tr><td>Marseilles Nord Anchorage</td><td>-0.22196372179296672</td></tr><tr><td>Marugame</td><td>-0.21448179858646224</td></tr><tr><td>Masan</td><td>0.2743371842384982</td></tr><tr><td>Masao</td><td>-0.24191551701031205</td></tr><tr><td>Mashi Anchorage Area No 1</td><td>0.11222884809756745</td></tr><tr><td>Mashi Anchorage Area No 2</td><td>-0.08978307847805396</td></tr><tr><td>Massawa</td><td>-0.24191551701031205</td></tr><tr><td>Matanzas (Cuba) Anchorage</td><td>-0.23942154260814388</td></tr><tr><td>Matsuura Anchorage</td><td>-0.23942154260814388</td></tr><tr><td>Matsuyama</td><td>-0.2369275682059757</td></tr><tr><td>Mazhi Dangerous Goods Anchorage</td><td>-0.16959025934743524</td></tr><tr><td>Mazhi Dangerous Goods Operation Anchorage</td><td>-0.23443359380380754</td></tr><tr><td>M'Bao Oil Terminal</td><td>-0.24191551701031205</td></tr><tr><td>Mega</td><td>-0.2319396194016394</td></tr><tr><td>Meishan</td><td>-0.2319396194016394</td></tr><tr><td>Mejillones</td><td>-0.22944564499947123</td></tr><tr><td>Melbourne</td><td>1.4090955372250136</td></tr><tr><td>Melbourne Explosives Anchorage</td><td>-0.06733730885854047</td></tr><tr><td>Merak Anchorage</td><td>-0.2244576961951349</td></tr><tr><td>Mersin</td><td>-0.08479512967371762</td></tr><tr><td>Mersin Anchorage</td><td>-0.13218064331491278</td></tr><tr><td>Mersin Anchorage No. 1</td><td>-0.22944564499947123</td></tr><tr><td>Mersin Anchorage No. 2</td><td>-0.23942154260814388</td></tr><tr><td>Mersin Anchorages</td><td>-0.15712038733659442</td></tr><tr><td>Mesaieed</td><td>-0.24191551701031205</td></tr><tr><td>Mesaieed Main anchorage</td><td>-0.24191551701031205</td></tr><tr><td>Methaniers Pilot Boarding Area</td><td>-0.2244576961951349</td></tr><tr><td>Miami</td><td>-0.24191551701031205</td></tr><tr><td>Miami Anchorage</td><td>-0.23942154260814388</td></tr><tr><td>Milford Haven Anchorage</td><td>-0.2369275682059757</td></tr><tr><td>Milos Island</td><td>-0.24191551701031205</td></tr><tr><td>Mina Abd Allah Terminal_Mina Ash Shuaybah Petroleum Products Pier Anchorage</td><td>-0.24191551701031205</td></tr><tr><td>Mina Al Ahmadi South Pier Anchorage</td><td>-0.23942154260814388</td></tr><tr><td>MIna Al Ahmadi SPM Anchorage</td><td>-0.2244576961951349</td></tr><tr><td>Mina al Fahal Anchorage</td><td>-0.24191551701031205</td></tr><tr><td>Mina Salman</td><td>-0.23942154260814388</td></tr><tr><td>Miri</td><td>-0.24191551701031205</td></tr><tr><td>Mishima-Kawanoe</td><td>-0.24191551701031205</td></tr><tr><td>Misumi (Kumamoto)</td><td>-0.24191551701031205</td></tr><tr><td>Mitajiri</td><td>0.857927194345849</td></tr><tr><td>Mizushima</td><td>0.4314575715750926</td></tr><tr><td>Mizushima Anchor Berths A - E</td><td>-0.24191551701031205</td></tr><tr><td>Mizushima Quarantine Anchorage</td><td>-0.1446505153257536</td></tr><tr><td>Mobile</td><td>-0.2319396194016394</td></tr><tr><td>Mobile Outer Fairway Anchorage</td><td>-0.23443359380380754</td></tr><tr><td>Mohammedia Anchorage</td><td>-0.23942154260814388</td></tr><tr><td>Moji</td><td>0.9053127079870441</td></tr><tr><td>Moji Northern Anchorage</td><td>-0.23942154260814388</td></tr><tr><td>Moji Southern Anchorage</td><td>-0.2094938497821259</td></tr><tr><td>Mokha</td><td>-0.24191551701031205</td></tr><tr><td>Mokpo</td><td>1.7707218255393975</td></tr><tr><td>Mokpo Anchorage Area IV</td><td>0.21697577298863038</td></tr><tr><td>Mokpo Anchorage Area V</td><td>-0.15712038733659442</td></tr><tr><td>Mokpo Outer Anchorages</td><td>-0.02743371842384982</td></tr><tr><td>Mombasa</td><td>0.49879488043363307</td></tr><tr><td>Mombasa Anchorages</td><td>0.2369275682059757</td></tr><tr><td>Monbetsu</td><td>-0.24191551701031205</td></tr><tr><td>Monfalcone</td><td>-0.24191551701031205</td></tr><tr><td>Monfalcone Anchorage</td><td>-0.24191551701031205</td></tr><tr><td>Mongla</td><td>-0.18954205456478057</td></tr><tr><td>Montevideo</td><td>0.08230115527154946</td></tr><tr><td>Montevideo Anchorage and Service Area</td><td>1.0325054024976206</td></tr><tr><td>Mormugao</td><td>-0.24191551701031205</td></tr><tr><td>Mostaganem</td><td>-0.21697577298863038</td></tr><tr><td>Mostaganem Anchorage</td><td>-0.23942154260814388</td></tr><tr><td>Muara</td><td>-0.1371685921192491</td></tr><tr><td>Muara Anchorage</td><td>-0.02743371842384982</td></tr><tr><td>Muara Pantai</td><td>-0.24191551701031205</td></tr><tr><td>Muara Tawar Power Station (PLTGU) CBM</td><td>-0.24191551701031205</td></tr><tr><td>Muhammad Bin Qasim</td><td>-0.21946974739079855</td></tr><tr><td>Muhammad Bin Qasim Outer Anchorage</td><td>-0.2369275682059757</td></tr><tr><td>Mumbai</td><td>0.012469872010840828</td></tr><tr><td>Mumbai Anchorage</td><td>-0.052373462445531475</td></tr><tr><td>Mumbai Bravo (East) Anchorage</td><td>-0.2369275682059757</td></tr><tr><td>Mumbai Bravo (West) Anchorage</td><td>-0.1870480801626124</td></tr><tr><td>Mumbai Cargo Transhipment Area</td><td>-0.2369275682059757</td></tr><tr><td>Mumbai Outer Anchorage</td><td>-0.09975897608672663</td></tr><tr><td>Mundra</td><td>-0.08479512967371762</td></tr><tr><td>Mundra General Anchorage A</td><td>-0.019951795217345324</td></tr><tr><td>Mundra General Anchorage B</td><td>-0.23443359380380754</td></tr><tr><td>Mundra South Basin</td><td>-0.1870480801626124</td></tr><tr><td>Mundra SPM Anchorage</td><td>-0.22944564499947123</td></tr><tr><td>Mundra SPM's Anchorage</td><td>-0.2369275682059757</td></tr><tr><td>Munguba</td><td>-0.24191551701031205</td></tr><tr><td>Muroran</td><td>-0.24191551701031205</td></tr><tr><td>Musaffah</td><td>-0.24191551701031205</td></tr><tr><td>Musaffah Anchorage</td><td>-0.19702397777128508</td></tr><tr><td>My Thoi</td><td>-0.24191551701031205</td></tr><tr><td>NA</td><td>32.18224568557801</td></tr><tr><td>Nagasaki South Section</td><td>-0.24191551701031205</td></tr><tr><td>Nagoya</td><td>5.963092795584084</td></tr><tr><td>Nagoya Anchorage</td><td>1.3342763051599684</td></tr><tr><td>Nagoya LPG Anchorage</td><td>0.8055537319003174</td></tr><tr><td>Naha</td><td>-0.22196372179296672</td></tr><tr><td>Nakhodka</td><td>-0.23443359380380754</td></tr><tr><td>Nakhodka Anchorage No. 167</td><td>-0.24191551701031205</td></tr><tr><td>Nakhodka Anchorage No. 306</td><td>-0.24191551701031205</td></tr><tr><td>Nakhodka Anchorages 166 to 167</td><td>-0.23443359380380754</td></tr><tr><td>Nampo</td><td>-0.24191551701031205</td></tr><tr><td>Nanao</td><td>-0.23942154260814388</td></tr><tr><td>Nancao Temporary Anchorage A for Dangerous Cargo Vessels</td><td>-0.24191551701031205</td></tr><tr><td>Nancao Temporary Anchorage B for Dangerous Cargo Vessels</td><td>-0.24191551701031205</td></tr><tr><td>Nancao Temporary Anchorage No 1</td><td>-0.24191551701031205</td></tr><tr><td>Nancao Temporary Anchorage No 2</td><td>-0.23942154260814388</td></tr><tr><td>Nanhui</td><td>-0.24191551701031205</td></tr><tr><td>Nanjing</td><td>-0.22944564499947123</td></tr><tr><td>Nansha</td><td>-0.24191551701031205</td></tr><tr><td>Nansha Anchorage 33LD</td><td>-0.24191551701031205</td></tr><tr><td>Nantong</td><td>-0.12469872010840827</td></tr><tr><td>Nantong Port Dangerous Goods Anchorage</td><td>-0.17707218255393975</td></tr><tr><td>Nantong Port Erhaojia Anchorage</td><td>-0.23443359380380754</td></tr><tr><td>Nantong Port Lightering Anchorage</td><td>-0.2319396194016394</td></tr><tr><td>Naoetsu</td><td>-0.24191551701031205</td></tr><tr><td>Nassau</td><td>-0.0798071808693813</td></tr><tr><td>Naze</td><td>-0.14215654092358543</td></tr><tr><td>Neendakara</td><td>-0.23942154260814388</td></tr><tr><td>Nelson</td><td>0.009975897608672662</td></tr><tr><td>Nemrut Bay Outer Anchorage</td><td>-0.24191551701031205</td></tr><tr><td>Neue-Weser-Nord-Reede Anchorage</td><td>0.4539033411946061</td></tr><tr><td>Neue-Weser-Reede Anchorage</td><td>-0.24191551701031205</td></tr><tr><td>Neuhaus</td><td>-0.24191551701031205</td></tr><tr><td>New Glasgow &amp; Trenton</td><td>-0.24191551701031205</td></tr><tr><td>New Sand Hole Anchorage</td><td>-0.15712038733659442</td></tr><tr><td>New York &amp; New Jersey</td><td>2.144817985864622</td></tr><tr><td>New York &amp; New Jersey Anchorage</td><td>-0.21198782418429407</td></tr><tr><td>New York &amp; New Jersey Brenton Point Anchorage Ground</td><td>-0.2319396194016394</td></tr><tr><td>New York_New Jersey Anchorage</td><td>-0.19702397777128508</td></tr><tr><td>Newcaste Upon Tyne Anchorage</td><td>-0.04239756483685881</td></tr><tr><td>Newcastle (Australia)</td><td>-0.22695167059730306</td></tr><tr><td>Newcastle (Australia) Anchorage</td><td>-0.22695167059730306</td></tr><tr><td>Newcastle upon Tyne</td><td>-0.009975897608672662</td></tr><tr><td>Newcastle upon Tyne Anchorage</td><td>-0.2020119265756214</td></tr><tr><td>Newport (Rhode Island)</td><td>-0.2319396194016394</td></tr><tr><td>Newport (Rhode Island) Naval &amp; General A</td><td>-0.12469872010840827</td></tr><tr><td>Newport (Rhode Island) Naval &amp; General A Anchorage</td><td>-0.21697577298863038</td></tr><tr><td>Newport News</td><td>0.052373462445531475</td></tr><tr><td>Nghe Tinh</td><td>-0.24191551701031205</td></tr><tr><td>Nha Trang</td><td>-0.24191551701031205</td></tr><tr><td>Niihama</td><td>-0.2369275682059757</td></tr><tr><td>Niihama Anchorage</td><td>-0.2020119265756214</td></tr><tr><td>Nikolayev Outer Anchorage</td><td>-0.24191551701031205</td></tr><tr><td>Ningbo Anchorage</td><td>-0.21946974739079855</td></tr><tr><td>No 1 Qianhai Anchorage</td><td>-0.21448179858646224</td></tr><tr><td>Nordenham</td><td>-0.23443359380380754</td></tr><tr><td>Nordostreed Anchorage; Brunsbuttel</td><td>-0.2369275682059757</td></tr><tr><td>Norfolk</td><td>-0.2369275682059757</td></tr><tr><td>North Port</td><td>0.06733730885854047</td></tr><tr><td>North Port Anchorage North</td><td>-0.2244576961951349</td></tr><tr><td>North Port Anchorage South</td><td>-0.17956615695610792</td></tr><tr><td>North Vancouver</td><td>-0.20450590097778956</td></tr><tr><td>Northport (Malaysia)</td><td>-0.1870480801626124</td></tr><tr><td>Northport Anchorage North (Malaysia)</td><td>-0.23942154260814388</td></tr><tr><td>Northport Anchorage South (Malaysia)</td><td>-0.2369275682059757</td></tr><tr><td>Noumea</td><td>-0.13966256652141726</td></tr><tr><td>Novorossiysk</td><td>-0.1870480801626124</td></tr><tr><td>Novorossiysk Anchorage 410</td><td>-0.24191551701031205</td></tr><tr><td>Novorossiysk Anchorage 414</td><td>-0.24191551701031205</td></tr><tr><td>Nueva Palmira</td><td>-0.22196372179296672</td></tr><tr><td>Nueva Palmira Anchorage</td><td>-0.22944564499947123</td></tr><tr><td>Oarai</td><td>-0.23942154260814388</td></tr><tr><td>Offshore Pascagoula No 2</td><td>-0.23942154260814388</td></tr><tr><td>Ogishima</td><td>-0.1820601313582761</td></tr><tr><td>Oita</td><td>-0.23942154260814388</td></tr><tr><td>Oita Anchorage</td><td>-0.24191551701031205</td></tr><tr><td>Oita Quarantine Anchorage</td><td>-0.24191551701031205</td></tr><tr><td>Okpo Anchorage</td><td>1.838059134397938</td></tr><tr><td>Omaezaki</td><td>0.13218064331491278</td></tr><tr><td>Onahama</td><td>-0.23443359380380754</td></tr><tr><td>Onahama Quarantine Anchorage</td><td>-0.24191551701031205</td></tr><tr><td>Oostdyck</td><td>-0.18455410576044423</td></tr><tr><td>Oranjestad (Aruba)</td><td>-0.04738551364119514</td></tr><tr><td>Osaka</td><td>-0.012469872010840828</td></tr><tr><td>Osaka Anchorage</td><td>-0.20450590097778956</td></tr><tr><td>Osaka Quarantine Anchorage</td><td>-0.1870480801626124</td></tr><tr><td>Oudna Terminal</td><td>-0.24191551701031205</td></tr><tr><td>Owendo</td><td>-0.17707218255393975</td></tr><tr><td>Palenque</td><td>-0.1820601313582761</td></tr><tr><td>Palm Beach</td><td>-0.24191551701031205</td></tr><tr><td>Palma</td><td>-0.24191551701031205</td></tr><tr><td>Panama Canal</td><td>1.6684688750505028</td></tr><tr><td>Panama Canal Atlantic Inner Anchorage</td><td>1.4390232300510315</td></tr><tr><td>Panama Canal Atlantic Outer Anchorage</td><td>4.115057763577473</td></tr><tr><td>Panama Canal Pacific Anchorage</td><td>2.815697100047859</td></tr><tr><td>Pantoloan</td><td>-0.22695167059730306</td></tr><tr><td>Papeete</td><td>-0.19702397777128508</td></tr><tr><td>Paramaribo</td><td>-0.052373462445531475</td></tr><tr><td>Paranagua</td><td>0.3641202627165522</td></tr><tr><td>Paranagua Anchorage No 11</td><td>-0.24191551701031205</td></tr><tr><td>Paranagua Anchorage No 12</td><td>0.8878548871718669</td></tr><tr><td>Paranagua Anchorage No 5</td><td>-0.22695167059730306</td></tr><tr><td>Paranagua Anchorage No 6</td><td>-0.2094938497821259</td></tr><tr><td>Paranagua Anchorage No 7</td><td>-0.21198782418429407</td></tr><tr><td>Paranagua Anchorage No 8</td><td>-0.23443359380380754</td></tr><tr><td>Paranagua Anchorage No 9</td><td>-0.20450590097778956</td></tr><tr><td>Paris</td><td>-0.23942154260814388</td></tr><tr><td>Pasajes</td><td>-0.24191551701031205</td></tr><tr><td>Paulsboro</td><td>0.0798071808693813</td></tr><tr><td>Pearl Harbor</td><td>-0.2244576961951349</td></tr><tr><td>Pecem Anchorage</td><td>-0.24191551701031205</td></tr><tr><td>Pemba</td><td>-0.24191551701031205</td></tr><tr><td>Petchburi Terminal</td><td>-0.24191551701031205</td></tr><tr><td>Philadelphia</td><td>0.1945300033691169</td></tr><tr><td>Philipsburg Anchorage</td><td>-0.24191551701031205</td></tr><tr><td>Phnom-Penh</td><td>-0.24191551701031205</td></tr><tr><td>Pindhara</td><td>-0.24191551701031205</td></tr><tr><td>Piraeus</td><td>0.8155296295089901</td></tr><tr><td>Piraeus Anchorage</td><td>1.2469872010840828</td></tr><tr><td>Pittsburg</td><td>-0.24191551701031205</td></tr><tr><td>Plumper Sound Anchorage No 1-5</td><td>-0.23942154260814388</td></tr><tr><td>Pohang</td><td>-0.24191551701031205</td></tr><tr><td>Pohang Outer Anchorages</td><td>-0.24191551701031205</td></tr><tr><td>Pohang Yeongil</td><td>-0.2369275682059757</td></tr><tr><td>Pointe-a-Pierre General Anchorage</td><td>-0.2369275682059757</td></tr><tr><td>Pointe-a-Pierre SBM</td><td>-0.2369275682059757</td></tr><tr><td>Pointe-a-Pitre</td><td>-0.10724089929323112</td></tr><tr><td>Pointe-Noire</td><td>-0.16460231054309893</td></tr><tr><td>Pointe-Noire Anchorage</td><td>-0.08728910407588579</td></tr><tr><td>Poleng</td><td>-0.23942154260814388</td></tr><tr><td>Pomalaa</td><td>-0.23942154260814388</td></tr><tr><td>Pontianak Anchorage</td><td>-0.24191551701031205</td></tr><tr><td>Poronaysk</td><td>-0.24191551701031205</td></tr><tr><td>Port Akdeniz Anchorage No 1</td><td>-0.23942154260814388</td></tr><tr><td>Port Akdeniz Anchorage No 2</td><td>-0.24191551701031205</td></tr><tr><td>Port Angeles</td><td>-0.2244576961951349</td></tr><tr><td>Port Arthur</td><td>-0.20450590097778956</td></tr><tr><td>Port au Prince</td><td>-0.21697577298863038</td></tr><tr><td>Port Bonython</td><td>-0.24191551701031205</td></tr><tr><td>Port Canaveral</td><td>-0.17956615695610792</td></tr><tr><td>Port de L'Amitie</td><td>-0.21448179858646224</td></tr><tr><td>Port de L'Amitie Anchorage</td><td>-0.19702397777128508</td></tr><tr><td>Port Elizabeth</td><td>0.3117468002710207</td></tr><tr><td>Port Elizabeth Anchorage No 1</td><td>-0.21198782418429407</td></tr><tr><td>Port Elizabeth Anchorage No 2</td><td>-0.17956615695610792</td></tr><tr><td>Port Everglades</td><td>-0.16460231054309893</td></tr><tr><td>Port Everglades Anchorage</td><td>-0.22196372179296672</td></tr><tr><td>Port Gentil</td><td>-0.24191551701031205</td></tr><tr><td>Port Gentil Anchorage</td><td>-0.24191551701031205</td></tr><tr><td>Port Jerome</td><td>-0.22196372179296672</td></tr><tr><td>Port Kembla</td><td>1.4190714348336861</td></tr><tr><td>Port Kembla Anchor Berths</td><td>1.506360538909572</td></tr><tr><td>Port Klang Lay-Up Anchorage</td><td>2.1922034995058173</td></tr><tr><td>Port Louis</td><td>-0.14714448972792177</td></tr><tr><td>Port Louis Anchorage</td><td>-0.11721679690190377</td></tr><tr><td>Port Moresby</td><td>-0.18455410576044423</td></tr><tr><td>Port Moresby Outer Anchorage</td><td>-0.16210833614093076</td></tr><tr><td>Port Moresby Quarantine Anchorage</td><td>-0.2244576961951349</td></tr><tr><td>Port Neches</td><td>-0.21946974739079855</td></tr><tr><td>Port North Fraser</td><td>0.7905898854873085</td></tr><tr><td>Port of Davisville</td><td>-0.12719269451057644</td></tr><tr><td>Port of South Louisiana</td><td>-0.24191551701031205</td></tr><tr><td>Port of Spain</td><td>0.16460231054309893</td></tr><tr><td>Port Rashid</td><td>-0.1870480801626124</td></tr><tr><td>Port Rashid Anchorage A</td><td>-0.18954205456478057</td></tr><tr><td>Port Rashid Anchorage C</td><td>-0.18455410576044423</td></tr><tr><td>Port Rashid Anchorage D</td><td>-0.10724089929323112</td></tr><tr><td>Port Rashid Long Term Anchorage</td><td>-0.2020119265756214</td></tr><tr><td>Port Refuge</td><td>-0.24191551701031205</td></tr><tr><td>Port Reunion</td><td>-0.12469872010840827</td></tr><tr><td>Port Royal (Jamaica) Small Craft Anchorage</td><td>-0.22196372179296672</td></tr><tr><td>Port Said</td><td>0.39155398114040196</td></tr><tr><td>Port Said Cargo Transhipment Anchorage</td><td>-0.23942154260814388</td></tr><tr><td>Port Said North Anchorage</td><td>1.0898668137474883</td></tr><tr><td>Port Said South Anchorage</td><td>1.0449752745084613</td></tr><tr><td>Port Said West Anchorage</td><td>-0.23942154260814388</td></tr><tr><td>Port Sudan</td><td>-0.0723252576628768</td></tr><tr><td>Port Sultan Qaboos</td><td>0.15462641293442625</td></tr><tr><td>Port Sultan Qaboos Anchorage</td><td>-0.22695167059730306</td></tr><tr><td>Port Wentworth</td><td>-0.03242166722818615</td></tr><tr><td>Portland (USA-Oregon)</td><td>0.6459393701615549</td></tr><tr><td>Porto Cervo</td><td>-0.24191551701031205</td></tr><tr><td>Portsmouth (USA-Hampton Roads)</td><td>-0.2319396194016394</td></tr><tr><td>Portsmouth Man-of-War Anchorage</td><td>-0.2369275682059757</td></tr><tr><td>Posorja Anchorage</td><td>-0.2319396194016394</td></tr><tr><td>Providence</td><td>-0.1521324385322581</td></tr><tr><td>PSVM FPSO</td><td>-0.22944564499947123</td></tr><tr><td>Puerto Cabello</td><td>0.08230115527154946</td></tr><tr><td>Puerto Cabello Anchorage</td><td>0.28431308184717086</td></tr><tr><td>Puerto Cortes</td><td>-0.17956615695610792</td></tr><tr><td>Puerto Cortes Anchorage</td><td>-0.24191551701031205</td></tr><tr><td>Puerto La Cruz</td><td>-0.2369275682059757</td></tr><tr><td>Puerto La Cruz Tanker Anchorage West</td><td>-0.24191551701031205</td></tr><tr><td>Puerto Limon</td><td>-0.17707218255393975</td></tr><tr><td>Puerto Limon Anchorage</td><td>-0.18954205456478057</td></tr><tr><td>Puerto Moin</td><td>-0.22695167059730306</td></tr><tr><td>Puerto Princesa</td><td>-0.24191551701031205</td></tr><tr><td>Puerto Progreso Anchorage</td><td>-0.24191551701031205</td></tr><tr><td>Puerto Quetzal</td><td>-0.024939744021681656</td></tr><tr><td>Puerto Quetzal Anchorage</td><td>-0.17956615695610792</td></tr><tr><td>Pulupandan</td><td>-0.23942154260814388</td></tr><tr><td>Pyeong Taek</td><td>4.164937251620836</td></tr><tr><td>Pyeong Taek Anchorage</td><td>2.7832754328196727</td></tr><tr><td>Pyeong Taek Quarantine Anchorage</td><td>2.9927692826017984</td></tr><tr><td>Qasr Ahmed</td><td>-0.009975897608672662</td></tr><tr><td>Qasr Ahmed Anchorage</td><td>0.16210833614093076</td></tr><tr><td>Qingdao</td><td>0.08230115527154946</td></tr><tr><td>Qingdao Inner Anchorage</td><td>-0.22944564499947123</td></tr><tr><td>Qingdao Outer Anchorage</td><td>-0.2094938497821259</td></tr><tr><td>Qinhuangdao East Anchorage</td><td>-0.23942154260814388</td></tr><tr><td>Qinhuangdao Lightering Anchorage</td><td>-0.24191551701031205</td></tr><tr><td>Qinzhou No 1 Anchorage 10 to 20t vessels</td><td>-0.24191551701031205</td></tr><tr><td>Qinzhou Quarantine Anchorage</td><td>-0.23942154260814388</td></tr><tr><td>Qushan</td><td>-0.14714448972792177</td></tr><tr><td>Rabaul</td><td>-0.24191551701031205</td></tr><tr><td>Raffles Reserved Anchorage (ARAFR)</td><td>-0.24191551701031205</td></tr><tr><td>Rang Dong FPSO</td><td>-0.24191551701031205</td></tr><tr><td>Ras Diheisa Deep Water Anchorage</td><td>-0.17457820815177158</td></tr><tr><td>Ras Laffan Anchorage 1</td><td>-0.24191551701031205</td></tr><tr><td>Ras Laffan Anchorage 2</td><td>-0.2020119265756214</td></tr><tr><td>Ras Laffan SPM Terminal</td><td>-0.24191551701031205</td></tr><tr><td>Ras Tanura Tanker Anchorage</td><td>-0.2369275682059757</td></tr><tr><td>Recalada Anchorage</td><td>-0.12220474570624011</td></tr><tr><td>Recife</td><td>-0.22695167059730306</td></tr><tr><td>Recife Anchorage</td><td>-0.2319396194016394</td></tr><tr><td>Rede Vlissingen Anchorage</td><td>-0.22695167059730306</td></tr><tr><td>Reede Fedderwarden Anchorage</td><td>-0.23443359380380754</td></tr><tr><td>Revdanda</td><td>-0.23942154260814388</td></tr><tr><td>Richards Bay Anchorage</td><td>-0.23443359380380754</td></tr><tr><td>Richmond (California)</td><td>0.1596143617387626</td></tr><tr><td>Richmond (Canada)</td><td>0.26186731222765736</td></tr><tr><td>Ridens Anchorage</td><td>-0.23942154260814388</td></tr><tr><td>Rimini</td><td>-0.24191551701031205</td></tr><tr><td>Rio de Janeiro</td><td>0.034915641630354315</td></tr><tr><td>Rio de Janeiro Anchorage No 1</td><td>-0.22944564499947123</td></tr><tr><td>Rio de Janeiro Anchorage No 13</td><td>0.014963846413008993</td></tr><tr><td>Rio de Janeiro Anchorage No 14</td><td>-0.17956615695610792</td></tr><tr><td>Rio de Janeiro Anchorage No 2 (N)</td><td>-0.22944564499947123</td></tr><tr><td>Rio de Janeiro Anchorage No 3A</td><td>-0.24191551701031205</td></tr><tr><td>Rio de Janeiro Anchorage No 4</td><td>-0.24191551701031205</td></tr><tr><td>Rio de Janeiro Anchorage No 6 (E)</td><td>-0.24191551701031205</td></tr><tr><td>Rio de Janeiro Anchorage No 8A</td><td>-0.24191551701031205</td></tr><tr><td>Rio Grande (Brazil)</td><td>-0.0798071808693813</td></tr><tr><td>Rio Grande (Brazil) Anchorage</td><td>0.02244576961951349</td></tr><tr><td>Rio Haina</td><td>-0.21946974739079855</td></tr><tr><td>River Plate Lightering Area A</td><td>0.7332284742374406</td></tr><tr><td>River Plate Lightering Area D</td><td>-0.19702397777128508</td></tr><tr><td>Rizhao Anchorage No 2</td><td>-0.24191551701031205</td></tr><tr><td>Roberts Bank</td><td>-0.24191551701031205</td></tr><tr><td>Rodman Naval Station</td><td>-0.23942154260814388</td></tr><tr><td>Rosario</td><td>-0.24191551701031205</td></tr><tr><td>Roseau</td><td>-0.2094938497821259</td></tr><tr><td>Rostock</td><td>-0.24191551701031205</td></tr><tr><td>Rosyth</td><td>-0.24191551701031205</td></tr><tr><td>Rota</td><td>-0.23942154260814388</td></tr><tr><td>Rotterdam</td><td>-0.24191551701031205</td></tr><tr><td>Rotterdam Anchorage No 3A</td><td>-0.10973487369539928</td></tr><tr><td>Rotterdam Anchorage No 3C</td><td>-0.1670962849452671</td></tr><tr><td>Rotterdam Anchorage No 4BN</td><td>-0.22695167059730306</td></tr><tr><td>Rotterdam Anchorage No 5A</td><td>-0.2369275682059757</td></tr><tr><td>Rotterdam Anchorage No 5B</td><td>-0.22944564499947123</td></tr><tr><td>Rotterdam Anchorage No 6</td><td>-0.24191551701031205</td></tr><tr><td>Rotterdam Anchorage No. 2</td><td>-0.24191551701031205</td></tr><tr><td>Rotterdam Emergency Deep Water Anchorage</td><td>-0.21946974739079855</td></tr><tr><td>Rouen</td><td>-0.22695167059730306</td></tr><tr><td>Ryde Middle Anchorage</td><td>-0.19702397777128508</td></tr><tr><td>Sabine Pass</td><td>-0.19702397777128508</td></tr><tr><td>Sabine Pass Inshore Anchorage</td><td>-0.22944564499947123</td></tr><tr><td>Safety Fairway Anchorages</td><td>-0.24191551701031205</td></tr><tr><td>Sagunto</td><td>-0.014963846413008993</td></tr><tr><td>Sagunto Anchorage</td><td>-0.17707218255393975</td></tr><tr><td>Sagunto Dangerous Cargo Anchorage</td><td>-0.19951795217345325</td></tr><tr><td>Saigon</td><td>-0.11222884809756745</td></tr><tr><td>Saiki</td><td>-0.24191551701031205</td></tr><tr><td>Saipan</td><td>-0.15712038733659442</td></tr><tr><td>Saiqi</td><td>-0.24191551701031205</td></tr><tr><td>Sakai</td><td>-0.2319396194016394</td></tr><tr><td>Sakai Anchor Berths</td><td>-0.24191551701031205</td></tr><tr><td>Sakaide</td><td>-0.17457820815177158</td></tr><tr><td>Sakaide Quarantine Anchorage</td><td>-0.22944564499947123</td></tr><tr><td>Sakaiminato</td><td>-0.24191551701031205</td></tr><tr><td>Sakata</td><td>-0.24191551701031205</td></tr><tr><td>Salalah</td><td>-0.19702397777128508</td></tr><tr><td>Salalah Anchorage</td><td>-0.2319396194016394</td></tr><tr><td>Salalah Anchorage D</td><td>-0.24191551701031205</td></tr><tr><td>Saldanha Bay Outer Anchorage</td><td>-0.24191551701031205</td></tr><tr><td>Salem River Anchorage No 1</td><td>-0.24191551701031205</td></tr><tr><td>Salem River Anchorage No 2</td><td>-0.24191551701031205</td></tr><tr><td>Salem River Anchorage No 3</td><td>-0.1820601313582761</td></tr><tr><td>Salerno</td><td>-0.21697577298863038</td></tr><tr><td>Salina Anchorage</td><td>-0.2319396194016394</td></tr><tr><td>Salvador</td><td>-0.1870480801626124</td></tr><tr><td>Salvador Anchorage No 1</td><td>-0.2369275682059757</td></tr><tr><td>Salvador Anchorage No 2</td><td>-0.1596143617387626</td></tr><tr><td>Salvador Anchorage No 3</td><td>-0.1371685921192491</td></tr><tr><td>Salvador Quarantine Anchorage</td><td>-0.2369275682059757</td></tr><tr><td>Samalaju</td><td>-0.23942154260814388</td></tr><tr><td>Samos</td><td>-0.24191551701031205</td></tr><tr><td>San Antonio</td><td>0.5012888548358012</td></tr><tr><td>San Antonio Anchorage</td><td>0.23942154260814388</td></tr><tr><td>San Diego</td><td>0.9526982216282393</td></tr><tr><td>San Francisco</td><td>-0.2369275682059757</td></tr><tr><td>San Francisco General Anchorage</td><td>-0.2020119265756214</td></tr><tr><td>San Juan</td><td>0.19203602896694874</td></tr><tr><td>San Lorenzo - San Martin</td><td>-0.24191551701031205</td></tr><tr><td>San Lorenzo (Honduras)</td><td>-0.07731320646721312</td></tr><tr><td>Sandakan</td><td>-0.24191551701031205</td></tr><tr><td>Sangi</td><td>-0.23942154260814388</td></tr><tr><td>Santa Cruz de Tenerife</td><td>-0.24191551701031205</td></tr><tr><td>Santa Cruz de Tenerife Anchorage</td><td>-0.2244576961951349</td></tr><tr><td>Santa Marta</td><td>0.13218064331491278</td></tr><tr><td>Santa Panagia Oil Terminal Anchorage</td><td>-0.24191551701031205</td></tr><tr><td>Santander</td><td>-0.012469872010840828</td></tr><tr><td>Santander Anchorage</td><td>-0.1820601313582761</td></tr><tr><td>Santo Domingo</td><td>0.2893010306515072</td></tr><tr><td>Santo Domingo Anchorage</td><td>-0.21448179858646224</td></tr><tr><td>Santo Tomas de Castilla</td><td>-0.16210833614093076</td></tr><tr><td>Santos</td><td>0.7307344998352725</td></tr><tr><td>Santos Anchorage</td><td>-0.16959025934743524</td></tr><tr><td>Santos Outer Anchorage</td><td>1.099842711356161</td></tr><tr><td>Santos Quarantine Anchorage</td><td>-0.1870480801626124</td></tr><tr><td>Sao Sebastiao</td><td>-0.1720842337496034</td></tr><tr><td>Sao Sebastiao North Anchorage</td><td>-0.2319396194016394</td></tr><tr><td>Sao Sebastiao South Anchorage</td><td>-0.19203602896694874</td></tr><tr><td>Saraylar</td><td>-0.24191551701031205</td></tr><tr><td>Sarikei</td><td>-0.2369275682059757</td></tr><tr><td>Satui Coal Anchorage A</td><td>0.3092528258688525</td></tr><tr><td>Saumlaki</td><td>-0.24191551701031205</td></tr><tr><td>Savannah</td><td>0.21198782418429407</td></tr><tr><td>Savona-Vado</td><td>-0.03242166722818615</td></tr><tr><td>Savona-Vado Anchorage A</td><td>-0.23443359380380754</td></tr><tr><td>Savona-Vado Anchorage B</td><td>-0.2369275682059757</td></tr><tr><td>Savona-Vado Anchorage C</td><td>-0.23942154260814388</td></tr><tr><td>Savona-Vado Anchorage D</td><td>-0.23443359380380754</td></tr><tr><td>Savona-Vado Anchorage E</td><td>-0.2094938497821259</td></tr><tr><td>Savona-Vado Outer Anchorage</td><td>-0.24191551701031205</td></tr><tr><td>Scheveningen</td><td>-0.24191551701031205</td></tr><tr><td>Schouwenbank Anchorage</td><td>0.9851198888564253</td></tr><tr><td>Seattle</td><td>-0.2319396194016394</td></tr><tr><td>Seibu Oil Sea Berth</td><td>-0.23942154260814388</td></tr><tr><td>Seine Approach Anchorage</td><td>-0.23443359380380754</td></tr><tr><td>Selaata</td><td>-0.24191551701031205</td></tr><tr><td>Senboku</td><td>0.8753850151610261</td></tr><tr><td>Senboku Anchorage</td><td>-0.05736141124986781</td></tr><tr><td>Senbong</td><td>-0.24191551701031205</td></tr><tr><td>Sendai</td><td>-0.2244576961951349</td></tr><tr><td>Sendai Anchorage</td><td>-0.2369275682059757</td></tr><tr><td>Sete</td><td>-0.11971077130407194</td></tr><tr><td>Sete Anchorage</td><td>-0.21697577298863038</td></tr><tr><td>Setubal</td><td>-0.15712038733659442</td></tr><tr><td>Setubal Military &amp; Commercial Anchorage</td><td>-0.21448179858646224</td></tr><tr><td>Seville</td><td>-0.24191551701031205</td></tr><tr><td>Sha Lung Oil Terminal</td><td>-0.24191551701031205</td></tr><tr><td>Shahid Rajaee</td><td>-0.2020119265756214</td></tr><tr><td>Shahid Rajaee Anchorage</td><td>-0.2369275682059757</td></tr><tr><td>Shanghai</td><td>3.077564412275516</td></tr><tr><td>Shanghai Changxing Island</td><td>-0.21448179858646224</td></tr><tr><td>Shanghai Wusong Estuary Anchorage</td><td>-0.22196372179296672</td></tr><tr><td>Shanhaiguan</td><td>-0.1945300033691169</td></tr><tr><td>Shanhaiguan Shipyard Anchorage</td><td>-0.23443359380380754</td></tr><tr><td>Shanwei Lightering Anchorage</td><td>-0.24191551701031205</td></tr><tr><td>Sharjah</td><td>0.0723252576628768</td></tr><tr><td>Sharjah Anchorage</td><td>0.3541443651078795</td></tr><tr><td>Sharjah Offshore Terminal Anchorage No. 2</td><td>-0.24191551701031205</td></tr><tr><td>Sheerness</td><td>0.13467461771708095</td></tr><tr><td>Shenhu</td><td>-0.23942154260814388</td></tr><tr><td>Shi Wei</td><td>-0.24191551701031205</td></tr><tr><td>Shihu Anchorage</td><td>-0.2244576961951349</td></tr><tr><td>Shilong</td><td>-0.24191551701031205</td></tr><tr><td>Shimizu</td><td>-0.22695167059730306</td></tr><tr><td>Shimonoseki</td><td>-0.0723252576628768</td></tr><tr><td>Shimonoseki Inner Anchorage</td><td>-0.24191551701031205</td></tr><tr><td>Shimonoseki New Port</td><td>-0.2369275682059757</td></tr><tr><td>Shimonoseki Outer Anchorage</td><td>0.15462641293442625</td></tr><tr><td>Shimonoseki Quarantine Anchorage</td><td>-0.2319396194016394</td></tr><tr><td>Shimotsu Anchorage</td><td>-0.21697577298863038</td></tr><tr><td>Shin-Moji Anchorage</td><td>-0.22944564499947123</td></tr><tr><td>Shirashima</td><td>-0.24191551701031205</td></tr><tr><td>Shuaiba</td><td>-0.18954205456478057</td></tr><tr><td>Shuaiba Outer Harbour Anchorage</td><td>-0.21198782418429407</td></tr><tr><td>Shui Dong</td><td>-0.2319396194016394</td></tr><tr><td>Shui Dong SBM Anchorage</td><td>-0.24191551701031205</td></tr><tr><td>Shuwaikh</td><td>0.995095786465098</td></tr><tr><td>Shuwaikh Anchorage B</td><td>-0.1820601313582761</td></tr><tr><td>Shuwaikh Anchorage C</td><td>0.8255055271176628</td></tr><tr><td>Shuwaikh Anchorage D</td><td>-0.019951795217345324</td></tr><tr><td>Shuwaikh Anchorage E</td><td>-0.10973487369539928</td></tr><tr><td>Sidi Kerir Anchorage</td><td>-0.24191551701031205</td></tr><tr><td>Sidi Kerir Terminal</td><td>-0.24191551701031205</td></tr><tr><td>Sikka Product Vessel Anchorage</td><td>-0.24191551701031205</td></tr><tr><td>Sines Anchorage</td><td>-0.24191551701031205</td></tr><tr><td>Singapore</td><td>6.569128575310948</td></tr><tr><td>Singapore Eastern Anchorage (AEW)</td><td>0.03242166722818615</td></tr><tr><td>Singapore Eastern Bunkering A Anchorage (AEBA)</td><td>-0.18954205456478057</td></tr><tr><td>Singapore Eastern Bunkering B Anchorage (AEBB)</td><td>-0.0723252576628768</td></tr><tr><td>Singapore Eastern Bunkering C Anchorage (AEBC)</td><td>0.17457820815177158</td></tr><tr><td>Singapore Eastern Holding A Anchorage (AEHA)</td><td>-0.1870480801626124</td></tr><tr><td>Singapore Eastern Holding B Anchorage (AEHB)</td><td>-0.11472282249973562</td></tr><tr><td>Singapore Eastern Petroleum A Anchorage (AEPA)</td><td>-0.21448179858646224</td></tr><tr><td>Singapore Eastern Petroleum C Anchorage (AEPBC)</td><td>-0.23443359380380754</td></tr><tr><td>Singapore Eastern Special Purposes A Anchorage (AESPA)</td><td>0.10724089929323112</td></tr><tr><td>Singapore EOPL Anchorage</td><td>-0.05486743684769964</td></tr><tr><td>Singapore Horsburgh Anchorage</td><td>0.26186731222765736</td></tr><tr><td>Singapore LNG/LPG/Chemical Gas Carrier Anchorage (ALGAS)</td><td>-0.24191551701031205</td></tr><tr><td>Singapore Man-of-War Anchorage (AMOW)</td><td>-0.23942154260814388</td></tr><tr><td>Singapore Nipa Transit Anchorage</td><td>-0.21697577298863038</td></tr><tr><td>Singapore Pasir Panjang Holding Anchorage</td><td>-0.2369275682059757</td></tr><tr><td>Singapore Raffles Reserved Anchorage (ARAFR)</td><td>-0.2369275682059757</td></tr><tr><td>Singapore Sudong Bunkering A Anchorage (ASUBA)</td><td>-0.24191551701031205</td></tr><tr><td>Singapore Sudong Bunkering B Anchorage (ASUBB)</td><td>-0.24191551701031205</td></tr><tr><td>Singapore Sudong Holding Anchorage (ASH)</td><td>-0.22944564499947123</td></tr><tr><td>Singapore Very Large Crude Carrier Anchorage (AVLCC)</td><td>-0.24191551701031205</td></tr><tr><td>Singapore Western Anchorage (AWW)</td><td>-0.18954205456478057</td></tr><tr><td>Singapore Western Holding Anchorage (AWH)</td><td>-0.22944564499947123</td></tr><tr><td>Singapore Western Petroleum A Anchorage (AWPA)</td><td>-0.2369275682059757</td></tr><tr><td>Singapore Western Petroleum B Anchorage (AWPB)</td><td>-0.19203602896694874</td></tr><tr><td>Singapore Western Quarantine and Immigration Anchorage (AWQI)</td><td>-0.19702397777128508</td></tr><tr><td>Singapore WOPL Anchorage</td><td>0.36910821152088846</td></tr><tr><td>Sintete</td><td>-0.24191551701031205</td></tr><tr><td>Sitra</td><td>-0.23443359380380754</td></tr><tr><td>Sitra Explosives Anchorage</td><td>-0.06733730885854047</td></tr><tr><td>Sitra Inner Anchorage</td><td>-0.22944564499947123</td></tr><tr><td>Sitra Outer Anchorages A1 to A4</td><td>0.07731320646721312</td></tr><tr><td>Sitra Outer Anchorages B1 to B7</td><td>-0.21448179858646224</td></tr><tr><td>Skagen Anchorage</td><td>-0.18954205456478057</td></tr><tr><td>Slavyanka</td><td>-0.24191551701031205</td></tr><tr><td>Slavyanka Anchorages</td><td>-0.23942154260814388</td></tr><tr><td>Small Craft A Anchorage (ASCA)</td><td>-0.24191551701031205</td></tr><tr><td>Smith's Bluff</td><td>-0.21946974739079855</td></tr><tr><td>Sochi</td><td>-0.24191551701031205</td></tr><tr><td>Sohar</td><td>0.6110237285312006</td></tr><tr><td>Sohar Anchorage A</td><td>-0.034915641630354315</td></tr><tr><td>Sohar Anchorage B</td><td>-0.18455410576044423</td></tr><tr><td>Song Xia</td><td>-0.24191551701031205</td></tr><tr><td>Song Xia Anchorage</td><td>-0.23443359380380754</td></tr><tr><td>Songjin</td><td>-0.23942154260814388</td></tr><tr><td>South Falls Head Anchorage</td><td>-0.014963846413008993</td></tr><tr><td>South Sabine Point</td><td>0.45639731559677427</td></tr><tr><td>South Sabine Point Western Extension</td><td>-0.19702397777128508</td></tr><tr><td>Southampton</td><td>1.6410351566266528</td></tr><tr><td>Southend Deep Water Anchorage</td><td>-0.2319396194016394</td></tr><tr><td>Southtex</td><td>0.08728910407588579</td></tr><tr><td>Southwold STS</td><td>-0.2319396194016394</td></tr><tr><td>Split</td><td>-0.24191551701031205</td></tr><tr><td>Springergeul Anchorage</td><td>-0.2369275682059757</td></tr><tr><td>Sriracha Oil Terminals</td><td>-0.1820601313582761</td></tr><tr><td>Sriracha Oil Terminals Anchorage</td><td>-0.20450590097778956</td></tr><tr><td>Sriracha Oil Terminals Western Petroleum and Lightening Anchorage Area</td><td>-0.24191551701031205</td></tr><tr><td>St George's (Bermuda)</td><td>-0.24191551701031205</td></tr><tr><td>St George's (Bermuda) Anchorage</td><td>-0.23443359380380754</td></tr><tr><td>St Helier</td><td>-0.24191551701031205</td></tr><tr><td>St John's (Antigua)</td><td>-0.17707218255393975</td></tr><tr><td>St Marc</td><td>-0.23942154260814388</td></tr><tr><td>St Petersburg</td><td>-0.24191551701031205</td></tr><tr><td>Strasbourg</td><td>-0.24191551701031205</td></tr><tr><td>Su-Ao</td><td>-0.2369275682059757</td></tr><tr><td>Suape</td><td>-0.1870480801626124</td></tr><tr><td>Suape Anchorage</td><td>-0.17956615695610792</td></tr><tr><td>Suape Marine Terminal</td><td>-0.2244576961951349</td></tr><tr><td>Subic Bay</td><td>-0.23942154260814388</td></tr><tr><td>Subic Bay Anchorages</td><td>-0.23942154260814388</td></tr><tr><td>Sudong Bunkering A Anchorage (ASUBA)</td><td>-0.2319396194016394</td></tr><tr><td>Sudong Bunkering B Anchorage (ASUBB)</td><td>-0.24191551701031205</td></tr><tr><td>Sudong Explosive Anchorage (ASUEX)</td><td>-0.23942154260814388</td></tr><tr><td>Sudong Holding Anchorage (ASH)</td><td>-0.22196372179296672</td></tr><tr><td>Sudong Special Purpose Anchorage (ASSPU)</td><td>-0.24191551701031205</td></tr><tr><td>Sudreede Anchorage; Brunsbuttel</td><td>-0.24191551701031205</td></tr><tr><td>Suez</td><td>0.9127946311935485</td></tr><tr><td>Suez Bay Anchorage 1A - 10A</td><td>0.406517827553411</td></tr><tr><td>Suez Bay Anchorage 1C - 5C</td><td>-0.2369275682059757</td></tr><tr><td>Suez Bay Anchorage 1D - 6D</td><td>-0.1670962849452671</td></tr><tr><td>Suez Bay Eastern Channel Anchorage</td><td>-0.24191551701031205</td></tr><tr><td>Suez Bay Outer Anchorage 1 - 29</td><td>1.9103843920608148</td></tr><tr><td>Suez Canal</td><td>1.6360472078223165</td></tr><tr><td>Sungai Linggi</td><td>-0.23942154260814388</td></tr><tr><td>Sungai Pakning</td><td>-0.20450590097778956</td></tr><tr><td>Sungai Udang</td><td>-0.24191551701031205</td></tr><tr><td>Sunk Deep Water Anchorage</td><td>-0.23942154260814388</td></tr><tr><td>Susaki</td><td>-0.24191551701031205</td></tr><tr><td>Suva</td><td>-0.1720842337496034</td></tr><tr><td>Suva Medical Examination Anchorage</td><td>-0.20699987537995773</td></tr><tr><td>Swinoujscie</td><td>-0.24191551701031205</td></tr><tr><td>Taboneo Anchorages</td><td>0.6883369349984136</td></tr><tr><td>Tacoma</td><td>0.7556742438569541</td></tr><tr><td>Tacoma Anchorage</td><td>0.4738551364119514</td></tr><tr><td>Tagonoura</td><td>-0.24191551701031205</td></tr><tr><td>Tahuna</td><td>-0.24191551701031205</td></tr><tr><td>Taicang</td><td>-0.21697577298863038</td></tr><tr><td>Taicang Dangerous Goods Anchorage</td><td>-0.24191551701031205</td></tr><tr><td>Taicang Ocean Liners Anchorage</td><td>-0.22695167059730306</td></tr><tr><td>Taichung</td><td>-0.20699987537995773</td></tr><tr><td>Taichung Anchorage</td><td>-0.21448179858646224</td></tr><tr><td>Taipei</td><td>0.4813370596184559</td></tr><tr><td>Taipei Anchorage</td><td>-0.03242166722818615</td></tr><tr><td>Taizhou</td><td>-0.24191551701031205</td></tr><tr><td>Takamatsu</td><td>-0.23942154260814388</td></tr><tr><td>Takehara</td><td>-0.23942154260814388</td></tr><tr><td>Takoradi Anchorage</td><td>-0.2094938497821259</td></tr><tr><td>Ta'Kuntah FSO</td><td>-0.24191551701031205</td></tr><tr><td>Tampa</td><td>-0.16210833614093076</td></tr><tr><td>Tanabe</td><td>-0.24191551701031205</td></tr><tr><td>Tanauan</td><td>-0.24191551701031205</td></tr><tr><td>Tangier-Mediterranean</td><td>-0.19702397777128508</td></tr><tr><td>Tangier-Mediterranean Anchorage</td><td>-0.1820601313582761</td></tr><tr><td>Tangier-Mediterranean NE Harbour</td><td>-0.16210833614093076</td></tr><tr><td>Tangier-Mediterranean Outer Anchorage</td><td>-0.24191551701031205</td></tr><tr><td>Tangshan Anchorage No. 4</td><td>-0.2369275682059757</td></tr><tr><td>Tangshan Anchorage No. 5</td><td>-0.22196372179296672</td></tr><tr><td>Tanjung Emas</td><td>-0.2319396194016394</td></tr><tr><td>Tanjung Emas Anchorage</td><td>-0.22944564499947123</td></tr><tr><td>Tanjung Intan</td><td>-0.24191551701031205</td></tr><tr><td>Tanjung Intan Anchorage</td><td>-0.24191551701031205</td></tr><tr><td>Tanjung Pelepas General Purpose Anchorage</td><td>-0.24191551701031205</td></tr><tr><td>Tanjung Perak</td><td>-0.017457820815177157</td></tr><tr><td>Tanjung Perak Anchorage</td><td>-0.02743371842384982</td></tr><tr><td>Tanjung Perak Inner Anchorages</td><td>-0.05985538565203597</td></tr><tr><td>Tanjung Peutang</td><td>-0.24191551701031205</td></tr><tr><td>Tanjung Priok</td><td>1.915372340865151</td></tr><tr><td>Tanjung Priok Anchorage</td><td>3.3568895453183507</td></tr><tr><td>Tarakan Island</td><td>-0.23942154260814388</td></tr><tr><td>Tarragona</td><td>-0.07481923206504497</td></tr><tr><td>Tarragona Anchorage</td><td>-0.22695167059730306</td></tr><tr><td>Teesport Approach Anchorage</td><td>-0.11971077130407194</td></tr><tr><td>Tema</td><td>0.2244576961951349</td></tr><tr><td>Tema Anchorage</td><td>0.4090118019555791</td></tr><tr><td>Tema Tanker Anchorage</td><td>-0.20450590097778956</td></tr><tr><td>Termini Imerese Anchorage</td><td>-0.24191551701031205</td></tr><tr><td>Termoli</td><td>-0.24191551701031205</td></tr><tr><td>Terneuzen</td><td>0.8030597574981493</td></tr><tr><td>Thessaloniki</td><td>-0.24191551701031205</td></tr><tr><td>Thilawa</td><td>-0.034915641630354315</td></tr><tr><td>Thira Anchorage East</td><td>-0.24191551701031205</td></tr><tr><td>Thunder Bay</td><td>-0.24191551701031205</td></tr><tr><td>Tianjin</td><td>1.915372340865151</td></tr><tr><td>Tianjin Anchorage No 6</td><td>-0.24191551701031205</td></tr><tr><td>Tianzhen</td><td>-0.24191551701031205</td></tr><tr><td>Tilbury</td><td>0.009975897608672662</td></tr><tr><td>Tin Can Island</td><td>0.27184320983633004</td></tr><tr><td>Toamasina</td><td>-0.06733730885854047</td></tr><tr><td>Toamasina Anchorage</td><td>-0.12220474570624011</td></tr><tr><td>Tobata</td><td>-0.24191551701031205</td></tr><tr><td>Tobruk</td><td>-0.22944564499947123</td></tr><tr><td>Tobruk and Marsa El Brega Anchorage</td><td>-0.2319396194016394</td></tr><tr><td>Tokuyama Anchorage</td><td>-0.21198782418429407</td></tr><tr><td>Tokuyama Quarantine Anchorage</td><td>-0.24191551701031205</td></tr><tr><td>Tokyo</td><td>-0.2244576961951349</td></tr><tr><td>Tokyo Anchorage</td><td>0.02743371842384982</td></tr><tr><td>Tomakomai</td><td>-0.21198782418429407</td></tr><tr><td>Tomakomai Anchorage</td><td>-0.19203602896694874</td></tr><tr><td>Tongshan</td><td>-0.24191551701031205</td></tr><tr><td>Tongue DW Anchorage - Hazardous Cargoes</td><td>-0.23942154260814388</td></tr><tr><td>Tongue DW Anchorage - Non-Hazardous Cargoes</td><td>-0.12719269451057644</td></tr><tr><td>Torbay Harbour Deep Water Anchorage</td><td>-0.2094938497821259</td></tr><tr><td>Torres Strait &amp; Great Barrier Reef</td><td>-0.03990359043469065</td></tr><tr><td>Townsville</td><td>-0.014963846413008993</td></tr><tr><td>Townsville Anchorage</td><td>-0.0024939744021681655</td></tr><tr><td>Toyama</td><td>-0.052373462445531475</td></tr><tr><td>Toyohashi</td><td>2.065010804995241</td></tr><tr><td>Trieste</td><td>-0.2369275682059757</td></tr><tr><td>Tripoli (Libya)</td><td>-0.21198782418429407</td></tr><tr><td>Tripoli (Libya) Anchorage</td><td>-0.21697577298863038</td></tr><tr><td>Tsukumi</td><td>-0.24191551701031205</td></tr><tr><td>Tsumatsusaka (Tsu)</td><td>-0.23942154260814388</td></tr><tr><td>Tsuruga Outer Anchorage</td><td>-0.24191551701031205</td></tr><tr><td>Tuban</td><td>-0.1296866689127446</td></tr><tr><td>Tubarao Anchorage No1</td><td>-0.1371685921192491</td></tr><tr><td>Tubarao Anchorage No2</td><td>0.05486743684769964</td></tr><tr><td>Tubarao Anchorage No3</td><td>0.29428897945584354</td></tr><tr><td>Tubarao Anchorage No4</td><td>-0.24191551701031205</td></tr><tr><td>Tuen Mun</td><td>-0.24191551701031205</td></tr><tr><td>Tuzla</td><td>-0.2369275682059757</td></tr><tr><td>Tuzla Anchorage</td><td>-0.22944564499947123</td></tr><tr><td>Twielenfleth Reede Anchorage</td><td>-0.24191551701031205</td></tr><tr><td>Tyne</td><td>-0.07731320646721312</td></tr><tr><td>Ube Quarantine Anchorage</td><td>1.0674210441279748</td></tr><tr><td>Uchiura</td><td>-0.23443359380380754</td></tr><tr><td>Uddevalla</td><td>-0.20699987537995773</td></tr><tr><td>Ukishima</td><td>-0.2319396194016394</td></tr><tr><td>Ulsan</td><td>2.9029862041237444</td></tr><tr><td>Ulsan Anchorage</td><td>-0.13218064331491278</td></tr><tr><td>Ulsan Hyundai</td><td>0.15462641293442625</td></tr><tr><td>Umm Qasr</td><td>-0.11472282249973562</td></tr><tr><td>Umm Qasr Anchorage</td><td>-0.2094938497821259</td></tr><tr><td>Upper Vancouver Anchorage</td><td>-0.23942154260814388</td></tr><tr><td>Usan Terminal</td><td>-0.21946974739079855</td></tr><tr><td>Ust-Luga</td><td>-0.24191551701031205</td></tr><tr><td>Ust-Luga Anchorage No 10A</td><td>-0.24191551701031205</td></tr><tr><td>Valencia</td><td>-0.0723252576628768</td></tr><tr><td>Valencia Anchorages</td><td>-0.18954205456478057</td></tr><tr><td>Valletta</td><td>-0.15462641293442625</td></tr><tr><td>Valletta Anchorage</td><td>1.461468999670545</td></tr><tr><td>Valletta Bunkering Anchorage 1</td><td>-0.23942154260814388</td></tr><tr><td>Valletta Bunkering Anchorage 6</td><td>-0.24191551701031205</td></tr><tr><td>Valparaiso</td><td>0.08728910407588579</td></tr><tr><td>Valparaiso Anchorage</td><td>0.02244576961951349</td></tr><tr><td>Vancouver - English Bay Anchorages</td><td>-0.17457820815177158</td></tr><tr><td>Vancouver (USA)</td><td>0.09975897608672663</td></tr><tr><td>Vancouver (USA) Anchorage</td><td>-0.23942154260814388</td></tr><tr><td>Vancouver Harbour Anchorage</td><td>-0.17956615695610792</td></tr><tr><td>Vancouver Outer Anchorage</td><td>-0.10973487369539928</td></tr><tr><td>Vasto</td><td>-0.18954205456478057</td></tr><tr><td>Vasto Anchorage A</td><td>-0.23443359380380754</td></tr><tr><td>Venice</td><td>-0.24191551701031205</td></tr><tr><td>Veracruz</td><td>1.1272764297800109</td></tr><tr><td>Veracruz Anchorage</td><td>0.6559152677702276</td></tr><tr><td>Very Large Crude Carrier Anchorage (AVLCC)</td><td>-0.22695167059730306</td></tr><tr><td>Vigo</td><td>0.23942154260814388</td></tr><tr><td>Vigo Anchorage</td><td>-0.08230115527154946</td></tr><tr><td>Vigo Inner Anchorage</td><td>-0.20450590097778956</td></tr><tr><td>Vila do Conde</td><td>-0.20450590097778956</td></tr><tr><td>Vila do Conde Anchorages</td><td>-0.2244576961951349</td></tr><tr><td>Villefranche</td><td>-0.24191551701031205</td></tr><tr><td>Vitoria</td><td>0.14215654092358543</td></tr><tr><td>Vlaardingen</td><td>-0.23942154260814388</td></tr><tr><td>Vladivostok</td><td>0.18455410576044423</td></tr><tr><td>Vladivostok Anchorage</td><td>-0.19951795217345325</td></tr><tr><td>Vladivostok Anchorage No. 164A</td><td>-0.2369275682059757</td></tr><tr><td>Vladivostok Anchorage No. 175a</td><td>-0.23942154260814388</td></tr><tr><td>Vlissingen</td><td>1.2669389963014281</td></tr><tr><td>Vostochny Bunkering Anchorage</td><td>-0.2319396194016394</td></tr><tr><td>Vung Tau Anchorage</td><td>-0.10474692489106295</td></tr><tr><td>Wada</td><td>-0.24191551701031205</td></tr><tr><td>Wakayama Anchorage No 2</td><td>-0.2319396194016394</td></tr><tr><td>Wallhamn</td><td>-0.019951795217345324</td></tr><tr><td>Walvis Bay</td><td>-0.05486743684769964</td></tr><tr><td>Walvis Bay Anchorages</td><td>-0.024939744021681656</td></tr><tr><td>Wandelaar Pilot Boarding Area</td><td>-0.037409616032522484</td></tr><tr><td>Wanger Reede Anchorage</td><td>-0.24191551701031205</td></tr><tr><td>Weifang</td><td>-0.24191551701031205</td></tr><tr><td>Weifang Anchorage No 3</td><td>-0.24191551701031205</td></tr><tr><td>Weipa Anchor Berths</td><td>-0.24191551701031205</td></tr><tr><td>Weitou</td><td>-0.23942154260814388</td></tr><tr><td>Wellington</td><td>0.05486743684769964</td></tr><tr><td>Wellington Explosives Anchorage</td><td>-0.23443359380380754</td></tr><tr><td>Wellington Inner Anchorage</td><td>-0.10474692489106295</td></tr><tr><td>West Hinder Anchorage</td><td>1.4340352812466952</td></tr><tr><td>West Java LNG Terminal</td><td>-0.23942154260814388</td></tr><tr><td>West Jurong Anchorage (AWJ)</td><td>-0.22944564499947123</td></tr><tr><td>Western Anchorage (AWW)</td><td>0.12220474570624011</td></tr><tr><td>Western Holding Anchorage (AWH)</td><td>-0.1945300033691169</td></tr><tr><td>Western Petroleum A Anchorage (AWPA)</td><td>-0.21946974739079855</td></tr><tr><td>Western Petroleum B Anchorage (AWPB)</td><td>-0.08230115527154946</td></tr><tr><td>Western Quarantine and Immigration Anchorage (AWQI)</td><td>-0.09975897608672663</td></tr><tr><td>Westport (Malaysia)</td><td>0.5636382148900054</td></tr><tr><td>Whyalla</td><td>-0.24191551701031205</td></tr><tr><td>Widuri Marine Terminal</td><td>-0.18455410576044423</td></tr><tr><td>Wielingen Noord Anchorage</td><td>-0.23443359380380754</td></tr><tr><td>Wielingen Zuid Anchorage</td><td>-0.23942154260814388</td></tr><tr><td>Wilhelmshaven</td><td>-0.2369275682059757</td></tr><tr><td>Willemstad</td><td>-0.03242166722818615</td></tr><tr><td>Wilmington (USA-Delaware)</td><td>0.019951795217345324</td></tr><tr><td>Wilmington (USA-N Carolina)</td><td>-0.2369275682059757</td></tr><tr><td>Wismar</td><td>-0.24191551701031205</td></tr><tr><td>Woodbridge Bay</td><td>-0.2369275682059757</td></tr><tr><td>Wrest Java LNG Terminal</td><td>-0.2369275682059757</td></tr><tr><td>Wuhu</td><td>-0.24191551701031205</td></tr><tr><td>Xiahai</td><td>-0.24191551701031205</td></tr><tr><td>Xiamen</td><td>-0.029927692826017985</td></tr><tr><td>Xiamen No 1 Anchorage</td><td>0.2543853890211529</td></tr><tr><td>Xiamen No 4 Quarantine Anchorage</td><td>-0.24191551701031205</td></tr><tr><td>Xiangfan</td><td>-0.24191551701031205</td></tr><tr><td>Xianglujiao</td><td>-0.24191551701031205</td></tr><tr><td>Xiazhimen Crude Oil Lightering Anchorage</td><td>-0.2369275682059757</td></tr><tr><td>Xiazhimen Kou Ore Carrier Anchorage</td><td>-0.04987948804336331</td></tr><tr><td>Xiazhimen Kouwai Tanker Anchorage</td><td>-0.05985538565203597</td></tr><tr><td>Xiazhimen North Anchorage</td><td>-0.037409616032522484</td></tr><tr><td>Xiazhimen South Anchorage</td><td>-0.04239756483685881</td></tr><tr><td>Xinhe</td><td>-0.21198782418429407</td></tr><tr><td>Xiongjiagou</td><td>-0.24191551701031205</td></tr><tr><td>Xiuyu Anchorage No 2</td><td>-0.24191551701031205</td></tr><tr><td>Xiuyu Outer Anchorage</td><td>-0.2369275682059757</td></tr><tr><td>Xuzhou</td><td>-0.24191551701031205</td></tr><tr><td>Yalova</td><td>-0.24191551701031205</td></tr><tr><td>Yalova Anchorage</td><td>0.3666142371187203</td></tr><tr><td>Yangjiang</td><td>-0.24191551701031205</td></tr><tr><td>Yangjiang Anchorage No 1 - Intermediate Vessels</td><td>-0.24191551701031205</td></tr><tr><td>Yangjiang Anchorage No 1 - Large Vessels</td><td>-0.24191551701031205</td></tr><tr><td>Yangkou</td><td>-0.23942154260814388</td></tr><tr><td>Yangon</td><td>-0.22695167059730306</td></tr><tr><td>Yangpu Anchorage No 4</td><td>-0.24191551701031205</td></tr><tr><td>Yangshan</td><td>-0.19951795217345325</td></tr><tr><td>Yangshan Quarantine Anchorage</td><td>-0.029927692826017985</td></tr><tr><td>Yangzhou</td><td>-0.24191551701031205</td></tr><tr><td>Yantai</td><td>-0.06983128326070863</td></tr><tr><td>Yantai No 1 Anchorage</td><td>-0.22695167059730306</td></tr><tr><td>Yantai No 2 Anchorage</td><td>-0.1670962849452671</td></tr><tr><td>Yantai No 2 Quarantine Anchorage</td><td>-0.22944564499947123</td></tr><tr><td>Yarimca</td><td>-0.2244576961951349</td></tr><tr><td>Yarimca Anchorage</td><td>-0.2020119265756214</td></tr><tr><td>Yeyashan Joint Inspection Mooring Anchorage</td><td>-0.24191551701031205</td></tr><tr><td>Yingkou Quarantine Anchorage</td><td>-0.24191551701031205</td></tr><tr><td>Yokkaichi</td><td>0.052373462445531475</td></tr><tr><td>Yokkaichi Anchorage</td><td>-0.1870480801626124</td></tr><tr><td>Yokkaichi and Nagoya Outer Anchorage</td><td>7.511850899330514</td></tr><tr><td>Yokkaichi SBMs</td><td>-0.2244576961951349</td></tr><tr><td>Yokohama</td><td>6.035418053246961</td></tr><tr><td>Yokohama Anchorage</td><td>6.110237285312006</td></tr><tr><td>Yokosuka</td><td>0.40152987874907464</td></tr><tr><td>Yokosuka Anchorage</td><td>0.09227705288022212</td></tr><tr><td>Yonghung Power Station</td><td>-0.24191551701031205</td></tr><tr><td>Yosu</td><td>-0.23443359380380754</td></tr><tr><td>Yosu Anchorage</td><td>-0.1820601313582761</td></tr><tr><td>Yosu Quarantine Anchorage D-1</td><td>-0.20699987537995773</td></tr><tr><td>Yosu Quarantine Anchorage D-2</td><td>-0.14714448972792177</td></tr><tr><td>Yuanyuansha Emergency Anchorage</td><td>-0.2369275682059757</td></tr><tr><td>Yura</td><td>-0.1945300033691169</td></tr><tr><td>Yutang Anchorage</td><td>-0.24191551701031205</td></tr><tr><td>Yuzhny No 357 Anchorage</td><td>-0.24191551701031205</td></tr><tr><td>Zaanstad</td><td>-0.21946974739079855</td></tr><tr><td>Zafiro Marine Terminal</td><td>-0.24191551701031205</td></tr><tr><td>Zarate</td><td>0.37160218592305666</td></tr><tr><td>Zarate Anchorage</td><td>-0.19702397777128508</td></tr><tr><td>Zeebrugge</td><td>1.8056374671697517</td></tr><tr><td>Zhangjia Port Tongsha Anchorage</td><td>-0.23942154260814388</td></tr><tr><td>Zhangjiabu</td><td>-0.24191551701031205</td></tr><tr><td>Zhangjiagang</td><td>-0.1596143617387626</td></tr><tr><td>Zhangyan</td><td>-0.24191551701031205</td></tr><tr><td>Zhanjiang</td><td>-0.24191551701031205</td></tr><tr><td>Zhenjiang</td><td>-0.24191551701031205</td></tr><tr><td>Zhongshan</td><td>-0.24191551701031205</td></tr><tr><td>Zhoupu (Zhejiang Province)</td><td>-0.24191551701031205</td></tr><tr><td>Zhoushan</td><td>0.13218064331491278</td></tr><tr><td>Zhoushan Anchorage</td><td>-0.1870480801626124</td></tr><tr><td>Zhoushan Tide and Berth Waiting Anchorage</td><td>-0.24191551701031205</td></tr><tr><td>Zhuanghe</td><td>-0.24191551701031205</td></tr></table>"
                    },
                    "metadata": {}
                }
            ],
            "execution_count": 13
        },
        {
            "cell_type": "markdown",
            "source": [
                "Make a View of all Z-scores, then compare to first batch of info I generated."
            ],
            "metadata": {
                "azdata_cell_guid": "2f060444-276d-4aac-be1a-4e75d90d75cd"
            },
            "attachments": {}
        },
        {
            "cell_type": "code",
            "source": [
                "CREATE VIEW [Ship Z-scores] AS\r\n",
                "WITH ShipCount\r\n",
                "AS\r\n",
                "    (\r\n",
                "    SELECT C.portname 'PortName'\r\n",
                "    , COUNT(C.callid) 'ShipCount'\r\n",
                "    FROM Calls C  \r\n",
                "    GROUP BY C.portname\r\n",
                "    )\r\n",
                "SELECT ST.PortName\r\n",
                ", (ST.ShipCount - AVG(ST.ShipCount) over()) / STDEV(ST.ShipCount) over() 'Z-Score'\r\n",
                "FROM ShipCount ST\r\n",
                "GROUP BY ST.PortName\r\n",
                ",ST.ShipCount;"
            ],
            "metadata": {
                "azdata_cell_guid": "182d4644-e17f-4282-9871-9d020668a2b0",
                "language": "sql",
                "tags": []
            },
            "outputs": [
                {
                    "output_type": "display_data",
                    "data": {
                        "text/html": "Commands completed successfully."
                    },
                    "metadata": {}
                },
                {
                    "output_type": "display_data",
                    "data": {
                        "text/html": "Total execution time: 00:00:00.176"
                    },
                    "metadata": {}
                }
            ],
            "execution_count": 1
        },
        {
            "cell_type": "code",
            "source": [
                "SELECT TOP 100 *\r\n",
                "FROM [Ship Z-scores];"
            ],
            "metadata": {
                "azdata_cell_guid": "26e20cda-0c44-436a-aa07-cf782fc3f028",
                "language": "sql"
            },
            "outputs": [
                {
                    "output_type": "display_data",
                    "data": {
                        "text/html": "(100 rows affected)"
                    },
                    "metadata": {}
                },
                {
                    "output_type": "display_data",
                    "data": {
                        "text/html": "Total execution time: 00:00:11.571"
                    },
                    "metadata": {}
                },
                {
                    "output_type": "execute_result",
                    "metadata": {},
                    "execution_count": 5,
                    "data": {
                        "application/vnd.dataresource+json": {
                            "schema": {
                                "fields": [
                                    {
                                        "name": "PortName"
                                    },
                                    {
                                        "name": "Z-Score"
                                    }
                                ]
                            },
                            "data": [
                                {
                                    "0": "Aberdeen (United Kingdom) Anchorage",
                                    "1": "-0.24191551701031205"
                                },
                                {
                                    "0": "Abidjan",
                                    "1": "0.019951795217345324"
                                },
                                {
                                    "0": "Abidjan Anchorage",
                                    "1": "-0.23443359380380754"
                                },
                                {
                                    "0": "Abidjan Inner Anchorage",
                                    "1": "-0.11971077130407194"
                                },
                                {
                                    "0": "Abidjan Outer Anchorage",
                                    "1": "0.19702397777128508"
                                },
                                {
                                    "0": "Abu Dhabi",
                                    "1": "0.6334694981507141"
                                },
                                {
                                    "0": "Abu Dhabi Anchorage",
                                    "1": "-0.1870480801626124"
                                },
                                {
                                    "0": "Abu Dhabi Anchorage S2",
                                    "1": "-0.09975897608672663"
                                },
                                {
                                    "0": "Acajutla",
                                    "1": "-0.07731320646721312"
                                },
                                {
                                    "0": "Acajutla Anchorage",
                                    "1": "-0.21448179858646224"
                                },
                                {
                                    "0": "Acapulco",
                                    "1": "0.05985538565203597"
                                },
                                {
                                    "0": "Adelaide",
                                    "1": "0.19951795217345325"
                                },
                                {
                                    "0": "Aden",
                                    "1": "-0.23942154260814388"
                                },
                                {
                                    "0": "Aguadilla",
                                    "1": "-0.24191551701031205"
                                },
                                {
                                    "0": "Aioi",
                                    "1": "-0.2244576961951349"
                                },
                                {
                                    "0": "Aioi Anchorage",
                                    "1": "-0.22944564499947123"
                                },
                                {
                                    "0": "Ajman Anchorage",
                                    "1": "-0.24191551701031205"
                                },
                                {
                                    "0": "Akcansa (Canakkale) Anchorage",
                                    "1": "-0.24191551701031205"
                                },
                                {
                                    "0": "Aktau Anchorage Area No 126",
                                    "1": "-0.24191551701031205"
                                },
                                {
                                    "0": "Al Basra Oil Terminal Anchorage A",
                                    "1": "-0.24191551701031205"
                                },
                                {
                                    "0": "Al Basra Oil Terminal Anchorage B",
                                    "1": "-0.20699987537995773"
                                },
                                {
                                    "0": "Al Shaheen Terminal",
                                    "1": "-0.23942154260814388"
                                },
                                {
                                    "0": "Alabama Inland Ports",
                                    "1": "-0.24191551701031205"
                                },
                                {
                                    "0": "Alang",
                                    "1": "-0.24191551701031205"
                                },
                                {
                                    "0": "Alang Anchorage",
                                    "1": "-0.22944564499947123"
                                },
                                {
                                    "0": "Al-Basra Oil Terminal",
                                    "1": "-0.2319396194016394"
                                },
                                {
                                    "0": "Al-Basra Oil Terminal Anchorage A",
                                    "1": "-0.21946974739079855"
                                },
                                {
                                    "0": "Al-Basra Oil Terminal Anchorage B",
                                    "1": "-0.12719269451057644"
                                },
                                {
                                    "0": "Aleksandrovsk Sakhalinsky",
                                    "1": "-0.24191551701031205"
                                },
                                {
                                    "0": "Alexandria (Egypt)",
                                    "1": "0.1596143617387626"
                                },
                                {
                                    "0": "Alexandria (Egypt) Anchorage",
                                    "1": "0.19951795217345325"
                                },
                                {
                                    "0": "Alexandria LPG Anchorage",
                                    "1": "-0.2319396194016394"
                                },
                                {
                                    "0": "Algeciras Anchorage A",
                                    "1": "-0.24191551701031205"
                                },
                                {
                                    "0": "Algeciras Anchorage B",
                                    "1": "-0.24191551701031205"
                                },
                                {
                                    "0": "Algeciras Anchorage D",
                                    "1": "-0.24191551701031205"
                                },
                                {
                                    "0": "Algeciras Bay Anchorage",
                                    "1": "-0.20699987537995773"
                                },
                                {
                                    "0": "Alghero",
                                    "1": "-0.24191551701031205"
                                },
                                {
                                    "0": "Aliaga",
                                    "1": "-0.24191551701031205"
                                },
                                {
                                    "0": "Aliaga Anchorage No 7",
                                    "1": "-0.24191551701031205"
                                },
                                {
                                    "0": "Alicante",
                                    "1": "-0.24191551701031205"
                                },
                                {
                                    "0": "Altamira",
                                    "1": "-0.05985538565203597"
                                },
                                {
                                    "0": "Altamira Anchorage No. 1",
                                    "1": "-0.2369275682059757"
                                },
                                {
                                    "0": "Altamira Anchorage No. 2",
                                    "1": "-0.21697577298863038"
                                },
                                {
                                    "0": "Amagasaki-Nishinomiya-Ashiya",
                                    "1": "-0.13966256652141726"
                                },
                                {
                                    "0": "Amfilochia",
                                    "1": "-0.24191551701031205"
                                },
                                {
                                    "0": "Amsterdam",
                                    "1": "0.11222884809756745"
                                },
                                {
                                    "0": "Anchorage 32LD",
                                    "1": "-0.23942154260814388"
                                },
                                {
                                    "0": "Annaba Anchorage",
                                    "1": "-0.24191551701031205"
                                },
                                {
                                    "0": "Annacis Island",
                                    "1": "0.8978307847805396"
                                },
                                {
                                    "0": "Antibes",
                                    "1": "-0.21448179858646224"
                                },
                                {
                                    "0": "Antifer Anchorage",
                                    "1": "-0.2244576961951349"
                                },
                                {
                                    "0": "Antofagasta",
                                    "1": "-0.2369275682059757"
                                },
                                {
                                    "0": "Antwerp",
                                    "1": "1.6809387470613435"
                                },
                                {
                                    "0": "Antwerp Methaniers Pilot Boarding Area",
                                    "1": "-0.22196372179296672"
                                },
                                {
                                    "0": "Antwerp Wandelaar Pilot Boarding Area",
                                    "1": "0.07731320646721312"
                                },
                                {
                                    "0": "Aoshan Joint-Inspection Anchorage",
                                    "1": "-0.2094938497821259"
                                },
                                {
                                    "0": "Apapa",
                                    "1": "-0.08978307847805396"
                                },
                                {
                                    "0": "Apra Harbor",
                                    "1": "-0.08728910407588579"
                                },
                                {
                                    "0": "Aqaba",
                                    "1": "0.6135177029333687"
                                },
                                {
                                    "0": "Aratu",
                                    "1": "0.08479512967371762"
                                },
                                {
                                    "0": "Arawak Cay Port",
                                    "1": "-0.20699987537995773"
                                },
                                {
                                    "0": "Ardrossan (Australia)",
                                    "1": "-0.23942154260814388"
                                },
                                {
                                    "0": "Arica",
                                    "1": "-0.2244576961951349"
                                },
                                {
                                    "0": "Arica Anchorage",
                                    "1": "-0.22196372179296672"
                                },
                                {
                                    "0": "Aruba STS Transhipment Area",
                                    "1": "0.2593733378254892"
                                },
                                {
                                    "0": "Ashdod",
                                    "1": "-0.2369275682059757"
                                },
                                {
                                    "0": "Ashdod Anchorage",
                                    "1": "-0.23443359380380754"
                                },
                                {
                                    "0": "Assaluyeh",
                                    "1": "-0.24191551701031205"
                                },
                                {
                                    "0": "Astoria North Anchorage",
                                    "1": "-0.22944564499947123"
                                },
                                {
                                    "0": "Astoria South Anchorage",
                                    "1": "-0.22944564499947123"
                                },
                                {
                                    "0": "Atreco",
                                    "1": "-0.2369275682059757"
                                },
                                {
                                    "0": "Atucha",
                                    "1": "-0.03990359043469065"
                                },
                                {
                                    "0": "Auckland",
                                    "1": "0.48632500842279225"
                                },
                                {
                                    "0": "Auckland Anchor Berths",
                                    "1": "-0.13966256652141726"
                                },
                                {
                                    "0": "Augusta",
                                    "1": "-0.24191551701031205"
                                },
                                {
                                    "0": "Augusta Anchorage",
                                    "1": "-0.24191551701031205"
                                },
                                {
                                    "0": "Aussenelbe Reede Anchorage",
                                    "1": "-0.21697577298863038"
                                },
                                {
                                    "0": "Avola Anchorage",
                                    "1": "-0.19951795217345325"
                                },
                                {
                                    "0": "Bacolod Anchorages",
                                    "1": "-0.24191551701031205"
                                },
                                {
                                    "0": "Balao Terminal Pilot Waiting Area",
                                    "1": "-0.24191551701031205"
                                },
                                {
                                    "0": "Balboa",
                                    "1": "1.294372714725278"
                                },
                                {
                                    "0": "Balikpapan",
                                    "1": "0.37908410912956114"
                                },
                                {
                                    "0": "Balikpapan Anchorage",
                                    "1": "0.1945300033691169"
                                },
                                {
                                    "0": "Baltimore (USA)",
                                    "1": "2.2944564499947124"
                                },
                                {
                                    "0": "Baltimore (USA) Anchorage No. 1",
                                    "1": "-0.24191551701031205"
                                },
                                {
                                    "0": "Baltimore (USA) Anchorage No. 3 Lower",
                                    "1": "-0.19203602896694874"
                                },
                                {
                                    "0": "Baltimore (USA) Anchorage No. 3 Upper",
                                    "1": "-0.21946974739079855"
                                },
                                {
                                    "0": "Baltimore (USA) Anchorage No. 4",
                                    "1": "-0.22196372179296672"
                                },
                                {
                                    "0": "Baltimore (USA) Outer Anchorage",
                                    "1": "-0.06733730885854047"
                                },
                                {
                                    "0": "Bandar Abbas Merchant Anchorage",
                                    "1": "-0.15462641293442625"
                                },
                                {
                                    "0": "Bandar Abbas Naval Anchorages",
                                    "1": "-0.24191551701031205"
                                },
                                {
                                    "0": "Bandar Imam Khomeini Outer Anchorage",
                                    "1": "-0.2369275682059757"
                                },
                                {
                                    "0": "Bandar Imam Khomeini Outer Anchorage No. 2",
                                    "1": "-0.23942154260814388"
                                },
                                {
                                    "0": "Bandar Shahid Rejaee",
                                    "1": "-0.21697577298863038"
                                },
                                {
                                    "0": "Bandirma Anchorage No. 2",
                                    "1": "-0.24191551701031205"
                                },
                                {
                                    "0": "Bangkok Bar Anchorage",
                                    "1": "-0.24191551701031205"
                                },
                                {
                                    "0": "Banjarmasin",
                                    "1": "0.45639731559677427"
                                },
                                {
                                    "0": "Baoshan North Anchorage",
                                    "1": "-0.22695167059730306"
                                },
                                {
                                    "0": "Baozhen",
                                    "1": "-0.24191551701031205"
                                },
                                {
                                    "0": "Barcelona",
                                    "1": "0.6359634725528822"
                                }
                            ]
                        },
                        "text/html": [
                            "<table>",
                            "<tr><th>PortName</th><th>Z-Score</th></tr>",
                            "<tr><td>Aberdeen (United Kingdom) Anchorage</td><td>-0.24191551701031205</td></tr>",
                            "<tr><td>Abidjan</td><td>0.019951795217345324</td></tr>",
                            "<tr><td>Abidjan Anchorage</td><td>-0.23443359380380754</td></tr>",
                            "<tr><td>Abidjan Inner Anchorage</td><td>-0.11971077130407194</td></tr>",
                            "<tr><td>Abidjan Outer Anchorage</td><td>0.19702397777128508</td></tr>",
                            "<tr><td>Abu Dhabi</td><td>0.6334694981507141</td></tr>",
                            "<tr><td>Abu Dhabi Anchorage</td><td>-0.1870480801626124</td></tr>",
                            "<tr><td>Abu Dhabi Anchorage S2</td><td>-0.09975897608672663</td></tr>",
                            "<tr><td>Acajutla</td><td>-0.07731320646721312</td></tr>",
                            "<tr><td>Acajutla Anchorage</td><td>-0.21448179858646224</td></tr>",
                            "<tr><td>Acapulco</td><td>0.05985538565203597</td></tr>",
                            "<tr><td>Adelaide</td><td>0.19951795217345325</td></tr>",
                            "<tr><td>Aden</td><td>-0.23942154260814388</td></tr>",
                            "<tr><td>Aguadilla</td><td>-0.24191551701031205</td></tr>",
                            "<tr><td>Aioi</td><td>-0.2244576961951349</td></tr>",
                            "<tr><td>Aioi Anchorage</td><td>-0.22944564499947123</td></tr>",
                            "<tr><td>Ajman Anchorage</td><td>-0.24191551701031205</td></tr>",
                            "<tr><td>Akcansa (Canakkale) Anchorage</td><td>-0.24191551701031205</td></tr>",
                            "<tr><td>Aktau Anchorage Area No 126</td><td>-0.24191551701031205</td></tr>",
                            "<tr><td>Al Basra Oil Terminal Anchorage A</td><td>-0.24191551701031205</td></tr>",
                            "<tr><td>Al Basra Oil Terminal Anchorage B</td><td>-0.20699987537995773</td></tr>",
                            "<tr><td>Al Shaheen Terminal</td><td>-0.23942154260814388</td></tr>",
                            "<tr><td>Alabama Inland Ports</td><td>-0.24191551701031205</td></tr>",
                            "<tr><td>Alang</td><td>-0.24191551701031205</td></tr>",
                            "<tr><td>Alang Anchorage</td><td>-0.22944564499947123</td></tr>",
                            "<tr><td>Al-Basra Oil Terminal</td><td>-0.2319396194016394</td></tr>",
                            "<tr><td>Al-Basra Oil Terminal Anchorage A</td><td>-0.21946974739079855</td></tr>",
                            "<tr><td>Al-Basra Oil Terminal Anchorage B</td><td>-0.12719269451057644</td></tr>",
                            "<tr><td>Aleksandrovsk Sakhalinsky</td><td>-0.24191551701031205</td></tr>",
                            "<tr><td>Alexandria (Egypt)</td><td>0.1596143617387626</td></tr>",
                            "<tr><td>Alexandria (Egypt) Anchorage</td><td>0.19951795217345325</td></tr>",
                            "<tr><td>Alexandria LPG Anchorage</td><td>-0.2319396194016394</td></tr>",
                            "<tr><td>Algeciras Anchorage A</td><td>-0.24191551701031205</td></tr>",
                            "<tr><td>Algeciras Anchorage B</td><td>-0.24191551701031205</td></tr>",
                            "<tr><td>Algeciras Anchorage D</td><td>-0.24191551701031205</td></tr>",
                            "<tr><td>Algeciras Bay Anchorage</td><td>-0.20699987537995773</td></tr>",
                            "<tr><td>Alghero</td><td>-0.24191551701031205</td></tr>",
                            "<tr><td>Aliaga</td><td>-0.24191551701031205</td></tr>",
                            "<tr><td>Aliaga Anchorage No 7</td><td>-0.24191551701031205</td></tr>",
                            "<tr><td>Alicante</td><td>-0.24191551701031205</td></tr>",
                            "<tr><td>Altamira</td><td>-0.05985538565203597</td></tr>",
                            "<tr><td>Altamira Anchorage No. 1</td><td>-0.2369275682059757</td></tr>",
                            "<tr><td>Altamira Anchorage No. 2</td><td>-0.21697577298863038</td></tr>",
                            "<tr><td>Amagasaki-Nishinomiya-Ashiya</td><td>-0.13966256652141726</td></tr>",
                            "<tr><td>Amfilochia</td><td>-0.24191551701031205</td></tr>",
                            "<tr><td>Amsterdam</td><td>0.11222884809756745</td></tr>",
                            "<tr><td>Anchorage 32LD</td><td>-0.23942154260814388</td></tr>",
                            "<tr><td>Annaba Anchorage</td><td>-0.24191551701031205</td></tr>",
                            "<tr><td>Annacis Island</td><td>0.8978307847805396</td></tr>",
                            "<tr><td>Antibes</td><td>-0.21448179858646224</td></tr>",
                            "<tr><td>Antifer Anchorage</td><td>-0.2244576961951349</td></tr>",
                            "<tr><td>Antofagasta</td><td>-0.2369275682059757</td></tr>",
                            "<tr><td>Antwerp</td><td>1.6809387470613435</td></tr>",
                            "<tr><td>Antwerp Methaniers Pilot Boarding Area</td><td>-0.22196372179296672</td></tr>",
                            "<tr><td>Antwerp Wandelaar Pilot Boarding Area</td><td>0.07731320646721312</td></tr>",
                            "<tr><td>Aoshan Joint-Inspection Anchorage</td><td>-0.2094938497821259</td></tr>",
                            "<tr><td>Apapa</td><td>-0.08978307847805396</td></tr>",
                            "<tr><td>Apra Harbor</td><td>-0.08728910407588579</td></tr>",
                            "<tr><td>Aqaba</td><td>0.6135177029333687</td></tr>",
                            "<tr><td>Aratu</td><td>0.08479512967371762</td></tr>",
                            "<tr><td>Arawak Cay Port</td><td>-0.20699987537995773</td></tr>",
                            "<tr><td>Ardrossan (Australia)</td><td>-0.23942154260814388</td></tr>",
                            "<tr><td>Arica</td><td>-0.2244576961951349</td></tr>",
                            "<tr><td>Arica Anchorage</td><td>-0.22196372179296672</td></tr>",
                            "<tr><td>Aruba STS Transhipment Area</td><td>0.2593733378254892</td></tr>",
                            "<tr><td>Ashdod</td><td>-0.2369275682059757</td></tr>",
                            "<tr><td>Ashdod Anchorage</td><td>-0.23443359380380754</td></tr>",
                            "<tr><td>Assaluyeh</td><td>-0.24191551701031205</td></tr>",
                            "<tr><td>Astoria North Anchorage</td><td>-0.22944564499947123</td></tr>",
                            "<tr><td>Astoria South Anchorage</td><td>-0.22944564499947123</td></tr>",
                            "<tr><td>Atreco</td><td>-0.2369275682059757</td></tr>",
                            "<tr><td>Atucha</td><td>-0.03990359043469065</td></tr>",
                            "<tr><td>Auckland</td><td>0.48632500842279225</td></tr>",
                            "<tr><td>Auckland Anchor Berths</td><td>-0.13966256652141726</td></tr>",
                            "<tr><td>Augusta</td><td>-0.24191551701031205</td></tr>",
                            "<tr><td>Augusta Anchorage</td><td>-0.24191551701031205</td></tr>",
                            "<tr><td>Aussenelbe Reede Anchorage</td><td>-0.21697577298863038</td></tr>",
                            "<tr><td>Avola Anchorage</td><td>-0.19951795217345325</td></tr>",
                            "<tr><td>Bacolod Anchorages</td><td>-0.24191551701031205</td></tr>",
                            "<tr><td>Balao Terminal Pilot Waiting Area</td><td>-0.24191551701031205</td></tr>",
                            "<tr><td>Balboa</td><td>1.294372714725278</td></tr>",
                            "<tr><td>Balikpapan</td><td>0.37908410912956114</td></tr>",
                            "<tr><td>Balikpapan Anchorage</td><td>0.1945300033691169</td></tr>",
                            "<tr><td>Baltimore (USA)</td><td>2.2944564499947124</td></tr>",
                            "<tr><td>Baltimore (USA) Anchorage No. 1</td><td>-0.24191551701031205</td></tr>",
                            "<tr><td>Baltimore (USA) Anchorage No. 3 Lower</td><td>-0.19203602896694874</td></tr>",
                            "<tr><td>Baltimore (USA) Anchorage No. 3 Upper</td><td>-0.21946974739079855</td></tr>",
                            "<tr><td>Baltimore (USA) Anchorage No. 4</td><td>-0.22196372179296672</td></tr>",
                            "<tr><td>Baltimore (USA) Outer Anchorage</td><td>-0.06733730885854047</td></tr>",
                            "<tr><td>Bandar Abbas Merchant Anchorage</td><td>-0.15462641293442625</td></tr>",
                            "<tr><td>Bandar Abbas Naval Anchorages</td><td>-0.24191551701031205</td></tr>",
                            "<tr><td>Bandar Imam Khomeini Outer Anchorage</td><td>-0.2369275682059757</td></tr>",
                            "<tr><td>Bandar Imam Khomeini Outer Anchorage No. 2</td><td>-0.23942154260814388</td></tr>",
                            "<tr><td>Bandar Shahid Rejaee</td><td>-0.21697577298863038</td></tr>",
                            "<tr><td>Bandirma Anchorage No. 2</td><td>-0.24191551701031205</td></tr>",
                            "<tr><td>Bangkok Bar Anchorage</td><td>-0.24191551701031205</td></tr>",
                            "<tr><td>Banjarmasin</td><td>0.45639731559677427</td></tr>",
                            "<tr><td>Baoshan North Anchorage</td><td>-0.22695167059730306</td></tr>",
                            "<tr><td>Baozhen</td><td>-0.24191551701031205</td></tr>",
                            "<tr><td>Barcelona</td><td>0.6359634725528822</td></tr>",
                            "</table>"
                        ]
                    }
                }
            ],
            "execution_count": 5
        },
        {
            "cell_type": "markdown",
            "source": [
                "Create and Execute a Stored Procedure"
            ],
            "metadata": {
                "azdata_cell_guid": "c2316c58-4614-45c8-816c-7be9b3b07774"
            },
            "attachments": {}
        },
        {
            "cell_type": "code",
            "source": [
                "CREATE PROCEDURE SelectFirst100ZScores\r\n",
                "AS\r\n",
                "SELECT TOP 100 *\r\n",
                "FROM [Ship Z-scores]\r\n",
                "GO;"
            ],
            "metadata": {
                "azdata_cell_guid": "315b3611-059c-4df4-b6c6-6b32887fdbb0",
                "language": "sql"
            },
            "outputs": [
                {
                    "output_type": "display_data",
                    "data": {
                        "text/html": "Commands completed successfully."
                    },
                    "metadata": {}
                },
                {
                    "output_type": "display_data",
                    "data": {
                        "text/html": "Total execution time: 00:00:00.021"
                    },
                    "metadata": {}
                }
            ],
            "execution_count": 7
        },
        {
            "cell_type": "code",
            "source": [
                "EXEC SelectFirst100ZScores;"
            ],
            "metadata": {
                "azdata_cell_guid": "8bee83ee-6228-43ef-b3ec-0db3b2febdda",
                "language": "sql"
            },
            "outputs": [
                {
                    "output_type": "display_data",
                    "data": {
                        "text/html": "(100 rows affected)"
                    },
                    "metadata": {}
                },
                {
                    "output_type": "display_data",
                    "data": {
                        "text/html": "Total execution time: 00:00:00.934"
                    },
                    "metadata": {}
                },
                {
                    "output_type": "execute_result",
                    "metadata": {},
                    "execution_count": 8,
                    "data": {
                        "application/vnd.dataresource+json": {
                            "schema": {
                                "fields": [
                                    {
                                        "name": "PortName"
                                    },
                                    {
                                        "name": "Z-Score"
                                    }
                                ]
                            },
                            "data": [
                                {
                                    "0": "Aberdeen (United Kingdom) Anchorage",
                                    "1": "-0.24191551701031205"
                                },
                                {
                                    "0": "Abidjan",
                                    "1": "0.019951795217345324"
                                },
                                {
                                    "0": "Abidjan Anchorage",
                                    "1": "-0.23443359380380754"
                                },
                                {
                                    "0": "Abidjan Inner Anchorage",
                                    "1": "-0.11971077130407194"
                                },
                                {
                                    "0": "Abidjan Outer Anchorage",
                                    "1": "0.19702397777128508"
                                },
                                {
                                    "0": "Abu Dhabi",
                                    "1": "0.6334694981507141"
                                },
                                {
                                    "0": "Abu Dhabi Anchorage",
                                    "1": "-0.1870480801626124"
                                },
                                {
                                    "0": "Abu Dhabi Anchorage S2",
                                    "1": "-0.09975897608672663"
                                },
                                {
                                    "0": "Acajutla",
                                    "1": "-0.07731320646721312"
                                },
                                {
                                    "0": "Acajutla Anchorage",
                                    "1": "-0.21448179858646224"
                                },
                                {
                                    "0": "Acapulco",
                                    "1": "0.05985538565203597"
                                },
                                {
                                    "0": "Adelaide",
                                    "1": "0.19951795217345325"
                                },
                                {
                                    "0": "Aden",
                                    "1": "-0.23942154260814388"
                                },
                                {
                                    "0": "Aguadilla",
                                    "1": "-0.24191551701031205"
                                },
                                {
                                    "0": "Aioi",
                                    "1": "-0.2244576961951349"
                                },
                                {
                                    "0": "Aioi Anchorage",
                                    "1": "-0.22944564499947123"
                                },
                                {
                                    "0": "Ajman Anchorage",
                                    "1": "-0.24191551701031205"
                                },
                                {
                                    "0": "Akcansa (Canakkale) Anchorage",
                                    "1": "-0.24191551701031205"
                                },
                                {
                                    "0": "Aktau Anchorage Area No 126",
                                    "1": "-0.24191551701031205"
                                },
                                {
                                    "0": "Al Basra Oil Terminal Anchorage A",
                                    "1": "-0.24191551701031205"
                                },
                                {
                                    "0": "Al Basra Oil Terminal Anchorage B",
                                    "1": "-0.20699987537995773"
                                },
                                {
                                    "0": "Al Shaheen Terminal",
                                    "1": "-0.23942154260814388"
                                },
                                {
                                    "0": "Alabama Inland Ports",
                                    "1": "-0.24191551701031205"
                                },
                                {
                                    "0": "Alang",
                                    "1": "-0.24191551701031205"
                                },
                                {
                                    "0": "Alang Anchorage",
                                    "1": "-0.22944564499947123"
                                },
                                {
                                    "0": "Al-Basra Oil Terminal",
                                    "1": "-0.2319396194016394"
                                },
                                {
                                    "0": "Al-Basra Oil Terminal Anchorage A",
                                    "1": "-0.21946974739079855"
                                },
                                {
                                    "0": "Al-Basra Oil Terminal Anchorage B",
                                    "1": "-0.12719269451057644"
                                },
                                {
                                    "0": "Aleksandrovsk Sakhalinsky",
                                    "1": "-0.24191551701031205"
                                },
                                {
                                    "0": "Alexandria (Egypt)",
                                    "1": "0.1596143617387626"
                                },
                                {
                                    "0": "Alexandria (Egypt) Anchorage",
                                    "1": "0.19951795217345325"
                                },
                                {
                                    "0": "Alexandria LPG Anchorage",
                                    "1": "-0.2319396194016394"
                                },
                                {
                                    "0": "Algeciras Anchorage A",
                                    "1": "-0.24191551701031205"
                                },
                                {
                                    "0": "Algeciras Anchorage B",
                                    "1": "-0.24191551701031205"
                                },
                                {
                                    "0": "Algeciras Anchorage D",
                                    "1": "-0.24191551701031205"
                                },
                                {
                                    "0": "Algeciras Bay Anchorage",
                                    "1": "-0.20699987537995773"
                                },
                                {
                                    "0": "Alghero",
                                    "1": "-0.24191551701031205"
                                },
                                {
                                    "0": "Aliaga",
                                    "1": "-0.24191551701031205"
                                },
                                {
                                    "0": "Aliaga Anchorage No 7",
                                    "1": "-0.24191551701031205"
                                },
                                {
                                    "0": "Alicante",
                                    "1": "-0.24191551701031205"
                                },
                                {
                                    "0": "Altamira",
                                    "1": "-0.05985538565203597"
                                },
                                {
                                    "0": "Altamira Anchorage No. 1",
                                    "1": "-0.2369275682059757"
                                },
                                {
                                    "0": "Altamira Anchorage No. 2",
                                    "1": "-0.21697577298863038"
                                },
                                {
                                    "0": "Amagasaki-Nishinomiya-Ashiya",
                                    "1": "-0.13966256652141726"
                                },
                                {
                                    "0": "Amfilochia",
                                    "1": "-0.24191551701031205"
                                },
                                {
                                    "0": "Amsterdam",
                                    "1": "0.11222884809756745"
                                },
                                {
                                    "0": "Anchorage 32LD",
                                    "1": "-0.23942154260814388"
                                },
                                {
                                    "0": "Annaba Anchorage",
                                    "1": "-0.24191551701031205"
                                },
                                {
                                    "0": "Annacis Island",
                                    "1": "0.8978307847805396"
                                },
                                {
                                    "0": "Antibes",
                                    "1": "-0.21448179858646224"
                                },
                                {
                                    "0": "Antifer Anchorage",
                                    "1": "-0.2244576961951349"
                                },
                                {
                                    "0": "Antofagasta",
                                    "1": "-0.2369275682059757"
                                },
                                {
                                    "0": "Antwerp",
                                    "1": "1.6809387470613435"
                                },
                                {
                                    "0": "Antwerp Methaniers Pilot Boarding Area",
                                    "1": "-0.22196372179296672"
                                },
                                {
                                    "0": "Antwerp Wandelaar Pilot Boarding Area",
                                    "1": "0.07731320646721312"
                                },
                                {
                                    "0": "Aoshan Joint-Inspection Anchorage",
                                    "1": "-0.2094938497821259"
                                },
                                {
                                    "0": "Apapa",
                                    "1": "-0.08978307847805396"
                                },
                                {
                                    "0": "Apra Harbor",
                                    "1": "-0.08728910407588579"
                                },
                                {
                                    "0": "Aqaba",
                                    "1": "0.6135177029333687"
                                },
                                {
                                    "0": "Aratu",
                                    "1": "0.08479512967371762"
                                },
                                {
                                    "0": "Arawak Cay Port",
                                    "1": "-0.20699987537995773"
                                },
                                {
                                    "0": "Ardrossan (Australia)",
                                    "1": "-0.23942154260814388"
                                },
                                {
                                    "0": "Arica",
                                    "1": "-0.2244576961951349"
                                },
                                {
                                    "0": "Arica Anchorage",
                                    "1": "-0.22196372179296672"
                                },
                                {
                                    "0": "Aruba STS Transhipment Area",
                                    "1": "0.2593733378254892"
                                },
                                {
                                    "0": "Ashdod",
                                    "1": "-0.2369275682059757"
                                },
                                {
                                    "0": "Ashdod Anchorage",
                                    "1": "-0.23443359380380754"
                                },
                                {
                                    "0": "Assaluyeh",
                                    "1": "-0.24191551701031205"
                                },
                                {
                                    "0": "Astoria North Anchorage",
                                    "1": "-0.22944564499947123"
                                },
                                {
                                    "0": "Astoria South Anchorage",
                                    "1": "-0.22944564499947123"
                                },
                                {
                                    "0": "Atreco",
                                    "1": "-0.2369275682059757"
                                },
                                {
                                    "0": "Atucha",
                                    "1": "-0.03990359043469065"
                                },
                                {
                                    "0": "Auckland",
                                    "1": "0.48632500842279225"
                                },
                                {
                                    "0": "Auckland Anchor Berths",
                                    "1": "-0.13966256652141726"
                                },
                                {
                                    "0": "Augusta",
                                    "1": "-0.24191551701031205"
                                },
                                {
                                    "0": "Augusta Anchorage",
                                    "1": "-0.24191551701031205"
                                },
                                {
                                    "0": "Aussenelbe Reede Anchorage",
                                    "1": "-0.21697577298863038"
                                },
                                {
                                    "0": "Avola Anchorage",
                                    "1": "-0.19951795217345325"
                                },
                                {
                                    "0": "Bacolod Anchorages",
                                    "1": "-0.24191551701031205"
                                },
                                {
                                    "0": "Balao Terminal Pilot Waiting Area",
                                    "1": "-0.24191551701031205"
                                },
                                {
                                    "0": "Balboa",
                                    "1": "1.294372714725278"
                                },
                                {
                                    "0": "Balikpapan",
                                    "1": "0.37908410912956114"
                                },
                                {
                                    "0": "Balikpapan Anchorage",
                                    "1": "0.1945300033691169"
                                },
                                {
                                    "0": "Baltimore (USA)",
                                    "1": "2.2944564499947124"
                                },
                                {
                                    "0": "Baltimore (USA) Anchorage No. 1",
                                    "1": "-0.24191551701031205"
                                },
                                {
                                    "0": "Baltimore (USA) Anchorage No. 3 Lower",
                                    "1": "-0.19203602896694874"
                                },
                                {
                                    "0": "Baltimore (USA) Anchorage No. 3 Upper",
                                    "1": "-0.21946974739079855"
                                },
                                {
                                    "0": "Baltimore (USA) Anchorage No. 4",
                                    "1": "-0.22196372179296672"
                                },
                                {
                                    "0": "Baltimore (USA) Outer Anchorage",
                                    "1": "-0.06733730885854047"
                                },
                                {
                                    "0": "Bandar Abbas Merchant Anchorage",
                                    "1": "-0.15462641293442625"
                                },
                                {
                                    "0": "Bandar Abbas Naval Anchorages",
                                    "1": "-0.24191551701031205"
                                },
                                {
                                    "0": "Bandar Imam Khomeini Outer Anchorage",
                                    "1": "-0.2369275682059757"
                                },
                                {
                                    "0": "Bandar Imam Khomeini Outer Anchorage No. 2",
                                    "1": "-0.23942154260814388"
                                },
                                {
                                    "0": "Bandar Shahid Rejaee",
                                    "1": "-0.21697577298863038"
                                },
                                {
                                    "0": "Bandirma Anchorage No. 2",
                                    "1": "-0.24191551701031205"
                                },
                                {
                                    "0": "Bangkok Bar Anchorage",
                                    "1": "-0.24191551701031205"
                                },
                                {
                                    "0": "Banjarmasin",
                                    "1": "0.45639731559677427"
                                },
                                {
                                    "0": "Baoshan North Anchorage",
                                    "1": "-0.22695167059730306"
                                },
                                {
                                    "0": "Baozhen",
                                    "1": "-0.24191551701031205"
                                },
                                {
                                    "0": "Barcelona",
                                    "1": "0.6359634725528822"
                                }
                            ]
                        },
                        "text/html": [
                            "<table>",
                            "<tr><th>PortName</th><th>Z-Score</th></tr>",
                            "<tr><td>Aberdeen (United Kingdom) Anchorage</td><td>-0.24191551701031205</td></tr>",
                            "<tr><td>Abidjan</td><td>0.019951795217345324</td></tr>",
                            "<tr><td>Abidjan Anchorage</td><td>-0.23443359380380754</td></tr>",
                            "<tr><td>Abidjan Inner Anchorage</td><td>-0.11971077130407194</td></tr>",
                            "<tr><td>Abidjan Outer Anchorage</td><td>0.19702397777128508</td></tr>",
                            "<tr><td>Abu Dhabi</td><td>0.6334694981507141</td></tr>",
                            "<tr><td>Abu Dhabi Anchorage</td><td>-0.1870480801626124</td></tr>",
                            "<tr><td>Abu Dhabi Anchorage S2</td><td>-0.09975897608672663</td></tr>",
                            "<tr><td>Acajutla</td><td>-0.07731320646721312</td></tr>",
                            "<tr><td>Acajutla Anchorage</td><td>-0.21448179858646224</td></tr>",
                            "<tr><td>Acapulco</td><td>0.05985538565203597</td></tr>",
                            "<tr><td>Adelaide</td><td>0.19951795217345325</td></tr>",
                            "<tr><td>Aden</td><td>-0.23942154260814388</td></tr>",
                            "<tr><td>Aguadilla</td><td>-0.24191551701031205</td></tr>",
                            "<tr><td>Aioi</td><td>-0.2244576961951349</td></tr>",
                            "<tr><td>Aioi Anchorage</td><td>-0.22944564499947123</td></tr>",
                            "<tr><td>Ajman Anchorage</td><td>-0.24191551701031205</td></tr>",
                            "<tr><td>Akcansa (Canakkale) Anchorage</td><td>-0.24191551701031205</td></tr>",
                            "<tr><td>Aktau Anchorage Area No 126</td><td>-0.24191551701031205</td></tr>",
                            "<tr><td>Al Basra Oil Terminal Anchorage A</td><td>-0.24191551701031205</td></tr>",
                            "<tr><td>Al Basra Oil Terminal Anchorage B</td><td>-0.20699987537995773</td></tr>",
                            "<tr><td>Al Shaheen Terminal</td><td>-0.23942154260814388</td></tr>",
                            "<tr><td>Alabama Inland Ports</td><td>-0.24191551701031205</td></tr>",
                            "<tr><td>Alang</td><td>-0.24191551701031205</td></tr>",
                            "<tr><td>Alang Anchorage</td><td>-0.22944564499947123</td></tr>",
                            "<tr><td>Al-Basra Oil Terminal</td><td>-0.2319396194016394</td></tr>",
                            "<tr><td>Al-Basra Oil Terminal Anchorage A</td><td>-0.21946974739079855</td></tr>",
                            "<tr><td>Al-Basra Oil Terminal Anchorage B</td><td>-0.12719269451057644</td></tr>",
                            "<tr><td>Aleksandrovsk Sakhalinsky</td><td>-0.24191551701031205</td></tr>",
                            "<tr><td>Alexandria (Egypt)</td><td>0.1596143617387626</td></tr>",
                            "<tr><td>Alexandria (Egypt) Anchorage</td><td>0.19951795217345325</td></tr>",
                            "<tr><td>Alexandria LPG Anchorage</td><td>-0.2319396194016394</td></tr>",
                            "<tr><td>Algeciras Anchorage A</td><td>-0.24191551701031205</td></tr>",
                            "<tr><td>Algeciras Anchorage B</td><td>-0.24191551701031205</td></tr>",
                            "<tr><td>Algeciras Anchorage D</td><td>-0.24191551701031205</td></tr>",
                            "<tr><td>Algeciras Bay Anchorage</td><td>-0.20699987537995773</td></tr>",
                            "<tr><td>Alghero</td><td>-0.24191551701031205</td></tr>",
                            "<tr><td>Aliaga</td><td>-0.24191551701031205</td></tr>",
                            "<tr><td>Aliaga Anchorage No 7</td><td>-0.24191551701031205</td></tr>",
                            "<tr><td>Alicante</td><td>-0.24191551701031205</td></tr>",
                            "<tr><td>Altamira</td><td>-0.05985538565203597</td></tr>",
                            "<tr><td>Altamira Anchorage No. 1</td><td>-0.2369275682059757</td></tr>",
                            "<tr><td>Altamira Anchorage No. 2</td><td>-0.21697577298863038</td></tr>",
                            "<tr><td>Amagasaki-Nishinomiya-Ashiya</td><td>-0.13966256652141726</td></tr>",
                            "<tr><td>Amfilochia</td><td>-0.24191551701031205</td></tr>",
                            "<tr><td>Amsterdam</td><td>0.11222884809756745</td></tr>",
                            "<tr><td>Anchorage 32LD</td><td>-0.23942154260814388</td></tr>",
                            "<tr><td>Annaba Anchorage</td><td>-0.24191551701031205</td></tr>",
                            "<tr><td>Annacis Island</td><td>0.8978307847805396</td></tr>",
                            "<tr><td>Antibes</td><td>-0.21448179858646224</td></tr>",
                            "<tr><td>Antifer Anchorage</td><td>-0.2244576961951349</td></tr>",
                            "<tr><td>Antofagasta</td><td>-0.2369275682059757</td></tr>",
                            "<tr><td>Antwerp</td><td>1.6809387470613435</td></tr>",
                            "<tr><td>Antwerp Methaniers Pilot Boarding Area</td><td>-0.22196372179296672</td></tr>",
                            "<tr><td>Antwerp Wandelaar Pilot Boarding Area</td><td>0.07731320646721312</td></tr>",
                            "<tr><td>Aoshan Joint-Inspection Anchorage</td><td>-0.2094938497821259</td></tr>",
                            "<tr><td>Apapa</td><td>-0.08978307847805396</td></tr>",
                            "<tr><td>Apra Harbor</td><td>-0.08728910407588579</td></tr>",
                            "<tr><td>Aqaba</td><td>0.6135177029333687</td></tr>",
                            "<tr><td>Aratu</td><td>0.08479512967371762</td></tr>",
                            "<tr><td>Arawak Cay Port</td><td>-0.20699987537995773</td></tr>",
                            "<tr><td>Ardrossan (Australia)</td><td>-0.23942154260814388</td></tr>",
                            "<tr><td>Arica</td><td>-0.2244576961951349</td></tr>",
                            "<tr><td>Arica Anchorage</td><td>-0.22196372179296672</td></tr>",
                            "<tr><td>Aruba STS Transhipment Area</td><td>0.2593733378254892</td></tr>",
                            "<tr><td>Ashdod</td><td>-0.2369275682059757</td></tr>",
                            "<tr><td>Ashdod Anchorage</td><td>-0.23443359380380754</td></tr>",
                            "<tr><td>Assaluyeh</td><td>-0.24191551701031205</td></tr>",
                            "<tr><td>Astoria North Anchorage</td><td>-0.22944564499947123</td></tr>",
                            "<tr><td>Astoria South Anchorage</td><td>-0.22944564499947123</td></tr>",
                            "<tr><td>Atreco</td><td>-0.2369275682059757</td></tr>",
                            "<tr><td>Atucha</td><td>-0.03990359043469065</td></tr>",
                            "<tr><td>Auckland</td><td>0.48632500842279225</td></tr>",
                            "<tr><td>Auckland Anchor Berths</td><td>-0.13966256652141726</td></tr>",
                            "<tr><td>Augusta</td><td>-0.24191551701031205</td></tr>",
                            "<tr><td>Augusta Anchorage</td><td>-0.24191551701031205</td></tr>",
                            "<tr><td>Aussenelbe Reede Anchorage</td><td>-0.21697577298863038</td></tr>",
                            "<tr><td>Avola Anchorage</td><td>-0.19951795217345325</td></tr>",
                            "<tr><td>Bacolod Anchorages</td><td>-0.24191551701031205</td></tr>",
                            "<tr><td>Balao Terminal Pilot Waiting Area</td><td>-0.24191551701031205</td></tr>",
                            "<tr><td>Balboa</td><td>1.294372714725278</td></tr>",
                            "<tr><td>Balikpapan</td><td>0.37908410912956114</td></tr>",
                            "<tr><td>Balikpapan Anchorage</td><td>0.1945300033691169</td></tr>",
                            "<tr><td>Baltimore (USA)</td><td>2.2944564499947124</td></tr>",
                            "<tr><td>Baltimore (USA) Anchorage No. 1</td><td>-0.24191551701031205</td></tr>",
                            "<tr><td>Baltimore (USA) Anchorage No. 3 Lower</td><td>-0.19203602896694874</td></tr>",
                            "<tr><td>Baltimore (USA) Anchorage No. 3 Upper</td><td>-0.21946974739079855</td></tr>",
                            "<tr><td>Baltimore (USA) Anchorage No. 4</td><td>-0.22196372179296672</td></tr>",
                            "<tr><td>Baltimore (USA) Outer Anchorage</td><td>-0.06733730885854047</td></tr>",
                            "<tr><td>Bandar Abbas Merchant Anchorage</td><td>-0.15462641293442625</td></tr>",
                            "<tr><td>Bandar Abbas Naval Anchorages</td><td>-0.24191551701031205</td></tr>",
                            "<tr><td>Bandar Imam Khomeini Outer Anchorage</td><td>-0.2369275682059757</td></tr>",
                            "<tr><td>Bandar Imam Khomeini Outer Anchorage No. 2</td><td>-0.23942154260814388</td></tr>",
                            "<tr><td>Bandar Shahid Rejaee</td><td>-0.21697577298863038</td></tr>",
                            "<tr><td>Bandirma Anchorage No. 2</td><td>-0.24191551701031205</td></tr>",
                            "<tr><td>Bangkok Bar Anchorage</td><td>-0.24191551701031205</td></tr>",
                            "<tr><td>Banjarmasin</td><td>0.45639731559677427</td></tr>",
                            "<tr><td>Baoshan North Anchorage</td><td>-0.22695167059730306</td></tr>",
                            "<tr><td>Baozhen</td><td>-0.24191551701031205</td></tr>",
                            "<tr><td>Barcelona</td><td>0.6359634725528822</td></tr>",
                            "</table>"
                        ]
                    }
                }
            ],
            "execution_count": 8
        },
        {
            "cell_type": "markdown",
            "source": [
                "Create and Run a Scalar Function"
            ],
            "metadata": {
                "azdata_cell_guid": "63553056-f43c-4900-a416-c87f7b687ac4"
            },
            "attachments": {}
        },
        {
            "cell_type": "code",
            "source": [
                "CREATE FUNCTION dbo.udfVolume(\r\n",
                "    @loa DEC(10,2),\r\n",
                "    @breadth DEC(10,2),\r\n",
                "    @depth DEC(10,2)\r\n",
                ")\r\n",
                "RETURNS DEC(10,2)\r\n",
                "AS \r\n",
                "BEGIN\r\n",
                "    RETURN @loa * @breadth * @depth;\r\n",
                "END;"
            ],
            "metadata": {
                "azdata_cell_guid": "01da6f65-9496-44d5-88ff-c118bf75c40d",
                "language": "sql"
            },
            "outputs": [
                {
                    "output_type": "display_data",
                    "data": {
                        "text/html": "Commands completed successfully."
                    },
                    "metadata": {}
                },
                {
                    "output_type": "display_data",
                    "data": {
                        "text/html": "Total execution time: 00:00:00.021"
                    },
                    "metadata": {}
                }
            ],
            "execution_count": 9
        },
        {
            "cell_type": "code",
            "source": [
                "SELECT S.lrno\r\n",
                ", dbo.udfVolume(S.loa,S.breadth,S.depth) Volume\r\n",
                "FROM Ships S\r\n",
                "GROUP BY \r\n",
                "S.lrno\r\n",
                ", S.loa\r\n",
                ", S.breadth\r\n",
                ", S.depth;"
            ],
            "metadata": {
                "azdata_cell_guid": "7371edf1-8066-405f-90ea-4f82d2211c7d",
                "language": "sql",
                "tags": []
            },
            "outputs": [
                {
                    "output_type": "display_data",
                    "data": {
                        "text/html": "(327 rows affected)"
                    },
                    "metadata": {}
                },
                {
                    "output_type": "display_data",
                    "data": {
                        "text/html": "Total execution time: 00:00:00.116"
                    },
                    "metadata": {}
                },
                {
                    "output_type": "execute_result",
                    "metadata": {},
                    "execution_count": 13,
                    "data": {
                        "application/vnd.dataresource+json": {
                            "schema": {
                                "fields": [
                                    {
                                        "name": "lrno"
                                    },
                                    {
                                        "name": "Volume"
                                    }
                                ]
                            },
                            "data": [
                                {
                                    "0": "7903093",
                                    "1": "141082.45"
                                },
                                {
                                    "0": "7917551",
                                    "1": "199358.41"
                                },
                                {
                                    "0": "7917563",
                                    "1": "199227.60"
                                },
                                {
                                    "0": "8016548",
                                    "1": "199227.60"
                                },
                                {
                                    "0": "8016550",
                                    "1": "199227.60"
                                },
                                {
                                    "0": "8017671",
                                    "1": "10407.74"
                                },
                                {
                                    "0": "8018168",
                                    "1": "123703.17"
                                },
                                {
                                    "0": "8131128",
                                    "1": "29622.49"
                                },
                                {
                                    "0": "8202367",
                                    "1": "111815.20"
                                },
                                {
                                    "0": "8204951",
                                    "1": "177585.82"
                                },
                                {
                                    "0": "8204963",
                                    "1": "177633.26"
                                },
                                {
                                    "0": "8204975",
                                    "1": "177633.26"
                                },
                                {
                                    "0": "8211514",
                                    "1": "125215.20"
                                },
                                {
                                    "0": "8309579",
                                    "1": "136718.20"
                                },
                                {
                                    "0": "8309581",
                                    "1": "195122.71"
                                },
                                {
                                    "0": "8313324",
                                    "1": "74430.72"
                                },
                                {
                                    "0": "8319718",
                                    "1": "85501.43"
                                },
                                {
                                    "0": "8320779",
                                    "1": "202434.75"
                                },
                                {
                                    "0": "8321333",
                                    "1": "199227.60"
                                },
                                {
                                    "0": "8321905",
                                    "1": "188737.72"
                                },
                                {
                                    "0": "8502468",
                                    "1": "118611.88"
                                },
                                {
                                    "0": "8505355",
                                    "1": "12095.62"
                                },
                                {
                                    "0": "8506749",
                                    "1": "84301.43"
                                },
                                {
                                    "0": "8507664",
                                    "1": "115505.47"
                                },
                                {
                                    "0": "8508826",
                                    "1": "10394.22"
                                },
                                {
                                    "0": "8508905",
                                    "1": "143269.88"
                                },
                                {
                                    "0": "8508917",
                                    "1": "143123.68"
                                },
                                {
                                    "0": "8511263",
                                    "1": "101844.65"
                                },
                                {
                                    "0": "8513510",
                                    "1": "140715.47"
                                },
                                {
                                    "0": "8513560",
                                    "1": "84301.43"
                                },
                                {
                                    "0": "8514083",
                                    "1": "77173.87"
                                },
                                {
                                    "0": "8517279",
                                    "1": "81686.96"
                                },
                                {
                                    "0": "8517944",
                                    "1": "79990.85"
                                },
                                {
                                    "0": "8520680",
                                    "1": "85241.90"
                                },
                                {
                                    "0": "8602579",
                                    "1": "85241.90"
                                },
                                {
                                    "0": "8602775",
                                    "1": "120903.58"
                                },
                                {
                                    "0": "8605167",
                                    "1": "84301.43"
                                },
                                {
                                    "0": "8606056",
                                    "1": "82047.13"
                                },
                                {
                                    "0": "8607749",
                                    "1": "116555.43"
                                },
                                {
                                    "0": "8608157",
                                    "1": "155683.63"
                                },
                                {
                                    "0": "8608169",
                                    "1": "155742.79"
                                },
                                {
                                    "0": "8613188",
                                    "1": "160304.42"
                                },
                                {
                                    "0": "8701325",
                                    "1": "11970.55"
                                },
                                {
                                    "0": "8705307",
                                    "1": "38420.66"
                                },
                                {
                                    "0": "8708244",
                                    "1": "167594.25"
                                },
                                {
                                    "0": "8708907",
                                    "1": "187964.68"
                                },
                                {
                                    "0": "8709119",
                                    "1": "133345.53"
                                },
                                {
                                    "0": "8709121",
                                    "1": "133345.53"
                                },
                                {
                                    "0": "8709157",
                                    "1": "170114.49"
                                },
                                {
                                    "0": "8716162",
                                    "1": "15134.00"
                                },
                                {
                                    "0": "8808082",
                                    "1": "24059.02"
                                },
                                {
                                    "0": "8822090",
                                    "1": "12616.13"
                                },
                                {
                                    "0": "8822117",
                                    "1": "33480.00"
                                },
                                {
                                    "0": "8905165",
                                    "1": "8895.74"
                                },
                                {
                                    "0": "8905426",
                                    "1": "189355.32"
                                },
                                {
                                    "0": "8907606",
                                    "1": "6132.63"
                                },
                                {
                                    "0": "8909123",
                                    "1": "12548.24"
                                },
                                {
                                    "0": "8912663",
                                    "1": "170364.65"
                                },
                                {
                                    "0": "8913514",
                                    "1": "91447.36"
                                },
                                {
                                    "0": "8921793",
                                    "1": "20742.50"
                                },
                                {
                                    "0": "9021332",
                                    "1": "189355.32"
                                },
                                {
                                    "0": "9021423",
                                    "1": "168348.96"
                                },
                                {
                                    "0": "9032331",
                                    "1": "27697.32"
                                },
                                {
                                    "0": "9039573",
                                    "1": "16450.19"
                                },
                                {
                                    "0": "9047996",
                                    "1": "189355.32"
                                },
                                {
                                    "0": "9051375",
                                    "1": "215376.59"
                                },
                                {
                                    "0": "9051818",
                                    "1": "179487.36"
                                },
                                {
                                    "0": "9051820",
                                    "1": "168383.40"
                                },
                                {
                                    "0": "9054119",
                                    "1": "82824.84"
                                },
                                {
                                    "0": "9055486",
                                    "1": "189355.32"
                                },
                                {
                                    "0": "9056296",
                                    "1": "200334.60"
                                },
                                {
                                    "0": "9070462",
                                    "1": "109193.16"
                                },
                                {
                                    "0": "9070474",
                                    "1": "108838.45"
                                },
                                {
                                    "0": "9073701",
                                    "1": "196656.04"
                                },
                                {
                                    "0": "9077836",
                                    "1": "83493.75"
                                },
                                {
                                    "0": "9078567",
                                    "1": "39089.03"
                                },
                                {
                                    "0": "9078842",
                                    "1": "185461.70"
                                },
                                {
                                    "0": "9083988",
                                    "1": "9762.66"
                                },
                                {
                                    "0": "9087764",
                                    "1": "46332.93"
                                },
                                {
                                    "0": "9088249",
                                    "1": "171065.98"
                                },
                                {
                                    "0": "9114165",
                                    "1": "109193.16"
                                },
                                {
                                    "0": "9114177",
                                    "1": "109193.16"
                                },
                                {
                                    "0": "9122942",
                                    "1": "207023.98"
                                },
                                {
                                    "0": "9136967",
                                    "1": "14391.00"
                                },
                                {
                                    "0": "9153549",
                                    "1": "181247.04"
                                },
                                {
                                    "0": "9153783",
                                    "1": "171065.98"
                                },
                                {
                                    "0": "9158276",
                                    "1": "222838.58"
                                },
                                {
                                    "0": "9158616",
                                    "1": "236838.41"
                                },
                                {
                                    "0": "9166704",
                                    "1": "171065.98"
                                },
                                {
                                    "0": "9166895",
                                    "1": "200334.60"
                                },
                                {
                                    "0": "9171280",
                                    "1": "240518.12"
                                },
                                {
                                    "0": "9176606",
                                    "1": "236859.11"
                                },
                                {
                                    "0": "9177052",
                                    "1": "153870.36"
                                },
                                {
                                    "0": "9177430",
                                    "1": "222197.65"
                                },
                                {
                                    "0": "9181376",
                                    "1": "196656.04"
                                },
                                {
                                    "0": "9181479",
                                    "1": "196798.84"
                                },
                                {
                                    "0": "9181558",
                                    "1": "222805.14"
                                },
                                {
                                    "0": "9182356",
                                    "1": "146129.30"
                                },
                                {
                                    "0": "9185047",
                                    "1": "146129.30"
                                },
                                {
                                    "0": "9186950",
                                    "1": "87297.19"
                                },
                                {
                                    "0": "9188790",
                                    "1": "134316.00"
                                },
                                {
                                    "0": "9188805",
                                    "1": "134316.00"
                                },
                                {
                                    "0": "9190858",
                                    "1": "153870.36"
                                },
                                {
                                    "0": "9203291",
                                    "1": "207023.98"
                                },
                                {
                                    "0": "9203588",
                                    "1": "206992.92"
                                },
                                {
                                    "0": "9205976",
                                    "1": "186269.06"
                                },
                                {
                                    "0": "9206011",
                                    "1": "186620.83"
                                },
                                {
                                    "0": "9209506",
                                    "1": "217220.41"
                                },
                                {
                                    "0": "9209518",
                                    "1": "217220.41"
                                },
                                {
                                    "0": "9210438",
                                    "1": "210572.22"
                                },
                                {
                                    "0": "9210440",
                                    "1": "210572.22"
                                },
                                {
                                    "0": "9213806",
                                    "1": "200915.28"
                                },
                                {
                                    "0": "9213818",
                                    "1": "200915.28"
                                },
                                {
                                    "0": "9229398",
                                    "1": "222711.90"
                                },
                                {
                                    "0": "9229403",
                                    "1": "222711.90"
                                },
                                {
                                    "0": "9233167",
                                    "1": "152965.12"
                                },
                                {
                                    "0": "9233246",
                                    "1": "232275.74"
                                },
                                {
                                    "0": "9237307",
                                    "1": "185915.41"
                                },
                                {
                                    "0": "9237319",
                                    "1": "185915.41"
                                },
                                {
                                    "0": "9238519",
                                    "1": "217760.09"
                                },
                                {
                                    "0": "9243473",
                                    "1": "186612.18"
                                },
                                {
                                    "0": "9250220",
                                    "1": "217220.41"
                                },
                                {
                                    "0": "9250232",
                                    "1": "217220.41"
                                },
                                {
                                    "0": "9252228",
                                    "1": "214857.72"
                                },
                                {
                                    "0": "9267663",
                                    "1": "230404.15"
                                },
                                {
                                    "0": "9267687",
                                    "1": "217640.39"
                                },
                                {
                                    "0": "9267699",
                                    "1": "217640.39"
                                },
                                {
                                    "0": "9267912",
                                    "1": "210980.69"
                                },
                                {
                                    "0": "9267924",
                                    "1": "210969.17"
                                },
                                {
                                    "0": "9272888",
                                    "1": "217220.41"
                                },
                                {
                                    "0": "9272890",
                                    "1": "217220.41"
                                },
                                {
                                    "0": "9273909",
                                    "1": "224462.24"
                                },
                                {
                                    "0": "9277826",
                                    "1": "210433.26"
                                },
                                {
                                    "0": "9277838",
                                    "1": "210485.89"
                                },
                                {
                                    "0": "9279329",
                                    "1": "230970.05"
                                },
                                {
                                    "0": "9283875",
                                    "1": "224462.24"
                                },
                                {
                                    "0": "9283887",
                                    "1": "224462.24"
                                },
                                {
                                    "0": "9284738",
                                    "1": "224462.24"
                                },
                                {
                                    "0": "9284740",
                                    "1": "224462.24"
                                },
                                {
                                    "0": "9284776",
                                    "1": "230866.11"
                                },
                                {
                                    "0": "9285615",
                                    "1": "210475.37"
                                },
                                {
                                    "0": "9285627",
                                    "1": "210443.79"
                                },
                                {
                                    "0": "9285639",
                                    "1": "210464.84"
                                },
                                {
                                    "0": "9285641",
                                    "1": "210530.10"
                                },
                                {
                                    "0": "9289908",
                                    "1": "183110.76"
                                },
                                {
                                    "0": "9289910",
                                    "1": "183110.76"
                                },
                                {
                                    "0": "9291133",
                                    "1": "224462.24"
                                },
                                {
                                    "0": "9293521",
                                    "1": "224495.92"
                                },
                                {
                                    "0": "9293571",
                                    "1": "220192.94"
                                },
                                {
                                    "0": "9293595",
                                    "1": "220192.94"
                                },
                                {
                                    "0": "9293624",
                                    "1": "232389.42"
                                },
                                {
                                    "0": "9293650",
                                    "1": "222711.90"
                                },
                                {
                                    "0": "9293662",
                                    "1": "222711.90"
                                },
                                {
                                    "0": "9293894",
                                    "1": "222002.22"
                                },
                                {
                                    "0": "9293909",
                                    "1": "222002.22"
                                },
                                {
                                    "0": "9293911",
                                    "1": "222002.22"
                                },
                                {
                                    "0": "9294343",
                                    "1": "186678.79"
                                },
                                {
                                    "0": "9294355",
                                    "1": "186678.79"
                                },
                                {
                                    "0": "9294367",
                                    "1": "186678.79"
                                },
                                {
                                    "0": "9295842",
                                    "1": "240486.58"
                                },
                                {
                                    "0": "9303223",
                                    "1": "230866.11"
                                },
                                {
                                    "0": "9303558",
                                    "1": "218615.78"
                                },
                                {
                                    "0": "9308807",
                                    "1": "183110.76"
                                },
                                {
                                    "0": "9311866",
                                    "1": "211068.37"
                                },
                                {
                                    "0": "9312470",
                                    "1": "240518.12"
                                },
                                {
                                    "0": "9312822",
                                    "1": "210582.75"
                                },
                                {
                                    "0": "9312834",
                                    "1": "210582.75"
                                },
                                {
                                    "0": "9318462",
                                    "1": "209198.23"
                                },
                                {
                                    "0": "9318474",
                                    "1": "209198.23"
                                },
                                {
                                    "0": "9318503",
                                    "1": "164208.00"
                                },
                                {
                                    "0": "9323780",
                                    "1": "159166.08"
                                },
                                {
                                    "0": "9325178",
                                    "1": "183110.76"
                                },
                                {
                                    "0": "9325180",
                                    "1": "183110.76"
                                },
                                {
                                    "0": "9325221",
                                    "1": "230866.11"
                                },
                                {
                                    "0": "9325427",
                                    "1": "159166.08"
                                },
                                {
                                    "0": "9325439",
                                    "1": "159166.08"
                                },
                                {
                                    "0": "9325764",
                                    "1": "145340.04"
                                },
                                {
                                    "0": "9325776",
                                    "1": "145340.04"
                                },
                                {
                                    "0": "9325790",
                                    "1": "154366.24"
                                },
                                {
                                    "0": "9326079",
                                    "1": "233615.24"
                                },
                                {
                                    "0": "9326081",
                                    "1": "233615.24"
                                },
                                {
                                    "0": "9326093",
                                    "1": "233615.24"
                                },
                                {
                                    "0": "9327748",
                                    "1": "211055.72"
                                },
                                {
                                    "0": "9329461",
                                    "1": "210572.22"
                                },
                                {
                                    "0": "9329473",
                                    "1": "210572.22"
                                },
                                {
                                    "0": "9335953",
                                    "1": "224462.24"
                                },
                                {
                                    "0": "9336050",
                                    "1": "210572.22"
                                },
                                {
                                    "0": "9336062",
                                    "1": "210572.22"
                                },
                                {
                                    "0": "9336074",
                                    "1": "210561.69"
                                },
                                {
                                    "0": "9336086",
                                    "1": "210561.69"
                                },
                                {
                                    "0": "9338694",
                                    "1": "224462.24"
                                },
                                {
                                    "0": "9338723",
                                    "1": "224462.24"
                                },
                                {
                                    "0": "9338876",
                                    "1": "154391.13"
                                },
                                {
                                    "0": "9338888",
                                    "1": "157710.84"
                                },
                                {
                                    "0": "9338890",
                                    "1": "157710.84"
                                },
                                {
                                    "0": "9339844",
                                    "1": "230866.11"
                                },
                                {
                                    "0": "9340776",
                                    "1": "181008.00"
                                },
                                {
                                    "0": "9355185",
                                    "1": "221034.47"
                                },
                                {
                                    "0": "9355202",
                                    "1": "224462.24"
                                },
                                {
                                    "0": "9355214",
                                    "1": "224462.24"
                                },
                                {
                                    "0": "9360568",
                                    "1": "154391.13"
                                },
                                {
                                    "0": "9362267",
                                    "1": "217220.41"
                                },
                                {
                                    "0": "9363948",
                                    "1": "221034.47"
                                },
                                {
                                    "0": "9363950",
                                    "1": "221034.47"
                                },
                                {
                                    "0": "9367580",
                                    "1": "201588.74"
                                },
                                {
                                    "0": "9367592",
                                    "1": "201588.74"
                                },
                                {
                                    "0": "9367607",
                                    "1": "201588.74"
                                },
                                {
                                    "0": "9368900",
                                    "1": "201588.74"
                                },
                                {
                                    "0": "9372315",
                                    "1": "181008.00"
                                },
                                {
                                    "0": "9372810",
                                    "1": "201588.74"
                                },
                                {
                                    "0": "9377511",
                                    "1": "259258.14"
                                },
                                {
                                    "0": "9377523",
                                    "1": "259258.14"
                                },
                                {
                                    "0": "9381249",
                                    "1": "224462.24"
                                },
                                {
                                    "0": "9381677",
                                    "1": "221034.47"
                                },
                                {
                                    "0": "9382102",
                                    "1": "164077.38"
                                },
                                {
                                    "0": "9382396",
                                    "1": "201588.74"
                                },
                                {
                                    "0": "9383429",
                                    "1": "244677.80"
                                },
                                {
                                    "0": "9391579",
                                    "1": "208120.71"
                                },
                                {
                                    "0": "9391581",
                                    "1": "210487.98"
                                },
                                {
                                    "0": "9391593",
                                    "1": "210487.98"
                                },
                                {
                                    "0": "9392341",
                                    "1": "154391.13"
                                },
                                {
                                    "0": "9392353",
                                    "1": "154391.13"
                                },
                                {
                                    "0": "9395628",
                                    "1": "204822.68"
                                },
                                {
                                    "0": "9395630",
                                    "1": "204822.68"
                                },
                                {
                                    "0": "9397987",
                                    "1": "222711.90"
                                },
                                {
                                    "0": "9397999",
                                    "1": "222711.90"
                                },
                                {
                                    "0": "9402744",
                                    "1": "159166.08"
                                },
                                {
                                    "0": "9403217",
                                    "1": "201588.74"
                                },
                                {
                                    "0": "9403279",
                                    "1": "157710.84"
                                },
                                {
                                    "0": "9407665",
                                    "1": "71971.20"
                                },
                                {
                                    "0": "9412567",
                                    "1": "181008.00"
                                },
                                {
                                    "0": "9420045",
                                    "1": "240528.63"
                                },
                                {
                                    "0": "9426374",
                                    "1": "224462.24"
                                },
                                {
                                    "0": "9427550",
                                    "1": "76147.50"
                                },
                                {
                                    "0": "9427562",
                                    "1": "76161.35"
                                },
                                {
                                    "0": "9427938",
                                    "1": "183321.12"
                                },
                                {
                                    "0": "9427940",
                                    "1": "183220.95"
                                },
                                {
                                    "0": "9427952",
                                    "1": "183210.93"
                                },
                                {
                                    "0": "9430519",
                                    "1": "222905.45"
                                },
                                {
                                    "0": "9431850",
                                    "1": "183110.76"
                                },
                                {
                                    "0": "9432907",
                                    "1": "183110.76"
                                },
                                {
                                    "0": "9432919",
                                    "1": "183110.76"
                                },
                                {
                                    "0": "9441556",
                                    "1": "225763.55"
                                },
                                {
                                    "0": "9441594",
                                    "1": "225808.71"
                                },
                                {
                                    "0": "9441609",
                                    "1": "225808.71"
                                },
                                {
                                    "0": "9441611",
                                    "1": "225808.71"
                                },
                                {
                                    "0": "9441623",
                                    "1": "225774.84"
                                },
                                {
                                    "0": "9442627",
                                    "1": "34007.74"
                                },
                                {
                                    "0": "9445980",
                                    "1": "244688.33"
                                },
                                {
                                    "0": "9446881",
                                    "1": "164372.21"
                                },
                                {
                                    "0": "9448061",
                                    "1": "181008.00"
                                },
                                {
                                    "0": "9448138",
                                    "1": "183110.76"
                                },
                                {
                                    "0": "9451006",
                                    "1": "183110.76"
                                },
                                {
                                    "0": "9454711",
                                    "1": "202071.87"
                                },
                                {
                                    "0": "9454723",
                                    "1": "202071.87"
                                },
                                {
                                    "0": "9460887",
                                    "1": "222611.68"
                                },
                                {
                                    "0": "9464455",
                                    "1": "224462.24"
                                },
                                {
                                    "0": "9476733",
                                    "1": "222611.68"
                                },
                                {
                                    "0": "9476745",
                                    "1": "222723.04"
                                },
                                {
                                    "0": "9476757",
                                    "1": "222711.90"
                                },
                                {
                                    "0": "9477919",
                                    "1": "224462.24"
                                },
                                {
                                    "0": "9477921",
                                    "1": "224462.24"
                                },
                                {
                                    "0": "9481049",
                                    "1": "140911.47"
                                },
                                {
                                    "0": "9481051",
                                    "1": "140894.62"
                                },
                                {
                                    "0": "9481075",
                                    "1": "140903.04"
                                },
                                {
                                    "0": "9483786",
                                    "1": "183110.76"
                                },
                                {
                                    "0": "9491874",
                                    "1": "183052.63"
                                },
                                {
                                    "0": "9491886",
                                    "1": "183543.31"
                                },
                                {
                                    "0": "9491898",
                                    "1": "183182.81"
                                },
                                {
                                    "0": "9494905",
                                    "1": "222002.22"
                                },
                                {
                                    "0": "9498597",
                                    "1": "230970.05"
                                },
                                {
                                    "0": "9502427",
                                    "1": "201588.74"
                                },
                                {
                                    "0": "9505053",
                                    "1": "255004.33"
                                },
                                {
                                    "0": "9505065",
                                    "1": "257376.06"
                                },
                                {
                                    "0": "9505089",
                                    "1": "257455.87"
                                },
                                {
                                    "0": "9505900",
                                    "1": "159166.08"
                                },
                                {
                                    "0": "9509401",
                                    "1": "159166.08"
                                },
                                {
                                    "0": "9514987",
                                    "1": "140911.47"
                                },
                                {
                                    "0": "9514999",
                                    "1": "140911.47"
                                },
                                {
                                    "0": "9515008",
                                    "1": "140911.47"
                                },
                                {
                                    "0": "9515474",
                                    "1": "101007.41"
                                },
                                {
                                    "0": "9519121",
                                    "1": "224462.24"
                                },
                                {
                                    "0": "9519145",
                                    "1": "224462.24"
                                },
                                {
                                    "0": "9531739",
                                    "1": "220979.21"
                                },
                                {
                                    "0": "9531741",
                                    "1": "220979.21"
                                },
                                {
                                    "0": "9536818",
                                    "1": "221946.72"
                                },
                                {
                                    "0": "9539236",
                                    "1": "222711.90"
                                },
                                {
                                    "0": "9542283",
                                    "1": "181008.00"
                                },
                                {
                                    "0": "9542295",
                                    "1": "181008.00"
                                },
                                {
                                    "0": "9544918",
                                    "1": "221034.47"
                                },
                                {
                                    "0": "9553115",
                                    "1": "224462.24"
                                },
                                {
                                    "0": "9554200",
                                    "1": "224495.92"
                                },
                                {
                                    "0": "9561954",
                                    "1": "221957.82"
                                },
                                {
                                    "0": "9590589",
                                    "1": "210572.22"
                                },
                                {
                                    "0": "9610406",
                                    "1": "220192.94"
                                },
                                {
                                    "0": "9610444",
                                    "1": "220192.94"
                                },
                                {
                                    "0": "9650743",
                                    "1": "224495.92"
                                },
                                {
                                    "0": "9660798",
                                    "1": "225774.84"
                                },
                                {
                                    "0": "9663295",
                                    "1": "210572.22"
                                },
                                {
                                    "0": "9663300",
                                    "1": "210572.22"
                                },
                                {
                                    "0": "9667344",
                                    "1": "224495.92"
                                },
                                {
                                    "0": "9668491",
                                    "1": "145080.54"
                                },
                                {
                                    "0": "9668506",
                                    "1": "145080.54"
                                },
                                {
                                    "0": "9669029",
                                    "1": "251143.57"
                                },
                                {
                                    "0": "9669031",
                                    "1": "251143.57"
                                },
                                {
                                    "0": "9672404",
                                    "1": "225763.55"
                                },
                                {
                                    "0": "9672416",
                                    "1": "225774.84"
                                },
                                {
                                    "0": "9673379",
                                    "1": "210165.54"
                                },
                                {
                                    "0": "9673381",
                                    "1": "210089.10"
                                },
                                {
                                    "0": "9674165",
                                    "1": "233604.95"
                                },
                                {
                                    "0": "9674177",
                                    "1": "233604.95"
                                },
                                {
                                    "0": "9674189",
                                    "1": "233604.95"
                                },
                                {
                                    "0": "9675573",
                                    "1": "224495.92"
                                },
                                {
                                    "0": "9675585",
                                    "1": "224495.92"
                                },
                                {
                                    "0": "9676864",
                                    "1": "272052.79"
                                },
                                {
                                    "0": "9676876",
                                    "1": "272052.79"
                                },
                                {
                                    "0": "9681431",
                                    "1": "251143.57"
                                },
                                {
                                    "0": "9690523",
                                    "1": "256611.50"
                                },
                                {
                                    "0": "9700201",
                                    "1": "23491.98"
                                },
                                {
                                    "0": "9701140",
                                    "1": "224495.92"
                                },
                                {
                                    "0": "9702405",
                                    "1": "233604.95"
                                },
                                {
                                    "0": "9702417",
                                    "1": "233604.95"
                                },
                                {
                                    "0": "9702429",
                                    "1": "233604.95"
                                },
                                {
                                    "0": "9702431",
                                    "1": "233604.95"
                                },
                                {
                                    "0": "9702443",
                                    "1": "279183.12"
                                },
                                {
                                    "0": "9706994",
                                    "1": "210572.22"
                                },
                                {
                                    "0": "9713882",
                                    "1": "224495.92"
                                }
                            ]
                        },
                        "text/html": [
                            "<table>",
                            "<tr><th>lrno</th><th>Volume</th></tr>",
                            "<tr><td>7903093</td><td>141082.45</td></tr>",
                            "<tr><td>7917551</td><td>199358.41</td></tr>",
                            "<tr><td>7917563</td><td>199227.60</td></tr>",
                            "<tr><td>8016548</td><td>199227.60</td></tr>",
                            "<tr><td>8016550</td><td>199227.60</td></tr>",
                            "<tr><td>8017671</td><td>10407.74</td></tr>",
                            "<tr><td>8018168</td><td>123703.17</td></tr>",
                            "<tr><td>8131128</td><td>29622.49</td></tr>",
                            "<tr><td>8202367</td><td>111815.20</td></tr>",
                            "<tr><td>8204951</td><td>177585.82</td></tr>",
                            "<tr><td>8204963</td><td>177633.26</td></tr>",
                            "<tr><td>8204975</td><td>177633.26</td></tr>",
                            "<tr><td>8211514</td><td>125215.20</td></tr>",
                            "<tr><td>8309579</td><td>136718.20</td></tr>",
                            "<tr><td>8309581</td><td>195122.71</td></tr>",
                            "<tr><td>8313324</td><td>74430.72</td></tr>",
                            "<tr><td>8319718</td><td>85501.43</td></tr>",
                            "<tr><td>8320779</td><td>202434.75</td></tr>",
                            "<tr><td>8321333</td><td>199227.60</td></tr>",
                            "<tr><td>8321905</td><td>188737.72</td></tr>",
                            "<tr><td>8502468</td><td>118611.88</td></tr>",
                            "<tr><td>8505355</td><td>12095.62</td></tr>",
                            "<tr><td>8506749</td><td>84301.43</td></tr>",
                            "<tr><td>8507664</td><td>115505.47</td></tr>",
                            "<tr><td>8508826</td><td>10394.22</td></tr>",
                            "<tr><td>8508905</td><td>143269.88</td></tr>",
                            "<tr><td>8508917</td><td>143123.68</td></tr>",
                            "<tr><td>8511263</td><td>101844.65</td></tr>",
                            "<tr><td>8513510</td><td>140715.47</td></tr>",
                            "<tr><td>8513560</td><td>84301.43</td></tr>",
                            "<tr><td>8514083</td><td>77173.87</td></tr>",
                            "<tr><td>8517279</td><td>81686.96</td></tr>",
                            "<tr><td>8517944</td><td>79990.85</td></tr>",
                            "<tr><td>8520680</td><td>85241.90</td></tr>",
                            "<tr><td>8602579</td><td>85241.90</td></tr>",
                            "<tr><td>8602775</td><td>120903.58</td></tr>",
                            "<tr><td>8605167</td><td>84301.43</td></tr>",
                            "<tr><td>8606056</td><td>82047.13</td></tr>",
                            "<tr><td>8607749</td><td>116555.43</td></tr>",
                            "<tr><td>8608157</td><td>155683.63</td></tr>",
                            "<tr><td>8608169</td><td>155742.79</td></tr>",
                            "<tr><td>8613188</td><td>160304.42</td></tr>",
                            "<tr><td>8701325</td><td>11970.55</td></tr>",
                            "<tr><td>8705307</td><td>38420.66</td></tr>",
                            "<tr><td>8708244</td><td>167594.25</td></tr>",
                            "<tr><td>8708907</td><td>187964.68</td></tr>",
                            "<tr><td>8709119</td><td>133345.53</td></tr>",
                            "<tr><td>8709121</td><td>133345.53</td></tr>",
                            "<tr><td>8709157</td><td>170114.49</td></tr>",
                            "<tr><td>8716162</td><td>15134.00</td></tr>",
                            "<tr><td>8808082</td><td>24059.02</td></tr>",
                            "<tr><td>8822090</td><td>12616.13</td></tr>",
                            "<tr><td>8822117</td><td>33480.00</td></tr>",
                            "<tr><td>8905165</td><td>8895.74</td></tr>",
                            "<tr><td>8905426</td><td>189355.32</td></tr>",
                            "<tr><td>8907606</td><td>6132.63</td></tr>",
                            "<tr><td>8909123</td><td>12548.24</td></tr>",
                            "<tr><td>8912663</td><td>170364.65</td></tr>",
                            "<tr><td>8913514</td><td>91447.36</td></tr>",
                            "<tr><td>8921793</td><td>20742.50</td></tr>",
                            "<tr><td>9021332</td><td>189355.32</td></tr>",
                            "<tr><td>9021423</td><td>168348.96</td></tr>",
                            "<tr><td>9032331</td><td>27697.32</td></tr>",
                            "<tr><td>9039573</td><td>16450.19</td></tr>",
                            "<tr><td>9047996</td><td>189355.32</td></tr>",
                            "<tr><td>9051375</td><td>215376.59</td></tr>",
                            "<tr><td>9051818</td><td>179487.36</td></tr>",
                            "<tr><td>9051820</td><td>168383.40</td></tr>",
                            "<tr><td>9054119</td><td>82824.84</td></tr>",
                            "<tr><td>9055486</td><td>189355.32</td></tr>",
                            "<tr><td>9056296</td><td>200334.60</td></tr>",
                            "<tr><td>9070462</td><td>109193.16</td></tr>",
                            "<tr><td>9070474</td><td>108838.45</td></tr>",
                            "<tr><td>9073701</td><td>196656.04</td></tr>",
                            "<tr><td>9077836</td><td>83493.75</td></tr>",
                            "<tr><td>9078567</td><td>39089.03</td></tr>",
                            "<tr><td>9078842</td><td>185461.70</td></tr>",
                            "<tr><td>9083988</td><td>9762.66</td></tr>",
                            "<tr><td>9087764</td><td>46332.93</td></tr>",
                            "<tr><td>9088249</td><td>171065.98</td></tr>",
                            "<tr><td>9114165</td><td>109193.16</td></tr>",
                            "<tr><td>9114177</td><td>109193.16</td></tr>",
                            "<tr><td>9122942</td><td>207023.98</td></tr>",
                            "<tr><td>9136967</td><td>14391.00</td></tr>",
                            "<tr><td>9153549</td><td>181247.04</td></tr>",
                            "<tr><td>9153783</td><td>171065.98</td></tr>",
                            "<tr><td>9158276</td><td>222838.58</td></tr>",
                            "<tr><td>9158616</td><td>236838.41</td></tr>",
                            "<tr><td>9166704</td><td>171065.98</td></tr>",
                            "<tr><td>9166895</td><td>200334.60</td></tr>",
                            "<tr><td>9171280</td><td>240518.12</td></tr>",
                            "<tr><td>9176606</td><td>236859.11</td></tr>",
                            "<tr><td>9177052</td><td>153870.36</td></tr>",
                            "<tr><td>9177430</td><td>222197.65</td></tr>",
                            "<tr><td>9181376</td><td>196656.04</td></tr>",
                            "<tr><td>9181479</td><td>196798.84</td></tr>",
                            "<tr><td>9181558</td><td>222805.14</td></tr>",
                            "<tr><td>9182356</td><td>146129.30</td></tr>",
                            "<tr><td>9185047</td><td>146129.30</td></tr>",
                            "<tr><td>9186950</td><td>87297.19</td></tr>",
                            "<tr><td>9188790</td><td>134316.00</td></tr>",
                            "<tr><td>9188805</td><td>134316.00</td></tr>",
                            "<tr><td>9190858</td><td>153870.36</td></tr>",
                            "<tr><td>9203291</td><td>207023.98</td></tr>",
                            "<tr><td>9203588</td><td>206992.92</td></tr>",
                            "<tr><td>9205976</td><td>186269.06</td></tr>",
                            "<tr><td>9206011</td><td>186620.83</td></tr>",
                            "<tr><td>9209506</td><td>217220.41</td></tr>",
                            "<tr><td>9209518</td><td>217220.41</td></tr>",
                            "<tr><td>9210438</td><td>210572.22</td></tr>",
                            "<tr><td>9210440</td><td>210572.22</td></tr>",
                            "<tr><td>9213806</td><td>200915.28</td></tr>",
                            "<tr><td>9213818</td><td>200915.28</td></tr>",
                            "<tr><td>9229398</td><td>222711.90</td></tr>",
                            "<tr><td>9229403</td><td>222711.90</td></tr>",
                            "<tr><td>9233167</td><td>152965.12</td></tr>",
                            "<tr><td>9233246</td><td>232275.74</td></tr>",
                            "<tr><td>9237307</td><td>185915.41</td></tr>",
                            "<tr><td>9237319</td><td>185915.41</td></tr>",
                            "<tr><td>9238519</td><td>217760.09</td></tr>",
                            "<tr><td>9243473</td><td>186612.18</td></tr>",
                            "<tr><td>9250220</td><td>217220.41</td></tr>",
                            "<tr><td>9250232</td><td>217220.41</td></tr>",
                            "<tr><td>9252228</td><td>214857.72</td></tr>",
                            "<tr><td>9267663</td><td>230404.15</td></tr>",
                            "<tr><td>9267687</td><td>217640.39</td></tr>",
                            "<tr><td>9267699</td><td>217640.39</td></tr>",
                            "<tr><td>9267912</td><td>210980.69</td></tr>",
                            "<tr><td>9267924</td><td>210969.17</td></tr>",
                            "<tr><td>9272888</td><td>217220.41</td></tr>",
                            "<tr><td>9272890</td><td>217220.41</td></tr>",
                            "<tr><td>9273909</td><td>224462.24</td></tr>",
                            "<tr><td>9277826</td><td>210433.26</td></tr>",
                            "<tr><td>9277838</td><td>210485.89</td></tr>",
                            "<tr><td>9279329</td><td>230970.05</td></tr>",
                            "<tr><td>9283875</td><td>224462.24</td></tr>",
                            "<tr><td>9283887</td><td>224462.24</td></tr>",
                            "<tr><td>9284738</td><td>224462.24</td></tr>",
                            "<tr><td>9284740</td><td>224462.24</td></tr>",
                            "<tr><td>9284776</td><td>230866.11</td></tr>",
                            "<tr><td>9285615</td><td>210475.37</td></tr>",
                            "<tr><td>9285627</td><td>210443.79</td></tr>",
                            "<tr><td>9285639</td><td>210464.84</td></tr>",
                            "<tr><td>9285641</td><td>210530.10</td></tr>",
                            "<tr><td>9289908</td><td>183110.76</td></tr>",
                            "<tr><td>9289910</td><td>183110.76</td></tr>",
                            "<tr><td>9291133</td><td>224462.24</td></tr>",
                            "<tr><td>9293521</td><td>224495.92</td></tr>",
                            "<tr><td>9293571</td><td>220192.94</td></tr>",
                            "<tr><td>9293595</td><td>220192.94</td></tr>",
                            "<tr><td>9293624</td><td>232389.42</td></tr>",
                            "<tr><td>9293650</td><td>222711.90</td></tr>",
                            "<tr><td>9293662</td><td>222711.90</td></tr>",
                            "<tr><td>9293894</td><td>222002.22</td></tr>",
                            "<tr><td>9293909</td><td>222002.22</td></tr>",
                            "<tr><td>9293911</td><td>222002.22</td></tr>",
                            "<tr><td>9294343</td><td>186678.79</td></tr>",
                            "<tr><td>9294355</td><td>186678.79</td></tr>",
                            "<tr><td>9294367</td><td>186678.79</td></tr>",
                            "<tr><td>9295842</td><td>240486.58</td></tr>",
                            "<tr><td>9303223</td><td>230866.11</td></tr>",
                            "<tr><td>9303558</td><td>218615.78</td></tr>",
                            "<tr><td>9308807</td><td>183110.76</td></tr>",
                            "<tr><td>9311866</td><td>211068.37</td></tr>",
                            "<tr><td>9312470</td><td>240518.12</td></tr>",
                            "<tr><td>9312822</td><td>210582.75</td></tr>",
                            "<tr><td>9312834</td><td>210582.75</td></tr>",
                            "<tr><td>9318462</td><td>209198.23</td></tr>",
                            "<tr><td>9318474</td><td>209198.23</td></tr>",
                            "<tr><td>9318503</td><td>164208.00</td></tr>",
                            "<tr><td>9323780</td><td>159166.08</td></tr>",
                            "<tr><td>9325178</td><td>183110.76</td></tr>",
                            "<tr><td>9325180</td><td>183110.76</td></tr>",
                            "<tr><td>9325221</td><td>230866.11</td></tr>",
                            "<tr><td>9325427</td><td>159166.08</td></tr>",
                            "<tr><td>9325439</td><td>159166.08</td></tr>",
                            "<tr><td>9325764</td><td>145340.04</td></tr>",
                            "<tr><td>9325776</td><td>145340.04</td></tr>",
                            "<tr><td>9325790</td><td>154366.24</td></tr>",
                            "<tr><td>9326079</td><td>233615.24</td></tr>",
                            "<tr><td>9326081</td><td>233615.24</td></tr>",
                            "<tr><td>9326093</td><td>233615.24</td></tr>",
                            "<tr><td>9327748</td><td>211055.72</td></tr>",
                            "<tr><td>9329461</td><td>210572.22</td></tr>",
                            "<tr><td>9329473</td><td>210572.22</td></tr>",
                            "<tr><td>9335953</td><td>224462.24</td></tr>",
                            "<tr><td>9336050</td><td>210572.22</td></tr>",
                            "<tr><td>9336062</td><td>210572.22</td></tr>",
                            "<tr><td>9336074</td><td>210561.69</td></tr>",
                            "<tr><td>9336086</td><td>210561.69</td></tr>",
                            "<tr><td>9338694</td><td>224462.24</td></tr>",
                            "<tr><td>9338723</td><td>224462.24</td></tr>",
                            "<tr><td>9338876</td><td>154391.13</td></tr>",
                            "<tr><td>9338888</td><td>157710.84</td></tr>",
                            "<tr><td>9338890</td><td>157710.84</td></tr>",
                            "<tr><td>9339844</td><td>230866.11</td></tr>",
                            "<tr><td>9340776</td><td>181008.00</td></tr>",
                            "<tr><td>9355185</td><td>221034.47</td></tr>",
                            "<tr><td>9355202</td><td>224462.24</td></tr>",
                            "<tr><td>9355214</td><td>224462.24</td></tr>",
                            "<tr><td>9360568</td><td>154391.13</td></tr>",
                            "<tr><td>9362267</td><td>217220.41</td></tr>",
                            "<tr><td>9363948</td><td>221034.47</td></tr>",
                            "<tr><td>9363950</td><td>221034.47</td></tr>",
                            "<tr><td>9367580</td><td>201588.74</td></tr>",
                            "<tr><td>9367592</td><td>201588.74</td></tr>",
                            "<tr><td>9367607</td><td>201588.74</td></tr>",
                            "<tr><td>9368900</td><td>201588.74</td></tr>",
                            "<tr><td>9372315</td><td>181008.00</td></tr>",
                            "<tr><td>9372810</td><td>201588.74</td></tr>",
                            "<tr><td>9377511</td><td>259258.14</td></tr>",
                            "<tr><td>9377523</td><td>259258.14</td></tr>",
                            "<tr><td>9381249</td><td>224462.24</td></tr>",
                            "<tr><td>9381677</td><td>221034.47</td></tr>",
                            "<tr><td>9382102</td><td>164077.38</td></tr>",
                            "<tr><td>9382396</td><td>201588.74</td></tr>",
                            "<tr><td>9383429</td><td>244677.80</td></tr>",
                            "<tr><td>9391579</td><td>208120.71</td></tr>",
                            "<tr><td>9391581</td><td>210487.98</td></tr>",
                            "<tr><td>9391593</td><td>210487.98</td></tr>",
                            "<tr><td>9392341</td><td>154391.13</td></tr>",
                            "<tr><td>9392353</td><td>154391.13</td></tr>",
                            "<tr><td>9395628</td><td>204822.68</td></tr>",
                            "<tr><td>9395630</td><td>204822.68</td></tr>",
                            "<tr><td>9397987</td><td>222711.90</td></tr>",
                            "<tr><td>9397999</td><td>222711.90</td></tr>",
                            "<tr><td>9402744</td><td>159166.08</td></tr>",
                            "<tr><td>9403217</td><td>201588.74</td></tr>",
                            "<tr><td>9403279</td><td>157710.84</td></tr>",
                            "<tr><td>9407665</td><td>71971.20</td></tr>",
                            "<tr><td>9412567</td><td>181008.00</td></tr>",
                            "<tr><td>9420045</td><td>240528.63</td></tr>",
                            "<tr><td>9426374</td><td>224462.24</td></tr>",
                            "<tr><td>9427550</td><td>76147.50</td></tr>",
                            "<tr><td>9427562</td><td>76161.35</td></tr>",
                            "<tr><td>9427938</td><td>183321.12</td></tr>",
                            "<tr><td>9427940</td><td>183220.95</td></tr>",
                            "<tr><td>9427952</td><td>183210.93</td></tr>",
                            "<tr><td>9430519</td><td>222905.45</td></tr>",
                            "<tr><td>9431850</td><td>183110.76</td></tr>",
                            "<tr><td>9432907</td><td>183110.76</td></tr>",
                            "<tr><td>9432919</td><td>183110.76</td></tr>",
                            "<tr><td>9441556</td><td>225763.55</td></tr>",
                            "<tr><td>9441594</td><td>225808.71</td></tr>",
                            "<tr><td>9441609</td><td>225808.71</td></tr>",
                            "<tr><td>9441611</td><td>225808.71</td></tr>",
                            "<tr><td>9441623</td><td>225774.84</td></tr>",
                            "<tr><td>9442627</td><td>34007.74</td></tr>",
                            "<tr><td>9445980</td><td>244688.33</td></tr>",
                            "<tr><td>9446881</td><td>164372.21</td></tr>",
                            "<tr><td>9448061</td><td>181008.00</td></tr>",
                            "<tr><td>9448138</td><td>183110.76</td></tr>",
                            "<tr><td>9451006</td><td>183110.76</td></tr>",
                            "<tr><td>9454711</td><td>202071.87</td></tr>",
                            "<tr><td>9454723</td><td>202071.87</td></tr>",
                            "<tr><td>9460887</td><td>222611.68</td></tr>",
                            "<tr><td>9464455</td><td>224462.24</td></tr>",
                            "<tr><td>9476733</td><td>222611.68</td></tr>",
                            "<tr><td>9476745</td><td>222723.04</td></tr>",
                            "<tr><td>9476757</td><td>222711.90</td></tr>",
                            "<tr><td>9477919</td><td>224462.24</td></tr>",
                            "<tr><td>9477921</td><td>224462.24</td></tr>",
                            "<tr><td>9481049</td><td>140911.47</td></tr>",
                            "<tr><td>9481051</td><td>140894.62</td></tr>",
                            "<tr><td>9481075</td><td>140903.04</td></tr>",
                            "<tr><td>9483786</td><td>183110.76</td></tr>",
                            "<tr><td>9491874</td><td>183052.63</td></tr>",
                            "<tr><td>9491886</td><td>183543.31</td></tr>",
                            "<tr><td>9491898</td><td>183182.81</td></tr>",
                            "<tr><td>9494905</td><td>222002.22</td></tr>",
                            "<tr><td>9498597</td><td>230970.05</td></tr>",
                            "<tr><td>9502427</td><td>201588.74</td></tr>",
                            "<tr><td>9505053</td><td>255004.33</td></tr>",
                            "<tr><td>9505065</td><td>257376.06</td></tr>",
                            "<tr><td>9505089</td><td>257455.87</td></tr>",
                            "<tr><td>9505900</td><td>159166.08</td></tr>",
                            "<tr><td>9509401</td><td>159166.08</td></tr>",
                            "<tr><td>9514987</td><td>140911.47</td></tr>",
                            "<tr><td>9514999</td><td>140911.47</td></tr>",
                            "<tr><td>9515008</td><td>140911.47</td></tr>",
                            "<tr><td>9515474</td><td>101007.41</td></tr>",
                            "<tr><td>9519121</td><td>224462.24</td></tr>",
                            "<tr><td>9519145</td><td>224462.24</td></tr>",
                            "<tr><td>9531739</td><td>220979.21</td></tr>",
                            "<tr><td>9531741</td><td>220979.21</td></tr>",
                            "<tr><td>9536818</td><td>221946.72</td></tr>",
                            "<tr><td>9539236</td><td>222711.90</td></tr>",
                            "<tr><td>9542283</td><td>181008.00</td></tr>",
                            "<tr><td>9542295</td><td>181008.00</td></tr>",
                            "<tr><td>9544918</td><td>221034.47</td></tr>",
                            "<tr><td>9553115</td><td>224462.24</td></tr>",
                            "<tr><td>9554200</td><td>224495.92</td></tr>",
                            "<tr><td>9561954</td><td>221957.82</td></tr>",
                            "<tr><td>9590589</td><td>210572.22</td></tr>",
                            "<tr><td>9610406</td><td>220192.94</td></tr>",
                            "<tr><td>9610444</td><td>220192.94</td></tr>",
                            "<tr><td>9650743</td><td>224495.92</td></tr>",
                            "<tr><td>9660798</td><td>225774.84</td></tr>",
                            "<tr><td>9663295</td><td>210572.22</td></tr>",
                            "<tr><td>9663300</td><td>210572.22</td></tr>",
                            "<tr><td>9667344</td><td>224495.92</td></tr>",
                            "<tr><td>9668491</td><td>145080.54</td></tr>",
                            "<tr><td>9668506</td><td>145080.54</td></tr>",
                            "<tr><td>9669029</td><td>251143.57</td></tr>",
                            "<tr><td>9669031</td><td>251143.57</td></tr>",
                            "<tr><td>9672404</td><td>225763.55</td></tr>",
                            "<tr><td>9672416</td><td>225774.84</td></tr>",
                            "<tr><td>9673379</td><td>210165.54</td></tr>",
                            "<tr><td>9673381</td><td>210089.10</td></tr>",
                            "<tr><td>9674165</td><td>233604.95</td></tr>",
                            "<tr><td>9674177</td><td>233604.95</td></tr>",
                            "<tr><td>9674189</td><td>233604.95</td></tr>",
                            "<tr><td>9675573</td><td>224495.92</td></tr>",
                            "<tr><td>9675585</td><td>224495.92</td></tr>",
                            "<tr><td>9676864</td><td>272052.79</td></tr>",
                            "<tr><td>9676876</td><td>272052.79</td></tr>",
                            "<tr><td>9681431</td><td>251143.57</td></tr>",
                            "<tr><td>9690523</td><td>256611.50</td></tr>",
                            "<tr><td>9700201</td><td>23491.98</td></tr>",
                            "<tr><td>9701140</td><td>224495.92</td></tr>",
                            "<tr><td>9702405</td><td>233604.95</td></tr>",
                            "<tr><td>9702417</td><td>233604.95</td></tr>",
                            "<tr><td>9702429</td><td>233604.95</td></tr>",
                            "<tr><td>9702431</td><td>233604.95</td></tr>",
                            "<tr><td>9702443</td><td>279183.12</td></tr>",
                            "<tr><td>9706994</td><td>210572.22</td></tr>",
                            "<tr><td>9713882</td><td>224495.92</td></tr>",
                            "</table>"
                        ]
                    }
                }
            ],
            "execution_count": 13
        },
        {
            "cell_type": "markdown",
            "source": [
                "Create and Run a Table Valued Function"
            ],
            "metadata": {
                "azdata_cell_guid": "7be6c245-07c1-4f34-b140-f8826475e6a3"
            },
            "attachments": {}
        },
        {
            "cell_type": "code",
            "source": [
                "CREATE FUNCTION udfShipsMinDWT(\r\n",
                "    @dwt INT\r\n",
                ")\r\n",
                "RETURNS TABLE\r\n",
                "AS\r\n",
                "RETURN\r\n",
                "    SELECT \r\n",
                "        S.lrno,\r\n",
                "        S.vesselname,\r\n",
                "        S.dwt\r\n",
                "    FROM\r\n",
                "        Ships S\r\n",
                "    WHERE\r\n",
                "        S.dwt >= @dwt;"
            ],
            "metadata": {
                "azdata_cell_guid": "2d3874f4-b9fc-4066-8446-e89aea2193fa",
                "language": "sql"
            },
            "outputs": [
                {
                    "output_type": "display_data",
                    "data": {
                        "text/html": "Commands completed successfully."
                    },
                    "metadata": {}
                },
                {
                    "output_type": "display_data",
                    "data": {
                        "text/html": "Total execution time: 00:00:00.040"
                    },
                    "metadata": {}
                }
            ],
            "execution_count": 14
        },
        {
            "cell_type": "code",
            "source": [
                "SELECT *\r\n",
                "FROM dbo.udfShipsMinDWT(10000);"
            ],
            "metadata": {
                "azdata_cell_guid": "22bc7d53-4692-4692-8720-621724e50568",
                "language": "sql"
            },
            "outputs": [
                {
                    "output_type": "display_data",
                    "data": {
                        "text/html": "(298 rows affected)"
                    },
                    "metadata": {}
                },
                {
                    "output_type": "display_data",
                    "data": {
                        "text/html": "Total execution time: 00:00:00.031"
                    },
                    "metadata": {}
                },
                {
                    "output_type": "execute_result",
                    "metadata": {},
                    "execution_count": 15,
                    "data": {
                        "application/vnd.dataresource+json": {
                            "schema": {
                                "fields": [
                                    {
                                        "name": "lrno"
                                    },
                                    {
                                        "name": "vesselname"
                                    },
                                    {
                                        "name": "dwt"
                                    }
                                ]
                            },
                            "data": [
                                {
                                    "0": "7903093",
                                    "1": "HOEGH TROPICANA",
                                    "2": "12003"
                                },
                                {
                                    "0": "7917551",
                                    "1": "MADAME BUTTERFLY",
                                    "2": "28223"
                                },
                                {
                                    "0": "7917563",
                                    "1": "MORNING SPRUCE",
                                    "2": "28210"
                                },
                                {
                                    "0": "8016548",
                                    "1": "MORNING CEDAR",
                                    "2": "28100"
                                },
                                {
                                    "0": "8016550",
                                    "1": "MEDEA",
                                    "2": "28566"
                                },
                                {
                                    "0": "8018168",
                                    "1": "TERRIER",
                                    "2": "17863"
                                },
                                {
                                    "0": "8202367",
                                    "1": "AEGEAN BREEZE",
                                    "2": "12527"
                                },
                                {
                                    "0": "8204951",
                                    "1": "TAMPA",
                                    "2": "44013"
                                },
                                {
                                    "0": "8204963",
                                    "1": "TEXAS",
                                    "2": "44080"
                                },
                                {
                                    "0": "8204975",
                                    "1": "TAIKO",
                                    "2": "43986"
                                },
                                {
                                    "0": "8211514",
                                    "1": "GMT VENUS",
                                    "2": "12507"
                                },
                                {
                                    "0": "8309579",
                                    "1": "TAGUS",
                                    "2": "21900"
                                },
                                {
                                    "0": "8309581",
                                    "1": "TASCO",
                                    "2": "22067"
                                },
                                {
                                    "0": "8313324",
                                    "1": "SINGA",
                                    "2": "18293"
                                },
                                {
                                    "0": "8319718",
                                    "1": "CENTURY HIGHWAY NO. 2",
                                    "2": "15509"
                                },
                                {
                                    "0": "8320779",
                                    "1": "LIBERTY",
                                    "2": "27609"
                                },
                                {
                                    "0": "8321333",
                                    "1": "TRISTAN",
                                    "2": "28070"
                                },
                                {
                                    "0": "8321905",
                                    "1": "PRINCE",
                                    "2": "15940"
                                },
                                {
                                    "0": "8502468",
                                    "1": "CENTURY LEADER NO. 3",
                                    "2": "14155"
                                },
                                {
                                    "0": "8506749",
                                    "1": "DR ACE",
                                    "2": "15546"
                                },
                                {
                                    "0": "8508905",
                                    "1": "INNOVATOR",
                                    "2": "12084"
                                },
                                {
                                    "0": "8508917",
                                    "1": "SALZGITTER",
                                    "2": "12077"
                                },
                                {
                                    "0": "8511263",
                                    "1": "GOLDEN FAN",
                                    "2": "11241"
                                },
                                {
                                    "0": "8513510",
                                    "1": "CENTURY LEADER No. 5",
                                    "2": "15539"
                                },
                                {
                                    "0": "8513560",
                                    "1": "JK TAI SHAN",
                                    "2": "15577"
                                },
                                {
                                    "0": "8514083",
                                    "1": "PYXIS",
                                    "2": "19108"
                                },
                                {
                                    "0": "8517279",
                                    "1": "GLOBAL SPIRIT",
                                    "2": "16493"
                                },
                                {
                                    "0": "8517944",
                                    "1": "H 103",
                                    "2": "12893"
                                },
                                {
                                    "0": "8520680",
                                    "1": "TRIANON",
                                    "2": "15536"
                                },
                                {
                                    "0": "8602579",
                                    "1": "TRINIDAD",
                                    "2": "15528"
                                },
                                {
                                    "0": "8602775",
                                    "1": "MORNING MARVEL",
                                    "2": "15681"
                                },
                                {
                                    "0": "8605167",
                                    "1": "TANCRED",
                                    "2": "15577"
                                },
                                {
                                    "0": "8606056",
                                    "1": "GMT ASTRO",
                                    "2": "16141"
                                },
                                {
                                    "0": "8607749",
                                    "1": "HUDSON LEADER",
                                    "2": "14104"
                                },
                                {
                                    "0": "8608157",
                                    "1": "HYUNDAI No. 106",
                                    "2": "12848"
                                },
                                {
                                    "0": "8608169",
                                    "1": "HYUNDAI NO. 107",
                                    "2": "12939"
                                },
                                {
                                    "0": "8613188",
                                    "1": "STRAITS VOYAGER",
                                    "2": "13491"
                                },
                                {
                                    "0": "8708244",
                                    "1": "SOLAR WING",
                                    "2": "13224"
                                },
                                {
                                    "0": "8708907",
                                    "1": "MORNING MELODY",
                                    "2": "13162"
                                },
                                {
                                    "0": "8709157",
                                    "1": "NOCC CORAL",
                                    "2": "12706"
                                },
                                {
                                    "0": "8905426",
                                    "1": "HEIJIN",
                                    "2": "14366"
                                },
                                {
                                    "0": "8912663",
                                    "1": "IDM SYMEX",
                                    "2": "12763"
                                },
                                {
                                    "0": "8913514",
                                    "1": "JINSEI MARU",
                                    "2": "17435"
                                },
                                {
                                    "0": "9021332",
                                    "1": "NEW NADA",
                                    "2": "14274"
                                },
                                {
                                    "0": "9021423",
                                    "1": "JINGU",
                                    "2": "17216"
                                },
                                {
                                    "0": "9047996",
                                    "1": "HARMONY ACE",
                                    "2": "14110"
                                },
                                {
                                    "0": "9051375",
                                    "1": "COUGAR ACE",
                                    "2": "18922"
                                },
                                {
                                    "0": "9051818",
                                    "1": "PEARL ACE",
                                    "2": "15194"
                                },
                                {
                                    "0": "9051820",
                                    "1": "CAR STAR",
                                    "2": "17189"
                                },
                                {
                                    "0": "9054119",
                                    "1": "AEGEAN LEADER",
                                    "2": "13157"
                                },
                                {
                                    "0": "9055486",
                                    "1": "RYUJIN",
                                    "2": "14080"
                                },
                                {
                                    "0": "9056296",
                                    "1": "GEMINI LEADER",
                                    "2": "14930"
                                },
                                {
                                    "0": "9070462",
                                    "1": "K. ASIAN BEAUTY",
                                    "2": "13308"
                                },
                                {
                                    "0": "9070474",
                                    "1": "ASIAN GLORY",
                                    "2": "13363"
                                },
                                {
                                    "0": "9073701",
                                    "1": "SHOHJIN",
                                    "2": "16178"
                                },
                                {
                                    "0": "9077836",
                                    "1": "TOPAZ ACE",
                                    "2": "14696"
                                },
                                {
                                    "0": "9078842",
                                    "1": "ARCADIA HIGHWAY",
                                    "2": "15507"
                                },
                                {
                                    "0": "9088249",
                                    "1": "HOEGH INCHON",
                                    "2": "12490"
                                },
                                {
                                    "0": "9114165",
                                    "1": "GLOVIS PHOENIX",
                                    "2": "13292"
                                },
                                {
                                    "0": "9114177",
                                    "1": "GLOVIS PRIME",
                                    "2": "13241"
                                },
                                {
                                    "0": "9122942",
                                    "1": "GLOVIS COMET",
                                    "2": "21421"
                                },
                                {
                                    "0": "9153549",
                                    "1": "POLARIS ACE",
                                    "2": "15522"
                                },
                                {
                                    "0": "9153783",
                                    "1": "HOEGH PUSAN",
                                    "2": "13695"
                                },
                                {
                                    "0": "9158276",
                                    "1": "AQUARIUS LEADER",
                                    "2": "22815"
                                },
                                {
                                    "0": "9158616",
                                    "1": "ASIAN CAPTAIN",
                                    "2": "25765"
                                },
                                {
                                    "0": "9166704",
                                    "1": "HOEGH MASAN",
                                    "2": "12490"
                                },
                                {
                                    "0": "9166895",
                                    "1": "YU HENG XIAN FENG",
                                    "2": "13418"
                                },
                                {
                                    "0": "9171280",
                                    "1": "HOEGH TRADER",
                                    "2": "27100"
                                },
                                {
                                    "0": "9176606",
                                    "1": "ASIAN EMPIRE",
                                    "2": "25765"
                                },
                                {
                                    "0": "9177052",
                                    "1": "MOSEL ACE",
                                    "2": "12743"
                                },
                                {
                                    "0": "9177430",
                                    "1": "PERSEUS LEADER",
                                    "2": "21503"
                                },
                                {
                                    "0": "9181376",
                                    "1": "GREEN DALE",
                                    "2": "15894"
                                },
                                {
                                    "0": "9181479",
                                    "1": "GRAND QUEST",
                                    "2": "16702"
                                },
                                {
                                    "0": "9181558",
                                    "1": "LEO LEADER",
                                    "2": "22733"
                                },
                                {
                                    "0": "9182356",
                                    "1": "COMET ACE",
                                    "2": "14283"
                                },
                                {
                                    "0": "9185047",
                                    "1": "UNITED SPIRIT",
                                    "2": "14067"
                                },
                                {
                                    "0": "9186950",
                                    "1": "STRAITS CHALLENGER",
                                    "2": "17297"
                                },
                                {
                                    "0": "9188790",
                                    "1": "VIKING CHANCE",
                                    "2": "10834"
                                },
                                {
                                    "0": "9188805",
                                    "1": "MODERN PEAK",
                                    "2": "10817"
                                },
                                {
                                    "0": "9190858",
                                    "1": "VERONA",
                                    "2": "12778"
                                },
                                {
                                    "0": "9203291",
                                    "1": "ASIAN KING",
                                    "2": "21511"
                                },
                                {
                                    "0": "9203588",
                                    "1": "ASIAN DYNASTY",
                                    "2": "21224"
                                },
                                {
                                    "0": "9205976",
                                    "1": "AMERICAN HIGHWAY",
                                    "2": "16750"
                                },
                                {
                                    "0": "9206011",
                                    "1": "EUROPEAN HIGHWAY",
                                    "2": "15075"
                                },
                                {
                                    "0": "9209506",
                                    "1": "TRIUMPH ACE",
                                    "2": "20131"
                                },
                                {
                                    "0": "9209518",
                                    "1": "MERIDIAN ACE",
                                    "2": "20144"
                                },
                                {
                                    "0": "9210438",
                                    "1": "PLATINUM RAY",
                                    "2": "21400"
                                },
                                {
                                    "0": "9210440",
                                    "1": "CRYSTAL RAY",
                                    "2": "21400"
                                },
                                {
                                    "0": "9213806",
                                    "1": "SIRIUS LEADER",
                                    "2": "16451"
                                },
                                {
                                    "0": "9213818",
                                    "1": "VEGA LEADER",
                                    "2": "16396"
                                },
                                {
                                    "0": "9229398",
                                    "1": "NEW CENTURY 1",
                                    "2": "16837"
                                },
                                {
                                    "0": "9229403",
                                    "1": "NEW CENTURY 2",
                                    "2": "16837"
                                },
                                {
                                    "0": "9233167",
                                    "1": "JEAN ANNE",
                                    "2": "12561"
                                },
                                {
                                    "0": "9233246",
                                    "1": "SUNBELT SPIRIT",
                                    "2": "17950"
                                },
                                {
                                    "0": "9237307",
                                    "1": "GALAXY LEADER",
                                    "2": "17127"
                                },
                                {
                                    "0": "9237319",
                                    "1": "GLOBAL LEADER",
                                    "2": "17006"
                                },
                                {
                                    "0": "9238519",
                                    "1": "CONTINENTAL HIGHWAY",
                                    "2": "17201"
                                },
                                {
                                    "0": "9243473",
                                    "1": "CARIBBEAN HIGHWAY",
                                    "2": "17866"
                                },
                                {
                                    "0": "9250220",
                                    "1": "MEDITERRANEAN HIGHWAY",
                                    "2": "17228"
                                },
                                {
                                    "0": "9250232",
                                    "1": "ATLANTIC HIGHWAY",
                                    "2": "17232"
                                },
                                {
                                    "0": "9252228",
                                    "1": "SPLENDID ACE",
                                    "2": "19893"
                                },
                                {
                                    "0": "9267663",
                                    "1": "GRAND EAGLE",
                                    "2": "19048"
                                },
                                {
                                    "0": "9267687",
                                    "1": "PROGRESS ACE",
                                    "2": "19512"
                                },
                                {
                                    "0": "9267699",
                                    "1": "PROMINENT ACE",
                                    "2": "19550"
                                },
                                {
                                    "0": "9267912",
                                    "1": "JASPER ARROW",
                                    "2": "21040"
                                },
                                {
                                    "0": "9267924",
                                    "1": "ONYX ARROW",
                                    "2": "21087"
                                },
                                {
                                    "0": "9272888",
                                    "1": "INDIANA HIGHWAY",
                                    "2": "17442"
                                },
                                {
                                    "0": "9272890",
                                    "1": "TEXAS HIGHWAY",
                                    "2": "17481"
                                },
                                {
                                    "0": "9273909",
                                    "1": "ANDROMEDA LEADER",
                                    "2": "21443"
                                },
                                {
                                    "0": "9277826",
                                    "1": "AMBER ARROW",
                                    "2": "21120"
                                },
                                {
                                    "0": "9277838",
                                    "1": "IVORY ARROW",
                                    "2": "21300"
                                },
                                {
                                    "0": "9279329",
                                    "1": "GRAND DOLPHIN",
                                    "2": "18369"
                                },
                                {
                                    "0": "9283875",
                                    "1": "PHOENIX LEADER",
                                    "2": "20146"
                                },
                                {
                                    "0": "9283887",
                                    "1": "SAGITTARIUS LEADER",
                                    "2": "20098"
                                },
                                {
                                    "0": "9284738",
                                    "1": "PYXIS LEADER",
                                    "2": "21466"
                                },
                                {
                                    "0": "9284740",
                                    "1": "CENTAURUS LEADER",
                                    "2": "21471"
                                },
                                {
                                    "0": "9284776",
                                    "1": "GRAND PAVO",
                                    "2": "18376"
                                },
                                {
                                    "0": "9285615",
                                    "1": "MORNING CALM",
                                    "2": "21005"
                                },
                                {
                                    "0": "9285627",
                                    "1": "MORNING CHAMPION",
                                    "2": "21106"
                                },
                                {
                                    "0": "9285639",
                                    "1": "MORNING COURIER",
                                    "2": "21053"
                                },
                                {
                                    "0": "9285641",
                                    "1": "MORNING CROWN",
                                    "2": "21052"
                                },
                                {
                                    "0": "9289908",
                                    "1": "MORNING MIRACLE",
                                    "2": "12600"
                                },
                                {
                                    "0": "9289910",
                                    "1": "MORNING MIDAS",
                                    "2": "12249"
                                },
                                {
                                    "0": "9291133",
                                    "1": "CETUS LEADER",
                                    "2": "21447"
                                },
                                {
                                    "0": "9293521",
                                    "1": "MIRACULOUS ACE",
                                    "2": "19381"
                                },
                                {
                                    "0": "9293571",
                                    "1": "EMINENT ACE",
                                    "2": "18947"
                                },
                                {
                                    "0": "9293595",
                                    "1": "EUPHONY ACE",
                                    "2": "18944"
                                },
                                {
                                    "0": "9293624",
                                    "1": "TOLEDO",
                                    "2": "19628"
                                },
                                {
                                    "0": "9293650",
                                    "1": "LIBERTY ACE",
                                    "2": "19106"
                                },
                                {
                                    "0": "9293662",
                                    "1": "FREEDOM ACE",
                                    "2": "19093"
                                },
                                {
                                    "0": "9293894",
                                    "1": "FIRMAMENT ACE",
                                    "2": "17713"
                                },
                                {
                                    "0": "9293909",
                                    "1": "GLOVIS CONDUCTOR",
                                    "2": "17709"
                                },
                                {
                                    "0": "9293911",
                                    "1": "FELICITY ACE",
                                    "2": "17738"
                                },
                                {
                                    "0": "9294343",
                                    "1": "SHANGHAI HIGHWAY",
                                    "2": "15413"
                                },
                                {
                                    "0": "9294355",
                                    "1": "TIANJIN HIGHWAY",
                                    "2": "15461"
                                },
                                {
                                    "0": "9294367",
                                    "1": "GUANGZHOU HIGHWAY",
                                    "2": "15301"
                                },
                                {
                                    "0": "9295842",
                                    "1": "HOEGH BERLIN",
                                    "2": "27176"
                                },
                                {
                                    "0": "9303223",
                                    "1": "GRAND DIAMOND",
                                    "2": "18058"
                                },
                                {
                                    "0": "9303558",
                                    "1": "HOEGH CHIBA",
                                    "2": "19670"
                                },
                                {
                                    "0": "9308807",
                                    "1": "CSAV RIO GRANDE",
                                    "2": "12315"
                                },
                                {
                                    "0": "9311866",
                                    "1": "TAIPAN",
                                    "2": "21021"
                                },
                                {
                                    "0": "9312470",
                                    "1": "HOEGH DETROIT",
                                    "2": "27100"
                                },
                                {
                                    "0": "9312822",
                                    "1": "MORNING CONCERT",
                                    "2": "21500"
                                },
                                {
                                    "0": "9312834",
                                    "1": "MORNING CHORUS",
                                    "2": "21276"
                                },
                                {
                                    "0": "9318462",
                                    "1": "HOEGH DELHI",
                                    "2": "16890"
                                },
                                {
                                    "0": "9318474",
                                    "1": "HOEGH BANGKOK",
                                    "2": "16632"
                                },
                                {
                                    "0": "9318503",
                                    "1": "ISTRA ACE",
                                    "2": "12200"
                                },
                                {
                                    "0": "9325178",
                                    "1": "CSAV RIO AYSEN",
                                    "2": "12322"
                                },
                                {
                                    "0": "9325180",
                                    "1": "CSAV RIO NEVADO",
                                    "2": "12322"
                                },
                                {
                                    "0": "9325221",
                                    "1": "GRAND RUBY",
                                    "2": "18117"
                                },
                                {
                                    "0": "9325427",
                                    "1": "ROCKIES HIGHWAY",
                                    "2": "12828"
                                },
                                {
                                    "0": "9325439",
                                    "1": "SIERRA NEVADA HIGHWAY",
                                    "2": "12851"
                                },
                                {
                                    "0": "9325764",
                                    "1": "EASTERN HIGHWAY",
                                    "2": "12991"
                                },
                                {
                                    "0": "9325776",
                                    "1": "WESTERN HIGHWAY",
                                    "2": "12980"
                                },
                                {
                                    "0": "9325790",
                                    "1": "DREAM DIVA",
                                    "2": "15068"
                                },
                                {
                                    "0": "9326079",
                                    "1": "TRANS FUTURE 5",
                                    "2": "14906"
                                },
                                {
                                    "0": "9326081",
                                    "1": "TRANS FUTURE 6",
                                    "2": "14906"
                                },
                                {
                                    "0": "9326093",
                                    "1": "TRANS FUTURE 7",
                                    "2": "14906"
                                },
                                {
                                    "0": "9327748",
                                    "1": "TARIFA",
                                    "2": "21120"
                                },
                                {
                                    "0": "9329461",
                                    "1": "MORNING CELLO",
                                    "2": "21059"
                                },
                                {
                                    "0": "9329473",
                                    "1": "MORNING CORNET",
                                    "2": "20500"
                                },
                                {
                                    "0": "9335953",
                                    "1": "APHRODITE LEADER",
                                    "2": "21443"
                                },
                                {
                                    "0": "9336050",
                                    "1": "MORNING CONDUCTOR",
                                    "2": "21091"
                                },
                                {
                                    "0": "9336062",
                                    "1": "MORNING CELESTA",
                                    "2": "21055"
                                },
                                {
                                    "0": "9336074",
                                    "1": "MORNING COMPOSER",
                                    "2": "21052"
                                },
                                {
                                    "0": "9336086",
                                    "1": "MORNING CAROL",
                                    "2": "21044"
                                },
                                {
                                    "0": "9338694",
                                    "1": "MORNING CHARLOTTE",
                                    "2": "22578"
                                },
                                {
                                    "0": "9338723",
                                    "1": "MORNING CAROLINE",
                                    "2": "22717"
                                },
                                {
                                    "0": "9338876",
                                    "1": "SALVIA ACE",
                                    "2": "15013"
                                },
                                {
                                    "0": "9338888",
                                    "1": "PROMETHEUS LEADER",
                                    "2": "14382"
                                },
                                {
                                    "0": "9338890",
                                    "1": "PLUTO LEADER",
                                    "2": "14342"
                                },
                                {
                                    "0": "9339844",
                                    "1": "GRAND PEARL",
                                    "2": "18090"
                                },
                                {
                                    "0": "9340776",
                                    "1": "POSITIVE LEADER",
                                    "2": "15023"
                                },
                                {
                                    "0": "9355185",
                                    "1": "PRIMROSE ACE",
                                    "2": "17339"
                                },
                                {
                                    "0": "9355202",
                                    "1": "ARTEMIS LEADER",
                                    "2": "21424"
                                },
                                {
                                    "0": "9355214",
                                    "1": "RHEA LEADER",
                                    "2": "21428"
                                },
                                {
                                    "0": "9360568",
                                    "1": "DREAM ORCHID",
                                    "2": "15097"
                                },
                                {
                                    "0": "9362267",
                                    "1": "LONDON HIGHWAY",
                                    "2": "17765"
                                },
                                {
                                    "0": "9363948",
                                    "1": "LAVENDER ACE",
                                    "2": "17262"
                                },
                                {
                                    "0": "9363950",
                                    "1": "CLOVER ACE",
                                    "2": "17280"
                                },
                                {
                                    "0": "9367580",
                                    "1": "MORNING MARGARETA",
                                    "2": "17386"
                                },
                                {
                                    "0": "9367592",
                                    "1": "MORNING NINNI",
                                    "2": "17372"
                                },
                                {
                                    "0": "9367607",
                                    "1": "CANOPUS LEADER",
                                    "2": "17382"
                                },
                                {
                                    "0": "9368900",
                                    "1": "HOEGH SYDNEY",
                                    "2": "17311"
                                },
                                {
                                    "0": "9372315",
                                    "1": "LUNA SPIRIT",
                                    "2": "15261"
                                },
                                {
                                    "0": "9372810",
                                    "1": "POLARIS LEADER",
                                    "2": "17406"
                                },
                                {
                                    "0": "9377511",
                                    "1": "TIJUCA",
                                    "2": "30089"
                                },
                                {
                                    "0": "9377523",
                                    "1": "TIRRANNA",
                                    "2": "29936"
                                },
                                {
                                    "0": "9381249",
                                    "1": "CYGNUS LEADER",
                                    "2": "20180"
                                },
                                {
                                    "0": "9381677",
                                    "1": "ORCHID ACE",
                                    "2": "17289"
                                },
                                {
                                    "0": "9382102",
                                    "1": "CHANG TAI HONG",
                                    "2": "12282"
                                },
                                {
                                    "0": "9382396",
                                    "1": "HOEGH OSLO",
                                    "2": "17252"
                                },
                                {
                                    "0": "9383429",
                                    "1": "MORNING LYNN",
                                    "2": "28092"
                                },
                                {
                                    "0": "9391579",
                                    "1": "SERENITY ACE",
                                    "2": "21004"
                                },
                                {
                                    "0": "9391581",
                                    "1": "CSCC ASIA",
                                    "2": "21037"
                                },
                                {
                                    "0": "9391593",
                                    "1": "CSCC EUROPE",
                                    "2": "21300"
                                },
                                {
                                    "0": "9392341",
                                    "1": "VENUS LEADER",
                                    "2": "15031"
                                },
                                {
                                    "0": "9392353",
                                    "1": "MERCURY LEADER",
                                    "2": "15045"
                                },
                                {
                                    "0": "9395628",
                                    "1": "VICTORY LEADER",
                                    "2": "13363"
                                },
                                {
                                    "0": "9395630",
                                    "1": "VIOLET ACE",
                                    "2": "13370"
                                },
                                {
                                    "0": "9397987",
                                    "1": "AQUAMARINE ACE",
                                    "2": "18772"
                                },
                                {
                                    "0": "9397999",
                                    "1": "AMETHYST ACE",
                                    "2": "18760"
                                },
                                {
                                    "0": "9402744",
                                    "1": "NEPTUNE LEADER",
                                    "2": "12853"
                                },
                                {
                                    "0": "9403217",
                                    "1": "GLORIOUS EXPRESS",
                                    "2": "17212"
                                },
                                {
                                    "0": "9403279",
                                    "1": "HYPERION LEADER",
                                    "2": "14381"
                                },
                                {
                                    "0": "9412567",
                                    "1": "TRANS LEADER",
                                    "2": "15154"
                                },
                                {
                                    "0": "9420045",
                                    "1": "HOEGH ST. PETERSBURG",
                                    "2": "27352"
                                },
                                {
                                    "0": "9426374",
                                    "1": "PLEIADES LEADER",
                                    "2": "21462"
                                },
                                {
                                    "0": "9427938",
                                    "1": "PAGANINO",
                                    "2": "11373"
                                },
                                {
                                    "0": "9427940",
                                    "1": "PAGLIA",
                                    "2": "11369"
                                },
                                {
                                    "0": "9427952",
                                    "1": "PAGNA",
                                    "2": "11315"
                                },
                                {
                                    "0": "9430519",
                                    "1": "NOCC ATLANTIC",
                                    "2": "22500"
                                },
                                {
                                    "0": "9431850",
                                    "1": "HOEGH MAPUTO",
                                    "2": "12250"
                                },
                                {
                                    "0": "9432907",
                                    "1": "TOKYO CAR",
                                    "2": "12352"
                                },
                                {
                                    "0": "9432919",
                                    "1": "OSAKA CAR",
                                    "2": "12321"
                                },
                                {
                                    "0": "9441556",
                                    "1": "HERITAGE LEADER",
                                    "2": "20434"
                                },
                                {
                                    "0": "9441594",
                                    "1": "GLOVIS CARAVEL",
                                    "2": "20434"
                                },
                                {
                                    "0": "9441609",
                                    "1": "MORNING CLASSIC",
                                    "2": "21000"
                                },
                                {
                                    "0": "9441611",
                                    "1": "MORNING COMPASS",
                                    "2": "21000"
                                },
                                {
                                    "0": "9441623",
                                    "1": "HOEGH ANTWERP",
                                    "2": "21000"
                                },
                                {
                                    "0": "9445980",
                                    "1": "MORNING LADY",
                                    "2": "27343"
                                },
                                {
                                    "0": "9446881",
                                    "1": "ADRIA ACE",
                                    "2": "12300"
                                },
                                {
                                    "0": "9448061",
                                    "1": "SEPANG EXPRESS",
                                    "2": "15154"
                                },
                                {
                                    "0": "9448138",
                                    "1": "VANY RICKMERS",
                                    "2": "12300"
                                },
                                {
                                    "0": "9451006",
                                    "1": "MEDITERRANEAN SEA",
                                    "2": "14774"
                                },
                                {
                                    "0": "9454711",
                                    "1": "COSCO SHENGSHI",
                                    "2": "14868"
                                },
                                {
                                    "0": "9454723",
                                    "1": "COSCO TENGFEI",
                                    "2": "14707"
                                },
                                {
                                    "0": "9460887",
                                    "1": "MORNING CLARA",
                                    "2": "18638"
                                },
                                {
                                    "0": "9464455",
                                    "1": "CRONUS LEADER",
                                    "2": "20096"
                                },
                                {
                                    "0": "9476733",
                                    "1": "ZEUS LEADER",
                                    "2": "18697"
                                },
                                {
                                    "0": "9476745",
                                    "1": "HELIOS LEADER",
                                    "2": "18692"
                                },
                                {
                                    "0": "9476757",
                                    "1": "RUBY ACE",
                                    "2": "18724"
                                },
                                {
                                    "0": "9477919",
                                    "1": "MORNING CAMILLA",
                                    "2": "22692"
                                },
                                {
                                    "0": "9477921",
                                    "1": "DEMETER LEADER",
                                    "2": "20019"
                                },
                                {
                                    "0": "9481049",
                                    "1": "VIKING AMBER",
                                    "2": "12471"
                                },
                                {
                                    "0": "9481051",
                                    "1": "VIKING CORAL",
                                    "2": "12588"
                                },
                                {
                                    "0": "9481075",
                                    "1": "VIKING DIAMOND",
                                    "2": "12572"
                                },
                                {
                                    "0": "9483786",
                                    "1": "ARABIAN SEA",
                                    "2": "13059"
                                },
                                {
                                    "0": "9491874",
                                    "1": "PASSAMA",
                                    "2": "12806"
                                },
                                {
                                    "0": "9491886",
                                    "1": "PASSERO",
                                    "2": "12755"
                                },
                                {
                                    "0": "9491898",
                                    "1": "PATARA",
                                    "2": "12755"
                                },
                                {
                                    "0": "9494905",
                                    "1": "LAKE FUXIAN",
                                    "2": "17245"
                                },
                                {
                                    "0": "9498597",
                                    "1": "SELENE LEADER",
                                    "2": "18082"
                                },
                                {
                                    "0": "9502427",
                                    "1": "SENTOSA LEADER",
                                    "2": "17143"
                                },
                                {
                                    "0": "9505053",
                                    "1": "TITANIA",
                                    "2": "30907"
                                },
                                {
                                    "0": "9505065",
                                    "1": "TUGELA",
                                    "2": "28837"
                                },
                                {
                                    "0": "9505089",
                                    "1": "TULANE",
                                    "2": "28818"
                                },
                                {
                                    "0": "9505900",
                                    "1": "VENUS SPIRIT",
                                    "2": "13951"
                                },
                                {
                                    "0": "9509401",
                                    "1": "JUPITER SPIRIT",
                                    "2": "13954"
                                },
                                {
                                    "0": "9514987",
                                    "1": "VIKING EMERALD",
                                    "2": "12500"
                                },
                                {
                                    "0": "9514999",
                                    "1": "VIKING OCEAN",
                                    "2": "12500"
                                },
                                {
                                    "0": "9515008",
                                    "1": "VIKING SEA",
                                    "2": "10600"
                                },
                                {
                                    "0": "9515474",
                                    "1": "IRIS ACE",
                                    "2": "14349"
                                },
                                {
                                    "0": "9519121",
                                    "1": "TRITON ACE",
                                    "2": "22723"
                                },
                                {
                                    "0": "9519145",
                                    "1": "MORNING CORNELIA",
                                    "2": "22746"
                                },
                                {
                                    "0": "9531739",
                                    "1": "ATLAS LEADER",
                                    "2": "21323"
                                },
                                {
                                    "0": "9531741",
                                    "1": "ASTERIA LEADER",
                                    "2": "21349"
                                },
                                {
                                    "0": "9536818",
                                    "1": "GAIA LEADER",
                                    "2": "21286"
                                },
                                {
                                    "0": "9539236",
                                    "1": "EMERALD ACE",
                                    "2": "18334"
                                },
                                {
                                    "0": "9542283",
                                    "1": "AZALEA ACE",
                                    "2": "15154"
                                },
                                {
                                    "0": "9542295",
                                    "1": "GARDENIA ACE",
                                    "2": "15154"
                                },
                                {
                                    "0": "9544918",
                                    "1": "CATTLEYA ACE",
                                    "2": "16384"
                                },
                                {
                                    "0": "9553115",
                                    "1": "THEMIS LEADER",
                                    "2": "20037"
                                },
                                {
                                    "0": "9554200",
                                    "1": "PRECIOUS ACE",
                                    "2": "19045"
                                },
                                {
                                    "0": "9561954",
                                    "1": "DIONE LEADER",
                                    "2": "21111"
                                },
                                {
                                    "0": "9590589",
                                    "1": "GLOVIS CENTURY",
                                    "2": "20895"
                                },
                                {
                                    "0": "9610406",
                                    "1": "VICTORIOUS ACE",
                                    "2": "18396"
                                },
                                {
                                    "0": "9610444",
                                    "1": "PRIME ACE",
                                    "2": "18304"
                                },
                                {
                                    "0": "9650743",
                                    "1": "METIS LEADER",
                                    "2": "19013"
                                },
                                {
                                    "0": "9660798",
                                    "1": "HOEGH AMSTERDAM",
                                    "2": "21000"
                                },
                                {
                                    "0": "9663295",
                                    "1": "MORNING CAPO",
                                    "2": "20139"
                                },
                                {
                                    "0": "9663300",
                                    "1": "MORNING CHANT",
                                    "2": "20190"
                                },
                                {
                                    "0": "9667344",
                                    "1": "FREMANTLE HIGHWAY",
                                    "2": "18549"
                                },
                                {
                                    "0": "9668491",
                                    "1": "NEPTUNE GALENE",
                                    "2": "11260"
                                },
                                {
                                    "0": "9668506",
                                    "1": "NEPTUNE THALASSA",
                                    "2": "11262"
                                },
                                {
                                    "0": "9669029",
                                    "1": "MORNING POST",
                                    "2": "22675"
                                },
                                {
                                    "0": "9669031",
                                    "1": "MORNING PILOT",
                                    "2": "22675"
                                },
                                {
                                    "0": "9672404",
                                    "1": "GRAVITY HIGHWAY",
                                    "2": "21000"
                                },
                                {
                                    "0": "9672416",
                                    "1": "GENIUS HIGHWAY",
                                    "2": "21000"
                                },
                                {
                                    "0": "9673379",
                                    "1": "HOEGH JACKSONVILLE",
                                    "2": "20578"
                                },
                                {
                                    "0": "9673381",
                                    "1": "HOEGH JEDDAH",
                                    "2": "20407"
                                },
                                {
                                    "0": "9674165",
                                    "1": "GLOVIS SPIRIT",
                                    "2": "20138"
                                },
                                {
                                    "0": "9674177",
                                    "1": "GLOVIS SUPREME",
                                    "2": "20138"
                                },
                                {
                                    "0": "9674189",
                                    "1": "GLOVIS SUPERIOR",
                                    "2": "20138"
                                },
                                {
                                    "0": "9675573",
                                    "1": "GALVESTON HIGHWAY",
                                    "2": "18549"
                                },
                                {
                                    "0": "9675585",
                                    "1": "MORNING CHERRY",
                                    "2": "18556"
                                },
                                {
                                    "0": "9676864",
                                    "1": "ARIES LEADER",
                                    "2": "18808"
                                },
                                {
                                    "0": "9676876",
                                    "1": "PISCES LEADER",
                                    "2": "18781"
                                },
                                {
                                    "0": "9681431",
                                    "1": "MORNING PRIDE",
                                    "2": "22675"
                                },
                                {
                                    "0": "9690523",
                                    "1": "HARVEST LEADER",
                                    "2": "20941"
                                },
                                {
                                    "0": "9701140",
                                    "1": "GOODWOOD",
                                    "2": "18770"
                                },
                                {
                                    "0": "9702405",
                                    "1": "GLOVIS SUNRISE",
                                    "2": "20056"
                                },
                                {
                                    "0": "9702417",
                                    "1": "GLOVIS SUMMIT",
                                    "2": "20056"
                                },
                                {
                                    "0": "9702429",
                                    "1": "GLOVIS SYMPHONY",
                                    "2": "20056"
                                },
                                {
                                    "0": "9702431",
                                    "1": "GLOVIS SPLENDOR",
                                    "2": "20056"
                                },
                                {
                                    "0": "9702443",
                                    "1": "THERMOPYLAE",
                                    "2": "23786"
                                },
                                {
                                    "0": "9706994",
                                    "1": "GLOVIS CROWN",
                                    "2": "20019"
                                },
                                {
                                    "0": "9713882",
                                    "1": "LAKE GENEVA",
                                    "2": "18770"
                                }
                            ]
                        },
                        "text/html": [
                            "<table>",
                            "<tr><th>lrno</th><th>vesselname</th><th>dwt</th></tr>",
                            "<tr><td>7903093</td><td>HOEGH TROPICANA</td><td>12003</td></tr>",
                            "<tr><td>7917551</td><td>MADAME BUTTERFLY</td><td>28223</td></tr>",
                            "<tr><td>7917563</td><td>MORNING SPRUCE</td><td>28210</td></tr>",
                            "<tr><td>8016548</td><td>MORNING CEDAR</td><td>28100</td></tr>",
                            "<tr><td>8016550</td><td>MEDEA</td><td>28566</td></tr>",
                            "<tr><td>8018168</td><td>TERRIER</td><td>17863</td></tr>",
                            "<tr><td>8202367</td><td>AEGEAN BREEZE</td><td>12527</td></tr>",
                            "<tr><td>8204951</td><td>TAMPA</td><td>44013</td></tr>",
                            "<tr><td>8204963</td><td>TEXAS</td><td>44080</td></tr>",
                            "<tr><td>8204975</td><td>TAIKO</td><td>43986</td></tr>",
                            "<tr><td>8211514</td><td>GMT VENUS</td><td>12507</td></tr>",
                            "<tr><td>8309579</td><td>TAGUS</td><td>21900</td></tr>",
                            "<tr><td>8309581</td><td>TASCO</td><td>22067</td></tr>",
                            "<tr><td>8313324</td><td>SINGA</td><td>18293</td></tr>",
                            "<tr><td>8319718</td><td>CENTURY HIGHWAY NO. 2</td><td>15509</td></tr>",
                            "<tr><td>8320779</td><td>LIBERTY</td><td>27609</td></tr>",
                            "<tr><td>8321333</td><td>TRISTAN</td><td>28070</td></tr>",
                            "<tr><td>8321905</td><td>PRINCE</td><td>15940</td></tr>",
                            "<tr><td>8502468</td><td>CENTURY LEADER NO. 3</td><td>14155</td></tr>",
                            "<tr><td>8506749</td><td>DR ACE</td><td>15546</td></tr>",
                            "<tr><td>8508905</td><td>INNOVATOR</td><td>12084</td></tr>",
                            "<tr><td>8508917</td><td>SALZGITTER</td><td>12077</td></tr>",
                            "<tr><td>8511263</td><td>GOLDEN FAN</td><td>11241</td></tr>",
                            "<tr><td>8513510</td><td>CENTURY LEADER No. 5</td><td>15539</td></tr>",
                            "<tr><td>8513560</td><td>JK TAI SHAN</td><td>15577</td></tr>",
                            "<tr><td>8514083</td><td>PYXIS</td><td>19108</td></tr>",
                            "<tr><td>8517279</td><td>GLOBAL SPIRIT</td><td>16493</td></tr>",
                            "<tr><td>8517944</td><td>H 103</td><td>12893</td></tr>",
                            "<tr><td>8520680</td><td>TRIANON</td><td>15536</td></tr>",
                            "<tr><td>8602579</td><td>TRINIDAD</td><td>15528</td></tr>",
                            "<tr><td>8602775</td><td>MORNING MARVEL</td><td>15681</td></tr>",
                            "<tr><td>8605167</td><td>TANCRED</td><td>15577</td></tr>",
                            "<tr><td>8606056</td><td>GMT ASTRO</td><td>16141</td></tr>",
                            "<tr><td>8607749</td><td>HUDSON LEADER</td><td>14104</td></tr>",
                            "<tr><td>8608157</td><td>HYUNDAI No. 106</td><td>12848</td></tr>",
                            "<tr><td>8608169</td><td>HYUNDAI NO. 107</td><td>12939</td></tr>",
                            "<tr><td>8613188</td><td>STRAITS VOYAGER</td><td>13491</td></tr>",
                            "<tr><td>8708244</td><td>SOLAR WING</td><td>13224</td></tr>",
                            "<tr><td>8708907</td><td>MORNING MELODY</td><td>13162</td></tr>",
                            "<tr><td>8709157</td><td>NOCC CORAL</td><td>12706</td></tr>",
                            "<tr><td>8905426</td><td>HEIJIN</td><td>14366</td></tr>",
                            "<tr><td>8912663</td><td>IDM SYMEX</td><td>12763</td></tr>",
                            "<tr><td>8913514</td><td>JINSEI MARU</td><td>17435</td></tr>",
                            "<tr><td>9021332</td><td>NEW NADA</td><td>14274</td></tr>",
                            "<tr><td>9021423</td><td>JINGU</td><td>17216</td></tr>",
                            "<tr><td>9047996</td><td>HARMONY ACE</td><td>14110</td></tr>",
                            "<tr><td>9051375</td><td>COUGAR ACE</td><td>18922</td></tr>",
                            "<tr><td>9051818</td><td>PEARL ACE</td><td>15194</td></tr>",
                            "<tr><td>9051820</td><td>CAR STAR</td><td>17189</td></tr>",
                            "<tr><td>9054119</td><td>AEGEAN LEADER</td><td>13157</td></tr>",
                            "<tr><td>9055486</td><td>RYUJIN</td><td>14080</td></tr>",
                            "<tr><td>9056296</td><td>GEMINI LEADER</td><td>14930</td></tr>",
                            "<tr><td>9070462</td><td>K. ASIAN BEAUTY</td><td>13308</td></tr>",
                            "<tr><td>9070474</td><td>ASIAN GLORY</td><td>13363</td></tr>",
                            "<tr><td>9073701</td><td>SHOHJIN</td><td>16178</td></tr>",
                            "<tr><td>9077836</td><td>TOPAZ ACE</td><td>14696</td></tr>",
                            "<tr><td>9078842</td><td>ARCADIA HIGHWAY</td><td>15507</td></tr>",
                            "<tr><td>9088249</td><td>HOEGH INCHON</td><td>12490</td></tr>",
                            "<tr><td>9114165</td><td>GLOVIS PHOENIX</td><td>13292</td></tr>",
                            "<tr><td>9114177</td><td>GLOVIS PRIME</td><td>13241</td></tr>",
                            "<tr><td>9122942</td><td>GLOVIS COMET</td><td>21421</td></tr>",
                            "<tr><td>9153549</td><td>POLARIS ACE</td><td>15522</td></tr>",
                            "<tr><td>9153783</td><td>HOEGH PUSAN</td><td>13695</td></tr>",
                            "<tr><td>9158276</td><td>AQUARIUS LEADER</td><td>22815</td></tr>",
                            "<tr><td>9158616</td><td>ASIAN CAPTAIN</td><td>25765</td></tr>",
                            "<tr><td>9166704</td><td>HOEGH MASAN</td><td>12490</td></tr>",
                            "<tr><td>9166895</td><td>YU HENG XIAN FENG</td><td>13418</td></tr>",
                            "<tr><td>9171280</td><td>HOEGH TRADER</td><td>27100</td></tr>",
                            "<tr><td>9176606</td><td>ASIAN EMPIRE</td><td>25765</td></tr>",
                            "<tr><td>9177052</td><td>MOSEL ACE</td><td>12743</td></tr>",
                            "<tr><td>9177430</td><td>PERSEUS LEADER</td><td>21503</td></tr>",
                            "<tr><td>9181376</td><td>GREEN DALE</td><td>15894</td></tr>",
                            "<tr><td>9181479</td><td>GRAND QUEST</td><td>16702</td></tr>",
                            "<tr><td>9181558</td><td>LEO LEADER</td><td>22733</td></tr>",
                            "<tr><td>9182356</td><td>COMET ACE</td><td>14283</td></tr>",
                            "<tr><td>9185047</td><td>UNITED SPIRIT</td><td>14067</td></tr>",
                            "<tr><td>9186950</td><td>STRAITS CHALLENGER</td><td>17297</td></tr>",
                            "<tr><td>9188790</td><td>VIKING CHANCE</td><td>10834</td></tr>",
                            "<tr><td>9188805</td><td>MODERN PEAK</td><td>10817</td></tr>",
                            "<tr><td>9190858</td><td>VERONA</td><td>12778</td></tr>",
                            "<tr><td>9203291</td><td>ASIAN KING</td><td>21511</td></tr>",
                            "<tr><td>9203588</td><td>ASIAN DYNASTY</td><td>21224</td></tr>",
                            "<tr><td>9205976</td><td>AMERICAN HIGHWAY</td><td>16750</td></tr>",
                            "<tr><td>9206011</td><td>EUROPEAN HIGHWAY</td><td>15075</td></tr>",
                            "<tr><td>9209506</td><td>TRIUMPH ACE</td><td>20131</td></tr>",
                            "<tr><td>9209518</td><td>MERIDIAN ACE</td><td>20144</td></tr>",
                            "<tr><td>9210438</td><td>PLATINUM RAY</td><td>21400</td></tr>",
                            "<tr><td>9210440</td><td>CRYSTAL RAY</td><td>21400</td></tr>",
                            "<tr><td>9213806</td><td>SIRIUS LEADER</td><td>16451</td></tr>",
                            "<tr><td>9213818</td><td>VEGA LEADER</td><td>16396</td></tr>",
                            "<tr><td>9229398</td><td>NEW CENTURY 1</td><td>16837</td></tr>",
                            "<tr><td>9229403</td><td>NEW CENTURY 2</td><td>16837</td></tr>",
                            "<tr><td>9233167</td><td>JEAN ANNE</td><td>12561</td></tr>",
                            "<tr><td>9233246</td><td>SUNBELT SPIRIT</td><td>17950</td></tr>",
                            "<tr><td>9237307</td><td>GALAXY LEADER</td><td>17127</td></tr>",
                            "<tr><td>9237319</td><td>GLOBAL LEADER</td><td>17006</td></tr>",
                            "<tr><td>9238519</td><td>CONTINENTAL HIGHWAY</td><td>17201</td></tr>",
                            "<tr><td>9243473</td><td>CARIBBEAN HIGHWAY</td><td>17866</td></tr>",
                            "<tr><td>9250220</td><td>MEDITERRANEAN HIGHWAY</td><td>17228</td></tr>",
                            "<tr><td>9250232</td><td>ATLANTIC HIGHWAY</td><td>17232</td></tr>",
                            "<tr><td>9252228</td><td>SPLENDID ACE</td><td>19893</td></tr>",
                            "<tr><td>9267663</td><td>GRAND EAGLE</td><td>19048</td></tr>",
                            "<tr><td>9267687</td><td>PROGRESS ACE</td><td>19512</td></tr>",
                            "<tr><td>9267699</td><td>PROMINENT ACE</td><td>19550</td></tr>",
                            "<tr><td>9267912</td><td>JASPER ARROW</td><td>21040</td></tr>",
                            "<tr><td>9267924</td><td>ONYX ARROW</td><td>21087</td></tr>",
                            "<tr><td>9272888</td><td>INDIANA HIGHWAY</td><td>17442</td></tr>",
                            "<tr><td>9272890</td><td>TEXAS HIGHWAY</td><td>17481</td></tr>",
                            "<tr><td>9273909</td><td>ANDROMEDA LEADER</td><td>21443</td></tr>",
                            "<tr><td>9277826</td><td>AMBER ARROW</td><td>21120</td></tr>",
                            "<tr><td>9277838</td><td>IVORY ARROW</td><td>21300</td></tr>",
                            "<tr><td>9279329</td><td>GRAND DOLPHIN</td><td>18369</td></tr>",
                            "<tr><td>9283875</td><td>PHOENIX LEADER</td><td>20146</td></tr>",
                            "<tr><td>9283887</td><td>SAGITTARIUS LEADER</td><td>20098</td></tr>",
                            "<tr><td>9284738</td><td>PYXIS LEADER</td><td>21466</td></tr>",
                            "<tr><td>9284740</td><td>CENTAURUS LEADER</td><td>21471</td></tr>",
                            "<tr><td>9284776</td><td>GRAND PAVO</td><td>18376</td></tr>",
                            "<tr><td>9285615</td><td>MORNING CALM</td><td>21005</td></tr>",
                            "<tr><td>9285627</td><td>MORNING CHAMPION</td><td>21106</td></tr>",
                            "<tr><td>9285639</td><td>MORNING COURIER</td><td>21053</td></tr>",
                            "<tr><td>9285641</td><td>MORNING CROWN</td><td>21052</td></tr>",
                            "<tr><td>9289908</td><td>MORNING MIRACLE</td><td>12600</td></tr>",
                            "<tr><td>9289910</td><td>MORNING MIDAS</td><td>12249</td></tr>",
                            "<tr><td>9291133</td><td>CETUS LEADER</td><td>21447</td></tr>",
                            "<tr><td>9293521</td><td>MIRACULOUS ACE</td><td>19381</td></tr>",
                            "<tr><td>9293571</td><td>EMINENT ACE</td><td>18947</td></tr>",
                            "<tr><td>9293595</td><td>EUPHONY ACE</td><td>18944</td></tr>",
                            "<tr><td>9293624</td><td>TOLEDO</td><td>19628</td></tr>",
                            "<tr><td>9293650</td><td>LIBERTY ACE</td><td>19106</td></tr>",
                            "<tr><td>9293662</td><td>FREEDOM ACE</td><td>19093</td></tr>",
                            "<tr><td>9293894</td><td>FIRMAMENT ACE</td><td>17713</td></tr>",
                            "<tr><td>9293909</td><td>GLOVIS CONDUCTOR</td><td>17709</td></tr>",
                            "<tr><td>9293911</td><td>FELICITY ACE</td><td>17738</td></tr>",
                            "<tr><td>9294343</td><td>SHANGHAI HIGHWAY</td><td>15413</td></tr>",
                            "<tr><td>9294355</td><td>TIANJIN HIGHWAY</td><td>15461</td></tr>",
                            "<tr><td>9294367</td><td>GUANGZHOU HIGHWAY</td><td>15301</td></tr>",
                            "<tr><td>9295842</td><td>HOEGH BERLIN</td><td>27176</td></tr>",
                            "<tr><td>9303223</td><td>GRAND DIAMOND</td><td>18058</td></tr>",
                            "<tr><td>9303558</td><td>HOEGH CHIBA</td><td>19670</td></tr>",
                            "<tr><td>9308807</td><td>CSAV RIO GRANDE</td><td>12315</td></tr>",
                            "<tr><td>9311866</td><td>TAIPAN</td><td>21021</td></tr>",
                            "<tr><td>9312470</td><td>HOEGH DETROIT</td><td>27100</td></tr>",
                            "<tr><td>9312822</td><td>MORNING CONCERT</td><td>21500</td></tr>",
                            "<tr><td>9312834</td><td>MORNING CHORUS</td><td>21276</td></tr>",
                            "<tr><td>9318462</td><td>HOEGH DELHI</td><td>16890</td></tr>",
                            "<tr><td>9318474</td><td>HOEGH BANGKOK</td><td>16632</td></tr>",
                            "<tr><td>9318503</td><td>ISTRA ACE</td><td>12200</td></tr>",
                            "<tr><td>9325178</td><td>CSAV RIO AYSEN</td><td>12322</td></tr>",
                            "<tr><td>9325180</td><td>CSAV RIO NEVADO</td><td>12322</td></tr>",
                            "<tr><td>9325221</td><td>GRAND RUBY</td><td>18117</td></tr>",
                            "<tr><td>9325427</td><td>ROCKIES HIGHWAY</td><td>12828</td></tr>",
                            "<tr><td>9325439</td><td>SIERRA NEVADA HIGHWAY</td><td>12851</td></tr>",
                            "<tr><td>9325764</td><td>EASTERN HIGHWAY</td><td>12991</td></tr>",
                            "<tr><td>9325776</td><td>WESTERN HIGHWAY</td><td>12980</td></tr>",
                            "<tr><td>9325790</td><td>DREAM DIVA</td><td>15068</td></tr>",
                            "<tr><td>9326079</td><td>TRANS FUTURE 5</td><td>14906</td></tr>",
                            "<tr><td>9326081</td><td>TRANS FUTURE 6</td><td>14906</td></tr>",
                            "<tr><td>9326093</td><td>TRANS FUTURE 7</td><td>14906</td></tr>",
                            "<tr><td>9327748</td><td>TARIFA</td><td>21120</td></tr>",
                            "<tr><td>9329461</td><td>MORNING CELLO</td><td>21059</td></tr>",
                            "<tr><td>9329473</td><td>MORNING CORNET</td><td>20500</td></tr>",
                            "<tr><td>9335953</td><td>APHRODITE LEADER</td><td>21443</td></tr>",
                            "<tr><td>9336050</td><td>MORNING CONDUCTOR</td><td>21091</td></tr>",
                            "<tr><td>9336062</td><td>MORNING CELESTA</td><td>21055</td></tr>",
                            "<tr><td>9336074</td><td>MORNING COMPOSER</td><td>21052</td></tr>",
                            "<tr><td>9336086</td><td>MORNING CAROL</td><td>21044</td></tr>",
                            "<tr><td>9338694</td><td>MORNING CHARLOTTE</td><td>22578</td></tr>",
                            "<tr><td>9338723</td><td>MORNING CAROLINE</td><td>22717</td></tr>",
                            "<tr><td>9338876</td><td>SALVIA ACE</td><td>15013</td></tr>",
                            "<tr><td>9338888</td><td>PROMETHEUS LEADER</td><td>14382</td></tr>",
                            "<tr><td>9338890</td><td>PLUTO LEADER</td><td>14342</td></tr>",
                            "<tr><td>9339844</td><td>GRAND PEARL</td><td>18090</td></tr>",
                            "<tr><td>9340776</td><td>POSITIVE LEADER</td><td>15023</td></tr>",
                            "<tr><td>9355185</td><td>PRIMROSE ACE</td><td>17339</td></tr>",
                            "<tr><td>9355202</td><td>ARTEMIS LEADER</td><td>21424</td></tr>",
                            "<tr><td>9355214</td><td>RHEA LEADER</td><td>21428</td></tr>",
                            "<tr><td>9360568</td><td>DREAM ORCHID</td><td>15097</td></tr>",
                            "<tr><td>9362267</td><td>LONDON HIGHWAY</td><td>17765</td></tr>",
                            "<tr><td>9363948</td><td>LAVENDER ACE</td><td>17262</td></tr>",
                            "<tr><td>9363950</td><td>CLOVER ACE</td><td>17280</td></tr>",
                            "<tr><td>9367580</td><td>MORNING MARGARETA</td><td>17386</td></tr>",
                            "<tr><td>9367592</td><td>MORNING NINNI</td><td>17372</td></tr>",
                            "<tr><td>9367607</td><td>CANOPUS LEADER</td><td>17382</td></tr>",
                            "<tr><td>9368900</td><td>HOEGH SYDNEY</td><td>17311</td></tr>",
                            "<tr><td>9372315</td><td>LUNA SPIRIT</td><td>15261</td></tr>",
                            "<tr><td>9372810</td><td>POLARIS LEADER</td><td>17406</td></tr>",
                            "<tr><td>9377511</td><td>TIJUCA</td><td>30089</td></tr>",
                            "<tr><td>9377523</td><td>TIRRANNA</td><td>29936</td></tr>",
                            "<tr><td>9381249</td><td>CYGNUS LEADER</td><td>20180</td></tr>",
                            "<tr><td>9381677</td><td>ORCHID ACE</td><td>17289</td></tr>",
                            "<tr><td>9382102</td><td>CHANG TAI HONG</td><td>12282</td></tr>",
                            "<tr><td>9382396</td><td>HOEGH OSLO</td><td>17252</td></tr>",
                            "<tr><td>9383429</td><td>MORNING LYNN</td><td>28092</td></tr>",
                            "<tr><td>9391579</td><td>SERENITY ACE</td><td>21004</td></tr>",
                            "<tr><td>9391581</td><td>CSCC ASIA</td><td>21037</td></tr>",
                            "<tr><td>9391593</td><td>CSCC EUROPE</td><td>21300</td></tr>",
                            "<tr><td>9392341</td><td>VENUS LEADER</td><td>15031</td></tr>",
                            "<tr><td>9392353</td><td>MERCURY LEADER</td><td>15045</td></tr>",
                            "<tr><td>9395628</td><td>VICTORY LEADER</td><td>13363</td></tr>",
                            "<tr><td>9395630</td><td>VIOLET ACE</td><td>13370</td></tr>",
                            "<tr><td>9397987</td><td>AQUAMARINE ACE</td><td>18772</td></tr>",
                            "<tr><td>9397999</td><td>AMETHYST ACE</td><td>18760</td></tr>",
                            "<tr><td>9402744</td><td>NEPTUNE LEADER</td><td>12853</td></tr>",
                            "<tr><td>9403217</td><td>GLORIOUS EXPRESS</td><td>17212</td></tr>",
                            "<tr><td>9403279</td><td>HYPERION LEADER</td><td>14381</td></tr>",
                            "<tr><td>9412567</td><td>TRANS LEADER</td><td>15154</td></tr>",
                            "<tr><td>9420045</td><td>HOEGH ST. PETERSBURG</td><td>27352</td></tr>",
                            "<tr><td>9426374</td><td>PLEIADES LEADER</td><td>21462</td></tr>",
                            "<tr><td>9427938</td><td>PAGANINO</td><td>11373</td></tr>",
                            "<tr><td>9427940</td><td>PAGLIA</td><td>11369</td></tr>",
                            "<tr><td>9427952</td><td>PAGNA</td><td>11315</td></tr>",
                            "<tr><td>9430519</td><td>NOCC ATLANTIC</td><td>22500</td></tr>",
                            "<tr><td>9431850</td><td>HOEGH MAPUTO</td><td>12250</td></tr>",
                            "<tr><td>9432907</td><td>TOKYO CAR</td><td>12352</td></tr>",
                            "<tr><td>9432919</td><td>OSAKA CAR</td><td>12321</td></tr>",
                            "<tr><td>9441556</td><td>HERITAGE LEADER</td><td>20434</td></tr>",
                            "<tr><td>9441594</td><td>GLOVIS CARAVEL</td><td>20434</td></tr>",
                            "<tr><td>9441609</td><td>MORNING CLASSIC</td><td>21000</td></tr>",
                            "<tr><td>9441611</td><td>MORNING COMPASS</td><td>21000</td></tr>",
                            "<tr><td>9441623</td><td>HOEGH ANTWERP</td><td>21000</td></tr>",
                            "<tr><td>9445980</td><td>MORNING LADY</td><td>27343</td></tr>",
                            "<tr><td>9446881</td><td>ADRIA ACE</td><td>12300</td></tr>",
                            "<tr><td>9448061</td><td>SEPANG EXPRESS</td><td>15154</td></tr>",
                            "<tr><td>9448138</td><td>VANY RICKMERS</td><td>12300</td></tr>",
                            "<tr><td>9451006</td><td>MEDITERRANEAN SEA</td><td>14774</td></tr>",
                            "<tr><td>9454711</td><td>COSCO SHENGSHI</td><td>14868</td></tr>",
                            "<tr><td>9454723</td><td>COSCO TENGFEI</td><td>14707</td></tr>",
                            "<tr><td>9460887</td><td>MORNING CLARA</td><td>18638</td></tr>",
                            "<tr><td>9464455</td><td>CRONUS LEADER</td><td>20096</td></tr>",
                            "<tr><td>9476733</td><td>ZEUS LEADER</td><td>18697</td></tr>",
                            "<tr><td>9476745</td><td>HELIOS LEADER</td><td>18692</td></tr>",
                            "<tr><td>9476757</td><td>RUBY ACE</td><td>18724</td></tr>",
                            "<tr><td>9477919</td><td>MORNING CAMILLA</td><td>22692</td></tr>",
                            "<tr><td>9477921</td><td>DEMETER LEADER</td><td>20019</td></tr>",
                            "<tr><td>9481049</td><td>VIKING AMBER</td><td>12471</td></tr>",
                            "<tr><td>9481051</td><td>VIKING CORAL</td><td>12588</td></tr>",
                            "<tr><td>9481075</td><td>VIKING DIAMOND</td><td>12572</td></tr>",
                            "<tr><td>9483786</td><td>ARABIAN SEA</td><td>13059</td></tr>",
                            "<tr><td>9491874</td><td>PASSAMA</td><td>12806</td></tr>",
                            "<tr><td>9491886</td><td>PASSERO</td><td>12755</td></tr>",
                            "<tr><td>9491898</td><td>PATARA</td><td>12755</td></tr>",
                            "<tr><td>9494905</td><td>LAKE FUXIAN</td><td>17245</td></tr>",
                            "<tr><td>9498597</td><td>SELENE LEADER</td><td>18082</td></tr>",
                            "<tr><td>9502427</td><td>SENTOSA LEADER</td><td>17143</td></tr>",
                            "<tr><td>9505053</td><td>TITANIA</td><td>30907</td></tr>",
                            "<tr><td>9505065</td><td>TUGELA</td><td>28837</td></tr>",
                            "<tr><td>9505089</td><td>TULANE</td><td>28818</td></tr>",
                            "<tr><td>9505900</td><td>VENUS SPIRIT</td><td>13951</td></tr>",
                            "<tr><td>9509401</td><td>JUPITER SPIRIT</td><td>13954</td></tr>",
                            "<tr><td>9514987</td><td>VIKING EMERALD</td><td>12500</td></tr>",
                            "<tr><td>9514999</td><td>VIKING OCEAN</td><td>12500</td></tr>",
                            "<tr><td>9515008</td><td>VIKING SEA</td><td>10600</td></tr>",
                            "<tr><td>9515474</td><td>IRIS ACE</td><td>14349</td></tr>",
                            "<tr><td>9519121</td><td>TRITON ACE</td><td>22723</td></tr>",
                            "<tr><td>9519145</td><td>MORNING CORNELIA</td><td>22746</td></tr>",
                            "<tr><td>9531739</td><td>ATLAS LEADER</td><td>21323</td></tr>",
                            "<tr><td>9531741</td><td>ASTERIA LEADER</td><td>21349</td></tr>",
                            "<tr><td>9536818</td><td>GAIA LEADER</td><td>21286</td></tr>",
                            "<tr><td>9539236</td><td>EMERALD ACE</td><td>18334</td></tr>",
                            "<tr><td>9542283</td><td>AZALEA ACE</td><td>15154</td></tr>",
                            "<tr><td>9542295</td><td>GARDENIA ACE</td><td>15154</td></tr>",
                            "<tr><td>9544918</td><td>CATTLEYA ACE</td><td>16384</td></tr>",
                            "<tr><td>9553115</td><td>THEMIS LEADER</td><td>20037</td></tr>",
                            "<tr><td>9554200</td><td>PRECIOUS ACE</td><td>19045</td></tr>",
                            "<tr><td>9561954</td><td>DIONE LEADER</td><td>21111</td></tr>",
                            "<tr><td>9590589</td><td>GLOVIS CENTURY</td><td>20895</td></tr>",
                            "<tr><td>9610406</td><td>VICTORIOUS ACE</td><td>18396</td></tr>",
                            "<tr><td>9610444</td><td>PRIME ACE</td><td>18304</td></tr>",
                            "<tr><td>9650743</td><td>METIS LEADER</td><td>19013</td></tr>",
                            "<tr><td>9660798</td><td>HOEGH AMSTERDAM</td><td>21000</td></tr>",
                            "<tr><td>9663295</td><td>MORNING CAPO</td><td>20139</td></tr>",
                            "<tr><td>9663300</td><td>MORNING CHANT</td><td>20190</td></tr>",
                            "<tr><td>9667344</td><td>FREMANTLE HIGHWAY</td><td>18549</td></tr>",
                            "<tr><td>9668491</td><td>NEPTUNE GALENE</td><td>11260</td></tr>",
                            "<tr><td>9668506</td><td>NEPTUNE THALASSA</td><td>11262</td></tr>",
                            "<tr><td>9669029</td><td>MORNING POST</td><td>22675</td></tr>",
                            "<tr><td>9669031</td><td>MORNING PILOT</td><td>22675</td></tr>",
                            "<tr><td>9672404</td><td>GRAVITY HIGHWAY</td><td>21000</td></tr>",
                            "<tr><td>9672416</td><td>GENIUS HIGHWAY</td><td>21000</td></tr>",
                            "<tr><td>9673379</td><td>HOEGH JACKSONVILLE</td><td>20578</td></tr>",
                            "<tr><td>9673381</td><td>HOEGH JEDDAH</td><td>20407</td></tr>",
                            "<tr><td>9674165</td><td>GLOVIS SPIRIT</td><td>20138</td></tr>",
                            "<tr><td>9674177</td><td>GLOVIS SUPREME</td><td>20138</td></tr>",
                            "<tr><td>9674189</td><td>GLOVIS SUPERIOR</td><td>20138</td></tr>",
                            "<tr><td>9675573</td><td>GALVESTON HIGHWAY</td><td>18549</td></tr>",
                            "<tr><td>9675585</td><td>MORNING CHERRY</td><td>18556</td></tr>",
                            "<tr><td>9676864</td><td>ARIES LEADER</td><td>18808</td></tr>",
                            "<tr><td>9676876</td><td>PISCES LEADER</td><td>18781</td></tr>",
                            "<tr><td>9681431</td><td>MORNING PRIDE</td><td>22675</td></tr>",
                            "<tr><td>9690523</td><td>HARVEST LEADER</td><td>20941</td></tr>",
                            "<tr><td>9701140</td><td>GOODWOOD</td><td>18770</td></tr>",
                            "<tr><td>9702405</td><td>GLOVIS SUNRISE</td><td>20056</td></tr>",
                            "<tr><td>9702417</td><td>GLOVIS SUMMIT</td><td>20056</td></tr>",
                            "<tr><td>9702429</td><td>GLOVIS SYMPHONY</td><td>20056</td></tr>",
                            "<tr><td>9702431</td><td>GLOVIS SPLENDOR</td><td>20056</td></tr>",
                            "<tr><td>9702443</td><td>THERMOPYLAE</td><td>23786</td></tr>",
                            "<tr><td>9706994</td><td>GLOVIS CROWN</td><td>20019</td></tr>",
                            "<tr><td>9713882</td><td>LAKE GENEVA</td><td>18770</td></tr>",
                            "</table>"
                        ]
                    }
                }
            ],
            "execution_count": 15
        }
    ]
}