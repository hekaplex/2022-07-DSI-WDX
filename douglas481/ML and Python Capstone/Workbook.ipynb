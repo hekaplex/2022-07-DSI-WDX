{
 "cells": [
  {
   "cell_type": "code",
   "execution_count": 109,
   "metadata": {},
   "outputs": [],
   "source": [
    "import pandas as pd\n",
    "from prophet import Prophet"
   ]
  },
  {
   "cell_type": "markdown",
   "metadata": {},
   "source": [
    "Install necessary packages, namely pandas and prophet if you do not have already"
   ]
  },
  {
   "cell_type": "code",
   "execution_count": null,
   "metadata": {},
   "outputs": [],
   "source": [
    "df = pd.read_csv('GNPDataset.csv', on_bad_lines='skip')"
   ]
  },
  {
   "cell_type": "code",
   "execution_count": null,
   "metadata": {},
   "outputs": [],
   "source": [
    "df.head()"
   ]
  },
  {
   "cell_type": "markdown",
   "metadata": {},
   "source": [
    "Data is good, but need to drop last two columns and then reformat csv with date in one column and the visitor number in the second column to feed prophet properly"
   ]
  },
  {
   "cell_type": "code",
   "execution_count": null,
   "metadata": {},
   "outputs": [],
   "source": [
    "#taken and modified from https://github.com/fred-lindsey/projects/blob/main/TSA_NPS_visitor_prediction/wrangle.py\n",
    "\n",
    "# set 'Year' as the index, so that I can stack the dataframe, ie reduce the dimensions so that I can merge the dataframes\n",
    "df = df.set_index('Year')\n",
    "# drop 'Textbox4' and 'AnnualTotal' column. This is a yearly % change and yearly total column for the dataset\n",
    "df = df.drop(columns=['Textbox4','AnnualTotal'])\n",
    "# now I'm going to stack, meaning move the columns headers under the index, to reduce the dimensionality of the dataframe\n",
    "df = df.stack(level=0)\n",
    "# stacking produces a series when I'm done, and it will need to be converted back into a DF\n",
    "df = df.to_frame()\n",
    "# now add a title to the DF's only column\n",
    "df.columns = ['glacier_national_park_visits']\n",
    "# reset the index to seperate the current multi-index into distinct year and month columns\n",
    "df = df.reset_index(drop=False)\n",
    "# create a composite date column\n",
    "df['date'] = df.Year.astype(str) + \"-\" + df.level_1\n",
    "# convert the date column to datetime object\n",
    "df.date = pd.to_datetime(df.date)\n",
    "# set the date as the index and sort index\n",
    "df = df.set_index('date').sort_index()\n",
    "# drop Year and level_1 columns that are no longer needed\n",
    "df = df.drop(columns=['Year', 'level_1'])\n",
    "display(df)"
   ]
  },
  {
   "cell_type": "code",
   "execution_count": null,
   "metadata": {},
   "outputs": [],
   "source": [
    "df.to_csv(r'C:\\Users\\divergence\\OneDrive - DIVERGENCE ONE\\Documents\\GitHub\\2022-07-DSI-WDX\\douglas481\\ML and Python Capstone\\IndexedData.csv', index=True)"
   ]
  },
  {
   "cell_type": "code",
   "execution_count": 110,
   "metadata": {},
   "outputs": [],
   "source": [
    "df = pd.read_csv('IndexedData.csv')"
   ]
  },
  {
   "cell_type": "code",
   "execution_count": 111,
   "metadata": {},
   "outputs": [
    {
     "data": {
      "text/html": [
       "<div>\n",
       "<style scoped>\n",
       "    .dataframe tbody tr th:only-of-type {\n",
       "        vertical-align: middle;\n",
       "    }\n",
       "\n",
       "    .dataframe tbody tr th {\n",
       "        vertical-align: top;\n",
       "    }\n",
       "\n",
       "    .dataframe thead th {\n",
       "        text-align: right;\n",
       "    }\n",
       "</style>\n",
       "<table border=\"1\" class=\"dataframe\">\n",
       "  <thead>\n",
       "    <tr style=\"text-align: right;\">\n",
       "      <th></th>\n",
       "      <th>ds</th>\n",
       "      <th>y</th>\n",
       "    </tr>\n",
       "  </thead>\n",
       "  <tbody>\n",
       "    <tr>\n",
       "      <th>0</th>\n",
       "      <td>1979-01-01</td>\n",
       "      <td>6357</td>\n",
       "    </tr>\n",
       "    <tr>\n",
       "      <th>1</th>\n",
       "      <td>1979-02-01</td>\n",
       "      <td>3480</td>\n",
       "    </tr>\n",
       "    <tr>\n",
       "      <th>2</th>\n",
       "      <td>1979-03-01</td>\n",
       "      <td>11790</td>\n",
       "    </tr>\n",
       "    <tr>\n",
       "      <th>3</th>\n",
       "      <td>1979-04-01</td>\n",
       "      <td>15000</td>\n",
       "    </tr>\n",
       "    <tr>\n",
       "      <th>4</th>\n",
       "      <td>1979-05-01</td>\n",
       "      <td>65923</td>\n",
       "    </tr>\n",
       "    <tr>\n",
       "      <th>...</th>\n",
       "      <td>...</td>\n",
       "      <td>...</td>\n",
       "    </tr>\n",
       "    <tr>\n",
       "      <th>511</th>\n",
       "      <td>2021-08-01</td>\n",
       "      <td>670628</td>\n",
       "    </tr>\n",
       "    <tr>\n",
       "      <th>512</th>\n",
       "      <td>2021-09-01</td>\n",
       "      <td>533388</td>\n",
       "    </tr>\n",
       "    <tr>\n",
       "      <th>513</th>\n",
       "      <td>2021-10-01</td>\n",
       "      <td>149564</td>\n",
       "    </tr>\n",
       "    <tr>\n",
       "      <th>514</th>\n",
       "      <td>2021-11-01</td>\n",
       "      <td>26300</td>\n",
       "    </tr>\n",
       "    <tr>\n",
       "      <th>515</th>\n",
       "      <td>2021-12-01</td>\n",
       "      <td>17629</td>\n",
       "    </tr>\n",
       "  </tbody>\n",
       "</table>\n",
       "<p>516 rows × 2 columns</p>\n",
       "</div>"
      ],
      "text/plain": [
       "            ds       y\n",
       "0   1979-01-01    6357\n",
       "1   1979-02-01    3480\n",
       "2   1979-03-01   11790\n",
       "3   1979-04-01   15000\n",
       "4   1979-05-01   65923\n",
       "..         ...     ...\n",
       "511 2021-08-01  670628\n",
       "512 2021-09-01  533388\n",
       "513 2021-10-01  149564\n",
       "514 2021-11-01   26300\n",
       "515 2021-12-01   17629\n",
       "\n",
       "[516 rows x 2 columns]"
      ]
     },
     "metadata": {},
     "output_type": "display_data"
    }
   ],
   "source": [
    "df.columns = ['ds', 'y']\n",
    "df['ds'] = pd.to_datetime(df['ds'])\n",
    "df['y'] = df['y'].str.replace(r',', '')\n",
    "df['y'] = pd.to_numeric(df['y'])\n",
    "display(df)"
   ]
  },
  {
   "cell_type": "code",
   "execution_count": 112,
   "metadata": {},
   "outputs": [
    {
     "data": {
      "text/plain": [
       "ds    datetime64[ns]\n",
       "y              int64\n",
       "dtype: object"
      ]
     },
     "execution_count": 112,
     "metadata": {},
     "output_type": "execute_result"
    }
   ],
   "source": [
    "df.dtypes"
   ]
  },
  {
   "cell_type": "markdown",
   "metadata": {},
   "source": [
    "Data has been cleaned and formatted to be fed to Prophet, so next we have to train the model"
   ]
  },
  {
   "cell_type": "code",
   "execution_count": 113,
   "metadata": {},
   "outputs": [
    {
     "name": "stderr",
     "output_type": "stream",
     "text": [
      "10:15:42 - cmdstanpy - INFO - Chain [1] start processing\n",
      "10:15:42 - cmdstanpy - INFO - Chain [1] done processing\n"
     ]
    }
   ],
   "source": [
    "m = Prophet(interval_width=0.95, daily_seasonality=True)\n",
    "model = m.fit(df)"
   ]
  }
 ],
 "metadata": {
  "kernelspec": {
   "display_name": "Python 3.9.12 ('base')",
   "language": "python",
   "name": "python3"
  },
  "language_info": {
   "codemirror_mode": {
    "name": "ipython",
    "version": 3
   },
   "file_extension": ".py",
   "mimetype": "text/x-python",
   "name": "python",
   "nbconvert_exporter": "python",
   "pygments_lexer": "ipython3",
   "version": "3.9.12"
  },
  "orig_nbformat": 4,
  "vscode": {
   "interpreter": {
    "hash": "ad2bdc8ecc057115af97d19610ffacc2b4e99fae6737bb82f5d7fb13d2f2c186"
   }
  }
 },
 "nbformat": 4,
 "nbformat_minor": 2
}
