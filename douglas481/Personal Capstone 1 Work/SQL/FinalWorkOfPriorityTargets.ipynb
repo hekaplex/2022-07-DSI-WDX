{
    "metadata": {
        "kernelspec": {
            "name": "SQL",
            "display_name": "SQL",
            "language": "sql"
        },
        "language_info": {
            "name": "sql",
            "version": ""
        }
    },
    "nbformat_minor": 2,
    "nbformat": 4,
    "cells": [
        {
            "cell_type": "markdown",
            "source": [
                "Filtering all terraforming candidates to show which star systems have multiple candidates to help prioritize colonization efforts."
            ],
            "metadata": {
                "azdata_cell_guid": "bfddb7a3-25ee-4541-8eeb-1790c0f54a61"
            },
            "attachments": {}
        },
        {
            "cell_type": "code",
            "source": [
                "SELECT T.Host_Name\r\n",
                ", COUNT(T.Host_Name) AS 'Number of Candidate Planets'\r\n",
                "FROM TerraformingCandidates T\r\n",
                "GROUP BY T.Host_Name\r\n",
                "HAVING COUNT(T.Host_Name)>0\r\n",
                "ORDER BY COUNT(T.Host_Name) DESC"
            ],
            "metadata": {
                "azdata_cell_guid": "d34bba06-2f02-4037-b394-1c3359628991",
                "language": "sql"
            },
            "outputs": [
                {
                    "output_type": "display_data",
                    "data": {
                        "text/html": "(62 rows affected)"
                    },
                    "metadata": {}
                },
                {
                    "output_type": "display_data",
                    "data": {
                        "text/html": "Total execution time: 00:00:00.010"
                    },
                    "metadata": {}
                },
                {
                    "output_type": "execute_result",
                    "metadata": {},
                    "execution_count": 7,
                    "data": {
                        "application/vnd.dataresource+json": {
                            "schema": {
                                "fields": [
                                    {
                                        "name": "Host_Name"
                                    },
                                    {
                                        "name": "Number of Candidate Planets"
                                    }
                                ]
                            },
                            "data": [
                                {
                                    "0": "GJ 667 C",
                                    "1": "5"
                                },
                                {
                                    "0": "HD 158259",
                                    "1": "4"
                                },
                                {
                                    "0": "HD 215152",
                                    "1": "4"
                                },
                                {
                                    "0": "tau Cet",
                                    "1": "4"
                                },
                                {
                                    "0": "Wolf 1061",
                                    "1": "3"
                                },
                                {
                                    "0": "HD 39194",
                                    "1": "3"
                                },
                                {
                                    "0": "GJ 1061",
                                    "1": "3"
                                },
                                {
                                    "0": "GJ 180",
                                    "1": "3"
                                },
                                {
                                    "0": "GJ 229",
                                    "1": "2"
                                },
                                {
                                    "0": "GJ 273",
                                    "1": "2"
                                },
                                {
                                    "0": "GJ 3138",
                                    "1": "2"
                                },
                                {
                                    "0": "GJ 3293",
                                    "1": "2"
                                },
                                {
                                    "0": "GJ 3323",
                                    "1": "2"
                                },
                                {
                                    "0": "GJ 3998",
                                    "1": "2"
                                },
                                {
                                    "0": "HD 1461",
                                    "1": "2"
                                },
                                {
                                    "0": "GJ 433",
                                    "1": "2"
                                },
                                {
                                    "0": "GJ 581",
                                    "1": "2"
                                },
                                {
                                    "0": "GJ 676 A",
                                    "1": "2"
                                },
                                {
                                    "0": "GJ 682",
                                    "1": "2"
                                },
                                {
                                    "0": "HD 176986",
                                    "1": "2"
                                },
                                {
                                    "0": "HD 189567",
                                    "1": "2"
                                },
                                {
                                    "0": "HD 96700",
                                    "1": "2"
                                },
                                {
                                    "0": "Teegarden's Star",
                                    "1": "2"
                                },
                                {
                                    "0": "TRAPPIST-1",
                                    "1": "2"
                                },
                                {
                                    "0": "HD 216520",
                                    "1": "1"
                                },
                                {
                                    "0": "HD 26965",
                                    "1": "1"
                                },
                                {
                                    "0": "HIP 38594",
                                    "1": "1"
                                },
                                {
                                    "0": "HIP 54373",
                                    "1": "1"
                                },
                                {
                                    "0": "HIP 57274",
                                    "1": "1"
                                },
                                {
                                    "0": "K2-129",
                                    "1": "1"
                                },
                                {
                                    "0": "Kapteyn",
                                    "1": "1"
                                },
                                {
                                    "0": "Proxima Cen",
                                    "1": "1"
                                },
                                {
                                    "0": "Ross 128",
                                    "1": "1"
                                },
                                {
                                    "0": "Ross 508",
                                    "1": "1"
                                },
                                {
                                    "0": "HD 20794",
                                    "1": "1"
                                },
                                {
                                    "0": "HD 181433",
                                    "1": "1"
                                },
                                {
                                    "0": "HD 39855",
                                    "1": "1"
                                },
                                {
                                    "0": "HD 40307",
                                    "1": "1"
                                },
                                {
                                    "0": "HD 45184",
                                    "1": "1"
                                },
                                {
                                    "0": "HD 85512",
                                    "1": "1"
                                },
                                {
                                    "0": "GJ 685",
                                    "1": "1"
                                },
                                {
                                    "0": "GJ 832",
                                    "1": "1"
                                },
                                {
                                    "0": "GJ 876",
                                    "1": "1"
                                },
                                {
                                    "0": "Gl 49",
                                    "1": "1"
                                },
                                {
                                    "0": "HD 125595",
                                    "1": "1"
                                },
                                {
                                    "0": "HD 13808",
                                    "1": "1"
                                },
                                {
                                    "0": "GJ 625",
                                    "1": "1"
                                },
                                {
                                    "0": "GJ 536",
                                    "1": "1"
                                },
                                {
                                    "0": "HD 154088",
                                    "1": "1"
                                },
                                {
                                    "0": "HD 156668",
                                    "1": "1"
                                },
                                {
                                    "0": "HD 164922",
                                    "1": "1"
                                },
                                {
                                    "0": "HD 168009",
                                    "1": "1"
                                },
                                {
                                    "0": "GJ 414 A",
                                    "1": "1"
                                },
                                {
                                    "0": "61 Vir",
                                    "1": "1"
                                },
                                {
                                    "0": "BD-06 1339",
                                    "1": "1"
                                },
                                {
                                    "0": "GJ 3341",
                                    "1": "1"
                                },
                                {
                                    "0": "GJ 3634",
                                    "1": "1"
                                },
                                {
                                    "0": "GJ 3779",
                                    "1": "1"
                                },
                                {
                                    "0": "GJ 3082",
                                    "1": "1"
                                },
                                {
                                    "0": "GJ 1132",
                                    "1": "1"
                                },
                                {
                                    "0": "GJ 1265",
                                    "1": "1"
                                },
                                {
                                    "0": "GJ 163",
                                    "1": "1"
                                }
                            ]
                        },
                        "text/html": [
                            "<table>",
                            "<tr><th>Host_Name</th><th>Number of Candidate Planets</th></tr>",
                            "<tr><td>GJ 667 C</td><td>5</td></tr>",
                            "<tr><td>HD 158259</td><td>4</td></tr>",
                            "<tr><td>HD 215152</td><td>4</td></tr>",
                            "<tr><td>tau Cet</td><td>4</td></tr>",
                            "<tr><td>Wolf 1061</td><td>3</td></tr>",
                            "<tr><td>HD 39194</td><td>3</td></tr>",
                            "<tr><td>GJ 1061</td><td>3</td></tr>",
                            "<tr><td>GJ 180</td><td>3</td></tr>",
                            "<tr><td>GJ 229</td><td>2</td></tr>",
                            "<tr><td>GJ 273</td><td>2</td></tr>",
                            "<tr><td>GJ 3138</td><td>2</td></tr>",
                            "<tr><td>GJ 3293</td><td>2</td></tr>",
                            "<tr><td>GJ 3323</td><td>2</td></tr>",
                            "<tr><td>GJ 3998</td><td>2</td></tr>",
                            "<tr><td>HD 1461</td><td>2</td></tr>",
                            "<tr><td>GJ 433</td><td>2</td></tr>",
                            "<tr><td>GJ 581</td><td>2</td></tr>",
                            "<tr><td>GJ 676 A</td><td>2</td></tr>",
                            "<tr><td>GJ 682</td><td>2</td></tr>",
                            "<tr><td>HD 176986</td><td>2</td></tr>",
                            "<tr><td>HD 189567</td><td>2</td></tr>",
                            "<tr><td>HD 96700</td><td>2</td></tr>",
                            "<tr><td>Teegarden's Star</td><td>2</td></tr>",
                            "<tr><td>TRAPPIST-1</td><td>2</td></tr>",
                            "<tr><td>HD 216520</td><td>1</td></tr>",
                            "<tr><td>HD 26965</td><td>1</td></tr>",
                            "<tr><td>HIP 38594</td><td>1</td></tr>",
                            "<tr><td>HIP 54373</td><td>1</td></tr>",
                            "<tr><td>HIP 57274</td><td>1</td></tr>",
                            "<tr><td>K2-129</td><td>1</td></tr>",
                            "<tr><td>Kapteyn</td><td>1</td></tr>",
                            "<tr><td>Proxima Cen</td><td>1</td></tr>",
                            "<tr><td>Ross 128</td><td>1</td></tr>",
                            "<tr><td>Ross 508</td><td>1</td></tr>",
                            "<tr><td>HD 20794</td><td>1</td></tr>",
                            "<tr><td>HD 181433</td><td>1</td></tr>",
                            "<tr><td>HD 39855</td><td>1</td></tr>",
                            "<tr><td>HD 40307</td><td>1</td></tr>",
                            "<tr><td>HD 45184</td><td>1</td></tr>",
                            "<tr><td>HD 85512</td><td>1</td></tr>",
                            "<tr><td>GJ 685</td><td>1</td></tr>",
                            "<tr><td>GJ 832</td><td>1</td></tr>",
                            "<tr><td>GJ 876</td><td>1</td></tr>",
                            "<tr><td>Gl 49</td><td>1</td></tr>",
                            "<tr><td>HD 125595</td><td>1</td></tr>",
                            "<tr><td>HD 13808</td><td>1</td></tr>",
                            "<tr><td>GJ 625</td><td>1</td></tr>",
                            "<tr><td>GJ 536</td><td>1</td></tr>",
                            "<tr><td>HD 154088</td><td>1</td></tr>",
                            "<tr><td>HD 156668</td><td>1</td></tr>",
                            "<tr><td>HD 164922</td><td>1</td></tr>",
                            "<tr><td>HD 168009</td><td>1</td></tr>",
                            "<tr><td>GJ 414 A</td><td>1</td></tr>",
                            "<tr><td>61 Vir</td><td>1</td></tr>",
                            "<tr><td>BD-06 1339</td><td>1</td></tr>",
                            "<tr><td>GJ 3341</td><td>1</td></tr>",
                            "<tr><td>GJ 3634</td><td>1</td></tr>",
                            "<tr><td>GJ 3779</td><td>1</td></tr>",
                            "<tr><td>GJ 3082</td><td>1</td></tr>",
                            "<tr><td>GJ 1132</td><td>1</td></tr>",
                            "<tr><td>GJ 1265</td><td>1</td></tr>",
                            "<tr><td>GJ 163</td><td>1</td></tr>",
                            "</table>"
                        ]
                    }
                }
            ],
            "execution_count": 7
        },
        {
            "cell_type": "markdown",
            "source": [
                "Now to prioritize which star systems to target we want systems with more than one candidate"
            ],
            "metadata": {
                "azdata_cell_guid": "ef59e964-7d18-415e-8039-4e9a630a98a3"
            },
            "attachments": {}
        },
        {
            "cell_type": "code",
            "source": [
                "SELECT T.Host_Name\r\n",
                ", COUNT(T.Host_Name) AS 'Number of Candidate Planets'\r\n",
                "FROM TerraformingCandidates T\r\n",
                "GROUP BY T.Host_Name\r\n",
                "HAVING COUNT(T.Host_Name)>1\r\n",
                "ORDER BY COUNT(T.Host_Name) DESC"
            ],
            "metadata": {
                "azdata_cell_guid": "fe62b9b0-354e-411b-9487-3e29601de0ea",
                "language": "sql"
            },
            "outputs": [
                {
                    "output_type": "display_data",
                    "data": {
                        "text/html": "(24 rows affected)"
                    },
                    "metadata": {}
                },
                {
                    "output_type": "display_data",
                    "data": {
                        "text/html": "Total execution time: 00:00:00.019"
                    },
                    "metadata": {}
                },
                {
                    "output_type": "execute_result",
                    "metadata": {},
                    "execution_count": 8,
                    "data": {
                        "application/vnd.dataresource+json": {
                            "schema": {
                                "fields": [
                                    {
                                        "name": "Host_Name"
                                    },
                                    {
                                        "name": "Number of Candidate Planets"
                                    }
                                ]
                            },
                            "data": [
                                {
                                    "0": "GJ 667 C",
                                    "1": "5"
                                },
                                {
                                    "0": "HD 158259",
                                    "1": "4"
                                },
                                {
                                    "0": "HD 215152",
                                    "1": "4"
                                },
                                {
                                    "0": "tau Cet",
                                    "1": "4"
                                },
                                {
                                    "0": "Wolf 1061",
                                    "1": "3"
                                },
                                {
                                    "0": "HD 39194",
                                    "1": "3"
                                },
                                {
                                    "0": "GJ 1061",
                                    "1": "3"
                                },
                                {
                                    "0": "GJ 180",
                                    "1": "3"
                                },
                                {
                                    "0": "GJ 229",
                                    "1": "2"
                                },
                                {
                                    "0": "GJ 273",
                                    "1": "2"
                                },
                                {
                                    "0": "GJ 3138",
                                    "1": "2"
                                },
                                {
                                    "0": "GJ 3293",
                                    "1": "2"
                                },
                                {
                                    "0": "GJ 3323",
                                    "1": "2"
                                },
                                {
                                    "0": "GJ 3998",
                                    "1": "2"
                                },
                                {
                                    "0": "GJ 433",
                                    "1": "2"
                                },
                                {
                                    "0": "GJ 581",
                                    "1": "2"
                                },
                                {
                                    "0": "HD 96700",
                                    "1": "2"
                                },
                                {
                                    "0": "HD 176986",
                                    "1": "2"
                                },
                                {
                                    "0": "HD 189567",
                                    "1": "2"
                                },
                                {
                                    "0": "GJ 676 A",
                                    "1": "2"
                                },
                                {
                                    "0": "GJ 682",
                                    "1": "2"
                                },
                                {
                                    "0": "HD 1461",
                                    "1": "2"
                                },
                                {
                                    "0": "Teegarden's Star",
                                    "1": "2"
                                },
                                {
                                    "0": "TRAPPIST-1",
                                    "1": "2"
                                }
                            ]
                        },
                        "text/html": [
                            "<table>",
                            "<tr><th>Host_Name</th><th>Number of Candidate Planets</th></tr>",
                            "<tr><td>GJ 667 C</td><td>5</td></tr>",
                            "<tr><td>HD 158259</td><td>4</td></tr>",
                            "<tr><td>HD 215152</td><td>4</td></tr>",
                            "<tr><td>tau Cet</td><td>4</td></tr>",
                            "<tr><td>Wolf 1061</td><td>3</td></tr>",
                            "<tr><td>HD 39194</td><td>3</td></tr>",
                            "<tr><td>GJ 1061</td><td>3</td></tr>",
                            "<tr><td>GJ 180</td><td>3</td></tr>",
                            "<tr><td>GJ 229</td><td>2</td></tr>",
                            "<tr><td>GJ 273</td><td>2</td></tr>",
                            "<tr><td>GJ 3138</td><td>2</td></tr>",
                            "<tr><td>GJ 3293</td><td>2</td></tr>",
                            "<tr><td>GJ 3323</td><td>2</td></tr>",
                            "<tr><td>GJ 3998</td><td>2</td></tr>",
                            "<tr><td>GJ 433</td><td>2</td></tr>",
                            "<tr><td>GJ 581</td><td>2</td></tr>",
                            "<tr><td>HD 96700</td><td>2</td></tr>",
                            "<tr><td>HD 176986</td><td>2</td></tr>",
                            "<tr><td>HD 189567</td><td>2</td></tr>",
                            "<tr><td>GJ 676 A</td><td>2</td></tr>",
                            "<tr><td>GJ 682</td><td>2</td></tr>",
                            "<tr><td>HD 1461</td><td>2</td></tr>",
                            "<tr><td>Teegarden's Star</td><td>2</td></tr>",
                            "<tr><td>TRAPPIST-1</td><td>2</td></tr>",
                            "</table>"
                        ]
                    }
                }
            ],
            "execution_count": 8
        },
        {
            "cell_type": "markdown",
            "source": [
                "Finally cross refernce each star system with multiple candidates with their distance and stellar type"
            ],
            "metadata": {
                "azdata_cell_guid": "893fad84-a17b-491b-aff8-b9af8cf1d04e"
            },
            "attachments": {}
        },
        {
            "cell_type": "code",
            "source": [
                "SELECT DISTINCT P.Host_Name\r\n",
                ", P.Number_of_Candidate_Planets\r\n",
                ", T.Spectral_Type\r\n",
                ", T.Distance_ly\r\n",
                "FROM PriorityStarSystemTargets P\r\n",
                "JOIN TerraformingCandidates T\r\n",
                "ON P.Host_Name=T.Host_Name\r\n",
                "ORDER BY P.Number_of_Candidate_Planets DESC"
            ],
            "metadata": {
                "azdata_cell_guid": "559e245d-ca08-420b-b583-c8006494b6b7",
                "language": "sql"
            },
            "outputs": [
                {
                    "output_type": "display_data",
                    "data": {
                        "text/html": "(27 rows affected)"
                    },
                    "metadata": {}
                },
                {
                    "output_type": "display_data",
                    "data": {
                        "text/html": "Total execution time: 00:00:00.023"
                    },
                    "metadata": {}
                },
                {
                    "output_type": "execute_result",
                    "metadata": {},
                    "execution_count": 13,
                    "data": {
                        "application/vnd.dataresource+json": {
                            "schema": {
                                "fields": [
                                    {
                                        "name": "Host_Name"
                                    },
                                    {
                                        "name": "Number_of_Candidate_Planets"
                                    },
                                    {
                                        "name": "Spectral_Type"
                                    },
                                    {
                                        "name": "Distance_ly"
                                    }
                                ]
                            },
                            "data": [
                                {
                                    "0": "GJ 667 C",
                                    "1": "5",
                                    "2": "M1.5 V",
                                    "3": "23.62663915"
                                },
                                {
                                    "0": "HD 158259",
                                    "1": "4",
                                    "2": "G0",
                                    "3": "88.22465389"
                                },
                                {
                                    "0": "HD 215152",
                                    "1": "4",
                                    "2": "K3 V",
                                    "3": "70.44130233"
                                },
                                {
                                    "0": "tau Cet",
                                    "1": "4",
                                    "2": "G8.5V",
                                    "3": "11.75154555"
                                },
                                {
                                    "0": "GJ 1061",
                                    "1": "3",
                                    "2": "M5.5 V",
                                    "3": "11.97900703"
                                },
                                {
                                    "0": "GJ 180",
                                    "1": "3",
                                    "2": "M2 V",
                                    "3": "38.94535725"
                                },
                                {
                                    "0": "GJ 180",
                                    "1": "3",
                                    "2": "M3",
                                    "3": "38.94535725"
                                },
                                {
                                    "0": "HD 39194",
                                    "1": "3",
                                    "2": "K0 V",
                                    "3": "86.14801609"
                                },
                                {
                                    "0": "Wolf 1061",
                                    "1": "3",
                                    "2": "M3.5",
                                    "3": "14.04403366"
                                },
                                {
                                    "0": "GJ 229",
                                    "1": "2",
                                    "2": "M1.5V",
                                    "3": "18.77434516"
                                },
                                {
                                    "0": "GJ 229",
                                    "1": "2",
                                    "2": "M1/M2 V",
                                    "3": "18.77434516"
                                },
                                {
                                    "0": "GJ 273",
                                    "1": "2",
                                    "2": "M3.5",
                                    "3": "19.31346538"
                                },
                                {
                                    "0": "GJ 3138",
                                    "1": "2",
                                    "2": "M0",
                                    "3": "92.86064096"
                                },
                                {
                                    "0": "GJ 3293",
                                    "1": "2",
                                    "2": "M2.5",
                                    "3": "65.85195563"
                                },
                                {
                                    "0": "GJ 3323",
                                    "1": "2",
                                    "2": "M4",
                                    "3": "17.53038465"
                                },
                                {
                                    "0": "GJ 3998",
                                    "1": "2",
                                    "2": "M1",
                                    "3": "59.18401419"
                                },
                                {
                                    "0": "GJ 433",
                                    "1": "2",
                                    "2": "M1.5 V",
                                    "3": "29.56464257"
                                },
                                {
                                    "0": "GJ 433",
                                    "1": "2",
                                    "2": "M2V",
                                    "3": "29.56464257"
                                },
                                {
                                    "0": "GJ 581",
                                    "1": "2",
                                    "2": "M3 V",
                                    "3": "20.54165623"
                                },
                                {
                                    "0": "GJ 676 A",
                                    "1": "2",
                                    "2": "M0 V",
                                    "3": "52.27373854"
                                },
                                {
                                    "0": "GJ 682",
                                    "1": "2",
                                    "2": "M3.5 V",
                                    "3": "16.32970509"
                                },
                                {
                                    "0": "HD 1461",
                                    "1": "2",
                                    "2": "G0 V",
                                    "3": "76.49476512"
                                },
                                {
                                    "0": "HD 176986",
                                    "1": "2",
                                    "2": "K2.5 V",
                                    "3": "90.62027265"
                                },
                                {
                                    "0": "HD 189567",
                                    "1": "2",
                                    "2": "G3 V",
                                    "3": "58.3999342"
                                },
                                {
                                    "0": "HD 96700",
                                    "1": "2",
                                    "2": "G0 V",
                                    "3": "82.87992896"
                                },
                                {
                                    "0": "Teegarden's Star",
                                    "1": "2",
                                    "2": "M7.0 V",
                                    "3": "12.49433414"
                                },
                                {
                                    "0": "TRAPPIST-1",
                                    "1": "2",
                                    "2": "NULL",
                                    "3": "40.54087783"
                                }
                            ]
                        },
                        "text/html": [
                            "<table>",
                            "<tr><th>Host_Name</th><th>Number_of_Candidate_Planets</th><th>Spectral_Type</th><th>Distance_ly</th></tr>",
                            "<tr><td>GJ 667 C</td><td>5</td><td>M1.5 V</td><td>23.62663915</td></tr>",
                            "<tr><td>HD 158259</td><td>4</td><td>G0</td><td>88.22465389</td></tr>",
                            "<tr><td>HD 215152</td><td>4</td><td>K3 V</td><td>70.44130233</td></tr>",
                            "<tr><td>tau Cet</td><td>4</td><td>G8.5V</td><td>11.75154555</td></tr>",
                            "<tr><td>GJ 1061</td><td>3</td><td>M5.5 V</td><td>11.97900703</td></tr>",
                            "<tr><td>GJ 180</td><td>3</td><td>M2 V</td><td>38.94535725</td></tr>",
                            "<tr><td>GJ 180</td><td>3</td><td>M3</td><td>38.94535725</td></tr>",
                            "<tr><td>HD 39194</td><td>3</td><td>K0 V</td><td>86.14801609</td></tr>",
                            "<tr><td>Wolf 1061</td><td>3</td><td>M3.5</td><td>14.04403366</td></tr>",
                            "<tr><td>GJ 229</td><td>2</td><td>M1.5V</td><td>18.77434516</td></tr>",
                            "<tr><td>GJ 229</td><td>2</td><td>M1/M2 V</td><td>18.77434516</td></tr>",
                            "<tr><td>GJ 273</td><td>2</td><td>M3.5</td><td>19.31346538</td></tr>",
                            "<tr><td>GJ 3138</td><td>2</td><td>M0</td><td>92.86064096</td></tr>",
                            "<tr><td>GJ 3293</td><td>2</td><td>M2.5</td><td>65.85195563</td></tr>",
                            "<tr><td>GJ 3323</td><td>2</td><td>M4</td><td>17.53038465</td></tr>",
                            "<tr><td>GJ 3998</td><td>2</td><td>M1</td><td>59.18401419</td></tr>",
                            "<tr><td>GJ 433</td><td>2</td><td>M1.5 V</td><td>29.56464257</td></tr>",
                            "<tr><td>GJ 433</td><td>2</td><td>M2V</td><td>29.56464257</td></tr>",
                            "<tr><td>GJ 581</td><td>2</td><td>M3 V</td><td>20.54165623</td></tr>",
                            "<tr><td>GJ 676 A</td><td>2</td><td>M0 V</td><td>52.27373854</td></tr>",
                            "<tr><td>GJ 682</td><td>2</td><td>M3.5 V</td><td>16.32970509</td></tr>",
                            "<tr><td>HD 1461</td><td>2</td><td>G0 V</td><td>76.49476512</td></tr>",
                            "<tr><td>HD 176986</td><td>2</td><td>K2.5 V</td><td>90.62027265</td></tr>",
                            "<tr><td>HD 189567</td><td>2</td><td>G3 V</td><td>58.3999342</td></tr>",
                            "<tr><td>HD 96700</td><td>2</td><td>G0 V</td><td>82.87992896</td></tr>",
                            "<tr><td>Teegarden's Star</td><td>2</td><td>M7.0 V</td><td>12.49433414</td></tr>",
                            "<tr><td>TRAPPIST-1</td><td>2</td><td>NULL</td><td>40.54087783</td></tr>",
                            "</table>"
                        ]
                    }
                }
            ],
            "execution_count": 13
        }
    ]
}