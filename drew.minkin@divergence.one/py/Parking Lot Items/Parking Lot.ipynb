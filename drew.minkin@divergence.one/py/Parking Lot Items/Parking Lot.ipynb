{
 "cells": [
  {
   "cell_type": "markdown",
   "metadata": {},
   "source": [
    "## Parking Lot Items\n",
    "1. [slicer in reverse beside using list[::-1]](#slicer)\n",
    "1. [advance MPP for python](multiproc.py)\t\t\n",
    "1. [advanced argparse](argparse_sample.py)\t\n",
    "1. [map example\t](###-map-example)\n",
    "1. [dictionary print](####-dictionary-print)\n",
    "1. [Opinion on codeacademy\t](#Opinion-on-codeacademy)\n",
    "1. [json parsing example\t](#json-parsing-example)\n",
    "1. [value_counts into dataframe](####-value_counts-into-dataframe)"
   ]
  },
  {
   "cell_type": "markdown",
   "metadata": {},
   "source": [
    "<a id=\"slicer\"></a>\n",
    "#### slicer in reverse beside using list[::-1]\t\n",
    "\n",
    "[Back to TOC](##-Parking-Lot-Items)"
   ]
  },
  {
   "cell_type": "code",
   "execution_count": 25,
   "metadata": {},
   "outputs": [
    {
     "name": "stdout",
     "output_type": "stream",
     "text": [
      "hgfedcba\n",
      "hfdb\n"
     ]
    }
   ],
   "source": [
    "s = 'abcdefgh'\n",
    "print (s[::-1])            # think of it as 'reverse'\n",
    "print ((s[::-1])[::2])             # think of it as skipping by 2"
   ]
  },
  {
   "cell_type": "markdown",
   "metadata": {},
   "source": [
    "####  map example\t\n",
    "\n",
    "[Back to TOC](##-Parking-Lot-Items)\n"
   ]
  },
  {
   "cell_type": "code",
   "execution_count": 22,
   "metadata": {},
   "outputs": [
    {
     "data": {
      "text/html": [
       "<div>\n",
       "<style scoped>\n",
       "    .dataframe tbody tr th:only-of-type {\n",
       "        vertical-align: middle;\n",
       "    }\n",
       "\n",
       "    .dataframe tbody tr th {\n",
       "        vertical-align: top;\n",
       "    }\n",
       "\n",
       "    .dataframe thead th {\n",
       "        text-align: right;\n",
       "    }\n",
       "</style>\n",
       "<table border=\"1\" class=\"dataframe\">\n",
       "  <thead>\n",
       "    <tr style=\"text-align: right;\">\n",
       "      <th></th>\n",
       "      <th>Education</th>\n",
       "      <th>Education_map</th>\n",
       "    </tr>\n",
       "  </thead>\n",
       "  <tbody>\n",
       "    <tr>\n",
       "      <th>0</th>\n",
       "      <td>Primary</td>\n",
       "      <td>1</td>\n",
       "    </tr>\n",
       "    <tr>\n",
       "      <th>1</th>\n",
       "      <td>Post-Graduate</td>\n",
       "      <td>4</td>\n",
       "    </tr>\n",
       "    <tr>\n",
       "      <th>2</th>\n",
       "      <td>Post-Graduate</td>\n",
       "      <td>4</td>\n",
       "    </tr>\n",
       "    <tr>\n",
       "      <th>3</th>\n",
       "      <td>Secondary</td>\n",
       "      <td>2</td>\n",
       "    </tr>\n",
       "    <tr>\n",
       "      <th>4</th>\n",
       "      <td>Secondary</td>\n",
       "      <td>2</td>\n",
       "    </tr>\n",
       "    <tr>\n",
       "      <th>5</th>\n",
       "      <td>Graduate</td>\n",
       "      <td>3</td>\n",
       "    </tr>\n",
       "    <tr>\n",
       "      <th>6</th>\n",
       "      <td>Secondary</td>\n",
       "      <td>2</td>\n",
       "    </tr>\n",
       "    <tr>\n",
       "      <th>7</th>\n",
       "      <td>Post-Graduate</td>\n",
       "      <td>4</td>\n",
       "    </tr>\n",
       "  </tbody>\n",
       "</table>\n",
       "</div>"
      ],
      "text/plain": [
       "       Education  Education_map\n",
       "0        Primary              1\n",
       "1  Post-Graduate              4\n",
       "2  Post-Graduate              4\n",
       "3      Secondary              2\n",
       "4      Secondary              2\n",
       "5       Graduate              3\n",
       "6      Secondary              2\n",
       "7  Post-Graduate              4"
      ]
     },
     "execution_count": 22,
     "metadata": {},
     "output_type": "execute_result"
    }
   ],
   "source": [
    "import pandas as pd\n",
    "sample_data = [\"Primary\", \"Post-Graduate\", \"Post-Graduate\", \"Secondary\", \"Secondary\", \"Graduate\", \"Secondary\", \"Post-Graduate\"]\n",
    "map_education = {\"Primary\" : 1, \"Secondary\": 2, \"Graduate\": 3, \"Post-Graduate\": 4}\n",
    "df = pd.DataFrame(data=sample_data,columns=['Education'])    \n",
    "df['Education_map'] = df['Education'].map(map_education)\n",
    "df"
   ]
  },
  {
   "cell_type": "markdown",
   "metadata": {},
   "source": [
    "#### dictionary print\n",
    "\n",
    "[Back to TOC](##-Parking-Lot-Items)"
   ]
  },
  {
   "cell_type": "code",
   "execution_count": 63,
   "metadata": {},
   "outputs": [
    {
     "name": "stdout",
     "output_type": "stream",
     "text": [
      "1- 24\n",
      "keys: a b\n",
      "values: [1, 1, 2, 2, 2], value\n"
     ]
    }
   ],
   "source": [
    "#list sample\n",
    "foo = [1,24]\n",
    "print(\"list items: {0}- {1}\".format(*foo))\n",
    "#dictionary samples\n",
    "sd = {'a':[1, 1, 2, 2, 2],'b':\"value\"}\n",
    "print(\"keys: {0} {1}\".format(*sd))\n",
    "print(\"values: {a}, {b}\".format(**sd))"
   ]
  },
  {
   "cell_type": "markdown",
   "metadata": {},
   "source": [
    "#### Opinion on codeacademy\t"
   ]
  },
  {
   "cell_type": "markdown",
   "metadata": {},
   "source": [
    "I like [DataCamp](http://datacamp.com) better for supplementing work, give certifications and is cheaper\n",
    "\n",
    "[Back to TOC](##-Parking-Lot-Items)"
   ]
  },
  {
   "cell_type": "markdown",
   "metadata": {},
   "source": [
    "#### json parsing example \n",
    "\n",
    "[Back to TOC](##-Parking-Lot-Items)"
   ]
  },
  {
   "cell_type": "code",
   "execution_count": null,
   "metadata": {},
   "outputs": [],
   "source": [
    "%pip install json"
   ]
  },
  {
   "cell_type": "code",
   "execution_count": null,
   "metadata": {},
   "outputs": [],
   "source": [
    "## How to download a JSON file\n",
    "import json\n",
    "#uncomment these four lines to pull JSON from  URL\n",
    "# from urllib import request\n",
    "# shots_url = 'https://www.murach.com/python_analysis/shots.json'\n",
    "# request.urlretrieve(shots_url, filename='shots.json')\n",
    "with open('shots.json') as json_data:\n",
    "    shots = json.load(json_data)\n",
    "# raw JSON view\n",
    "print(shots)"
   ]
  },
  {
   "cell_type": "code",
   "execution_count": null,
   "metadata": {},
   "outputs": [],
   "source": [
    "\n",
    "# In JSON, object = Python dictionary,Array = Python list\n",
    "#  this pulls data from first array in ResultSets object key and then pulls rowSet's object's values\n",
    "allRows = shots['resultSets'][0]['rowSet']\n",
    "#prettify column names from  first array in ResultSets object key and then pulls header's object's values\n",
    "columnHeaders = [x.lower() for x in shots['resultSets'][0]['headers']]\n",
    "df_shots = pd.DataFrame(data=allRows, columns=columnHeaders)\n",
    "df_shots.head()\n"
   ]
  },
  {
   "cell_type": "markdown",
   "metadata": {},
   "source": [
    "#### value_counts into dataframe\n",
    "\n",
    "[Back to TOC](##-Parking-Lot-Items)"
   ]
  },
  {
   "cell_type": "code",
   "execution_count": 5,
   "metadata": {},
   "outputs": [
    {
     "data": {
      "text/html": [
       "<div>\n",
       "<style scoped>\n",
       "    .dataframe tbody tr th:only-of-type {\n",
       "        vertical-align: middle;\n",
       "    }\n",
       "\n",
       "    .dataframe tbody tr th {\n",
       "        vertical-align: top;\n",
       "    }\n",
       "\n",
       "    .dataframe thead th {\n",
       "        text-align: right;\n",
       "    }\n",
       "</style>\n",
       "<table border=\"1\" class=\"dataframe\">\n",
       "  <thead>\n",
       "    <tr style=\"text-align: right;\">\n",
       "      <th></th>\n",
       "      <th>unique_values</th>\n",
       "      <th>counts</th>\n",
       "    </tr>\n",
       "  </thead>\n",
       "  <tbody>\n",
       "    <tr>\n",
       "      <th>0</th>\n",
       "      <td>2</td>\n",
       "      <td>3</td>\n",
       "    </tr>\n",
       "    <tr>\n",
       "      <th>1</th>\n",
       "      <td>1</td>\n",
       "      <td>2</td>\n",
       "    </tr>\n",
       "  </tbody>\n",
       "</table>\n",
       "</div>"
      ],
      "text/plain": [
       "   unique_values  counts\n",
       "0              2       3\n",
       "1              1       2"
      ]
     },
     "execution_count": 5,
     "metadata": {},
     "output_type": "execute_result"
    }
   ],
   "source": [
    "import pandas as pd\n",
    "\n",
    "def value_count_to_df(vc_scope,col_list,dropna=True):\n",
    "    #standard value_counts with sort, dropna option\n",
    "    value_counts = vc_scope.value_counts(dropna, sort=True)\n",
    "    #Series to DataFrame\n",
    "    df_val_counts = pd.DataFrame(value_counts)\n",
    "    #add 0 index for rows\n",
    "    df_value_counts_reset = df_val_counts.reset_index()\n",
    "    #rename columns\n",
    "    df_value_counts_reset.columns = col_list # change column names\n",
    "    return (df_value_counts_reset)\n",
    "\n",
    "df = pd.DataFrame({'a':[1, 1, 2, 2, 2]})\n",
    "value_count_to_df(df['a'],['unique_values', 'counts'])"
   ]
  }
 ],
 "metadata": {
  "kernelspec": {
   "display_name": "Python 3.9.5 64-bit",
   "language": "python",
   "name": "python3"
  },
  "language_info": {
   "codemirror_mode": {
    "name": "ipython",
    "version": 3
   },
   "file_extension": ".py",
   "mimetype": "text/x-python",
   "name": "python",
   "nbconvert_exporter": "python",
   "pygments_lexer": "ipython3",
   "version": "3.9.5"
  },
  "orig_nbformat": 4,
  "vscode": {
   "interpreter": {
    "hash": "81794d4967e6c3204c66dcd87b604927b115b27c00565d3d43f05ba2f3a2cb0d"
   }
  }
 },
 "nbformat": 4,
 "nbformat_minor": 2
}
