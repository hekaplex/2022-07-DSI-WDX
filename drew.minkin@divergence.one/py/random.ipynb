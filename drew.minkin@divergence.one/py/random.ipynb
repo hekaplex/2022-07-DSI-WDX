{
 "cells": [
  {
   "cell_type": "code",
   "execution_count": 35,
   "metadata": {},
   "outputs": [
    {
     "data": {
      "text/plain": [
       "'Nerds'"
      ]
     },
     "execution_count": 35,
     "metadata": {},
     "output_type": "execute_result"
    }
   ],
   "source": [
    "# original code from \n",
    "import random\n",
    "team = (\"Generic\",\"Nerds\")\n",
    "team[random.randint(0,1)]"
   ]
  },
  {
   "cell_type": "code",
   "execution_count": 34,
   "metadata": {},
   "outputs": [
    {
     "name": "stdout",
     "output_type": "stream",
     "text": [
      "\n",
      " Generic Data Team \n",
      " ============\n",
      "Nyquist\n",
      "Dechario\n",
      "Easton\n",
      "Lindsey\n",
      "\n",
      " Angry Nerd$ \n",
      " ============\n",
      "Tanui\n",
      "Hicks\n",
      "Childs\n",
      "Richard\n",
      "\n",
      " SqueakyJuiceBox \n",
      " ============\n",
      "Caramba\n",
      "Knapp\n",
      "Good\n",
      "Edington\n",
      "\n",
      " Beyond the Data Dome \n",
      " ============\n",
      "Parsons\n",
      "Schirmer\n",
      "Davis\n",
      "Smith\n"
     ]
    }
   ],
   "source": [
    "\n",
    "teams = {\n",
    "    'Angry Nerd$':[\n",
    "\"Richard\",\n",
    "\"Tanui\",\n",
    "\"Hicks\",\n",
    "\"Childs\"\n",
    "    ]\n",
    "    ,'Beyond the Data Dome':[\n",
    "    \"Schirmer\",\n",
    "\"Parsons\",\n",
    "\"Smith\",\n",
    "\"Davis\"\n",
    "]\n",
    ",'Generic Data Team':[\n",
    "\"Nyquist\",\n",
    "\"Dechario\",\n",
    "\"Lindsey\",\n",
    "\"Easton\"\n",
    "]\n",
    ",'SqueakyJuiceBox':[\n",
    "\"Edington\",\n",
    "\"Good\",\n",
    "\"Knapp\",\n",
    "\"Caramba\"\n",
    "]}\n",
    "\n",
    "names = list(teams.keys())\n",
    "for t in range(0,len(teams)):\n",
    "    team = names.pop(names.index(random.choice(names)))\n",
    "    print(\"\\n\",team,\"\\n\",\"=\"*12)\n",
    "    members = teams[team]\n",
    "    for m in range(0,len(members)):\n",
    "        member = members.pop(members.index(random.choice(members)))\n",
    "        print(member)\n",
    "            \n"
   ]
  }
 ],
 "metadata": {
  "kernelspec": {
   "display_name": "Python 3.9.5 64-bit",
   "language": "python",
   "name": "python3"
  },
  "language_info": {
   "codemirror_mode": {
    "name": "ipython",
    "version": 3
   },
   "file_extension": ".py",
   "mimetype": "text/x-python",
   "name": "python",
   "nbconvert_exporter": "python",
   "pygments_lexer": "ipython3",
   "version": "3.9.5"
  },
  "orig_nbformat": 4,
  "vscode": {
   "interpreter": {
    "hash": "81794d4967e6c3204c66dcd87b604927b115b27c00565d3d43f05ba2f3a2cb0d"
   }
  }
 },
 "nbformat": 4,
 "nbformat_minor": 2
}
