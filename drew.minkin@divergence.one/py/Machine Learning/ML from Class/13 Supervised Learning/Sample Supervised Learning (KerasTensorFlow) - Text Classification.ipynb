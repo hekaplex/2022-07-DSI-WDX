{
 "cells": [
  {
   "cell_type": "code",
   "execution_count": 1,
   "metadata": {},
   "outputs": [
    {
     "name": "stderr",
     "output_type": "stream",
     "text": [
      "Using TensorFlow backend.\n"
     ]
    }
   ],
   "source": [
    "import keras, tensorflow"
   ]
  },
  {
   "cell_type": "code",
   "execution_count": 2,
   "metadata": {},
   "outputs": [
    {
     "name": "stdout",
     "output_type": "stream",
     "text": [
      "1.10.0\n"
     ]
    }
   ],
   "source": [
    "from __future__ import absolute_import, division, print_function\n",
    "\n",
    "import tensorflow as tf\n",
    "from tensorflow import keras\n",
    "\n",
    "import numpy as np\n",
    "\n",
    "print(tf.__version__)"
   ]
  },
  {
   "cell_type": "code",
   "execution_count": 3,
   "metadata": {},
   "outputs": [
    {
     "name": "stdout",
     "output_type": "stream",
     "text": [
      "Downloading data from https://storage.googleapis.com/tensorflow/tf-keras-datasets/imdb.npz\n",
      "17465344/17464789 [==============================] - 26s 1us/step\n",
      "17473536/17464789 [==============================] - 26s 1us/step\n"
     ]
    }
   ],
   "source": [
    "imdb = keras.datasets.imdb\n",
    "\n",
    "(train_data, train_labels), (test_data, test_labels) = imdb.load_data(num_words=10000)"
   ]
  },
  {
   "cell_type": "code",
   "execution_count": 4,
   "metadata": {},
   "outputs": [
    {
     "name": "stdout",
     "output_type": "stream",
     "text": [
      "Training entries: 25000, labels: 25000\n"
     ]
    }
   ],
   "source": [
    "print(\"Training entries: {}, labels: {}\".format(len(train_data), len(train_labels)))"
   ]
  },
  {
   "cell_type": "code",
   "execution_count": 5,
   "metadata": {},
   "outputs": [
    {
     "name": "stdout",
     "output_type": "stream",
     "text": [
      "[1, 14, 22, 16, 43, 530, 973, 1622, 1385, 65, 458, 4468, 66, 3941, 4, 173, 36, 256, 5, 25, 100, 43, 838, 112, 50, 670, 2, 9, 35, 480, 284, 5, 150, 4, 172, 112, 167, 2, 336, 385, 39, 4, 172, 4536, 1111, 17, 546, 38, 13, 447, 4, 192, 50, 16, 6, 147, 2025, 19, 14, 22, 4, 1920, 4613, 469, 4, 22, 71, 87, 12, 16, 43, 530, 38, 76, 15, 13, 1247, 4, 22, 17, 515, 17, 12, 16, 626, 18, 2, 5, 62, 386, 12, 8, 316, 8, 106, 5, 4, 2223, 5244, 16, 480, 66, 3785, 33, 4, 130, 12, 16, 38, 619, 5, 25, 124, 51, 36, 135, 48, 25, 1415, 33, 6, 22, 12, 215, 28, 77, 52, 5, 14, 407, 16, 82, 2, 8, 4, 107, 117, 5952, 15, 256, 4, 2, 7, 3766, 5, 723, 36, 71, 43, 530, 476, 26, 400, 317, 46, 7, 4, 2, 1029, 13, 104, 88, 4, 381, 15, 297, 98, 32, 2071, 56, 26, 141, 6, 194, 7486, 18, 4, 226, 22, 21, 134, 476, 26, 480, 5, 144, 30, 5535, 18, 51, 36, 28, 224, 92, 25, 104, 4, 226, 65, 16, 38, 1334, 88, 12, 16, 283, 5, 16, 4472, 113, 103, 32, 15, 16, 5345, 19, 178, 32]\n"
     ]
    }
   ],
   "source": [
    "print(train_data[0])"
   ]
  },
  {
   "cell_type": "code",
   "execution_count": 6,
   "metadata": {},
   "outputs": [
    {
     "data": {
      "text/plain": [
       "(218, 189)"
      ]
     },
     "execution_count": 6,
     "metadata": {},
     "output_type": "execute_result"
    }
   ],
   "source": [
    "len(train_data[0]), len(train_data[1])"
   ]
  },
  {
   "cell_type": "code",
   "execution_count": 7,
   "metadata": {},
   "outputs": [
    {
     "name": "stdout",
     "output_type": "stream",
     "text": [
      "Downloading data from https://storage.googleapis.com/tensorflow/tf-keras-datasets/imdb_word_index.json\n",
      "1646592/1641221 [==============================] - 1s 1us/step\n",
      "1654784/1641221 [==============================] - 1s 1us/step\n"
     ]
    }
   ],
   "source": [
    "# A dictionary mapping words to an integer index\n",
    "word_index = imdb.get_word_index()\n",
    "\n",
    "# The first indices are reserved\n",
    "word_index = {k:(v+3) for k,v in word_index.items()} \n",
    "word_index[\"<PAD>\"] = 0\n",
    "word_index[\"<START>\"] = 1\n",
    "word_index[\"<UNK>\"] = 2  # unknown\n",
    "word_index[\"<UNUSED>\"] = 3\n",
    "\n",
    "reverse_word_index = dict([(value, key) for (key, value) in word_index.items()])\n",
    "\n",
    "def decode_review(text):\n",
    "    return ' '.join([reverse_word_index.get(i, '?') for i in text])"
   ]
  },
  {
   "cell_type": "code",
   "execution_count": 9,
   "metadata": {},
   "outputs": [
    {
     "data": {
      "text/plain": [
       "u'<START> <UNK> at a military school <UNK> sounds funny maybe offensive to some you have the characters there the arab thief the sex crazy teen the smart mouth the pot <UNK> and not to forget the guy who burns things throw in a strict no nonsense <UNK> a homosexual <UNK> and one sexy <UNK> teacher and it makes one crazy film adventure br br i have seen this film and it is funny because the comedy is <UNK> around the fact that if you try to work together things get done br br these band of <UNK> students at <UNK> military school have been placed in here because as sgt <UNK> quotes because you are <UNK> <UNK> to your families and <UNK> <UNK> one of ralph <UNK> earlier performances before the karate kid and my cousin <UNK> with appearances from barbara bach as well this film appeals to teens and young adults br br great soundtrack keeps the film moving'"
      ]
     },
     "execution_count": 9,
     "metadata": {},
     "output_type": "execute_result"
    }
   ],
   "source": [
    "decode_review(train_data[6767])"
   ]
  },
  {
   "cell_type": "code",
   "execution_count": 10,
   "metadata": {},
   "outputs": [],
   "source": [
    "train_data = keras.preprocessing.sequence.pad_sequences(train_data,\n",
    "                                                        value=word_index[\"<PAD>\"],\n",
    "                                                        padding='post',\n",
    "                                                        maxlen=256)\n",
    "\n",
    "test_data = keras.preprocessing.sequence.pad_sequences(test_data,\n",
    "                                                       value=word_index[\"<PAD>\"],\n",
    "                                                       padding='post',\n",
    "                                                       maxlen=256)"
   ]
  },
  {
   "cell_type": "code",
   "execution_count": 11,
   "metadata": {},
   "outputs": [
    {
     "data": {
      "text/plain": [
       "(256, 256)"
      ]
     },
     "execution_count": 11,
     "metadata": {},
     "output_type": "execute_result"
    }
   ],
   "source": [
    "len(train_data[0]), len(train_data[1])"
   ]
  },
  {
   "cell_type": "code",
   "execution_count": 12,
   "metadata": {},
   "outputs": [
    {
     "name": "stdout",
     "output_type": "stream",
     "text": [
      "[   1   14   22   16   43  530  973 1622 1385   65  458 4468   66 3941\n",
      "    4  173   36  256    5   25  100   43  838  112   50  670    2    9\n",
      "   35  480  284    5  150    4  172  112  167    2  336  385   39    4\n",
      "  172 4536 1111   17  546   38   13  447    4  192   50   16    6  147\n",
      " 2025   19   14   22    4 1920 4613  469    4   22   71   87   12   16\n",
      "   43  530   38   76   15   13 1247    4   22   17  515   17   12   16\n",
      "  626   18    2    5   62  386   12    8  316    8  106    5    4 2223\n",
      " 5244   16  480   66 3785   33    4  130   12   16   38  619    5   25\n",
      "  124   51   36  135   48   25 1415   33    6   22   12  215   28   77\n",
      "   52    5   14  407   16   82    2    8    4  107  117 5952   15  256\n",
      "    4    2    7 3766    5  723   36   71   43  530  476   26  400  317\n",
      "   46    7    4    2 1029   13  104   88    4  381   15  297   98   32\n",
      " 2071   56   26  141    6  194 7486   18    4  226   22   21  134  476\n",
      "   26  480    5  144   30 5535   18   51   36   28  224   92   25  104\n",
      "    4  226   65   16   38 1334   88   12   16  283    5   16 4472  113\n",
      "  103   32   15   16 5345   19  178   32    0    0    0    0    0    0\n",
      "    0    0    0    0    0    0    0    0    0    0    0    0    0    0\n",
      "    0    0    0    0    0    0    0    0    0    0    0    0    0    0\n",
      "    0    0    0    0]\n"
     ]
    }
   ],
   "source": [
    "print(train_data[0])"
   ]
  },
  {
   "cell_type": "code",
   "execution_count": 13,
   "metadata": {},
   "outputs": [
    {
     "name": "stdout",
     "output_type": "stream",
     "text": [
      "_________________________________________________________________\n",
      "Layer (type)                 Output Shape              Param #   \n",
      "=================================================================\n",
      "embedding (Embedding)        (None, None, 16)          160000    \n",
      "_________________________________________________________________\n",
      "global_average_pooling1d (Gl (None, 16)                0         \n",
      "_________________________________________________________________\n",
      "dense (Dense)                (None, 16)                272       \n",
      "_________________________________________________________________\n",
      "dense_1 (Dense)              (None, 1)                 17        \n",
      "=================================================================\n",
      "Total params: 160,289\n",
      "Trainable params: 160,289\n",
      "Non-trainable params: 0\n",
      "_________________________________________________________________\n"
     ]
    }
   ],
   "source": [
    "# input shape is the vocabulary count used for the movie reviews (10,000 words)\n",
    "vocab_size = 10000\n",
    "\n",
    "model = keras.Sequential()\n",
    "model.add(keras.layers.Embedding(vocab_size, 16))\n",
    "model.add(keras.layers.GlobalAveragePooling1D())\n",
    "model.add(keras.layers.Dense(16, activation=tf.nn.relu))\n",
    "model.add(keras.layers.Dense(1, activation=tf.nn.sigmoid))\n",
    "\n",
    "model.summary()"
   ]
  },
  {
   "cell_type": "code",
   "execution_count": 14,
   "metadata": {},
   "outputs": [],
   "source": [
    "x_val = train_data[:10000]\n",
    "partial_x_train = train_data[10000:]\n",
    "\n",
    "y_val = train_labels[:10000]\n",
    "partial_y_train = train_labels[10000:]"
   ]
  },
  {
   "cell_type": "code",
   "execution_count": 18,
   "metadata": {},
   "outputs": [
    {
     "name": "stderr",
     "output_type": "stream",
     "text": [
      "/Users/drew/anaconda2/lib/python2.7/site-packages/tensorflow/python/ops/gradients_impl.py:108: UserWarning: Converting sparse IndexedSlices to a dense Tensor of unknown shape. This may consume a large amount of memory.\n",
      "  \"Converting sparse IndexedSlices to a dense Tensor of unknown shape. \"\n"
     ]
    },
    {
     "name": "stdout",
     "output_type": "stream",
     "text": [
      "Train on 15000 samples, validate on 10000 samples\n",
      "Epoch 1/40\n",
      "15000/15000 [==============================] - 1s 44us/step - loss: 0.6929 - acc: 0.5107 - val_loss: 0.6928 - val_acc: 0.5177\n",
      "Epoch 2/40\n",
      "15000/15000 [==============================] - 0s 16us/step - loss: 0.6924 - acc: 0.5305 - val_loss: 0.6922 - val_acc: 0.5380\n",
      "Epoch 3/40\n",
      "15000/15000 [==============================] - 0s 16us/step - loss: 0.6917 - acc: 0.5483 - val_loss: 0.6916 - val_acc: 0.5431\n",
      "Epoch 4/40\n",
      "15000/15000 [==============================] - 0s 16us/step - loss: 0.6909 - acc: 0.5592 - val_loss: 0.6906 - val_acc: 0.5654\n",
      "Epoch 5/40\n",
      "15000/15000 [==============================] - 0s 16us/step - loss: 0.6896 - acc: 0.5567 - val_loss: 0.6893 - val_acc: 0.5678\n",
      "Epoch 6/40\n",
      "15000/15000 [==============================] - 0s 16us/step - loss: 0.6878 - acc: 0.6048 - val_loss: 0.6871 - val_acc: 0.6136\n",
      "Epoch 7/40\n",
      "15000/15000 [==============================] - 0s 16us/step - loss: 0.6851 - acc: 0.6442 - val_loss: 0.6842 - val_acc: 0.6253\n",
      "Epoch 8/40\n",
      "15000/15000 [==============================] - 0s 16us/step - loss: 0.6811 - acc: 0.6669 - val_loss: 0.6797 - val_acc: 0.6747\n",
      "Epoch 9/40\n",
      "15000/15000 [==============================] - 0s 17us/step - loss: 0.6754 - acc: 0.6991 - val_loss: 0.6736 - val_acc: 0.6915\n",
      "Epoch 10/40\n",
      "15000/15000 [==============================] - 0s 16us/step - loss: 0.6671 - acc: 0.7221 - val_loss: 0.6644 - val_acc: 0.7175\n",
      "Epoch 11/40\n",
      "15000/15000 [==============================] - 0s 16us/step - loss: 0.6538 - acc: 0.7277 - val_loss: 0.6476 - val_acc: 0.7183\n",
      "Epoch 12/40\n",
      "15000/15000 [==============================] - 0s 16us/step - loss: 0.6317 - acc: 0.7462 - val_loss: 0.6249 - val_acc: 0.7440\n",
      "Epoch 13/40\n",
      "15000/15000 [==============================] - 0s 16us/step - loss: 0.6057 - acc: 0.7677 - val_loss: 0.6020 - val_acc: 0.7598\n",
      "Epoch 14/40\n",
      "15000/15000 [==============================] - 0s 16us/step - loss: 0.5787 - acc: 0.7806 - val_loss: 0.5760 - val_acc: 0.7727\n",
      "Epoch 15/40\n",
      "15000/15000 [==============================] - 0s 16us/step - loss: 0.5501 - acc: 0.7941 - val_loss: 0.5479 - val_acc: 0.7845\n",
      "Epoch 16/40\n",
      "15000/15000 [==============================] - 0s 16us/step - loss: 0.5194 - acc: 0.8060 - val_loss: 0.5211 - val_acc: 0.7952\n",
      "Epoch 17/40\n",
      "15000/15000 [==============================] - 0s 16us/step - loss: 0.4884 - acc: 0.8220 - val_loss: 0.4940 - val_acc: 0.8073\n",
      "Epoch 18/40\n",
      "15000/15000 [==============================] - 0s 16us/step - loss: 0.4587 - acc: 0.8327 - val_loss: 0.4680 - val_acc: 0.8176\n",
      "Epoch 19/40\n",
      "15000/15000 [==============================] - 0s 16us/step - loss: 0.4313 - acc: 0.8432 - val_loss: 0.4449 - val_acc: 0.8276\n",
      "Epoch 20/40\n",
      "15000/15000 [==============================] - 0s 16us/step - loss: 0.4066 - acc: 0.8537 - val_loss: 0.4246 - val_acc: 0.8347\n",
      "Epoch 21/40\n",
      "15000/15000 [==============================] - 0s 16us/step - loss: 0.3845 - acc: 0.8623 - val_loss: 0.4068 - val_acc: 0.8423\n",
      "Epoch 22/40\n",
      "15000/15000 [==============================] - 0s 16us/step - loss: 0.3652 - acc: 0.8700 - val_loss: 0.3917 - val_acc: 0.8476\n",
      "Epoch 23/40\n",
      "15000/15000 [==============================] - 0s 16us/step - loss: 0.3485 - acc: 0.8753 - val_loss: 0.3790 - val_acc: 0.8512\n",
      "Epoch 24/40\n",
      "15000/15000 [==============================] - 0s 16us/step - loss: 0.3334 - acc: 0.8807 - val_loss: 0.3678 - val_acc: 0.8572\n",
      "Epoch 25/40\n",
      "15000/15000 [==============================] - 0s 16us/step - loss: 0.3202 - acc: 0.8856 - val_loss: 0.3583 - val_acc: 0.8612\n",
      "Epoch 26/40\n",
      "15000/15000 [==============================] - 0s 16us/step - loss: 0.3084 - acc: 0.8889 - val_loss: 0.3502 - val_acc: 0.8655\n",
      "Epoch 27/40\n",
      "15000/15000 [==============================] - 0s 16us/step - loss: 0.2980 - acc: 0.8922 - val_loss: 0.3431 - val_acc: 0.8662\n",
      "Epoch 28/40\n",
      "15000/15000 [==============================] - 0s 15us/step - loss: 0.2881 - acc: 0.8964 - val_loss: 0.3366 - val_acc: 0.8687\n",
      "Epoch 29/40\n",
      "15000/15000 [==============================] - 0s 16us/step - loss: 0.2793 - acc: 0.8990 - val_loss: 0.3314 - val_acc: 0.8701\n",
      "Epoch 30/40\n",
      "15000/15000 [==============================] - 0s 16us/step - loss: 0.2719 - acc: 0.9007 - val_loss: 0.3264 - val_acc: 0.8731\n",
      "Epoch 31/40\n",
      "15000/15000 [==============================] - 0s 16us/step - loss: 0.2636 - acc: 0.9039 - val_loss: 0.3223 - val_acc: 0.8746\n",
      "Epoch 32/40\n",
      "15000/15000 [==============================] - 0s 16us/step - loss: 0.2572 - acc: 0.9050 - val_loss: 0.3185 - val_acc: 0.8763\n",
      "Epoch 33/40\n",
      "15000/15000 [==============================] - 0s 16us/step - loss: 0.2499 - acc: 0.9102 - val_loss: 0.3152 - val_acc: 0.8768\n",
      "Epoch 34/40\n",
      "15000/15000 [==============================] - 0s 16us/step - loss: 0.2436 - acc: 0.9125 - val_loss: 0.3121 - val_acc: 0.8788\n",
      "Epoch 35/40\n",
      "15000/15000 [==============================] - 0s 16us/step - loss: 0.2381 - acc: 0.9139 - val_loss: 0.3093 - val_acc: 0.8790\n",
      "Epoch 36/40\n",
      "15000/15000 [==============================] - 0s 18us/step - loss: 0.2319 - acc: 0.9155 - val_loss: 0.3070 - val_acc: 0.8808\n",
      "Epoch 37/40\n",
      "15000/15000 [==============================] - 0s 17us/step - loss: 0.2266 - acc: 0.9190 - val_loss: 0.3051 - val_acc: 0.8800\n",
      "Epoch 38/40\n",
      "15000/15000 [==============================] - 0s 16us/step - loss: 0.2215 - acc: 0.9189 - val_loss: 0.3024 - val_acc: 0.8818\n",
      "Epoch 39/40\n",
      "15000/15000 [==============================] - 0s 17us/step - loss: 0.2161 - acc: 0.9228 - val_loss: 0.3007 - val_acc: 0.8818\n",
      "Epoch 40/40\n",
      "15000/15000 [==============================] - 0s 17us/step - loss: 0.2113 - acc: 0.9231 - val_loss: 0.2988 - val_acc: 0.8837\n"
     ]
    }
   ],
   "source": [
    "model.compile(loss='binary_crossentropy',\n",
    "              optimizer='adam',\n",
    "              metrics=['accuracy'])\n",
    "history = model.fit(partial_x_train,\n",
    "                    partial_y_train,\n",
    "                    epochs=40,\n",
    "                    batch_size=512,\n",
    "                    validation_data=(x_val, y_val),\n",
    "                    verbose=1)"
   ]
  },
  {
   "cell_type": "code",
   "execution_count": 19,
   "metadata": {},
   "outputs": [
    {
     "name": "stdout",
     "output_type": "stream",
     "text": [
      "25000/25000 [==============================] - 0s 14us/step\n",
      "[0.31049045727729796, 0.87164]\n"
     ]
    }
   ],
   "source": [
    "results = model.evaluate(test_data, test_labels)\n",
    "\n",
    "print(results)"
   ]
  },
  {
   "cell_type": "code",
   "execution_count": 20,
   "metadata": {},
   "outputs": [
    {
     "name": "stderr",
     "output_type": "stream",
     "text": [
      "/Users/drew/anaconda2/lib/python2.7/site-packages/matplotlib/font_manager.py:281: UserWarning: Matplotlib is building the font cache using fc-list. This may take a moment.\n",
      "  'Matplotlib is building the font cache using fc-list. '\n"
     ]
    },
    {
     "data": {
      "text/plain": [
       "<Figure size 640x480 with 1 Axes>"
      ]
     },
     "metadata": {},
     "output_type": "display_data"
    }
   ],
   "source": [
    "history_dict = history.history\n",
    "history_dict.keys()\n",
    "import matplotlib.pyplot as plt\n",
    "\n",
    "acc = history_dict['acc']\n",
    "val_acc = history_dict['val_acc']\n",
    "loss = history_dict['loss']\n",
    "val_loss = history_dict['val_loss']\n",
    "\n",
    "epochs = range(1, len(acc) + 1)\n",
    "\n",
    "# \"bo\" is for \"blue dot\"\n",
    "plt.plot(epochs, loss, 'bo', label='Training loss')\n",
    "# b is for \"solid blue line\"\n",
    "plt.plot(epochs, val_loss, 'b', label='Validation loss')\n",
    "plt.title('Training and validation loss')\n",
    "plt.xlabel('Epochs')\n",
    "plt.ylabel('Loss')\n",
    "plt.legend()\n",
    "\n",
    "plt.show()"
   ]
  },
  {
   "cell_type": "code",
   "execution_count": 21,
   "metadata": {},
   "outputs": [
    {
     "data": {
      "image/png": "[encoded data removed]",
      "text/plain": [
       "<Figure size 432x288 with 1 Axes>"
      ]
     },
     "metadata": {
      "needs_background": "light"
     },
     "output_type": "display_data"
    }
   ],
   "source": [
    "plt.clf()   # clear figure\n",
    "\n",
    "plt.plot(epochs, acc, 'bo', label='Training acc')\n",
    "plt.plot(epochs, val_acc, 'b', label='Validation acc')\n",
    "plt.title('Training and validation accuracy')\n",
    "plt.xlabel('Epochs')\n",
    "plt.ylabel('Accuracy')\n",
    "plt.legend()\n",
    "\n",
    "plt.show()"
   ]
  },
  {
   "cell_type": "code",
   "execution_count": null,
   "metadata": {},
   "outputs": [],
   "source": []
  }
 ],
 "metadata": {
  "kernelspec": {
   "display_name": "Python 2",
   "language": "python",
   "name": "python2"
  },
  "language_info": {
   "codemirror_mode": {
    "name": "ipython",
    "version": 2
   },
   "file_extension": ".py",
   "mimetype": "text/x-python",
   "name": "python",
   "nbconvert_exporter": "python",
   "pygments_lexer": "ipython2",
   "version": "2.7.15"
  }
 },
 "nbformat": 4,
 "nbformat_minor": 2
}
