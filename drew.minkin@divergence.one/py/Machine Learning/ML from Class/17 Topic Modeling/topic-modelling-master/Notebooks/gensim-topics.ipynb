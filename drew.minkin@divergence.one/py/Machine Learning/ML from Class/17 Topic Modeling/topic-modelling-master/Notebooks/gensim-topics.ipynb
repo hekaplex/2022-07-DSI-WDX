{
 "cells": [
  {
   "cell_type": "markdown",
   "metadata": {},
   "source": [
    "# Topics and Transformations\n",
    "\n",
    "We will be using gensim for data pre-processing, computational linguistics and topic modelling.\n",
    "\n",
    "Based on [Gensim Tutorials](https://radimrehurek.com/gensim/tutorial.html):\n",
    "* [Corpora and Vector Spaces](https://radimrehurek.com/gensim/tut1.html)\n",
    "* [Pre-processing and stop-words](https://radimrehurek.com/gensim/parsing/preprocessing.html)\n",
    "* [Stemming Algorithms](https://radimrehurek.com/gensim/parsing/porter.html)"
   ]
  },
  {
   "cell_type": "code",
   "execution_count": 44,
   "metadata": {},
   "outputs": [
    {
     "name": "stdout",
     "output_type": "stream",
     "text": [
      "Python Version: 2.7.15 | packaged by conda-forge | (default, Feb 28 2019, 04:00:11) \n",
      "[GCC 7.3.0]\n"
     ]
    }
   ],
   "source": [
    "import os\n",
    "import sys\n",
    "import gensim\n",
    "\n",
    "from gensim import corpora\n",
    "from gensim import models\n",
    "from gensim.models.coherencemodel import CoherenceModel\n",
    "\n",
    "print('Python Version: %s' % (sys.version))"
   ]
  },
  {
   "cell_type": "code",
   "execution_count": 7,
   "metadata": {},
   "outputs": [
    {
     "name": "stdout",
     "output_type": "stream",
     "text": [
      "Dictionary(7714 unique tokens: [u'francesco', u'csuci', u'univesidad', u'sation', u'efimenko']...)\n",
      "MmCorpus(4 documents, 7714 features, 10760 non-zero entries)\n"
     ]
    }
   ],
   "source": [
    "dictionary = corpora.Dictionary.load('documents.dict')\n",
    "corpus = corpora.MmCorpus('documents.mm')\n",
    "print(dictionary)\n",
    "print(corpus)"
   ]
  },
  {
   "cell_type": "code",
   "execution_count": 11,
   "metadata": {},
   "outputs": [],
   "source": [
    "import pickle\n",
    "#with open('documents', 'wb') as f: #save\n",
    "#    pickle.dump(mylist, f)\n",
    "\n",
    "with open('documents', 'rb') as f: #load\n",
    "    documents = pickle.load(f)"
   ]
  },
  {
   "cell_type": "markdown",
   "metadata": {},
   "source": [
    "## Creating a transformation\n",
    "\n",
    "The transformations are standard Python objects, typically initialized by means of a *training* corpus:"
   ]
  },
  {
   "cell_type": "code",
   "execution_count": 10,
   "metadata": {},
   "outputs": [],
   "source": [
    "tfidf = models.TfidfModel(corpus)  # step 1 -- initialize a model"
   ]
  },
  {
   "cell_type": "markdown",
   "metadata": {},
   "source": [
    "## Transforming vectors\n",
    "\n",
    "From now on, `tfidf` is treated as a read-only object that can be used to convert any vector from the old representation (bag-of-words integer counts) to the new representation (TfIdf real-valued weights):"
   ]
  },
  {
   "cell_type": "code",
   "execution_count": 15,
   "metadata": {},
   "outputs": [],
   "source": [
    "corpus_tfidf = tfidf[corpus] # step 2 -- use the model to transform vectors"
   ]
  },
  {
   "cell_type": "markdown",
   "metadata": {},
   "source": [
    "## LDA\n",
    "`gensim` uses a fast implementation of online LDA parameter estimation based on `Hoffman, Blei, Bach. 2010. Online learning for Latent Dirichlet Allocation`, modified to run in [distributed mode](https://radimrehurek.com/gensim/distributed.html) on a cluster of computers."
   ]
  },
  {
   "cell_type": "code",
   "execution_count": 18,
   "metadata": {},
   "outputs": [],
   "source": [
    "lda_model = gensim.models.ldamodel.LdaModel(corpus=corpus,\n",
    "                                           id2word=dictionary,\n",
    "                                           num_topics=20, \n",
    "                                           random_state=100,\n",
    "                                           update_every=1,\n",
    "                                           chunksize=100,\n",
    "                                           passes=10,\n",
    "                                           alpha='auto',\n",
    "                                           per_word_topics=True)"
   ]
  },
  {
   "cell_type": "markdown",
   "metadata": {},
   "source": [
    "## View the topics in LDA model\n",
    "The above LDA model is built with 20 different topics where each topic is a combination of keywords and each keyword contributes a certain weightage to the topic.\n",
    "\n",
    "You can see the keywords for each topic and the weightage(importance) of each keyword using `lda_model.print_topics()` as shown next."
   ]
  },
  {
   "cell_type": "code",
   "execution_count": 32,
   "metadata": {},
   "outputs": [
    {
     "data": {
      "text/plain": [
       "u'0.003*\"learn\" + 0.003*\"educ\" + 0.002*\"teach\" + 0.001*\"innov\" + 0.001*\"student\" + 0.001*\"higher\" + 0.001*\"institut\" + 0.001*\"chang\" + 0.001*\"http\" + 0.001*\"univers\"'"
      ]
     },
     "execution_count": 32,
     "metadata": {},
     "output_type": "execute_result"
    }
   ],
   "source": [
    "# Print the weight and token \n",
    "lda_model.print_topics() # all topics\n",
    "lda_model.print_topic(1) # selected topic"
   ]
  },
  {
   "cell_type": "markdown",
   "metadata": {},
   "source": [
    "## Compute Perplexity and Coherence Score\n",
    "A lower perplexity score indicates better generalization performance \n",
    "\n",
    "*BLEI, D. M.; NG, A. Y.; JORDAN, M. I. Latent Dirichlet Allocation. Journal of Machine Learning Research, [s. l.], v. 3, n. Jan, p. 993–1022, 2003.*"
   ]
  },
  {
   "cell_type": "code",
   "execution_count": 52,
   "metadata": {},
   "outputs": [
    {
     "name": "stdout",
     "output_type": "stream",
     "text": [
      "('Perplexity:', -6.647293692955271)\n",
      "('Coherence Score: ', nan)\n"
     ]
    }
   ],
   "source": [
    "print('Perplexity:', lda_model.log_perplexity(corpus))\n",
    "coherence_model_lda = CoherenceModel(model=lda_model, texts=corpus, dictionary=dictionary, coherence='c_v')\n",
    "coherence_lda = coherence_model_lda.get_coherence()\n",
    "print('Coherence Score: ', coherence_lda)"
   ]
  },
  {
   "cell_type": "code",
   "execution_count": 56,
   "metadata": {},
   "outputs": [],
   "source": [
    "lda_model.save('lda_model')"
   ]
  }
 ],
 "metadata": {
  "kernelspec": {
   "display_name": "Python [conda env:textract]",
   "language": "python",
   "name": "conda-env-textract-py"
  },
  "language_info": {
   "codemirror_mode": {
    "name": "ipython",
    "version": 2
   },
   "file_extension": ".py",
   "mimetype": "text/x-python",
   "name": "python",
   "nbconvert_exporter": "python",
   "pygments_lexer": "ipython2",
   "version": "2.7.15"
  }
 },
 "nbformat": 4,
 "nbformat_minor": 2
}
