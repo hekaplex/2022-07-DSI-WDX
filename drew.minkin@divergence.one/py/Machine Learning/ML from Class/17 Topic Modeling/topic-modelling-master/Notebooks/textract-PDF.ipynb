{
 "cells": [
  {
   "cell_type": "markdown",
   "metadata": {},
   "source": [
    "# Extracting text from PDF files using *textract*"
   ]
  },
  {
   "cell_type": "code",
   "execution_count": 9,
   "metadata": {},
   "outputs": [],
   "source": [
    "import textract\n",
    "import os"
   ]
  },
  {
   "cell_type": "markdown",
   "metadata": {},
   "source": [
    "## Step 1 - Getting the list of all PDFs files\n",
    "Get all the PDFs in the current directory and all sub-directories"
   ]
  },
  {
   "cell_type": "code",
   "execution_count": 10,
   "metadata": {},
   "outputs": [],
   "source": [
    "path = os.getcwd() #get current directory"
   ]
  },
  {
   "cell_type": "code",
   "execution_count": 11,
   "metadata": {},
   "outputs": [
    {
     "name": "stdout",
     "output_type": "stream",
     "text": [
      "('Total PDF Files:', 6)\n"
     ]
    }
   ],
   "source": [
    "files = []\n",
    "# r=root, d=directories, f = files\n",
    "for r, d, f in os.walk(path):\n",
    "    for file in f:\n",
    "        files.append(os.path.join(r, file))\n",
    "\n",
    "print('Total PDF Files:', len(f))"
   ]
  },
  {
   "cell_type": "markdown",
   "metadata": {},
   "source": [
    "## Step 2 - Generating a text for every PDF"
   ]
  },
  {
   "cell_type": "code",
   "execution_count": 12,
   "metadata": {},
   "outputs": [
    {
     "name": "stdout",
     "output_type": "stream",
     "text": [
      "/home/storopoli/Documents/jupyter_notebooks/textract/textract-PDF.ipynb\n",
      "/home/storopoli/Documents/jupyter_notebooks/textract/.ipynb_checkpoints/textract-PDF-checkpoint.ipynb\n",
      "/home/storopoli/Documents/jupyter_notebooks/textract/higher-education/Becker et al 2017.pdf\n",
      "/home/storopoli/Documents/jupyter_notebooks/textract/higher-education/Trends 2018.pdf\n",
      "/home/storopoli/Documents/jupyter_notebooks/textract/higher-education/Freeman, Becker _ Hall 2015.pdf\n",
      "/home/storopoli/Documents/jupyter_notebooks/textract/higher-education/INEP 2017c.pdf\n",
      "/home/storopoli/Documents/jupyter_notebooks/textract/higher-education/OECD 2014.pdf\n",
      "/home/storopoli/Documents/jupyter_notebooks/textract/higher-education/INEP 2017d.pdf\n"
     ]
    }
   ],
   "source": [
    "for root, directories, filenames in os.walk(path):\n",
    "    #for directory in directories:\n",
    "     #   print(os.path.join(root, directory))\n",
    "    for filename in filenames: \n",
    "        print(os.path.join(root,filename))"
   ]
  },
  {
   "cell_type": "code",
   "execution_count": 35,
   "metadata": {},
   "outputs": [
    {
     "name": "stdout",
     "output_type": "stream",
     "text": [
      "Becker et al 2017.pdf\n",
      "Trends 2018.pdf\n",
      "Freeman, Becker _ Hall 2015.pdf\n",
      "INEP 2017c.pdf\n",
      "OECD 2014.pdf\n",
      "INEP 2017d.pdf\n"
     ]
    }
   ],
   "source": [
    "for r, d, f in os.walk(path):\n",
    "    for filename in f:\n",
    "        if '.pdf' in filename:\n",
    "            text = textract.process(os.path.join(root,filename), method='pdfminer')\n",
    "            print(filename)\n",
    "            with open(os.path.join(os.path.splitext(filename)[0] + '.txt'), 'w') as file:\n",
    "                file.write(text)\n",
    "                file.close()"
   ]
  }
 ],
 "metadata": {
  "kernelspec": {
   "display_name": "Python [conda env:textract]",
   "language": "python",
   "name": "conda-env-textract-py"
  },
  "language_info": {
   "codemirror_mode": {
    "name": "ipython",
    "version": 2
   },
   "file_extension": ".py",
   "mimetype": "text/x-python",
   "name": "python",
   "nbconvert_exporter": "python",
   "pygments_lexer": "ipython2",
   "version": "2.7.15"
  }
 },
 "nbformat": 4,
 "nbformat_minor": 2
}
