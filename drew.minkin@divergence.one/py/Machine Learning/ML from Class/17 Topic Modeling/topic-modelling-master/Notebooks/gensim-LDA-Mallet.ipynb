{
 "cells": [
  {
   "cell_type": "markdown",
   "metadata": {},
   "source": [
    "# Building LDA Mallet Model\n",
    "\n",
    "So far you have seen Gensim’s inbuilt version of the LDA algorithm. Mallet’s version, however, often gives a better quality of topics.\n",
    "\n",
    "Based on [Gensim Topic Modeling](https://www.machinelearningplus.com/nlp/topic-modeling-gensim-python/)"
   ]
  },
  {
   "cell_type": "code",
   "execution_count": 1,
   "metadata": {},
   "outputs": [
    {
     "name": "stdout",
     "output_type": "stream",
     "text": [
      "Collecting gensim\n",
      "  Downloading gensim-4.1.2.tar.gz (23.2 MB)\n",
      "Collecting pyLDAvis\n",
      "  Using cached pyLDAvis-3.3.1.tar.gz (1.7 MB)\n",
      "  Installing build dependencies: started\n",
      "  Installing build dependencies: finished with status 'done'\n",
      "  Getting requirements to build wheel: started\n",
      "  Getting requirements to build wheel: finished with status 'done'\n",
      "  Installing backend dependencies: started\n",
      "  Installing backend dependencies: finished with status 'done'\n",
      "    Preparing wheel metadata: started\n",
      "    Preparing wheel metadata: finished with status 'done'\n",
      "Requirement already satisfied: numpy>=1.17.0 in c:\\users\\andre\\anaconda3\\envs\\dlalpha\\lib\\site-packages (from gensim) (1.22.2)\n",
      "Requirement already satisfied: scipy>=0.18.1 in c:\\users\\andre\\anaconda3\\envs\\dlalpha\\lib\\site-packages (from gensim) (1.8.0)\n",
      "Collecting smart_open>=1.8.1\n",
      "  Using cached smart_open-5.2.1-py3-none-any.whl (58 kB)\n",
      "Collecting funcy\n",
      "  Using cached funcy-1.17-py2.py3-none-any.whl (33 kB)\n",
      "Collecting numexpr\n",
      "  Downloading numexpr-2.8.1-cp310-cp310-win_amd64.whl (88 kB)\n",
      "Collecting future\n",
      "  Using cached future-0.18.2.tar.gz (829 kB)\n",
      "Requirement already satisfied: scikit-learn in c:\\users\\andre\\anaconda3\\envs\\dlalpha\\lib\\site-packages (from pyLDAvis) (1.0.2)\n",
      "Requirement already satisfied: sklearn in c:\\users\\andre\\anaconda3\\envs\\dlalpha\\lib\\site-packages (from pyLDAvis) (0.0)\n",
      "Requirement already satisfied: pandas>=1.2.0 in c:\\users\\andre\\anaconda3\\envs\\dlalpha\\lib\\site-packages (from pyLDAvis) (1.4.0)\n",
      "Requirement already satisfied: setuptools in c:\\users\\andre\\anaconda3\\envs\\dlalpha\\lib\\site-packages (from pyLDAvis) (58.0.4)\n",
      "Requirement already satisfied: joblib in c:\\users\\andre\\anaconda3\\envs\\dlalpha\\lib\\site-packages (from pyLDAvis) (1.1.0)\n",
      "Requirement already satisfied: jinja2 in c:\\users\\andre\\anaconda3\\envs\\dlalpha\\lib\\site-packages (from pyLDAvis) (3.0.2)\n",
      "Requirement already satisfied: pytz>=2020.1 in c:\\users\\andre\\anaconda3\\envs\\dlalpha\\lib\\site-packages (from pandas>=1.2.0->pyLDAvis) (2021.3)\n",
      "Requirement already satisfied: python-dateutil>=2.8.1 in c:\\users\\andre\\anaconda3\\envs\\dlalpha\\lib\\site-packages (from pandas>=1.2.0->pyLDAvis) (2.8.2)\n",
      "Requirement already satisfied: six>=1.5 in c:\\users\\andre\\anaconda3\\envs\\dlalpha\\lib\\site-packages (from python-dateutil>=2.8.1->pandas>=1.2.0->pyLDAvis) (1.16.0)\n",
      "Requirement already satisfied: MarkupSafe>=2.0 in c:\\users\\andre\\anaconda3\\envs\\dlalpha\\lib\\site-packages (from jinja2->pyLDAvis) (2.0.1)\n",
      "Requirement already satisfied: packaging in c:\\users\\andre\\anaconda3\\envs\\dlalpha\\lib\\site-packages (from numexpr->pyLDAvis) (21.3)\n",
      "Requirement already satisfied: pyparsing!=3.0.5,>=2.0.2 in c:\\users\\andre\\anaconda3\\envs\\dlalpha\\lib\\site-packages (from packaging->numexpr->pyLDAvis) (3.0.4)\n",
      "Requirement already satisfied: threadpoolctl>=2.0.0 in c:\\users\\andre\\anaconda3\\envs\\dlalpha\\lib\\site-packages (from scikit-learn->pyLDAvis) (3.1.0)\n",
      "Building wheels for collected packages: gensim, pyLDAvis, future\n",
      "  Building wheel for gensim (setup.py): started\n",
      "  Building wheel for gensim (setup.py): finished with status 'done'\n",
      "  Created wheel for gensim: filename=gensim-4.1.2-cp310-cp310-win_amd64.whl size=23968862 sha256=d7d78ae68d0b89bffa082953618328de021efd78ac44d78a43be5ee2b9b52dd6\n",
      "  Stored in directory: c:\\users\\andre\\appdata\\local\\pip\\cache\\wheels\\13\\35\\4e\\dca2954de21981d0a137ff930239f0767403a617e32f19f04f\n",
      "  Building wheel for pyLDAvis (PEP 517): started\n",
      "  Building wheel for pyLDAvis (PEP 517): finished with status 'done'\n",
      "  Created wheel for pyLDAvis: filename=pyLDAvis-3.3.1-py2.py3-none-any.whl size=136900 sha256=ccb37accd920b39ebb730043fba361dc3f653e2b5822e1b09f6fa3659178368b\n",
      "  Stored in directory: c:\\users\\andre\\appdata\\local\\pip\\cache\\wheels\\e9\\95\\74\\4766157910829d2fbc6b913850a62cfd15da77a199302cdf9c\n",
      "  Building wheel for future (setup.py): started\n",
      "  Building wheel for future (setup.py): finished with status 'done'\n",
      "  Created wheel for future: filename=future-0.18.2-py3-none-any.whl size=491070 sha256=0fbe5c237fbccce1a83db25b8e98e265379ef4dc66b277c9cf932e76e9028902\n",
      "  Stored in directory: c:\\users\\andre\\appdata\\local\\pip\\cache\\wheels\\22\\73\\06\\557dc4f4ef68179b9d763930d6eec26b88ed7c389b19588a1c\n",
      "Successfully built gensim pyLDAvis future\n",
      "Installing collected packages: smart-open, numexpr, gensim, future, funcy, pyLDAvis\n",
      "Successfully installed funcy-1.17 future-0.18.2 gensim-4.1.2 numexpr-2.8.1 pyLDAvis-3.3.1 smart-open-5.2.1\n"
     ]
    }
   ],
   "source": [
    "!pip install gensim pyLDAvis"
   ]
  },
  {
   "cell_type": "code",
   "execution_count": 3,
   "metadata": {},
   "outputs": [
    {
     "ename": "ModuleNotFoundError",
     "evalue": "No module named 'gensim.models.wrappers'",
     "output_type": "error",
     "traceback": [
      "\u001b[1;31m---------------------------------------------------------------------------\u001b[0m",
      "\u001b[1;31mModuleNotFoundError\u001b[0m                       Traceback (most recent call last)",
      "\u001b[1;32m~\\AppData\\Local\\Temp/ipykernel_28520/439824798.py\u001b[0m in \u001b[0;36m<module>\u001b[1;34m\u001b[0m\n\u001b[0;32m      8\u001b[0m \u001b[1;32mfrom\u001b[0m \u001b[0mgensim\u001b[0m \u001b[1;32mimport\u001b[0m \u001b[0mmodels\u001b[0m\u001b[1;33m\u001b[0m\u001b[1;33m\u001b[0m\u001b[0m\n\u001b[0;32m      9\u001b[0m \u001b[1;32mfrom\u001b[0m \u001b[0mgensim\u001b[0m\u001b[1;33m.\u001b[0m\u001b[0mmodels\u001b[0m\u001b[1;33m.\u001b[0m\u001b[0mcoherencemodel\u001b[0m \u001b[1;32mimport\u001b[0m \u001b[0mCoherenceModel\u001b[0m\u001b[1;33m\u001b[0m\u001b[1;33m\u001b[0m\u001b[0m\n\u001b[1;32m---> 10\u001b[1;33m \u001b[1;32mfrom\u001b[0m \u001b[0mgensim\u001b[0m\u001b[1;33m.\u001b[0m\u001b[0mmodels\u001b[0m\u001b[1;33m.\u001b[0m\u001b[0mwrappers\u001b[0m \u001b[1;32mimport\u001b[0m \u001b[0mLdaMallet\u001b[0m\u001b[1;33m\u001b[0m\u001b[1;33m\u001b[0m\u001b[0m\n\u001b[0m\u001b[0;32m     11\u001b[0m \u001b[1;33m\u001b[0m\u001b[0m\n\u001b[0;32m     12\u001b[0m \u001b[0mprint\u001b[0m\u001b[1;33m(\u001b[0m\u001b[1;34m'Python Version: %s'\u001b[0m \u001b[1;33m%\u001b[0m \u001b[1;33m(\u001b[0m\u001b[0msys\u001b[0m\u001b[1;33m.\u001b[0m\u001b[0mversion\u001b[0m\u001b[1;33m)\u001b[0m\u001b[1;33m)\u001b[0m\u001b[1;33m\u001b[0m\u001b[1;33m\u001b[0m\u001b[0m\n",
      "\u001b[1;31mModuleNotFoundError\u001b[0m: No module named 'gensim.models.wrappers'"
     ]
    }
   ],
   "source": [
    "import os\n",
    "import sys\n",
    "import gensim\n",
    "import pyLDAvis\n",
    "#import pyLDAvis.gensim\n",
    "\n",
    "from gensim import corpora\n",
    "from gensim import models\n",
    "from gensim.models.coherencemodel import CoherenceModel\n",
    "from gensim.models.wrappers import LdaMallet\n",
    "\n",
    "print('Python Version: %s' % (sys.version))"
   ]
  },
  {
   "cell_type": "code",
   "execution_count": null,
   "metadata": {},
   "outputs": [
    {
     "name": "stdout",
     "output_type": "stream",
     "text": [
      "Dictionary(7714 unique tokens: [u'francesco', u'csuci', u'univesidad', u'sation', u'efimenko']...)\n",
      "MmCorpus(4 documents, 7714 features, 10760 non-zero entries)\n",
      "LdaModel(num_terms=7714, num_topics=20, decay=0.5, chunksize=100)\n"
     ]
    },
    {
     "name": "stderr",
     "output_type": "stream",
     "text": [
      "/home/storopoli/anaconda3/envs/textract/lib/python2.7/site-packages/smart_open/smart_open_lib.py:398: UserWarning: This function is deprecated, use smart_open.open instead. See the migration notes for details: https://github.com/RaRe-Technologies/smart_open/blob/master/README.rst#migrating-to-the-new-open-function\n",
      "  'See the migration notes for details: %s' % _MIGRATION_NOTES_URL\n"
     ]
    }
   ],
   "source": [
    "dictionary = corpora.Dictionary.load('documents.dict')\n",
    "corpus = corpora.MmCorpus('documents.mm')\n",
    "lda_model = models.LdaModel.load('lda_model')\n",
    "print(dictionary)\n",
    "print(corpus)\n",
    "print(lda_model)"
   ]
  },
  {
   "cell_type": "code",
   "execution_count": null,
   "metadata": {},
   "outputs": [],
   "source": [
    "import pickle\n",
    "#with open('documents', 'wb') as f: #save\n",
    "#    pickle.dump(mylist, f)\n",
    "\n",
    "with open('documents', 'rb') as f: #load\n",
    "    documents = pickle.load(f)"
   ]
  },
  {
   "cell_type": "markdown",
   "metadata": {},
   "source": [
    "Gensim provides a wrapper to implement Mallet’s LDA from within Gensim itself. You only need to [install](http://mallet.cs.umass.edu/download.php), unzip it and provide the path to mallet in the unzipped directory to gensim.models.wrappers.LdaMallet. See how I have done this below."
   ]
  },
  {
   "cell_type": "code",
   "execution_count": null,
   "metadata": {},
   "outputs": [],
   "source": [
    "mallet_path = 'mallet-2.0.8/bin/mallet' # update this path\n",
    "ldamallet = gensim.models.wrappers.LdaMallet(mallet_path, corpus=corpus, num_topics=20, id2word=dictionary)"
   ]
  },
  {
   "cell_type": "code",
   "execution_count": null,
   "metadata": {},
   "outputs": [
    {
     "name": "stdout",
     "output_type": "stream",
     "text": [
      "('\\nCoherence Score: ', 0.5411833430131268)\n"
     ]
    }
   ],
   "source": [
    "# Show Topics\n",
    "#print(ldamallet.show_topics(formatted=False))\n",
    "\n",
    "# Compute Coherence Score\n",
    "coherence_model_ldamallet = CoherenceModel(model=ldamallet, \n",
    "                                           texts=documents, \n",
    "                                           dictionary=dictionary, \n",
    "                                           coherence='c_v')\n",
    "coherence_ldamallet = coherence_model_ldamallet.get_coherence()\n",
    "print('\\nCoherence Score: ', coherence_ldamallet)"
   ]
  },
  {
   "cell_type": "code",
   "execution_count": null,
   "metadata": {},
   "outputs": [],
   "source": [
    "ldamallet.save('ldamallet')"
   ]
  }
 ],
 "metadata": {
  "interpreter": {
   "hash": "f3d157dcbd842c8a3101d166ec8d4d22301c9999059fb48ec9390caafc83847d"
  },
  "kernelspec": {
   "display_name": "Python [conda env:textract]",
   "language": "python",
   "name": "python3"
  },
  "language_info": {
   "codemirror_mode": {
    "name": "ipython",
    "version": 3
   },
   "file_extension": ".py",
   "mimetype": "text/x-python",
   "name": "python",
   "nbconvert_exporter": "python",
   "pygments_lexer": "ipython3",
   "version": "3.10.0"
  }
 },
 "nbformat": 4,
 "nbformat_minor": 2
}
