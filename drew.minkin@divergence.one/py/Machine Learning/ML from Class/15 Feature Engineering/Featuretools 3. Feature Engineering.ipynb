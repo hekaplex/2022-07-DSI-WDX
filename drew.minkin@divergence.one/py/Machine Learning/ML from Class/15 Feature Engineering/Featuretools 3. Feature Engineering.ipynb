{
  "cells": [
    {
      "metadata": {
        "trusted": true
      },
      "cell_type": "code",
      "source": "!pip install featuretools",
      "execution_count": 1,
      "outputs": [
        {
          "output_type": "stream",
          "text": "Collecting featuretools\n\u001b[?25l  Downloading https://files.pythonhosted.org/packages/08/04/102e1f3ba55c265c2be462e7e978df67004ac6e7e35bb181d060bd2e2890/featuretools-0.13.2-py3-none-any.whl (236kB)\n\u001b[K     |████████████████████████████████| 245kB 1.8MB/s eta 0:00:01\n\u001b[?25hCollecting cloudpickle>=0.4.0\n  Downloading https://files.pythonhosted.org/packages/ea/0b/189cd3c19faf362ff2df5f301456c6cf8571ef6684644cfdfdbff293825c/cloudpickle-1.3.0-py2.py3-none-any.whl\nCollecting distributed>=1.24.2\n\u001b[?25l  Downloading https://files.pythonhosted.org/packages/8b/11/8ce552c3bf61cdb798cfba19dcd10d07ecbdae26a8ba57fce85f19eb9205/distributed-2.6.0-py3-none-any.whl (560kB)\n\u001b[K     |████████████████████████████████| 563kB 6.0MB/s eta 0:00:01\n\u001b[?25hRequirement already satisfied: pyyaml>=3.12 in /home/nbuser/anaconda3_420/lib/python3.5/site-packages (from featuretools) (3.13)\nCollecting click>=7.0.0\n\u001b[?25l  Downloading https://files.pythonhosted.org/packages/fa/37/45185cb5abbc30d7257104c434fe0b07e5a195a6847506c074527aa599ec/Click-7.0-py2.py3-none-any.whl (81kB)\n\u001b[K     |████████████████████████████████| 81kB 713kB/s  eta 0:00:01\n\u001b[?25hCollecting psutil>=5.4.8\n\u001b[?25l  Downloading https://files.pythonhosted.org/packages/73/93/4f8213fbe66fc20cb904f35e6e04e20b47b85bee39845cc66a0bcf5ccdcb/psutil-5.6.7.tar.gz (448kB)\n\u001b[K     |████████████████████████████████| 450kB 399kB/s eta 0:00:01\n\u001b[?25hCollecting dask[dataframe]>=1.1.0\n\u001b[?25l  Downloading https://files.pythonhosted.org/packages/f8/70/b7e55088c6a6c9d5e786c85738d92e99c4bf085fc4009d5ffe483cd6b44f/dask-2.6.0-py3-none-any.whl (760kB)\n\u001b[K     |████████████████████████████████| 768kB 27.2MB/s eta 0:00:01\n\u001b[?25hRequirement already satisfied: numpy>=1.13.3 in /home/nbuser/anaconda3_420/lib/python3.5/site-packages (from featuretools) (1.17.3)\nCollecting pandas>=0.24.1\n\u001b[?25l  Downloading https://files.pythonhosted.org/packages/a9/55/e3f34ad611f703454b951bab6bde9a432f1af92994cebc4d8e0ec0af38c4/pandas-0.25.3-cp35-cp35m-manylinux1_x86_64.whl (10.3MB)\n\u001b[K     |████████████████████████████████| 10.3MB 28kB/s  eta 0:00:01     |████▊                           | 1.5MB 12.1MB/s eta 0:00:01     |█████                           | 1.6MB 12.1MB/s eta 0:00:01     |█████▉                          | 1.9MB 12.1MB/s eta 0:00:01     |██████████████████████▋         | 7.2MB 1.9MB/s eta 0:00:02:02\n\u001b[?25hRequirement already satisfied: tqdm>=4.32.0 in /home/nbuser/anaconda3_420/lib/python3.5/site-packages (from featuretools) (4.37.0)\nRequirement already satisfied: scipy>=0.13.3 in /home/nbuser/anaconda3_420/lib/python3.5/site-packages (from featuretools) (1.1.0)\nCollecting sortedcontainers!=2.0.0,!=2.0.1\n  Downloading https://files.pythonhosted.org/packages/13/f3/cf85f7c3a2dbd1a515d51e1f1676d971abe41bba6f4ab5443240d9a78e5b/sortedcontainers-2.1.0-py2.py3-none-any.whl\nCollecting zict>=0.1.3\n  Downloading https://files.pythonhosted.org/packages/64/b4/a904be4184814adb9dfc2e679c4e611392080a32726a657a34cab93b38c2/zict-1.0.0-py2.py3-none-any.whl\nRequirement already satisfied: toolz>=0.7.4 in /home/nbuser/anaconda3_420/lib/python3.5/site-packages (from distributed>=1.24.2->featuretools) (0.8.0)\nCollecting tornado>=5\n\u001b[?25l  Downloading https://files.pythonhosted.org/packages/30/78/2d2823598496127b21423baffaa186b668f73cd91887fcef78b6eade136b/tornado-6.0.3.tar.gz (482kB)\n\u001b[K     |████████████████████████████████| 491kB 3.3MB/s eta 0:00:01\n\u001b[?25hCollecting msgpack\n\u001b[?25l  Downloading https://files.pythonhosted.org/packages/a5/fa/5bd627f889327999736350637d7e759a17486d32b69be0c703f7abc64e4e/msgpack-0.6.2-cp35-cp35m-manylinux1_x86_64.whl (244kB)\n\u001b[K     |████████████████████████████████| 245kB 5.5MB/s eta 0:00:01\n\u001b[?25hCollecting tblib\n  Downloading https://files.pythonhosted.org/packages/0d/de/dca3e651ca62e59c08d324f4a51467fa4b8cbeaafb883b5e83720b4d4a47/tblib-1.6.0-py2.py3-none-any.whl\nCollecting partd>=0.3.10; extra == \"dataframe\"\n  Downloading https://files.pythonhosted.org/packages/44/e1/68dbe731c9c067655bff1eca5b7d40c20ca4b23fd5ec9f3d17e201a6f36b/partd-1.1.0-py3-none-any.whl\nCollecting fsspec>=0.5.1; extra == \"dataframe\"\n\u001b[?25l  Downloading https://files.pythonhosted.org/packages/dd/1f/7028dacd3c28f34ce48130aae73a88fa5cc27b6b0e494fcf2739f7954d9d/fsspec-0.6.2-py3-none-any.whl (62kB)\n\u001b[K     |████████████████████████████████| 71kB 327kB/s  eta 0:00:01\n\u001b[?25hCollecting pytz>=2017.2\n  Using cached https://files.pythonhosted.org/packages/e7/f9/f0b53f88060247251bf481fa6ea62cd0d25bf1b11a87888e53ce5b7c8ad2/pytz-2019.3-py2.py3-none-any.whl\nRequirement already satisfied: python-dateutil>=2.6.1 in /home/nbuser/anaconda3_420/lib/python3.5/site-packages (from pandas>=0.24.1->featuretools) (2.8.1)\nRequirement already satisfied: heapdict in /home/nbuser/anaconda3_420/lib/python3.5/site-packages (from zict>=0.1.3->distributed>=1.24.2->featuretools) (1.0.0)\nRequirement already satisfied: locket in /home/nbuser/anaconda3_420/lib/python3.5/site-packages (from partd>=0.3.10; extra == \"dataframe\"->dask[dataframe]>=1.1.0->featuretools) (0.2.0)\nRequirement already satisfied: six>=1.5 in /home/nbuser/anaconda3_420/lib/python3.5/site-packages (from python-dateutil>=2.6.1->pandas>=0.24.1->featuretools) (1.11.0)\nBuilding wheels for collected packages: psutil, tornado\n  Building wheel for psutil (setup.py) ... \u001b[?25ldone\n\u001b[?25h  Created wheel for psutil: filename=psutil-5.6.7-cp35-cp35m-linux_x86_64.whl size=266102 sha256=5b3d6fd2463fe692bf2111775e6c66fea63879b0fa77ed8e603deeb4a085d484\n  Stored in directory: /home/nbuser/.cache/pip/wheels/52/41/b0/bf50409fe2b1d3b79afa3eed71b54b3e30fe5b695db2c7ba2e\n  Building wheel for tornado (setup.py) ... \u001b[?25ldone\n\u001b[?25h  Created wheel for tornado: filename=tornado-6.0.3-cp35-cp35m-linux_x86_64.whl size=420180 sha256=13edf69d54d3af7fc695a43b618f528f4b44d03770b24c0cff423afb13a1cec3\n  Stored in directory: /home/nbuser/.cache/pip/wheels/84/bf/40/2f6ef700f48401ca40e5e3dd7d0e3c0a90e064897b7fe5fc08\nSuccessfully built psutil tornado\n\u001b[31mERROR: luigi 2.8.9 has requirement tornado<6,>=4.0, but you'll have tornado 6.0.3 which is incompatible.\u001b[0m\nInstalling collected packages: cloudpickle, sortedcontainers, click, zict, pytz, pandas, partd, fsspec, dask, tornado, psutil, msgpack, tblib, distributed, featuretools\n  Found existing installation: cloudpickle 0.2.1\n\u001b[31mERROR: Cannot uninstall 'cloudpickle'. It is a distutils installed project and thus we cannot accurately determine which files belong to it which would lead to only a partial uninstall.\u001b[0m\n\u001b[33mWARNING: You are using pip version 19.3.1; however, version 20.0.2 is available.\nYou should consider upgrading via the 'pip install --upgrade pip' command.\u001b[0m\n",
          "name": "stdout"
        }
      ]
    },
    {
      "metadata": {},
      "cell_type": "markdown",
      "source": "# Introduction: Automated Feature Engineering with Featuretools\n\n__Problem:__ we have a set of cutoff times and labels - in a label times table - and we need to build relevant features for each label using only data from before the cutoff time. Traditionally, we would do this by hand, a painstaking and error prone process that makes developing useable machine learning solutions extremely difficult. \n\n__Solution__: Use automated feature engineering as implemented in Featuretools to build hundreds or thousands of relevant features from a relational dataset with a reusable framework that also automatically filters the data based on the cutoff times. This approachs overcomes the limitations of manual feature engineering, letting us buidl better predictive models in a fraction of the time. \n\nThe general process of feature engineering is shown below:\n\n![](../images/feature_engineering_process.png)\n\nCurrently, the only option for automated feature engineering using multiple related tables is [Featuretools](https://github.com/Featuretools/featuretools), an open-source Python library. \n\n![](../images/featuretools-logo.png)\n\nIn this notebook, we'll work with Featuretools to develop an automated feature engineering workflow for the customer churn dataset. The end outcome is a function that takes in a dataset and label times for customers and builds a feature matrix that can be used to train a machine learning model. Because we already partitioned the data into independent subsets (in `Partitioning Data`) we'll be able to apply this function to all of the partitions in parallel using Spark with PySpark.\n\n## Featuretools Resources\n\nWe won't spend too much time on the basics of Featuretools here, so refer to the following sources for more information:\n\n* [Featuretools Documentation](https://docs.featuretools.com/)\n* [Featuretools GitHub](https://github.com/Featuretools/featuretools)\n* [Introductory tutorial on Featuretools](https://towardsdatascience.com/automated-feature-engineering-in-python-99baf11cc219)\n* [Why Automated Feature Engineering Will Change Machine Learning](https://towardsdatascience.com/why-automated-feature-engineering-will-change-the-way-you-do-machine-learning-5c15bf188b96)\n\nThe basics are relatively easy to pick up, and if you're new, you can probably follow along with all the code here! Learning Featuretools requires only a few minutes and it can be applied to any relational dataset.\n\n\nWith that in mind, let's get started."
    },
    {
      "metadata": {
        "trusted": true
      },
      "cell_type": "code",
      "source": "# Data science helpers\nimport pandas as pd \nimport numpy as np\n\nimport featuretools as ft\n\n# Useful for showing multiple outputs\nfrom IPython.core.interactiveshell import InteractiveShell\nInteractiveShell.ast_node_interactivity = \"all\"\n\nN_PARTITIONS = 1000",
      "execution_count": 1,
      "outputs": [
        {
          "output_type": "error",
          "ename": "ImportError",
          "evalue": "No module named 'featuretools'",
          "traceback": [
            "\u001b[0;31m---------------------------------------------------------------------------\u001b[0m",
            "\u001b[0;31mImportError\u001b[0m                               Traceback (most recent call last)",
            "\u001b[0;32m<ipython-input-1-0a114ed6e49a>\u001b[0m in \u001b[0;36m<module>\u001b[0;34m()\u001b[0m\n\u001b[1;32m      3\u001b[0m \u001b[0;32mimport\u001b[0m \u001b[0mnumpy\u001b[0m \u001b[0;32mas\u001b[0m \u001b[0mnp\u001b[0m\u001b[0;34m\u001b[0m\u001b[0m\n\u001b[1;32m      4\u001b[0m \u001b[0;34m\u001b[0m\u001b[0m\n\u001b[0;32m----> 5\u001b[0;31m \u001b[0;32mimport\u001b[0m \u001b[0mfeaturetools\u001b[0m \u001b[0;32mas\u001b[0m \u001b[0mft\u001b[0m\u001b[0;34m\u001b[0m\u001b[0m\n\u001b[0m\u001b[1;32m      6\u001b[0m \u001b[0;34m\u001b[0m\u001b[0m\n\u001b[1;32m      7\u001b[0m \u001b[0;31m# Useful for showing multiple outputs\u001b[0m\u001b[0;34m\u001b[0m\u001b[0;34m\u001b[0m\u001b[0m\n",
            "\u001b[0;31mImportError\u001b[0m: No module named 'featuretools'"
          ]
        }
      ]
    },
    {
      "metadata": {
        "trusted": true
      },
      "cell_type": "code",
      "source": "import wget\nlink_to_data = 'https://github.com/pmservice/wml-sample-models/raw/master/spark/customer-satisfaction-prediction/data/WA_Fn%20UseC_%20Telco%20Customer%20Churn.csv'\nfilename = wget.download(link_to_data)\n",
      "execution_count": 16,
      "outputs": []
    },
    {
      "metadata": {
        "trusted": true
      },
      "cell_type": "code",
      "source": "len(filename)",
      "execution_count": 19,
      "outputs": [
        {
          "output_type": "execute_result",
          "execution_count": 19,
          "data": {
            "text/plain": "44"
          },
          "metadata": {}
        }
      ]
    },
    {
      "metadata": {},
      "cell_type": "markdown",
      "source": "All of the data is stored on S3. This makes it possible to read and write directly from any computer without needing to worry about losing data if the computer (in this case EC2 instances) is shut down. To access, first configure AWS from the command line using `aws configure`."
    },
    {
      "metadata": {
        "trusted": true
      },
      "cell_type": "code",
      "source": "PARTITION = '50'\nBASE_DIR = 's3://customer-churn-spark/'\nPARTITION_DIR = BASE_DIR + 'p' + PARTITION",
      "execution_count": 2,
      "outputs": []
    },
    {
      "metadata": {
        "trusted": true
      },
      "cell_type": "code",
      "source": "PARTITION_DIR",
      "execution_count": 4,
      "outputs": [
        {
          "output_type": "execute_result",
          "execution_count": 4,
          "data": {
            "text/plain": "'s3://customer-churn-spark/p50'"
          },
          "metadata": {}
        }
      ]
    },
    {
      "metadata": {},
      "cell_type": "markdown",
      "source": "The 3 data tables are represented by the following schema. \n\n![](../images/data_schema.png)\n\nThis schema is all the domain knowledge needed to perform automated feature engineering in Featuretools."
    },
    {
      "metadata": {
        "trusted": true
      },
      "cell_type": "code",
      "source": "# Read in all data\nimport boto3\nimport io\nfrom boto.s3.key import Key\nk = Key('customer-churn-spark')\nk.key = 'p50/members.csv'\nk.set_canned_acl('public-read')\ns3 = boto3.client('s3')\n\nobj = s3.get_object(Bucket='customer-churn-spark')\n\ndf = pd.read_csv(io.BytesIO(obj['p50/members.csv'].read()))\n\n\nmembers = pd.read_csv('https://s3.amazonaws.coms/customer-churn-spark/p50/members.csv', \n                      parse_dates=['registration_init_time'], \n                      infer_datetime_format = True)\n                      #dtype = {'gender': 'category'})\n\ntrans = pd.read_csv('s3://customer-churn-spark/p50/transactions.csv',\n                   parse_dates=['transaction_date', 'membership_expire_date'], \n                    infer_datetime_format = True)\n\nlogs = pd.read_csv('s3://customer-churn-spark/p50/logs.csv', parse_dates = ['date'])\n\ncutoff_times = pd.read_csv('s3://customer-churn-spark/p50/MS-31_labels.csv', parse_dates = ['cutoff_time'])",
      "execution_count": 12,
      "outputs": [
        {
          "output_type": "error",
          "ename": "AttributeError",
          "evalue": "'str' object has no attribute 'set_canned_acl'",
          "traceback": [
            "\u001b[0;31m---------------------------------------------------------------------------\u001b[0m",
            "\u001b[0;31mAttributeError\u001b[0m                            Traceback (most recent call last)",
            "\u001b[0;32m<ipython-input-12-eb278152d053>\u001b[0m in \u001b[0;36m<module>\u001b[0;34m()\u001b[0m\n\u001b[1;32m      5\u001b[0m \u001b[0mk\u001b[0m \u001b[0;34m=\u001b[0m \u001b[0mKey\u001b[0m\u001b[0;34m(\u001b[0m\u001b[0;34m'customer-churn-spark'\u001b[0m\u001b[0;34m)\u001b[0m\u001b[0;34m\u001b[0m\u001b[0m\n\u001b[1;32m      6\u001b[0m \u001b[0mk\u001b[0m\u001b[0;34m.\u001b[0m\u001b[0mkey\u001b[0m \u001b[0;34m=\u001b[0m \u001b[0;34m'p50/members.csv'\u001b[0m\u001b[0;34m\u001b[0m\u001b[0m\n\u001b[0;32m----> 7\u001b[0;31m \u001b[0mk\u001b[0m\u001b[0;34m.\u001b[0m\u001b[0mset_canned_acl\u001b[0m\u001b[0;34m(\u001b[0m\u001b[0;34m'public-read'\u001b[0m\u001b[0;34m)\u001b[0m\u001b[0;34m\u001b[0m\u001b[0m\n\u001b[0m\u001b[1;32m      8\u001b[0m \u001b[0ms3\u001b[0m \u001b[0;34m=\u001b[0m \u001b[0mboto3\u001b[0m\u001b[0;34m.\u001b[0m\u001b[0mclient\u001b[0m\u001b[0;34m(\u001b[0m\u001b[0;34m's3'\u001b[0m\u001b[0;34m)\u001b[0m\u001b[0;34m\u001b[0m\u001b[0m\n\u001b[1;32m      9\u001b[0m \u001b[0;34m\u001b[0m\u001b[0m\n",
            "\u001b[0;32m~/anaconda3_420/lib/python3.5/site-packages/boto/s3/key.py\u001b[0m in \u001b[0;36mset_canned_acl\u001b[0;34m(self, acl_str, headers)\u001b[0m\n\u001b[1;32m    582\u001b[0m \u001b[0;34m\u001b[0m\u001b[0m\n\u001b[1;32m    583\u001b[0m     \u001b[0;32mdef\u001b[0m \u001b[0mset_canned_acl\u001b[0m\u001b[0;34m(\u001b[0m\u001b[0mself\u001b[0m\u001b[0;34m,\u001b[0m \u001b[0macl_str\u001b[0m\u001b[0;34m,\u001b[0m \u001b[0mheaders\u001b[0m\u001b[0;34m=\u001b[0m\u001b[0;32mNone\u001b[0m\u001b[0;34m)\u001b[0m\u001b[0;34m:\u001b[0m\u001b[0;34m\u001b[0m\u001b[0m\n\u001b[0;32m--> 584\u001b[0;31m         \u001b[0;32mreturn\u001b[0m \u001b[0mself\u001b[0m\u001b[0;34m.\u001b[0m\u001b[0mbucket\u001b[0m\u001b[0;34m.\u001b[0m\u001b[0mset_canned_acl\u001b[0m\u001b[0;34m(\u001b[0m\u001b[0macl_str\u001b[0m\u001b[0;34m,\u001b[0m \u001b[0mself\u001b[0m\u001b[0;34m.\u001b[0m\u001b[0mname\u001b[0m\u001b[0;34m,\u001b[0m \u001b[0mheaders\u001b[0m\u001b[0;34m)\u001b[0m\u001b[0;34m\u001b[0m\u001b[0m\n\u001b[0m\u001b[1;32m    585\u001b[0m \u001b[0;34m\u001b[0m\u001b[0m\n\u001b[1;32m    586\u001b[0m     \u001b[0;32mdef\u001b[0m \u001b[0mget_redirect\u001b[0m\u001b[0;34m(\u001b[0m\u001b[0mself\u001b[0m\u001b[0;34m)\u001b[0m\u001b[0;34m:\u001b[0m\u001b[0;34m\u001b[0m\u001b[0m\n",
            "\u001b[0;31mAttributeError\u001b[0m: 'str' object has no attribute 'set_canned_acl'"
          ]
        }
      ]
    },
    {
      "metadata": {
        "trusted": true
      },
      "cell_type": "code",
      "source": "!pip install wget",
      "execution_count": 13,
      "outputs": [
        {
          "output_type": "stream",
          "text": "Requirement already satisfied: wget in /home/nbuser/anaconda3_420/lib/python3.5/site-packages (2.2)\n\u001b[33mWARNING: You are using pip version 19.3.1; however, version 20.0.2 is available.\nYou should consider upgrading via the 'pip install --upgrade pip' command.\u001b[0m\n",
          "name": "stdout"
        }
      ]
    },
    {
      "metadata": {},
      "cell_type": "markdown",
      "source": "# Define Entities and EntitySet\n\nThe first step in using Featuretools is to make an `EntitySet` and add all the `entitys` - tables - to it. An EntitySet is a data structure that holds the tables and the relationships between them. This makes it easier to keep track of all the data in a problem with multiple relational tables."
    },
    {
      "metadata": {
        "trusted": false
      },
      "cell_type": "code",
      "source": "import featuretools.variable_types as vtypes\n\n# Make empty entityset\nes = ft.EntitySet(id = 'customers')",
      "execution_count": 4,
      "outputs": []
    },
    {
      "metadata": {},
      "cell_type": "markdown",
      "source": "## Entities\n\nWhen creating entities from a dataframe, we need to make sure to include:\n\n* The `index` if there is one or a name for the created index. This is a unique identifier for each observation.\n* `make_index = True` if there is no index, we need to supply a name under `index` and set this to `True`.\n* A `time_index` if present. This is the time at which the information in the row becomes known. Featuretools will use the `time_index` and the `cutoff_time` to make valid features for each label.\n* `variable_types`. In some cases our data will have variables for which we should specify the type. An example would be a boolean that is represented as a float. This prevents Featuretools from making features such as the `min` or `max` of a True/False varaibles.\n\nFor this problem these are the only arguments we'll need. There are additional arguments that can be used as shown in [the documentation](https://docs.featuretools.com/api_reference.html#entityset-entity-relationship-variable-types). \n\n### Members Table\n\nThe `members` table holds basic information about each customer. The important point for this table is to specify that the `city` and `registered_via` columns are discrete, categorical variables and not numerical and that `registration_init_time` is the `time_index`. The `msno` is the unique index identifying each customer. "
    },
    {
      "metadata": {
        "trusted": false
      },
      "cell_type": "code",
      "source": "members.head()",
      "execution_count": 5,
      "outputs": [
        {
          "data": {
            "text/html": "<div>\n<style scoped>\n    .dataframe tbody tr th:only-of-type {\n        vertical-align: middle;\n    }\n\n    .dataframe tbody tr th {\n        vertical-align: top;\n    }\n\n    .dataframe thead th {\n        text-align: right;\n    }\n</style>\n<table border=\"1\" class=\"dataframe\">\n  <thead>\n    <tr style=\"text-align: right;\">\n      <th></th>\n      <th>msno</th>\n      <th>city</th>\n      <th>bd</th>\n      <th>gender</th>\n      <th>registered_via</th>\n      <th>registration_init_time</th>\n    </tr>\n  </thead>\n  <tbody>\n    <tr>\n      <th>0</th>\n      <td>8hW4+CV3D1oNM0CIsA39YljsF8M3m7g1LAX6AQd3C8I=</td>\n      <td>4</td>\n      <td>24</td>\n      <td>male</td>\n      <td>3</td>\n      <td>2014-11-04</td>\n    </tr>\n    <tr>\n      <th>1</th>\n      <td>yhcODfebyTYezE6KAPklcV1us9zdOYJ+7eHS7f/xgoU=</td>\n      <td>8</td>\n      <td>37</td>\n      <td>male</td>\n      <td>9</td>\n      <td>2007-02-11</td>\n    </tr>\n    <tr>\n      <th>2</th>\n      <td>sBlgSL0AIq49XsmBQ2KceKZNUyIxT1BwSkN/xYQLGMc=</td>\n      <td>15</td>\n      <td>21</td>\n      <td>male</td>\n      <td>3</td>\n      <td>2013-02-08</td>\n    </tr>\n    <tr>\n      <th>3</th>\n      <td>Xy3Au8sZKlEeHBQ+C7ro8Ni3X/dxgrtmx0Tt+jqM1zY=</td>\n      <td>1</td>\n      <td>0</td>\n      <td>NaN</td>\n      <td>9</td>\n      <td>2015-02-01</td>\n    </tr>\n    <tr>\n      <th>4</th>\n      <td>NiCu2GVWgT5QZbI85oYRBEDqHUZbzz2azS48jvM+khg=</td>\n      <td>12</td>\n      <td>21</td>\n      <td>male</td>\n      <td>3</td>\n      <td>2015-02-12</td>\n    </tr>\n  </tbody>\n</table>\n</div>",
            "text/plain": "                                           msno  city  bd gender  \\\n0  8hW4+CV3D1oNM0CIsA39YljsF8M3m7g1LAX6AQd3C8I=     4  24   male   \n1  yhcODfebyTYezE6KAPklcV1us9zdOYJ+7eHS7f/xgoU=     8  37   male   \n2  sBlgSL0AIq49XsmBQ2KceKZNUyIxT1BwSkN/xYQLGMc=    15  21   male   \n3  Xy3Au8sZKlEeHBQ+C7ro8Ni3X/dxgrtmx0Tt+jqM1zY=     1   0    NaN   \n4  NiCu2GVWgT5QZbI85oYRBEDqHUZbzz2azS48jvM+khg=    12  21   male   \n\n   registered_via registration_init_time  \n0               3             2014-11-04  \n1               9             2007-02-11  \n2               3             2013-02-08  \n3               9             2015-02-01  \n4               3             2015-02-12  "
          },
          "execution_count": 5,
          "metadata": {},
          "output_type": "execute_result"
        }
      ]
    },
    {
      "metadata": {
        "trusted": false
      },
      "cell_type": "code",
      "source": "members['msno'].is_unique",
      "execution_count": 6,
      "outputs": [
        {
          "data": {
            "text/plain": "True"
          },
          "execution_count": 6,
          "metadata": {},
          "output_type": "execute_result"
        }
      ]
    },
    {
      "metadata": {
        "trusted": false
      },
      "cell_type": "code",
      "source": "# Create entity from members\nes.entity_from_dataframe(entity_id='members', dataframe=members,\n                         index = 'msno', time_index = 'registration_init_time', \n                         variable_types = {'city': vtypes.Categorical, \n                                           'registered_via': vtypes.Categorical})",
      "execution_count": 7,
      "outputs": [
        {
          "data": {
            "text/plain": "Entityset: customers\n  Entities:\n    members [Rows: 6658, Columns: 6]\n  Relationships:\n    No relationships"
          },
          "execution_count": 7,
          "metadata": {},
          "output_type": "execute_result"
        }
      ]
    },
    {
      "metadata": {},
      "cell_type": "markdown",
      "source": "### Transactions Table\n\nThe transactions table contains payments made by the customers. Each row records one payment. "
    },
    {
      "metadata": {
        "trusted": false
      },
      "cell_type": "code",
      "source": "trans.head()",
      "execution_count": 8,
      "outputs": [
        {
          "data": {
            "text/html": "<div>\n<style scoped>\n    .dataframe tbody tr th:only-of-type {\n        vertical-align: middle;\n    }\n\n    .dataframe tbody tr th {\n        vertical-align: top;\n    }\n\n    .dataframe thead th {\n        text-align: right;\n    }\n</style>\n<table border=\"1\" class=\"dataframe\">\n  <thead>\n    <tr style=\"text-align: right;\">\n      <th></th>\n      <th>msno</th>\n      <th>payment_method_id</th>\n      <th>payment_plan_days</th>\n      <th>plan_list_price</th>\n      <th>actual_amount_paid</th>\n      <th>is_auto_renew</th>\n      <th>transaction_date</th>\n      <th>membership_expire_date</th>\n      <th>is_cancel</th>\n    </tr>\n  </thead>\n  <tbody>\n    <tr>\n      <th>0</th>\n      <td>5F7G3pHKf5ijGQpoKuko0G7Jm3Bde6ktfPKBZySWoDI=</td>\n      <td>41</td>\n      <td>30</td>\n      <td>99</td>\n      <td>99</td>\n      <td>1</td>\n      <td>2017-02-10</td>\n      <td>2017-03-10</td>\n      <td>0</td>\n    </tr>\n    <tr>\n      <th>1</th>\n      <td>DQMPoCSc6EB39ytgnKCRsUIZnR6ZWSrHeDmX7nbxAKs=</td>\n      <td>41</td>\n      <td>30</td>\n      <td>149</td>\n      <td>149</td>\n      <td>1</td>\n      <td>2016-02-01</td>\n      <td>2016-03-02</td>\n      <td>0</td>\n    </tr>\n    <tr>\n      <th>2</th>\n      <td>Lrais3nsgqYwpfpSoyK3fHuPutf6cloTI5T5dQfs4lA=</td>\n      <td>38</td>\n      <td>30</td>\n      <td>149</td>\n      <td>149</td>\n      <td>0</td>\n      <td>2016-02-23</td>\n      <td>2016-04-23</td>\n      <td>0</td>\n    </tr>\n    <tr>\n      <th>3</th>\n      <td>ZPOjgxQw1/J7v5xgBJTCLXWuwq5Xmk33nO6AoUO1+mY=</td>\n      <td>41</td>\n      <td>30</td>\n      <td>149</td>\n      <td>119</td>\n      <td>1</td>\n      <td>2015-09-06</td>\n      <td>2016-08-01</td>\n      <td>0</td>\n    </tr>\n    <tr>\n      <th>4</th>\n      <td>MvR23u4bIiWM+U+VE1Mvw3qqdj/0Ixs1sf7avavjhRs=</td>\n      <td>38</td>\n      <td>30</td>\n      <td>149</td>\n      <td>149</td>\n      <td>0</td>\n      <td>2016-10-28</td>\n      <td>2016-11-27</td>\n      <td>0</td>\n    </tr>\n  </tbody>\n</table>\n</div>",
            "text/plain": "                                           msno  payment_method_id  \\\n0  5F7G3pHKf5ijGQpoKuko0G7Jm3Bde6ktfPKBZySWoDI=                 41   \n1  DQMPoCSc6EB39ytgnKCRsUIZnR6ZWSrHeDmX7nbxAKs=                 41   \n2  Lrais3nsgqYwpfpSoyK3fHuPutf6cloTI5T5dQfs4lA=                 38   \n3  ZPOjgxQw1/J7v5xgBJTCLXWuwq5Xmk33nO6AoUO1+mY=                 41   \n4  MvR23u4bIiWM+U+VE1Mvw3qqdj/0Ixs1sf7avavjhRs=                 38   \n\n   payment_plan_days  plan_list_price  actual_amount_paid  is_auto_renew  \\\n0                 30               99                  99              1   \n1                 30              149                 149              1   \n2                 30              149                 149              0   \n3                 30              149                 119              1   \n4                 30              149                 149              0   \n\n  transaction_date membership_expire_date  is_cancel  \n0       2017-02-10             2017-03-10          0  \n1       2016-02-01             2016-03-02          0  \n2       2016-02-23             2016-04-23          0  \n3       2015-09-06             2016-08-01          0  \n4       2016-10-28             2016-11-27          0  "
          },
          "execution_count": 8,
          "metadata": {},
          "output_type": "execute_result"
        }
      ]
    },
    {
      "metadata": {
        "trusted": false
      },
      "cell_type": "code",
      "source": "import matplotlib.pyplot as plt\n%matplotlib inline\nplt.style.use('fivethirtyeight')\nplt.rcParams['figure.figsize'] = (10, 6)\n\ntrans.loc[trans['actual_amount_paid'] < 250, 'actual_amount_paid'].dropna().plot.hist(bins = 30);\nplt.title('Distribution of Actual Amount Paid');",
      "execution_count": 9,
      "outputs": [
        {
          "data": {
            "image/png": "[encoded data removed]",
            "text/plain": "<Figure size 720x432 with 1 Axes>"
          },
          "metadata": {},
          "output_type": "display_data"
        }
      ]
    },
    {
      "metadata": {},
      "cell_type": "markdown",
      "source": "#### Domain Knowledge Features\n\nBefore creating the entity from this dataframe, we can create a few new variables based on domain knowledge. Just because we are automatically going to make hundreds of features doesn't mean we can't use our own expertise. Featuretools will build on top of our knowledge by stacking more primitives on top of any variables that we define."
    },
    {
      "metadata": {
        "trusted": false
      },
      "cell_type": "code",
      "source": "# Difference between listing price and price paid\ntrans['price_difference'] = trans['plan_list_price'] - trans['actual_amount_paid']\n\n# Planned price per day\ntrans['planned_daily_price'] = trans['plan_list_price'] / trans['payment_plan_days']\n\n# Actual price per day\ntrans['daily_price'] = trans['actual_amount_paid'] / trans['payment_plan_days']\n\ntrans.loc[trans['price_difference'] > 0, 'price_difference'].plot.hist(bins = 30, \n                                                                       figsize = (8, 6));\nplt.title('Dfiference between List Price and Price Paid');",
      "execution_count": 10,
      "outputs": [
        {
          "data": {
            "image/png": "[encoded data removed]",
            "text/plain": "<Figure size 576x432 with 1 Axes>"
          },
          "metadata": {},
          "output_type": "display_data"
        }
      ]
    },
    {
      "metadata": {},
      "cell_type": "markdown",
      "source": "There is no `index` in this dataframe so we have to specify to make an index and pass in a name. There is a `time_index`, the time of the transaction, which will be critical when filtering data based on cutoff times to make features. Again, we also need to specify several variable types.\n\nThere is one slight anomaly with the transactions where some membership expire dates are after the transactions date, so we will filter those out."
    },
    {
      "metadata": {
        "trusted": false
      },
      "cell_type": "code",
      "source": "# Filter anomalies\ntrans = trans[trans['membership_expire_date'] > trans['transaction_date']]",
      "execution_count": 11,
      "outputs": []
    },
    {
      "metadata": {
        "trusted": false
      },
      "cell_type": "code",
      "source": "# Create entity from transactions\nes.entity_from_dataframe(entity_id='transactions', dataframe=trans,\n                         index = 'transactions_index', make_index = True,\n                         time_index = 'transaction_date', \n                         variable_types = {'payment_method_id': vtypes.Categorical, \n                                           'is_auto_renew': vtypes.Boolean, 'is_cancel': vtypes.Boolean})",
      "execution_count": 12,
      "outputs": [
        {
          "data": {
            "text/plain": "Entityset: customers\n  Entities:\n    members [Rows: 6658, Columns: 6]\n    transactions [Rows: 22329, Columns: 13]\n  Relationships:\n    No relationships"
          },
          "execution_count": 12,
          "metadata": {},
          "output_type": "execute_result"
        }
      ]
    },
    {
      "metadata": {},
      "cell_type": "markdown",
      "source": "### Logs\n\nThe `logs` contain user listening behavior. As before we'll make a few domain knowledge columns before adding to the `EntitySet`. "
    },
    {
      "metadata": {
        "trusted": false
      },
      "cell_type": "code",
      "source": "logs.head()",
      "execution_count": 13,
      "outputs": [
        {
          "data": {
            "text/html": "<div>\n<style scoped>\n    .dataframe tbody tr th:only-of-type {\n        vertical-align: middle;\n    }\n\n    .dataframe tbody tr th {\n        vertical-align: top;\n    }\n\n    .dataframe thead th {\n        text-align: right;\n    }\n</style>\n<table border=\"1\" class=\"dataframe\">\n  <thead>\n    <tr style=\"text-align: right;\">\n      <th></th>\n      <th>msno</th>\n      <th>date</th>\n      <th>num_25</th>\n      <th>num_50</th>\n      <th>num_75</th>\n      <th>num_985</th>\n      <th>num_100</th>\n      <th>num_unq</th>\n      <th>total_secs</th>\n    </tr>\n  </thead>\n  <tbody>\n    <tr>\n      <th>0</th>\n      <td>6+/V1NwBbqjBOCvRSDueeJZ58F4DY7h7fG6fSZtHaAE=</td>\n      <td>2017-03-04</td>\n      <td>29</td>\n      <td>28</td>\n      <td>18</td>\n      <td>11</td>\n      <td>111</td>\n      <td>79</td>\n      <td>34727.142</td>\n    </tr>\n    <tr>\n      <th>1</th>\n      <td>E2aBGFTKR6jzp+1knh7JOOF39gLuu+CoZMWaAL/DA0M=</td>\n      <td>2017-03-27</td>\n      <td>1</td>\n      <td>0</td>\n      <td>2</td>\n      <td>0</td>\n      <td>184</td>\n      <td>173</td>\n      <td>33408.719</td>\n    </tr>\n    <tr>\n      <th>2</th>\n      <td>g7exJzakJlHXwzUydnShY5w24WXSwJyS6QqgoFeyr7g=</td>\n      <td>2017-03-15</td>\n      <td>0</td>\n      <td>0</td>\n      <td>0</td>\n      <td>0</td>\n      <td>21</td>\n      <td>21</td>\n      <td>4951.000</td>\n    </tr>\n    <tr>\n      <th>3</th>\n      <td>X+i9OmM3P42cETt5gPkOnz8vXGViQL5/M/NMiMQ+Olc=</td>\n      <td>2017-03-13</td>\n      <td>3</td>\n      <td>1</td>\n      <td>0</td>\n      <td>0</td>\n      <td>33</td>\n      <td>27</td>\n      <td>8755.599</td>\n    </tr>\n    <tr>\n      <th>4</th>\n      <td>tbl8blAVl6j4A8zW1Gnyg78Hc0LAQzzcYesmzgJ7ofs=</td>\n      <td>2017-03-27</td>\n      <td>6</td>\n      <td>5</td>\n      <td>0</td>\n      <td>0</td>\n      <td>2</td>\n      <td>6</td>\n      <td>1035.853</td>\n    </tr>\n  </tbody>\n</table>\n</div>",
            "text/plain": "                                           msno       date  num_25  num_50  \\\n0  6+/V1NwBbqjBOCvRSDueeJZ58F4DY7h7fG6fSZtHaAE= 2017-03-04      29      28   \n1  E2aBGFTKR6jzp+1knh7JOOF39gLuu+CoZMWaAL/DA0M= 2017-03-27       1       0   \n2  g7exJzakJlHXwzUydnShY5w24WXSwJyS6QqgoFeyr7g= 2017-03-15       0       0   \n3  X+i9OmM3P42cETt5gPkOnz8vXGViQL5/M/NMiMQ+Olc= 2017-03-13       3       1   \n4  tbl8blAVl6j4A8zW1Gnyg78Hc0LAQzzcYesmzgJ7ofs= 2017-03-27       6       5   \n\n   num_75  num_985  num_100  num_unq  total_secs  \n0      18       11      111       79   34727.142  \n1       2        0      184      173   33408.719  \n2       0        0       21       21    4951.000  \n3       0        0       33       27    8755.599  \n4       0        0        2        6    1035.853  "
          },
          "execution_count": 13,
          "metadata": {},
          "output_type": "execute_result"
        }
      ]
    },
    {
      "metadata": {
        "trusted": false
      },
      "cell_type": "code",
      "source": "# Make a few features by hand\nlogs['total'] = logs[['num_25', 'num_50', 'num_75', 'num_985', 'num_100']].sum(axis = 1)\nlogs['percent_100'] = logs['num_100'] / logs['total']\nlogs['percent_unique'] = logs['num_unq'] / logs['total']\nlogs['seconds_per_song'] = logs['total_secs'] / logs['total'] \n\nimport seaborn as sns\n\nsns.kdeplot(logs['total']);\nplt.title('Distribution of Total Number of Songs');",
      "execution_count": 14,
      "outputs": [
        {
          "data": {
            "image/png": "[encoded data removed]",
            "text/plain": "<Figure size 432x288 with 1 Axes>"
          },
          "metadata": {},
          "output_type": "display_data"
        }
      ]
    },
    {
      "metadata": {
        "trusted": false
      },
      "cell_type": "code",
      "source": "sns.kdeplot(logs['percent_100']);\nplt.title('Distribution of Percentage of Songs Listened to Completion');",
      "execution_count": 15,
      "outputs": [
        {
          "data": {
            "image/png": "[encoded data removed]",
            "text/plain": "<Figure size 432x288 with 1 Axes>"
          },
          "metadata": {},
          "output_type": "display_data"
        }
      ]
    },
    {
      "metadata": {},
      "cell_type": "markdown",
      "source": "There is `time_index` in the logs although no `index` present."
    },
    {
      "metadata": {
        "trusted": false
      },
      "cell_type": "code",
      "source": "es.entity_from_dataframe(entity_id='logs', dataframe=logs,\n                         index = 'logs_index', make_index = True,\n                         time_index = 'date')",
      "execution_count": 16,
      "outputs": [
        {
          "data": {
            "text/plain": "Entityset: customers\n  Entities:\n    members [Rows: 6658, Columns: 6]\n    transactions [Rows: 22329, Columns: 13]\n    logs [Rows: 424252, Columns: 14]\n  Relationships:\n    No relationships"
          },
          "execution_count": 16,
          "metadata": {},
          "output_type": "execute_result"
        }
      ]
    },
    {
      "metadata": {},
      "cell_type": "markdown",
      "source": "Making features by hand may seem counterintuitive if we are using automated feature engineering, but the benefits of doing this before using Featuretools is that these features can be stacked on top of to build deep features. Automated feature engineering will therefore take our existing hand-built features and extract more value from them by combining them with other features.\n\nAnother method to improve the power of deep feature synthesis is through interesting values, which specify conditional statements used to build features."
    },
    {
      "metadata": {},
      "cell_type": "markdown",
      "source": "### Interesting Values\n\nIn order to create conditional features, we can set interesting values for existing columns in the data. The following code will be used to build features conditional on the value of `is_cancel` and `is_auto_renew` in the transactions data. The primitives used for the conditional features are specified as `where_primitives` in the call to Deep Feature Synthesis. For example, if we used a `mean` primitive along with the following interesting values, we will get a mean of transactions where the transaction was cancelled, as well as the mean of transactions where the transaction was not cancelled. "
    },
    {
      "metadata": {
        "trusted": false
      },
      "cell_type": "code",
      "source": "es['transactions']['is_cancel'].interesting_values = [0, 1]\nes['transactions']['is_auto_renew'].interesting_values = [0, 1]",
      "execution_count": 17,
      "outputs": []
    },
    {
      "metadata": {},
      "cell_type": "markdown",
      "source": "# Relationships\n\nTable relationships should be familiar to anyone who has worked with relational databases and the idea is the same in Featuretools. We use relationships to specify how examples in one table relate to examples in other tables. The entityset structure for this problem is fairly simple as there are only three entities with two relationships.  `members` is the parent of `logs` and `transactions`. In both relationships, the parent and child variable is `msno`, the customer id.\n\nThe two relationships are: one linking `members` to `transactions` and one linking `members` to `logs`. The order for relationships in featuretools is parent variable, child variable."
    },
    {
      "metadata": {
        "trusted": false
      },
      "cell_type": "code",
      "source": "# Relationships (parent, child)\nr_member_transactions = ft.Relationship(es['members']['msno'], es['transactions']['msno'])\nr_member_logs = ft.Relationship(es['members']['msno'], es['logs']['msno'])\n\nes.add_relationships([r_member_transactions, r_member_logs])",
      "execution_count": 18,
      "outputs": [
        {
          "data": {
            "text/plain": "Entityset: customers\n  Entities:\n    members [Rows: 6658, Columns: 6]\n    transactions [Rows: 22329, Columns: 13]\n    logs [Rows: 424252, Columns: 14]\n  Relationships:\n    transactions.msno -> members.msno\n    logs.msno -> members.msno"
          },
          "execution_count": 18,
          "metadata": {},
          "output_type": "execute_result"
        }
      ]
    },
    {
      "metadata": {},
      "cell_type": "markdown",
      "source": "### Cutoff Times\n\n`cutoff_times` are a critical piece of any time based machine learning problem. The label times dataframe has columns of member id, cutoff time, and label. __For each cutoff time, only data from before the cutoff time can be used to build features for that label.__ This is one of the greatest advantages of Featuretools compared to manual feature engineering: __Featuretools automatically filters our data based on the cutoff times to ensure that all the features are valid for machine learning.__ Normally, we would have to take extreme care to make sure all of our features are valid, but Featreutools is able to implement the filtering logic behind the scenes for us.\n\nAll we have to do is make sure to pass in the correct label times for the prediction problem we want to solve."
    },
    {
      "metadata": {
        "trusted": false
      },
      "cell_type": "code",
      "source": "cutoff_times = cutoff_times.drop_duplicates(subset = ['msno', 'cutoff_time'])\ncutoff_times.head()",
      "execution_count": 19,
      "outputs": [
        {
          "data": {
            "text/html": "<div>\n<style scoped>\n    .dataframe tbody tr th:only-of-type {\n        vertical-align: middle;\n    }\n\n    .dataframe tbody tr th {\n        vertical-align: top;\n    }\n\n    .dataframe thead th {\n        text-align: right;\n    }\n</style>\n<table border=\"1\" class=\"dataframe\">\n  <thead>\n    <tr style=\"text-align: right;\">\n      <th></th>\n      <th>msno</th>\n      <th>cutoff_time</th>\n      <th>label</th>\n      <th>days_to_churn</th>\n      <th>churn_date</th>\n    </tr>\n  </thead>\n  <tbody>\n    <tr>\n      <th>0</th>\n      <td>++bK0FRJecXCogqXdjtO2Kyb3jq7uLM7qThTk+nN8tE=</td>\n      <td>2015-08-01</td>\n      <td>0.0</td>\n      <td>NaN</td>\n      <td>NaN</td>\n    </tr>\n    <tr>\n      <th>1</th>\n      <td>++bK0FRJecXCogqXdjtO2Kyb3jq7uLM7qThTk+nN8tE=</td>\n      <td>2015-09-01</td>\n      <td>0.0</td>\n      <td>NaN</td>\n      <td>NaN</td>\n    </tr>\n    <tr>\n      <th>2</th>\n      <td>++bK0FRJecXCogqXdjtO2Kyb3jq7uLM7qThTk+nN8tE=</td>\n      <td>2015-10-01</td>\n      <td>0.0</td>\n      <td>NaN</td>\n      <td>NaN</td>\n    </tr>\n    <tr>\n      <th>3</th>\n      <td>++bK0FRJecXCogqXdjtO2Kyb3jq7uLM7qThTk+nN8tE=</td>\n      <td>2015-11-01</td>\n      <td>0.0</td>\n      <td>NaN</td>\n      <td>NaN</td>\n    </tr>\n    <tr>\n      <th>4</th>\n      <td>++bK0FRJecXCogqXdjtO2Kyb3jq7uLM7qThTk+nN8tE=</td>\n      <td>2015-12-01</td>\n      <td>0.0</td>\n      <td>NaN</td>\n      <td>NaN</td>\n    </tr>\n  </tbody>\n</table>\n</div>",
            "text/plain": "                                           msno cutoff_time  label  \\\n0  ++bK0FRJecXCogqXdjtO2Kyb3jq7uLM7qThTk+nN8tE=  2015-08-01    0.0   \n1  ++bK0FRJecXCogqXdjtO2Kyb3jq7uLM7qThTk+nN8tE=  2015-09-01    0.0   \n2  ++bK0FRJecXCogqXdjtO2Kyb3jq7uLM7qThTk+nN8tE=  2015-10-01    0.0   \n3  ++bK0FRJecXCogqXdjtO2Kyb3jq7uLM7qThTk+nN8tE=  2015-11-01    0.0   \n4  ++bK0FRJecXCogqXdjtO2Kyb3jq7uLM7qThTk+nN8tE=  2015-12-01    0.0   \n\n   days_to_churn churn_date  \n0            NaN        NaN  \n1            NaN        NaN  \n2            NaN        NaN  \n3            NaN        NaN  \n4            NaN        NaN  "
          },
          "execution_count": 19,
          "metadata": {},
          "output_type": "execute_result"
        }
      ]
    },
    {
      "metadata": {},
      "cell_type": "markdown",
      "source": "# Deep Feature Synthesis\n\nWith the entities and relationships fully defined, we are ready to run [Deep Feature Synthesis (DFS)](https://www.featurelabs.com/blog/deep-feature-synthesis/). This process applies feature engineering building blocks called [feature primitives](https://docs.featuretools.com/automated_feature_engineering/primitives.html) to a dataset to build hundreds of features. Feature primitives are basic operations of two types - transforms and aggregations - that stack to build deep features (for more information see the previous linked resources). These includes many operations that we would traditionally carry out by hand, but automated feature engineering saves us from having to implement these features one at a time. \n\nThe call to `ft.dfs` needs the entityset which holds all the tables and relationships between them, the `target_entity` to make features for, the specific primitives, the maximum stacking of primitives (`max_depth`), the `cutoff_times`, and a number of optional parameters.\n\nTo start, we'll use the default aggregation and transformation primitives as well as two `where_primitives` and see how many features this generates. To only generate the definitions of the features, we pass in `features_only = True`.\n\nFor full details on Deep Feature Synthesis, take a look at [the documentation](https://docs.featuretools.com/api_reference.html#deep-feature-synthesis). "
    },
    {
      "metadata": {
        "trusted": false
      },
      "cell_type": "code",
      "source": "feature_defs = ft.dfs(entityset=es, target_entity='members', \n                      cutoff_time = cutoff_times,\n                      where_primitives = ['sum', 'mean'],\n                      max_depth=2, features_only=True)",
      "execution_count": 20,
      "outputs": []
    },
    {
      "metadata": {
        "trusted": false
      },
      "cell_type": "code",
      "source": "print(f'This will generate {len(feature_defs)} features.')",
      "execution_count": 21,
      "outputs": [
        {
          "name": "stdout",
          "output_type": "stream",
          "text": "This will generate 188 features.\n"
        }
      ]
    },
    {
      "metadata": {
        "trusted": false
      },
      "cell_type": "code",
      "source": "import random; random.seed(42)\n\nrandom.sample(feature_defs, 10)",
      "execution_count": 22,
      "outputs": [
        {
          "data": {
            "text/plain": "[<Feature: MEAN(transactions.price_difference WHERE is_cancel = 1)>,\n <Feature: MAX(logs.num_75)>,\n <Feature: SUM(logs.num_75)>,\n <Feature: COUNT(logs)>,\n <Feature: MEAN(logs.num_985)>,\n <Feature: MIN(logs.percent_unique)>,\n <Feature: MAX(logs.percent_unique)>,\n <Feature: MAX(logs.num_25)>,\n <Feature: NUM_UNIQUE(transactions.DAY(membership_expire_date))>,\n <Feature: SUM(transactions.price_difference WHERE is_cancel = 1)>]"
          },
          "execution_count": 22,
          "metadata": {},
          "output_type": "execute_result"
        }
      ]
    },
    {
      "metadata": {},
      "cell_type": "markdown",
      "source": "We can see that Featuretools has built almost 200 features automatically for us using the table relationships and feature primitives. If built by hand, each of these features would require minutes of work, totaling many hours to build 188 features. Moreover, although the features are not necessarily intuitive, they are easy to explain in natural language because they are simple operations stacked on top of each other."
    },
    {
      "metadata": {},
      "cell_type": "markdown",
      "source": "## Specify Primitives \n\nNow we'll do a call to `ft.dfs` specifying the primitives to use. Often, these will depend on the problem and can involve domain knowledge. The best way to choose primitives is by trying out a variety and seeing which perform the best. Like many operations in machine learning, choosing primitives is still largely an empirical, rather than theoretical, practice."
    },
    {
      "metadata": {},
      "cell_type": "markdown",
      "source": "### Aggregation Primitives"
    },
    {
      "metadata": {
        "trusted": false
      },
      "cell_type": "code",
      "source": "all_p = ft.list_primitives()\ntrans_p = all_p.loc[all_p['type'] == 'transform'].copy()\nagg_p = all_p.loc[all_p['type'] == 'aggregation'].copy()\n\npd.options.display.max_colwidth = 100\nagg_p.head()",
      "execution_count": 23,
      "outputs": [
        {
          "data": {
            "text/html": "<div>\n<style scoped>\n    .dataframe tbody tr th:only-of-type {\n        vertical-align: middle;\n    }\n\n    .dataframe tbody tr th {\n        vertical-align: top;\n    }\n\n    .dataframe thead th {\n        text-align: right;\n    }\n</style>\n<table border=\"1\" class=\"dataframe\">\n  <thead>\n    <tr style=\"text-align: right;\">\n      <th></th>\n      <th>name</th>\n      <th>type</th>\n      <th>description</th>\n    </tr>\n  </thead>\n  <tbody>\n    <tr>\n      <th>0</th>\n      <td>mean</td>\n      <td>aggregation</td>\n      <td>Computes the average value of a numeric feature.</td>\n    </tr>\n    <tr>\n      <th>1</th>\n      <td>num_unique</td>\n      <td>aggregation</td>\n      <td>Returns the number of unique categorical variables.</td>\n    </tr>\n    <tr>\n      <th>2</th>\n      <td>last</td>\n      <td>aggregation</td>\n      <td>Returns the last value.</td>\n    </tr>\n    <tr>\n      <th>3</th>\n      <td>percent_true</td>\n      <td>aggregation</td>\n      <td>Finds the percent of 'True' values in a boolean feature.</td>\n    </tr>\n    <tr>\n      <th>4</th>\n      <td>max</td>\n      <td>aggregation</td>\n      <td>Finds the maximum non-null value of a numeric feature.</td>\n    </tr>\n  </tbody>\n</table>\n</div>",
            "text/plain": "           name         type  \\\n0          mean  aggregation   \n1    num_unique  aggregation   \n2          last  aggregation   \n3  percent_true  aggregation   \n4           max  aggregation   \n\n                                                description  \n0          Computes the average value of a numeric feature.  \n1       Returns the number of unique categorical variables.  \n2                                   Returns the last value.  \n3  Finds the percent of 'True' values in a boolean feature.  \n4    Finds the maximum non-null value of a numeric feature.  "
          },
          "execution_count": 23,
          "metadata": {},
          "output_type": "execute_result"
        }
      ]
    },
    {
      "metadata": {
        "trusted": false
      },
      "cell_type": "code",
      "source": "# Specify aggregation primitives\nagg_primitives = ['sum', 'time_since_last', 'avg_time_between', 'all', 'mode', 'num_unique', 'min', 'last', \n                  'mean', 'percent_true', 'max', 'std', 'count']",
      "execution_count": 24,
      "outputs": []
    },
    {
      "metadata": {},
      "cell_type": "markdown",
      "source": "## Transform Primitives"
    },
    {
      "metadata": {
        "trusted": false
      },
      "cell_type": "code",
      "source": "trans_p.tail()",
      "execution_count": 25,
      "outputs": [
        {
          "data": {
            "text/html": "<div>\n<style scoped>\n    .dataframe tbody tr th:only-of-type {\n        vertical-align: middle;\n    }\n\n    .dataframe tbody tr th {\n        vertical-align: top;\n    }\n\n    .dataframe thead th {\n        text-align: right;\n    }\n</style>\n<table border=\"1\" class=\"dataframe\">\n  <thead>\n    <tr style=\"text-align: right;\">\n      <th></th>\n      <th>name</th>\n      <th>type</th>\n      <th>description</th>\n    </tr>\n  </thead>\n  <tbody>\n    <tr>\n      <th>57</th>\n      <td>multiply</td>\n      <td>transform</td>\n      <td>Creates a transform feature that multplies two features.</td>\n    </tr>\n    <tr>\n      <th>58</th>\n      <td>weekend</td>\n      <td>transform</td>\n      <td>Transform Datetime feature into the boolean of Weekend.</td>\n    </tr>\n    <tr>\n      <th>59</th>\n      <td>and</td>\n      <td>transform</td>\n      <td>For two boolean values, determine if both values are 'True'.</td>\n    </tr>\n    <tr>\n      <th>60</th>\n      <td>add</td>\n      <td>transform</td>\n      <td>Creates a transform feature that adds two features.</td>\n    </tr>\n    <tr>\n      <th>61</th>\n      <td>seconds</td>\n      <td>transform</td>\n      <td>Transform a Timedelta feature into the number of seconds.</td>\n    </tr>\n  </tbody>\n</table>\n</div>",
            "text/plain": "        name       type  \\\n57  multiply  transform   \n58   weekend  transform   \n59       and  transform   \n60       add  transform   \n61   seconds  transform   \n\n                                                     description  \n57      Creates a transform feature that multplies two features.  \n58       Transform Datetime feature into the boolean of Weekend.  \n59  For two boolean values, determine if both values are 'True'.  \n60           Creates a transform feature that adds two features.  \n61     Transform a Timedelta feature into the number of seconds.  "
          },
          "execution_count": 25,
          "metadata": {},
          "output_type": "execute_result"
        }
      ]
    },
    {
      "metadata": {
        "trusted": false
      },
      "cell_type": "code",
      "source": "# Specify transformation primitives\ntrans_primitives = ['weekend', 'cum_sum', 'day', 'month', 'diff', 'time_since_previous']",
      "execution_count": 26,
      "outputs": []
    },
    {
      "metadata": {},
      "cell_type": "markdown",
      "source": "### Where Primitives\n\nThese primitives are applied to the `interesting_values` to build conditional features. "
    },
    {
      "metadata": {
        "trusted": false
      },
      "cell_type": "code",
      "source": "# Specify where primitives\nwhere_primitives = ['sum', 'mean', 'percent_true', 'all', 'any']",
      "execution_count": 27,
      "outputs": []
    },
    {
      "metadata": {},
      "cell_type": "markdown",
      "source": "## Custom Primitives\n\n[Custom primitives](https://docs.featuretools.com/automated_feature_engineering/primitives.html#defining-custom-primitives) are one of the most powerful options in Featuretools. We use custom primitives to write our own functions based on domain knowledge and then pass them to `dfs` like any other primitives. Featuretools will then stack our custom primitives with the other primitives, again, in effect, amplifying our domain knowledge.\n\nFor this problem, I wrote a custom primitive that calculates the sum of a value in the month prior to the cutoff time. This is actually a primitive I [wrote for another problem](https://github.com/Featuretools/Automated-Manual-Comparison/tree/master/Retail%20Spending) but I can apply it to this problem because primitives are data agnostic. That's one of the benefits of feature primitives: they can work for any problem and writing a custom primitive will pay off many times over."
    },
    {
      "metadata": {
        "trusted": false
      },
      "cell_type": "code",
      "source": "from featuretools.primitives import make_agg_primitive\n\ndef total_previous_month(numeric, datetime, time):\n    \"\"\"Return total of `numeric` column in the month prior to `time`.\"\"\"\n    df = pd.DataFrame({'value': numeric, 'date': datetime})\n    previous_month = time.month - 1\n    year = time.year\n   \n    # Handle January\n    if previous_month == 0:\n        previous_month = 12\n        year = time.year - 1\n        \n    # Filter data and sum up total\n    df = df[(df['date'].dt.month == previous_month) & (df['date'].dt.year == year)]\n    total = df['value'].sum()\n    \n    return total",
      "execution_count": 28,
      "outputs": []
    },
    {
      "metadata": {
        "trusted": false
      },
      "cell_type": "code",
      "source": "numeric = [10, 12, 14, 15, 19, 22, 9, 8, 8, 11]\ndates = pd.date_range('2018-01-01', '2018-03-01', periods = len(numeric))\npd.DataFrame({'value': numeric, 'date': dates}).head(6)\ntotal_previous_month(numeric, dates, pd.datetime(2018, 2, 1))",
      "execution_count": 29,
      "outputs": [
        {
          "data": {
            "text/html": "<div>\n<style scoped>\n    .dataframe tbody tr th:only-of-type {\n        vertical-align: middle;\n    }\n\n    .dataframe tbody tr th {\n        vertical-align: top;\n    }\n\n    .dataframe thead th {\n        text-align: right;\n    }\n</style>\n<table border=\"1\" class=\"dataframe\">\n  <thead>\n    <tr style=\"text-align: right;\">\n      <th></th>\n      <th>value</th>\n      <th>date</th>\n    </tr>\n  </thead>\n  <tbody>\n    <tr>\n      <th>0</th>\n      <td>10</td>\n      <td>2018-01-01 00:00:00</td>\n    </tr>\n    <tr>\n      <th>1</th>\n      <td>12</td>\n      <td>2018-01-07 13:20:00</td>\n    </tr>\n    <tr>\n      <th>2</th>\n      <td>14</td>\n      <td>2018-01-14 02:40:00</td>\n    </tr>\n    <tr>\n      <th>3</th>\n      <td>15</td>\n      <td>2018-01-20 16:00:00</td>\n    </tr>\n    <tr>\n      <th>4</th>\n      <td>19</td>\n      <td>2018-01-27 05:20:00</td>\n    </tr>\n    <tr>\n      <th>5</th>\n      <td>22</td>\n      <td>2018-02-02 18:40:00</td>\n    </tr>\n  </tbody>\n</table>\n</div>",
            "text/plain": "   value                date\n0     10 2018-01-01 00:00:00\n1     12 2018-01-07 13:20:00\n2     14 2018-01-14 02:40:00\n3     15 2018-01-20 16:00:00\n4     19 2018-01-27 05:20:00\n5     22 2018-02-02 18:40:00"
          },
          "execution_count": 29,
          "metadata": {},
          "output_type": "execute_result"
        },
        {
          "data": {
            "text/plain": "70"
          },
          "execution_count": 29,
          "metadata": {},
          "output_type": "execute_result"
        }
      ]
    },
    {
      "metadata": {
        "trusted": false
      },
      "cell_type": "code",
      "source": "numeric = [10, 12, 14, 5, 7, 8]\ndates = pd.date_range('2018-01-01', '2018-03-01', periods = len(numeric))\npd.DataFrame({'value': numeric, 'date': dates}).head(6)\ntotal_previous_month(numeric, dates, pd.datetime(2018, 3, 1))",
      "execution_count": 30,
      "outputs": [
        {
          "data": {
            "text/html": "<div>\n<style scoped>\n    .dataframe tbody tr th:only-of-type {\n        vertical-align: middle;\n    }\n\n    .dataframe tbody tr th {\n        vertical-align: top;\n    }\n\n    .dataframe thead th {\n        text-align: right;\n    }\n</style>\n<table border=\"1\" class=\"dataframe\">\n  <thead>\n    <tr style=\"text-align: right;\">\n      <th></th>\n      <th>value</th>\n      <th>date</th>\n    </tr>\n  </thead>\n  <tbody>\n    <tr>\n      <th>0</th>\n      <td>10</td>\n      <td>2018-01-01 00:00:00</td>\n    </tr>\n    <tr>\n      <th>1</th>\n      <td>12</td>\n      <td>2018-01-12 19:12:00</td>\n    </tr>\n    <tr>\n      <th>2</th>\n      <td>14</td>\n      <td>2018-01-24 14:24:00</td>\n    </tr>\n    <tr>\n      <th>3</th>\n      <td>5</td>\n      <td>2018-02-05 09:36:00</td>\n    </tr>\n    <tr>\n      <th>4</th>\n      <td>7</td>\n      <td>2018-02-17 04:48:00</td>\n    </tr>\n    <tr>\n      <th>5</th>\n      <td>8</td>\n      <td>2018-03-01 00:00:00</td>\n    </tr>\n  </tbody>\n</table>\n</div>",
            "text/plain": "   value                date\n0     10 2018-01-01 00:00:00\n1     12 2018-01-12 19:12:00\n2     14 2018-01-24 14:24:00\n3      5 2018-02-05 09:36:00\n4      7 2018-02-17 04:48:00\n5      8 2018-03-01 00:00:00"
          },
          "execution_count": 30,
          "metadata": {},
          "output_type": "execute_result"
        },
        {
          "data": {
            "text/plain": "12"
          },
          "execution_count": 30,
          "metadata": {},
          "output_type": "execute_result"
        }
      ]
    },
    {
      "metadata": {},
      "cell_type": "markdown",
      "source": "### Custom Primitive Implementation\n\nMaking a custom primitive is simple: first we define a function (`total_previous_month`) and then we `make_agg_primitive` with `input_type[s]`, a `return_type`, and whether or not the primitive requires the `cutoff_time` through `uses_calc_time`. \n\nThis primitive is an aggregation primitive because it takes in multiple numbers - transactions for the previous month - and returns a single number - the total of the transactions. "
    },
    {
      "metadata": {
        "trusted": false
      },
      "cell_type": "code",
      "source": "# Takes in a number and outputs a number\ntotal_previous = make_agg_primitive(total_previous_month, input_types = [ft.variable_types.Numeric,\n                                                                         ft.variable_types.Datetime],\n                                    return_type = ft.variable_types.Numeric, \n                                    uses_calc_time = True)",
      "execution_count": 31,
      "outputs": []
    },
    {
      "metadata": {},
      "cell_type": "markdown",
      "source": "Now just have to pass this in as another aggregation primitive for Featuretools to use it in calculations.\n\n\nThe second custom primitive finds the time since a previous true value. This is originally intended for the `is_cancel` variable in the `transactions` dataframe, but it can work for any Boolean variable. It simply finds the time between True examples."
    },
    {
      "metadata": {
        "trusted": false
      },
      "cell_type": "code",
      "source": "def time_since_true(boolean, datetime):\n    \"\"\"Calculate time since previous true value\"\"\"\n    \n    if np.any(np.array(list(boolean)) == 1):\n        # Create dataframe sorted from oldest to newest \n        df = pd.DataFrame({'value': boolean, 'date': datetime}).\\\n                sort_values('date', ascending = False).reset_index()\n\n        older_date = None\n\n        # Iterate through each date in reverse order\n        for date in df.loc[df['value'] == 1, 'date']:\n\n            # If there was no older true value\n            if older_date == None:\n                # Subset to times on or after true\n                times_after_idx = df.loc[df['date'] >= date].index\n\n            else:\n                # Subset to times on or after true but before previous true\n                times_after_idx = df.loc[(df['date'] >= date) & (df['date'] < older_date)].index\n            older_date = date\n            # Calculate time since previous true\n            df.loc[times_after_idx, 'time_since_previous'] = (df.loc[times_after_idx, 'date'] - date).dt.total_seconds()\n\n        return list(df['time_since_previous'])[::-1]\n    \n    # Handle case with no true values\n    else:\n        return [np.nan for _ in range(len(boolean))]",
      "execution_count": 32,
      "outputs": []
    },
    {
      "metadata": {
        "trusted": false
      },
      "cell_type": "code",
      "source": "booleans = []\ndates = []\ndf = pd.DataFrame({'value': booleans, 'date': dates})\ntime_since_true(df['value'], df['date'])",
      "execution_count": 33,
      "outputs": [
        {
          "data": {
            "text/plain": "[]"
          },
          "execution_count": 33,
          "metadata": {},
          "output_type": "execute_result"
        }
      ]
    },
    {
      "metadata": {
        "trusted": false
      },
      "cell_type": "code",
      "source": "booleans = [1, 0, 0, 0, 0, 1, 1, 1, 0, 0, 0]\ndates = pd.date_range('2018-01-01', '2018-03-01', periods = len(booleans))\ndf = pd.DataFrame({'value': booleans, 'date': dates})\ntime_since_true(df['value'], df['date'])",
      "execution_count": 34,
      "outputs": [
        {
          "data": {
            "text/plain": "[0.0,\n 509760.00000000006,\n 1019520.0000000001,\n 1529280.0,\n 2039040.0000000002,\n 0.0,\n 0.0,\n 0.0,\n 509760.00000000006,\n 1019520.0000000001,\n 1529280.0]"
          },
          "execution_count": 34,
          "metadata": {},
          "output_type": "execute_result"
        }
      ]
    },
    {
      "metadata": {
        "trusted": false
      },
      "cell_type": "code",
      "source": "booleans = [1, 0, 0]\ndates = pd.date_range('2018-01-01', '2018-03-01', periods = len(booleans))\ntime_since_true(booleans, dates)",
      "execution_count": 35,
      "outputs": [
        {
          "data": {
            "text/plain": "[0.0, 2548800.0, 5097600.0]"
          },
          "execution_count": 35,
          "metadata": {},
          "output_type": "execute_result"
        }
      ]
    },
    {
      "metadata": {
        "trusted": false
      },
      "cell_type": "code",
      "source": "booleans = [0, 0]\ndates = pd.date_range('2018-01-01', '2018-03-01', periods = len(booleans))\ntime_since_true(booleans, dates)",
      "execution_count": 36,
      "outputs": [
        {
          "data": {
            "text/plain": "[nan, nan]"
          },
          "execution_count": 36,
          "metadata": {},
          "output_type": "execute_result"
        }
      ]
    },
    {
      "metadata": {},
      "cell_type": "markdown",
      "source": "This is a transformation primitive since it acts on multiple columns in the same table. The returned list is the same length as the original column."
    },
    {
      "metadata": {
        "trusted": false
      },
      "cell_type": "code",
      "source": "from featuretools.primitives import make_trans_primitive\n\n# Specify the inputs and return\ntime_since = make_trans_primitive(time_since_true, \n                                  input_types = [vtypes.Boolean, vtypes.Datetime],\n                                  return_type = vtypes.Numeric)",
      "execution_count": 37,
      "outputs": []
    },
    {
      "metadata": {},
      "cell_type": "markdown",
      "source": "Let's add the two custom primitives to the respective lists. In the final version of feature engineering, I did not use the `time_since` primitive. I ran into problems with the implementation but would encourage anyone to try and fix it or build their own custom primitive[s]."
    },
    {
      "metadata": {
        "trusted": false
      },
      "cell_type": "code",
      "source": "agg_primitives.append(total_previous)\n# trans_primitives.append(time_since)",
      "execution_count": 38,
      "outputs": []
    },
    {
      "metadata": {},
      "cell_type": "markdown",
      "source": "## Deep Feature Synthesis with Specified Primitives\n\nWe'll again run Deep Feature Synthesis to make the feature definitions this time using the selected primitives and the custom primitives. "
    },
    {
      "metadata": {
        "trusted": false
      },
      "cell_type": "code",
      "source": "feature_defs = ft.dfs(entityset=es, target_entity='members', \n                      cutoff_time = cutoff_times, \n                      agg_primitives = agg_primitives,\n                      trans_primitives = trans_primitives,\n                      where_primitives = where_primitives,\n                      chunk_size = len(cutoff_times), \n                      cutoff_time_in_index = True,\n                      max_depth = 2, features_only = True)",
      "execution_count": 39,
      "outputs": []
    },
    {
      "metadata": {
        "trusted": false
      },
      "cell_type": "code",
      "source": "print(f'This will generate {len(feature_defs)} features.')",
      "execution_count": 40,
      "outputs": [
        {
          "name": "stdout",
          "output_type": "stream",
          "text": "This will generate 255 features.\n"
        }
      ]
    },
    {
      "metadata": {
        "trusted": false
      },
      "cell_type": "code",
      "source": "random.sample(feature_defs, 15)",
      "execution_count": 41,
      "outputs": [
        {
          "data": {
            "text/plain": "[<Feature: MIN(logs.num_unq)>,\n <Feature: NUM_UNIQUE(logs.MONTH(date))>,\n <Feature: LAST(transactions.payment_method_id)>,\n <Feature: SUM(logs.num_100)>,\n <Feature: SUM(logs.num_985)>,\n <Feature: MIN(logs.total_secs)>,\n <Feature: MAX(logs.num_unq)>,\n <Feature: MAX(logs.percent_unique)>,\n <Feature: STD(transactions.planned_daily_price)>,\n <Feature: LAST(logs.MONTH(date))>,\n <Feature: SUM(logs.num_75)>,\n <Feature: TOTAL_PREVIOUS_MONTH(transactions.planned_daily_price, transaction_date)>,\n <Feature: MAX(logs.num_25)>,\n <Feature: ALL(transactions.is_cancel WHERE is_auto_renew = 0)>,\n <Feature: SUM(transactions.actual_amount_paid WHERE is_auto_renew = 0)>]"
          },
          "execution_count": 41,
          "metadata": {},
          "output_type": "execute_result"
        }
      ]
    },
    {
      "metadata": {},
      "cell_type": "markdown",
      "source": "We can see that our custom primitive `TOTAL_PREVIOUS_MONTH` has been applied to create more features. The benefit of custom primitives are that they can be used to encode specific domain knowledge into the feature engineering process. Moreover, we don't get just the custom primitive itself, we also get features that are stacked on top of the primitive."
    },
    {
      "metadata": {},
      "cell_type": "markdown",
      "source": "# Run Deep Feature Synthesis\n\nOnce we're happy with the features that will be generated, we can run deep feature synthesis to make the actual features. We need to change `feature_only` to `False` and then we're good to go."
    },
    {
      "metadata": {
        "trusted": false
      },
      "cell_type": "code",
      "source": "from timeit import default_timer as timer\n\nstart = timer()\nfeature_matrix, feature_defs = ft.dfs(entityset=es, target_entity='members', \n                                      cutoff_time = cutoff_times, \n                                      agg_primitives = agg_primitives,\n                                      trans_primitives = trans_primitives,\n                                      where_primitives = where_primitives,\n                                      max_depth = 2, features_only = False,\n                                      verbose = 1, chunk_size = 1000,  \n                                      n_jobs = -1,\n                                      cutoff_time_in_index = True)\nend = timer()\nprint(f'{round(end - start)} seconds elapsed.')",
      "execution_count": 42,
      "outputs": [
        {
          "name": "stdout",
          "output_type": "stream",
          "text": "Built 255 features\nEntitySet scattered to workers in 2.067 seconds\nElapsed: 03:47 | Remaining: 00:00 | Progress: 100%|██████████| Calculated: 29/29 chunks\n230 seconds elapsed.\n"
        }
      ]
    },
    {
      "metadata": {},
      "cell_type": "markdown",
      "source": "The `chunk_size` is a parameter that may need to be adjusted to optimize the calculation. I suggest playing around with this parameter to find the optimal value. Generally I've found that a large value makes the calculation proceed quicker although it depends on the machine in use and the number of unique cutoff times. "
    },
    {
      "metadata": {
        "trusted": false
      },
      "cell_type": "code",
      "source": "feature_matrix.head()",
      "execution_count": 43,
      "outputs": [
        {
          "data": {
            "text/html": "<div>\n<style scoped>\n    .dataframe tbody tr th:only-of-type {\n        vertical-align: middle;\n    }\n\n    .dataframe tbody tr th {\n        vertical-align: top;\n    }\n\n    .dataframe thead th {\n        text-align: right;\n    }\n</style>\n<table border=\"1\" class=\"dataframe\">\n  <thead>\n    <tr style=\"text-align: right;\">\n      <th></th>\n      <th></th>\n      <th>bd</th>\n      <th>city</th>\n      <th>registered_via</th>\n      <th>gender</th>\n      <th>SUM(logs.num_25)</th>\n      <th>SUM(logs.num_50)</th>\n      <th>SUM(logs.num_75)</th>\n      <th>SUM(logs.num_985)</th>\n      <th>SUM(logs.num_100)</th>\n      <th>SUM(logs.num_unq)</th>\n      <th>...</th>\n      <th>WEEKEND(LAST(transactions.membership_expire_date))</th>\n      <th>DAY(LAST(logs.date))</th>\n      <th>DAY(LAST(transactions.transaction_date))</th>\n      <th>DAY(LAST(transactions.membership_expire_date))</th>\n      <th>MONTH(LAST(logs.date))</th>\n      <th>MONTH(LAST(transactions.transaction_date))</th>\n      <th>MONTH(LAST(transactions.membership_expire_date))</th>\n      <th>label</th>\n      <th>days_to_churn</th>\n      <th>churn_date</th>\n    </tr>\n    <tr>\n      <th>msno</th>\n      <th>time</th>\n      <th></th>\n      <th></th>\n      <th></th>\n      <th></th>\n      <th></th>\n      <th></th>\n      <th></th>\n      <th></th>\n      <th></th>\n      <th></th>\n      <th></th>\n      <th></th>\n      <th></th>\n      <th></th>\n      <th></th>\n      <th></th>\n      <th></th>\n      <th></th>\n      <th></th>\n      <th></th>\n      <th></th>\n    </tr>\n  </thead>\n  <tbody>\n    <tr>\n      <th>+9v4Rbyc+58MyKbt1wrCskWClJadOJh7CapZa9CYXUM=</th>\n      <th>2015-01-01</th>\n      <td>24.0</td>\n      <td>5.0</td>\n      <td>7.0</td>\n      <td>female</td>\n      <td>0.0</td>\n      <td>0.0</td>\n      <td>0.0</td>\n      <td>0.0</td>\n      <td>0.0</td>\n      <td>0.0</td>\n      <td>...</td>\n      <td>0.0</td>\n      <td>NaN</td>\n      <td>NaN</td>\n      <td>NaN</td>\n      <td>NaN</td>\n      <td>NaN</td>\n      <td>NaN</td>\n      <td>0.0</td>\n      <td>NaN</td>\n      <td>NaN</td>\n    </tr>\n    <tr>\n      <th>+FMjiiorqZQ3ZzNNmgO0vZM2yh8IHPvWSvwy2fSBMLU=</th>\n      <th>2015-01-01</th>\n      <td>27.0</td>\n      <td>6.0</td>\n      <td>7.0</td>\n      <td>male</td>\n      <td>0.0</td>\n      <td>0.0</td>\n      <td>0.0</td>\n      <td>0.0</td>\n      <td>111.0</td>\n      <td>106.0</td>\n      <td>...</td>\n      <td>0.0</td>\n      <td>1.0</td>\n      <td>NaN</td>\n      <td>NaN</td>\n      <td>1.0</td>\n      <td>NaN</td>\n      <td>NaN</td>\n      <td>0.0</td>\n      <td>NaN</td>\n      <td>NaN</td>\n    </tr>\n    <tr>\n      <th>+V3HOZsK34UPrNOYg6IhG8sP1dY6w5LG8J98eodnBBk=</th>\n      <th>2015-01-01</th>\n      <td>NaN</td>\n      <td>NaN</td>\n      <td>NaN</td>\n      <td>NaN</td>\n      <td>0.0</td>\n      <td>0.0</td>\n      <td>0.0</td>\n      <td>0.0</td>\n      <td>0.0</td>\n      <td>0.0</td>\n      <td>...</td>\n      <td>NaN</td>\n      <td>NaN</td>\n      <td>NaN</td>\n      <td>NaN</td>\n      <td>NaN</td>\n      <td>NaN</td>\n      <td>NaN</td>\n      <td>0.0</td>\n      <td>NaN</td>\n      <td>NaN</td>\n    </tr>\n    <tr>\n      <th>+ikgRAmrCW349x39kQ0nOqh9jvajPXJFZkI9Q6omEMs=</th>\n      <th>2015-01-01</th>\n      <td>0.0</td>\n      <td>14.0</td>\n      <td>9.0</td>\n      <td>NaN</td>\n      <td>0.0</td>\n      <td>0.0</td>\n      <td>0.0</td>\n      <td>0.0</td>\n      <td>0.0</td>\n      <td>0.0</td>\n      <td>...</td>\n      <td>0.0</td>\n      <td>NaN</td>\n      <td>NaN</td>\n      <td>NaN</td>\n      <td>NaN</td>\n      <td>NaN</td>\n      <td>NaN</td>\n      <td>NaN</td>\n      <td>463.0</td>\n      <td>NaN</td>\n    </tr>\n    <tr>\n      <th>+kbXNszLheADYStfNoRwa9q9sZykS5Tfk044GMwOw1o=</th>\n      <th>2015-01-01</th>\n      <td>29.0</td>\n      <td>15.0</td>\n      <td>9.0</td>\n      <td>male</td>\n      <td>22.0</td>\n      <td>4.0</td>\n      <td>5.0</td>\n      <td>3.0</td>\n      <td>54.0</td>\n      <td>55.0</td>\n      <td>...</td>\n      <td>0.0</td>\n      <td>1.0</td>\n      <td>NaN</td>\n      <td>NaN</td>\n      <td>1.0</td>\n      <td>NaN</td>\n      <td>NaN</td>\n      <td>0.0</td>\n      <td>NaN</td>\n      <td>NaN</td>\n    </tr>\n  </tbody>\n</table>\n<p>5 rows × 258 columns</p>\n</div>",
            "text/plain": "                                                           bd  city  \\\nmsno                                         time                     \n+9v4Rbyc+58MyKbt1wrCskWClJadOJh7CapZa9CYXUM= 2015-01-01  24.0   5.0   \n+FMjiiorqZQ3ZzNNmgO0vZM2yh8IHPvWSvwy2fSBMLU= 2015-01-01  27.0   6.0   \n+V3HOZsK34UPrNOYg6IhG8sP1dY6w5LG8J98eodnBBk= 2015-01-01   NaN   NaN   \n+ikgRAmrCW349x39kQ0nOqh9jvajPXJFZkI9Q6omEMs= 2015-01-01   0.0  14.0   \n+kbXNszLheADYStfNoRwa9q9sZykS5Tfk044GMwOw1o= 2015-01-01  29.0  15.0   \n\n                                                         registered_via  \\\nmsno                                         time                         \n+9v4Rbyc+58MyKbt1wrCskWClJadOJh7CapZa9CYXUM= 2015-01-01             7.0   \n+FMjiiorqZQ3ZzNNmgO0vZM2yh8IHPvWSvwy2fSBMLU= 2015-01-01             7.0   \n+V3HOZsK34UPrNOYg6IhG8sP1dY6w5LG8J98eodnBBk= 2015-01-01             NaN   \n+ikgRAmrCW349x39kQ0nOqh9jvajPXJFZkI9Q6omEMs= 2015-01-01             9.0   \n+kbXNszLheADYStfNoRwa9q9sZykS5Tfk044GMwOw1o= 2015-01-01             9.0   \n\n                                                         gender  \\\nmsno                                         time                 \n+9v4Rbyc+58MyKbt1wrCskWClJadOJh7CapZa9CYXUM= 2015-01-01  female   \n+FMjiiorqZQ3ZzNNmgO0vZM2yh8IHPvWSvwy2fSBMLU= 2015-01-01    male   \n+V3HOZsK34UPrNOYg6IhG8sP1dY6w5LG8J98eodnBBk= 2015-01-01     NaN   \n+ikgRAmrCW349x39kQ0nOqh9jvajPXJFZkI9Q6omEMs= 2015-01-01     NaN   \n+kbXNszLheADYStfNoRwa9q9sZykS5Tfk044GMwOw1o= 2015-01-01    male   \n\n                                                         SUM(logs.num_25)  \\\nmsno                                         time                           \n+9v4Rbyc+58MyKbt1wrCskWClJadOJh7CapZa9CYXUM= 2015-01-01               0.0   \n+FMjiiorqZQ3ZzNNmgO0vZM2yh8IHPvWSvwy2fSBMLU= 2015-01-01               0.0   \n+V3HOZsK34UPrNOYg6IhG8sP1dY6w5LG8J98eodnBBk= 2015-01-01               0.0   \n+ikgRAmrCW349x39kQ0nOqh9jvajPXJFZkI9Q6omEMs= 2015-01-01               0.0   \n+kbXNszLheADYStfNoRwa9q9sZykS5Tfk044GMwOw1o= 2015-01-01              22.0   \n\n                                                         SUM(logs.num_50)  \\\nmsno                                         time                           \n+9v4Rbyc+58MyKbt1wrCskWClJadOJh7CapZa9CYXUM= 2015-01-01               0.0   \n+FMjiiorqZQ3ZzNNmgO0vZM2yh8IHPvWSvwy2fSBMLU= 2015-01-01               0.0   \n+V3HOZsK34UPrNOYg6IhG8sP1dY6w5LG8J98eodnBBk= 2015-01-01               0.0   \n+ikgRAmrCW349x39kQ0nOqh9jvajPXJFZkI9Q6omEMs= 2015-01-01               0.0   \n+kbXNszLheADYStfNoRwa9q9sZykS5Tfk044GMwOw1o= 2015-01-01               4.0   \n\n                                                         SUM(logs.num_75)  \\\nmsno                                         time                           \n+9v4Rbyc+58MyKbt1wrCskWClJadOJh7CapZa9CYXUM= 2015-01-01               0.0   \n+FMjiiorqZQ3ZzNNmgO0vZM2yh8IHPvWSvwy2fSBMLU= 2015-01-01               0.0   \n+V3HOZsK34UPrNOYg6IhG8sP1dY6w5LG8J98eodnBBk= 2015-01-01               0.0   \n+ikgRAmrCW349x39kQ0nOqh9jvajPXJFZkI9Q6omEMs= 2015-01-01               0.0   \n+kbXNszLheADYStfNoRwa9q9sZykS5Tfk044GMwOw1o= 2015-01-01               5.0   \n\n                                                         SUM(logs.num_985)  \\\nmsno                                         time                            \n+9v4Rbyc+58MyKbt1wrCskWClJadOJh7CapZa9CYXUM= 2015-01-01                0.0   \n+FMjiiorqZQ3ZzNNmgO0vZM2yh8IHPvWSvwy2fSBMLU= 2015-01-01                0.0   \n+V3HOZsK34UPrNOYg6IhG8sP1dY6w5LG8J98eodnBBk= 2015-01-01                0.0   \n+ikgRAmrCW349x39kQ0nOqh9jvajPXJFZkI9Q6omEMs= 2015-01-01                0.0   \n+kbXNszLheADYStfNoRwa9q9sZykS5Tfk044GMwOw1o= 2015-01-01                3.0   \n\n                                                         SUM(logs.num_100)  \\\nmsno                                         time                            \n+9v4Rbyc+58MyKbt1wrCskWClJadOJh7CapZa9CYXUM= 2015-01-01                0.0   \n+FMjiiorqZQ3ZzNNmgO0vZM2yh8IHPvWSvwy2fSBMLU= 2015-01-01              111.0   \n+V3HOZsK34UPrNOYg6IhG8sP1dY6w5LG8J98eodnBBk= 2015-01-01                0.0   \n+ikgRAmrCW349x39kQ0nOqh9jvajPXJFZkI9Q6omEMs= 2015-01-01                0.0   \n+kbXNszLheADYStfNoRwa9q9sZykS5Tfk044GMwOw1o= 2015-01-01               54.0   \n\n                                                         SUM(logs.num_unq)  \\\nmsno                                         time                            \n+9v4Rbyc+58MyKbt1wrCskWClJadOJh7CapZa9CYXUM= 2015-01-01                0.0   \n+FMjiiorqZQ3ZzNNmgO0vZM2yh8IHPvWSvwy2fSBMLU= 2015-01-01              106.0   \n+V3HOZsK34UPrNOYg6IhG8sP1dY6w5LG8J98eodnBBk= 2015-01-01                0.0   \n+ikgRAmrCW349x39kQ0nOqh9jvajPXJFZkI9Q6omEMs= 2015-01-01                0.0   \n+kbXNszLheADYStfNoRwa9q9sZykS5Tfk044GMwOw1o= 2015-01-01               55.0   \n\n                                                            ...      \\\nmsno                                         time           ...       \n+9v4Rbyc+58MyKbt1wrCskWClJadOJh7CapZa9CYXUM= 2015-01-01     ...       \n+FMjiiorqZQ3ZzNNmgO0vZM2yh8IHPvWSvwy2fSBMLU= 2015-01-01     ...       \n+V3HOZsK34UPrNOYg6IhG8sP1dY6w5LG8J98eodnBBk= 2015-01-01     ...       \n+ikgRAmrCW349x39kQ0nOqh9jvajPXJFZkI9Q6omEMs= 2015-01-01     ...       \n+kbXNszLheADYStfNoRwa9q9sZykS5Tfk044GMwOw1o= 2015-01-01     ...       \n\n                                                         WEEKEND(LAST(transactions.membership_expire_date))  \\\nmsno                                         time                                                             \n+9v4Rbyc+58MyKbt1wrCskWClJadOJh7CapZa9CYXUM= 2015-01-01                                                 0.0   \n+FMjiiorqZQ3ZzNNmgO0vZM2yh8IHPvWSvwy2fSBMLU= 2015-01-01                                                 0.0   \n+V3HOZsK34UPrNOYg6IhG8sP1dY6w5LG8J98eodnBBk= 2015-01-01                                                 NaN   \n+ikgRAmrCW349x39kQ0nOqh9jvajPXJFZkI9Q6omEMs= 2015-01-01                                                 0.0   \n+kbXNszLheADYStfNoRwa9q9sZykS5Tfk044GMwOw1o= 2015-01-01                                                 0.0   \n\n                                                         DAY(LAST(logs.date))  \\\nmsno                                         time                               \n+9v4Rbyc+58MyKbt1wrCskWClJadOJh7CapZa9CYXUM= 2015-01-01                   NaN   \n+FMjiiorqZQ3ZzNNmgO0vZM2yh8IHPvWSvwy2fSBMLU= 2015-01-01                   1.0   \n+V3HOZsK34UPrNOYg6IhG8sP1dY6w5LG8J98eodnBBk= 2015-01-01                   NaN   \n+ikgRAmrCW349x39kQ0nOqh9jvajPXJFZkI9Q6omEMs= 2015-01-01                   NaN   \n+kbXNszLheADYStfNoRwa9q9sZykS5Tfk044GMwOw1o= 2015-01-01                   1.0   \n\n                                                         DAY(LAST(transactions.transaction_date))  \\\nmsno                                         time                                                   \n+9v4Rbyc+58MyKbt1wrCskWClJadOJh7CapZa9CYXUM= 2015-01-01                                       NaN   \n+FMjiiorqZQ3ZzNNmgO0vZM2yh8IHPvWSvwy2fSBMLU= 2015-01-01                                       NaN   \n+V3HOZsK34UPrNOYg6IhG8sP1dY6w5LG8J98eodnBBk= 2015-01-01                                       NaN   \n+ikgRAmrCW349x39kQ0nOqh9jvajPXJFZkI9Q6omEMs= 2015-01-01                                       NaN   \n+kbXNszLheADYStfNoRwa9q9sZykS5Tfk044GMwOw1o= 2015-01-01                                       NaN   \n\n                                                         DAY(LAST(transactions.membership_expire_date))  \\\nmsno                                         time                                                         \n+9v4Rbyc+58MyKbt1wrCskWClJadOJh7CapZa9CYXUM= 2015-01-01                                             NaN   \n+FMjiiorqZQ3ZzNNmgO0vZM2yh8IHPvWSvwy2fSBMLU= 2015-01-01                                             NaN   \n+V3HOZsK34UPrNOYg6IhG8sP1dY6w5LG8J98eodnBBk= 2015-01-01                                             NaN   \n+ikgRAmrCW349x39kQ0nOqh9jvajPXJFZkI9Q6omEMs= 2015-01-01                                             NaN   \n+kbXNszLheADYStfNoRwa9q9sZykS5Tfk044GMwOw1o= 2015-01-01                                             NaN   \n\n                                                         MONTH(LAST(logs.date))  \\\nmsno                                         time                                 \n+9v4Rbyc+58MyKbt1wrCskWClJadOJh7CapZa9CYXUM= 2015-01-01                     NaN   \n+FMjiiorqZQ3ZzNNmgO0vZM2yh8IHPvWSvwy2fSBMLU= 2015-01-01                     1.0   \n+V3HOZsK34UPrNOYg6IhG8sP1dY6w5LG8J98eodnBBk= 2015-01-01                     NaN   \n+ikgRAmrCW349x39kQ0nOqh9jvajPXJFZkI9Q6omEMs= 2015-01-01                     NaN   \n+kbXNszLheADYStfNoRwa9q9sZykS5Tfk044GMwOw1o= 2015-01-01                     1.0   \n\n                                                         MONTH(LAST(transactions.transaction_date))  \\\nmsno                                         time                                                     \n+9v4Rbyc+58MyKbt1wrCskWClJadOJh7CapZa9CYXUM= 2015-01-01                                         NaN   \n+FMjiiorqZQ3ZzNNmgO0vZM2yh8IHPvWSvwy2fSBMLU= 2015-01-01                                         NaN   \n+V3HOZsK34UPrNOYg6IhG8sP1dY6w5LG8J98eodnBBk= 2015-01-01                                         NaN   \n+ikgRAmrCW349x39kQ0nOqh9jvajPXJFZkI9Q6omEMs= 2015-01-01                                         NaN   \n+kbXNszLheADYStfNoRwa9q9sZykS5Tfk044GMwOw1o= 2015-01-01                                         NaN   \n\n                                                         MONTH(LAST(transactions.membership_expire_date))  \\\nmsno                                         time                                                           \n+9v4Rbyc+58MyKbt1wrCskWClJadOJh7CapZa9CYXUM= 2015-01-01                                               NaN   \n+FMjiiorqZQ3ZzNNmgO0vZM2yh8IHPvWSvwy2fSBMLU= 2015-01-01                                               NaN   \n+V3HOZsK34UPrNOYg6IhG8sP1dY6w5LG8J98eodnBBk= 2015-01-01                                               NaN   \n+ikgRAmrCW349x39kQ0nOqh9jvajPXJFZkI9Q6omEMs= 2015-01-01                                               NaN   \n+kbXNszLheADYStfNoRwa9q9sZykS5Tfk044GMwOw1o= 2015-01-01                                               NaN   \n\n                                                         label  days_to_churn  \\\nmsno                                         time                               \n+9v4Rbyc+58MyKbt1wrCskWClJadOJh7CapZa9CYXUM= 2015-01-01    0.0            NaN   \n+FMjiiorqZQ3ZzNNmgO0vZM2yh8IHPvWSvwy2fSBMLU= 2015-01-01    0.0            NaN   \n+V3HOZsK34UPrNOYg6IhG8sP1dY6w5LG8J98eodnBBk= 2015-01-01    0.0            NaN   \n+ikgRAmrCW349x39kQ0nOqh9jvajPXJFZkI9Q6omEMs= 2015-01-01    NaN          463.0   \n+kbXNszLheADYStfNoRwa9q9sZykS5Tfk044GMwOw1o= 2015-01-01    0.0            NaN   \n\n                                                         churn_date  \nmsno                                         time                    \n+9v4Rbyc+58MyKbt1wrCskWClJadOJh7CapZa9CYXUM= 2015-01-01         NaN  \n+FMjiiorqZQ3ZzNNmgO0vZM2yh8IHPvWSvwy2fSBMLU= 2015-01-01         NaN  \n+V3HOZsK34UPrNOYg6IhG8sP1dY6w5LG8J98eodnBBk= 2015-01-01         NaN  \n+ikgRAmrCW349x39kQ0nOqh9jvajPXJFZkI9Q6omEMs= 2015-01-01         NaN  \n+kbXNszLheADYStfNoRwa9q9sZykS5Tfk044GMwOw1o= 2015-01-01         NaN  \n\n[5 rows x 258 columns]"
          },
          "execution_count": 43,
          "metadata": {},
          "output_type": "execute_result"
        }
      ]
    },
    {
      "metadata": {},
      "cell_type": "markdown",
      "source": "We can save these feature definitions as a binary file which will allow us to make the same exact features for another entityset of the same format. This is useful when we have multiple partitions and we want to make the same features for each. Instead of remaking the feature definitions, we pass in the same feature definitions to a call to `calculate_feature_matrix`."
    },
    {
      "metadata": {
        "trusted": false
      },
      "cell_type": "code",
      "source": "ft.save_features(feature_defs, '/data/churn/features.txt')",
      "execution_count": 44,
      "outputs": []
    },
    {
      "metadata": {
        "trusted": false
      },
      "cell_type": "code",
      "source": "feature_matrix.loc[feature_matrix['SUM(logs.num_100)'] < 10000, 'SUM(logs.num_100)'].plot.hist();\nplt.title('Sum of Number of Songs Listened to 100 %');",
      "execution_count": 45,
      "outputs": [
        {
          "data": {
            "image/png": "[encoded data removed]",
            "text/plain": "<Figure size 432x288 with 1 Axes>"
          },
          "metadata": {},
          "output_type": "display_data"
        }
      ]
    },
    {
      "metadata": {
        "trusted": false
      },
      "cell_type": "code",
      "source": "feature_matrix['TOTAL_PREVIOUS_MONTH(logs.num_unq, date)'].plot.hist()\nplt.title('Number of Unique Songs Listened to in Past Month');",
      "execution_count": 46,
      "outputs": [
        {
          "data": {
            "image/png": "[encoded data removed]",
            "text/plain": "<Figure size 432x288 with 1 Axes>"
          },
          "metadata": {},
          "output_type": "display_data"
        }
      ]
    },
    {
      "metadata": {
        "trusted": false
      },
      "cell_type": "code",
      "source": "feature_matrix['TOTAL_PREVIOUS_MONTH(logs.num_unq, date)'].describe()",
      "execution_count": 47,
      "outputs": [
        {
          "data": {
            "text/plain": "count    22022.000000\nmean       458.542639\nstd        559.855146\nmin          0.000000\n25%         68.250000\n50%        284.000000\n75%        632.000000\nmax       4920.000000\nName: TOTAL_PREVIOUS_MONTH(logs.num_unq, date), dtype: float64"
          },
          "execution_count": 47,
          "metadata": {},
          "output_type": "execute_result"
        }
      ]
    },
    {
      "metadata": {
        "trusted": false
      },
      "cell_type": "code",
      "source": "plt.figure(figsize = (6, 8))\nsns.boxplot(y = feature_matrix['TOTAL_PREVIOUS_MONTH(logs.num_unq, date)']);",
      "execution_count": 48,
      "outputs": [
        {
          "data": {
            "image/png": "[encoded data removed]",
            "text/plain": "<Figure size 432x576 with 1 Axes>"
          },
          "metadata": {},
          "output_type": "display_data"
        }
      ]
    },
    {
      "metadata": {},
      "cell_type": "markdown",
      "source": "# Parallelizing Feature Engineering\n\nIn order to run the feature engineering in parallel, we need to write a function that can handle one partition at a time. \n\nNow we'll write a function that takes in the partition number, the feature definitions, and a specific cutoff time file name, reads in the data from S3, calculates the feature matrix, and saves the feature matrix back to S3. Since all of the partitions are independent - the features for one partition do not depend on data in any other partition - we can later use this function to parallelize calculating all of the feature matrices."
    },
    {
      "metadata": {
        "trusted": false
      },
      "cell_type": "code",
      "source": "feature_defs = ft.load_features('/data/churn/features.txt')\nprint(f'There are {len(feature_defs)} features.')",
      "execution_count": 49,
      "outputs": [
        {
          "name": "stdout",
          "output_type": "stream",
          "text": "There are 255 features.\n"
        }
      ]
    },
    {
      "metadata": {},
      "cell_type": "markdown",
      "source": "### Data Access\n\nAll of the file reading and writing occurs from S3. This means we can use any Amazon EC2 instance to carry out these calculations, including an ephemeral cluster. Once we shut down the machines, the data is still safely stored in the cloud. We do have to worry about overwriting the data in S3, but if we turn on versioning, then we can go back to any previously calculated version of the features. "
    },
    {
      "metadata": {
        "trusted": false
      },
      "cell_type": "code",
      "source": "import s3fs\n\n# Credentials\nwith open('/data/credentials.txt', 'r') as f:\n    info = f.read().strip().split(',')\n    key = info[0]\n    secret = info[1]\n\nfs = s3fs.S3FileSystem(key=key, secret=secret)",
      "execution_count": 50,
      "outputs": []
    },
    {
      "metadata": {},
      "cell_type": "markdown",
      "source": "The function below takes in a single partition number, retrieves the data from S3, calculates the feature matrix using `calculate_feature_matrix` with a pre-defined set of features, and saves the feature matrix back to S3. This is a refactoring of the above separate steps."
    },
    {
      "metadata": {
        "trusted": false
      },
      "cell_type": "code",
      "source": "%%capture\ndef partition_to_feature_matrix(partition, feature_defs = feature_defs, \n                                cutoff_time_name = 'MS-31_labels.csv', write = True):\n    \"\"\"Take in a partition number, create a feature matrix, and save to Amazon S3\n    \n    Params\n    --------\n        partition (int): number of partition\n        feature_defs (list of ft features): features to make for the partition\n        cutoff_time_name (str): name of cutoff time file\n        write: (boolean): whether to write the data to S3. Defaults to True\n        \n    Return\n    --------\n        None: saves the feature matrix to Amazon S3\n    \n    \"\"\"\n    \n    partition_dir = BASE_DIR + 'p' + str(partition)\n    \n    # Read in the data files\n    members = pd.read_csv(f'{partition_dir}/members.csv', \n                      parse_dates=['registration_init_time'], \n                      infer_datetime_format = True, \n                      dtype = {'gender': 'category'})\n\n    trans = pd.read_csv(f'{partition_dir}/transactions.csv',\n                       parse_dates=['transaction_date', 'membership_expire_date'], \n                        infer_datetime_format = True)\n    logs = pd.read_csv(f'{partition_dir}/logs.csv', parse_dates = ['date'])\n    \n    # Make sure to drop duplicates\n    cutoff_times = pd.read_csv(f'{partition_dir}/{cutoff_time_name}', parse_dates = ['cutoff_time'])\n    cutoff_times = cutoff_times.drop_duplicates(subset = ['msno', 'cutoff_time'])\n    \n    # Needed for saving\n    cutoff_spec = cutoff_time_name.split('_')[0]\n    \n    # Create empty entityset\n    es = ft.EntitySet(id = 'customers')\n\n    # Add the members parent table\n    es.entity_from_dataframe(entity_id='members', dataframe=members,\n                             index = 'msno', time_index = 'registration_init_time', \n                             variable_types = {'city': vtypes.Categorical,\n                                               'registered_via': vtypes.Categorical})\n    # Create new features in transactions\n    trans['price_difference'] = trans['plan_list_price'] - trans['actual_amount_paid']\n    trans['planned_daily_price'] = trans['plan_list_price'] / trans['payment_plan_days']\n    trans['daily_price'] = trans['actual_amount_paid'] / trans['payment_plan_days']\n\n    # Add the transactions child table\n    es.entity_from_dataframe(entity_id='transactions', dataframe=trans,\n                             index = 'transactions_index', make_index = True,\n                             time_index = 'transaction_date', \n                             variable_types = {'payment_method_id': vtypes.Categorical, \n                                               'is_auto_renew': vtypes.Boolean, 'is_cancel': vtypes.Boolean})\n\n    # Add transactions interesting values\n    es['transactions']['is_cancel'].interesting_values = [0, 1]\n    es['transactions']['is_auto_renew'].interesting_values = [0, 1]\n    \n    # Create new features in logs\n    logs['total'] = logs[['num_25', 'num_50', 'num_75', 'num_985', 'num_100']].sum(axis = 1)\n    logs['percent_100'] = logs['num_100'] / logs['total']\n    logs['percent_unique'] = logs['num_unq'] / logs['total']\n    logs['seconds_per_song'] = logs['total_secs'] / logs['total'] \n    \n    # Add the logs child table\n    es.entity_from_dataframe(entity_id='logs', dataframe=logs,\n                         index = 'logs_index', make_index = True,\n                         time_index = 'date')\n\n    # Add the relationships\n    r_member_transactions = ft.Relationship(es['members']['msno'], es['transactions']['msno'])\n    r_member_logs = ft.Relationship(es['members']['msno'], es['logs']['msno'])\n    es.add_relationships([r_member_transactions, r_member_logs])\n    \n    # Calculate the feature matrix using pre-calculated features\n    feature_matrix = ft.calculate_feature_matrix(entityset=es, features=feature_defs, \n                                                 cutoff_time=cutoff_times, cutoff_time_in_index = True,\n                                                 chunk_size = 1000)\n\n    if write:\n        # Save to Amazon S3\n        bytes_to_write = feature_matrix.to_csv(None).encode()\n\n        with fs.open(f'{partition_dir}/{cutoff_spec}_feature_matrix.csv', 'wb') as f:\n            f.write(bytes_to_write)",
      "execution_count": 51,
      "outputs": []
    },
    {
      "metadata": {
        "trusted": false
      },
      "cell_type": "code",
      "source": "from timeit import default_timer as timer\n\nstart = timer()\npartition_to_feature_matrix(800, feature_defs, cutoff_time_name = 'MS-31_labels.csv', write = False)\nend = timer()\nprint(f'{round(end - start)} seconds elapsed.')",
      "execution_count": 52,
      "outputs": [
        {
          "name": "stdout",
          "output_type": "stream",
          "text": "950 seconds elapsed.\n"
        }
      ]
    },
    {
      "metadata": {
        "trusted": false
      },
      "cell_type": "code",
      "source": "feature_matrix = pd.read_csv('s3://customer-churn-spark/p800/MS-31_feature_matrix.csv', low_memory = False)\nfeature_matrix.head()",
      "execution_count": 53,
      "outputs": [
        {
          "data": {
            "text/html": "<div>\n<style scoped>\n    .dataframe tbody tr th:only-of-type {\n        vertical-align: middle;\n    }\n\n    .dataframe tbody tr th {\n        vertical-align: top;\n    }\n\n    .dataframe thead th {\n        text-align: right;\n    }\n</style>\n<table border=\"1\" class=\"dataframe\">\n  <thead>\n    <tr style=\"text-align: right;\">\n      <th></th>\n      <th>msno</th>\n      <th>time</th>\n      <th>city</th>\n      <th>bd</th>\n      <th>registered_via</th>\n      <th>gender</th>\n      <th>SUM(logs.num_25)</th>\n      <th>SUM(logs.num_50)</th>\n      <th>SUM(logs.num_75)</th>\n      <th>SUM(logs.num_985)</th>\n      <th>...</th>\n      <th>WEEKEND(LAST(transactions.membership_expire_date))</th>\n      <th>DAY(LAST(logs.date))</th>\n      <th>DAY(LAST(transactions.transaction_date))</th>\n      <th>DAY(LAST(transactions.membership_expire_date))</th>\n      <th>MONTH(LAST(logs.date))</th>\n      <th>MONTH(LAST(transactions.transaction_date))</th>\n      <th>MONTH(LAST(transactions.membership_expire_date))</th>\n      <th>label</th>\n      <th>days_to_churn</th>\n      <th>churn_date</th>\n    </tr>\n  </thead>\n  <tbody>\n    <tr>\n      <th>0</th>\n      <td>++XKXYly5nP1VAHkIY54gLEceN1Cgws3dKreSAY1KrM=</td>\n      <td>2015-01-01</td>\n      <td>9.0</td>\n      <td>29.0</td>\n      <td>9.0</td>\n      <td>male</td>\n      <td>0.0</td>\n      <td>0.0</td>\n      <td>0.0</td>\n      <td>0.0</td>\n      <td>...</td>\n      <td>0.0</td>\n      <td>NaN</td>\n      <td>NaN</td>\n      <td>NaN</td>\n      <td>NaN</td>\n      <td>NaN</td>\n      <td>NaN</td>\n      <td>0.0</td>\n      <td>449.0</td>\n      <td>0</td>\n    </tr>\n    <tr>\n      <th>1</th>\n      <td>+2QAkq/St/jSrjbs+BT2wsfowpmZgAmCbKixGiWUqxE=</td>\n      <td>2015-01-01</td>\n      <td>1.0</td>\n      <td>0.0</td>\n      <td>7.0</td>\n      <td>NaN</td>\n      <td>0.0</td>\n      <td>0.0</td>\n      <td>0.0</td>\n      <td>0.0</td>\n      <td>...</td>\n      <td>0.0</td>\n      <td>NaN</td>\n      <td>NaN</td>\n      <td>NaN</td>\n      <td>NaN</td>\n      <td>NaN</td>\n      <td>NaN</td>\n      <td>0.0</td>\n      <td>426.0</td>\n      <td>0</td>\n    </tr>\n    <tr>\n      <th>2</th>\n      <td>+CTxP5RzNS7ei80eNdPTf/BuVVI5MIuTNhdRNq+6Dqc=</td>\n      <td>2015-01-01</td>\n      <td>22.0</td>\n      <td>56.0</td>\n      <td>9.0</td>\n      <td>female</td>\n      <td>0.0</td>\n      <td>0.0</td>\n      <td>0.0</td>\n      <td>0.0</td>\n      <td>...</td>\n      <td>0.0</td>\n      <td>NaN</td>\n      <td>NaN</td>\n      <td>NaN</td>\n      <td>NaN</td>\n      <td>NaN</td>\n      <td>NaN</td>\n      <td>0.0</td>\n      <td>NaN</td>\n      <td>NaN</td>\n    </tr>\n    <tr>\n      <th>3</th>\n      <td>+GgwZWpoBR5Hs+5LDJktlBwb6SvvSZWMl1hPrhv4DP8=</td>\n      <td>2015-01-01</td>\n      <td>15.0</td>\n      <td>23.0</td>\n      <td>9.0</td>\n      <td>female</td>\n      <td>0.0</td>\n      <td>0.0</td>\n      <td>0.0</td>\n      <td>0.0</td>\n      <td>...</td>\n      <td>0.0</td>\n      <td>NaN</td>\n      <td>NaN</td>\n      <td>NaN</td>\n      <td>NaN</td>\n      <td>NaN</td>\n      <td>NaN</td>\n      <td>0.0</td>\n      <td>222.0</td>\n      <td>0</td>\n    </tr>\n    <tr>\n      <th>4</th>\n      <td>+QcKo0T43zDktjv3MNH+/k7+RMr2m2ZtCZJqING+w/c=</td>\n      <td>2015-01-01</td>\n      <td>5.0</td>\n      <td>41.0</td>\n      <td>9.0</td>\n      <td>male</td>\n      <td>17.0</td>\n      <td>7.0</td>\n      <td>5.0</td>\n      <td>3.0</td>\n      <td>...</td>\n      <td>0.0</td>\n      <td>1.0</td>\n      <td>NaN</td>\n      <td>NaN</td>\n      <td>1.0</td>\n      <td>NaN</td>\n      <td>NaN</td>\n      <td>0.0</td>\n      <td>NaN</td>\n      <td>NaN</td>\n    </tr>\n  </tbody>\n</table>\n<p>5 rows × 253 columns</p>\n</div>",
            "text/plain": "                                           msno        time  city    bd  \\\n0  ++XKXYly5nP1VAHkIY54gLEceN1Cgws3dKreSAY1KrM=  2015-01-01   9.0  29.0   \n1  +2QAkq/St/jSrjbs+BT2wsfowpmZgAmCbKixGiWUqxE=  2015-01-01   1.0   0.0   \n2  +CTxP5RzNS7ei80eNdPTf/BuVVI5MIuTNhdRNq+6Dqc=  2015-01-01  22.0  56.0   \n3  +GgwZWpoBR5Hs+5LDJktlBwb6SvvSZWMl1hPrhv4DP8=  2015-01-01  15.0  23.0   \n4  +QcKo0T43zDktjv3MNH+/k7+RMr2m2ZtCZJqING+w/c=  2015-01-01   5.0  41.0   \n\n   registered_via  gender  SUM(logs.num_25)  SUM(logs.num_50)  \\\n0             9.0    male               0.0               0.0   \n1             7.0     NaN               0.0               0.0   \n2             9.0  female               0.0               0.0   \n3             9.0  female               0.0               0.0   \n4             9.0    male              17.0               7.0   \n\n   SUM(logs.num_75)  SUM(logs.num_985)     ...      \\\n0               0.0                0.0     ...       \n1               0.0                0.0     ...       \n2               0.0                0.0     ...       \n3               0.0                0.0     ...       \n4               5.0                3.0     ...       \n\n   WEEKEND(LAST(transactions.membership_expire_date))  DAY(LAST(logs.date))  \\\n0                                                 0.0                   NaN   \n1                                                 0.0                   NaN   \n2                                                 0.0                   NaN   \n3                                                 0.0                   NaN   \n4                                                 0.0                   1.0   \n\n   DAY(LAST(transactions.transaction_date))  \\\n0                                       NaN   \n1                                       NaN   \n2                                       NaN   \n3                                       NaN   \n4                                       NaN   \n\n   DAY(LAST(transactions.membership_expire_date))  MONTH(LAST(logs.date))  \\\n0                                             NaN                     NaN   \n1                                             NaN                     NaN   \n2                                             NaN                     NaN   \n3                                             NaN                     NaN   \n4                                             NaN                     1.0   \n\n   MONTH(LAST(transactions.transaction_date))  \\\n0                                         NaN   \n1                                         NaN   \n2                                         NaN   \n3                                         NaN   \n4                                         NaN   \n\n   MONTH(LAST(transactions.membership_expire_date))  label  days_to_churn  \\\n0                                               NaN    0.0          449.0   \n1                                               NaN    0.0          426.0   \n2                                               NaN    0.0            NaN   \n3                                               NaN    0.0          222.0   \n4                                               NaN    0.0            NaN   \n\n   churn_date  \n0           0  \n1           0  \n2         NaN  \n3           0  \n4         NaN  \n\n[5 rows x 253 columns]"
          },
          "execution_count": 53,
          "metadata": {},
          "output_type": "execute_result"
        }
      ]
    },
    {
      "metadata": {},
      "cell_type": "markdown",
      "source": "We can see that the function works for a single feature matrix (I'd already written all of the feature matrices so I didn't want to rewrite the older data). Later we'll implement a parallel calculation in Spark, but for now, we can run several operations in parallel using multiple processes (cores) on our machine with the built-in `multiprocessing` library."
    },
    {
      "metadata": {
        "trusted": false
      },
      "cell_type": "code",
      "source": "from multiprocessing import Pool\n\n# Multiprocessing implementation of making 14 feature matrices\nstart = timer()\npool = Pool(7)\nr = pool.map(partition_to_feature_matrix, range(0, 1000, 1000 // 14))\npool.close()\npool.join()\n\nend = timer()\nprint(f'{round(end - start)} seconds elapsed.')",
      "execution_count": 54,
      "outputs": [
        {
          "name": "stdout",
          "output_type": "stream",
          "text": "3668 seconds elapsed.\n"
        }
      ]
    },
    {
      "metadata": {},
      "cell_type": "markdown",
      "source": "Given the time to calculate just one feature matrix, about 15 minutes, calculating all 1000 would take several days if done sequentially. Fortunately, because we partitioned the data into independent subsets, we can calculate the feature matrices in parallel using a distributed framework such as Dask or Spark.\n\n(A tutorial on how to distribute the feature engineering in Spark with PySpark is in the `Featuretools on Spark` notebook. This approach works on both a single machine and a cluster)."
    },
    {
      "metadata": {},
      "cell_type": "markdown",
      "source": "# Conclusions\n\nAutomated feature engineering is a significant improvement over manual feature engineering in terms of both time and modeling performance. In this notebook, we implemented an automated feature engineering workflow with Featuretools for the customer churn problem. Given customer data and label times, we can now calculate a feature matrix with several hundred relevant features for predicting customer churn while ensuring that our features are made with valid data for each cutoff time. \n\nAlong the way, we implemented a number of Featuretools concepts:\n\n1. An entityset and entities\n2. Relationships between entities\n3. Cutoff times\n4. Feature primitives\n5. Custom primitives\n6. Deep feature synthesis\n\nThese concepts will serve us well in future machine learning projects that we can tackle with automated feature engineering.\n\n## Next Steps\n\nAlthough we often hear that \"data is the fuel of machine learning\", data is not exactly a fuel but more like crude oil. _Features_ are the refined product that we feed into a machine learning model to make accurate predictions. After performing prediction engineering and automated feature engineering, the next step is to use these features in a predictive model to estimate the _label_ using the _features_. \n\nGenerating hundreds of features automatically is impressive, but if those features cannot allow a model to learn our prediction problem then they are not mcuch help! The next step is to use our features and labeled historical examples to train a machine learning model to make predictions of customer churn. We'll make sure to test our model using a hold-out testing set to estimate performance on new data. Then, after validating our model, we can use it on new examples by passing the data through the feature engineering process. \n\n\nIf you want to see how to parallelize feature engineering in Spark, see the `Feature Engineering on Spark` notebook. Otherwise, the next notebook is `Modeling`, where we develop a machine learning model to predict churn using the historical labeled examples and the automatically engineered features."
    },
    {
      "metadata": {
        "trusted": false
      },
      "cell_type": "code",
      "source": "",
      "execution_count": null,
      "outputs": []
    }
  ],
  "metadata": {
    "kernelspec": {
      "name": "python3",
      "display_name": "Python 3",
      "language": "python"
    },
    "toc": {
      "base_numbering": 1,
      "nav_menu": {},
      "number_sections": true,
      "sideBar": true,
      "skip_h1_title": false,
      "title_cell": "Table of Contents",
      "title_sidebar": "Contents",
      "toc_cell": false,
      "toc_position": {},
      "toc_section_display": true,
      "toc_window_display": false
    },
    "varInspector": {
      "cols": {
        "lenName": 16,
        "lenType": 16,
        "lenVar": 40
      },
      "kernels_config": {
        "python": {
          "delete_cmd_postfix": "",
          "delete_cmd_prefix": "del ",
          "library": "var_list.py",
          "varRefreshCmd": "print(var_dic_list())"
        },
        "r": {
          "delete_cmd_postfix": ") ",
          "delete_cmd_prefix": "rm(",
          "library": "var_list.r",
          "varRefreshCmd": "cat(var_dic_list()) "
        }
      },
      "types_to_exclude": [
        "module",
        "function",
        "builtin_function_or_method",
        "instance",
        "_Feature"
      ],
      "window_display": false
    },
    "language_info": {
      "mimetype": "text/x-python",
      "nbconvert_exporter": "python",
      "name": "python",
      "file_extension": ".py",
      "version": "3.5.4",
      "pygments_lexer": "ipython3",
      "codemirror_mode": {
        "version": 3,
        "name": "ipython"
      }
    }
  },
  "nbformat": 4,
  "nbformat_minor": 2
}