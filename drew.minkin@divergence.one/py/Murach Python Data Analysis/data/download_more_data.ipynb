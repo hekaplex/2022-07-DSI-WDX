{
 "cells": [
  {
   "cell_type": "markdown",
   "metadata": {},
   "source": [
    "# Download more data files"
   ]
  },
  {
   "cell_type": "raw",
   "metadata": {},
   "source": [
    "This Notebook downloads some large data files from government websites. Some of the cells take several minutes or more to run. So, be patient. If all cells in this Notebook run successfully, you have all the data files you need for working with Murach's Python for Data Analysis."
   ]
  },
  {
   "cell_type": "markdown",
   "metadata": {},
   "source": [
    "## Import the necessary libraries"
   ]
  },
  {
   "cell_type": "code",
   "execution_count": 1,
   "metadata": {},
   "outputs": [],
   "source": [
    "import pandas as pd\n",
    "from urllib import request\n",
    "from zipfile import ZipFile\n",
    "import sqlite3"
   ]
  },
  {
   "cell_type": "markdown",
   "metadata": {},
   "source": [
    "## Download and unzip the Jobs data"
   ]
  },
  {
   "cell_type": "code",
   "execution_count": 2,
   "metadata": {},
   "outputs": [
    {
     "data": {
      "text/plain": [
       "('oesm18all.zip', <http.client.HTTPMessage at 0x22ee81e7ee0>)"
      ]
     },
     "execution_count": 2,
     "metadata": {},
     "output_type": "execute_result"
    }
   ],
   "source": [
    "zip_url = 'https://www.bls.gov/oes/special.requests/oesm18all.zip'\n",
    "request.urlretrieve(zip_url, filename='oesm18all.zip')"
   ]
  },
  {
   "cell_type": "code",
   "execution_count": 3,
   "metadata": {},
   "outputs": [
    {
     "name": "stdout",
     "output_type": "stream",
     "text": [
      "oesm18all/all_data_M_2018.xlsx 70296790 71834374\n"
     ]
    }
   ],
   "source": [
    "file_names = list() \n",
    "with ZipFile('oesm18all.zip', mode='r') as zip:\n",
    "    zip.extractall()\n",
    "    for file in zip.infolist():\n",
    "        file_names.append(file.filename)\n",
    "        print(file.filename, file.compress_size, file.file_size)"
   ]
  },
  {
   "cell_type": "markdown",
   "metadata": {},
   "source": [
    "## Download and unzip the Social Survey data"
   ]
  },
  {
   "cell_type": "code",
   "execution_count": 4,
   "metadata": {},
   "outputs": [
    {
     "data": {
      "text/plain": [
       "('gss_stata_with_codebook.zip', <http.client.HTTPMessage at 0x22ee820ef10>)"
      ]
     },
     "execution_count": 4,
     "metadata": {},
     "output_type": "execute_result"
    }
   ],
   "source": [
    "zip_url = 'http://gss.norc.org/Documents/stata/gss_stata_with_codebook.zip'\n",
    "request.urlretrieve(zip_url,filename='gss_stata_with_codebook.zip')"
   ]
  },
  {
   "cell_type": "code",
   "execution_count": 5,
   "metadata": {},
   "outputs": [
    {
     "name": "stdout",
     "output_type": "stream",
     "text": [
      "Release Notes 7218.pdf 288197 296746\n",
      "GSS_Codebook.pdf 30715963 37952897\n",
      "GSS7218_R3.DTA 39847271 449140819\n"
     ]
    }
   ],
   "source": [
    "with ZipFile('gss_stata_with_codebook.zip', mode='r') as zip:\n",
    "    zip.extractall() \n",
    "    for file in zip.infolist():    \n",
    "        print(file.filename, file.compress_size, file.file_size)"
   ]
  },
  {
   "cell_type": "markdown",
   "metadata": {},
   "source": [
    "## Download and unzip the Fires data"
   ]
  },
  {
   "cell_type": "code",
   "execution_count": 6,
   "metadata": {},
   "outputs": [
    {
     "data": {
      "text/plain": [
       "('RDS-2013-0009.4_SQLITE.zip', <http.client.HTTPMessage at 0x22ee82367f0>)"
      ]
     },
     "execution_count": 6,
     "metadata": {},
     "output_type": "execute_result"
    }
   ],
   "source": [
    "fires_url = 'https://www.fs.usda.gov/rds/archive/products/RDS-2013-0009.4/RDS-2013-0009.4_SQLITE.zip'\n",
    "request.urlretrieve(fires_url, filename='RDS-2013-0009.4_SQLITE.zip')"
   ]
  },
  {
   "cell_type": "code",
   "execution_count": 7,
   "metadata": {},
   "outputs": [
    {
     "name": "stdout",
     "output_type": "stream",
     "text": [
      "Data/FPA_FOD_20170508.sqlite 173776108 795785216\n",
      "Data/ 0 0\n",
      "_metadata_RDS-2013-0009.4.xml 11571 51400\n",
      "Supplements/FPA_FOD_Source_List.pdf 74137 109336\n",
      "Supplements/ 0 0\n",
      "_fileindex_RDS-2013-0009.4.html 1098 4398\n",
      "_metadata_RDS-2013-0009.4.html 13296 89005\n"
     ]
    }
   ],
   "source": [
    "with ZipFile('RDS-2013-0009.4_SQLITE.zip', mode='r') as zip:\n",
    "    zip.extractall()\n",
    "    for file in zip.infolist():\n",
    "       print(file.filename, file.compress_size, file.file_size)"
   ]
  },
  {
   "cell_type": "code",
   "execution_count": null,
   "metadata": {},
   "outputs": [],
   "source": []
  }
 ],
 "metadata": {
  "kernelspec": {
   "display_name": "Python 3",
   "language": "python",
   "name": "python3"
  },
  "language_info": {
   "codemirror_mode": {
    "name": "ipython",
    "version": 3
   },
   "file_extension": ".py",
   "mimetype": "text/x-python",
   "name": "python",
   "nbconvert_exporter": "python",
   "pygments_lexer": "ipython3",
   "version": "3.8.8"
  }
 },
 "nbformat": 4,
 "nbformat_minor": 4
}
