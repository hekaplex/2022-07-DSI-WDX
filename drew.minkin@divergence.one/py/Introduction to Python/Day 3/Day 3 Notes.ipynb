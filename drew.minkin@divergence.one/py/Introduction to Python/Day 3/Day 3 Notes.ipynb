{
 "cells": [
  {
   "cell_type": "markdown",
   "metadata": {},
   "source": [
    "## Numbers"
   ]
  },
  {
   "cell_type": "code",
   "execution_count": 3,
   "metadata": {},
   "outputs": [
    {
     "data": {
      "text/plain": [
       "float"
      ]
     },
     "execution_count": 3,
     "metadata": {},
     "output_type": "execute_result"
    }
   ],
   "source": [
    "type(balance)"
   ]
  },
  {
   "cell_type": "code",
   "execution_count": 1,
   "metadata": {},
   "outputs": [
    {
     "name": "stdout",
     "output_type": "stream",
     "text": [
      "Balance = 100.1\n",
      "Balance = 200.2\n",
      "Balance = 300.29999999999995\n",
      "Balance = 300.3\n"
     ]
    }
   ],
   "source": [
    "balance = 100.10\n",
    "print(\"Balance =\", balance)\n",
    "balance += 100.10\n",
    "print(\"Balance =\", balance)\n",
    "balance += 100.10\n",
    "print(\"Balance =\", balance)\n",
    "balance = round(balance, 2)\n",
    "print(\"Balance =\", balance)\n"
   ]
  },
  {
   "cell_type": "code",
   "execution_count": 4,
   "metadata": {},
   "outputs": [
    {
     "name": "stdout",
     "output_type": "stream",
     "text": [
      "pow(balance, pow):  375404.52006520296\n",
      "sqrt(balance):  17.329166165744965\n",
      "ceil(balance):  301\n",
      "floor(balance):  300\n"
     ]
    }
   ],
   "source": [
    "import math as m\n",
    "pw = 2.25\n",
    "print(\"pow(balance, pow): \",m.pow(balance, pw))\n",
    "print(\"sqrt(balance): \",m.sqrt(balance))\n",
    "print(\"ceil(balance): \",m.ceil(balance))\n",
    "print(\"floor(balance): \",m.floor(balance))\n"
   ]
  },
  {
   "cell_type": "code",
   "execution_count": 6,
   "metadata": {},
   "outputs": [],
   "source": [
    "radius = 12\n",
    "circumference = m.pi * radius * 2    # 75.39822368615503\n",
    "area = m.pi * m.pow(radius, 2)       # 452.3893421169302\n",
    "area = m.pi * radius**2              # 452.3893421169302\n"
   ]
  },
  {
   "cell_type": "code",
   "execution_count": 7,
   "metadata": {},
   "outputs": [
    {
     "name": "stdout",
     "output_type": "stream",
     "text": [
      "452.3893421169302 75.39822368615503\n"
     ]
    }
   ],
   "source": [
    "print(area,circumference)"
   ]
  },
  {
   "cell_type": "code",
   "execution_count": 10,
   "metadata": {},
   "outputs": [
    {
     "name": "stdout",
     "output_type": "stream",
     "text": [
      "area: 452.3893421169302, circumference: 75.39822368615503\n",
      "area: 75.39822368615503, circumference: 452.3893421169302\n"
     ]
    }
   ],
   "source": [
    "print(\"area: {}, circumference: {}\".format(area,circumference))\n",
    "print(\"area: {}, circumference: {}\".format(circumference,area))\n"
   ]
  },
  {
   "cell_type": "code",
   "execution_count": 11,
   "metadata": {},
   "outputs": [
    {
     "name": "stdout",
     "output_type": "stream",
     "text": [
      "area: 452.3893421169302, circumference: 75.39822368615503\n"
     ]
    }
   ],
   "source": [
    "print(\"area: {1}, circumference: {0}\".format(circumference,area))"
   ]
  },
  {
   "cell_type": "code",
   "execution_count": 9,
   "metadata": {},
   "outputs": [
    {
     "data": {
      "text/plain": [
       "452.3893421169302"
      ]
     },
     "execution_count": 9,
     "metadata": {},
     "output_type": "execute_result"
    }
   ],
   "source": [
    "area"
   ]
  },
  {
   "cell_type": "code",
   "execution_count": 15,
   "metadata": {},
   "outputs": [
    {
     "name": "stdout",
     "output_type": "stream",
     "text": [
      "basic float 452.39\n",
      "more decimal float 452.3893\n",
      "still more decimal float 452.389342\n",
      "still more  fancy format          452.39\n",
      "percentage 45238.930000%\n"
     ]
    }
   ],
   "source": [
    "print(\"basic float {:.2f}\".format(area))\n",
    "print(\"more decimal float {:.4f}\".format(area))\n",
    "print(\"still more decimal float {:.6f}\".format(area))\n",
    "print(\"still more  fancy format {:15,.2f}\".format(area))\n",
    "print(\"percentage {:%}\".format(round(area,4)))"
   ]
  },
  {
   "cell_type": "code",
   "execution_count": 18,
   "metadata": {},
   "outputs": [
    {
     "name": "stdout",
     "output_type": "stream",
     "text": [
      "integer basic 45200\n",
      "integer basic 45,200\n",
      "integer basic 45.200\n"
     ]
    }
   ],
   "source": [
    "arn = int(area)*100\n",
    "print(\"integer basic {:d}\".format(arn))\n",
    "print(\"integer basic {:,d}\".format(arn))\n",
    "print(\"integer basic {:,d}\".format(arn).replace(',','.'))\n"
   ]
  },
  {
   "cell_type": "code",
   "execution_count": 19,
   "metadata": {},
   "outputs": [
    {
     "name": "stdout",
     "output_type": "stream",
     "text": [
      "basic float 1.05e+20\n",
      "more decimal float 1.0522e+20\n",
      "still more decimal float 1.052184e+20\n"
     ]
    }
   ],
   "source": [
    "areabig = pow(area,circumference/10)\n",
    "print(\"basic float {:.2e}\".format(areabig))\n",
    "print(\"more decimal float {:.4e}\".format(areabig))\n",
    "print(\"still more decimal float {:.6e}\".format(areabig))"
   ]
  },
  {
   "cell_type": "code",
   "execution_count": 20,
   "metadata": {},
   "outputs": [
    {
     "data": {
      "text/plain": [
       "1.0521835996341941e+20"
      ]
     },
     "execution_count": 20,
     "metadata": {},
     "output_type": "execute_result"
    }
   ],
   "source": [
    "areabig"
   ]
  },
  {
   "cell_type": "code",
   "execution_count": 21,
   "metadata": {},
   "outputs": [
    {
     "name": "stdout",
     "output_type": "stream",
     "text": [
      "Description          Price   Qty\n",
      "Hammer                9.99     3\n",
      "Nails                14.50    10\n"
     ]
    }
   ],
   "source": [
    "print(\"{:15} {:>10} {:>5}\".format(\"Description\", \"Price\", \"Qty\"))\n",
    "print(\"{:15} {:10.2f} {:5d}\".format(\"Hammer\", 9.99, 3))\n",
    "print(\"{:15} {:10.2f} {:5d}\".format(\"Nails\", 14.5, 10))"
   ]
  },
  {
   "cell_type": "code",
   "execution_count": 22,
   "metadata": {},
   "outputs": [],
   "source": [
    "import locale as lc"
   ]
  },
  {
   "cell_type": "code",
   "execution_count": 23,
   "metadata": {},
   "outputs": [
    {
     "data": {
      "text/plain": [
       "'en_US'"
      ]
     },
     "execution_count": 23,
     "metadata": {},
     "output_type": "execute_result"
    }
   ],
   "source": [
    "#May have to do for Mac\n",
    "lc.setlocale(lc.LC_ALL,\"en_US\")"
   ]
  },
  {
   "cell_type": "code",
   "execution_count": 24,
   "metadata": {},
   "outputs": [
    {
     "data": {
      "text/plain": [
       "'English_United States.1252'"
      ]
     },
     "execution_count": 24,
     "metadata": {},
     "output_type": "execute_result"
    }
   ],
   "source": [
    "lc.setlocale(lc.LC_ALL,\"us\")"
   ]
  },
  {
   "cell_type": "code",
   "execution_count": 25,
   "metadata": {},
   "outputs": [
    {
     "name": "stdout",
     "output_type": "stream",
     "text": [
      "$34109.35\n",
      "$34,109.35\n"
     ]
    }
   ],
   "source": [
    "currency_val = area*circumference\n",
    "print(lc.currency(currency_val))\n",
    "print(lc.currency(currency_val,grouping=True))"
   ]
  },
  {
   "cell_type": "code",
   "execution_count": 26,
   "metadata": {},
   "outputs": [
    {
     "name": "stdout",
     "output_type": "stream",
     "text": [
      "¤34109.35\n",
      "¤34,109.35\n"
     ]
    },
    {
     "data": {
      "text/plain": [
       "'English_United States.1252'"
      ]
     },
     "execution_count": 26,
     "metadata": {},
     "output_type": "execute_result"
    }
   ],
   "source": [
    "lc.setlocale(lc.LC_ALL,\"en_UK\")\n",
    "currency_val = area*circumference\n",
    "print(lc.currency(currency_val))\n",
    "print(lc.currency(currency_val,grouping=True))\n",
    "lc.setlocale(lc.LC_ALL,\"us\")"
   ]
  },
  {
   "cell_type": "code",
   "execution_count": 27,
   "metadata": {},
   "outputs": [
    {
     "name": "stdout",
     "output_type": "stream",
     "text": [
      "34,109\n",
      "34,109.352810\n"
     ]
    }
   ],
   "source": [
    "print(lc.format_string(\"%d\",currency_val,grouping=True))\n",
    "print(lc.format_string(\"%2f\",currency_val,grouping=True))"
   ]
  },
  {
   "cell_type": "code",
   "execution_count": 9,
   "metadata": {},
   "outputs": [
    {
     "ename": "ValueError",
     "evalue": "could not convert string to float: ",
     "output_type": "error",
     "traceback": [
      "\u001b[1;31m---------------------------------------------------------------------------\u001b[0m",
      "\u001b[1;31mValueError\u001b[0m                                Traceback (most recent call last)",
      "\u001b[1;32m~\\AppData\\Local\\Temp\\ipykernel_120556\\4261501954.py\u001b[0m in \u001b[0;36m<module>\u001b[1;34m\u001b[0m\n\u001b[1;32m----> 1\u001b[1;33m \u001b[0mfoo\u001b[0m \u001b[1;33m=\u001b[0m \u001b[0mfloat\u001b[0m\u001b[1;33m(\u001b[0m\u001b[0minput\u001b[0m\u001b[1;33m(\u001b[0m\u001b[1;34m\"Enter order total: \"\u001b[0m\u001b[1;33m)\u001b[0m\u001b[1;33m)\u001b[0m\u001b[1;33m\u001b[0m\u001b[1;33m\u001b[0m\u001b[0m\n\u001b[0m",
      "\u001b[1;31mValueError\u001b[0m: could not convert string to float: "
     ]
    }
   ],
   "source": [
    "foo = float(input(\"Enter order total: \"))"
   ]
  },
  {
   "cell_type": "code",
   "execution_count": 30,
   "metadata": {},
   "outputs": [],
   "source": [
    "def discount_fun(order_total):\n",
    "    #float(input(\"Enter order total: \"))\n",
    "    print()               \n",
    "\n",
    "    # determine discount percent\n",
    "    if order_total > 0 and order_total < 100: \n",
    "        discount_percent = 0\n",
    "    elif order_total >= 100 and order_total < 250:\n",
    "        discount_percent = .1\n",
    "    elif order_total >= 500:\n",
    "        discount_percent = .2\n",
    "    else :\n",
    "        discount_percent = .15\n",
    "\n",
    "\n",
    "    # calculate the results\n",
    "    discount = round(order_total * discount_percent,2)\n",
    "    #discount = order_total * discount_percent\n",
    "    subtotal = order_total - discount\n",
    "    sales_tax = round(subtotal * .05,2)\n",
    "    #sales_tax = subtotal * .05\n",
    "    invoice_total = subtotal + sales_tax\n",
    "\n",
    "    # display the results\n",
    "    print(\"Order total:     {:10,.2f}\".format(order_total))\n",
    "    print(\"Discount amount: {:10,.2f}\".format(discount))\n",
    "    print(\"Subtotal:        {:10,.2f}\".format(subtotal))\n",
    "    print(\"Sales tax:       {:10,.2f}\".format(sales_tax))\n",
    "    print(\"Invoice total:   {:10,.2f}\".format(invoice_total))\n",
    "    print()\n"
   ]
  },
  {
   "cell_type": "code",
   "execution_count": 35,
   "metadata": {},
   "outputs": [
    {
     "name": "stdout",
     "output_type": "stream",
     "text": [
      "\n",
      "Order total:          50.00\n",
      "Discount amount:       0.00\n",
      "Subtotal:             50.00\n",
      "Sales tax:             2.50\n",
      "Invoice total:        52.50\n",
      "\n"
     ]
    }
   ],
   "source": [
    "discount_fun(50)"
   ]
  },
  {
   "cell_type": "code",
   "execution_count": 36,
   "metadata": {},
   "outputs": [],
   "source": [
    "from decimal import Decimal"
   ]
  },
  {
   "cell_type": "code",
   "execution_count": 39,
   "metadata": {},
   "outputs": [
    {
     "data": {
      "text/plain": [
       "34109.35281016482"
      ]
     },
     "execution_count": 39,
     "metadata": {},
     "output_type": "execute_result"
    }
   ],
   "source": [
    "currency_val"
   ]
  },
  {
   "cell_type": "code",
   "execution_count": 40,
   "metadata": {},
   "outputs": [
    {
     "name": "stdout",
     "output_type": "stream",
     "text": [
      "3410.935281016481894766911864\n"
     ]
    }
   ],
   "source": [
    "dec = Decimal(currency_val)\n",
    "disc = Decimal(\".1\")\n",
    "dsc = disc * dec\n",
    "print(dsc)"
   ]
  },
  {
   "cell_type": "code",
   "execution_count": 41,
   "metadata": {},
   "outputs": [
    {
     "name": "stdout",
     "output_type": "stream",
     "text": [
      "3410.935\n"
     ]
    }
   ],
   "source": [
    "dec = Decimal(\"34109.35\")\n",
    "disc = Decimal(\".1\")\n",
    "dsc = disc * dec\n",
    "print(dsc)\n",
    "\n",
    "\n"
   ]
  },
  {
   "cell_type": "code",
   "execution_count": 43,
   "metadata": {},
   "outputs": [
    {
     "name": "stdout",
     "output_type": "stream",
     "text": [
      "6821.870\n",
      "11938.2725\n"
     ]
    }
   ],
   "source": [
    "print(dsc * 2)\n",
    "print(dsc * Decimal(3.5))"
   ]
  },
  {
   "cell_type": "code",
   "execution_count": 50,
   "metadata": {},
   "outputs": [
    {
     "name": "stdout",
     "output_type": "stream",
     "text": [
      "<class 'decimal.Decimal'>\n",
      "3410.935\n",
      "3410.94\n",
      "none:  3410.94\n"
     ]
    },
    {
     "ename": "NameError",
     "evalue": "name 'ROUND_DOWN' is not defined",
     "output_type": "error",
     "traceback": [
      "\u001b[1;31m---------------------------------------------------------------------------\u001b[0m",
      "\u001b[1;31mNameError\u001b[0m                                 Traceback (most recent call last)",
      "\u001b[1;32m~\\AppData\\Local\\Temp\\ipykernel_115516\\3932625453.py\u001b[0m in \u001b[0;36m<module>\u001b[1;34m\u001b[0m\n\u001b[0;32m      5\u001b[0m \u001b[1;31m#print(\"ROUND_FLOOR: \",dsc.quantize(Decimal(\"3.20\"),rounding=ROUND_FLOOR))\u001b[0m\u001b[1;33m\u001b[0m\u001b[1;33m\u001b[0m\u001b[1;33m\u001b[0m\u001b[0m\n\u001b[0;32m      6\u001b[0m \u001b[0mprint\u001b[0m\u001b[1;33m(\u001b[0m\u001b[1;34m\"none: \"\u001b[0m\u001b[1;33m,\u001b[0m\u001b[0mdsc\u001b[0m\u001b[1;33m.\u001b[0m\u001b[0mquantize\u001b[0m\u001b[1;33m(\u001b[0m\u001b[0mDecimal\u001b[0m\u001b[1;33m(\u001b[0m\u001b[1;34m\"3.20\"\u001b[0m\u001b[1;33m)\u001b[0m\u001b[1;33m,\u001b[0m\u001b[0mrounding\u001b[0m\u001b[1;33m=\u001b[0m\u001b[1;32mNone\u001b[0m\u001b[1;33m)\u001b[0m\u001b[1;33m)\u001b[0m\u001b[1;33m\u001b[0m\u001b[1;33m\u001b[0m\u001b[0m\n\u001b[1;32m----> 7\u001b[1;33m \u001b[0mprint\u001b[0m\u001b[1;33m(\u001b[0m\u001b[1;34m\"ROUND_DOWN: \"\u001b[0m\u001b[1;33m,\u001b[0m\u001b[0mdsc\u001b[0m\u001b[1;33m.\u001b[0m\u001b[0mquantize\u001b[0m\u001b[1;33m(\u001b[0m\u001b[0mDecimal\u001b[0m\u001b[1;33m(\u001b[0m\u001b[1;34m\"3.20\"\u001b[0m\u001b[1;33m)\u001b[0m\u001b[1;33m,\u001b[0m\u001b[0mrounding\u001b[0m\u001b[1;33m=\u001b[0m\u001b[0mROUND_DOWN\u001b[0m\u001b[1;33m)\u001b[0m\u001b[1;33m)\u001b[0m\u001b[1;33m\u001b[0m\u001b[1;33m\u001b[0m\u001b[0m\n\u001b[0m\u001b[0;32m      8\u001b[0m \u001b[0mprint\u001b[0m\u001b[1;33m(\u001b[0m\u001b[1;34m\"ROUND_HALF_UP: \"\u001b[0m\u001b[1;33m,\u001b[0m\u001b[0mdsc\u001b[0m\u001b[1;33m.\u001b[0m\u001b[0mquantize\u001b[0m\u001b[1;33m(\u001b[0m\u001b[0mDecimal\u001b[0m\u001b[1;33m(\u001b[0m\u001b[1;34m\"3.20\"\u001b[0m\u001b[1;33m)\u001b[0m\u001b[1;33m,\u001b[0m\u001b[0mrounding\u001b[0m\u001b[1;33m=\u001b[0m\u001b[0mROUND_HALF_UP\u001b[0m\u001b[1;33m)\u001b[0m\u001b[1;33m)\u001b[0m\u001b[1;33m\u001b[0m\u001b[1;33m\u001b[0m\u001b[0m\n\u001b[0;32m      9\u001b[0m \u001b[0mprint\u001b[0m\u001b[1;33m(\u001b[0m\u001b[1;34m\"ROUND_HALF_DOWN: \"\u001b[0m\u001b[1;33m,\u001b[0m\u001b[0mdsc\u001b[0m\u001b[1;33m.\u001b[0m\u001b[0mquantize\u001b[0m\u001b[1;33m(\u001b[0m\u001b[0mDecimal\u001b[0m\u001b[1;33m(\u001b[0m\u001b[1;34m\"3.20\"\u001b[0m\u001b[1;33m)\u001b[0m\u001b[1;33m,\u001b[0m\u001b[0mrounding\u001b[0m\u001b[1;33m=\u001b[0m\u001b[0mROUND_HALF_DOWN\u001b[0m\u001b[1;33m)\u001b[0m\u001b[1;33m)\u001b[0m\u001b[1;33m\u001b[0m\u001b[1;33m\u001b[0m\u001b[0m\n",
      "\u001b[1;31mNameError\u001b[0m: name 'ROUND_DOWN' is not defined"
     ]
    }
   ],
   "source": [
    "print(type(dsc))\n",
    "print(dsc)\n",
    "print(dsc.quantize(Decimal(\"3.20\")))\n",
    "#print(\"ROUND_CEILING: \",dsc.quantize(Decimal(\"3.20\"),rounding=ROUND_CEILING))\n",
    "#print(\"ROUND_FLOOR: \",dsc.quantize(Decimal(\"3.20\"),rounding=ROUND_FLOOR))\n",
    "print(\"none: \",dsc.quantize(Decimal(\"3.20\"),rounding=None))\n",
    "print(\"ROUND_DOWN: \",dsc.quantize(Decimal(\"3.20\"),rounding=ROUND_DOWN))\n",
    "print(\"ROUND_HALF_UP: \",dsc.quantize(Decimal(\"3.20\"),rounding=ROUND_HALF_UP))\n",
    "print(\"ROUND_HALF_DOWN: \",dsc.quantize(Decimal(\"3.20\"),rounding=ROUND_HALF_DOWN))\n",
    "print(\"ROUND_HALF_EVEN: \",dsc.quantize(Decimal(\"3.20\"),rounding=ROUND_HALF_EVEN))\n",
    "print(\"ROUND_05UP: \",dsc.quantize(Decimal(\"3.20\"),rounding=ROUND_05UP))"
   ]
  },
  {
   "cell_type": "code",
   "execution_count": 45,
   "metadata": {},
   "outputs": [
    {
     "name": "stdout",
     "output_type": "stream",
     "text": [
      "\u001b[1;31mSignature:\u001b[0m \u001b[0mdsc\u001b[0m\u001b[1;33m.\u001b[0m\u001b[0mquantize\u001b[0m\u001b[1;33m(\u001b[0m\u001b[0mexp\u001b[0m\u001b[1;33m,\u001b[0m \u001b[0mrounding\u001b[0m\u001b[1;33m=\u001b[0m\u001b[1;32mNone\u001b[0m\u001b[1;33m,\u001b[0m \u001b[0mcontext\u001b[0m\u001b[1;33m=\u001b[0m\u001b[1;32mNone\u001b[0m\u001b[1;33m)\u001b[0m\u001b[1;33m\u001b[0m\u001b[1;33m\u001b[0m\u001b[0m\n",
      "\u001b[1;31mDocstring:\u001b[0m\n",
      "Return a value equal to the first operand after rounding and having the\n",
      "exponent of the second operand.\n",
      "\n",
      "    >>> Decimal('1.41421356').quantize(Decimal('1.000'))\n",
      "    Decimal('1.414')\n",
      "\n",
      "Unlike other operations, if the length of the coefficient after the quantize\n",
      "operation would be greater than precision, then an InvalidOperation is signaled.\n",
      "This guarantees that, unless there is an error condition, the quantized exponent\n",
      "is always equal to that of the right-hand operand.\n",
      "\n",
      "Also unlike other operations, quantize never signals Underflow, even if the\n",
      "result is subnormal and inexact.\n",
      "\n",
      "If the exponent of the second operand is larger than that of the first, then\n",
      "rounding may be necessary. In this case, the rounding mode is determined by the\n",
      "rounding argument if given, else by the given context argument; if neither\n",
      "argument is given, the rounding mode of the current thread's context is used.\n",
      "\u001b[1;31mType:\u001b[0m      builtin_function_or_method\n"
     ]
    }
   ],
   "source": [
    "dsc.quantize?"
   ]
  },
  {
   "cell_type": "code",
   "execution_count": null,
   "metadata": {},
   "outputs": [],
   "source": [
    "str."
   ]
  },
  {
   "cell_type": "markdown",
   "metadata": {},
   "source": [
    "## Strings"
   ]
  },
  {
   "cell_type": "code",
   "execution_count": 51,
   "metadata": {},
   "outputs": [
    {
     "data": {
      "text/plain": [
       "'Andrew'"
      ]
     },
     "execution_count": 51,
     "metadata": {},
     "output_type": "execute_result"
    }
   ],
   "source": [
    "children = ['Andrew','Laura','Joseph']\n",
    "child = children[0]\n",
    "child"
   ]
  },
  {
   "cell_type": "code",
   "execution_count": 52,
   "metadata": {},
   "outputs": [
    {
     "data": {
      "text/plain": [
       "'w'"
      ]
     },
     "execution_count": 52,
     "metadata": {},
     "output_type": "execute_result"
    }
   ],
   "source": [
    "child[5]"
   ]
  },
  {
   "cell_type": "code",
   "execution_count": 53,
   "metadata": {},
   "outputs": [
    {
     "name": "stdout",
     "output_type": "stream",
     "text": [
      "119\n",
      "87\n"
     ]
    }
   ],
   "source": [
    "print(ord(child[5]))\n",
    "print(ord(child[5].upper()))"
   ]
  },
  {
   "cell_type": "code",
   "execution_count": 54,
   "metadata": {},
   "outputs": [
    {
     "name": "stdout",
     "output_type": "stream",
     "text": [
      "6\n",
      "3\n"
     ]
    }
   ],
   "source": [
    "#string len\n",
    "print(len(child))\n",
    "#list len\n",
    "print(len(children))"
   ]
  },
  {
   "cell_type": "code",
   "execution_count": 55,
   "metadata": {},
   "outputs": [
    {
     "name": "stdout",
     "output_type": "stream",
     "text": [
      "And\n",
      "dr\n",
      "ew\n",
      "Andre\n"
     ]
    }
   ],
   "source": [
    "print(child[:3])\n",
    "print(child[2:4])\n",
    "print(child[4:])\n",
    "print(child[:-1])"
   ]
  },
  {
   "cell_type": "code",
   "execution_count": 56,
   "metadata": {},
   "outputs": [
    {
     "name": "stdout",
     "output_type": "stream",
     "text": [
      "ewewewewewew\n"
     ]
    }
   ],
   "source": [
    "print(child[4:] * len(child))"
   ]
  },
  {
   "cell_type": "code",
   "execution_count": 57,
   "metadata": {},
   "outputs": [
    {
     "name": "stdout",
     "output_type": "stream",
     "text": [
      "False\n",
      "True\n"
     ]
    }
   ],
   "source": [
    "print('z' in child)\n",
    "print('w' in child)"
   ]
  },
  {
   "cell_type": "code",
   "execution_count": 58,
   "metadata": {},
   "outputs": [
    {
     "name": "stdout",
     "output_type": "stream",
     "text": [
      "False\n",
      "False\n",
      "False\n",
      "False\n",
      "False\n",
      "False\n",
      "      country  koolaidy   \n",
      "      COUNTRY  KOOLAIDY   \n",
      "      Country  Koolaidy   \n",
      "Country  koolaidy   \n",
      "      Country  koolaidy\n",
      "Country  koolaidy\n",
      "      Country  koolaidy   \n",
      "      Country  koolaidy   \n",
      "      Country  koolaidy   \n"
     ]
    }
   ],
   "source": [
    "stmt = '      Country  koolaidy   '\n",
    "print(stmt.isalpha())\n",
    "print(stmt.islower())\n",
    "print(stmt.isupper())\n",
    "print(stmt.isdigit())\n",
    "print(stmt.startswith('e'))\n",
    "print(stmt.endswith('e'))\n",
    "print(stmt.lower())\n",
    "print(stmt.upper())\n",
    "print(stmt.title())\n",
    "print(stmt.lstrip())\n",
    "print(stmt.rstrip())\n",
    "print(stmt.strip())\n",
    "print(stmt.ljust(20))\n",
    "print(stmt.rjust(20))\n",
    "print(stmt.center(20))"
   ]
  },
  {
   "cell_type": "code",
   "execution_count": 59,
   "metadata": {},
   "outputs": [
    {
     "name": "stdout",
     "output_type": "stream",
     "text": [
      "15\n",
      "7\n"
     ]
    }
   ],
   "source": [
    "print (stmt.find(\"k\"))\n",
    "print (stmt.find(\"o\"))\n",
    "#print (stmt.find(\"y\"),9)"
   ]
  },
  {
   "cell_type": "code",
   "execution_count": 61,
   "metadata": {},
   "outputs": [
    {
     "name": "stdout",
     "output_type": "stream",
     "text": [
      "string\n",
      "functions\n"
     ]
    }
   ],
   "source": [
    "str_a = \"string functions\"\n",
    "i = str_a.find(\" \")\n",
    "print(str_a[0:i])\n",
    "print(str_a[i+1:len(str_a)])"
   ]
  },
  {
   "cell_type": "code",
   "execution_count": 62,
   "metadata": {},
   "outputs": [
    {
     "data": {
      "text/plain": [
       "list"
      ]
     },
     "execution_count": 62,
     "metadata": {},
     "output_type": "execute_result"
    }
   ],
   "source": [
    "split_a = str_a.split()\n",
    "type(split_a)"
   ]
  },
  {
   "cell_type": "code",
   "execution_count": 63,
   "metadata": {},
   "outputs": [
    {
     "data": {
      "text/plain": [
       "['string', 'functions']"
      ]
     },
     "execution_count": 63,
     "metadata": {},
     "output_type": "execute_result"
    }
   ],
   "source": [
    "split_a"
   ]
  },
  {
   "cell_type": "code",
   "execution_count": 64,
   "metadata": {},
   "outputs": [
    {
     "ename": "IndexError",
     "evalue": "list index out of range",
     "output_type": "error",
     "traceback": [
      "\u001b[1;31m---------------------------------------------------------------------------\u001b[0m",
      "\u001b[1;31mIndexError\u001b[0m                                Traceback (most recent call last)",
      "\u001b[1;32m~\\AppData\\Local\\Temp\\ipykernel_115516\\2617662531.py\u001b[0m in \u001b[0;36m<module>\u001b[1;34m\u001b[0m\n\u001b[1;32m----> 1\u001b[1;33m \u001b[0msplit_a\u001b[0m\u001b[1;33m[\u001b[0m\u001b[1;36m2\u001b[0m\u001b[1;33m]\u001b[0m\u001b[1;33m\u001b[0m\u001b[1;33m\u001b[0m\u001b[0m\n\u001b[0m",
      "\u001b[1;31mIndexError\u001b[0m: list index out of range"
     ]
    }
   ],
   "source": [
    "split_a[2]"
   ]
  },
  {
   "cell_type": "code",
   "execution_count": 65,
   "metadata": {},
   "outputs": [
    {
     "name": "stdout",
     "output_type": "stream",
     "text": [
      "['Andrew', 'Laura', 'Joseph']\n"
     ]
    }
   ],
   "source": [
    "print(children)"
   ]
  },
  {
   "cell_type": "code",
   "execution_count": 66,
   "metadata": {},
   "outputs": [
    {
     "data": {
      "text/plain": [
       "'Laura'"
      ]
     },
     "execution_count": 66,
     "metadata": {},
     "output_type": "execute_result"
    }
   ],
   "source": [
    "newsplit = \"Andrew|Laura|Joseph\".split(\"|\")\n",
    "newsplit[1]"
   ]
  },
  {
   "cell_type": "code",
   "execution_count": 67,
   "metadata": {},
   "outputs": [
    {
     "name": "stdout",
     "output_type": "stream",
     "text": [
      "AndrewLaura\n"
     ]
    }
   ],
   "source": [
    "join1 = \"\"\n",
    "join1  += newsplit[0]\n",
    "join1  += newsplit[1]\n",
    "print(join1)\n"
   ]
  },
  {
   "cell_type": "code",
   "execution_count": 68,
   "metadata": {},
   "outputs": [
    {
     "name": "stdout",
     "output_type": "stream",
     "text": [
      "AndrewLaura\n"
     ]
    }
   ],
   "source": [
    "join1  = newsplit[0] + \"\" + newsplit[1]\n",
    "print(join1)\n"
   ]
  },
  {
   "cell_type": "code",
   "execution_count": 69,
   "metadata": {},
   "outputs": [
    {
     "data": {
      "text/plain": [
       "['Andrew', 'Laura', 'Joseph']"
      ]
     },
     "execution_count": 69,
     "metadata": {},
     "output_type": "execute_result"
    }
   ],
   "source": [
    "children"
   ]
  },
  {
   "cell_type": "code",
   "execution_count": 70,
   "metadata": {},
   "outputs": [
    {
     "data": {
      "text/plain": [
       "'Andrew|Laura|Joseph'"
      ]
     },
     "execution_count": 70,
     "metadata": {},
     "output_type": "execute_result"
    }
   ],
   "source": [
    "\"|\".join(children)"
   ]
  },
  {
   "cell_type": "code",
   "execution_count": 71,
   "metadata": {},
   "outputs": [
    {
     "data": {
      "text/plain": [
       "'Andrew|Laura|Joseph'"
      ]
     },
     "execution_count": 71,
     "metadata": {},
     "output_type": "execute_result"
    }
   ],
   "source": [
    "tuple1 = ('Andrew', 'Laura', 'Joseph')\n",
    "\"|\".join(list(tuple1))"
   ]
  },
  {
   "cell_type": "code",
   "execution_count": 72,
   "metadata": {},
   "outputs": [
    {
     "data": {
      "text/plain": [
       "'Andrew'"
      ]
     },
     "execution_count": 72,
     "metadata": {},
     "output_type": "execute_result"
    }
   ],
   "source": [
    "child"
   ]
  },
  {
   "cell_type": "code",
   "execution_count": 73,
   "metadata": {},
   "outputs": [
    {
     "data": {
      "text/plain": [
       "'A!n!d!r!e!w'"
      ]
     },
     "execution_count": 73,
     "metadata": {},
     "output_type": "execute_result"
    }
   ],
   "source": [
    "\"!\".join(child)"
   ]
  },
  {
   "cell_type": "markdown",
   "metadata": {},
   "source": [
    "## Date and Time"
   ]
  },
  {
   "cell_type": "code",
   "execution_count": 74,
   "metadata": {},
   "outputs": [],
   "source": [
    "from datetime import date,time,datetime\n"
   ]
  },
  {
   "cell_type": "code",
   "execution_count": 75,
   "metadata": {},
   "outputs": [
    {
     "data": {
      "text/plain": [
       "datetime.date(2022, 2, 22)"
      ]
     },
     "execution_count": 75,
     "metadata": {},
     "output_type": "execute_result"
    }
   ],
   "source": [
    "date.today()"
   ]
  },
  {
   "cell_type": "code",
   "execution_count": 76,
   "metadata": {},
   "outputs": [
    {
     "data": {
      "text/plain": [
       "datetime.datetime(2022, 2, 22, 9, 48, 35, 631925)"
      ]
     },
     "execution_count": 76,
     "metadata": {},
     "output_type": "execute_result"
    }
   ],
   "source": [
    "datetime.now()"
   ]
  },
  {
   "cell_type": "code",
   "execution_count": 77,
   "metadata": {},
   "outputs": [],
   "source": [
    "bigdate = date(1319,2,13)"
   ]
  },
  {
   "cell_type": "code",
   "execution_count": 78,
   "metadata": {},
   "outputs": [
    {
     "name": "stdout",
     "output_type": "stream",
     "text": [
      "1319-02-13\n"
     ]
    }
   ],
   "source": [
    "print(bigdate)"
   ]
  },
  {
   "cell_type": "code",
   "execution_count": 7,
   "metadata": {},
   "outputs": [
    {
     "data": {
      "text/plain": [
       "'20220225162024'"
      ]
     },
     "execution_count": 7,
     "metadata": {},
     "output_type": "execute_result"
    }
   ],
   "source": [
    "from datetime import datetime\n",
    "datetime.today().strftime(\"%Y%m%d%H%M%S\")"
   ]
  },
  {
   "cell_type": "code",
   "execution_count": 80,
   "metadata": {},
   "outputs": [
    {
     "name": "stdout",
     "output_type": "stream",
     "text": [
      "2021-05-15 10:07:37\n",
      "2021-05-15 10:07:37\n"
     ]
    }
   ],
   "source": [
    "cur_time = str(datetime.now())\n",
    "#2021-05-15 10:07:37.810569\n",
    "print(datetime.strptime(\"2021-05-15 10:07:37\",\"%Y-%m-%d %H:%M:%S\"))\n",
    "print(datetime.strptime(\"05/15/21 100737\",\"%m/%d/%y %H%M%S\"))"
   ]
  },
  {
   "cell_type": "code",
   "execution_count": 82,
   "metadata": {},
   "outputs": [
    {
     "name": "stdout",
     "output_type": "stream",
     "text": [
      "2022-02-22 09:51:50 291533\n",
      "02/22/22 095150\n",
      "Tue, Feb 02/22/22 095150\n",
      "Tuesday, February 02/22/22 095150\n",
      "0951:50AM 291533\n"
     ]
    }
   ],
   "source": [
    "print(datetime.strftime(datetime.now(),\"%Y-%m-%d %H:%M:%S %f\"))\n",
    "print(datetime.strftime(datetime.now(),\"%m/%d/%y %H%M%S\"))\n",
    "print(datetime.strftime(datetime.now(),\"%a, %b %m/%d/%y %H%M%S\"))\n",
    "print(datetime.strftime(datetime.now(),\"%A, %B %m/%d/%y %H%M%S\"))\n",
    "print(datetime.strftime(datetime.now(),\"%I%M:%S%p %f\"))"
   ]
  },
  {
   "cell_type": "code",
   "execution_count": 84,
   "metadata": {},
   "outputs": [
    {
     "name": "stdout",
     "output_type": "stream",
     "text": [
      "20220222\n"
     ]
    }
   ],
   "source": [
    "print(datetime.strftime(datetime.now(),\"%Y%m%d\"))"
   ]
  },
  {
   "cell_type": "code",
   "execution_count": 83,
   "metadata": {},
   "outputs": [
    {
     "name": "stdout",
     "output_type": "stream",
     "text": [
      "2/22/2022 9:52:00 AM\n",
      "2/22/2022\n"
     ]
    }
   ],
   "source": [
    "#default for locale\n",
    "print(datetime.strftime(datetime.now(),\"%c\"))\n",
    "print(datetime.strftime(datetime.now(),\"%x\"))"
   ]
  },
  {
   "cell_type": "code",
   "execution_count": 85,
   "metadata": {},
   "outputs": [],
   "source": [
    "from datetime import timedelta"
   ]
  },
  {
   "cell_type": "code",
   "execution_count": 86,
   "metadata": {},
   "outputs": [],
   "source": [
    "#timespan\n",
    "wks_3 = timedelta(weeks=3)\n",
    "day_1 = timedelta(days=1)\n",
    "hour_4 = timedelta(hours=4)\n",
    "micro_47=timedelta(microseconds=47)"
   ]
  },
  {
   "cell_type": "code",
   "execution_count": 87,
   "metadata": {},
   "outputs": [
    {
     "data": {
      "text/plain": [
       "datetime.timedelta"
      ]
     },
     "execution_count": 87,
     "metadata": {},
     "output_type": "execute_result"
    }
   ],
   "source": [
    "type(wks_3)"
   ]
  },
  {
   "cell_type": "code",
   "execution_count": 88,
   "metadata": {},
   "outputs": [
    {
     "data": {
      "text/plain": [
       "datetime.date(2022, 2, 22)"
      ]
     },
     "execution_count": 88,
     "metadata": {},
     "output_type": "execute_result"
    }
   ],
   "source": [
    "date.today()"
   ]
  },
  {
   "cell_type": "code",
   "execution_count": 89,
   "metadata": {},
   "outputs": [
    {
     "name": "stdout",
     "output_type": "stream",
     "text": [
      "Wednesday, March 03/16/22 055515 086013\n"
     ]
    }
   ],
   "source": [
    "#day2 =date.today()\n",
    "day2 =datetime.now()\n",
    "dtFuture = day2 +wks_3 + day_1 - hour_4\n",
    "print(datetime.strftime(dtFuture,\"%A, %B %m/%d/%y %H%M%S %f\"))"
   ]
  },
  {
   "cell_type": "code",
   "execution_count": 90,
   "metadata": {},
   "outputs": [
    {
     "name": "stdout",
     "output_type": "stream",
     "text": [
      "1886400.0\n",
      "47\n",
      "1886400047.0\n"
     ]
    }
   ],
   "source": [
    "print((wks_3 + day_1 - hour_4).total_seconds())\n",
    "print((wks_3 + day_1 - hour_4 + micro_47).microseconds)\n",
    "print(((wks_3 + day_1 - hour_4).total_seconds() * 1000) + (wks_3 + day_1 - hour_4 + micro_47).microseconds)\n"
   ]
  },
  {
   "cell_type": "code",
   "execution_count": 91,
   "metadata": {},
   "outputs": [
    {
     "name": "stdout",
     "output_type": "stream",
     "text": [
      "month:  2\n",
      "day:  22\n",
      "year:  2022\n"
     ]
    }
   ],
   "source": [
    "day3 = date.today()\n",
    "print(\"month: \",day3.month)\n",
    "print(\"day: \",day3.day)\n",
    "print(\"year: \",day3.year)\n"
   ]
  },
  {
   "cell_type": "code",
   "execution_count": 92,
   "metadata": {},
   "outputs": [
    {
     "name": "stdout",
     "output_type": "stream",
     "text": [
      "sec: 37\n",
      "hour: 9\n",
      "minute: 56\n",
      "microsec: 628860\n"
     ]
    }
   ],
   "source": [
    "day4= datetime.now()\n",
    "print(\"sec:\",day4.second)\n",
    "print(\"hour:\",day4.hour)\n",
    "print(\"minute:\",day4.minute)\n",
    "print(\"microsec:\",day4.microsecond)"
   ]
  },
  {
   "cell_type": "code",
   "execution_count": 93,
   "metadata": {},
   "outputs": [],
   "source": [
    "halloween = date(\n",
    "    date.today().year\n",
    "    ,10\n",
    "    ,31\n",
    ")"
   ]
  },
  {
   "cell_type": "code",
   "execution_count": 96,
   "metadata": {},
   "outputs": [
    {
     "data": {
      "text/plain": [
       "datetime.date"
      ]
     },
     "execution_count": 96,
     "metadata": {},
     "output_type": "execute_result"
    }
   ],
   "source": [
    "type(halloween)"
   ]
  },
  {
   "cell_type": "code",
   "execution_count": 95,
   "metadata": {},
   "outputs": [
    {
     "data": {
      "text/plain": [
       "datetime.timedelta"
      ]
     },
     "execution_count": 95,
     "metadata": {},
     "output_type": "execute_result"
    }
   ],
   "source": [
    "type(halloween - day3)"
   ]
  },
  {
   "cell_type": "code",
   "execution_count": 97,
   "metadata": {},
   "outputs": [
    {
     "name": "stdout",
     "output_type": "stream",
     "text": [
      "milliseconds to halloween:  21686400000\n"
     ]
    }
   ],
   "source": [
    "print(\"milliseconds to halloween: \",(halloween - day3).days * 24 *60 * 60 * 1000)"
   ]
  },
  {
   "cell_type": "code",
   "execution_count": 98,
   "metadata": {},
   "outputs": [],
   "source": [
    "def add_numbers(upper):\n",
    "    total = 0\n",
    "    for num in range(upper + 1):\n",
    "        total += num\n",
    "        #print(total)\n",
    "    return total"
   ]
  },
  {
   "cell_type": "code",
   "execution_count": 99,
   "metadata": {},
   "outputs": [
    {
     "data": {
      "text/plain": [
       "78"
      ]
     },
     "execution_count": 99,
     "metadata": {},
     "output_type": "execute_result"
    }
   ],
   "source": [
    "add_numbers(12)"
   ]
  },
  {
   "cell_type": "code",
   "execution_count": 107,
   "metadata": {},
   "outputs": [],
   "source": [
    "def add_numbers(upper):\n",
    "    if upper == 0:\n",
    "        return upper\n",
    "    else: \n",
    "        # print(\"upper: {}\".format(upper - 1))\n",
    "        return upper + add_numbers(upper - 1)"
   ]
  },
  {
   "cell_type": "code",
   "execution_count": 108,
   "metadata": {},
   "outputs": [
    {
     "data": {
      "text/plain": [
       "78"
      ]
     },
     "execution_count": 108,
     "metadata": {},
     "output_type": "execute_result"
    }
   ],
   "source": [
    "add_numbers(12)"
   ]
  },
  {
   "cell_type": "code",
   "execution_count": 109,
   "metadata": {},
   "outputs": [],
   "source": [
    "def factorial_numbers(upper):\n",
    "    if upper == 0:\n",
    "        return 1\n",
    "    else: \n",
    "        #print(upper + add_numbers(upper - 1))\n",
    "        return upper * factorial_numbers(upper - 1)"
   ]
  },
  {
   "cell_type": "code",
   "execution_count": 110,
   "metadata": {},
   "outputs": [
    {
     "data": {
      "text/plain": [
       "6227020800"
      ]
     },
     "execution_count": 110,
     "metadata": {},
     "output_type": "execute_result"
    }
   ],
   "source": [
    "factorial_numbers(13)"
   ]
  },
  {
   "cell_type": "code",
   "execution_count": 113,
   "metadata": {},
   "outputs": [],
   "source": [
    "def fib_numbers(upper):\n",
    "    if upper == 0:\n",
    "        return 0\n",
    "    if upper == 1:\n",
    "        return 1   \n",
    "    else: \n",
    "        #print( fib_numbers(upper - 1) + fib_numbers(upper - 2))\n",
    "        return fib_numbers(upper - 1) + fib_numbers(upper - 2)"
   ]
  },
  {
   "cell_type": "code",
   "execution_count": 114,
   "metadata": {},
   "outputs": [
    {
     "name": "stdout",
     "output_type": "stream",
     "text": [
      "0\n",
      "1\n",
      "1\n",
      "2\n",
      "3\n",
      "5\n"
     ]
    }
   ],
   "source": [
    "for i in range(0,6):\n",
    "    print(fib_numbers(i))"
   ]
  },
  {
   "cell_type": "code",
   "execution_count": null,
   "metadata": {},
   "outputs": [],
   "source": [
    "range(13)"
   ]
  },
  {
   "cell_type": "code",
   "execution_count": null,
   "metadata": {},
   "outputs": [],
   "source": [
    "\"9\".upper()"
   ]
  },
  {
   "cell_type": "code",
   "execution_count": 140,
   "metadata": {},
   "outputs": [
    {
     "name": "stdout",
     "output_type": "stream",
     "text": [
      "zoo\n"
     ]
    }
   ],
   "source": [
    "import random\n",
    "words = [\n",
    "    \"aardvark\",\n",
    "    \"air\",\n",
    "    \"zipper\",\n",
    "    \"zoo\"\n",
    "    ]\n",
    "\n",
    "print(words[random.randint(0,len(words)-1)])"
   ]
  },
  {
   "cell_type": "code",
   "execution_count": 135,
   "metadata": {},
   "outputs": [
    {
     "data": {
      "text/plain": [
       "0.3606135393600264"
      ]
     },
     "execution_count": 135,
     "metadata": {},
     "output_type": "execute_result"
    }
   ],
   "source": [
    "random.random()"
   ]
  },
  {
   "cell_type": "code",
   "execution_count": 121,
   "metadata": {},
   "outputs": [
    {
     "name": "stdout",
     "output_type": "stream",
     "text": [
      "<module 'random' from 'C:\\\\Users\\\\andre\\\\anaconda3\\\\envs\\\\dsiwd202201\\\\lib\\\\random.py'>\n"
     ]
    }
   ],
   "source": [
    "print(random)"
   ]
  },
  {
   "cell_type": "code",
   "execution_count": 141,
   "metadata": {},
   "outputs": [
    {
     "data": {
      "text/plain": [
       "0"
      ]
     },
     "execution_count": 141,
     "metadata": {},
     "output_type": "execute_result"
    }
   ],
   "source": [
    "random.randint(0,4)"
   ]
  },
  {
   "cell_type": "code",
   "execution_count": 151,
   "metadata": {},
   "outputs": [],
   "source": [
    "import BaseEmployee as be"
   ]
  },
  {
   "cell_type": "code",
   "execution_count": 152,
   "metadata": {},
   "outputs": [],
   "source": [
    " sravan = be.Customer(123,\"Sravan\",\"Ankaraju\",\"Divergence\",\"1054 Midway Dr\",\"Addison\",\"TX\", \"75201\")"
   ]
  },
  {
   "cell_type": "code",
   "execution_count": 153,
   "metadata": {},
   "outputs": [
    {
     "data": {
      "text/plain": [
       "BaseEmployee.Customer"
      ]
     },
     "execution_count": 153,
     "metadata": {},
     "output_type": "execute_result"
    }
   ],
   "source": [
    "type(sravan)"
   ]
  },
  {
   "cell_type": "code",
   "execution_count": 154,
   "metadata": {},
   "outputs": [
    {
     "data": {
      "text/plain": [
       "'Sravan Ankaraju'"
      ]
     },
     "execution_count": 154,
     "metadata": {},
     "output_type": "execute_result"
    }
   ],
   "source": [
    "sravan.getFullName()"
   ]
  },
  {
   "cell_type": "code",
   "execution_count": 155,
   "metadata": {},
   "outputs": [
    {
     "name": "stdout",
     "output_type": "stream",
     "text": [
      "Sravan Ankaraju\n",
      "Divergence\n",
      "1054 Midway Dr\n",
      "Addison, TX 75201\n"
     ]
    }
   ],
   "source": [
    "print(sravan.getFullAddress())"
   ]
  },
  {
   "cell_type": "code",
   "execution_count": 156,
   "metadata": {},
   "outputs": [
    {
     "data": {
      "text/plain": [
       "123"
      ]
     },
     "execution_count": 156,
     "metadata": {},
     "output_type": "execute_result"
    }
   ],
   "source": [
    "sravan.id"
   ]
  },
  {
   "cell_type": "code",
   "execution_count": null,
   "metadata": {},
   "outputs": [],
   "source": []
  }
 ],
 "metadata": {
  "kernelspec": {
   "display_name": "Python 3",
   "language": "python",
   "name": "python3"
  },
  "language_info": {
   "codemirror_mode": {
    "name": "ipython",
    "version": 3
   },
   "file_extension": ".py",
   "mimetype": "text/x-python",
   "name": "python",
   "nbconvert_exporter": "python",
   "pygments_lexer": "ipython3",
   "version": "3.7.11"
  }
 },
 "nbformat": 4,
 "nbformat_minor": 4
}
