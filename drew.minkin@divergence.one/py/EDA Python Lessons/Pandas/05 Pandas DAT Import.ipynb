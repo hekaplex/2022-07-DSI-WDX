{
 "cells": [
  {
   "cell_type": "code",
   "execution_count": 11,
   "metadata": {},
   "outputs": [
    {
     "name": "stdout",
     "output_type": "stream",
     "text": [
      "<class 'pandas.core.frame.DataFrame'>\n",
      "Index: 460787 entries, P900021923161 to R011200102801\n",
      "Data columns (total 19 columns):\n",
      " #   Column  Non-Null Count   Dtype \n",
      "---  ------  --------------   ----- \n",
      " 0   col1    460787 non-null  object\n",
      " 1   col2    4745 non-null    object\n",
      " 2   col3    460787 non-null  object\n",
      " 3   col4    447748 non-null  object\n",
      " 4   col5    417971 non-null  object\n",
      " 5   col6    460787 non-null  object\n",
      " 6   col7    460787 non-null  object\n",
      " 7   col8    460605 non-null  object\n",
      " 8   col9    459 non-null     object\n",
      " 9   col10   4348 non-null    object\n",
      " 10  col11   3832 non-null    object\n",
      " 11  col12   4250 non-null    object\n",
      " 12  col13   3023 non-null    object\n",
      " 13  col14   459642 non-null  object\n",
      " 14  col15   457634 non-null  object\n",
      " 15  col16   458742 non-null  object\n",
      " 16  col17   460787 non-null  object\n",
      " 17  col18   460787 non-null  object\n",
      " 18  col19   460787 non-null  object\n",
      "dtypes: object(19)\n",
      "memory usage: 70.3+ MB\n"
     ]
    }
   ],
   "source": [
    "import pandas as pd\n",
    "df = pd.read_fwf(r\"C:\\Users\\andre\\Downloads\\MM032522.DAT\",names =['col1',\n",
    " 'col2',\n",
    " 'col3',\n",
    " 'col4',\n",
    " 'col5',\n",
    " 'col6',\n",
    " 'col7',\n",
    " 'col8',\n",
    " 'col9',\n",
    " 'col10',\n",
    " 'col11',\n",
    " 'col12',\n",
    " 'col13',\n",
    " 'col14',\n",
    " 'col15',\n",
    " 'col16',\n",
    " 'col17',\n",
    " 'col18',\n",
    " 'col19'])\n",
    "df.info()"
   ]
  },
  {
   "cell_type": "code",
   "execution_count": 10,
   "metadata": {},
   "outputs": [
    {
     "data": {
      "text/plain": [
       "['col1',\n",
       " 'col2',\n",
       " 'col3',\n",
       " 'col4',\n",
       " 'col5',\n",
       " 'col6',\n",
       " 'col7',\n",
       " 'col8',\n",
       " 'col9',\n",
       " 'col10',\n",
       " 'col11',\n",
       " 'col12',\n",
       " 'col13',\n",
       " 'col14',\n",
       " 'col15',\n",
       " 'col16',\n",
       " 'col17',\n",
       " 'col18',\n",
       " 'col19']"
      ]
     },
     "execution_count": 10,
     "metadata": {},
     "output_type": "execute_result"
    }
   ],
   "source": [
    "['col'+str(n) for n in range (1,20)]"
   ]
  },
  {
   "cell_type": "code",
   "execution_count": null,
   "metadata": {},
   "outputs": [],
   "source": []
  }
 ],
 "metadata": {
  "interpreter": {
   "hash": "81794d4967e6c3204c66dcd87b604927b115b27c00565d3d43f05ba2f3a2cb0d"
  },
  "kernelspec": {
   "display_name": "Python 3.9.5 64-bit",
   "language": "python",
   "name": "python3"
  },
  "language_info": {
   "codemirror_mode": {
    "name": "ipython",
    "version": 3
   },
   "file_extension": ".py",
   "mimetype": "text/x-python",
   "name": "python",
   "nbconvert_exporter": "python",
   "pygments_lexer": "ipython3",
   "version": "3.9.5"
  },
  "orig_nbformat": 4
 },
 "nbformat": 4,
 "nbformat_minor": 2
}
