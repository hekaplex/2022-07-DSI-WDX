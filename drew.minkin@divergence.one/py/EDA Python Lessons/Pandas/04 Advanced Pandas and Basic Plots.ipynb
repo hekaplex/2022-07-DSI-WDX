{
 "cells": [
  {
   "cell_type": "markdown",
   "metadata": {},
   "source": [
    "## Advanced Pandas, Basic Python Viz and Exercise\n",
    "\n",
    "### Exercise\n",
    "1. Use the same dataframes you generated or copied to this directory from the 03 Exercise:\n",
    "    1. Extract of any SQL database \n",
    "    1. Imported file from your capstone work\n",
    "    1. Any other data from other exercises you have aleady used\n",
    "1. Import into Pandas\n",
    "1. Generate at least three additional dataframes with analytics introduced in this notebook\n",
    "    1. Melt\n",
    "    1. Pivot\n",
    "    1. Quantile\n",
    "    1. Aggregations\n",
    "1. Build at least three  visualizations supported by Pandas directly using prior analytics from the 03 Exercise or new analytics from this exercise"
   ]
  },
  {
   "cell_type": "code",
   "execution_count": null,
   "metadata": {},
   "outputs": [],
   "source": [
    "!pip install openpyxl"
   ]
  },
  {
   "cell_type": "code",
   "execution_count": 2,
   "metadata": {},
   "outputs": [],
   "source": [
    "import pandas as pd"
   ]
  },
  {
   "cell_type": "markdown",
   "metadata": {},
   "source": [
    "## Get the data"
   ]
  },
  {
   "cell_type": "markdown",
   "metadata": {},
   "source": [
    "### Read a CSV file from a website into a DataFrame"
   ]
  },
  {
   "cell_type": "code",
   "execution_count": 3,
   "metadata": {},
   "outputs": [],
   "source": [
    "url = 'https://data.cdc.gov/api/views/v6ab-adf5/rows.csv?accessType=DOWNLOAD'\n",
    "mortality_data = pd.read_csv(url)"
   ]
  },
  {
   "cell_type": "code",
   "execution_count": null,
   "metadata": {},
   "outputs": [],
   "source": [
    "type(mortality_data)"
   ]
  },
  {
   "cell_type": "code",
   "execution_count": null,
   "metadata": {},
   "outputs": [],
   "source": [
    "mortality_data.info()"
   ]
  },
  {
   "cell_type": "code",
   "execution_count": null,
   "metadata": {},
   "outputs": [],
   "source": [
    "mortality_data.plot.line(x=\"Year\", y = \"Death Rate\")"
   ]
  },
  {
   "cell_type": "code",
   "execution_count": null,
   "metadata": {},
   "outputs": [],
   "source": [
    "mortality_data"
   ]
  },
  {
   "cell_type": "code",
   "execution_count": null,
   "metadata": {},
   "outputs": [],
   "source": [
    "# SELECT [Age Group] , Year, COUNT(*) GROUP BY [Age Group], Year\n",
    "mortality_data[['Age Group','Year']].value_counts()"
   ]
  },
  {
   "cell_type": "markdown",
   "metadata": {},
   "source": [
    "### Save and restore a DataFrame"
   ]
  },
  {
   "cell_type": "code",
   "execution_count": null,
   "metadata": {},
   "outputs": [],
   "source": [
    "mortality_data.to_pickle('mortality_data.pkl')"
   ]
  },
  {
   "cell_type": "code",
   "execution_count": null,
   "metadata": {},
   "outputs": [],
   "source": [
    "mortality_data = pd.read_pickle('mortality_data.pkl')"
   ]
  },
  {
   "cell_type": "code",
   "execution_count": null,
   "metadata": {},
   "outputs": [],
   "source": [
    "mortality_data.head()"
   ]
  },
  {
   "cell_type": "markdown",
   "metadata": {},
   "source": [
    "## Examine and clean the data"
   ]
  },
  {
   "cell_type": "code",
   "execution_count": null,
   "metadata": {},
   "outputs": [],
   "source": [
    "print(\"Index:  \", mortality_data.index)\n",
    "print(\"Columns:\", mortality_data.columns)\n",
    "print(\"Size:   \", mortality_data.size)\n",
    "print(\"Shape:  \", mortality_data.shape)"
   ]
  },
  {
   "cell_type": "markdown",
   "metadata": {},
   "source": [
    "### Use the columns attribute to replace spaces with nothing\n"
   ]
  },
  {
   "cell_type": "code",
   "execution_count": null,
   "metadata": {},
   "outputs": [],
   "source": [
    "mortality_data.columns = mortality_data.columns.str.replace(' ', '')\n",
    "mortality_data.columns"
   ]
  },
  {
   "cell_type": "code",
   "execution_count": null,
   "metadata": {},
   "outputs": [],
   "source": [
    "mortality_data.head()"
   ]
  },
  {
   "cell_type": "code",
   "execution_count": null,
   "metadata": {},
   "outputs": [],
   "source": [
    "mortality_data.describe().T"
   ]
  },
  {
   "cell_type": "code",
   "execution_count": null,
   "metadata": {},
   "outputs": [],
   "source": [
    "mortality_data.describe(include=\"O\").T"
   ]
  },
  {
   "cell_type": "code",
   "execution_count": null,
   "metadata": {},
   "outputs": [],
   "source": [
    "len(mortality_data.DeathRate.value_counts())"
   ]
  },
  {
   "cell_type": "code",
   "execution_count": null,
   "metadata": {},
   "outputs": [],
   "source": [
    "import numpy as np\n",
    "mortality_data['death_log']= np.log10(mortality_data['DeathRate'])"
   ]
  },
  {
   "cell_type": "code",
   "execution_count": null,
   "metadata": {},
   "outputs": [],
   "source": [
    "mortality_data.DeathRate.hist(bins=430)"
   ]
  },
  {
   "cell_type": "code",
   "execution_count": null,
   "metadata": {},
   "outputs": [],
   "source": [
    "mortality_data.death_log.hist(bins=75)"
   ]
  },
  {
   "cell_type": "code",
   "execution_count": null,
   "metadata": {},
   "outputs": [],
   "source": [
    "mortality_data.DeathRate.hist(bins=50)"
   ]
  },
  {
   "cell_type": "code",
   "execution_count": null,
   "metadata": {},
   "outputs": [],
   "source": [
    "mortality_data.describe(include='O')"
   ]
  },
  {
   "cell_type": "code",
   "execution_count": null,
   "metadata": {},
   "outputs": [],
   "source": [
    "mortality_data.describe().T"
   ]
  },
  {
   "cell_type": "markdown",
   "metadata": {},
   "source": [
    "## Access the data"
   ]
  },
  {
   "cell_type": "code",
   "execution_count": null,
   "metadata": {},
   "outputs": [],
   "source": [
    "mortality_data.query(\"Year == 2000 and AgeGroup != '1-4 Years'\").hist()"
   ]
  },
  {
   "cell_type": "code",
   "execution_count": null,
   "metadata": {},
   "outputs": [],
   "source": [
    "mortality_data.query('Year == 1900 or Year == 2000').head()"
   ]
  },
  {
   "cell_type": "code",
   "execution_count": null,
   "metadata": {},
   "outputs": [],
   "source": [
    "# use backticks if a column name contains spaces\n",
    "mortality_data.query('Year == 2000 and `AgeGroup` != \"1-4 Years\"')"
   ]
  },
  {
   "cell_type": "markdown",
   "metadata": {},
   "source": [
    "### Access a subset of rows and columns"
   ]
  },
  {
   "cell_type": "code",
   "execution_count": null,
   "metadata": {},
   "outputs": [],
   "source": [
    "mortality_data.query('Year == 1900').DeathRate.head()"
   ]
  },
  {
   "cell_type": "code",
   "execution_count": null,
   "metadata": {},
   "outputs": [],
   "source": [
    "mortality_data.query('Year == 1900')['DeathRate'].head()"
   ]
  },
  {
   "cell_type": "code",
   "execution_count": null,
   "metadata": {},
   "outputs": [],
   "source": [
    "mortality_data.query('Year == 1900')[['AgeGroup','DeathRate']].head()"
   ]
  },
  {
   "cell_type": "markdown",
   "metadata": {},
   "source": [
    "### Apply statistical methods"
   ]
  },
  {
   "cell_type": "code",
   "execution_count": 9,
   "metadata": {},
   "outputs": [],
   "source": [
    "#mean = sum of values / count of case/observation\n",
    "md_mu = mortality_data[\"Death Rate\"].mean()"
   ]
  },
  {
   "cell_type": "code",
   "execution_count": 8,
   "metadata": {},
   "outputs": [],
   "source": [
    "md_sigma = mortality_data[\"Death Rate\"].std()"
   ]
  },
  {
   "cell_type": "code",
   "execution_count": null,
   "metadata": {},
   "outputs": [],
   "source": [
    "#95% confidence interval is mean +/- 2 stdev\n",
    "print (\"deathrate is {} +/- {}\".format(md_mu,2*md_sigma))"
   ]
  },
  {
   "cell_type": "code",
   "execution_count": 12,
   "metadata": {},
   "outputs": [],
   "source": [
    "mortality_data['outlier'] = mortality_data['Death Rate'].apply(lambda x: True if ( x > md_mu + 2*md_sigma or x < md_mu - 2*md_sigma)  else False )\n"
   ]
  },
  {
   "cell_type": "code",
   "execution_count": 15,
   "metadata": {},
   "outputs": [
    {
     "data": {
      "text/plain": [
       "False    453\n",
       "True      23\n",
       "Name: outlier, dtype: int64"
      ]
     },
     "execution_count": 15,
     "metadata": {},
     "output_type": "execute_result"
    }
   ],
   "source": [
    "mortality_data.outlier.value_counts()"
   ]
  },
  {
   "cell_type": "code",
   "execution_count": null,
   "metadata": {},
   "outputs": [],
   "source": [
    "# line you draw for equal number of cases on either side\n",
    "mortality_data.DeathRate.median()"
   ]
  },
  {
   "cell_type": "code",
   "execution_count": null,
   "metadata": {},
   "outputs": [],
   "source": [
    "mortality_data[['AgeGroup','DeathRate']].max()"
   ]
  },
  {
   "cell_type": "code",
   "execution_count": null,
   "metadata": {},
   "outputs": [],
   "source": [
    "mortality_data.count()"
   ]
  },
  {
   "cell_type": "code",
   "execution_count": null,
   "metadata": {},
   "outputs": [],
   "source": [
    "[i/20 for i in range(0,20)]"
   ]
  },
  {
   "cell_type": "code",
   "execution_count": null,
   "metadata": {},
   "outputs": [],
   "source": [
    "mortality_data.quantile(0.5)"
   ]
  },
  {
   "cell_type": "code",
   "execution_count": null,
   "metadata": {},
   "outputs": [],
   "source": [
    "len(mortality_data)"
   ]
  },
  {
   "cell_type": "code",
   "execution_count": null,
   "metadata": {},
   "outputs": [],
   "source": [
    "#bins of 20 percentile cuts\n",
    "mort_dist = mortality_data.quantile([i/20 for i in range(0,20)])\n",
    "mort_dist[\"quantile\"] = mort_dist.index\n",
    "mort_dist\n"
   ]
  },
  {
   "cell_type": "code",
   "execution_count": null,
   "metadata": {},
   "outputs": [],
   "source": [
    "mort_dist.plot.line(y=\"quantile\", x = \"DeathRate\")"
   ]
  },
  {
   "cell_type": "code",
   "execution_count": null,
   "metadata": {},
   "outputs": [],
   "source": [
    "mort_dist.plot.line(y=\"quantile\", x = \"death_log\")"
   ]
  },
  {
   "cell_type": "code",
   "execution_count": null,
   "metadata": {},
   "outputs": [],
   "source": [
    "# compare with SUM() OVER in SQL\n",
    "mortality_data[\"CumDeathRate\"] = mortality_data.DeathRate.cumsum()\n",
    "mortality_data"
   ]
  },
  {
   "cell_type": "code",
   "execution_count": null,
   "metadata": {},
   "outputs": [],
   "source": [
    "mortality_data.plot.line( y = \"CumDeathRate\")"
   ]
  },
  {
   "cell_type": "markdown",
   "metadata": {},
   "source": [
    "### Use Python for column arithmetic"
   ]
  },
  {
   "cell_type": "code",
   "execution_count": null,
   "metadata": {},
   "outputs": [],
   "source": [
    "mortality_data['MeanCentered'] = \\\n",
    "    mortality_data.DeathRate - mortality_data.DeathRate.mean()"
   ]
  },
  {
   "cell_type": "code",
   "execution_count": null,
   "metadata": {},
   "outputs": [],
   "source": [
    "#mortality_data.head(4)\n",
    "mortality_data.MeanCentered.describe()"
   ]
  },
  {
   "cell_type": "code",
   "execution_count": null,
   "metadata": {},
   "outputs": [],
   "source": [
    "mortality_data['DeathRate'] = mortality_data.DeathRate / 100000"
   ]
  },
  {
   "cell_type": "code",
   "execution_count": null,
   "metadata": {},
   "outputs": [],
   "source": [
    "mortality_data.head(4)"
   ]
  },
  {
   "cell_type": "markdown",
   "metadata": {},
   "source": [
    "## Shape the data"
   ]
  },
  {
   "cell_type": "markdown",
   "metadata": {},
   "source": [
    "### Set and use an index"
   ]
  },
  {
   "cell_type": "code",
   "execution_count": 80,
   "metadata": {},
   "outputs": [
    {
     "data": {
      "text/html": [
       "<div>\n",
       "<style scoped>\n",
       "    .dataframe tbody tr th:only-of-type {\n",
       "        vertical-align: middle;\n",
       "    }\n",
       "\n",
       "    .dataframe tbody tr th {\n",
       "        vertical-align: top;\n",
       "    }\n",
       "\n",
       "    .dataframe thead th {\n",
       "        text-align: right;\n",
       "    }\n",
       "</style>\n",
       "<table border=\"1\" class=\"dataframe\">\n",
       "  <thead>\n",
       "    <tr style=\"text-align: right;\">\n",
       "      <th></th>\n",
       "      <th>AgeGroup</th>\n",
       "      <th>DeathRate</th>\n",
       "      <th>death_log</th>\n",
       "      <th>CumDeathRate</th>\n",
       "      <th>MeanCentered</th>\n",
       "    </tr>\n",
       "    <tr>\n",
       "      <th>Year</th>\n",
       "      <th></th>\n",
       "      <th></th>\n",
       "      <th></th>\n",
       "      <th></th>\n",
       "      <th></th>\n",
       "    </tr>\n",
       "  </thead>\n",
       "  <tbody>\n",
       "    <tr>\n",
       "      <th>1900</th>\n",
       "      <td>1-4 Years</td>\n",
       "      <td>0.019838</td>\n",
       "      <td>3.297498</td>\n",
       "      <td>1983.8</td>\n",
       "      <td>1790.87584</td>\n",
       "    </tr>\n",
       "    <tr>\n",
       "      <th>1901</th>\n",
       "      <td>1-4 Years</td>\n",
       "      <td>0.016950</td>\n",
       "      <td>3.229170</td>\n",
       "      <td>3678.8</td>\n",
       "      <td>1502.07584</td>\n",
       "    </tr>\n",
       "  </tbody>\n",
       "</table>\n",
       "</div>"
      ],
      "text/plain": [
       "       AgeGroup  DeathRate  death_log  CumDeathRate  MeanCentered\n",
       "Year                                                             \n",
       "1900  1-4 Years   0.019838   3.297498        1983.8    1790.87584\n",
       "1901  1-4 Years   0.016950   3.229170        3678.8    1502.07584"
      ]
     },
     "execution_count": 80,
     "metadata": {},
     "output_type": "execute_result"
    }
   ],
   "source": [
    "mortality_data = mortality_data.set_index('Year')\n",
    "mortality_data.head(2)"
   ]
  },
  {
   "cell_type": "code",
   "execution_count": 81,
   "metadata": {},
   "outputs": [
    {
     "data": {
      "text/plain": [
       "476"
      ]
     },
     "execution_count": 81,
     "metadata": {},
     "output_type": "execute_result"
    }
   ],
   "source": [
    "len(mortality_data)"
   ]
  },
  {
   "cell_type": "code",
   "execution_count": 85,
   "metadata": {},
   "outputs": [
    {
     "data": {
      "text/html": [
       "<div>\n",
       "<style scoped>\n",
       "    .dataframe tbody tr th:only-of-type {\n",
       "        vertical-align: middle;\n",
       "    }\n",
       "\n",
       "    .dataframe tbody tr th {\n",
       "        vertical-align: top;\n",
       "    }\n",
       "\n",
       "    .dataframe thead th {\n",
       "        text-align: right;\n",
       "    }\n",
       "</style>\n",
       "<table border=\"1\" class=\"dataframe\">\n",
       "  <thead>\n",
       "    <tr style=\"text-align: right;\">\n",
       "      <th></th>\n",
       "      <th>Year</th>\n",
       "      <th>AgeGroup</th>\n",
       "      <th>DeathRate</th>\n",
       "      <th>death_log</th>\n",
       "      <th>CumDeathRate</th>\n",
       "      <th>MeanCentered</th>\n",
       "    </tr>\n",
       "  </thead>\n",
       "  <tbody>\n",
       "    <tr>\n",
       "      <th>0</th>\n",
       "      <td>1900</td>\n",
       "      <td>1-4 Years</td>\n",
       "      <td>0.019838</td>\n",
       "      <td>3.297498</td>\n",
       "      <td>1983.8</td>\n",
       "      <td>1790.87584</td>\n",
       "    </tr>\n",
       "    <tr>\n",
       "      <th>1</th>\n",
       "      <td>1901</td>\n",
       "      <td>1-4 Years</td>\n",
       "      <td>0.016950</td>\n",
       "      <td>3.229170</td>\n",
       "      <td>3678.8</td>\n",
       "      <td>1502.07584</td>\n",
       "    </tr>\n",
       "    <tr>\n",
       "      <th>2</th>\n",
       "      <td>1902</td>\n",
       "      <td>1-4 Years</td>\n",
       "      <td>0.016557</td>\n",
       "      <td>3.218982</td>\n",
       "      <td>5334.5</td>\n",
       "      <td>1462.77584</td>\n",
       "    </tr>\n",
       "    <tr>\n",
       "      <th>3</th>\n",
       "      <td>1903</td>\n",
       "      <td>1-4 Years</td>\n",
       "      <td>0.015421</td>\n",
       "      <td>3.188113</td>\n",
       "      <td>6876.6</td>\n",
       "      <td>1349.17584</td>\n",
       "    </tr>\n",
       "    <tr>\n",
       "      <th>4</th>\n",
       "      <td>1904</td>\n",
       "      <td>1-4 Years</td>\n",
       "      <td>0.015915</td>\n",
       "      <td>3.201807</td>\n",
       "      <td>8468.1</td>\n",
       "      <td>1398.57584</td>\n",
       "    </tr>\n",
       "    <tr>\n",
       "      <th>...</th>\n",
       "      <td>...</td>\n",
       "      <td>...</td>\n",
       "      <td>...</td>\n",
       "      <td>...</td>\n",
       "      <td>...</td>\n",
       "      <td>...</td>\n",
       "    </tr>\n",
       "    <tr>\n",
       "      <th>471</th>\n",
       "      <td>2014</td>\n",
       "      <td>15-19 Years</td>\n",
       "      <td>0.000455</td>\n",
       "      <td>1.658011</td>\n",
       "      <td>91631.7</td>\n",
       "      <td>-147.42416</td>\n",
       "    </tr>\n",
       "    <tr>\n",
       "      <th>472</th>\n",
       "      <td>2015</td>\n",
       "      <td>15-19 Years</td>\n",
       "      <td>0.000483</td>\n",
       "      <td>1.683947</td>\n",
       "      <td>91680.0</td>\n",
       "      <td>-144.62416</td>\n",
       "    </tr>\n",
       "    <tr>\n",
       "      <th>473</th>\n",
       "      <td>2016</td>\n",
       "      <td>15-19 Years</td>\n",
       "      <td>0.000512</td>\n",
       "      <td>1.709270</td>\n",
       "      <td>91731.2</td>\n",
       "      <td>-141.72416</td>\n",
       "    </tr>\n",
       "    <tr>\n",
       "      <th>474</th>\n",
       "      <td>2017</td>\n",
       "      <td>15-19 Years</td>\n",
       "      <td>0.000515</td>\n",
       "      <td>1.711807</td>\n",
       "      <td>91782.7</td>\n",
       "      <td>-141.42416</td>\n",
       "    </tr>\n",
       "    <tr>\n",
       "      <th>475</th>\n",
       "      <td>2018</td>\n",
       "      <td>15-19 Years</td>\n",
       "      <td>0.000492</td>\n",
       "      <td>1.691965</td>\n",
       "      <td>91831.9</td>\n",
       "      <td>-143.72416</td>\n",
       "    </tr>\n",
       "  </tbody>\n",
       "</table>\n",
       "<p>476 rows × 6 columns</p>\n",
       "</div>"
      ],
      "text/plain": [
       "     Year     AgeGroup  DeathRate  death_log  CumDeathRate  MeanCentered\n",
       "0    1900    1-4 Years   0.019838   3.297498        1983.8    1790.87584\n",
       "1    1901    1-4 Years   0.016950   3.229170        3678.8    1502.07584\n",
       "2    1902    1-4 Years   0.016557   3.218982        5334.5    1462.77584\n",
       "3    1903    1-4 Years   0.015421   3.188113        6876.6    1349.17584\n",
       "4    1904    1-4 Years   0.015915   3.201807        8468.1    1398.57584\n",
       "..    ...          ...        ...        ...           ...           ...\n",
       "471  2014  15-19 Years   0.000455   1.658011       91631.7    -147.42416\n",
       "472  2015  15-19 Years   0.000483   1.683947       91680.0    -144.62416\n",
       "473  2016  15-19 Years   0.000512   1.709270       91731.2    -141.72416\n",
       "474  2017  15-19 Years   0.000515   1.711807       91782.7    -141.42416\n",
       "475  2018  15-19 Years   0.000492   1.691965       91831.9    -143.72416\n",
       "\n",
       "[476 rows x 6 columns]"
      ]
     },
     "execution_count": 85,
     "metadata": {},
     "output_type": "execute_result"
    }
   ],
   "source": [
    "mortality_data.reset_index(inplace=True)\n",
    "mortality_data"
   ]
  },
  {
   "cell_type": "code",
   "execution_count": null,
   "metadata": {},
   "outputs": [],
   "source": [
    "# NOTE: the following line of code causes ValueError: Index has duplicate keys\n",
    "# mortality_data = mortality_data.set_index('Year', verify_integrity=True)\n",
    "mortality_data"
   ]
  },
  {
   "cell_type": "code",
   "execution_count": 86,
   "metadata": {},
   "outputs": [
    {
     "data": {
      "text/html": [
       "<div>\n",
       "<style scoped>\n",
       "    .dataframe tbody tr th:only-of-type {\n",
       "        vertical-align: middle;\n",
       "    }\n",
       "\n",
       "    .dataframe tbody tr th {\n",
       "        vertical-align: top;\n",
       "    }\n",
       "\n",
       "    .dataframe thead th {\n",
       "        text-align: right;\n",
       "    }\n",
       "</style>\n",
       "<table border=\"1\" class=\"dataframe\">\n",
       "  <thead>\n",
       "    <tr style=\"text-align: right;\">\n",
       "      <th></th>\n",
       "      <th></th>\n",
       "      <th>DeathRate</th>\n",
       "      <th>death_log</th>\n",
       "      <th>CumDeathRate</th>\n",
       "      <th>MeanCentered</th>\n",
       "    </tr>\n",
       "    <tr>\n",
       "      <th>Year</th>\n",
       "      <th>AgeGroup</th>\n",
       "      <th></th>\n",
       "      <th></th>\n",
       "      <th></th>\n",
       "      <th></th>\n",
       "    </tr>\n",
       "  </thead>\n",
       "  <tbody>\n",
       "    <tr>\n",
       "      <th>1900</th>\n",
       "      <th>1-4 Years</th>\n",
       "      <td>0.019838</td>\n",
       "      <td>3.297498</td>\n",
       "      <td>1983.8</td>\n",
       "      <td>1790.87584</td>\n",
       "    </tr>\n",
       "    <tr>\n",
       "      <th>1901</th>\n",
       "      <th>1-4 Years</th>\n",
       "      <td>0.016950</td>\n",
       "      <td>3.229170</td>\n",
       "      <td>3678.8</td>\n",
       "      <td>1502.07584</td>\n",
       "    </tr>\n",
       "  </tbody>\n",
       "</table>\n",
       "</div>"
      ],
      "text/plain": [
       "                DeathRate  death_log  CumDeathRate  MeanCentered\n",
       "Year AgeGroup                                                   \n",
       "1900 1-4 Years   0.019838   3.297498        1983.8    1790.87584\n",
       "1901 1-4 Years   0.016950   3.229170        3678.8    1502.07584"
      ]
     },
     "execution_count": 86,
     "metadata": {},
     "output_type": "execute_result"
    }
   ],
   "source": [
    "mortality_data = mortality_data.set_index(\n",
    "    ['Year','AgeGroup'], verify_integrity=True)\n",
    "mortality_data.head(2)"
   ]
  },
  {
   "cell_type": "code",
   "execution_count": 87,
   "metadata": {
    "scrolled": true
   },
   "outputs": [
    {
     "data": {
      "text/html": [
       "<div>\n",
       "<style scoped>\n",
       "    .dataframe tbody tr th:only-of-type {\n",
       "        vertical-align: middle;\n",
       "    }\n",
       "\n",
       "    .dataframe tbody tr th {\n",
       "        vertical-align: top;\n",
       "    }\n",
       "\n",
       "    .dataframe thead th {\n",
       "        text-align: right;\n",
       "    }\n",
       "</style>\n",
       "<table border=\"1\" class=\"dataframe\">\n",
       "  <thead>\n",
       "    <tr style=\"text-align: right;\">\n",
       "      <th></th>\n",
       "      <th>Year</th>\n",
       "      <th>AgeGroup</th>\n",
       "      <th>DeathRate</th>\n",
       "      <th>death_log</th>\n",
       "      <th>CumDeathRate</th>\n",
       "      <th>MeanCentered</th>\n",
       "    </tr>\n",
       "  </thead>\n",
       "  <tbody>\n",
       "    <tr>\n",
       "      <th>0</th>\n",
       "      <td>1900</td>\n",
       "      <td>1-4 Years</td>\n",
       "      <td>0.019838</td>\n",
       "      <td>3.297498</td>\n",
       "      <td>1983.8</td>\n",
       "      <td>1790.87584</td>\n",
       "    </tr>\n",
       "    <tr>\n",
       "      <th>1</th>\n",
       "      <td>1901</td>\n",
       "      <td>1-4 Years</td>\n",
       "      <td>0.016950</td>\n",
       "      <td>3.229170</td>\n",
       "      <td>3678.8</td>\n",
       "      <td>1502.07584</td>\n",
       "    </tr>\n",
       "  </tbody>\n",
       "</table>\n",
       "</div>"
      ],
      "text/plain": [
       "   Year   AgeGroup  DeathRate  death_log  CumDeathRate  MeanCentered\n",
       "0  1900  1-4 Years   0.019838   3.297498        1983.8    1790.87584\n",
       "1  1901  1-4 Years   0.016950   3.229170        3678.8    1502.07584"
      ]
     },
     "execution_count": 87,
     "metadata": {},
     "output_type": "execute_result"
    }
   ],
   "source": [
    "mortality_data.reset_index(inplace=True)\n",
    "mortality_data.head(2)"
   ]
  },
  {
   "cell_type": "markdown",
   "metadata": {},
   "source": [
    "### Pivot the data"
   ]
  },
  {
   "cell_type": "code",
   "execution_count": 88,
   "metadata": {},
   "outputs": [
    {
     "data": {
      "text/html": [
       "<div>\n",
       "<style scoped>\n",
       "    .dataframe tbody tr th:only-of-type {\n",
       "        vertical-align: middle;\n",
       "    }\n",
       "\n",
       "    .dataframe tbody tr th {\n",
       "        vertical-align: top;\n",
       "    }\n",
       "\n",
       "    .dataframe thead tr th {\n",
       "        text-align: left;\n",
       "    }\n",
       "\n",
       "    .dataframe thead tr:last-of-type th {\n",
       "        text-align: right;\n",
       "    }\n",
       "</style>\n",
       "<table border=\"1\" class=\"dataframe\">\n",
       "  <thead>\n",
       "    <tr>\n",
       "      <th></th>\n",
       "      <th colspan=\"4\" halign=\"left\">DeathRate</th>\n",
       "      <th colspan=\"4\" halign=\"left\">MeanCentered</th>\n",
       "    </tr>\n",
       "    <tr>\n",
       "      <th>AgeGroup</th>\n",
       "      <th>1-4 Years</th>\n",
       "      <th>10-14 Years</th>\n",
       "      <th>15-19 Years</th>\n",
       "      <th>5-9 Years</th>\n",
       "      <th>1-4 Years</th>\n",
       "      <th>10-14 Years</th>\n",
       "      <th>15-19 Years</th>\n",
       "      <th>5-9 Years</th>\n",
       "    </tr>\n",
       "    <tr>\n",
       "      <th>Year</th>\n",
       "      <th></th>\n",
       "      <th></th>\n",
       "      <th></th>\n",
       "      <th></th>\n",
       "      <th></th>\n",
       "      <th></th>\n",
       "      <th></th>\n",
       "      <th></th>\n",
       "    </tr>\n",
       "  </thead>\n",
       "  <tbody>\n",
       "    <tr>\n",
       "      <th>1900</th>\n",
       "      <td>0.019838</td>\n",
       "      <td>0.002983</td>\n",
       "      <td>0.004848</td>\n",
       "      <td>0.004661</td>\n",
       "      <td>1790.87584</td>\n",
       "      <td>105.37584</td>\n",
       "      <td>291.87584</td>\n",
       "      <td>273.17584</td>\n",
       "    </tr>\n",
       "    <tr>\n",
       "      <th>1901</th>\n",
       "      <td>0.016950</td>\n",
       "      <td>0.002736</td>\n",
       "      <td>0.004544</td>\n",
       "      <td>0.004276</td>\n",
       "      <td>1502.07584</td>\n",
       "      <td>80.67584</td>\n",
       "      <td>261.47584</td>\n",
       "      <td>234.67584</td>\n",
       "    </tr>\n",
       "    <tr>\n",
       "      <th>1902</th>\n",
       "      <td>0.016557</td>\n",
       "      <td>0.002525</td>\n",
       "      <td>0.004215</td>\n",
       "      <td>0.004033</td>\n",
       "      <td>1462.77584</td>\n",
       "      <td>59.57584</td>\n",
       "      <td>228.57584</td>\n",
       "      <td>210.37584</td>\n",
       "    </tr>\n",
       "  </tbody>\n",
       "</table>\n",
       "</div>"
      ],
      "text/plain": [
       "         DeathRate                                   MeanCentered              \\\n",
       "AgeGroup 1-4 Years 10-14 Years 15-19 Years 5-9 Years    1-4 Years 10-14 Years   \n",
       "Year                                                                            \n",
       "1900      0.019838    0.002983    0.004848  0.004661   1790.87584   105.37584   \n",
       "1901      0.016950    0.002736    0.004544  0.004276   1502.07584    80.67584   \n",
       "1902      0.016557    0.002525    0.004215  0.004033   1462.77584    59.57584   \n",
       "\n",
       "                                 \n",
       "AgeGroup 15-19 Years  5-9 Years  \n",
       "Year                             \n",
       "1900       291.87584  273.17584  \n",
       "1901       261.47584  234.67584  \n",
       "1902       228.57584  210.37584  "
      ]
     },
     "execution_count": 88,
     "metadata": {},
     "output_type": "execute_result"
    }
   ],
   "source": [
    "mortality_wide = mortality_data.pivot(\n",
    "    index='Year', columns='AgeGroup', values=['DeathRate','MeanCentered'])\n",
    "mortality_wide.head(3)"
   ]
  },
  {
   "cell_type": "code",
   "execution_count": 91,
   "metadata": {},
   "outputs": [
    {
     "data": {
      "text/plain": [
       "476"
      ]
     },
     "execution_count": 91,
     "metadata": {},
     "output_type": "execute_result"
    }
   ],
   "source": [
    "len(mortality_wide)"
   ]
  },
  {
   "cell_type": "code",
   "execution_count": 90,
   "metadata": {},
   "outputs": [
    {
     "data": {
      "text/html": [
       "<div>\n",
       "<style scoped>\n",
       "    .dataframe tbody tr th:only-of-type {\n",
       "        vertical-align: middle;\n",
       "    }\n",
       "\n",
       "    .dataframe tbody tr th {\n",
       "        vertical-align: top;\n",
       "    }\n",
       "\n",
       "    .dataframe thead th {\n",
       "        text-align: right;\n",
       "    }\n",
       "</style>\n",
       "<table border=\"1\" class=\"dataframe\">\n",
       "  <thead>\n",
       "    <tr style=\"text-align: right;\">\n",
       "      <th></th>\n",
       "      <th>AgeGroup</th>\n",
       "      <th>1-4 Years</th>\n",
       "      <th>10-14 Years</th>\n",
       "      <th>15-19 Years</th>\n",
       "      <th>5-9 Years</th>\n",
       "    </tr>\n",
       "    <tr>\n",
       "      <th>Year</th>\n",
       "      <th>MeanCentered</th>\n",
       "      <th></th>\n",
       "      <th></th>\n",
       "      <th></th>\n",
       "      <th></th>\n",
       "    </tr>\n",
       "  </thead>\n",
       "  <tbody>\n",
       "    <tr>\n",
       "      <th rowspan=\"3\" valign=\"top\">1900</th>\n",
       "      <th>105.37584</th>\n",
       "      <td>NaN</td>\n",
       "      <td>0.002983</td>\n",
       "      <td>NaN</td>\n",
       "      <td>NaN</td>\n",
       "    </tr>\n",
       "    <tr>\n",
       "      <th>273.17584</th>\n",
       "      <td>NaN</td>\n",
       "      <td>NaN</td>\n",
       "      <td>NaN</td>\n",
       "      <td>0.004661</td>\n",
       "    </tr>\n",
       "    <tr>\n",
       "      <th>291.87584</th>\n",
       "      <td>NaN</td>\n",
       "      <td>NaN</td>\n",
       "      <td>0.004848</td>\n",
       "      <td>NaN</td>\n",
       "    </tr>\n",
       "  </tbody>\n",
       "</table>\n",
       "</div>"
      ],
      "text/plain": [
       "AgeGroup           1-4 Years  10-14 Years  15-19 Years  5-9 Years\n",
       "Year MeanCentered                                                \n",
       "1900 105.37584           NaN     0.002983          NaN        NaN\n",
       "     273.17584           NaN          NaN          NaN   0.004661\n",
       "     291.87584           NaN          NaN     0.004848        NaN"
      ]
     },
     "execution_count": 90,
     "metadata": {},
     "output_type": "execute_result"
    }
   ],
   "source": [
    "mortality_wide = mortality_data.pivot(\n",
    "    index=['Year','MeanCentered'], columns='AgeGroup', values='DeathRate')\n",
    "mortality_wide.head(3)    "
   ]
  },
  {
   "cell_type": "code",
   "execution_count": 92,
   "metadata": {
    "tags": []
   },
   "outputs": [
    {
     "data": {
      "text/html": [
       "<div>\n",
       "<style scoped>\n",
       "    .dataframe tbody tr th:only-of-type {\n",
       "        vertical-align: middle;\n",
       "    }\n",
       "\n",
       "    .dataframe tbody tr th {\n",
       "        vertical-align: top;\n",
       "    }\n",
       "\n",
       "    .dataframe thead tr th {\n",
       "        text-align: left;\n",
       "    }\n",
       "\n",
       "    .dataframe thead tr:last-of-type th {\n",
       "        text-align: right;\n",
       "    }\n",
       "</style>\n",
       "<table border=\"1\" class=\"dataframe\">\n",
       "  <thead>\n",
       "    <tr>\n",
       "      <th></th>\n",
       "      <th colspan=\"4\" halign=\"left\">DeathRate</th>\n",
       "      <th colspan=\"4\" halign=\"left\">death_log</th>\n",
       "      <th colspan=\"4\" halign=\"left\">CumDeathRate</th>\n",
       "      <th colspan=\"4\" halign=\"left\">MeanCentered</th>\n",
       "    </tr>\n",
       "    <tr>\n",
       "      <th>AgeGroup</th>\n",
       "      <th>1-4 Years</th>\n",
       "      <th>10-14 Years</th>\n",
       "      <th>15-19 Years</th>\n",
       "      <th>5-9 Years</th>\n",
       "      <th>1-4 Years</th>\n",
       "      <th>10-14 Years</th>\n",
       "      <th>15-19 Years</th>\n",
       "      <th>5-9 Years</th>\n",
       "      <th>1-4 Years</th>\n",
       "      <th>10-14 Years</th>\n",
       "      <th>15-19 Years</th>\n",
       "      <th>5-9 Years</th>\n",
       "      <th>1-4 Years</th>\n",
       "      <th>10-14 Years</th>\n",
       "      <th>15-19 Years</th>\n",
       "      <th>5-9 Years</th>\n",
       "    </tr>\n",
       "    <tr>\n",
       "      <th>Year</th>\n",
       "      <th></th>\n",
       "      <th></th>\n",
       "      <th></th>\n",
       "      <th></th>\n",
       "      <th></th>\n",
       "      <th></th>\n",
       "      <th></th>\n",
       "      <th></th>\n",
       "      <th></th>\n",
       "      <th></th>\n",
       "      <th></th>\n",
       "      <th></th>\n",
       "      <th></th>\n",
       "      <th></th>\n",
       "      <th></th>\n",
       "      <th></th>\n",
       "    </tr>\n",
       "  </thead>\n",
       "  <tbody>\n",
       "    <tr>\n",
       "      <th>1900</th>\n",
       "      <td>0.019838</td>\n",
       "      <td>0.002983</td>\n",
       "      <td>0.004848</td>\n",
       "      <td>0.004661</td>\n",
       "      <td>3.297498</td>\n",
       "      <td>2.474653</td>\n",
       "      <td>2.685563</td>\n",
       "      <td>2.668479</td>\n",
       "      <td>1983.8</td>\n",
       "      <td>59864.0</td>\n",
       "      <td>71209.1</td>\n",
       "      <td>46070.0</td>\n",
       "      <td>1790.87584</td>\n",
       "      <td>105.37584</td>\n",
       "      <td>291.87584</td>\n",
       "      <td>273.17584</td>\n",
       "    </tr>\n",
       "    <tr>\n",
       "      <th>1901</th>\n",
       "      <td>0.016950</td>\n",
       "      <td>0.002736</td>\n",
       "      <td>0.004544</td>\n",
       "      <td>0.004276</td>\n",
       "      <td>3.229170</td>\n",
       "      <td>2.437116</td>\n",
       "      <td>2.657438</td>\n",
       "      <td>2.631038</td>\n",
       "      <td>3678.8</td>\n",
       "      <td>60137.6</td>\n",
       "      <td>71663.5</td>\n",
       "      <td>46497.6</td>\n",
       "      <td>1502.07584</td>\n",
       "      <td>80.67584</td>\n",
       "      <td>261.47584</td>\n",
       "      <td>234.67584</td>\n",
       "    </tr>\n",
       "    <tr>\n",
       "      <th>1902</th>\n",
       "      <td>0.016557</td>\n",
       "      <td>0.002525</td>\n",
       "      <td>0.004215</td>\n",
       "      <td>0.004033</td>\n",
       "      <td>3.218982</td>\n",
       "      <td>2.402261</td>\n",
       "      <td>2.624798</td>\n",
       "      <td>2.605628</td>\n",
       "      <td>5334.5</td>\n",
       "      <td>60390.1</td>\n",
       "      <td>72085.0</td>\n",
       "      <td>46900.9</td>\n",
       "      <td>1462.77584</td>\n",
       "      <td>59.57584</td>\n",
       "      <td>228.57584</td>\n",
       "      <td>210.37584</td>\n",
       "    </tr>\n",
       "  </tbody>\n",
       "</table>\n",
       "</div>"
      ],
      "text/plain": [
       "         DeathRate                                   death_log              \\\n",
       "AgeGroup 1-4 Years 10-14 Years 15-19 Years 5-9 Years 1-4 Years 10-14 Years   \n",
       "Year                                                                         \n",
       "1900      0.019838    0.002983    0.004848  0.004661  3.297498    2.474653   \n",
       "1901      0.016950    0.002736    0.004544  0.004276  3.229170    2.437116   \n",
       "1902      0.016557    0.002525    0.004215  0.004033  3.218982    2.402261   \n",
       "\n",
       "                               CumDeathRate                                    \\\n",
       "AgeGroup 15-19 Years 5-9 Years    1-4 Years 10-14 Years 15-19 Years 5-9 Years   \n",
       "Year                                                                            \n",
       "1900        2.685563  2.668479       1983.8     59864.0     71209.1   46070.0   \n",
       "1901        2.657438  2.631038       3678.8     60137.6     71663.5   46497.6   \n",
       "1902        2.624798  2.605628       5334.5     60390.1     72085.0   46900.9   \n",
       "\n",
       "         MeanCentered                                     \n",
       "AgeGroup    1-4 Years 10-14 Years 15-19 Years  5-9 Years  \n",
       "Year                                                      \n",
       "1900       1790.87584   105.37584   291.87584  273.17584  \n",
       "1901       1502.07584    80.67584   261.47584  234.67584  \n",
       "1902       1462.77584    59.57584   228.57584  210.37584  "
      ]
     },
     "execution_count": 92,
     "metadata": {},
     "output_type": "execute_result"
    }
   ],
   "source": [
    "mortality_wide = mortality_data.pivot(\n",
    "    index='Year', columns='AgeGroup')\n",
    "mortality_wide.head(3)"
   ]
  },
  {
   "cell_type": "code",
   "execution_count": 94,
   "metadata": {},
   "outputs": [],
   "source": [
    "mortality_wide.to_csv(\"mortality_wide.csv\")"
   ]
  },
  {
   "cell_type": "code",
   "execution_count": 93,
   "metadata": {},
   "outputs": [
    {
     "data": {
      "text/plain": [
       "(119, 16)"
      ]
     },
     "execution_count": 93,
     "metadata": {},
     "output_type": "execute_result"
    }
   ],
   "source": [
    "mortality_wide.shape"
   ]
  },
  {
   "cell_type": "markdown",
   "metadata": {},
   "source": [
    "### Melt the data"
   ]
  },
  {
   "cell_type": "code",
   "execution_count": 95,
   "metadata": {},
   "outputs": [
    {
     "data": {
      "text/html": [
       "<div>\n",
       "<style scoped>\n",
       "    .dataframe tbody tr th:only-of-type {\n",
       "        vertical-align: middle;\n",
       "    }\n",
       "\n",
       "    .dataframe tbody tr th {\n",
       "        vertical-align: top;\n",
       "    }\n",
       "\n",
       "    .dataframe thead th {\n",
       "        text-align: right;\n",
       "    }\n",
       "</style>\n",
       "<table border=\"1\" class=\"dataframe\">\n",
       "  <thead>\n",
       "    <tr style=\"text-align: right;\">\n",
       "      <th>AgeGroup</th>\n",
       "      <th>1-4 Years</th>\n",
       "      <th>10-14 Years</th>\n",
       "      <th>15-19 Years</th>\n",
       "      <th>5-9 Years</th>\n",
       "    </tr>\n",
       "    <tr>\n",
       "      <th>Year</th>\n",
       "      <th></th>\n",
       "      <th></th>\n",
       "      <th></th>\n",
       "      <th></th>\n",
       "    </tr>\n",
       "  </thead>\n",
       "  <tbody>\n",
       "    <tr>\n",
       "      <th>1900</th>\n",
       "      <td>0.019838</td>\n",
       "      <td>0.002983</td>\n",
       "      <td>0.004848</td>\n",
       "      <td>0.004661</td>\n",
       "    </tr>\n",
       "    <tr>\n",
       "      <th>1901</th>\n",
       "      <td>0.016950</td>\n",
       "      <td>0.002736</td>\n",
       "      <td>0.004544</td>\n",
       "      <td>0.004276</td>\n",
       "    </tr>\n",
       "    <tr>\n",
       "      <th>1902</th>\n",
       "      <td>0.016557</td>\n",
       "      <td>0.002525</td>\n",
       "      <td>0.004215</td>\n",
       "      <td>0.004033</td>\n",
       "    </tr>\n",
       "  </tbody>\n",
       "</table>\n",
       "</div>"
      ],
      "text/plain": [
       "AgeGroup  1-4 Years  10-14 Years  15-19 Years  5-9 Years\n",
       "Year                                                    \n",
       "1900       0.019838     0.002983     0.004848   0.004661\n",
       "1901       0.016950     0.002736     0.004544   0.004276\n",
       "1902       0.016557     0.002525     0.004215   0.004033"
      ]
     },
     "execution_count": 95,
     "metadata": {},
     "output_type": "execute_result"
    }
   ],
   "source": [
    "mortality_wide = mortality_data.pivot(\n",
    "    index='Year', columns='AgeGroup', values='DeathRate')\n",
    "mortality_wide.head(3)"
   ]
  },
  {
   "cell_type": "code",
   "execution_count": 96,
   "metadata": {},
   "outputs": [
    {
     "data": {
      "text/html": [
       "<div>\n",
       "<style scoped>\n",
       "    .dataframe tbody tr th:only-of-type {\n",
       "        vertical-align: middle;\n",
       "    }\n",
       "\n",
       "    .dataframe tbody tr th {\n",
       "        vertical-align: top;\n",
       "    }\n",
       "\n",
       "    .dataframe thead th {\n",
       "        text-align: right;\n",
       "    }\n",
       "</style>\n",
       "<table border=\"1\" class=\"dataframe\">\n",
       "  <thead>\n",
       "    <tr style=\"text-align: right;\">\n",
       "      <th></th>\n",
       "      <th>Year</th>\n",
       "      <th>1-4 Years</th>\n",
       "      <th>10-14 Years</th>\n",
       "      <th>15-19 Years</th>\n",
       "      <th>5-9 Years</th>\n",
       "    </tr>\n",
       "  </thead>\n",
       "  <tbody>\n",
       "    <tr>\n",
       "      <th>0</th>\n",
       "      <td>1900</td>\n",
       "      <td>0.019838</td>\n",
       "      <td>0.002983</td>\n",
       "      <td>0.004848</td>\n",
       "      <td>0.004661</td>\n",
       "    </tr>\n",
       "    <tr>\n",
       "      <th>1</th>\n",
       "      <td>1901</td>\n",
       "      <td>0.016950</td>\n",
       "      <td>0.002736</td>\n",
       "      <td>0.004544</td>\n",
       "      <td>0.004276</td>\n",
       "    </tr>\n",
       "    <tr>\n",
       "      <th>2</th>\n",
       "      <td>1902</td>\n",
       "      <td>0.016557</td>\n",
       "      <td>0.002525</td>\n",
       "      <td>0.004215</td>\n",
       "      <td>0.004033</td>\n",
       "    </tr>\n",
       "    <tr>\n",
       "      <th>3</th>\n",
       "      <td>1903</td>\n",
       "      <td>0.015421</td>\n",
       "      <td>0.002682</td>\n",
       "      <td>0.004341</td>\n",
       "      <td>0.004147</td>\n",
       "    </tr>\n",
       "  </tbody>\n",
       "</table>\n",
       "</div>"
      ],
      "text/plain": [
       "   Year  1-4 Years  10-14 Years  15-19 Years  5-9 Years\n",
       "0  1900   0.019838     0.002983     0.004848   0.004661\n",
       "1  1901   0.016950     0.002736     0.004544   0.004276\n",
       "2  1902   0.016557     0.002525     0.004215   0.004033\n",
       "3  1903   0.015421     0.002682     0.004341   0.004147"
      ]
     },
     "execution_count": 96,
     "metadata": {},
     "output_type": "execute_result"
    }
   ],
   "source": [
    "# get starting data\n",
    "\n",
    "\n",
    "# save to Excel format to remove indexes\n",
    "mortality_wide.to_excel('mortality_wide.xlsx')\n",
    "mortality_wide = pd.read_excel('mortality_wide.xlsx')\n",
    "\n",
    "mortality_wide.head(4)"
   ]
  },
  {
   "cell_type": "code",
   "execution_count": 97,
   "metadata": {},
   "outputs": [
    {
     "data": {
      "text/html": [
       "<div>\n",
       "<style scoped>\n",
       "    .dataframe tbody tr th:only-of-type {\n",
       "        vertical-align: middle;\n",
       "    }\n",
       "\n",
       "    .dataframe tbody tr th {\n",
       "        vertical-align: top;\n",
       "    }\n",
       "\n",
       "    .dataframe thead th {\n",
       "        text-align: right;\n",
       "    }\n",
       "</style>\n",
       "<table border=\"1\" class=\"dataframe\">\n",
       "  <thead>\n",
       "    <tr style=\"text-align: right;\">\n",
       "      <th></th>\n",
       "      <th>Year</th>\n",
       "      <th>AgeGroup</th>\n",
       "      <th>DeathRate</th>\n",
       "    </tr>\n",
       "  </thead>\n",
       "  <tbody>\n",
       "    <tr>\n",
       "      <th>0</th>\n",
       "      <td>1900</td>\n",
       "      <td>1-4 Years</td>\n",
       "      <td>0.019838</td>\n",
       "    </tr>\n",
       "    <tr>\n",
       "      <th>1</th>\n",
       "      <td>1901</td>\n",
       "      <td>1-4 Years</td>\n",
       "      <td>0.016950</td>\n",
       "    </tr>\n",
       "    <tr>\n",
       "      <th>...</th>\n",
       "      <td>...</td>\n",
       "      <td>...</td>\n",
       "      <td>...</td>\n",
       "    </tr>\n",
       "    <tr>\n",
       "      <th>236</th>\n",
       "      <td>2017</td>\n",
       "      <td>5-9 Years</td>\n",
       "      <td>0.000116</td>\n",
       "    </tr>\n",
       "    <tr>\n",
       "      <th>237</th>\n",
       "      <td>2018</td>\n",
       "      <td>5-9 Years</td>\n",
       "      <td>0.000115</td>\n",
       "    </tr>\n",
       "  </tbody>\n",
       "</table>\n",
       "<p>238 rows × 3 columns</p>\n",
       "</div>"
      ],
      "text/plain": [
       "     Year   AgeGroup  DeathRate\n",
       "0    1900  1-4 Years   0.019838\n",
       "1    1901  1-4 Years   0.016950\n",
       "..    ...        ...        ...\n",
       "236  2017  5-9 Years   0.000116\n",
       "237  2018  5-9 Years   0.000115\n",
       "\n",
       "[238 rows x 3 columns]"
      ]
     },
     "metadata": {},
     "output_type": "display_data"
    }
   ],
   "source": [
    "mortality_long = mortality_wide.melt(\n",
    "    id_vars = 'Year',\n",
    "    value_vars=['1-4 Years','5-9 Years'],\n",
    "    var_name ='AgeGroup',\n",
    "    value_name='DeathRate')\n",
    "\n",
    "with pd.option_context('display.max_rows', 4):\n",
    "    display(mortality_long)"
   ]
  },
  {
   "cell_type": "markdown",
   "metadata": {},
   "source": [
    "## Analyze the data"
   ]
  },
  {
   "cell_type": "markdown",
   "metadata": {},
   "source": [
    "### Group the data"
   ]
  },
  {
   "cell_type": "code",
   "execution_count": 98,
   "metadata": {},
   "outputs": [
    {
     "data": {
      "text/html": [
       "<div>\n",
       "<style scoped>\n",
       "    .dataframe tbody tr th:only-of-type {\n",
       "        vertical-align: middle;\n",
       "    }\n",
       "\n",
       "    .dataframe tbody tr th {\n",
       "        vertical-align: top;\n",
       "    }\n",
       "\n",
       "    .dataframe thead th {\n",
       "        text-align: right;\n",
       "    }\n",
       "</style>\n",
       "<table border=\"1\" class=\"dataframe\">\n",
       "  <thead>\n",
       "    <tr style=\"text-align: right;\">\n",
       "      <th></th>\n",
       "      <th>Year</th>\n",
       "      <th>DeathRate</th>\n",
       "      <th>death_log</th>\n",
       "      <th>CumDeathRate</th>\n",
       "      <th>MeanCentered</th>\n",
       "    </tr>\n",
       "    <tr>\n",
       "      <th>AgeGroup</th>\n",
       "      <th></th>\n",
       "      <th></th>\n",
       "      <th></th>\n",
       "      <th></th>\n",
       "      <th></th>\n",
       "    </tr>\n",
       "  </thead>\n",
       "  <tbody>\n",
       "    <tr>\n",
       "      <th>1-4 Years</th>\n",
       "      <td>1959</td>\n",
       "      <td>0.003832</td>\n",
       "      <td>2.193591</td>\n",
       "      <td>37353.117647</td>\n",
       "      <td>190.301891</td>\n",
       "    </tr>\n",
       "    <tr>\n",
       "      <th>10-14 Years</th>\n",
       "      <td>1959</td>\n",
       "      <td>0.000938</td>\n",
       "      <td>1.772540</td>\n",
       "      <td>67911.569748</td>\n",
       "      <td>-99.154412</td>\n",
       "    </tr>\n",
       "    <tr>\n",
       "      <th>15-19 Years</th>\n",
       "      <td>1959</td>\n",
       "      <td>0.001774</td>\n",
       "      <td>2.134860</td>\n",
       "      <td>85460.104202</td>\n",
       "      <td>-15.549370</td>\n",
       "    </tr>\n",
       "    <tr>\n",
       "      <th>5-9 Years</th>\n",
       "      <td>1959</td>\n",
       "      <td>0.001173</td>\n",
       "      <td>1.795091</td>\n",
       "      <td>56497.440336</td>\n",
       "      <td>-75.598109</td>\n",
       "    </tr>\n",
       "  </tbody>\n",
       "</table>\n",
       "</div>"
      ],
      "text/plain": [
       "             Year  DeathRate  death_log  CumDeathRate  MeanCentered\n",
       "AgeGroup                                                           \n",
       "1-4 Years    1959   0.003832   2.193591  37353.117647    190.301891\n",
       "10-14 Years  1959   0.000938   1.772540  67911.569748    -99.154412\n",
       "15-19 Years  1959   0.001774   2.134860  85460.104202    -15.549370\n",
       "5-9 Years    1959   0.001173   1.795091  56497.440336    -75.598109"
      ]
     },
     "execution_count": 98,
     "metadata": {},
     "output_type": "execute_result"
    }
   ],
   "source": [
    "mortality_data.groupby('AgeGroup').mean()"
   ]
  },
  {
   "cell_type": "code",
   "execution_count": 99,
   "metadata": {},
   "outputs": [
    {
     "data": {
      "text/html": [
       "<div>\n",
       "<style scoped>\n",
       "    .dataframe tbody tr th:only-of-type {\n",
       "        vertical-align: middle;\n",
       "    }\n",
       "\n",
       "    .dataframe tbody tr th {\n",
       "        vertical-align: top;\n",
       "    }\n",
       "\n",
       "    .dataframe thead th {\n",
       "        text-align: right;\n",
       "    }\n",
       "</style>\n",
       "<table border=\"1\" class=\"dataframe\">\n",
       "  <thead>\n",
       "    <tr style=\"text-align: right;\">\n",
       "      <th></th>\n",
       "      <th>Year</th>\n",
       "      <th>DeathRate</th>\n",
       "      <th>death_log</th>\n",
       "      <th>CumDeathRate</th>\n",
       "      <th>MeanCentered</th>\n",
       "    </tr>\n",
       "    <tr>\n",
       "      <th>AgeGroup</th>\n",
       "      <th></th>\n",
       "      <th></th>\n",
       "      <th></th>\n",
       "      <th></th>\n",
       "      <th></th>\n",
       "    </tr>\n",
       "  </thead>\n",
       "  <tbody>\n",
       "    <tr>\n",
       "      <th>1-4 Years</th>\n",
       "      <td>1959</td>\n",
       "      <td>0.001091</td>\n",
       "      <td>2.037825</td>\n",
       "      <td>42409.4</td>\n",
       "      <td>-83.82416</td>\n",
       "    </tr>\n",
       "    <tr>\n",
       "      <th>10-14 Years</th>\n",
       "      <td>1959</td>\n",
       "      <td>0.000446</td>\n",
       "      <td>1.649335</td>\n",
       "      <td>69110.8</td>\n",
       "      <td>-148.32416</td>\n",
       "    </tr>\n",
       "    <tr>\n",
       "      <th>15-19 Years</th>\n",
       "      <td>1959</td>\n",
       "      <td>0.001069</td>\n",
       "      <td>2.028978</td>\n",
       "      <td>87096.4</td>\n",
       "      <td>-86.02416</td>\n",
       "    </tr>\n",
       "    <tr>\n",
       "      <th>5-9 Years</th>\n",
       "      <td>1959</td>\n",
       "      <td>0.000484</td>\n",
       "      <td>1.684845</td>\n",
       "      <td>58040.5</td>\n",
       "      <td>-144.52416</td>\n",
       "    </tr>\n",
       "  </tbody>\n",
       "</table>\n",
       "</div>"
      ],
      "text/plain": [
       "             Year  DeathRate  death_log  CumDeathRate  MeanCentered\n",
       "AgeGroup                                                           \n",
       "1-4 Years    1959   0.001091   2.037825       42409.4     -83.82416\n",
       "10-14 Years  1959   0.000446   1.649335       69110.8    -148.32416\n",
       "15-19 Years  1959   0.001069   2.028978       87096.4     -86.02416\n",
       "5-9 Years    1959   0.000484   1.684845       58040.5    -144.52416"
      ]
     },
     "execution_count": 99,
     "metadata": {},
     "output_type": "execute_result"
    }
   ],
   "source": [
    "mortality_data.groupby('AgeGroup').median()"
   ]
  },
  {
   "cell_type": "code",
   "execution_count": 100,
   "metadata": {},
   "outputs": [
    {
     "data": {
      "text/html": [
       "<div>\n",
       "<style scoped>\n",
       "    .dataframe tbody tr th:only-of-type {\n",
       "        vertical-align: middle;\n",
       "    }\n",
       "\n",
       "    .dataframe tbody tr th {\n",
       "        vertical-align: top;\n",
       "    }\n",
       "\n",
       "    .dataframe thead th {\n",
       "        text-align: right;\n",
       "    }\n",
       "</style>\n",
       "<table border=\"1\" class=\"dataframe\">\n",
       "  <thead>\n",
       "    <tr style=\"text-align: right;\">\n",
       "      <th></th>\n",
       "      <th>DeathRate</th>\n",
       "      <th>death_log</th>\n",
       "      <th>CumDeathRate</th>\n",
       "      <th>MeanCentered</th>\n",
       "    </tr>\n",
       "    <tr>\n",
       "      <th>Year</th>\n",
       "      <th></th>\n",
       "      <th></th>\n",
       "      <th></th>\n",
       "      <th></th>\n",
       "    </tr>\n",
       "  </thead>\n",
       "  <tbody>\n",
       "    <tr>\n",
       "      <th>1900</th>\n",
       "      <td>0.004755</td>\n",
       "      <td>2.677021</td>\n",
       "      <td>52967.00</td>\n",
       "      <td>282.52584</td>\n",
       "    </tr>\n",
       "    <tr>\n",
       "      <th>1901</th>\n",
       "      <td>0.004410</td>\n",
       "      <td>2.644238</td>\n",
       "      <td>53317.60</td>\n",
       "      <td>248.07584</td>\n",
       "    </tr>\n",
       "    <tr>\n",
       "      <th>1902</th>\n",
       "      <td>0.004124</td>\n",
       "      <td>2.615213</td>\n",
       "      <td>53645.50</td>\n",
       "      <td>219.47584</td>\n",
       "    </tr>\n",
       "    <tr>\n",
       "      <th>1903</th>\n",
       "      <td>0.004244</td>\n",
       "      <td>2.627662</td>\n",
       "      <td>53986.95</td>\n",
       "      <td>231.47584</td>\n",
       "    </tr>\n",
       "  </tbody>\n",
       "</table>\n",
       "</div>"
      ],
      "text/plain": [
       "      DeathRate  death_log  CumDeathRate  MeanCentered\n",
       "Year                                                  \n",
       "1900   0.004755   2.677021      52967.00     282.52584\n",
       "1901   0.004410   2.644238      53317.60     248.07584\n",
       "1902   0.004124   2.615213      53645.50     219.47584\n",
       "1903   0.004244   2.627662      53986.95     231.47584"
      ]
     },
     "execution_count": 100,
     "metadata": {},
     "output_type": "execute_result"
    }
   ],
   "source": [
    "mortality_data.groupby('Year').median().head(4)"
   ]
  },
  {
   "cell_type": "code",
   "execution_count": 101,
   "metadata": {},
   "outputs": [
    {
     "data": {
      "text/html": [
       "<div>\n",
       "<style scoped>\n",
       "    .dataframe tbody tr th:only-of-type {\n",
       "        vertical-align: middle;\n",
       "    }\n",
       "\n",
       "    .dataframe tbody tr th {\n",
       "        vertical-align: top;\n",
       "    }\n",
       "\n",
       "    .dataframe thead th {\n",
       "        text-align: right;\n",
       "    }\n",
       "</style>\n",
       "<table border=\"1\" class=\"dataframe\">\n",
       "  <thead>\n",
       "    <tr style=\"text-align: right;\">\n",
       "      <th></th>\n",
       "      <th></th>\n",
       "      <th>DeathRate</th>\n",
       "      <th>death_log</th>\n",
       "      <th>CumDeathRate</th>\n",
       "      <th>MeanCentered</th>\n",
       "    </tr>\n",
       "    <tr>\n",
       "      <th>Year</th>\n",
       "      <th>AgeGroup</th>\n",
       "      <th></th>\n",
       "      <th></th>\n",
       "      <th></th>\n",
       "      <th></th>\n",
       "    </tr>\n",
       "  </thead>\n",
       "  <tbody>\n",
       "    <tr>\n",
       "      <th rowspan=\"4\" valign=\"top\">1900</th>\n",
       "      <th>1-4 Years</th>\n",
       "      <td>1</td>\n",
       "      <td>1</td>\n",
       "      <td>1</td>\n",
       "      <td>1</td>\n",
       "    </tr>\n",
       "    <tr>\n",
       "      <th>10-14 Years</th>\n",
       "      <td>1</td>\n",
       "      <td>1</td>\n",
       "      <td>1</td>\n",
       "      <td>1</td>\n",
       "    </tr>\n",
       "    <tr>\n",
       "      <th>15-19 Years</th>\n",
       "      <td>1</td>\n",
       "      <td>1</td>\n",
       "      <td>1</td>\n",
       "      <td>1</td>\n",
       "    </tr>\n",
       "    <tr>\n",
       "      <th>5-9 Years</th>\n",
       "      <td>1</td>\n",
       "      <td>1</td>\n",
       "      <td>1</td>\n",
       "      <td>1</td>\n",
       "    </tr>\n",
       "    <tr>\n",
       "      <th>1901</th>\n",
       "      <th>1-4 Years</th>\n",
       "      <td>1</td>\n",
       "      <td>1</td>\n",
       "      <td>1</td>\n",
       "      <td>1</td>\n",
       "    </tr>\n",
       "  </tbody>\n",
       "</table>\n",
       "</div>"
      ],
      "text/plain": [
       "                  DeathRate  death_log  CumDeathRate  MeanCentered\n",
       "Year AgeGroup                                                     \n",
       "1900 1-4 Years            1          1             1             1\n",
       "     10-14 Years          1          1             1             1\n",
       "     15-19 Years          1          1             1             1\n",
       "     5-9 Years            1          1             1             1\n",
       "1901 1-4 Years            1          1             1             1"
      ]
     },
     "execution_count": 101,
     "metadata": {},
     "output_type": "execute_result"
    }
   ],
   "source": [
    "mortality_data.groupby(['Year','AgeGroup']).count().head()"
   ]
  },
  {
   "cell_type": "markdown",
   "metadata": {},
   "source": [
    "### Aggregate the data"
   ]
  },
  {
   "cell_type": "code",
   "execution_count": 102,
   "metadata": {},
   "outputs": [
    {
     "data": {
      "text/html": [
       "<div>\n",
       "<style scoped>\n",
       "    .dataframe tbody tr th:only-of-type {\n",
       "        vertical-align: middle;\n",
       "    }\n",
       "\n",
       "    .dataframe tbody tr th {\n",
       "        vertical-align: top;\n",
       "    }\n",
       "\n",
       "    .dataframe thead tr th {\n",
       "        text-align: left;\n",
       "    }\n",
       "\n",
       "    .dataframe thead tr:last-of-type th {\n",
       "        text-align: right;\n",
       "    }\n",
       "</style>\n",
       "<table border=\"1\" class=\"dataframe\">\n",
       "  <thead>\n",
       "    <tr>\n",
       "      <th></th>\n",
       "      <th colspan=\"5\" halign=\"left\">DeathRate</th>\n",
       "    </tr>\n",
       "    <tr>\n",
       "      <th></th>\n",
       "      <th>mean</th>\n",
       "      <th>median</th>\n",
       "      <th>min</th>\n",
       "      <th>max</th>\n",
       "      <th>std</th>\n",
       "    </tr>\n",
       "    <tr>\n",
       "      <th>AgeGroup</th>\n",
       "      <th></th>\n",
       "      <th></th>\n",
       "      <th></th>\n",
       "      <th></th>\n",
       "      <th></th>\n",
       "    </tr>\n",
       "  </thead>\n",
       "  <tbody>\n",
       "    <tr>\n",
       "      <th>1-4 Years</th>\n",
       "      <td>0.003832</td>\n",
       "      <td>0.001091</td>\n",
       "      <td>0.000240</td>\n",
       "      <td>0.019838</td>\n",
       "      <td>0.005005</td>\n",
       "    </tr>\n",
       "    <tr>\n",
       "      <th>10-14 Years</th>\n",
       "      <td>0.000938</td>\n",
       "      <td>0.000446</td>\n",
       "      <td>0.000139</td>\n",
       "      <td>0.003751</td>\n",
       "      <td>0.000884</td>\n",
       "    </tr>\n",
       "    <tr>\n",
       "      <th>15-19 Years</th>\n",
       "      <td>0.001774</td>\n",
       "      <td>0.001069</td>\n",
       "      <td>0.000448</td>\n",
       "      <td>0.007774</td>\n",
       "      <td>0.001384</td>\n",
       "    </tr>\n",
       "    <tr>\n",
       "      <th>5-9 Years</th>\n",
       "      <td>0.001173</td>\n",
       "      <td>0.000484</td>\n",
       "      <td>0.000114</td>\n",
       "      <td>0.004661</td>\n",
       "      <td>0.001275</td>\n",
       "    </tr>\n",
       "  </tbody>\n",
       "</table>\n",
       "</div>"
      ],
      "text/plain": [
       "            DeathRate                                        \n",
       "                 mean    median       min       max       std\n",
       "AgeGroup                                                     \n",
       "1-4 Years    0.003832  0.001091  0.000240  0.019838  0.005005\n",
       "10-14 Years  0.000938  0.000446  0.000139  0.003751  0.000884\n",
       "15-19 Years  0.001774  0.001069  0.000448  0.007774  0.001384\n",
       "5-9 Years    0.001173  0.000484  0.000114  0.004661  0.001275"
      ]
     },
     "execution_count": 102,
     "metadata": {},
     "output_type": "execute_result"
    }
   ],
   "source": [
    "mortality_data[['AgeGroup','DeathRate']].groupby('AgeGroup').agg(['mean','median','min','max','std'])"
   ]
  },
  {
   "cell_type": "code",
   "execution_count": 104,
   "metadata": {},
   "outputs": [
    {
     "name": "stdout",
     "output_type": "stream",
     "text": [
      "Object `agg` not found.\n"
     ]
    }
   ],
   "source": [
    "mortality_data[['AgeGroup','DeathRate']].groupby('AgeGroup').agg?"
   ]
  },
  {
   "cell_type": "code",
   "execution_count": 107,
   "metadata": {},
   "outputs": [
    {
     "name": "stdout",
     "output_type": "stream",
     "text": [
      "\u001b[1;31mSignature:\u001b[0m\n",
      "\u001b[0mmortality_data\u001b[0m\u001b[1;33m.\u001b[0m\u001b[0mgroupby\u001b[0m\u001b[1;33m(\u001b[0m\u001b[1;33m\n",
      "\u001b[0m    \u001b[0mby\u001b[0m\u001b[1;33m=\u001b[0m\u001b[1;32mNone\u001b[0m\u001b[1;33m,\u001b[0m\u001b[1;33m\n",
      "\u001b[0m    \u001b[0maxis\u001b[0m\u001b[1;33m=\u001b[0m\u001b[1;36m0\u001b[0m\u001b[1;33m,\u001b[0m\u001b[1;33m\n",
      "\u001b[0m    \u001b[0mlevel\u001b[0m\u001b[1;33m=\u001b[0m\u001b[1;32mNone\u001b[0m\u001b[1;33m,\u001b[0m\u001b[1;33m\n",
      "\u001b[0m    \u001b[0mas_index\u001b[0m\u001b[1;33m:\u001b[0m \u001b[1;34m'bool'\u001b[0m \u001b[1;33m=\u001b[0m \u001b[1;32mTrue\u001b[0m\u001b[1;33m,\u001b[0m\u001b[1;33m\n",
      "\u001b[0m    \u001b[0msort\u001b[0m\u001b[1;33m:\u001b[0m \u001b[1;34m'bool'\u001b[0m \u001b[1;33m=\u001b[0m \u001b[1;32mTrue\u001b[0m\u001b[1;33m,\u001b[0m\u001b[1;33m\n",
      "\u001b[0m    \u001b[0mgroup_keys\u001b[0m\u001b[1;33m:\u001b[0m \u001b[1;34m'bool'\u001b[0m \u001b[1;33m=\u001b[0m \u001b[1;32mTrue\u001b[0m\u001b[1;33m,\u001b[0m\u001b[1;33m\n",
      "\u001b[0m    \u001b[0msqueeze\u001b[0m\u001b[1;33m:\u001b[0m \u001b[1;34m'bool'\u001b[0m \u001b[1;33m=\u001b[0m \u001b[1;33m<\u001b[0m\u001b[0mobject\u001b[0m \u001b[0mobject\u001b[0m \u001b[0mat\u001b[0m \u001b[1;36m0x000002D2D029C5A0\u001b[0m\u001b[1;33m>\u001b[0m\u001b[1;33m,\u001b[0m\u001b[1;33m\n",
      "\u001b[0m    \u001b[0mobserved\u001b[0m\u001b[1;33m:\u001b[0m \u001b[1;34m'bool'\u001b[0m \u001b[1;33m=\u001b[0m \u001b[1;32mFalse\u001b[0m\u001b[1;33m,\u001b[0m\u001b[1;33m\n",
      "\u001b[0m    \u001b[0mdropna\u001b[0m\u001b[1;33m:\u001b[0m \u001b[1;34m'bool'\u001b[0m \u001b[1;33m=\u001b[0m \u001b[1;32mTrue\u001b[0m\u001b[1;33m,\u001b[0m\u001b[1;33m\n",
      "\u001b[0m\u001b[1;33m)\u001b[0m \u001b[1;33m->\u001b[0m \u001b[1;34m'DataFrameGroupBy'\u001b[0m\u001b[1;33m\u001b[0m\u001b[1;33m\u001b[0m\u001b[0m\n",
      "\u001b[1;31mDocstring:\u001b[0m\n",
      "Group DataFrame using a mapper or by a Series of columns.\n",
      "\n",
      "A groupby operation involves some combination of splitting the\n",
      "object, applying a function, and combining the results. This can be\n",
      "used to group large amounts of data and compute operations on these\n",
      "groups.\n",
      "\n",
      "Parameters\n",
      "----------\n",
      "by : mapping, function, label, or list of labels\n",
      "    Used to determine the groups for the groupby.\n",
      "    If ``by`` is a function, it's called on each value of the object's\n",
      "    index. If a dict or Series is passed, the Series or dict VALUES\n",
      "    will be used to determine the groups (the Series' values are first\n",
      "    aligned; see ``.align()`` method). If an ndarray is passed, the\n",
      "    values are used as-is to determine the groups. A label or list of\n",
      "    labels may be passed to group by the columns in ``self``. Notice\n",
      "    that a tuple is interpreted as a (single) key.\n",
      "axis : {0 or 'index', 1 or 'columns'}, default 0\n",
      "    Split along rows (0) or columns (1).\n",
      "level : int, level name, or sequence of such, default None\n",
      "    If the axis is a MultiIndex (hierarchical), group by a particular\n",
      "    level or levels.\n",
      "as_index : bool, default True\n",
      "    For aggregated output, return object with group labels as the\n",
      "    index. Only relevant for DataFrame input. as_index=False is\n",
      "    effectively \"SQL-style\" grouped output.\n",
      "sort : bool, default True\n",
      "    Sort group keys. Get better performance by turning this off.\n",
      "    Note this does not influence the order of observations within each\n",
      "    group. Groupby preserves the order of rows within each group.\n",
      "group_keys : bool, default True\n",
      "    When calling apply, add group keys to index to identify pieces.\n",
      "squeeze : bool, default False\n",
      "    Reduce the dimensionality of the return type if possible,\n",
      "    otherwise return a consistent type.\n",
      "\n",
      "    .. deprecated:: 1.1.0\n",
      "\n",
      "observed : bool, default False\n",
      "    This only applies if any of the groupers are Categoricals.\n",
      "    If True: only show observed values for categorical groupers.\n",
      "    If False: show all values for categorical groupers.\n",
      "dropna : bool, default True\n",
      "    If True, and if group keys contain NA values, NA values together\n",
      "    with row/column will be dropped.\n",
      "    If False, NA values will also be treated as the key in groups\n",
      "\n",
      "    .. versionadded:: 1.1.0\n",
      "\n",
      "Returns\n",
      "-------\n",
      "DataFrameGroupBy\n",
      "    Returns a groupby object that contains information about the groups.\n",
      "\n",
      "See Also\n",
      "--------\n",
      "resample : Convenience method for frequency conversion and resampling\n",
      "    of time series.\n",
      "\n",
      "Notes\n",
      "-----\n",
      "See the `user guide\n",
      "<https://pandas.pydata.org/pandas-docs/stable/groupby.html>`_ for more.\n",
      "\n",
      "Examples\n",
      "--------\n",
      ">>> df = pd.DataFrame({'Animal': ['Falcon', 'Falcon',\n",
      "...                               'Parrot', 'Parrot'],\n",
      "...                    'Max Speed': [380., 370., 24., 26.]})\n",
      ">>> df\n",
      "   Animal  Max Speed\n",
      "0  Falcon      380.0\n",
      "1  Falcon      370.0\n",
      "2  Parrot       24.0\n",
      "3  Parrot       26.0\n",
      ">>> df.groupby(['Animal']).mean()\n",
      "        Max Speed\n",
      "Animal\n",
      "Falcon      375.0\n",
      "Parrot       25.0\n",
      "\n",
      "**Hierarchical Indexes**\n",
      "\n",
      "We can groupby different levels of a hierarchical index\n",
      "using the `level` parameter:\n",
      "\n",
      ">>> arrays = [['Falcon', 'Falcon', 'Parrot', 'Parrot'],\n",
      "...           ['Captive', 'Wild', 'Captive', 'Wild']]\n",
      ">>> index = pd.MultiIndex.from_arrays(arrays, names=('Animal', 'Type'))\n",
      ">>> df = pd.DataFrame({'Max Speed': [390., 350., 30., 20.]},\n",
      "...                   index=index)\n",
      ">>> df\n",
      "                Max Speed\n",
      "Animal Type\n",
      "Falcon Captive      390.0\n",
      "       Wild         350.0\n",
      "Parrot Captive       30.0\n",
      "       Wild          20.0\n",
      ">>> df.groupby(level=0).mean()\n",
      "        Max Speed\n",
      "Animal\n",
      "Falcon      370.0\n",
      "Parrot       25.0\n",
      ">>> df.groupby(level=\"Type\").mean()\n",
      "         Max Speed\n",
      "Type\n",
      "Captive      210.0\n",
      "Wild         185.0\n",
      "\n",
      "We can also choose to include NA in group keys or not by setting\n",
      "`dropna` parameter, the default setting is `True`:\n",
      "\n",
      ">>> l = [[1, 2, 3], [1, None, 4], [2, 1, 3], [1, 2, 2]]\n",
      ">>> df = pd.DataFrame(l, columns=[\"a\", \"b\", \"c\"])\n",
      "\n",
      ">>> df.groupby(by=[\"b\"]).sum()\n",
      "    a   c\n",
      "b\n",
      "1.0 2   3\n",
      "2.0 2   5\n",
      "\n",
      ">>> df.groupby(by=[\"b\"], dropna=False).sum()\n",
      "    a   c\n",
      "b\n",
      "1.0 2   3\n",
      "2.0 2   5\n",
      "NaN 1   4\n",
      "\n",
      ">>> l = [[\"a\", 12, 12], [None, 12.3, 33.], [\"b\", 12.3, 123], [\"a\", 1, 1]]\n",
      ">>> df = pd.DataFrame(l, columns=[\"a\", \"b\", \"c\"])\n",
      "\n",
      ">>> df.groupby(by=\"a\").sum()\n",
      "    b     c\n",
      "a\n",
      "a   13.0   13.0\n",
      "b   12.3  123.0\n",
      "\n",
      ">>> df.groupby(by=\"a\", dropna=False).sum()\n",
      "    b     c\n",
      "a\n",
      "a   13.0   13.0\n",
      "b   12.3  123.0\n",
      "NaN 12.3   33.0\n",
      "\u001b[1;31mFile:\u001b[0m      c:\\python39\\lib\\site-packages\\pandas\\core\\frame.py\n",
      "\u001b[1;31mType:\u001b[0m      method\n"
     ]
    }
   ],
   "source": [
    "mortality_data.groupby?"
   ]
  },
  {
   "cell_type": "code",
   "execution_count": 109,
   "metadata": {},
   "outputs": [
    {
     "data": {
      "text/html": [
       "<div>\n",
       "<style scoped>\n",
       "    .dataframe tbody tr th:only-of-type {\n",
       "        vertical-align: middle;\n",
       "    }\n",
       "\n",
       "    .dataframe tbody tr th {\n",
       "        vertical-align: top;\n",
       "    }\n",
       "\n",
       "    .dataframe thead tr th {\n",
       "        text-align: left;\n",
       "    }\n",
       "\n",
       "    .dataframe thead tr:last-of-type th {\n",
       "        text-align: right;\n",
       "    }\n",
       "</style>\n",
       "<table border=\"1\" class=\"dataframe\">\n",
       "  <thead>\n",
       "    <tr>\n",
       "      <th></th>\n",
       "      <th colspan=\"5\" halign=\"left\">DeathRate</th>\n",
       "    </tr>\n",
       "    <tr>\n",
       "      <th></th>\n",
       "      <th>mean</th>\n",
       "      <th>median</th>\n",
       "      <th>min</th>\n",
       "      <th>max</th>\n",
       "      <th>std</th>\n",
       "    </tr>\n",
       "    <tr>\n",
       "      <th>AgeGroup</th>\n",
       "      <th></th>\n",
       "      <th></th>\n",
       "      <th></th>\n",
       "      <th></th>\n",
       "      <th></th>\n",
       "    </tr>\n",
       "  </thead>\n",
       "  <tbody>\n",
       "    <tr>\n",
       "      <th>1-4 Years</th>\n",
       "      <td>0.003832</td>\n",
       "      <td>0.001091</td>\n",
       "      <td>0.000240</td>\n",
       "      <td>0.019838</td>\n",
       "      <td>0.005005</td>\n",
       "    </tr>\n",
       "    <tr>\n",
       "      <th>10-14 Years</th>\n",
       "      <td>0.000938</td>\n",
       "      <td>0.000446</td>\n",
       "      <td>0.000139</td>\n",
       "      <td>0.003751</td>\n",
       "      <td>0.000884</td>\n",
       "    </tr>\n",
       "    <tr>\n",
       "      <th>15-19 Years</th>\n",
       "      <td>0.001774</td>\n",
       "      <td>0.001069</td>\n",
       "      <td>0.000448</td>\n",
       "      <td>0.007774</td>\n",
       "      <td>0.001384</td>\n",
       "    </tr>\n",
       "    <tr>\n",
       "      <th>5-9 Years</th>\n",
       "      <td>0.001173</td>\n",
       "      <td>0.000484</td>\n",
       "      <td>0.000114</td>\n",
       "      <td>0.004661</td>\n",
       "      <td>0.001275</td>\n",
       "    </tr>\n",
       "  </tbody>\n",
       "</table>\n",
       "</div>"
      ],
      "text/plain": [
       "            DeathRate                                        \n",
       "                 mean    median       min       max       std\n",
       "AgeGroup                                                     \n",
       "1-4 Years    0.003832  0.001091  0.000240  0.019838  0.005005\n",
       "10-14 Years  0.000938  0.000446  0.000139  0.003751  0.000884\n",
       "15-19 Years  0.001774  0.001069  0.000448  0.007774  0.001384\n",
       "5-9 Years    0.001173  0.000484  0.000114  0.004661  0.001275"
      ]
     },
     "execution_count": 109,
     "metadata": {},
     "output_type": "execute_result"
    }
   ],
   "source": [
    "mortality_data[['AgeGroup','DeathRate']].groupby('AgeGroup').agg(['mean','median','min','max','std'])"
   ]
  },
  {
   "cell_type": "code",
   "execution_count": 110,
   "metadata": {},
   "outputs": [
    {
     "data": {
      "text/plain": [
       "pandas.core.groupby.generic.DataFrameGroupBy"
      ]
     },
     "execution_count": 110,
     "metadata": {},
     "output_type": "execute_result"
    }
   ],
   "source": [
    "AgeGS = mortality_data.groupby(\"AgeGroup\")\n",
    "type(AgeGS)"
   ]
  },
  {
   "cell_type": "code",
   "execution_count": 112,
   "metadata": {},
   "outputs": [
    {
     "data": {
      "text/html": [
       "<div>\n",
       "<style scoped>\n",
       "    .dataframe tbody tr th:only-of-type {\n",
       "        vertical-align: middle;\n",
       "    }\n",
       "\n",
       "    .dataframe tbody tr th {\n",
       "        vertical-align: top;\n",
       "    }\n",
       "\n",
       "    .dataframe thead th {\n",
       "        text-align: right;\n",
       "    }\n",
       "</style>\n",
       "<table border=\"1\" class=\"dataframe\">\n",
       "  <thead>\n",
       "    <tr style=\"text-align: right;\">\n",
       "      <th></th>\n",
       "      <th>mean</th>\n",
       "      <th>median</th>\n",
       "      <th>std</th>\n",
       "      <th>nunique</th>\n",
       "    </tr>\n",
       "    <tr>\n",
       "      <th>AgeGroup</th>\n",
       "      <th></th>\n",
       "      <th></th>\n",
       "      <th></th>\n",
       "      <th></th>\n",
       "    </tr>\n",
       "  </thead>\n",
       "  <tbody>\n",
       "    <tr>\n",
       "      <th>1-4 Years</th>\n",
       "      <td>0.003832</td>\n",
       "      <td>0.001091</td>\n",
       "      <td>0.005005</td>\n",
       "      <td>117</td>\n",
       "    </tr>\n",
       "    <tr>\n",
       "      <th>10-14 Years</th>\n",
       "      <td>0.000938</td>\n",
       "      <td>0.000446</td>\n",
       "      <td>0.000884</td>\n",
       "      <td>115</td>\n",
       "    </tr>\n",
       "    <tr>\n",
       "      <th>15-19 Years</th>\n",
       "      <td>0.001774</td>\n",
       "      <td>0.001069</td>\n",
       "      <td>0.001384</td>\n",
       "      <td>117</td>\n",
       "    </tr>\n",
       "    <tr>\n",
       "      <th>5-9 Years</th>\n",
       "      <td>0.001173</td>\n",
       "      <td>0.000484</td>\n",
       "      <td>0.001275</td>\n",
       "      <td>115</td>\n",
       "    </tr>\n",
       "  </tbody>\n",
       "</table>\n",
       "</div>"
      ],
      "text/plain": [
       "                 mean    median       std  nunique\n",
       "AgeGroup                                          \n",
       "1-4 Years    0.003832  0.001091  0.005005      117\n",
       "10-14 Years  0.000938  0.000446  0.000884      115\n",
       "15-19 Years  0.001774  0.001069  0.001384      117\n",
       "5-9 Years    0.001173  0.000484  0.001275      115"
      ]
     },
     "execution_count": 112,
     "metadata": {},
     "output_type": "execute_result"
    }
   ],
   "source": [
    "AgeGS[\"DeathRate\"].agg(['mean','median','std','nunique'])"
   ]
  },
  {
   "cell_type": "code",
   "execution_count": 111,
   "metadata": {},
   "outputs": [
    {
     "data": {
      "text/html": [
       "<div>\n",
       "<style scoped>\n",
       "    .dataframe tbody tr th:only-of-type {\n",
       "        vertical-align: middle;\n",
       "    }\n",
       "\n",
       "    .dataframe tbody tr th {\n",
       "        vertical-align: top;\n",
       "    }\n",
       "\n",
       "    .dataframe thead th {\n",
       "        text-align: right;\n",
       "    }\n",
       "</style>\n",
       "<table border=\"1\" class=\"dataframe\">\n",
       "  <thead>\n",
       "    <tr style=\"text-align: right;\">\n",
       "      <th></th>\n",
       "      <th>mean</th>\n",
       "      <th>median</th>\n",
       "      <th>std</th>\n",
       "      <th>nunique</th>\n",
       "    </tr>\n",
       "    <tr>\n",
       "      <th>AgeGroup</th>\n",
       "      <th></th>\n",
       "      <th></th>\n",
       "      <th></th>\n",
       "      <th></th>\n",
       "    </tr>\n",
       "  </thead>\n",
       "  <tbody>\n",
       "    <tr>\n",
       "      <th>1-4 Years</th>\n",
       "      <td>0.003832</td>\n",
       "      <td>0.001091</td>\n",
       "      <td>0.005005</td>\n",
       "      <td>117</td>\n",
       "    </tr>\n",
       "    <tr>\n",
       "      <th>10-14 Years</th>\n",
       "      <td>0.000938</td>\n",
       "      <td>0.000446</td>\n",
       "      <td>0.000884</td>\n",
       "      <td>115</td>\n",
       "    </tr>\n",
       "    <tr>\n",
       "      <th>15-19 Years</th>\n",
       "      <td>0.001774</td>\n",
       "      <td>0.001069</td>\n",
       "      <td>0.001384</td>\n",
       "      <td>117</td>\n",
       "    </tr>\n",
       "    <tr>\n",
       "      <th>5-9 Years</th>\n",
       "      <td>0.001173</td>\n",
       "      <td>0.000484</td>\n",
       "      <td>0.001275</td>\n",
       "      <td>115</td>\n",
       "    </tr>\n",
       "  </tbody>\n",
       "</table>\n",
       "</div>"
      ],
      "text/plain": [
       "                 mean    median       std  nunique\n",
       "AgeGroup                                          \n",
       "1-4 Years    0.003832  0.001091  0.005005      117\n",
       "10-14 Years  0.000938  0.000446  0.000884      115\n",
       "15-19 Years  0.001774  0.001069  0.001384      117\n",
       "5-9 Years    0.001173  0.000484  0.001275      115"
      ]
     },
     "execution_count": 111,
     "metadata": {},
     "output_type": "execute_result"
    }
   ],
   "source": [
    "mortality_data.groupby('AgeGroup')['DeathRate'] \\\n",
    "    .agg(['mean','median','std','nunique'])"
   ]
  },
  {
   "cell_type": "code",
   "execution_count": 113,
   "metadata": {},
   "outputs": [
    {
     "data": {
      "text/html": [
       "<div>\n",
       "<style scoped>\n",
       "    .dataframe tbody tr th:only-of-type {\n",
       "        vertical-align: middle;\n",
       "    }\n",
       "\n",
       "    .dataframe tbody tr th {\n",
       "        vertical-align: top;\n",
       "    }\n",
       "\n",
       "    .dataframe thead th {\n",
       "        text-align: right;\n",
       "    }\n",
       "</style>\n",
       "<table border=\"1\" class=\"dataframe\">\n",
       "  <thead>\n",
       "    <tr style=\"text-align: right;\">\n",
       "      <th></th>\n",
       "      <th>mean</th>\n",
       "      <th>median</th>\n",
       "      <th>std</th>\n",
       "      <th>min</th>\n",
       "      <th>max</th>\n",
       "      <th>var</th>\n",
       "      <th>nunique</th>\n",
       "    </tr>\n",
       "    <tr>\n",
       "      <th>Year</th>\n",
       "      <th></th>\n",
       "      <th></th>\n",
       "      <th></th>\n",
       "      <th></th>\n",
       "      <th></th>\n",
       "      <th></th>\n",
       "      <th></th>\n",
       "    </tr>\n",
       "  </thead>\n",
       "  <tbody>\n",
       "    <tr>\n",
       "      <th>1900</th>\n",
       "      <td>0.008082</td>\n",
       "      <td>0.004755</td>\n",
       "      <td>0.007882</td>\n",
       "      <td>0.002983</td>\n",
       "      <td>0.019838</td>\n",
       "      <td>0.000062</td>\n",
       "      <td>4</td>\n",
       "    </tr>\n",
       "    <tr>\n",
       "      <th>1901</th>\n",
       "      <td>0.007127</td>\n",
       "      <td>0.004410</td>\n",
       "      <td>0.006597</td>\n",
       "      <td>0.002736</td>\n",
       "      <td>0.016950</td>\n",
       "      <td>0.000044</td>\n",
       "      <td>4</td>\n",
       "    </tr>\n",
       "    <tr>\n",
       "      <th>1902</th>\n",
       "      <td>0.006832</td>\n",
       "      <td>0.004124</td>\n",
       "      <td>0.006527</td>\n",
       "      <td>0.002525</td>\n",
       "      <td>0.016557</td>\n",
       "      <td>0.000043</td>\n",
       "      <td>4</td>\n",
       "    </tr>\n",
       "  </tbody>\n",
       "</table>\n",
       "</div>"
      ],
      "text/plain": [
       "          mean    median       std       min       max       var  nunique\n",
       "Year                                                                     \n",
       "1900  0.008082  0.004755  0.007882  0.002983  0.019838  0.000062        4\n",
       "1901  0.007127  0.004410  0.006597  0.002736  0.016950  0.000044        4\n",
       "1902  0.006832  0.004124  0.006527  0.002525  0.016557  0.000043        4"
      ]
     },
     "execution_count": 113,
     "metadata": {},
     "output_type": "execute_result"
    }
   ],
   "source": [
    "mortality_data.groupby('Year')['DeathRate'] \\\n",
    "    .agg(['mean','median','std','min','max','var','nunique']).head(3)"
   ]
  },
  {
   "cell_type": "code",
   "execution_count": 114,
   "metadata": {},
   "outputs": [
    {
     "data": {
      "text/plain": [
       "0.0022257500000000003"
      ]
     },
     "execution_count": 114,
     "metadata": {},
     "output_type": "execute_result"
    }
   ],
   "source": [
    "def fun_1q(foo): return foo.quantile(0.75)\n",
    "\n",
    "fun_1q(mortality_data.DeathRate)"
   ]
  },
  {
   "cell_type": "code",
   "execution_count": 115,
   "metadata": {},
   "outputs": [
    {
     "data": {
      "text/plain": [
       "1-4 Years    0.005773\n",
       "Name: 0.75, dtype: float64"
      ]
     },
     "execution_count": 115,
     "metadata": {},
     "output_type": "execute_result"
    }
   ],
   "source": [
    "fun_1q(mortality_wide[['1-4 Years']])"
   ]
  },
  {
   "cell_type": "markdown",
   "metadata": {},
   "source": [
    "## Visualize the data"
   ]
  },
  {
   "cell_type": "code",
   "execution_count": 116,
   "metadata": {},
   "outputs": [
    {
     "data": {
      "text/html": [
       "<div>\n",
       "<style scoped>\n",
       "    .dataframe tbody tr th:only-of-type {\n",
       "        vertical-align: middle;\n",
       "    }\n",
       "\n",
       "    .dataframe tbody tr th {\n",
       "        vertical-align: top;\n",
       "    }\n",
       "\n",
       "    .dataframe thead th {\n",
       "        text-align: right;\n",
       "    }\n",
       "</style>\n",
       "<table border=\"1\" class=\"dataframe\">\n",
       "  <thead>\n",
       "    <tr style=\"text-align: right;\">\n",
       "      <th>AgeGroup</th>\n",
       "      <th>1-4 Years</th>\n",
       "      <th>10-14 Years</th>\n",
       "      <th>15-19 Years</th>\n",
       "      <th>5-9 Years</th>\n",
       "    </tr>\n",
       "    <tr>\n",
       "      <th>Year</th>\n",
       "      <th></th>\n",
       "      <th></th>\n",
       "      <th></th>\n",
       "      <th></th>\n",
       "    </tr>\n",
       "  </thead>\n",
       "  <tbody>\n",
       "    <tr>\n",
       "      <th>1900</th>\n",
       "      <td>0.019838</td>\n",
       "      <td>0.002983</td>\n",
       "      <td>0.004848</td>\n",
       "      <td>0.004661</td>\n",
       "    </tr>\n",
       "    <tr>\n",
       "      <th>1901</th>\n",
       "      <td>0.016950</td>\n",
       "      <td>0.002736</td>\n",
       "      <td>0.004544</td>\n",
       "      <td>0.004276</td>\n",
       "    </tr>\n",
       "    <tr>\n",
       "      <th>1902</th>\n",
       "      <td>0.016557</td>\n",
       "      <td>0.002525</td>\n",
       "      <td>0.004215</td>\n",
       "      <td>0.004033</td>\n",
       "    </tr>\n",
       "    <tr>\n",
       "      <th>1903</th>\n",
       "      <td>0.015421</td>\n",
       "      <td>0.002682</td>\n",
       "      <td>0.004341</td>\n",
       "      <td>0.004147</td>\n",
       "    </tr>\n",
       "    <tr>\n",
       "      <th>1904</th>\n",
       "      <td>0.015915</td>\n",
       "      <td>0.003052</td>\n",
       "      <td>0.004714</td>\n",
       "      <td>0.004250</td>\n",
       "    </tr>\n",
       "    <tr>\n",
       "      <th>...</th>\n",
       "      <td>...</td>\n",
       "      <td>...</td>\n",
       "      <td>...</td>\n",
       "      <td>...</td>\n",
       "    </tr>\n",
       "    <tr>\n",
       "      <th>2014</th>\n",
       "      <td>0.000240</td>\n",
       "      <td>0.000140</td>\n",
       "      <td>0.000455</td>\n",
       "      <td>0.000115</td>\n",
       "    </tr>\n",
       "    <tr>\n",
       "      <th>2015</th>\n",
       "      <td>0.000249</td>\n",
       "      <td>0.000146</td>\n",
       "      <td>0.000483</td>\n",
       "      <td>0.000117</td>\n",
       "    </tr>\n",
       "    <tr>\n",
       "      <th>2016</th>\n",
       "      <td>0.000253</td>\n",
       "      <td>0.000146</td>\n",
       "      <td>0.000512</td>\n",
       "      <td>0.000122</td>\n",
       "    </tr>\n",
       "    <tr>\n",
       "      <th>2017</th>\n",
       "      <td>0.000243</td>\n",
       "      <td>0.000155</td>\n",
       "      <td>0.000515</td>\n",
       "      <td>0.000116</td>\n",
       "    </tr>\n",
       "    <tr>\n",
       "      <th>2018</th>\n",
       "      <td>0.000240</td>\n",
       "      <td>0.000149</td>\n",
       "      <td>0.000492</td>\n",
       "      <td>0.000115</td>\n",
       "    </tr>\n",
       "  </tbody>\n",
       "</table>\n",
       "<p>119 rows × 4 columns</p>\n",
       "</div>"
      ],
      "text/plain": [
       "AgeGroup  1-4 Years  10-14 Years  15-19 Years  5-9 Years\n",
       "Year                                                    \n",
       "1900       0.019838     0.002983     0.004848   0.004661\n",
       "1901       0.016950     0.002736     0.004544   0.004276\n",
       "1902       0.016557     0.002525     0.004215   0.004033\n",
       "1903       0.015421     0.002682     0.004341   0.004147\n",
       "1904       0.015915     0.003052     0.004714   0.004250\n",
       "...             ...          ...          ...        ...\n",
       "2014       0.000240     0.000140     0.000455   0.000115\n",
       "2015       0.000249     0.000146     0.000483   0.000117\n",
       "2016       0.000253     0.000146     0.000512   0.000122\n",
       "2017       0.000243     0.000155     0.000515   0.000116\n",
       "2018       0.000240     0.000149     0.000492   0.000115\n",
       "\n",
       "[119 rows x 4 columns]"
      ]
     },
     "execution_count": 116,
     "metadata": {},
     "output_type": "execute_result"
    }
   ],
   "source": [
    "mortality_data.pivot(index='Year',columns='AgeGroup')['DeathRate']"
   ]
  },
  {
   "cell_type": "code",
   "execution_count": 119,
   "metadata": {},
   "outputs": [
    {
     "data": {
      "text/plain": [
       "<AxesSubplot:>"
      ]
     },
     "execution_count": 119,
     "metadata": {},
     "output_type": "execute_result"
    },
    {
     "data": {
      "image/png": "[encoded data removed]",
      "text/plain": [
       "<Figure size 432x288 with 1 Axes>"
      ]
     },
     "metadata": {
      "needs_background": "light"
     },
     "output_type": "display_data"
    }
   ],
   "source": [
    "mortality_data['DeathRate'].plot()"
   ]
  },
  {
   "cell_type": "code",
   "execution_count": 117,
   "metadata": {},
   "outputs": [
    {
     "data": {
      "text/plain": [
       "<AxesSubplot:xlabel='Year'>"
      ]
     },
     "execution_count": 117,
     "metadata": {},
     "output_type": "execute_result"
    },
    {
     "data": {
      "image/png": "[encoded data removed]",
      "text/plain": [
       "<Figure size 432x288 with 1 Axes>"
      ]
     },
     "metadata": {
      "needs_background": "light"
     },
     "output_type": "display_data"
    }
   ],
   "source": [
    "mortality_data.pivot(index='Year',columns='AgeGroup')['DeathRate'].plot()"
   ]
  },
  {
   "cell_type": "code",
   "execution_count": 120,
   "metadata": {},
   "outputs": [
    {
     "data": {
      "text/html": [
       "<div>\n",
       "<style scoped>\n",
       "    .dataframe tbody tr th:only-of-type {\n",
       "        vertical-align: middle;\n",
       "    }\n",
       "\n",
       "    .dataframe tbody tr th {\n",
       "        vertical-align: top;\n",
       "    }\n",
       "\n",
       "    .dataframe thead th {\n",
       "        text-align: right;\n",
       "    }\n",
       "</style>\n",
       "<table border=\"1\" class=\"dataframe\">\n",
       "  <thead>\n",
       "    <tr style=\"text-align: right;\">\n",
       "      <th></th>\n",
       "      <th>mean</th>\n",
       "      <th>median</th>\n",
       "      <th>std</th>\n",
       "    </tr>\n",
       "    <tr>\n",
       "      <th>AgeGroup</th>\n",
       "      <th></th>\n",
       "      <th></th>\n",
       "      <th></th>\n",
       "    </tr>\n",
       "  </thead>\n",
       "  <tbody>\n",
       "    <tr>\n",
       "      <th>1-4 Years</th>\n",
       "      <td>0.003832</td>\n",
       "      <td>0.001091</td>\n",
       "      <td>0.005005</td>\n",
       "    </tr>\n",
       "    <tr>\n",
       "      <th>10-14 Years</th>\n",
       "      <td>0.000938</td>\n",
       "      <td>0.000446</td>\n",
       "      <td>0.000884</td>\n",
       "    </tr>\n",
       "    <tr>\n",
       "      <th>15-19 Years</th>\n",
       "      <td>0.001774</td>\n",
       "      <td>0.001069</td>\n",
       "      <td>0.001384</td>\n",
       "    </tr>\n",
       "    <tr>\n",
       "      <th>5-9 Years</th>\n",
       "      <td>0.001173</td>\n",
       "      <td>0.000484</td>\n",
       "      <td>0.001275</td>\n",
       "    </tr>\n",
       "  </tbody>\n",
       "</table>\n",
       "</div>"
      ],
      "text/plain": [
       "                 mean    median       std\n",
       "AgeGroup                                 \n",
       "1-4 Years    0.003832  0.001091  0.005005\n",
       "10-14 Years  0.000938  0.000446  0.000884\n",
       "15-19 Years  0.001774  0.001069  0.001384\n",
       "5-9 Years    0.001173  0.000484  0.001275"
      ]
     },
     "execution_count": 120,
     "metadata": {},
     "output_type": "execute_result"
    }
   ],
   "source": [
    "mortality_data.groupby('AgeGroup')['DeathRate'] \\\n",
    "    .agg(['mean','median','std'])"
   ]
  },
  {
   "cell_type": "code",
   "execution_count": null,
   "metadata": {},
   "outputs": [],
   "source": [
    "mortality_data.plot."
   ]
  },
  {
   "cell_type": "code",
   "execution_count": 121,
   "metadata": {},
   "outputs": [
    {
     "data": {
      "text/plain": [
       "<AxesSubplot:ylabel='AgeGroup'>"
      ]
     },
     "execution_count": 121,
     "metadata": {},
     "output_type": "execute_result"
    },
    {
     "data": {
      "image/png": "[encoded data removed]",
      "text/plain": [
       "<Figure size 432x288 with 1 Axes>"
      ]
     },
     "metadata": {
      "needs_background": "light"
     },
     "output_type": "display_data"
    }
   ],
   "source": [
    "mortality_data.groupby('AgeGroup')['DeathRate'] \\\n",
    "    .agg(['mean','median','std']).plot.barh()"
   ]
  },
  {
   "cell_type": "code",
   "execution_count": 122,
   "metadata": {},
   "outputs": [],
   "source": [
    "import seaborn as sns"
   ]
  },
  {
   "cell_type": "code",
   "execution_count": null,
   "metadata": {},
   "outputs": [],
   "source": [
    "sns."
   ]
  },
  {
   "cell_type": "code",
   "execution_count": 123,
   "metadata": {},
   "outputs": [
    {
     "data": {
      "text/plain": [
       "<seaborn.axisgrid.FacetGrid at 0x2d37dc31f70>"
      ]
     },
     "execution_count": 123,
     "metadata": {},
     "output_type": "execute_result"
    },
    {
     "data": {
      "image/png": "[encoded data removed]",
      "text/plain": [
       "<Figure size 720x576 with 4 Axes>"
      ]
     },
     "metadata": {
      "needs_background": "light"
     },
     "output_type": "display_data"
    }
   ],
   "source": [
    "sns.relplot(data=mortality_data, \n",
    "            kind='line', x='Year', y='DeathRate', hue='AgeGroup', \n",
    "            height=4, aspect=1.25, \n",
    "            col='AgeGroup', col_wrap=2, legend=False)"
   ]
  },
  {
   "cell_type": "code",
   "execution_count": null,
   "metadata": {},
   "outputs": [],
   "source": []
  }
 ],
 "metadata": {
  "interpreter": {
   "hash": "81794d4967e6c3204c66dcd87b604927b115b27c00565d3d43f05ba2f3a2cb0d"
  },
  "kernelspec": {
   "display_name": "Python 3.9.5 64-bit",
   "language": "python",
   "name": "python3"
  },
  "language_info": {
   "codemirror_mode": {
    "name": "ipython",
    "version": 3
   },
   "file_extension": ".py",
   "mimetype": "text/x-python",
   "name": "python",
   "nbconvert_exporter": "python",
   "pygments_lexer": "ipython3",
   "version": "3.9.5"
  },
  "nteract": {
   "version": "0.15.0"
  }
 },
 "nbformat": 4,
 "nbformat_minor": 4
}
