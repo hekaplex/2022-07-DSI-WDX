{
 "cells": [
  {
   "cell_type": "code",
   "execution_count": 2,
   "metadata": {},
   "outputs": [],
   "source": [
    "#!pip install beautifulsoup4\n",
    "from bs4 import BeautifulSoup\n",
    "import requests\n",
    "\n",
    "class Souper():\n",
    "    \n",
    "    def __init__(self, url, bsParser='html.parser'):\n",
    "        self.url = url\n",
    "        self.bsParser = bsParser\n",
    "    \n",
    "    def scoop(self):  \n",
    "        def status_check(r):\n",
    "            rtn = str()\n",
    "            if r.status_code==200:\n",
    "                rtn = \"Success!\"\n",
    "            else:\n",
    "                rtn = \"Failed!\"\n",
    "            return rtn\n",
    "        def encoding_check(r):\n",
    "            return (r.encoding)\n",
    "        def decode_content(r,encoding):\n",
    "            return (r.content.decode(encoding)) \n",
    "        response = requests.get(self.url)\n",
    "        enc = encoding_check(response)\n",
    "        contents = decode_content(response,enc)        \n",
    "        stat = status_check(response)\n",
    "        #print(response)\n",
    "        try:\n",
    "            print(\"Scooping {0} with encoding: {1}:{2}\".format(\n",
    "                self.url\n",
    "                ,enc\n",
    "                ,stat\n",
    "                ))\n",
    "            \n",
    "            soup = BeautifulSoup(contents,self.bsParser)\n",
    "        except Exception as err:\n",
    "            print(err)\n",
    "        return soup\n",
    "    \n"
   ]
  },
  {
   "cell_type": "code",
   "execution_count": 3,
   "metadata": {},
   "outputs": [
    {
     "name": "stdout",
     "output_type": "stream",
     "text": [
      "Success!\n"
     ]
    },
    {
     "data": {
      "text/plain": [
       "1"
      ]
     },
     "execution_count": 3,
     "metadata": {},
     "output_type": "execute_result"
    }
   ],
   "source": [
    "def status_check(r):\n",
    "    if r.status_code==200:\n",
    "        print(\"Success!\")\n",
    "        return 1\n",
    "    else:\n",
    "        print(\"Failed!\")\n",
    "        return -1\n",
    "def encoding_check(r):\n",
    "    return (r.encoding)\n",
    "def decode_content(r,encoding):\n",
    "    return (r.content.decode(encoding))\n",
    "wiki_home = \"https://www.espn.com/nba/playbyplay/_/gameId/401360812\"\n",
    "response = requests.get(wiki_home)\n",
    "contents = decode_content(response,encoding_check(response))\n",
    "status_check(response)    "
   ]
  },
  {
   "cell_type": "code",
   "execution_count": 4,
   "metadata": {},
   "outputs": [
    {
     "name": "stdout",
     "output_type": "stream",
     "text": [
      "Scooping https://agniyoga.org with encoding: UTF-8:Success!\n"
     ]
    }
   ],
   "source": [
    "corpus = []\n",
    "agniYoga = \"https://agniyoga.org\"\n",
    "\n",
    "tOC = Souper(agniYoga)\n",
    "tOCSoup = tOC.scoop()"
   ]
  },
  {
   "cell_type": "code",
   "execution_count": 5,
   "metadata": {},
   "outputs": [
    {
     "data": {
      "text/plain": [
       "bs4.BeautifulSoup"
      ]
     },
     "execution_count": 5,
     "metadata": {},
     "output_type": "execute_result"
    }
   ],
   "source": [
    "type(tOCSoup)"
   ]
  },
  {
   "cell_type": "code",
   "execution_count": 6,
   "metadata": {},
   "outputs": [],
   "source": [
    "for s in tOCSoup.find_all(\"ul\",attrs={\"id\":\"navRight\"}):\n",
    "    for lnk in s.findAll(\"a\"):\n",
    "        corpus.append(agniYoga+\"/\"+lnk.get(\"href\"))      "
   ]
  },
  {
   "cell_type": "code",
   "execution_count": 7,
   "metadata": {},
   "outputs": [
    {
     "data": {
      "text/plain": [
       "['https://agniyoga.org/ay_en/Leaves-of-Moryas-Garden-I.php',\n",
       " 'https://agniyoga.org/ay_en/Leaves-of-Moryas-Garden-II.php',\n",
       " 'https://agniyoga.org/ay_en/New-Era-Community.php',\n",
       " 'https://agniyoga.org/ay_en/Agni-Yoga.php',\n",
       " 'https://agniyoga.org/ay_en/Infinity-I.php',\n",
       " 'https://agniyoga.org/ay_en/Infinity-II.php',\n",
       " 'https://agniyoga.org/ay_en/Hierarchy.php',\n",
       " 'https://agniyoga.org/ay_en/Heart.php',\n",
       " 'https://agniyoga.org/ay_en/Fiery-World-I.php',\n",
       " 'https://agniyoga.org/ay_en/Fiery-World-II.php',\n",
       " 'https://agniyoga.org/ay_en/Fiery-World-III.php',\n",
       " 'https://agniyoga.org/ay_en/Aum.php',\n",
       " 'https://agniyoga.org/ay_en/Brotherhood.php',\n",
       " 'https://agniyoga.org/ay_en/Supermundane.php',\n",
       " 'https://agniyoga.org/ay_en/On-Eastern-Crossroads.php',\n",
       " 'https://agniyoga.org/ay_en/Letters-of-Helena-Roerich-I.php',\n",
       " 'https://agniyoga.org/ay_en/Letters-of-Helena-Roerich-II.php',\n",
       " 'https://agniyoga.org/ay_en/Foundations-of-Buddhism.php']"
      ]
     },
     "execution_count": 7,
     "metadata": {},
     "output_type": "execute_result"
    }
   ],
   "source": [
    "corpus"
   ]
  },
  {
   "cell_type": "code",
   "execution_count": 7,
   "metadata": {},
   "outputs": [
    {
     "name": "stdout",
     "output_type": "stream",
     "text": [
      "Scooping https://agniyoga.org/ay_en/Leaves-of-Moryas-Garden-I.php with encoding: UTF-8:Success!\n"
     ]
    }
   ],
   "source": [
    "LM01 = corpus[0]\n",
    "LM01Soup = Souper(LM01).scoop()"
   ]
  },
  {
   "cell_type": "code",
   "execution_count": 8,
   "metadata": {},
   "outputs": [
    {
     "name": "stdout",
     "output_type": "stream",
     "text": [
      "Scooping https://agniyoga.org/ay_en/Leaves-of-Moryas-Garden-I.php with encoding: UTF-8:Success!\n",
      "Scooping https://agniyoga.org/ay_en/Leaves-of-Moryas-Garden-II.php with encoding: UTF-8:Success!\n",
      "Scooping https://agniyoga.org/ay_en/New-Era-Community.php with encoding: UTF-8:Success!\n",
      "Scooping https://agniyoga.org/ay_en/Agni-Yoga.php with encoding: UTF-8:Success!\n",
      "Scooping https://agniyoga.org/ay_en/Infinity-I.php with encoding: UTF-8:Success!\n",
      "Scooping https://agniyoga.org/ay_en/Infinity-II.php with encoding: UTF-8:Success!\n",
      "Scooping https://agniyoga.org/ay_en/Hierarchy.php with encoding: UTF-8:Success!\n",
      "Scooping https://agniyoga.org/ay_en/Heart.php with encoding: UTF-8:Success!\n",
      "Scooping https://agniyoga.org/ay_en/Fiery-World-I.php with encoding: UTF-8:Success!\n",
      "Scooping https://agniyoga.org/ay_en/Fiery-World-II.php with encoding: UTF-8:Success!\n",
      "Scooping https://agniyoga.org/ay_en/Fiery-World-III.php with encoding: UTF-8:Success!\n",
      "Scooping https://agniyoga.org/ay_en/Aum.php with encoding: UTF-8:Success!\n",
      "Scooping https://agniyoga.org/ay_en/Brotherhood.php with encoding: UTF-8:Success!\n"
     ]
    }
   ],
   "source": [
    "raw_dump = \"\"\n",
    "for agniYogaBook in corpus[0:13]:\n",
    "    agniYogaHTML = Souper(agniYogaBook).scoop()\n",
    "    for M in agniYogaHTML.select(\"section.ayBook\"):\n",
    "        for p in M.find_all(\"p\"):\n",
    "            raw_dump+=p.getText()\n"
   ]
  },
  {
   "cell_type": "code",
   "execution_count": 9,
   "metadata": {},
   "outputs": [
    {
     "data": {
      "text/plain": [
       "4878507"
      ]
     },
     "execution_count": 9,
     "metadata": {},
     "output_type": "execute_result"
    }
   ],
   "source": [
    "len(raw_dump)"
   ]
  },
  {
   "cell_type": "code",
   "execution_count": null,
   "metadata": {},
   "outputs": [],
   "source": [
    "with open(\"agniyoga_en.txt\",\"wb\") as file:\n",
    "    file.write(raw_dump.encode(\"UTF-8\"))"
   ]
  },
  {
   "cell_type": "code",
   "execution_count": null,
   "metadata": {},
   "outputs": [],
   "source": []
  }
 ],
 "metadata": {
  "interpreter": {
   "hash": "81794d4967e6c3204c66dcd87b604927b115b27c00565d3d43f05ba2f3a2cb0d"
  },
  "kernelspec": {
   "display_name": "Python 3.9.5 64-bit",
   "language": "python",
   "name": "python3"
  },
  "language_info": {
   "codemirror_mode": {
    "name": "ipython",
    "version": 3
   },
   "file_extension": ".py",
   "mimetype": "text/x-python",
   "name": "python",
   "nbconvert_exporter": "python",
   "pygments_lexer": "ipython3",
   "version": "3.9.5"
  },
  "latex_envs": {
   "LaTeX_envs_menu_present": true,
   "autoclose": false,
   "autocomplete": true,
   "bibliofile": "biblio.bib",
   "cite_by": "apalike",
   "current_citInitial": 1,
   "eqLabelWithNumbers": true,
   "eqNumInitial": 1,
   "hotkeys": {
    "equation": "Ctrl-E",
    "itemize": "Ctrl-I"
   },
   "labels_anchors": false,
   "latex_user_defs": false,
   "report_style_numbering": false,
   "user_envs_cfg": false
  }
 },
 "nbformat": 4,
 "nbformat_minor": 2
}
