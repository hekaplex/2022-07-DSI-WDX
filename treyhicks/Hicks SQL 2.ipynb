{
    "metadata": {
        "kernelspec": {
            "name": "SQL",
            "display_name": "SQL",
            "language": "sql"
        },
        "language_info": {
            "name": "sql",
            "version": ""
        }
    },
    "nbformat_minor": 2,
    "nbformat": 4,
    "cells": [
        {
            "cell_type": "code",
            "source": [
                "SELECT\r\n",
                "STDEV([Depth])\r\n",
                ",AVG([Depth])\r\n",
                ",MIN([Depth])\r\n",
                ",MAX([Depth]) \r\n",
                "from dbo.ships\r\n",
                ";\r\n",
                "SELECT 7.648319847314739/29.595538072265253 as ratio_min_max;\r\n",
                "WITH score\r\n",
                "as \r\n",
                "(\r\n",
                "SELECT \r\n",
                "(Depth - 7.648319847314739 )/29.595538072265253 zscore\r\n",
                "FROM\r\n",
                "\tShips\r\n",
                "\t)\r\n",
                "SELECT\r\n",
                "MIN(zscore) \r\n",
                ",MAX(zscore) \r\n",
                "from score;\r\n",
                "select -0.05839798441240192 / -1.0339964111469522 as ratio_min_max_zscore\r\n",
                "--\"ideal variance\" = six sigma\r\n",
                ";\r\n",
                "select  0.05839798441240192 - 1.0339964111469522 as stdev_range_zscore\r\n",
                "-- actual is 33+ sigma\r\n",
                ";\r\n",
                "SELECT COUNT(*) from ships\r\n",
                "--327\r\n",
                ";\r\n",
                "WITH score\r\n",
                "as \r\n",
                "(\r\n",
                "SELECT \r\n",
                "(Depth - 7.648319847314739)/29.595538072265253 zscore\r\n",
                "FROM\r\n",
                "\tShips\r\n",
                "\t)\r\n",
                "SELECT ROUND(zscore,0) as zscore_bin\r\n",
                ", COUNT(*)/3.27 as [pctage]\r\n",
                "from score\r\n",
                "GROUP BY ROUND(zscore,0) \r\n",
                "ORDER BY ROUND(zscore,0) ASC\r\n",
                "\r\n",
                "\r\n",
                ""
            ],
            "metadata": {
                "azdata_cell_guid": "70f3c122-5642-492c-8f36-c23905ac89a2",
                "language": "sql",
                "tags": []
            },
            "outputs": [
                {
                    "output_type": "display_data",
                    "data": {
                        "text/html": "(1 row affected)"
                    },
                    "metadata": {}
                },
                {
                    "output_type": "display_data",
                    "data": {
                        "text/html": "(1 row affected)"
                    },
                    "metadata": {}
                },
                {
                    "output_type": "display_data",
                    "data": {
                        "text/html": "(1 row affected)"
                    },
                    "metadata": {}
                },
                {
                    "output_type": "display_data",
                    "data": {
                        "text/html": "(1 row affected)"
                    },
                    "metadata": {}
                },
                {
                    "output_type": "display_data",
                    "data": {
                        "text/html": "(1 row affected)"
                    },
                    "metadata": {}
                },
                {
                    "output_type": "display_data",
                    "data": {
                        "text/html": "(1 row affected)"
                    },
                    "metadata": {}
                },
                {
                    "output_type": "display_data",
                    "data": {
                        "text/html": "(2 rows affected)"
                    },
                    "metadata": {}
                },
                {
                    "output_type": "display_data",
                    "data": {
                        "text/html": "Total execution time: 00:00:00.123"
                    },
                    "metadata": {}
                },
                {
                    "output_type": "execute_result",
                    "execution_count": 36,
                    "data": {
                        "application/vnd.dataresource+json": {
                            "schema": {
                                "fields": [
                                    {
                                        "name": "(No column name)"
                                    },
                                    {
                                        "name": "(No column name)"
                                    },
                                    {
                                        "name": "(No column name)"
                                    },
                                    {
                                        "name": "(No column name)"
                                    }
                                ]
                            },
                            "data": [
                                {
                                    "0": "7.648319847314739",
                                    "1": "29.595538072265253",
                                    "2": "5.920000076293945",
                                    "3": "38.25"
                                }
                            ]
                        },
                        "text/html": "<table><tr><th>(No column name)</th><th>(No column name)</th><th>(No column name)</th><th>(No column name)</th></tr><tr><td>7.648319847314739</td><td>29.595538072265253</td><td>5.920000076293945</td><td>38.25</td></tr></table>"
                    },
                    "metadata": {}
                },
                {
                    "output_type": "execute_result",
                    "execution_count": 36,
                    "data": {
                        "application/vnd.dataresource+json": {
                            "schema": {
                                "fields": [
                                    {
                                        "name": "ratio_min_max"
                                    }
                                ]
                            },
                            "data": [
                                {
                                    "0": "0.2584281396959015951173"
                                }
                            ]
                        },
                        "text/html": "<table><tr><th>ratio_min_max</th></tr><tr><td>0.2584281396959015951173</td></tr></table>"
                    },
                    "metadata": {}
                },
                {
                    "output_type": "execute_result",
                    "execution_count": 36,
                    "data": {
                        "application/vnd.dataresource+json": {
                            "schema": {
                                "fields": [
                                    {
                                        "name": "(No column name)"
                                    },
                                    {
                                        "name": "(No column name)"
                                    }
                                ]
                            },
                            "data": [
                                {
                                    "0": "-0.05839798441240192",
                                    "1": "1.0339964111469522"
                                }
                            ]
                        },
                        "text/html": "<table><tr><th>(No column name)</th><th>(No column name)</th></tr><tr><td>-0.05839798441240192</td><td>1.0339964111469522</td></tr></table>"
                    },
                    "metadata": {}
                },
                {
                    "output_type": "execute_result",
                    "execution_count": 36,
                    "data": {
                        "application/vnd.dataresource+json": {
                            "schema": {
                                "fields": [
                                    {
                                        "name": "ratio_min_max_zscore"
                                    }
                                ]
                            },
                            "data": [
                                {
                                    "0": "0.0564779372373492337697"
                                }
                            ]
                        },
                        "text/html": "<table><tr><th>ratio_min_max_zscore</th></tr><tr><td>0.0564779372373492337697</td></tr></table>"
                    },
                    "metadata": {}
                },
                {
                    "output_type": "execute_result",
                    "execution_count": 36,
                    "data": {
                        "application/vnd.dataresource+json": {
                            "schema": {
                                "fields": [
                                    {
                                        "name": "stdev_range_zscore"
                                    }
                                ]
                            },
                            "data": [
                                {
                                    "0": "-0.97559842673455028"
                                }
                            ]
                        },
                        "text/html": "<table><tr><th>stdev_range_zscore</th></tr><tr><td>-0.97559842673455028</td></tr></table>"
                    },
                    "metadata": {}
                },
                {
                    "output_type": "execute_result",
                    "execution_count": 36,
                    "data": {
                        "application/vnd.dataresource+json": {
                            "schema": {
                                "fields": [
                                    {
                                        "name": "(No column name)"
                                    }
                                ]
                            },
                            "data": [
                                {
                                    "0": "327"
                                }
                            ]
                        },
                        "text/html": "<table><tr><th>(No column name)</th></tr><tr><td>327</td></tr></table>"
                    },
                    "metadata": {}
                },
                {
                    "output_type": "execute_result",
                    "execution_count": 36,
                    "data": {
                        "application/vnd.dataresource+json": {
                            "schema": {
                                "fields": [
                                    {
                                        "name": "zscore_bin"
                                    },
                                    {
                                        "name": "pctage"
                                    }
                                ]
                            },
                            "data": [
                                {
                                    "0": "0",
                                    "1": "16.207951"
                                },
                                {
                                    "0": "1",
                                    "1": "83.792048"
                                }
                            ]
                        },
                        "text/html": "<table><tr><th>zscore_bin</th><th>pctage</th></tr><tr><td>0</td><td>16.207951</td></tr><tr><td>1</td><td>83.792048</td></tr></table>"
                    },
                    "metadata": {}
                }
            ],
            "execution_count": 36
        }
    ]
}