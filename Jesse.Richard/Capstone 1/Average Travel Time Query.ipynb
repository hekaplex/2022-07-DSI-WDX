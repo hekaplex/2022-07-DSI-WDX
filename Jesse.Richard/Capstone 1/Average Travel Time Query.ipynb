{
    "metadata": {
        "kernelspec": {
            "name": "SQL",
            "display_name": "SQL",
            "language": "sql"
        },
        "language_info": {
            "name": "sql",
            "version": ""
        }
    },
    "nbformat_minor": 2,
    "nbformat": 4,
    "cells": [
        {
            "cell_type": "code",
            "source": [
                "--Compare Average Travel Time to Operator\r\n",
                "SELECT\r\n",
                "    s.Operator\r\n",
                "    ,CAST(AVG(DATEDIFF(day, c.[Arrival Date], c.[Sail Date])) AS decimal(3,2)) AS 'Average Travel Time'\r\n",
                "FROM\r\n",
                "    Calls c\r\n",
                "JOIN\r\n",
                "    SHIPS s\r\n",
                "ON\r\n",
                "    s.LRNO = c.LRNO\r\n",
                "GROUP BY\r\n",
                "    s.Operator\r\n",
                "ORDER BY\r\n",
                "   [Average Travel Time] DESC"
            ],
            "metadata": {
                "azdata_cell_guid": "06cda5a5-e747-4aee-87ec-f0a86ba618a8",
                "language": "sql",
                "tags": []
            },
            "outputs": [
                {
                    "output_type": "display_data",
                    "data": {
                        "text/html": "(56 rows affected)"
                    },
                    "metadata": {}
                },
                {
                    "output_type": "display_data",
                    "data": {
                        "text/html": "Total execution time: 00:00:00.156"
                    },
                    "metadata": {}
                },
                {
                    "output_type": "execute_result",
                    "metadata": {},
                    "execution_count": 1,
                    "data": {
                        "application/vnd.dataresource+json": {
                            "schema": {
                                "fields": [
                                    {
                                        "name": "Operator"
                                    },
                                    {
                                        "name": "Average Travel Time"
                                    }
                                ]
                            },
                            "data": [
                                {
                                    "0": "Priyanka Shipping Ltd",
                                    "1": "4.00"
                                },
                                {
                                    "0": "Natie Shipping Co Ltd",
                                    "1": "2.00"
                                },
                                {
                                    "0": "Mitra Anugrah Samudra",
                                    "1": "2.00"
                                },
                                {
                                    "0": "Meiko Marine",
                                    "1": "1.00"
                                },
                                {
                                    "0": "Prayati Shipping Pvt Ltd",
                                    "1": "1.00"
                                },
                                {
                                    "0": "K Line Indonesia",
                                    "1": "1.00"
                                },
                                {
                                    "0": "Abou Merhi Lines SAL",
                                    "1": "1.00"
                                },
                                {
                                    "0": "American Roll-on Roll-off",
                                    "1": "0.00"
                                },
                                {
                                    "0": "Avanti Services Corp",
                                    "1": "0.00"
                                },
                                {
                                    "0": "China Shipping Car Carrier Inc",
                                    "1": "0.00"
                                },
                                {
                                    "0": "Cido Car Carrier Service Co",
                                    "1": "0.00"
                                },
                                {
                                    "0": "COSCOL",
                                    "1": "0.00"
                                },
                                {
                                    "0": "CSAV",
                                    "1": "0.00"
                                },
                                {
                                    "0": "CSC RoRo Logistics Co Ltd",
                                    "1": "0.00"
                                },
                                {
                                    "0": "Doriko Ltd",
                                    "1": "0.00"
                                },
                                {
                                    "0": "Eastern Car Liner Ltd",
                                    "1": "0.00"
                                },
                                {
                                    "0": "Eastern Pacific Shipping Pte",
                                    "1": "0.00"
                                },
                                {
                                    "0": "EUKOR Car Carriers Inc",
                                    "1": "0.00"
                                },
                                {
                                    "0": "Fairfield-Maxwell Services Ltd",
                                    "1": "0.00"
                                },
                                {
                                    "0": "Gram & Co AS",
                                    "1": "0.00"
                                },
                                {
                                    "0": "Hoegh Autoliners AS",
                                    "1": "0.00"
                                },
                                {
                                    "0": "Hyuga Kaiun YK",
                                    "1": "0.00"
                                },
                                {
                                    "0": "Hyundai Glovis Co Ltd",
                                    "1": "0.00"
                                },
                                {
                                    "0": "JK Maritime Inc",
                                    "1": "0.00"
                                },
                                {
                                    "0": "Kawasaki Kisen Kaisha Ltd",
                                    "1": "0.00"
                                },
                                {
                                    "0": "Kitaura Kaiun KK",
                                    "1": "0.00"
                                },
                                {
                                    "0": "Kyodogumi Kaiun",
                                    "1": "0.00"
                                },
                                {
                                    "0": "Laeisz F Schiffahrts mbH & Co",
                                    "1": "0.00"
                                },
                                {
                                    "0": "Laeisz Reederei",
                                    "1": "0.00"
                                },
                                {
                                    "0": "LCI Shipholdings Inc",
                                    "1": "0.00"
                                },
                                {
                                    "0": "Mitsui OSK Lines Ltd",
                                    "1": "0.00"
                                },
                                {
                                    "0": "Neptune Lines Shipping",
                                    "1": "0.00"
                                },
                                {
                                    "0": "Nissan Motor Car Carrier",
                                    "1": "0.00"
                                },
                                {
                                    "0": "Norwegian Car Carriers AS",
                                    "1": "0.00"
                                },
                                {
                                    "0": "Nusantara Sejati",
                                    "1": "0.00"
                                },
                                {
                                    "0": "NYK Line",
                                    "1": "0.00"
                                },
                                {
                                    "0": "NYK Line Indonesia",
                                    "1": "0.00"
                                },
                                {
                                    "0": "NYKCOS Car Carrier Co Ltd",
                                    "1": "0.00"
                                },
                                {
                                    "0": "Pasha Group",
                                    "1": "0.00"
                                },
                                {
                                    "0": "Rptd Sold Undisclosed Interest",
                                    "1": "0.00"
                                },
                                {
                                    "0": "Salam Pacific Indonesia Lines",
                                    "1": "0.00"
                                },
                                {
                                    "0": "Shunzan Kaiun KK",
                                    "1": "0.00"
                                },
                                {
                                    "0": "Siem Car Carriers AS",
                                    "1": "0.00"
                                },
                                {
                                    "0": "Sunship Schiffahrtskontor KG",
                                    "1": "0.00"
                                },
                                {
                                    "0": "TB Marine-Hamburg GmbH",
                                    "1": "0.00"
                                },
                                {
                                    "0": "Toyofuji Serasi Indonesia",
                                    "1": "0.00"
                                },
                                {
                                    "0": "Toyofuji Shipping Co Ltd",
                                    "1": "0.00"
                                },
                                {
                                    "0": "UECC",
                                    "1": "0.00"
                                },
                                {
                                    "0": "United Ocean Ship Mgmt Pte Ltd",
                                    "1": "0.00"
                                },
                                {
                                    "0": "Urizen Shipping Ltd",
                                    "1": "0.00"
                                },
                                {
                                    "0": "Vroon BV",
                                    "1": "0.00"
                                },
                                {
                                    "0": "Wallenius Wilhelmsen Logistics",
                                    "1": "0.00"
                                },
                                {
                                    "0": "Yashi Maritima SA",
                                    "1": "0.00"
                                },
                                {
                                    "0": "Yokohama Marine & Merchant",
                                    "1": "0.00"
                                },
                                {
                                    "0": "Zim Integrated Shipping",
                                    "1": "0.00"
                                },
                                {
                                    "0": "Zodiac Maritime Ltd",
                                    "1": "0.00"
                                }
                            ]
                        },
                        "text/html": [
                            "<table>",
                            "<tr><th>Operator</th><th>Average Travel Time</th></tr>",
                            "<tr><td>Priyanka Shipping Ltd</td><td>4.00</td></tr>",
                            "<tr><td>Natie Shipping Co Ltd</td><td>2.00</td></tr>",
                            "<tr><td>Mitra Anugrah Samudra</td><td>2.00</td></tr>",
                            "<tr><td>Meiko Marine</td><td>1.00</td></tr>",
                            "<tr><td>Prayati Shipping Pvt Ltd</td><td>1.00</td></tr>",
                            "<tr><td>K Line Indonesia</td><td>1.00</td></tr>",
                            "<tr><td>Abou Merhi Lines SAL</td><td>1.00</td></tr>",
                            "<tr><td>American Roll-on Roll-off</td><td>0.00</td></tr>",
                            "<tr><td>Avanti Services Corp</td><td>0.00</td></tr>",
                            "<tr><td>China Shipping Car Carrier Inc</td><td>0.00</td></tr>",
                            "<tr><td>Cido Car Carrier Service Co</td><td>0.00</td></tr>",
                            "<tr><td>COSCOL</td><td>0.00</td></tr>",
                            "<tr><td>CSAV</td><td>0.00</td></tr>",
                            "<tr><td>CSC RoRo Logistics Co Ltd</td><td>0.00</td></tr>",
                            "<tr><td>Doriko Ltd</td><td>0.00</td></tr>",
                            "<tr><td>Eastern Car Liner Ltd</td><td>0.00</td></tr>",
                            "<tr><td>Eastern Pacific Shipping Pte</td><td>0.00</td></tr>",
                            "<tr><td>EUKOR Car Carriers Inc</td><td>0.00</td></tr>",
                            "<tr><td>Fairfield-Maxwell Services Ltd</td><td>0.00</td></tr>",
                            "<tr><td>Gram &amp; Co AS</td><td>0.00</td></tr>",
                            "<tr><td>Hoegh Autoliners AS</td><td>0.00</td></tr>",
                            "<tr><td>Hyuga Kaiun YK</td><td>0.00</td></tr>",
                            "<tr><td>Hyundai Glovis Co Ltd</td><td>0.00</td></tr>",
                            "<tr><td>JK Maritime Inc</td><td>0.00</td></tr>",
                            "<tr><td>Kawasaki Kisen Kaisha Ltd</td><td>0.00</td></tr>",
                            "<tr><td>Kitaura Kaiun KK</td><td>0.00</td></tr>",
                            "<tr><td>Kyodogumi Kaiun</td><td>0.00</td></tr>",
                            "<tr><td>Laeisz F Schiffahrts mbH &amp; Co</td><td>0.00</td></tr>",
                            "<tr><td>Laeisz Reederei</td><td>0.00</td></tr>",
                            "<tr><td>LCI Shipholdings Inc</td><td>0.00</td></tr>",
                            "<tr><td>Mitsui OSK Lines Ltd</td><td>0.00</td></tr>",
                            "<tr><td>Neptune Lines Shipping</td><td>0.00</td></tr>",
                            "<tr><td>Nissan Motor Car Carrier</td><td>0.00</td></tr>",
                            "<tr><td>Norwegian Car Carriers AS</td><td>0.00</td></tr>",
                            "<tr><td>Nusantara Sejati</td><td>0.00</td></tr>",
                            "<tr><td>NYK Line</td><td>0.00</td></tr>",
                            "<tr><td>NYK Line Indonesia</td><td>0.00</td></tr>",
                            "<tr><td>NYKCOS Car Carrier Co Ltd</td><td>0.00</td></tr>",
                            "<tr><td>Pasha Group</td><td>0.00</td></tr>",
                            "<tr><td>Rptd Sold Undisclosed Interest</td><td>0.00</td></tr>",
                            "<tr><td>Salam Pacific Indonesia Lines</td><td>0.00</td></tr>",
                            "<tr><td>Shunzan Kaiun KK</td><td>0.00</td></tr>",
                            "<tr><td>Siem Car Carriers AS</td><td>0.00</td></tr>",
                            "<tr><td>Sunship Schiffahrtskontor KG</td><td>0.00</td></tr>",
                            "<tr><td>TB Marine-Hamburg GmbH</td><td>0.00</td></tr>",
                            "<tr><td>Toyofuji Serasi Indonesia</td><td>0.00</td></tr>",
                            "<tr><td>Toyofuji Shipping Co Ltd</td><td>0.00</td></tr>",
                            "<tr><td>UECC</td><td>0.00</td></tr>",
                            "<tr><td>United Ocean Ship Mgmt Pte Ltd</td><td>0.00</td></tr>",
                            "<tr><td>Urizen Shipping Ltd</td><td>0.00</td></tr>",
                            "<tr><td>Vroon BV</td><td>0.00</td></tr>",
                            "<tr><td>Wallenius Wilhelmsen Logistics</td><td>0.00</td></tr>",
                            "<tr><td>Yashi Maritima SA</td><td>0.00</td></tr>",
                            "<tr><td>Yokohama Marine &amp; Merchant</td><td>0.00</td></tr>",
                            "<tr><td>Zim Integrated Shipping</td><td>0.00</td></tr>",
                            "<tr><td>Zodiac Maritime Ltd</td><td>0.00</td></tr>",
                            "</table>"
                        ]
                    }
                }
            ],
            "execution_count": 1
        }
    ]
}