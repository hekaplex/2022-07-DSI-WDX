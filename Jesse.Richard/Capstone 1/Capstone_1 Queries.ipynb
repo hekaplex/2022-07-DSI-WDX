{
    "metadata": {
        "kernelspec": {
            "name": "SQL",
            "display_name": "SQL",
            "language": "sql"
        },
        "language_info": {
            "name": "sql",
            "version": ""
        }
    },
    "nbformat_minor": 2,
    "nbformat": 4,
    "cells": [
        {
            "cell_type": "markdown",
            "source": [
                ""
            ],
            "metadata": {
                "azdata_cell_guid": "8f24a465-9ffd-4e5a-9e0d-f74e1422ca03"
            }
        },
        {
            "cell_type": "code",
            "source": [
                "--Total Exports by country\r\n",
                "Select\r\n",
                "    COUNT(LRNO) AS 'Exports'\r\n",
                "    ,CAST([Prior Country Name] AS nvarchar(25)) AS 'Prior Country'\r\n",
                "FROM \r\n",
                "    Calls\r\n",
                "WHERE\r\n",
                "    CAST([Prior Country Name] AS nvarchar(25)) <> 'NA'\r\n",
                "GROUP BY\r\n",
                "    CAST([Prior Country Name] AS nvarchar(25))\r\n",
                "ORDER BY\r\n",
                "    COUNT(LRNO) DESC"
            ],
            "metadata": {
                "azdata_cell_guid": "227200a3-763a-4bc2-bc4c-24bafb64a943",
                "language": "sql",
                "tags": []
            },
            "outputs": [
                {
                    "output_type": "display_data",
                    "data": {
                        "text/html": "(133 rows affected)"
                    },
                    "metadata": {}
                },
                {
                    "output_type": "display_data",
                    "data": {
                        "text/html": "Total execution time: 00:00:52.079"
                    },
                    "metadata": {}
                },
                {
                    "output_type": "execute_result",
                    "metadata": {},
                    "execution_count": 2,
                    "data": {
                        "application/vnd.dataresource+json": {
                            "schema": {
                                "fields": [
                                    {
                                        "name": "Exports"
                                    },
                                    {
                                        "name": "Prior Country"
                                    }
                                ]
                            },
                            "data": [
                                {
                                    "0": "16213",
                                    "1": "Japan"
                                },
                                {
                                    "0": "8403",
                                    "1": "Korea (South)"
                                },
                                {
                                    "0": "8390",
                                    "1": "China"
                                },
                                {
                                    "0": "7603",
                                    "1": "United States of America"
                                },
                                {
                                    "0": "4841",
                                    "1": "Singapore"
                                },
                                {
                                    "0": "3492",
                                    "1": "Panama"
                                },
                                {
                                    "0": "3357",
                                    "1": "Australia"
                                },
                                {
                                    "0": "3352",
                                    "1": "Indonesia"
                                },
                                {
                                    "0": "2747",
                                    "1": "United Arab Emirates"
                                },
                                {
                                    "0": "2732",
                                    "1": "Egypt"
                                },
                                {
                                    "0": "1901",
                                    "1": "Brazil"
                                },
                                {
                                    "0": "1898",
                                    "1": "Turkey"
                                },
                                {
                                    "0": "1872",
                                    "1": "United Kingdom"
                                },
                                {
                                    "0": "1763",
                                    "1": "Saudi Arabia"
                                },
                                {
                                    "0": "1679",
                                    "1": "Belgium"
                                },
                                {
                                    "0": "1624",
                                    "1": "Netherlands"
                                },
                                {
                                    "0": "1359",
                                    "1": "Malaysia"
                                },
                                {
                                    "0": "1315",
                                    "1": "South Africa"
                                },
                                {
                                    "0": "1291",
                                    "1": "Germany"
                                },
                                {
                                    "0": "1059",
                                    "1": "Mexico"
                                },
                                {
                                    "0": "1025",
                                    "1": "Thailand"
                                },
                                {
                                    "0": "894",
                                    "1": "Hong Kong"
                                },
                                {
                                    "0": "879",
                                    "1": "Malta"
                                },
                                {
                                    "0": "876",
                                    "1": "Argentina"
                                },
                                {
                                    "0": "795",
                                    "1": "Kuwait"
                                },
                                {
                                    "0": "793",
                                    "1": "Spain"
                                },
                                {
                                    "0": "788",
                                    "1": "Canada"
                                },
                                {
                                    "0": "787",
                                    "1": "Nigeria"
                                },
                                {
                                    "0": "742",
                                    "1": "Greece"
                                },
                                {
                                    "0": "739",
                                    "1": "Colombia"
                                },
                                {
                                    "0": "733",
                                    "1": "Chile"
                                },
                                {
                                    "0": "622",
                                    "1": "Bahrain"
                                },
                                {
                                    "0": "587",
                                    "1": "India"
                                },
                                {
                                    "0": "545",
                                    "1": "New Zealand"
                                },
                                {
                                    "0": "540",
                                    "1": "Peru"
                                },
                                {
                                    "0": "537",
                                    "1": "Tanzania"
                                },
                                {
                                    "0": "504",
                                    "1": "Oman"
                                },
                                {
                                    "0": "490",
                                    "1": "Mozambique"
                                },
                                {
                                    "0": "486",
                                    "1": "Italy"
                                },
                                {
                                    "0": "395",
                                    "1": "Qatar"
                                },
                                {
                                    "0": "391",
                                    "1": "Sri Lanka"
                                },
                                {
                                    "0": "377",
                                    "1": "France"
                                },
                                {
                                    "0": "372",
                                    "1": "Angola"
                                },
                                {
                                    "0": "352",
                                    "1": "Uruguay"
                                },
                                {
                                    "0": "328",
                                    "1": "Kenya"
                                },
                                {
                                    "0": "326",
                                    "1": "Taiwan"
                                },
                                {
                                    "0": "318",
                                    "1": "Ghana"
                                },
                                {
                                    "0": "304",
                                    "1": "Ecuador"
                                },
                                {
                                    "0": "285",
                                    "1": "Trinidad & Tobago"
                                },
                                {
                                    "0": "246",
                                    "1": "Venezuela"
                                },
                                {
                                    "0": "244",
                                    "1": "Benin"
                                },
                                {
                                    "0": "240",
                                    "1": "Slovenia"
                                },
                                {
                                    "0": "238",
                                    "1": "Jamaica"
                                },
                                {
                                    "0": "224",
                                    "1": "Cote d'Ivoire"
                                },
                                {
                                    "0": "208",
                                    "1": "Iraq"
                                },
                                {
                                    "0": "203",
                                    "1": "Jordan"
                                },
                                {
                                    "0": "195",
                                    "1": "Aruba"
                                },
                                {
                                    "0": "191",
                                    "1": "Philippines"
                                },
                                {
                                    "0": "176",
                                    "1": "Dominican Republic"
                                },
                                {
                                    "0": "164",
                                    "1": "Libya"
                                },
                                {
                                    "0": "164",
                                    "1": "Algeria"
                                },
                                {
                                    "0": "160",
                                    "1": "Morocco"
                                },
                                {
                                    "0": "156",
                                    "1": "Bangladesh"
                                },
                                {
                                    "0": "154",
                                    "1": "Djibouti"
                                },
                                {
                                    "0": "144",
                                    "1": "Lebanon"
                                },
                                {
                                    "0": "140",
                                    "1": "Sweden"
                                },
                                {
                                    "0": "128",
                                    "1": "Russia"
                                },
                                {
                                    "0": "118",
                                    "1": "Senegal"
                                },
                                {
                                    "0": "110",
                                    "1": "Yemen"
                                },
                                {
                                    "0": "108",
                                    "1": "Vietnam"
                                },
                                {
                                    "0": "98",
                                    "1": "Brunei Darussalam"
                                },
                                {
                                    "0": "94",
                                    "1": "Guatemala"
                                },
                                {
                                    "0": "93",
                                    "1": "Namibia"
                                },
                                {
                                    "0": "92",
                                    "1": "Puerto Rico"
                                },
                                {
                                    "0": "77",
                                    "1": "Madagascar"
                                },
                                {
                                    "0": "76",
                                    "1": "Bahamas"
                                },
                                {
                                    "0": "75",
                                    "1": "Costa Rica"
                                },
                                {
                                    "0": "69",
                                    "1": "Guyana"
                                },
                                {
                                    "0": "69",
                                    "1": "Mauritius"
                                },
                                {
                                    "0": "63",
                                    "1": "Honduras"
                                },
                                {
                                    "0": "63",
                                    "1": "El Salvador"
                                },
                                {
                                    "0": "62",
                                    "1": "Congo (Republic)"
                                },
                                {
                                    "0": "61",
                                    "1": "Papua New Guinea"
                                },
                                {
                                    "0": "59",
                                    "1": "Iran"
                                },
                                {
                                    "0": "59",
                                    "1": "Cameroon"
                                },
                                {
                                    "0": "59",
                                    "1": "Myanmar"
                                },
                                {
                                    "0": "58",
                                    "1": "Togo"
                                },
                                {
                                    "0": "54",
                                    "1": "Nicaragua"
                                },
                                {
                                    "0": "48",
                                    "1": "Pakistan"
                                },
                                {
                                    "0": "47",
                                    "1": "Israel"
                                },
                                {
                                    "0": "46",
                                    "1": "Suriname"
                                },
                                {
                                    "0": "45",
                                    "1": "Martinique"
                                },
                                {
                                    "0": "44",
                                    "1": "Tunisia"
                                },
                                {
                                    "0": "43",
                                    "1": "Gabon"
                                },
                                {
                                    "0": "41",
                                    "1": "Sudan"
                                },
                                {
                                    "0": "41",
                                    "1": "Canary Islands"
                                },
                                {
                                    "0": "37",
                                    "1": "Fiji"
                                },
                                {
                                    "0": "37",
                                    "1": "Guadeloupe"
                                },
                                {
                                    "0": "36",
                                    "1": "Guam"
                                },
                                {
                                    "0": "35",
                                    "1": "Northern Mariana Islands"
                                },
                                {
                                    "0": "34",
                                    "1": "Reunion"
                                },
                                {
                                    "0": "31",
                                    "1": "Portugal"
                                },
                                {
                                    "0": "30",
                                    "1": "Romania"
                                },
                                {
                                    "0": "30",
                                    "1": "Denmark"
                                },
                                {
                                    "0": "29",
                                    "1": "New Caledonia"
                                },
                                {
                                    "0": "29",
                                    "1": "Barbados"
                                },
                                {
                                    "0": "27",
                                    "1": "Mauritania"
                                },
                                {
                                    "0": "26",
                                    "1": "Cyprus"
                                },
                                {
                                    "0": "20",
                                    "1": "French Guiana"
                                },
                                {
                                    "0": "19",
                                    "1": "Equatorial Guinea"
                                },
                                {
                                    "0": "19",
                                    "1": "Guinea"
                                },
                                {
                                    "0": "16",
                                    "1": "Antigua"
                                },
                                {
                                    "0": "15",
                                    "1": "Gibraltar"
                                },
                                {
                                    "0": "13",
                                    "1": "St Lucia"
                                },
                                {
                                    "0": "13",
                                    "1": "French Polynesia"
                                },
                                {
                                    "0": "12",
                                    "1": "Dominica"
                                },
                                {
                                    "0": "12",
                                    "1": "Sierra Leone"
                                },
                                {
                                    "0": "12",
                                    "1": "St Kitts & Nevis"
                                },
                                {
                                    "0": "11",
                                    "1": "Bermuda"
                                },
                                {
                                    "0": "11",
                                    "1": "Haiti"
                                },
                                {
                                    "0": "10",
                                    "1": "St Vincent"
                                },
                                {
                                    "0": "9",
                                    "1": "Cuba"
                                },
                                {
                                    "0": "2",
                                    "1": "Korea (North)"
                                },
                                {
                                    "0": "2",
                                    "1": "Ireland"
                                },
                                {
                                    "0": "1",
                                    "1": "Norway"
                                },
                                {
                                    "0": "1",
                                    "1": "Poland"
                                },
                                {
                                    "0": "1",
                                    "1": "Cambodia"
                                },
                                {
                                    "0": "1",
                                    "1": "Jersey"
                                },
                                {
                                    "0": "1",
                                    "1": "Croatia"
                                },
                                {
                                    "0": "1",
                                    "1": "Tuvalu"
                                },
                                {
                                    "0": "1",
                                    "1": "Ukraine"
                                },
                                {
                                    "0": "1",
                                    "1": "Cocos Islands"
                                },
                                {
                                    "0": "1",
                                    "1": "Finland"
                                }
                            ]
                        },
                        "text/html": [
                            "<table>",
                            "<tr><th>Exports</th><th>Prior Country</th></tr>",
                            "<tr><td>16213</td><td>Japan</td></tr>",
                            "<tr><td>8403</td><td>Korea (South)</td></tr>",
                            "<tr><td>8390</td><td>China</td></tr>",
                            "<tr><td>7603</td><td>United States of America</td></tr>",
                            "<tr><td>4841</td><td>Singapore</td></tr>",
                            "<tr><td>3492</td><td>Panama</td></tr>",
                            "<tr><td>3357</td><td>Australia</td></tr>",
                            "<tr><td>3352</td><td>Indonesia</td></tr>",
                            "<tr><td>2747</td><td>United Arab Emirates</td></tr>",
                            "<tr><td>2732</td><td>Egypt</td></tr>",
                            "<tr><td>1901</td><td>Brazil</td></tr>",
                            "<tr><td>1898</td><td>Turkey</td></tr>",
                            "<tr><td>1872</td><td>United Kingdom</td></tr>",
                            "<tr><td>1763</td><td>Saudi Arabia</td></tr>",
                            "<tr><td>1679</td><td>Belgium</td></tr>",
                            "<tr><td>1624</td><td>Netherlands</td></tr>",
                            "<tr><td>1359</td><td>Malaysia</td></tr>",
                            "<tr><td>1315</td><td>South Africa</td></tr>",
                            "<tr><td>1291</td><td>Germany</td></tr>",
                            "<tr><td>1059</td><td>Mexico</td></tr>",
                            "<tr><td>1025</td><td>Thailand</td></tr>",
                            "<tr><td>894</td><td>Hong Kong</td></tr>",
                            "<tr><td>879</td><td>Malta</td></tr>",
                            "<tr><td>876</td><td>Argentina</td></tr>",
                            "<tr><td>795</td><td>Kuwait</td></tr>",
                            "<tr><td>793</td><td>Spain</td></tr>",
                            "<tr><td>788</td><td>Canada</td></tr>",
                            "<tr><td>787</td><td>Nigeria</td></tr>",
                            "<tr><td>742</td><td>Greece</td></tr>",
                            "<tr><td>739</td><td>Colombia</td></tr>",
                            "<tr><td>733</td><td>Chile</td></tr>",
                            "<tr><td>622</td><td>Bahrain</td></tr>",
                            "<tr><td>587</td><td>India</td></tr>",
                            "<tr><td>545</td><td>New Zealand</td></tr>",
                            "<tr><td>540</td><td>Peru</td></tr>",
                            "<tr><td>537</td><td>Tanzania</td></tr>",
                            "<tr><td>504</td><td>Oman</td></tr>",
                            "<tr><td>490</td><td>Mozambique</td></tr>",
                            "<tr><td>486</td><td>Italy</td></tr>",
                            "<tr><td>395</td><td>Qatar</td></tr>",
                            "<tr><td>391</td><td>Sri Lanka</td></tr>",
                            "<tr><td>377</td><td>France</td></tr>",
                            "<tr><td>372</td><td>Angola</td></tr>",
                            "<tr><td>352</td><td>Uruguay</td></tr>",
                            "<tr><td>328</td><td>Kenya</td></tr>",
                            "<tr><td>326</td><td>Taiwan</td></tr>",
                            "<tr><td>318</td><td>Ghana</td></tr>",
                            "<tr><td>304</td><td>Ecuador</td></tr>",
                            "<tr><td>285</td><td>Trinidad &amp; Tobago</td></tr>",
                            "<tr><td>246</td><td>Venezuela</td></tr>",
                            "<tr><td>244</td><td>Benin</td></tr>",
                            "<tr><td>240</td><td>Slovenia</td></tr>",
                            "<tr><td>238</td><td>Jamaica</td></tr>",
                            "<tr><td>224</td><td>Cote d'Ivoire</td></tr>",
                            "<tr><td>208</td><td>Iraq</td></tr>",
                            "<tr><td>203</td><td>Jordan</td></tr>",
                            "<tr><td>195</td><td>Aruba</td></tr>",
                            "<tr><td>191</td><td>Philippines</td></tr>",
                            "<tr><td>176</td><td>Dominican Republic</td></tr>",
                            "<tr><td>164</td><td>Libya</td></tr>",
                            "<tr><td>164</td><td>Algeria</td></tr>",
                            "<tr><td>160</td><td>Morocco</td></tr>",
                            "<tr><td>156</td><td>Bangladesh</td></tr>",
                            "<tr><td>154</td><td>Djibouti</td></tr>",
                            "<tr><td>144</td><td>Lebanon</td></tr>",
                            "<tr><td>140</td><td>Sweden</td></tr>",
                            "<tr><td>128</td><td>Russia</td></tr>",
                            "<tr><td>118</td><td>Senegal</td></tr>",
                            "<tr><td>110</td><td>Yemen</td></tr>",
                            "<tr><td>108</td><td>Vietnam</td></tr>",
                            "<tr><td>98</td><td>Brunei Darussalam</td></tr>",
                            "<tr><td>94</td><td>Guatemala</td></tr>",
                            "<tr><td>93</td><td>Namibia</td></tr>",
                            "<tr><td>92</td><td>Puerto Rico</td></tr>",
                            "<tr><td>77</td><td>Madagascar</td></tr>",
                            "<tr><td>76</td><td>Bahamas</td></tr>",
                            "<tr><td>75</td><td>Costa Rica</td></tr>",
                            "<tr><td>69</td><td>Guyana</td></tr>",
                            "<tr><td>69</td><td>Mauritius</td></tr>",
                            "<tr><td>63</td><td>Honduras</td></tr>",
                            "<tr><td>63</td><td>El Salvador</td></tr>",
                            "<tr><td>62</td><td>Congo (Republic)</td></tr>",
                            "<tr><td>61</td><td>Papua New Guinea</td></tr>",
                            "<tr><td>59</td><td>Iran</td></tr>",
                            "<tr><td>59</td><td>Cameroon</td></tr>",
                            "<tr><td>59</td><td>Myanmar</td></tr>",
                            "<tr><td>58</td><td>Togo</td></tr>",
                            "<tr><td>54</td><td>Nicaragua</td></tr>",
                            "<tr><td>48</td><td>Pakistan</td></tr>",
                            "<tr><td>47</td><td>Israel</td></tr>",
                            "<tr><td>46</td><td>Suriname</td></tr>",
                            "<tr><td>45</td><td>Martinique</td></tr>",
                            "<tr><td>44</td><td>Tunisia</td></tr>",
                            "<tr><td>43</td><td>Gabon</td></tr>",
                            "<tr><td>41</td><td>Sudan</td></tr>",
                            "<tr><td>41</td><td>Canary Islands</td></tr>",
                            "<tr><td>37</td><td>Fiji</td></tr>",
                            "<tr><td>37</td><td>Guadeloupe</td></tr>",
                            "<tr><td>36</td><td>Guam</td></tr>",
                            "<tr><td>35</td><td>Northern Mariana Islands</td></tr>",
                            "<tr><td>34</td><td>Reunion</td></tr>",
                            "<tr><td>31</td><td>Portugal</td></tr>",
                            "<tr><td>30</td><td>Romania</td></tr>",
                            "<tr><td>30</td><td>Denmark</td></tr>",
                            "<tr><td>29</td><td>New Caledonia</td></tr>",
                            "<tr><td>29</td><td>Barbados</td></tr>",
                            "<tr><td>27</td><td>Mauritania</td></tr>",
                            "<tr><td>26</td><td>Cyprus</td></tr>",
                            "<tr><td>20</td><td>French Guiana</td></tr>",
                            "<tr><td>19</td><td>Equatorial Guinea</td></tr>",
                            "<tr><td>19</td><td>Guinea</td></tr>",
                            "<tr><td>16</td><td>Antigua</td></tr>",
                            "<tr><td>15</td><td>Gibraltar</td></tr>",
                            "<tr><td>13</td><td>St Lucia</td></tr>",
                            "<tr><td>13</td><td>French Polynesia</td></tr>",
                            "<tr><td>12</td><td>Dominica</td></tr>",
                            "<tr><td>12</td><td>Sierra Leone</td></tr>",
                            "<tr><td>12</td><td>St Kitts &amp; Nevis</td></tr>",
                            "<tr><td>11</td><td>Bermuda</td></tr>",
                            "<tr><td>11</td><td>Haiti</td></tr>",
                            "<tr><td>10</td><td>St Vincent</td></tr>",
                            "<tr><td>9</td><td>Cuba</td></tr>",
                            "<tr><td>2</td><td>Korea (North)</td></tr>",
                            "<tr><td>2</td><td>Ireland</td></tr>",
                            "<tr><td>1</td><td>Norway</td></tr>",
                            "<tr><td>1</td><td>Poland</td></tr>",
                            "<tr><td>1</td><td>Cambodia</td></tr>",
                            "<tr><td>1</td><td>Jersey</td></tr>",
                            "<tr><td>1</td><td>Croatia</td></tr>",
                            "<tr><td>1</td><td>Tuvalu</td></tr>",
                            "<tr><td>1</td><td>Ukraine</td></tr>",
                            "<tr><td>1</td><td>Cocos Islands</td></tr>",
                            "<tr><td>1</td><td>Finland</td></tr>",
                            "</table>"
                        ]
                    }
                }
            ],
            "execution_count": 2
        },
        {
            "cell_type": "code",
            "source": [
                "--Total Imports by country\r\n",
                "Select\r\n",
                "    COUNT(LRNO) AS 'Imports'\r\n",
                "    ,CAST([Country Name] AS nvarchar(25)) AS 'Arrival Country'\r\n",
                "FROM \r\n",
                "    Calls\r\n",
                "WHERE\r\n",
                "    CAST([Country Name] AS nvarchar(25)) <> 'NA'\r\n",
                "GROUP BY\r\n",
                "    CAST([Country Name] AS nvarchar(25))\r\n",
                "ORDER BY\r\n",
                "    COUNT(LRNO) DESC"
            ],
            "metadata": {
                "language": "sql",
                "azdata_cell_guid": "a0c7f2af-1580-4c00-b1d2-8d4e14efff32"
            },
            "outputs": [
                {
                    "output_type": "display_data",
                    "data": {
                        "text/html": "(138 rows affected)"
                    },
                    "metadata": {}
                },
                {
                    "output_type": "display_data",
                    "data": {
                        "text/html": "Total execution time: 00:00:04.407"
                    },
                    "metadata": {}
                },
                {
                    "output_type": "execute_result",
                    "execution_count": 1,
                    "data": {
                        "application/vnd.dataresource+json": {
                            "schema": {
                                "fields": [
                                    {
                                        "name": "Imports"
                                    },
                                    {
                                        "name": "Arrival Country"
                                    }
                                ]
                            },
                            "data": [
                                {
                                    "0": "23827",
                                    "1": "Japan"
                                },
                                {
                                    "0": "13077",
                                    "1": "China"
                                },
                                {
                                    "0": "11909",
                                    "1": "Korea (South)"
                                },
                                {
                                    "0": "11816",
                                    "1": "United States of America"
                                },
                                {
                                    "0": "7235",
                                    "1": "Singapore"
                                },
                                {
                                    "0": "5628",
                                    "1": "Panama"
                                },
                                {
                                    "0": "5216",
                                    "1": "Australia"
                                },
                                {
                                    "0": "4717",
                                    "1": "Indonesia"
                                },
                                {
                                    "0": "4568",
                                    "1": "Egypt"
                                },
                                {
                                    "0": "4313",
                                    "1": "United Arab Emirates"
                                },
                                {
                                    "0": "3354",
                                    "1": "United Kingdom"
                                },
                                {
                                    "0": "3151",
                                    "1": "Brazil"
                                },
                                {
                                    "0": "2675",
                                    "1": "Saudi Arabia"
                                },
                                {
                                    "0": "2566",
                                    "1": "Turkey"
                                },
                                {
                                    "0": "2548",
                                    "1": "Belgium"
                                },
                                {
                                    "0": "2244",
                                    "1": "Netherlands"
                                },
                                {
                                    "0": "2145",
                                    "1": "Germany"
                                },
                                {
                                    "0": "2111",
                                    "1": "South Africa"
                                },
                                {
                                    "0": "1730",
                                    "1": "Mexico"
                                },
                                {
                                    "0": "1674",
                                    "1": "Malaysia"
                                },
                                {
                                    "0": "1555",
                                    "1": "Thailand"
                                },
                                {
                                    "0": "1548",
                                    "1": "Argentina"
                                },
                                {
                                    "0": "1469",
                                    "1": "Hong Kong"
                                },
                                {
                                    "0": "1390",
                                    "1": "Malta"
                                },
                                {
                                    "0": "1355",
                                    "1": "Canada"
                                },
                                {
                                    "0": "1170",
                                    "1": "Spain"
                                },
                                {
                                    "0": "1156",
                                    "1": "Nigeria"
                                },
                                {
                                    "0": "1153",
                                    "1": "Colombia"
                                },
                                {
                                    "0": "1141",
                                    "1": "Kuwait"
                                },
                                {
                                    "0": "1096",
                                    "1": "Chile"
                                },
                                {
                                    "0": "1034",
                                    "1": "Greece"
                                },
                                {
                                    "0": "995",
                                    "1": "Peru"
                                },
                                {
                                    "0": "890",
                                    "1": "Bahrain"
                                },
                                {
                                    "0": "853",
                                    "1": "Tanzania"
                                },
                                {
                                    "0": "797",
                                    "1": "New Zealand"
                                },
                                {
                                    "0": "796",
                                    "1": "Italy"
                                },
                                {
                                    "0": "783",
                                    "1": "India"
                                },
                                {
                                    "0": "765",
                                    "1": "Mozambique"
                                },
                                {
                                    "0": "658",
                                    "1": "Uruguay"
                                },
                                {
                                    "0": "647",
                                    "1": "Oman"
                                },
                                {
                                    "0": "617",
                                    "1": "Angola"
                                },
                                {
                                    "0": "615",
                                    "1": "Qatar"
                                },
                                {
                                    "0": "575",
                                    "1": "France"
                                },
                                {
                                    "0": "536",
                                    "1": "Taiwan"
                                },
                                {
                                    "0": "491",
                                    "1": "Kenya"
                                },
                                {
                                    "0": "482",
                                    "1": "Ghana"
                                },
                                {
                                    "0": "477",
                                    "1": "Sri Lanka"
                                },
                                {
                                    "0": "450",
                                    "1": "Trinidad & Tobago"
                                },
                                {
                                    "0": "412",
                                    "1": "Ecuador"
                                },
                                {
                                    "0": "363",
                                    "1": "Jamaica"
                                },
                                {
                                    "0": "362",
                                    "1": "Venezuela"
                                },
                                {
                                    "0": "355",
                                    "1": "Slovenia"
                                },
                                {
                                    "0": "345",
                                    "1": "Libya"
                                },
                                {
                                    "0": "344",
                                    "1": "Jordan"
                                },
                                {
                                    "0": "337",
                                    "1": "Cote d'Ivoire"
                                },
                                {
                                    "0": "313",
                                    "1": "Benin"
                                },
                                {
                                    "0": "293",
                                    "1": "Aruba"
                                },
                                {
                                    "0": "261",
                                    "1": "Dominican Republic"
                                },
                                {
                                    "0": "253",
                                    "1": "Algeria"
                                },
                                {
                                    "0": "247",
                                    "1": "Russia"
                                },
                                {
                                    "0": "244",
                                    "1": "Iraq"
                                },
                                {
                                    "0": "244",
                                    "1": "Sweden"
                                },
                                {
                                    "0": "237",
                                    "1": "Morocco"
                                },
                                {
                                    "0": "214",
                                    "1": "Philippines"
                                },
                                {
                                    "0": "207",
                                    "1": "Lebanon"
                                },
                                {
                                    "0": "199",
                                    "1": "Bangladesh"
                                },
                                {
                                    "0": "195",
                                    "1": "Djibouti"
                                },
                                {
                                    "0": "176",
                                    "1": "Puerto Rico"
                                },
                                {
                                    "0": "164",
                                    "1": "Namibia"
                                },
                                {
                                    "0": "162",
                                    "1": "Vietnam"
                                },
                                {
                                    "0": "151",
                                    "1": "Yemen"
                                },
                                {
                                    "0": "147",
                                    "1": "Guatemala"
                                },
                                {
                                    "0": "141",
                                    "1": "Senegal"
                                },
                                {
                                    "0": "130",
                                    "1": "Brunei Darussalam"
                                },
                                {
                                    "0": "120",
                                    "1": "Madagascar"
                                },
                                {
                                    "0": "114",
                                    "1": "Guyana"
                                },
                                {
                                    "0": "113",
                                    "1": "Bahamas"
                                },
                                {
                                    "0": "112",
                                    "1": "Costa Rica"
                                },
                                {
                                    "0": "95",
                                    "1": "Congo (Republic)"
                                },
                                {
                                    "0": "94",
                                    "1": "Honduras"
                                },
                                {
                                    "0": "94",
                                    "1": "Papua New Guinea"
                                },
                                {
                                    "0": "91",
                                    "1": "Myanmar"
                                },
                                {
                                    "0": "91",
                                    "1": "Cameroon"
                                },
                                {
                                    "0": "90",
                                    "1": "Mauritius"
                                },
                                {
                                    "0": "79",
                                    "1": "El Salvador"
                                },
                                {
                                    "0": "78",
                                    "1": "Martinique"
                                },
                                {
                                    "0": "77",
                                    "1": "Nicaragua"
                                },
                                {
                                    "0": "77",
                                    "1": "Suriname"
                                },
                                {
                                    "0": "75",
                                    "1": "Togo"
                                },
                                {
                                    "0": "74",
                                    "1": "Gabon"
                                },
                                {
                                    "0": "74",
                                    "1": "Iran"
                                },
                                {
                                    "0": "73",
                                    "1": "Israel"
                                },
                                {
                                    "0": "69",
                                    "1": "Sudan"
                                },
                                {
                                    "0": "63",
                                    "1": "Guam"
                                },
                                {
                                    "0": "60",
                                    "1": "Tunisia"
                                },
                                {
                                    "0": "59",
                                    "1": "Pakistan"
                                },
                                {
                                    "0": "56",
                                    "1": "Canary Islands"
                                },
                                {
                                    "0": "55",
                                    "1": "Guadeloupe"
                                },
                                {
                                    "0": "50",
                                    "1": "Portugal"
                                },
                                {
                                    "0": "48",
                                    "1": "Reunion"
                                },
                                {
                                    "0": "45",
                                    "1": "Fiji"
                                },
                                {
                                    "0": "43",
                                    "1": "Denmark"
                                },
                                {
                                    "0": "42",
                                    "1": "New Caledonia"
                                },
                                {
                                    "0": "39",
                                    "1": "Gibraltar"
                                },
                                {
                                    "0": "37",
                                    "1": "Guinea"
                                },
                                {
                                    "0": "36",
                                    "1": "Barbados"
                                },
                                {
                                    "0": "35",
                                    "1": "Northern Mariana Islands"
                                },
                                {
                                    "0": "35",
                                    "1": "Romania"
                                },
                                {
                                    "0": "31",
                                    "1": "Mauritania"
                                },
                                {
                                    "0": "30",
                                    "1": "French Guiana"
                                },
                                {
                                    "0": "28",
                                    "1": "Cyprus"
                                },
                                {
                                    "0": "27",
                                    "1": "Antigua"
                                },
                                {
                                    "0": "22",
                                    "1": "St Kitts & Nevis"
                                },
                                {
                                    "0": "21",
                                    "1": "St Lucia"
                                },
                                {
                                    "0": "19",
                                    "1": "French Polynesia"
                                },
                                {
                                    "0": "19",
                                    "1": "Equatorial Guinea"
                                },
                                {
                                    "0": "18",
                                    "1": "Bermuda"
                                },
                                {
                                    "0": "17",
                                    "1": "Dominica"
                                },
                                {
                                    "0": "16",
                                    "1": "St Vincent"
                                },
                                {
                                    "0": "15",
                                    "1": "Ukraine"
                                },
                                {
                                    "0": "14",
                                    "1": "Sierra Leone"
                                },
                                {
                                    "0": "13",
                                    "1": "Haiti"
                                },
                                {
                                    "0": "10",
                                    "1": "Cuba"
                                },
                                {
                                    "0": "4",
                                    "1": "Korea (North)"
                                },
                                {
                                    "0": "2",
                                    "1": "Ireland"
                                },
                                {
                                    "0": "2",
                                    "1": "Albania"
                                },
                                {
                                    "0": "1",
                                    "1": "Marshall Islands"
                                },
                                {
                                    "0": "1",
                                    "1": "Cocos Islands"
                                },
                                {
                                    "0": "1",
                                    "1": "Finland"
                                },
                                {
                                    "0": "1",
                                    "1": "Norway"
                                },
                                {
                                    "0": "1",
                                    "1": "Turkmenistan"
                                },
                                {
                                    "0": "1",
                                    "1": "Jersey"
                                },
                                {
                                    "0": "1",
                                    "1": "Croatia"
                                },
                                {
                                    "0": "1",
                                    "1": "Tuvalu"
                                },
                                {
                                    "0": "1",
                                    "1": "Poland"
                                },
                                {
                                    "0": "1",
                                    "1": "Kazakhstan"
                                },
                                {
                                    "0": "1",
                                    "1": "Eritrea"
                                },
                                {
                                    "0": "1",
                                    "1": "Cambodia"
                                }
                            ]
                        },
                        "text/html": "<table><tr><th>Imports</th><th>Arrival Country</th></tr><tr><td>23827</td><td>Japan</td></tr><tr><td>13077</td><td>China</td></tr><tr><td>11909</td><td>Korea (South)</td></tr><tr><td>11816</td><td>United States of America</td></tr><tr><td>7235</td><td>Singapore</td></tr><tr><td>5628</td><td>Panama</td></tr><tr><td>5216</td><td>Australia</td></tr><tr><td>4717</td><td>Indonesia</td></tr><tr><td>4568</td><td>Egypt</td></tr><tr><td>4313</td><td>United Arab Emirates</td></tr><tr><td>3354</td><td>United Kingdom</td></tr><tr><td>3151</td><td>Brazil</td></tr><tr><td>2675</td><td>Saudi Arabia</td></tr><tr><td>2566</td><td>Turkey</td></tr><tr><td>2548</td><td>Belgium</td></tr><tr><td>2244</td><td>Netherlands</td></tr><tr><td>2145</td><td>Germany</td></tr><tr><td>2111</td><td>South Africa</td></tr><tr><td>1730</td><td>Mexico</td></tr><tr><td>1674</td><td>Malaysia</td></tr><tr><td>1555</td><td>Thailand</td></tr><tr><td>1548</td><td>Argentina</td></tr><tr><td>1469</td><td>Hong Kong</td></tr><tr><td>1390</td><td>Malta</td></tr><tr><td>1355</td><td>Canada</td></tr><tr><td>1170</td><td>Spain</td></tr><tr><td>1156</td><td>Nigeria</td></tr><tr><td>1153</td><td>Colombia</td></tr><tr><td>1141</td><td>Kuwait</td></tr><tr><td>1096</td><td>Chile</td></tr><tr><td>1034</td><td>Greece</td></tr><tr><td>995</td><td>Peru</td></tr><tr><td>890</td><td>Bahrain</td></tr><tr><td>853</td><td>Tanzania</td></tr><tr><td>797</td><td>New Zealand</td></tr><tr><td>796</td><td>Italy</td></tr><tr><td>783</td><td>India</td></tr><tr><td>765</td><td>Mozambique</td></tr><tr><td>658</td><td>Uruguay</td></tr><tr><td>647</td><td>Oman</td></tr><tr><td>617</td><td>Angola</td></tr><tr><td>615</td><td>Qatar</td></tr><tr><td>575</td><td>France</td></tr><tr><td>536</td><td>Taiwan</td></tr><tr><td>491</td><td>Kenya</td></tr><tr><td>482</td><td>Ghana</td></tr><tr><td>477</td><td>Sri Lanka</td></tr><tr><td>450</td><td>Trinidad &amp; Tobago</td></tr><tr><td>412</td><td>Ecuador</td></tr><tr><td>363</td><td>Jamaica</td></tr><tr><td>362</td><td>Venezuela</td></tr><tr><td>355</td><td>Slovenia</td></tr><tr><td>345</td><td>Libya</td></tr><tr><td>344</td><td>Jordan</td></tr><tr><td>337</td><td>Cote d'Ivoire</td></tr><tr><td>313</td><td>Benin</td></tr><tr><td>293</td><td>Aruba</td></tr><tr><td>261</td><td>Dominican Republic</td></tr><tr><td>253</td><td>Algeria</td></tr><tr><td>247</td><td>Russia</td></tr><tr><td>244</td><td>Iraq</td></tr><tr><td>244</td><td>Sweden</td></tr><tr><td>237</td><td>Morocco</td></tr><tr><td>214</td><td>Philippines</td></tr><tr><td>207</td><td>Lebanon</td></tr><tr><td>199</td><td>Bangladesh</td></tr><tr><td>195</td><td>Djibouti</td></tr><tr><td>176</td><td>Puerto Rico</td></tr><tr><td>164</td><td>Namibia</td></tr><tr><td>162</td><td>Vietnam</td></tr><tr><td>151</td><td>Yemen</td></tr><tr><td>147</td><td>Guatemala</td></tr><tr><td>141</td><td>Senegal</td></tr><tr><td>130</td><td>Brunei Darussalam</td></tr><tr><td>120</td><td>Madagascar</td></tr><tr><td>114</td><td>Guyana</td></tr><tr><td>113</td><td>Bahamas</td></tr><tr><td>112</td><td>Costa Rica</td></tr><tr><td>95</td><td>Congo (Republic)</td></tr><tr><td>94</td><td>Honduras</td></tr><tr><td>94</td><td>Papua New Guinea</td></tr><tr><td>91</td><td>Myanmar</td></tr><tr><td>91</td><td>Cameroon</td></tr><tr><td>90</td><td>Mauritius</td></tr><tr><td>79</td><td>El Salvador</td></tr><tr><td>78</td><td>Martinique</td></tr><tr><td>77</td><td>Nicaragua</td></tr><tr><td>77</td><td>Suriname</td></tr><tr><td>75</td><td>Togo</td></tr><tr><td>74</td><td>Gabon</td></tr><tr><td>74</td><td>Iran</td></tr><tr><td>73</td><td>Israel</td></tr><tr><td>69</td><td>Sudan</td></tr><tr><td>63</td><td>Guam</td></tr><tr><td>60</td><td>Tunisia</td></tr><tr><td>59</td><td>Pakistan</td></tr><tr><td>56</td><td>Canary Islands</td></tr><tr><td>55</td><td>Guadeloupe</td></tr><tr><td>50</td><td>Portugal</td></tr><tr><td>48</td><td>Reunion</td></tr><tr><td>45</td><td>Fiji</td></tr><tr><td>43</td><td>Denmark</td></tr><tr><td>42</td><td>New Caledonia</td></tr><tr><td>39</td><td>Gibraltar</td></tr><tr><td>37</td><td>Guinea</td></tr><tr><td>36</td><td>Barbados</td></tr><tr><td>35</td><td>Northern Mariana Islands</td></tr><tr><td>35</td><td>Romania</td></tr><tr><td>31</td><td>Mauritania</td></tr><tr><td>30</td><td>French Guiana</td></tr><tr><td>28</td><td>Cyprus</td></tr><tr><td>27</td><td>Antigua</td></tr><tr><td>22</td><td>St Kitts &amp; Nevis</td></tr><tr><td>21</td><td>St Lucia</td></tr><tr><td>19</td><td>French Polynesia</td></tr><tr><td>19</td><td>Equatorial Guinea</td></tr><tr><td>18</td><td>Bermuda</td></tr><tr><td>17</td><td>Dominica</td></tr><tr><td>16</td><td>St Vincent</td></tr><tr><td>15</td><td>Ukraine</td></tr><tr><td>14</td><td>Sierra Leone</td></tr><tr><td>13</td><td>Haiti</td></tr><tr><td>10</td><td>Cuba</td></tr><tr><td>4</td><td>Korea (North)</td></tr><tr><td>2</td><td>Ireland</td></tr><tr><td>2</td><td>Albania</td></tr><tr><td>1</td><td>Marshall Islands</td></tr><tr><td>1</td><td>Cocos Islands</td></tr><tr><td>1</td><td>Finland</td></tr><tr><td>1</td><td>Norway</td></tr><tr><td>1</td><td>Turkmenistan</td></tr><tr><td>1</td><td>Jersey</td></tr><tr><td>1</td><td>Croatia</td></tr><tr><td>1</td><td>Tuvalu</td></tr><tr><td>1</td><td>Poland</td></tr><tr><td>1</td><td>Kazakhstan</td></tr><tr><td>1</td><td>Eritrea</td></tr><tr><td>1</td><td>Cambodia</td></tr></table>"
                    },
                    "metadata": {}
                }
            ],
            "execution_count": 1
        },
        {
            "cell_type": "code",
            "source": [
                "--Compare Average Travel Time to Operator\r\n",
                "SELECT\r\n",
                "    s.Operator\r\n",
                "    ,ROUND(AVG(CAST(DATEDIFF(day, c.[Arrival Date], c.[Sail Date])AS float)), 2)AS 'Average Travel Time'\r\n",
                "FROM\r\n",
                "    Calls c\r\n",
                "JOIN\r\n",
                "    SHIPS s\r\n",
                "ON\r\n",
                "    s.LRNO = c.LRNO\r\n",
                "GROUP BY\r\n",
                "    s.Operator\r\n",
                "ORDER BY\r\n",
                "   [Average Travel Time] DESC"
            ],
            "metadata": {
                "azdata_cell_guid": "06cda5a5-e747-4aee-87ec-f0a86ba618a8",
                "language": "sql",
                "tags": []
            },
            "outputs": [
                {
                    "output_type": "display_data",
                    "data": {
                        "text/html": "(56 rows affected)"
                    },
                    "metadata": {}
                },
                {
                    "output_type": "display_data",
                    "data": {
                        "text/html": "Total execution time: 00:00:00.743"
                    },
                    "metadata": {}
                },
                {
                    "output_type": "execute_result",
                    "execution_count": 37,
                    "data": {
                        "application/vnd.dataresource+json": {
                            "schema": {
                                "fields": [
                                    {
                                        "name": "Operator"
                                    },
                                    {
                                        "name": "Average Travel Time"
                                    }
                                ]
                            },
                            "data": [
                                {
                                    "0": "Priyanka Shipping Ltd",
                                    "1": "4.39"
                                },
                                {
                                    "0": "Natie Shipping Co Ltd",
                                    "1": "2.31"
                                },
                                {
                                    "0": "Mitra Anugrah Samudra",
                                    "1": "2.21"
                                },
                                {
                                    "0": "K Line Indonesia",
                                    "1": "1.63"
                                },
                                {
                                    "0": "Meiko Marine",
                                    "1": "1.21"
                                },
                                {
                                    "0": "Prayati Shipping Pvt Ltd",
                                    "1": "1.04"
                                },
                                {
                                    "0": "Abou Merhi Lines SAL",
                                    "1": "1.01"
                                },
                                {
                                    "0": "Shunzan Kaiun KK",
                                    "1": "0.96"
                                },
                                {
                                    "0": "Toyofuji Serasi Indonesia",
                                    "1": "0.84"
                                },
                                {
                                    "0": "Kyodogumi Kaiun",
                                    "1": "0.82"
                                },
                                {
                                    "0": "Siem Car Carriers AS",
                                    "1": "0.8"
                                },
                                {
                                    "0": "Yashi Maritima SA",
                                    "1": "0.77"
                                },
                                {
                                    "0": "Toyofuji Shipping Co Ltd",
                                    "1": "0.76"
                                },
                                {
                                    "0": "Nusantara Sejati",
                                    "1": "0.76"
                                },
                                {
                                    "0": "Pasha Group",
                                    "1": "0.73"
                                },
                                {
                                    "0": "JK Maritime Inc",
                                    "1": "0.68"
                                },
                                {
                                    "0": "Urizen Shipping Ltd",
                                    "1": "0.64"
                                },
                                {
                                    "0": "Salam Pacific Indonesia Lines",
                                    "1": "0.63"
                                },
                                {
                                    "0": "Kitaura Kaiun KK",
                                    "1": "0.63"
                                },
                                {
                                    "0": "Avanti Services Corp",
                                    "1": "0.63"
                                },
                                {
                                    "0": "CSC RoRo Logistics Co Ltd",
                                    "1": "0.63"
                                },
                                {
                                    "0": "Fairfield-Maxwell Services Ltd",
                                    "1": "0.63"
                                },
                                {
                                    "0": "NYK Line Indonesia",
                                    "1": "0.6"
                                },
                                {
                                    "0": "NYKCOS Car Carrier Co Ltd",
                                    "1": "0.6"
                                },
                                {
                                    "0": "Rptd Sold Undisclosed Interest",
                                    "1": "0.57"
                                },
                                {
                                    "0": "Doriko Ltd",
                                    "1": "0.56"
                                },
                                {
                                    "0": "COSCOL",
                                    "1": "0.56"
                                },
                                {
                                    "0": "Kawasaki Kisen Kaisha Ltd",
                                    "1": "0.56"
                                },
                                {
                                    "0": "Eastern Pacific Shipping Pte",
                                    "1": "0.54"
                                },
                                {
                                    "0": "UECC",
                                    "1": "0.54"
                                },
                                {
                                    "0": "Sunship Schiffahrtskontor KG",
                                    "1": "0.53"
                                },
                                {
                                    "0": "United Ocean Ship Mgmt Pte Ltd",
                                    "1": "0.52"
                                },
                                {
                                    "0": "Yokohama Marine & Merchant",
                                    "1": "0.52"
                                },
                                {
                                    "0": "CSAV",
                                    "1": "0.52"
                                },
                                {
                                    "0": "NYK Line",
                                    "1": "0.52"
                                },
                                {
                                    "0": "Mitsui OSK Lines Ltd",
                                    "1": "0.51"
                                },
                                {
                                    "0": "LCI Shipholdings Inc",
                                    "1": "0.51"
                                },
                                {
                                    "0": "Cido Car Carrier Service Co",
                                    "1": "0.5"
                                },
                                {
                                    "0": "Hoegh Autoliners AS",
                                    "1": "0.49"
                                },
                                {
                                    "0": "EUKOR Car Carriers Inc",
                                    "1": "0.49"
                                },
                                {
                                    "0": "Wallenius Wilhelmsen Logistics",
                                    "1": "0.49"
                                },
                                {
                                    "0": "Hyundai Glovis Co Ltd",
                                    "1": "0.48"
                                },
                                {
                                    "0": "Eastern Car Liner Ltd",
                                    "1": "0.48"
                                },
                                {
                                    "0": "China Shipping Car Carrier Inc",
                                    "1": "0.48"
                                },
                                {
                                    "0": "Laeisz Reederei",
                                    "1": "0.47"
                                },
                                {
                                    "0": "American Roll-on Roll-off",
                                    "1": "0.46"
                                },
                                {
                                    "0": "Zim Integrated Shipping",
                                    "1": "0.46"
                                },
                                {
                                    "0": "TB Marine-Hamburg GmbH",
                                    "1": "0.46"
                                },
                                {
                                    "0": "Gram & Co AS",
                                    "1": "0.44"
                                },
                                {
                                    "0": "Nissan Motor Car Carrier",
                                    "1": "0.44"
                                },
                                {
                                    "0": "Neptune Lines Shipping",
                                    "1": "0.43"
                                },
                                {
                                    "0": "Norwegian Car Carriers AS",
                                    "1": "0.42"
                                },
                                {
                                    "0": "Zodiac Maritime Ltd",
                                    "1": "0.42"
                                },
                                {
                                    "0": "Vroon BV",
                                    "1": "0.39"
                                },
                                {
                                    "0": "Laeisz F Schiffahrts mbH & Co",
                                    "1": "0.38"
                                },
                                {
                                    "0": "Hyuga Kaiun YK",
                                    "1": "0.37"
                                }
                            ]
                        },
                        "text/html": "<table><tr><th>Operator</th><th>Average Travel Time</th></tr><tr><td>Priyanka Shipping Ltd</td><td>4.39</td></tr><tr><td>Natie Shipping Co Ltd</td><td>2.31</td></tr><tr><td>Mitra Anugrah Samudra</td><td>2.21</td></tr><tr><td>K Line Indonesia</td><td>1.63</td></tr><tr><td>Meiko Marine</td><td>1.21</td></tr><tr><td>Prayati Shipping Pvt Ltd</td><td>1.04</td></tr><tr><td>Abou Merhi Lines SAL</td><td>1.01</td></tr><tr><td>Shunzan Kaiun KK</td><td>0.96</td></tr><tr><td>Toyofuji Serasi Indonesia</td><td>0.84</td></tr><tr><td>Kyodogumi Kaiun</td><td>0.82</td></tr><tr><td>Siem Car Carriers AS</td><td>0.8</td></tr><tr><td>Yashi Maritima SA</td><td>0.77</td></tr><tr><td>Toyofuji Shipping Co Ltd</td><td>0.76</td></tr><tr><td>Nusantara Sejati</td><td>0.76</td></tr><tr><td>Pasha Group</td><td>0.73</td></tr><tr><td>JK Maritime Inc</td><td>0.68</td></tr><tr><td>Urizen Shipping Ltd</td><td>0.64</td></tr><tr><td>Salam Pacific Indonesia Lines</td><td>0.63</td></tr><tr><td>Kitaura Kaiun KK</td><td>0.63</td></tr><tr><td>Avanti Services Corp</td><td>0.63</td></tr><tr><td>CSC RoRo Logistics Co Ltd</td><td>0.63</td></tr><tr><td>Fairfield-Maxwell Services Ltd</td><td>0.63</td></tr><tr><td>NYK Line Indonesia</td><td>0.6</td></tr><tr><td>NYKCOS Car Carrier Co Ltd</td><td>0.6</td></tr><tr><td>Rptd Sold Undisclosed Interest</td><td>0.57</td></tr><tr><td>Doriko Ltd</td><td>0.56</td></tr><tr><td>COSCOL</td><td>0.56</td></tr><tr><td>Kawasaki Kisen Kaisha Ltd</td><td>0.56</td></tr><tr><td>Eastern Pacific Shipping Pte</td><td>0.54</td></tr><tr><td>UECC</td><td>0.54</td></tr><tr><td>Sunship Schiffahrtskontor KG</td><td>0.53</td></tr><tr><td>United Ocean Ship Mgmt Pte Ltd</td><td>0.52</td></tr><tr><td>Yokohama Marine &amp; Merchant</td><td>0.52</td></tr><tr><td>CSAV</td><td>0.52</td></tr><tr><td>NYK Line</td><td>0.52</td></tr><tr><td>Mitsui OSK Lines Ltd</td><td>0.51</td></tr><tr><td>LCI Shipholdings Inc</td><td>0.51</td></tr><tr><td>Cido Car Carrier Service Co</td><td>0.5</td></tr><tr><td>Hoegh Autoliners AS</td><td>0.49</td></tr><tr><td>EUKOR Car Carriers Inc</td><td>0.49</td></tr><tr><td>Wallenius Wilhelmsen Logistics</td><td>0.49</td></tr><tr><td>Hyundai Glovis Co Ltd</td><td>0.48</td></tr><tr><td>Eastern Car Liner Ltd</td><td>0.48</td></tr><tr><td>China Shipping Car Carrier Inc</td><td>0.48</td></tr><tr><td>Laeisz Reederei</td><td>0.47</td></tr><tr><td>American Roll-on Roll-off</td><td>0.46</td></tr><tr><td>Zim Integrated Shipping</td><td>0.46</td></tr><tr><td>TB Marine-Hamburg GmbH</td><td>0.46</td></tr><tr><td>Gram &amp; Co AS</td><td>0.44</td></tr><tr><td>Nissan Motor Car Carrier</td><td>0.44</td></tr><tr><td>Neptune Lines Shipping</td><td>0.43</td></tr><tr><td>Norwegian Car Carriers AS</td><td>0.42</td></tr><tr><td>Zodiac Maritime Ltd</td><td>0.42</td></tr><tr><td>Vroon BV</td><td>0.39</td></tr><tr><td>Laeisz F Schiffahrts mbH &amp; Co</td><td>0.38</td></tr><tr><td>Hyuga Kaiun YK</td><td>0.37</td></tr></table>"
                    },
                    "metadata": {}
                }
            ],
            "execution_count": 37
        },
        {
            "cell_type": "code",
            "source": [
                "--Compare Average Travel Time to Operator\r\n",
                "SELECT\r\n",
                "    s.Operator\r\n",
                "    ,MAX(DATEDIFF(day, c.[Arrival Date], c.[Sail Date])) AS 'Max Travel Time'\r\n",
                "FROM\r\n",
                "    Calls c\r\n",
                "JOIN\r\n",
                "    SHIPS s\r\n",
                "ON\r\n",
                "    s.LRNO = c.LRNO\r\n",
                "GROUP BY\r\n",
                "    s.Operator\r\n",
                "ORDER BY\r\n",
                "   [Max Travel Time] DESC"
            ],
            "metadata": {
                "azdata_cell_guid": "936d2ba4-7b42-4be1-95f6-ed5a9508e4eb",
                "language": "sql",
                "tags": []
            },
            "outputs": [
                {
                    "output_type": "display_data",
                    "data": {
                        "text/html": "(56 rows affected)"
                    },
                    "metadata": {}
                },
                {
                    "output_type": "display_data",
                    "data": {
                        "text/html": "Total execution time: 00:00:00.221"
                    },
                    "metadata": {}
                },
                {
                    "output_type": "execute_result",
                    "execution_count": 40,
                    "data": {
                        "application/vnd.dataresource+json": {
                            "schema": {
                                "fields": [
                                    {
                                        "name": "Operator"
                                    },
                                    {
                                        "name": "Max Travel Time"
                                    }
                                ]
                            },
                            "data": [
                                {
                                    "0": "EUKOR Car Carriers Inc",
                                    "1": "244"
                                },
                                {
                                    "0": "NYK Line",
                                    "1": "236"
                                },
                                {
                                    "0": "Shunzan Kaiun KK",
                                    "1": "228"
                                },
                                {
                                    "0": "Hoegh Autoliners AS",
                                    "1": "151"
                                },
                                {
                                    "0": "Prayati Shipping Pvt Ltd",
                                    "1": "146"
                                },
                                {
                                    "0": "Meiko Marine",
                                    "1": "133"
                                },
                                {
                                    "0": "CSC RoRo Logistics Co Ltd",
                                    "1": "117"
                                },
                                {
                                    "0": "Kawasaki Kisen Kaisha Ltd",
                                    "1": "105"
                                },
                                {
                                    "0": "Toyofuji Serasi Indonesia",
                                    "1": "101"
                                },
                                {
                                    "0": "Priyanka Shipping Ltd",
                                    "1": "69"
                                },
                                {
                                    "0": "Mitsui OSK Lines Ltd",
                                    "1": "45"
                                },
                                {
                                    "0": "JK Maritime Inc",
                                    "1": "29"
                                },
                                {
                                    "0": "UECC",
                                    "1": "26"
                                },
                                {
                                    "0": "Natie Shipping Co Ltd",
                                    "1": "25"
                                },
                                {
                                    "0": "Laeisz Reederei",
                                    "1": "24"
                                },
                                {
                                    "0": "Eastern Car Liner Ltd",
                                    "1": "24"
                                },
                                {
                                    "0": "K Line Indonesia",
                                    "1": "23"
                                },
                                {
                                    "0": "Doriko Ltd",
                                    "1": "22"
                                },
                                {
                                    "0": "Cido Car Carrier Service Co",
                                    "1": "22"
                                },
                                {
                                    "0": "COSCOL",
                                    "1": "22"
                                },
                                {
                                    "0": "CSAV",
                                    "1": "22"
                                },
                                {
                                    "0": "Mitra Anugrah Samudra",
                                    "1": "22"
                                },
                                {
                                    "0": "Neptune Lines Shipping",
                                    "1": "22"
                                },
                                {
                                    "0": "Nissan Motor Car Carrier",
                                    "1": "22"
                                },
                                {
                                    "0": "Siem Car Carriers AS",
                                    "1": "22"
                                },
                                {
                                    "0": "Eastern Pacific Shipping Pte",
                                    "1": "21"
                                },
                                {
                                    "0": "Hyundai Glovis Co Ltd",
                                    "1": "20"
                                },
                                {
                                    "0": "American Roll-on Roll-off",
                                    "1": "19"
                                },
                                {
                                    "0": "Toyofuji Shipping Co Ltd",
                                    "1": "19"
                                },
                                {
                                    "0": "Rptd Sold Undisclosed Interest",
                                    "1": "19"
                                },
                                {
                                    "0": "Avanti Services Corp",
                                    "1": "18"
                                },
                                {
                                    "0": "Kyodogumi Kaiun",
                                    "1": "18"
                                },
                                {
                                    "0": "Urizen Shipping Ltd",
                                    "1": "17"
                                },
                                {
                                    "0": "Wallenius Wilhelmsen Logistics",
                                    "1": "17"
                                },
                                {
                                    "0": "Yashi Maritima SA",
                                    "1": "16"
                                },
                                {
                                    "0": "TB Marine-Hamburg GmbH",
                                    "1": "16"
                                },
                                {
                                    "0": "Abou Merhi Lines SAL",
                                    "1": "16"
                                },
                                {
                                    "0": "Norwegian Car Carriers AS",
                                    "1": "15"
                                },
                                {
                                    "0": "NYK Line Indonesia",
                                    "1": "14"
                                },
                                {
                                    "0": "NYKCOS Car Carrier Co Ltd",
                                    "1": "13"
                                },
                                {
                                    "0": "Pasha Group",
                                    "1": "13"
                                },
                                {
                                    "0": "Hyuga Kaiun YK",
                                    "1": "13"
                                },
                                {
                                    "0": "China Shipping Car Carrier Inc",
                                    "1": "13"
                                },
                                {
                                    "0": "Kitaura Kaiun KK",
                                    "1": "12"
                                },
                                {
                                    "0": "Vroon BV",
                                    "1": "12"
                                },
                                {
                                    "0": "Sunship Schiffahrtskontor KG",
                                    "1": "12"
                                },
                                {
                                    "0": "Salam Pacific Indonesia Lines",
                                    "1": "10"
                                },
                                {
                                    "0": "Yokohama Marine & Merchant",
                                    "1": "10"
                                },
                                {
                                    "0": "LCI Shipholdings Inc",
                                    "1": "10"
                                },
                                {
                                    "0": "Fairfield-Maxwell Services Ltd",
                                    "1": "10"
                                },
                                {
                                    "0": "Gram & Co AS",
                                    "1": "10"
                                },
                                {
                                    "0": "Nusantara Sejati",
                                    "1": "8"
                                },
                                {
                                    "0": "United Ocean Ship Mgmt Pte Ltd",
                                    "1": "8"
                                },
                                {
                                    "0": "Laeisz F Schiffahrts mbH & Co",
                                    "1": "7"
                                },
                                {
                                    "0": "Zim Integrated Shipping",
                                    "1": "6"
                                },
                                {
                                    "0": "Zodiac Maritime Ltd",
                                    "1": "5"
                                }
                            ]
                        },
                        "text/html": "<table><tr><th>Operator</th><th>Max Travel Time</th></tr><tr><td>EUKOR Car Carriers Inc</td><td>244</td></tr><tr><td>NYK Line</td><td>236</td></tr><tr><td>Shunzan Kaiun KK</td><td>228</td></tr><tr><td>Hoegh Autoliners AS</td><td>151</td></tr><tr><td>Prayati Shipping Pvt Ltd</td><td>146</td></tr><tr><td>Meiko Marine</td><td>133</td></tr><tr><td>CSC RoRo Logistics Co Ltd</td><td>117</td></tr><tr><td>Kawasaki Kisen Kaisha Ltd</td><td>105</td></tr><tr><td>Toyofuji Serasi Indonesia</td><td>101</td></tr><tr><td>Priyanka Shipping Ltd</td><td>69</td></tr><tr><td>Mitsui OSK Lines Ltd</td><td>45</td></tr><tr><td>JK Maritime Inc</td><td>29</td></tr><tr><td>UECC</td><td>26</td></tr><tr><td>Natie Shipping Co Ltd</td><td>25</td></tr><tr><td>Laeisz Reederei</td><td>24</td></tr><tr><td>Eastern Car Liner Ltd</td><td>24</td></tr><tr><td>K Line Indonesia</td><td>23</td></tr><tr><td>Doriko Ltd</td><td>22</td></tr><tr><td>Cido Car Carrier Service Co</td><td>22</td></tr><tr><td>COSCOL</td><td>22</td></tr><tr><td>CSAV</td><td>22</td></tr><tr><td>Mitra Anugrah Samudra</td><td>22</td></tr><tr><td>Neptune Lines Shipping</td><td>22</td></tr><tr><td>Nissan Motor Car Carrier</td><td>22</td></tr><tr><td>Siem Car Carriers AS</td><td>22</td></tr><tr><td>Eastern Pacific Shipping Pte</td><td>21</td></tr><tr><td>Hyundai Glovis Co Ltd</td><td>20</td></tr><tr><td>American Roll-on Roll-off</td><td>19</td></tr><tr><td>Toyofuji Shipping Co Ltd</td><td>19</td></tr><tr><td>Rptd Sold Undisclosed Interest</td><td>19</td></tr><tr><td>Avanti Services Corp</td><td>18</td></tr><tr><td>Kyodogumi Kaiun</td><td>18</td></tr><tr><td>Urizen Shipping Ltd</td><td>17</td></tr><tr><td>Wallenius Wilhelmsen Logistics</td><td>17</td></tr><tr><td>Yashi Maritima SA</td><td>16</td></tr><tr><td>TB Marine-Hamburg GmbH</td><td>16</td></tr><tr><td>Abou Merhi Lines SAL</td><td>16</td></tr><tr><td>Norwegian Car Carriers AS</td><td>15</td></tr><tr><td>NYK Line Indonesia</td><td>14</td></tr><tr><td>NYKCOS Car Carrier Co Ltd</td><td>13</td></tr><tr><td>Pasha Group</td><td>13</td></tr><tr><td>Hyuga Kaiun YK</td><td>13</td></tr><tr><td>China Shipping Car Carrier Inc</td><td>13</td></tr><tr><td>Kitaura Kaiun KK</td><td>12</td></tr><tr><td>Vroon BV</td><td>12</td></tr><tr><td>Sunship Schiffahrtskontor KG</td><td>12</td></tr><tr><td>Salam Pacific Indonesia Lines</td><td>10</td></tr><tr><td>Yokohama Marine &amp; Merchant</td><td>10</td></tr><tr><td>LCI Shipholdings Inc</td><td>10</td></tr><tr><td>Fairfield-Maxwell Services Ltd</td><td>10</td></tr><tr><td>Gram &amp; Co AS</td><td>10</td></tr><tr><td>Nusantara Sejati</td><td>8</td></tr><tr><td>United Ocean Ship Mgmt Pte Ltd</td><td>8</td></tr><tr><td>Laeisz F Schiffahrts mbH &amp; Co</td><td>7</td></tr><tr><td>Zim Integrated Shipping</td><td>6</td></tr><tr><td>Zodiac Maritime Ltd</td><td>5</td></tr></table>"
                    },
                    "metadata": {}
                }
            ],
            "execution_count": 40
        },
        {
            "cell_type": "code",
            "source": [
                "--Total Exports by country VIEW\r\n",
                "CREATE VIEW Exports AS\r\n",
                "Select\r\n",
                "    COUNT(LRNO) AS 'Exports'\r\n",
                "    ,CAST([Prior Country Name] AS nvarchar(25)) AS 'Prior Country'\r\n",
                "FROM \r\n",
                "    Calls\r\n",
                "GROUP BY\r\n",
                "    CAST([Prior Country Name] AS nvarchar(25))\r\n",
                "HAVING\r\n",
                "    COUNT(LRNO) > 3500;"
            ],
            "metadata": {
                "azdata_cell_guid": "393acd23-ee68-4d52-af4d-694a12b76ed8",
                "language": "sql"
            },
            "outputs": [
                {
                    "output_type": "error",
                    "evalue": "Msg 2714, Level 16, State 3, Procedure Exports, Line 2\r\nThere is already an object named 'Exports' in the database.",
                    "ename": "",
                    "traceback": []
                },
                {
                    "output_type": "display_data",
                    "data": {
                        "text/html": "Total execution time: 00:00:00.012"
                    },
                    "metadata": {}
                }
            ],
            "execution_count": 7
        },
        {
            "cell_type": "code",
            "source": [
                "--Show new view\r\n",
                "Select *\r\n",
                "FROM [Exports]"
            ],
            "metadata": {
                "language": "sql",
                "azdata_cell_guid": "e011b0be-81ea-4796-8a99-f36dac55c81d",
                "tags": []
            },
            "outputs": [
                {
                    "output_type": "display_data",
                    "data": {
                        "text/html": "(6 rows affected)"
                    },
                    "metadata": {}
                },
                {
                    "output_type": "display_data",
                    "data": {
                        "text/html": "Total execution time: 00:00:01.930"
                    },
                    "metadata": {}
                },
                {
                    "output_type": "execute_result",
                    "metadata": {},
                    "execution_count": 9,
                    "data": {
                        "application/vnd.dataresource+json": {
                            "schema": {
                                "fields": [
                                    {
                                        "name": "Exports"
                                    },
                                    {
                                        "name": "Prior Country"
                                    }
                                ]
                            },
                            "data": [
                                {
                                    "0": "4841",
                                    "1": "Singapore"
                                },
                                {
                                    "0": "7603",
                                    "1": "United States of America"
                                },
                                {
                                    "0": "8390",
                                    "1": "China"
                                },
                                {
                                    "0": "8403",
                                    "1": "Korea (South)"
                                },
                                {
                                    "0": "16213",
                                    "1": "Japan"
                                },
                                {
                                    "0": "64719",
                                    "1": "NA"
                                }
                            ]
                        },
                        "text/html": [
                            "<table>",
                            "<tr><th>Exports</th><th>Prior Country</th></tr>",
                            "<tr><td>4841</td><td>Singapore</td></tr>",
                            "<tr><td>7603</td><td>United States of America</td></tr>",
                            "<tr><td>8390</td><td>China</td></tr>",
                            "<tr><td>8403</td><td>Korea (South)</td></tr>",
                            "<tr><td>16213</td><td>Japan</td></tr>",
                            "<tr><td>64719</td><td>NA</td></tr>",
                            "</table>"
                        ]
                    }
                }
            ],
            "execution_count": 9
        },
        {
            "cell_type": "code",
            "source": [
                "--Create Procedure\r\n",
                "CREATE PROCEDURE ShowCityExports @PriorCountry nvarchar(30)\r\n",
                "AS \r\n",
                "SELECT \r\n",
                "    COUNT(LRNO) AS 'Exports'\r\n",
                "    ,CAST([Prior Country Name] AS nvarchar(30))\r\n",
                "FROM\r\n",
                "    Calls\r\n",
                "WHERE\r\n",
                "    CAST([Prior Country Name] AS nvarchar(30)) = @PriorCountry\r\n",
                "GROUP BY\r\n",
                "    CAST([Prior Country Name] AS nvarchar(30))"
            ],
            "metadata": {
                "language": "sql",
                "azdata_cell_guid": "bacf5a8f-1a96-4a5e-a641-64156ccd7d96",
                "tags": []
            },
            "outputs": [
                {
                    "output_type": "display_data",
                    "data": {
                        "text/html": "Commands completed successfully."
                    },
                    "metadata": {}
                },
                {
                    "output_type": "display_data",
                    "data": {
                        "text/html": "Total execution time: 00:00:00.024"
                    },
                    "metadata": {}
                }
            ],
            "execution_count": 16
        },
        {
            "cell_type": "code",
            "source": [
                "--Test Procedure\r\n",
                "EXEC ShowCityExports @PriorCountry = 'China'"
            ],
            "metadata": {
                "language": "sql",
                "azdata_cell_guid": "4a296b0f-8166-4ac3-b272-5510b643a199"
            },
            "outputs": [
                {
                    "output_type": "display_data",
                    "data": {
                        "text/html": "(1 row affected)"
                    },
                    "metadata": {}
                },
                {
                    "output_type": "display_data",
                    "data": {
                        "text/html": "Total execution time: 00:00:01.259"
                    },
                    "metadata": {}
                },
                {
                    "output_type": "execute_result",
                    "metadata": {},
                    "execution_count": 24,
                    "data": {
                        "application/vnd.dataresource+json": {
                            "schema": {
                                "fields": [
                                    {
                                        "name": "Exports"
                                    },
                                    {
                                        "name": "(No column name)"
                                    }
                                ]
                            },
                            "data": [
                                {
                                    "0": "8390",
                                    "1": "China"
                                }
                            ]
                        },
                        "text/html": [
                            "<table>",
                            "<tr><th>Exports</th><th>(No column name)</th></tr>",
                            "<tr><td>8390</td><td>China</td></tr>",
                            "</table>"
                        ]
                    }
                }
            ],
            "execution_count": 24
        },
        {
            "cell_type": "code",
            "source": [
                "--Create Function\r\n",
                "CREATE FUNCTION udfImports (\r\n",
                "    @imports INT\r\n",
                "    )\r\n",
                "RETURNS TABLE \r\n",
                "AS\r\n",
                "RETURN\r\n",
                "    SELECT\r\n",
                "        COUNT(LRNO.Calls) AS 'Imports'\r\n",
                "        ,CAST(CountryName.Calls)) AS nvarchar(30))\r\n",
                "    FROM\r\n",
                "        Calls\r\n",
                "    WHERE\r\n",
                "        COUNT(LRNO.Calls) > @imports\r\n",
                "    GROUP BY\r\n",
                "        CAST([Prior Country Name] AS nvarchar(30))\r\n",
                ""
            ],
            "metadata": {
                "language": "sql",
                "azdata_cell_guid": "fdf4603c-672a-40fe-90fd-9b7faaf9a80f"
            },
            "outputs": [
                {
                    "output_type": "error",
                    "evalue": "Msg 1035, Level 15, State 10, Procedure udfImports, Line 10\r\nIncorrect syntax near 'CAST', expected 'AS'.",
                    "ename": "",
                    "traceback": []
                },
                {
                    "output_type": "display_data",
                    "data": {
                        "text/html": "Total execution time: 00:00:00.002"
                    },
                    "metadata": {}
                }
            ],
            "execution_count": 23
        }
    ]
}