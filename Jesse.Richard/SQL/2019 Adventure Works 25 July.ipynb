{
    "metadata": {
        "kernelspec": {
            "name": "SQL",
            "display_name": "SQL",
            "language": "sql"
        },
        "language_info": {
            "name": "sql",
            "version": ""
        }
    },
    "nbformat_minor": 2,
    "nbformat": 4,
    "cells": [
        {
            "cell_type": "code",
            "source": [
                "--1. How many items with ListPrice more than $1000 have been sold?\r\n",
                "\r\n",
                "Select \r\n",
                "    count(*)\r\n",
                "From \r\n",
                "    sales.SalesOrderDetail\r\n",
                "WHERE\r\n",
                "    UnitPrice > 1000"
            ],
            "metadata": {
                "azdata_cell_guid": "c0875447-2ed9-43ea-97e7-63ab3ec8525c",
                "language": "sql"
            },
            "outputs": [
                {
                    "output_type": "display_data",
                    "data": {
                        "text/html": "(1 row affected)"
                    },
                    "metadata": {}
                },
                {
                    "output_type": "display_data",
                    "data": {
                        "text/html": "Total execution time: 00:00:00.071"
                    },
                    "metadata": {}
                },
                {
                    "output_type": "execute_result",
                    "execution_count": 1,
                    "data": {
                        "application/vnd.dataresource+json": {
                            "schema": {
                                "fields": [
                                    {
                                        "name": "(No column name)"
                                    }
                                ]
                            },
                            "data": [
                                {
                                    "0": "21021"
                                }
                            ]
                        },
                        "text/html": "<table><tr><th>(No column name)</th></tr><tr><td>21021</td></tr></table>"
                    },
                    "metadata": {}
                }
            ],
            "execution_count": 1
        },
        {
            "cell_type": "code",
            "source": [
                "-- 2. Give the Store Name of those customers with Total orders over $100000. Include the subtotal plus tax plus freight.\r\n",
                "\r\n",
                "SELECT\r\n",
                "    Top 10 Store.Name\r\n",
                "    ,Header.TotalDue\r\n",
                "FROM\r\n",
                "    Sales.SalesOrderHeader Header\r\n",
                "JOIN\r\n",
                "    Sales.Store Store\r\n",
                "ON \r\n",
                "    Header.SalesPersonID = Store.SalesPersonID\r\n",
                "WHERE\r\n",
                "    TotalDue > 100000\r\n",
                "ORDER BY\r\n",
                "    Store.Name "
            ],
            "metadata": {
                "azdata_cell_guid": "ba23d5ad-d61e-4689-82c3-73ac4dd2a8ef",
                "language": "sql"
            },
            "outputs": [
                {
                    "output_type": "display_data",
                    "data": {
                        "text/html": "(10 rows affected)"
                    },
                    "metadata": {}
                },
                {
                    "output_type": "display_data",
                    "data": {
                        "text/html": "Total execution time: 00:00:00.030"
                    },
                    "metadata": {}
                },
                {
                    "output_type": "execute_result",
                    "execution_count": 1,
                    "data": {
                        "application/vnd.dataresource+json": {
                            "schema": {
                                "fields": [
                                    {
                                        "name": "Name"
                                    },
                                    {
                                        "name": "TotalDue"
                                    }
                                ]
                            },
                            "data": [
                                {
                                    "0": "A Bicycle Association",
                                    "1": "165028.7482"
                                },
                                {
                                    "0": "A Bicycle Association",
                                    "1": "116463.9102"
                                },
                                {
                                    "0": "A Bicycle Association",
                                    "1": "113231.0188"
                                },
                                {
                                    "0": "A Bicycle Association",
                                    "1": "100902.437"
                                },
                                {
                                    "0": "A Bicycle Association",
                                    "1": "110266.9588"
                                },
                                {
                                    "0": "A Bicycle Association",
                                    "1": "106618.2647"
                                },
                                {
                                    "0": "A Bicycle Association",
                                    "1": "118581.3375"
                                },
                                {
                                    "0": "A Bicycle Association",
                                    "1": "102017.9004"
                                },
                                {
                                    "0": "A Bicycle Association",
                                    "1": "120512.2708"
                                },
                                {
                                    "0": "A Bike Store",
                                    "1": "105493.6317"
                                }
                            ]
                        },
                        "text/html": "<table><tr><th>Name</th><th>TotalDue</th></tr><tr><td>A Bicycle Association</td><td>165028.7482</td></tr><tr><td>A Bicycle Association</td><td>116463.9102</td></tr><tr><td>A Bicycle Association</td><td>113231.0188</td></tr><tr><td>A Bicycle Association</td><td>100902.437</td></tr><tr><td>A Bicycle Association</td><td>110266.9588</td></tr><tr><td>A Bicycle Association</td><td>106618.2647</td></tr><tr><td>A Bicycle Association</td><td>118581.3375</td></tr><tr><td>A Bicycle Association</td><td>102017.9004</td></tr><tr><td>A Bicycle Association</td><td>120512.2708</td></tr><tr><td>A Bike Store</td><td>105493.6317</td></tr></table>"
                    },
                    "metadata": {}
                }
            ],
            "execution_count": 1
        },
        {
            "cell_type": "code",
            "source": [
                "-- 3. A \"Single Item Order\" is a customer order where only one item is ordered. Show the SalesOrderID and the UnitPrice for every Single Item Order.\r\n",
                "\r\n",
                "SELECT\r\n",
                "    TOP 10 Header.SalesOrderID\r\n",
                "    ,Detail.UnitPrice\r\n",
                "FROM\r\n",
                "    Sales.SalesOrderDetail Detail\r\n",
                "INNER JOIN\r\n",
                "    Sales.SalesOrderHeader Header\r\n",
                "ON\r\n",
                "    Detail.SalesOrderID = Header.SalesOrderID\r\n",
                "GROUP BY\r\n",
                "    Header.SalesOrderID\r\n",
                "    ,Detail.UnitPrice\r\n",
                "HAVING\r\n",
                "    count(Header.CustomerID) = 1"
            ],
            "metadata": {
                "azdata_cell_guid": "50a6a538-6a60-4a03-b02e-10bbf50242ac",
                "language": "sql"
            },
            "outputs": [
                {
                    "output_type": "display_data",
                    "data": {
                        "text/html": "(10 rows affected)"
                    },
                    "metadata": {}
                },
                {
                    "output_type": "display_data",
                    "data": {
                        "text/html": "Total execution time: 00:00:00.812"
                    },
                    "metadata": {}
                },
                {
                    "output_type": "execute_result",
                    "execution_count": 96,
                    "data": {
                        "application/vnd.dataresource+json": {
                            "schema": {
                                "fields": [
                                    {
                                        "name": "SalesOrderID"
                                    },
                                    {
                                        "name": "UnitPrice"
                                    }
                                ]
                            },
                            "data": [
                                {
                                    "0": "44534",
                                    "1": "809.76"
                                },
                                {
                                    "0": "44833",
                                    "1": "3578.27"
                                },
                                {
                                    "0": "48348",
                                    "1": "1229.4589"
                                },
                                {
                                    "0": "53273",
                                    "1": "34.99"
                                },
                                {
                                    "0": "69466",
                                    "1": "14.694"
                                },
                                {
                                    "0": "58451",
                                    "1": "34.99"
                                },
                                {
                                    "0": "58848",
                                    "1": "3.99"
                                },
                                {
                                    "0": "60412",
                                    "1": "34.99"
                                },
                                {
                                    "0": "66367",
                                    "1": "539.99"
                                },
                                {
                                    "0": "71279",
                                    "1": "1214.85"
                                }
                            ]
                        },
                        "text/html": "<table><tr><th>SalesOrderID</th><th>UnitPrice</th></tr><tr><td>44534</td><td>809.76</td></tr><tr><td>44833</td><td>3578.27</td></tr><tr><td>48348</td><td>1229.4589</td></tr><tr><td>53273</td><td>34.99</td></tr><tr><td>69466</td><td>14.694</td></tr><tr><td>58451</td><td>34.99</td></tr><tr><td>58848</td><td>3.99</td></tr><tr><td>60412</td><td>34.99</td></tr><tr><td>66367</td><td>539.99</td></tr><tr><td>71279</td><td>1214.85</td></tr></table>"
                    },
                    "metadata": {}
                }
            ],
            "execution_count": 96
        },
        {
            "cell_type": "code",
            "source": [
                "-- 4. Where did the racing socks go? List the product name and the Store Name for all Customers who ordered ProductModel 'Racing Socks'.\r\n",
                "\r\n",
                "SELECT\r\n",
                "    TOP 10 Product.Name\r\n",
                "    ,Store.Name\r\n",
                "FROM \r\n",
                "    Sales.Store Store \r\n",
                "JOIN\r\n",
                "    Sales.SalesOrderHeader Header\r\n",
                "ON\r\n",
                "    Store.SalesPersonID = Header.SalesPersonID\r\n",
                "JOIN\r\n",
                "    Sales.SalesOrderDetail Detail\r\n",
                "ON\r\n",
                "    Header.SalesOrderID = Detail.SalesOrderID\r\n",
                "JOIN\r\n",
                "    Production.Product Product \r\n",
                "ON \r\n",
                "    Detail.ProductID = Product.ProductID\r\n",
                "WHERE\r\n",
                "    Product.Name\r\n",
                "LIKE\r\n",
                "    'Racing Socks%'\r\n",
                "GROUP BY\r\n",
                "    Store.Name\r\n",
                "    ,Product.Name\r\n",
                "ORDER BY\r\n",
                "    Store.Name"
            ],
            "metadata": {
                "azdata_cell_guid": "2ce983a6-a453-4b11-9700-da49a214c784",
                "language": "sql",
                "tags": []
            },
            "outputs": [
                {
                    "output_type": "display_data",
                    "data": {
                        "text/html": "(10 rows affected)"
                    },
                    "metadata": {}
                },
                {
                    "output_type": "display_data",
                    "data": {
                        "text/html": "Total execution time: 00:00:00.586"
                    },
                    "metadata": {}
                },
                {
                    "output_type": "execute_result",
                    "execution_count": 98,
                    "data": {
                        "application/vnd.dataresource+json": {
                            "schema": {
                                "fields": [
                                    {
                                        "name": "Name"
                                    },
                                    {
                                        "name": "Name"
                                    }
                                ]
                            },
                            "data": [
                                {
                                    "0": "Racing Socks, L",
                                    "1": "A Bicycle Association"
                                },
                                {
                                    "0": "Racing Socks, M",
                                    "1": "A Bicycle Association"
                                },
                                {
                                    "0": "Racing Socks, L",
                                    "1": "A Cycle Shop"
                                },
                                {
                                    "0": "Racing Socks, M",
                                    "1": "A Cycle Shop"
                                },
                                {
                                    "0": "Racing Socks, L",
                                    "1": "A Great Bicycle Company"
                                },
                                {
                                    "0": "Racing Socks, M",
                                    "1": "A Great Bicycle Company"
                                },
                                {
                                    "0": "Racing Socks, L",
                                    "1": "A Typical Bike Shop"
                                },
                                {
                                    "0": "Racing Socks, M",
                                    "1": "A Typical Bike Shop"
                                },
                                {
                                    "0": "Racing Socks, L",
                                    "1": "Acceptable Sales & Service"
                                },
                                {
                                    "0": "Racing Socks, M",
                                    "1": "Acceptable Sales & Service"
                                }
                            ]
                        },
                        "text/html": "<table><tr><th>Name</th><th>Name</th></tr><tr><td>Racing Socks, L</td><td>A Bicycle Association</td></tr><tr><td>Racing Socks, M</td><td>A Bicycle Association</td></tr><tr><td>Racing Socks, L</td><td>A Cycle Shop</td></tr><tr><td>Racing Socks, M</td><td>A Cycle Shop</td></tr><tr><td>Racing Socks, L</td><td>A Great Bicycle Company</td></tr><tr><td>Racing Socks, M</td><td>A Great Bicycle Company</td></tr><tr><td>Racing Socks, L</td><td>A Typical Bike Shop</td></tr><tr><td>Racing Socks, M</td><td>A Typical Bike Shop</td></tr><tr><td>Racing Socks, L</td><td>Acceptable Sales &amp; Service</td></tr><tr><td>Racing Socks, M</td><td>Acceptable Sales &amp; Service</td></tr></table>"
                    },
                    "metadata": {}
                }
            ],
            "execution_count": 98
        },
        {
            "cell_type": "code",
            "source": [
                "-- 5. Show the product description for culture 'fr' for product with ProductID 736.\r\n",
                "\r\n",
                "SELECT\r\n",
                "   D.[Description]\r\n",
                "FROM\r\n",
                "    Production.Product Product\r\n",
                "JOIN\r\n",
                "    Production.ProductModelProductDescriptionCulture Culture\r\n",
                "ON\r\n",
                "    Product.ProductModelID = Culture.ProductModelID\r\n",
                "JOIN\r\n",
                "    Production.ProductDescription D\r\n",
                "ON\r\n",
                "    Culture.ProductDescriptionID = D.ProductDescriptionID\r\n",
                "WHERE\r\n",
                "    ProductID = 736"
            ],
            "metadata": {
                "language": "sql",
                "azdata_cell_guid": "fa837431-1fd8-4e33-9038-2d59e46e674c",
                "tags": []
            },
            "outputs": [
                {
                    "output_type": "display_data",
                    "data": {
                        "text/html": "(6 rows affected)"
                    },
                    "metadata": {}
                },
                {
                    "output_type": "display_data",
                    "data": {
                        "text/html": "Total execution time: 00:00:00.110"
                    },
                    "metadata": {}
                },
                {
                    "output_type": "execute_result",
                    "execution_count": 64,
                    "data": {
                        "application/vnd.dataresource+json": {
                            "schema": {
                                "fields": [
                                    {
                                        "name": "Description"
                                    }
                                ]
                            },
                            "data": [
                                {
                                    "0": "The LL Frame provides a safe comfortable ride, while offering superior bump absorption in a value-priced aluminum frame."
                                },
                                {
                                    "0": "يوفر الهيكل LL Frame قيادة آمنة ومريحة، مع توفير إمكانية فائقة لامتصاص الصدمات في هيكل من الألومنيوم جيد السعر بالنسبة لإمكاناته."
                                },
                                {
                                    "0": "Le cadre LL en aluminium offre une conduite confortable, une excellente absorption des bosses pour un très bon rapport qualité-prix."
                                },
                                {
                                    "0": "เฟรม LL ให้ความปลอดภัยและสบายขณะขับขี่ พร้อมทั้งซึมซับแรงกระแทก คุ้มราคาสำหรับเฟรมอลูมิเนียม"
                                },
                                {
                                    "0": "מסגרת ה- LL מספקת רכיבה בטוחה ונוחה ועם זאת, מציעה ספיגת חבטות מעולה של מסגרת אלומיניום במחיר סביר."
                                },
                                {
                                    "0": "LL 车架提供了安全舒适的骑乘，经济实惠的铝制车架提供了卓越的避震功能。"
                                }
                            ]
                        },
                        "text/html": "<table><tr><th>Description</th></tr><tr><td>The LL Frame provides a safe comfortable ride, while offering superior bump absorption in a value-priced aluminum frame.</td></tr><tr><td>يوفر الهيكل LL Frame قيادة آمنة ومريحة، مع توفير إمكانية فائقة لامتصاص الصدمات في هيكل من الألومنيوم جيد السعر بالنسبة لإمكاناته.</td></tr><tr><td>Le cadre LL en aluminium offre une conduite confortable, une excellente absorption des bosses pour un très bon rapport qualité-prix.</td></tr><tr><td>เฟรม LL ให้ความปลอดภัยและสบายขณะขับขี่ พร้อมทั้งซึมซับแรงกระแทก คุ้มราคาสำหรับเฟรมอลูมิเนียม</td></tr><tr><td>מסגרת ה- LL מספקת רכיבה בטוחה ונוחה ועם זאת, מציעה ספיגת חבטות מעולה של מסגרת אלומיניום במחיר סביר.</td></tr><tr><td>LL 车架提供了安全舒适的骑乘，经济实惠的铝制车架提供了卓越的避震功能。</td></tr></table>"
                    },
                    "metadata": {}
                }
            ],
            "execution_count": 64
        },
        {
            "cell_type": "code",
            "source": [
                "-- 6. Use the SubTotal value in SaleOrderHeader to list orders from the largest to the smallest. For each order show the Store Name and the SubTotal and the total weight of the order.\r\n",
                "\r\n",
                "SELECT\r\n",
                "    Top 10 Header.SubTotal\r\n",
                "    ,Store.Name\r\n",
                "    ,(Detail.OrderQty * product.Weight) as 'Total Weight'\r\n",
                "FROM\r\n",
                "    Sales.SalesOrderHeader Header\r\n",
                "JOIN\r\n",
                "    Sales.Store Store \r\n",
                "ON\r\n",
                "   Header.SalesPersonID = Store.SalesPersonID\r\n",
                "JOIN\r\n",
                "    Sales.SalesOrderDetail Detail\r\n",
                "ON\r\n",
                "    Header.SalesOrderID = Detail.SalesOrderID\r\n",
                "JOIN\r\n",
                "    Production.Product Product\r\n",
                "ON\r\n",
                "    Detail.ProductID = Product.ProductID\r\n",
                "ORDER BY\r\n",
                "    Header.SubTotal DESC\r\n",
                ""
            ],
            "metadata": {
                "language": "sql",
                "azdata_cell_guid": "38ce7912-716b-4b65-a60b-6d873033a1fd",
                "tags": []
            },
            "outputs": [
                {
                    "output_type": "display_data",
                    "data": {
                        "text/html": "(10 rows affected)"
                    },
                    "metadata": {}
                },
                {
                    "output_type": "display_data",
                    "data": {
                        "text/html": "Total execution time: 00:00:00.266"
                    },
                    "metadata": {}
                },
                {
                    "output_type": "execute_result",
                    "execution_count": 99,
                    "data": {
                        "application/vnd.dataresource+json": {
                            "schema": {
                                "fields": [
                                    {
                                        "name": "SubTotal"
                                    },
                                    {
                                        "name": "Name"
                                    },
                                    {
                                        "name": "Total Weight"
                                    }
                                ]
                            },
                            "data": [
                                {
                                    "0": "163930.3943",
                                    "1": "Area Bike Accessories",
                                    "2": "NULL"
                                },
                                {
                                    "0": "163930.3943",
                                    "1": "Fun Toys and Bikes",
                                    "2": "NULL"
                                },
                                {
                                    "0": "163930.3943",
                                    "1": "Systematic Sales",
                                    "2": "NULL"
                                },
                                {
                                    "0": "163930.3943",
                                    "1": "Brightwork Company",
                                    "2": "NULL"
                                },
                                {
                                    "0": "163930.3943",
                                    "1": "Exertion Activities Club",
                                    "2": "NULL"
                                },
                                {
                                    "0": "163930.3943",
                                    "1": "Metallic Paint and Overcoat Co",
                                    "2": "NULL"
                                },
                                {
                                    "0": "163930.3943",
                                    "1": "Unicycles, Bicycles, and Tricycles",
                                    "2": "NULL"
                                },
                                {
                                    "0": "163930.3943",
                                    "1": "Number 1 Supply",
                                    "2": "NULL"
                                },
                                {
                                    "0": "163930.3943",
                                    "1": "Golf and Cycle Store",
                                    "2": "NULL"
                                },
                                {
                                    "0": "163930.3943",
                                    "1": "Coalition Bike Company",
                                    "2": "NULL"
                                }
                            ]
                        },
                        "text/html": "<table><tr><th>SubTotal</th><th>Name</th><th>Total Weight</th></tr><tr><td>163930.3943</td><td>Area Bike Accessories</td><td>NULL</td></tr><tr><td>163930.3943</td><td>Fun Toys and Bikes</td><td>NULL</td></tr><tr><td>163930.3943</td><td>Systematic Sales</td><td>NULL</td></tr><tr><td>163930.3943</td><td>Brightwork Company</td><td>NULL</td></tr><tr><td>163930.3943</td><td>Exertion Activities Club</td><td>NULL</td></tr><tr><td>163930.3943</td><td>Metallic Paint and Overcoat Co</td><td>NULL</td></tr><tr><td>163930.3943</td><td>Unicycles, Bicycles, and Tricycles</td><td>NULL</td></tr><tr><td>163930.3943</td><td>Number 1 Supply</td><td>NULL</td></tr><tr><td>163930.3943</td><td>Golf and Cycle Store</td><td>NULL</td></tr><tr><td>163930.3943</td><td>Coalition Bike Company</td><td>NULL</td></tr></table>"
                    },
                    "metadata": {}
                }
            ],
            "execution_count": 99
        },
        {
            "cell_type": "code",
            "source": [
                ""
            ],
            "metadata": {
                "azdata_cell_guid": "226aceed-e06e-4da0-87d2-1693101ad96a",
                "language": "sql"
            },
            "outputs": [],
            "execution_count": null
        }
    ]
}