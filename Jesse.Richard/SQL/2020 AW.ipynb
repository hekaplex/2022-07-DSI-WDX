{
    "cells": [
        {
            "cell_type": "code",
            "execution_count": 14,
            "metadata": {
                "azdata_cell_guid": "e8a543bc-4e23-4d8b-bcfa-a043163fa512",
                "language": "sql",
                "tags": []
            },
            "outputs": [
                {
                    "data": {
                        "text/html": [
                            "(2 rows affected)"
                        ]
                    },
                    "metadata": {},
                    "output_type": "display_data"
                },
                {
                    "data": {
                        "text/html": [
                            "Total execution time: 00:00:00.179"
                        ]
                    },
                    "metadata": {},
                    "output_type": "display_data"
                },
                {
                    "data": {
                        "application/vnd.dataresource+json": {
                            "data": [
                                {
                                    "0": "9672"
                                },
                                {
                                    "0": "11348"
                                }
                            ],
                            "schema": {
                                "fields": [
                                    {
                                        "name": "(No column name)"
                                    }
                                ]
                            }
                        },
                        "text/html": [
                            "<table>\n",
                            "<tr><th>(No column name)</th></tr>\n",
                            "<tr><td>9672</td></tr>\n",
                            "<tr><td>11348</td></tr>\n",
                            "</table>"
                        ]
                    },
                    "execution_count": 14,
                    "metadata": {},
                    "output_type": "execute_result"
                }
            ],
            "source": [
                "--1. How many items with ListPrice more than $1000 have been sold?\n",
                "\n",
                "\n",
                "SELECT\n",
                "    COUNT(I.UnitPrice)\n",
                "FROM\n",
                "    FactInternetSales I\n",
                "WHERE\n",
                "    UnitPrice > 1000\n",
                "--11348\n",
                "UNION\n",
                "SELECT\n",
                "     COUNT(R.UnitPrice)\n",
                "FROM\n",
                "    FactResellerSales R\n",
                "WHERE\n",
                "    UnitPrice > 1000\n",
                "--9672\n",
                "--edit"
            ]
        },
        {
            "cell_type": "code",
            "execution_count": 23,
            "metadata": {
                "azdata_cell_guid": "fbb53d7e-0990-488e-9a8b-1c16c253380c",
                "language": "sql"
            },
            "outputs": [
                {
                    "data": {
                        "text/html": [
                            "(216 rows affected)"
                        ]
                    },
                    "metadata": {},
                    "output_type": "display_data"
                },
                {
                    "data": {
                        "text/html": [
                            "Total execution time: 00:00:00.093"
                        ]
                    },
                    "metadata": {},
                    "output_type": "display_data"
                },
                {
                    "data": {
                        "application/vnd.dataresource+json": {
                            "data": [
                                {
                                    "0": "Australia",
                                    "1": "10959.093"
                                },
                                {
                                    "0": "Australia",
                                    "1": "11064.4689"
                                },
                                {
                                    "0": "Australia",
                                    "1": "12172.627"
                                },
                                {
                                    "0": "Australia",
                                    "1": "12305.227"
                                },
                                {
                                    "0": "Australia",
                                    "1": "14225.7457"
                                },
                                {
                                    "0": "Australia",
                                    "1": "19466.0889"
                                },
                                {
                                    "0": "Canada",
                                    "1": "10124.6316"
                                },
                                {
                                    "0": "Canada",
                                    "1": "10149.8074"
                                },
                                {
                                    "0": "Canada",
                                    "1": "10433.1598"
                                },
                                {
                                    "0": "Canada",
                                    "1": "10651.0486"
                                },
                                {
                                    "0": "Canada",
                                    "1": "10767.0736"
                                },
                                {
                                    "0": "Canada",
                                    "1": "10868.4167"
                                },
                                {
                                    "0": "Canada",
                                    "1": "10959.093"
                                },
                                {
                                    "0": "Canada",
                                    "1": "10986.81"
                                },
                                {
                                    "0": "Canada",
                                    "1": "11064.4689"
                                },
                                {
                                    "0": "Canada",
                                    "1": "11188.0919"
                                },
                                {
                                    "0": "Canada",
                                    "1": "11270.9669"
                                },
                                {
                                    "0": "Canada",
                                    "1": "11277.5637"
                                },
                                {
                                    "0": "Canada",
                                    "1": "11339.5874"
                                },
                                {
                                    "0": "Canada",
                                    "1": "11571.0075"
                                },
                                {
                                    "0": "Canada",
                                    "1": "11751.9732"
                                },
                                {
                                    "0": "Canada",
                                    "1": "11802.1001"
                                },
                                {
                                    "0": "Canada",
                                    "1": "11861.9651"
                                },
                                {
                                    "0": "Canada",
                                    "1": "11904.5846"
                                },
                                {
                                    "0": "Canada",
                                    "1": "12172.627"
                                },
                                {
                                    "0": "Canada",
                                    "1": "12226.9688"
                                },
                                {
                                    "0": "Canada",
                                    "1": "12305.227"
                                },
                                {
                                    "0": "Canada",
                                    "1": "12645.1073"
                                },
                                {
                                    "0": "Canada",
                                    "1": "12820.3344"
                                },
                                {
                                    "0": "Canada",
                                    "1": "12959.5284"
                                },
                                {
                                    "0": "Canada",
                                    "1": "13425.7102"
                                },
                                {
                                    "0": "Canada",
                                    "1": "13525.1602"
                                },
                                {
                                    "0": "Canada",
                                    "1": "13585.5208"
                                },
                                {
                                    "0": "Canada",
                                    "1": "13694.2054"
                                },
                                {
                                    "0": "Canada",
                                    "1": "13733.5124"
                                },
                                {
                                    "0": "Canada",
                                    "1": "13843.3804"
                                },
                                {
                                    "0": "Canada",
                                    "1": "14225.7457"
                                },
                                {
                                    "0": "Canada",
                                    "1": "14234.3581"
                                },
                                {
                                    "0": "Canada",
                                    "1": "14463.7594"
                                },
                                {
                                    "0": "Canada",
                                    "1": "14579.4695"
                                },
                                {
                                    "0": "Canada",
                                    "1": "14731.3175"
                                },
                                {
                                    "0": "Canada",
                                    "1": "14957.0568"
                                },
                                {
                                    "0": "Canada",
                                    "1": "15215.7837"
                                },
                                {
                                    "0": "Canada",
                                    "1": "15381.5337"
                                },
                                {
                                    "0": "Canada",
                                    "1": "15612.2568"
                                },
                                {
                                    "0": "Canada",
                                    "1": "15779.3536"
                                },
                                {
                                    "0": "Canada",
                                    "1": "15806.3841"
                                },
                                {
                                    "0": "Canada",
                                    "1": "15855.861"
                                },
                                {
                                    "0": "Canada",
                                    "1": "16028.5835"
                                },
                                {
                                    "0": "Canada",
                                    "1": "16442.4024"
                                },
                                {
                                    "0": "Canada",
                                    "1": "16695.4933"
                                },
                                {
                                    "0": "Canada",
                                    "1": "16913.2782"
                                },
                                {
                                    "0": "Canada",
                                    "1": "17900.947"
                                },
                                {
                                    "0": "Canada",
                                    "1": "17968.6975"
                                },
                                {
                                    "0": "Canada",
                                    "1": "18018.0244"
                                },
                                {
                                    "0": "Canada",
                                    "1": "18033.547"
                                },
                                {
                                    "0": "Canada",
                                    "1": "18659.669"
                                },
                                {
                                    "0": "Canada",
                                    "1": "18979.1441"
                                },
                                {
                                    "0": "Canada",
                                    "1": "19466.0889"
                                },
                                {
                                    "0": "Canada",
                                    "1": "20138.5654"
                                },
                                {
                                    "0": "Canada",
                                    "1": "20400.0154"
                                },
                                {
                                    "0": "Canada",
                                    "1": "21605.9325"
                                },
                                {
                                    "0": "Canada",
                                    "1": "25437.2456"
                                },
                                {
                                    "0": "France",
                                    "1": "10124.6316"
                                },
                                {
                                    "0": "France",
                                    "1": "10149.8074"
                                },
                                {
                                    "0": "France",
                                    "1": "10651.0486"
                                },
                                {
                                    "0": "France",
                                    "1": "10682.3559"
                                },
                                {
                                    "0": "France",
                                    "1": "10767.0736"
                                },
                                {
                                    "0": "France",
                                    "1": "10868.4167"
                                },
                                {
                                    "0": "France",
                                    "1": "10986.81"
                                },
                                {
                                    "0": "France",
                                    "1": "11064.4689"
                                },
                                {
                                    "0": "France",
                                    "1": "11277.5637"
                                },
                                {
                                    "0": "France",
                                    "1": "11339.5874"
                                },
                                {
                                    "0": "France",
                                    "1": "11571.0075"
                                },
                                {
                                    "0": "France",
                                    "1": "11751.9732"
                                },
                                {
                                    "0": "France",
                                    "1": "12645.1073"
                                },
                                {
                                    "0": "France",
                                    "1": "12959.5284"
                                },
                                {
                                    "0": "France",
                                    "1": "13488.1145"
                                },
                                {
                                    "0": "France",
                                    "1": "13694.2054"
                                },
                                {
                                    "0": "France",
                                    "1": "13733.5124"
                                },
                                {
                                    "0": "France",
                                    "1": "13888.6956"
                                },
                                {
                                    "0": "France",
                                    "1": "14225.7457"
                                },
                                {
                                    "0": "France",
                                    "1": "14957.0568"
                                },
                                {
                                    "0": "France",
                                    "1": "15215.7837"
                                },
                                {
                                    "0": "France",
                                    "1": "15381.5337"
                                },
                                {
                                    "0": "France",
                                    "1": "15713.4054"
                                },
                                {
                                    "0": "France",
                                    "1": "15806.3841"
                                },
                                {
                                    "0": "France",
                                    "1": "15855.861"
                                },
                                {
                                    "0": "France",
                                    "1": "16199.4105"
                                },
                                {
                                    "0": "France",
                                    "1": "16471.306"
                                },
                                {
                                    "0": "France",
                                    "1": "16695.4933"
                                },
                                {
                                    "0": "France",
                                    "1": "17968.6975"
                                },
                                {
                                    "0": "France",
                                    "1": "21160.48"
                                },
                                {
                                    "0": "France",
                                    "1": "21200.6586"
                                },
                                {
                                    "0": "France",
                                    "1": "26152.9797"
                                },
                                {
                                    "0": "Germany",
                                    "1": "10116.0858"
                                },
                                {
                                    "0": "Germany",
                                    "1": "11064.4689"
                                },
                                {
                                    "0": "Germany",
                                    "1": "12645.1073"
                                },
                                {
                                    "0": "Germany",
                                    "1": "14225.7457"
                                },
                                {
                                    "0": "Germany",
                                    "1": "15806.3841"
                                },
                                {
                                    "0": "Germany",
                                    "1": "16471.306"
                                },
                                {
                                    "0": "Germany",
                                    "1": "17968.6975"
                                },
                                {
                                    "0": "Germany",
                                    "1": "19466.0889"
                                },
                                {
                                    "0": "Germany",
                                    "1": "22023.5618"
                                },
                                {
                                    "0": "United Kingdom",
                                    "1": "10149.8074"
                                },
                                {
                                    "0": "United Kingdom",
                                    "1": "10651.0486"
                                },
                                {
                                    "0": "United Kingdom",
                                    "1": "10868.4167"
                                },
                                {
                                    "0": "United Kingdom",
                                    "1": "10986.81"
                                },
                                {
                                    "0": "United Kingdom",
                                    "1": "11064.4689"
                                },
                                {
                                    "0": "United Kingdom",
                                    "1": "11277.5637"
                                },
                                {
                                    "0": "United Kingdom",
                                    "1": "11339.5874"
                                },
                                {
                                    "0": "United Kingdom",
                                    "1": "12172.627"
                                },
                                {
                                    "0": "United Kingdom",
                                    "1": "12305.227"
                                },
                                {
                                    "0": "United Kingdom",
                                    "1": "12360.1612"
                                },
                                {
                                    "0": "United Kingdom",
                                    "1": "12645.1073"
                                },
                                {
                                    "0": "United Kingdom",
                                    "1": "12820.3344"
                                },
                                {
                                    "0": "United Kingdom",
                                    "1": "13694.2054"
                                },
                                {
                                    "0": "United Kingdom",
                                    "1": "13888.6956"
                                },
                                {
                                    "0": "United Kingdom",
                                    "1": "14311.2354"
                                },
                                {
                                    "0": "United Kingdom",
                                    "1": "14731.3175"
                                },
                                {
                                    "0": "United Kingdom",
                                    "1": "15215.7837"
                                },
                                {
                                    "0": "United Kingdom",
                                    "1": "15806.3841"
                                },
                                {
                                    "0": "United Kingdom",
                                    "1": "16199.4105"
                                },
                                {
                                    "0": "United Kingdom",
                                    "1": "17703.1502"
                                },
                                {
                                    "0": "United Kingdom",
                                    "1": "17968.6975"
                                },
                                {
                                    "0": "United Kingdom",
                                    "1": "18942.8715"
                                },
                                {
                                    "0": "United Kingdom",
                                    "1": "22525.6998"
                                },
                                {
                                    "0": "United Kingdom",
                                    "1": "24776.5072"
                                },
                                {
                                    "0": "United States",
                                    "1": "10124.6316"
                                },
                                {
                                    "0": "United States",
                                    "1": "10149.8074"
                                },
                                {
                                    "0": "United States",
                                    "1": "10397.5885"
                                },
                                {
                                    "0": "United States",
                                    "1": "10651.0486"
                                },
                                {
                                    "0": "United States",
                                    "1": "10767.0736"
                                },
                                {
                                    "0": "United States",
                                    "1": "10868.4167"
                                },
                                {
                                    "0": "United States",
                                    "1": "10986.81"
                                },
                                {
                                    "0": "United States",
                                    "1": "10988.8474"
                                },
                                {
                                    "0": "United States",
                                    "1": "11064.4689"
                                },
                                {
                                    "0": "United States",
                                    "1": "11188.0919"
                                },
                                {
                                    "0": "United States",
                                    "1": "11222.5414"
                                },
                                {
                                    "0": "United States",
                                    "1": "11270.9669"
                                },
                                {
                                    "0": "United States",
                                    "1": "11277.5637"
                                },
                                {
                                    "0": "United States",
                                    "1": "11339.5874"
                                },
                                {
                                    "0": "United States",
                                    "1": "11571.0075"
                                },
                                {
                                    "0": "United States",
                                    "1": "11751.9732"
                                },
                                {
                                    "0": "United States",
                                    "1": "11861.9651"
                                },
                                {
                                    "0": "United States",
                                    "1": "12172.627"
                                },
                                {
                                    "0": "United States",
                                    "1": "12226.9688"
                                },
                                {
                                    "0": "United States",
                                    "1": "12305.227"
                                },
                                {
                                    "0": "United States",
                                    "1": "12360.1612"
                                },
                                {
                                    "0": "United States",
                                    "1": "12645.1073"
                                },
                                {
                                    "0": "United States",
                                    "1": "12820.3344"
                                },
                                {
                                    "0": "United States",
                                    "1": "12959.5284"
                                },
                                {
                                    "0": "United States",
                                    "1": "13017.3834"
                                },
                                {
                                    "0": "United States",
                                    "1": "13331.2597"
                                },
                                {
                                    "0": "United States",
                                    "1": "13425.7102"
                                },
                                {
                                    "0": "United States",
                                    "1": "13488.1145"
                                },
                                {
                                    "0": "United States",
                                    "1": "13525.1602"
                                },
                                {
                                    "0": "United States",
                                    "1": "13585.5208"
                                },
                                {
                                    "0": "United States",
                                    "1": "13694.2054"
                                },
                                {
                                    "0": "United States",
                                    "1": "13733.5124"
                                },
                                {
                                    "0": "United States",
                                    "1": "13843.3804"
                                },
                                {
                                    "0": "United States",
                                    "1": "13888.6956"
                                },
                                {
                                    "0": "United States",
                                    "1": "14157.0193"
                                },
                                {
                                    "0": "United States",
                                    "1": "14225.7457"
                                },
                                {
                                    "0": "United States",
                                    "1": "14234.3581"
                                },
                                {
                                    "0": "United States",
                                    "1": "14311.2354"
                                },
                                {
                                    "0": "United States",
                                    "1": "14463.7594"
                                },
                                {
                                    "0": "United States",
                                    "1": "14579.4695"
                                },
                                {
                                    "0": "United States",
                                    "1": "14731.3175"
                                },
                                {
                                    "0": "United States",
                                    "1": "14957.0568"
                                },
                                {
                                    "0": "United States",
                                    "1": "15072.2021"
                                },
                                {
                                    "0": "United States",
                                    "1": "15215.7837"
                                },
                                {
                                    "0": "United States",
                                    "1": "15381.5337"
                                },
                                {
                                    "0": "United States",
                                    "1": "15444.0209"
                                },
                                {
                                    "0": "United States",
                                    "1": "15612.2568"
                                },
                                {
                                    "0": "United States",
                                    "1": "15663.3286"
                                },
                                {
                                    "0": "United States",
                                    "1": "15779.3536"
                                },
                                {
                                    "0": "United States",
                                    "1": "15806.3841"
                                },
                                {
                                    "0": "United States",
                                    "1": "15855.861"
                                },
                                {
                                    "0": "United States",
                                    "1": "16028.5835"
                                },
                                {
                                    "0": "United States",
                                    "1": "16199.4105"
                                },
                                {
                                    "0": "United States",
                                    "1": "16442.4024"
                                },
                                {
                                    "0": "United States",
                                    "1": "16471.306"
                                },
                                {
                                    "0": "United States",
                                    "1": "16695.4933"
                                },
                                {
                                    "0": "United States",
                                    "1": "16880.8656"
                                },
                                {
                                    "0": "United States",
                                    "1": "17297.3029"
                                },
                                {
                                    "0": "United States",
                                    "1": "17485.7275"
                                },
                                {
                                    "0": "United States",
                                    "1": "17746.0868"
                                },
                                {
                                    "0": "United States",
                                    "1": "17900.947"
                                },
                                {
                                    "0": "United States",
                                    "1": "18018.0244"
                                },
                                {
                                    "0": "United States",
                                    "1": "18033.547"
                                },
                                {
                                    "0": "United States",
                                    "1": "18415.4898"
                                },
                                {
                                    "0": "United States",
                                    "1": "18738.7448"
                                },
                                {
                                    "0": "United States",
                                    "1": "18942.8715"
                                },
                                {
                                    "0": "United States",
                                    "1": "19466.0889"
                                },
                                {
                                    "0": "United States",
                                    "1": "19875.6174"
                                },
                                {
                                    "0": "United States",
                                    "1": "20138.5654"
                                },
                                {
                                    "0": "United States",
                                    "1": "20287.7404"
                                },
                                {
                                    "0": "United States",
                                    "1": "20400.0154"
                                },
                                {
                                    "0": "United States",
                                    "1": "20647.0892"
                                },
                                {
                                    "0": "United States",
                                    "1": "21145.4319"
                                },
                                {
                                    "0": "United States",
                                    "1": "21200.6586"
                                },
                                {
                                    "0": "United States",
                                    "1": "22023.5618"
                                },
                                {
                                    "0": "United States",
                                    "1": "22376.1837"
                                },
                                {
                                    "0": "United States",
                                    "1": "22541.9337"
                                },
                                {
                                    "0": "United States",
                                    "1": "22771.0789"
                                },
                                {
                                    "0": "United States",
                                    "1": "23317.4752"
                                },
                                {
                                    "0": "United States",
                                    "1": "23400.0344"
                                },
                                {
                                    "0": "United States",
                                    "1": "24776.5072"
                                },
                                {
                                    "0": "United States",
                                    "1": "25374.5183"
                                },
                                {
                                    "0": "United States",
                                    "1": "25437.2456"
                                },
                                {
                                    "0": "United States",
                                    "1": "25625.6702"
                                },
                                {
                                    "0": "United States",
                                    "1": "27557.0161"
                                },
                                {
                                    "0": "United States",
                                    "1": "28905.9249"
                                },
                                {
                                    "0": "United States",
                                    "1": "29896.6152"
                                },
                                {
                                    "0": "United States",
                                    "1": "30822.449"
                                }
                            ],
                            "schema": {
                                "fields": [
                                    {
                                        "name": "SalesTerritoryCountry"
                                    },
                                    {
                                        "name": "Total Order"
                                    }
                                ]
                            }
                        },
                        "text/html": [
                            "<table>\n",
                            "<tr><th>SalesTerritoryCountry</th><th>Total Order</th></tr>\n",
                            "<tr><td>Australia</td><td>10959.093</td></tr>\n",
                            "<tr><td>Australia</td><td>11064.4689</td></tr>\n",
                            "<tr><td>Australia</td><td>12172.627</td></tr>\n",
                            "<tr><td>Australia</td><td>12305.227</td></tr>\n",
                            "<tr><td>Australia</td><td>14225.7457</td></tr>\n",
                            "<tr><td>Australia</td><td>19466.0889</td></tr>\n",
                            "<tr><td>Canada</td><td>10124.6316</td></tr>\n",
                            "<tr><td>Canada</td><td>10149.8074</td></tr>\n",
                            "<tr><td>Canada</td><td>10433.1598</td></tr>\n",
                            "<tr><td>Canada</td><td>10651.0486</td></tr>\n",
                            "<tr><td>Canada</td><td>10767.0736</td></tr>\n",
                            "<tr><td>Canada</td><td>10868.4167</td></tr>\n",
                            "<tr><td>Canada</td><td>10959.093</td></tr>\n",
                            "<tr><td>Canada</td><td>10986.81</td></tr>\n",
                            "<tr><td>Canada</td><td>11064.4689</td></tr>\n",
                            "<tr><td>Canada</td><td>11188.0919</td></tr>\n",
                            "<tr><td>Canada</td><td>11270.9669</td></tr>\n",
                            "<tr><td>Canada</td><td>11277.5637</td></tr>\n",
                            "<tr><td>Canada</td><td>11339.5874</td></tr>\n",
                            "<tr><td>Canada</td><td>11571.0075</td></tr>\n",
                            "<tr><td>Canada</td><td>11751.9732</td></tr>\n",
                            "<tr><td>Canada</td><td>11802.1001</td></tr>\n",
                            "<tr><td>Canada</td><td>11861.9651</td></tr>\n",
                            "<tr><td>Canada</td><td>11904.5846</td></tr>\n",
                            "<tr><td>Canada</td><td>12172.627</td></tr>\n",
                            "<tr><td>Canada</td><td>12226.9688</td></tr>\n",
                            "<tr><td>Canada</td><td>12305.227</td></tr>\n",
                            "<tr><td>Canada</td><td>12645.1073</td></tr>\n",
                            "<tr><td>Canada</td><td>12820.3344</td></tr>\n",
                            "<tr><td>Canada</td><td>12959.5284</td></tr>\n",
                            "<tr><td>Canada</td><td>13425.7102</td></tr>\n",
                            "<tr><td>Canada</td><td>13525.1602</td></tr>\n",
                            "<tr><td>Canada</td><td>13585.5208</td></tr>\n",
                            "<tr><td>Canada</td><td>13694.2054</td></tr>\n",
                            "<tr><td>Canada</td><td>13733.5124</td></tr>\n",
                            "<tr><td>Canada</td><td>13843.3804</td></tr>\n",
                            "<tr><td>Canada</td><td>14225.7457</td></tr>\n",
                            "<tr><td>Canada</td><td>14234.3581</td></tr>\n",
                            "<tr><td>Canada</td><td>14463.7594</td></tr>\n",
                            "<tr><td>Canada</td><td>14579.4695</td></tr>\n",
                            "<tr><td>Canada</td><td>14731.3175</td></tr>\n",
                            "<tr><td>Canada</td><td>14957.0568</td></tr>\n",
                            "<tr><td>Canada</td><td>15215.7837</td></tr>\n",
                            "<tr><td>Canada</td><td>15381.5337</td></tr>\n",
                            "<tr><td>Canada</td><td>15612.2568</td></tr>\n",
                            "<tr><td>Canada</td><td>15779.3536</td></tr>\n",
                            "<tr><td>Canada</td><td>15806.3841</td></tr>\n",
                            "<tr><td>Canada</td><td>15855.861</td></tr>\n",
                            "<tr><td>Canada</td><td>16028.5835</td></tr>\n",
                            "<tr><td>Canada</td><td>16442.4024</td></tr>\n",
                            "<tr><td>Canada</td><td>16695.4933</td></tr>\n",
                            "<tr><td>Canada</td><td>16913.2782</td></tr>\n",
                            "<tr><td>Canada</td><td>17900.947</td></tr>\n",
                            "<tr><td>Canada</td><td>17968.6975</td></tr>\n",
                            "<tr><td>Canada</td><td>18018.0244</td></tr>\n",
                            "<tr><td>Canada</td><td>18033.547</td></tr>\n",
                            "<tr><td>Canada</td><td>18659.669</td></tr>\n",
                            "<tr><td>Canada</td><td>18979.1441</td></tr>\n",
                            "<tr><td>Canada</td><td>19466.0889</td></tr>\n",
                            "<tr><td>Canada</td><td>20138.5654</td></tr>\n",
                            "<tr><td>Canada</td><td>20400.0154</td></tr>\n",
                            "<tr><td>Canada</td><td>21605.9325</td></tr>\n",
                            "<tr><td>Canada</td><td>25437.2456</td></tr>\n",
                            "<tr><td>France</td><td>10124.6316</td></tr>\n",
                            "<tr><td>France</td><td>10149.8074</td></tr>\n",
                            "<tr><td>France</td><td>10651.0486</td></tr>\n",
                            "<tr><td>France</td><td>10682.3559</td></tr>\n",
                            "<tr><td>France</td><td>10767.0736</td></tr>\n",
                            "<tr><td>France</td><td>10868.4167</td></tr>\n",
                            "<tr><td>France</td><td>10986.81</td></tr>\n",
                            "<tr><td>France</td><td>11064.4689</td></tr>\n",
                            "<tr><td>France</td><td>11277.5637</td></tr>\n",
                            "<tr><td>France</td><td>11339.5874</td></tr>\n",
                            "<tr><td>France</td><td>11571.0075</td></tr>\n",
                            "<tr><td>France</td><td>11751.9732</td></tr>\n",
                            "<tr><td>France</td><td>12645.1073</td></tr>\n",
                            "<tr><td>France</td><td>12959.5284</td></tr>\n",
                            "<tr><td>France</td><td>13488.1145</td></tr>\n",
                            "<tr><td>France</td><td>13694.2054</td></tr>\n",
                            "<tr><td>France</td><td>13733.5124</td></tr>\n",
                            "<tr><td>France</td><td>13888.6956</td></tr>\n",
                            "<tr><td>France</td><td>14225.7457</td></tr>\n",
                            "<tr><td>France</td><td>14957.0568</td></tr>\n",
                            "<tr><td>France</td><td>15215.7837</td></tr>\n",
                            "<tr><td>France</td><td>15381.5337</td></tr>\n",
                            "<tr><td>France</td><td>15713.4054</td></tr>\n",
                            "<tr><td>France</td><td>15806.3841</td></tr>\n",
                            "<tr><td>France</td><td>15855.861</td></tr>\n",
                            "<tr><td>France</td><td>16199.4105</td></tr>\n",
                            "<tr><td>France</td><td>16471.306</td></tr>\n",
                            "<tr><td>France</td><td>16695.4933</td></tr>\n",
                            "<tr><td>France</td><td>17968.6975</td></tr>\n",
                            "<tr><td>France</td><td>21160.48</td></tr>\n",
                            "<tr><td>France</td><td>21200.6586</td></tr>\n",
                            "<tr><td>France</td><td>26152.9797</td></tr>\n",
                            "<tr><td>Germany</td><td>10116.0858</td></tr>\n",
                            "<tr><td>Germany</td><td>11064.4689</td></tr>\n",
                            "<tr><td>Germany</td><td>12645.1073</td></tr>\n",
                            "<tr><td>Germany</td><td>14225.7457</td></tr>\n",
                            "<tr><td>Germany</td><td>15806.3841</td></tr>\n",
                            "<tr><td>Germany</td><td>16471.306</td></tr>\n",
                            "<tr><td>Germany</td><td>17968.6975</td></tr>\n",
                            "<tr><td>Germany</td><td>19466.0889</td></tr>\n",
                            "<tr><td>Germany</td><td>22023.5618</td></tr>\n",
                            "<tr><td>United Kingdom</td><td>10149.8074</td></tr>\n",
                            "<tr><td>United Kingdom</td><td>10651.0486</td></tr>\n",
                            "<tr><td>United Kingdom</td><td>10868.4167</td></tr>\n",
                            "<tr><td>United Kingdom</td><td>10986.81</td></tr>\n",
                            "<tr><td>United Kingdom</td><td>11064.4689</td></tr>\n",
                            "<tr><td>United Kingdom</td><td>11277.5637</td></tr>\n",
                            "<tr><td>United Kingdom</td><td>11339.5874</td></tr>\n",
                            "<tr><td>United Kingdom</td><td>12172.627</td></tr>\n",
                            "<tr><td>United Kingdom</td><td>12305.227</td></tr>\n",
                            "<tr><td>United Kingdom</td><td>12360.1612</td></tr>\n",
                            "<tr><td>United Kingdom</td><td>12645.1073</td></tr>\n",
                            "<tr><td>United Kingdom</td><td>12820.3344</td></tr>\n",
                            "<tr><td>United Kingdom</td><td>13694.2054</td></tr>\n",
                            "<tr><td>United Kingdom</td><td>13888.6956</td></tr>\n",
                            "<tr><td>United Kingdom</td><td>14311.2354</td></tr>\n",
                            "<tr><td>United Kingdom</td><td>14731.3175</td></tr>\n",
                            "<tr><td>United Kingdom</td><td>15215.7837</td></tr>\n",
                            "<tr><td>United Kingdom</td><td>15806.3841</td></tr>\n",
                            "<tr><td>United Kingdom</td><td>16199.4105</td></tr>\n",
                            "<tr><td>United Kingdom</td><td>17703.1502</td></tr>\n",
                            "<tr><td>United Kingdom</td><td>17968.6975</td></tr>\n",
                            "<tr><td>United Kingdom</td><td>18942.8715</td></tr>\n",
                            "<tr><td>United Kingdom</td><td>22525.6998</td></tr>\n",
                            "<tr><td>United Kingdom</td><td>24776.5072</td></tr>\n",
                            "<tr><td>United States</td><td>10124.6316</td></tr>\n",
                            "<tr><td>United States</td><td>10149.8074</td></tr>\n",
                            "<tr><td>United States</td><td>10397.5885</td></tr>\n",
                            "<tr><td>United States</td><td>10651.0486</td></tr>\n",
                            "<tr><td>United States</td><td>10767.0736</td></tr>\n",
                            "<tr><td>United States</td><td>10868.4167</td></tr>\n",
                            "<tr><td>United States</td><td>10986.81</td></tr>\n",
                            "<tr><td>United States</td><td>10988.8474</td></tr>\n",
                            "<tr><td>United States</td><td>11064.4689</td></tr>\n",
                            "<tr><td>United States</td><td>11188.0919</td></tr>\n",
                            "<tr><td>United States</td><td>11222.5414</td></tr>\n",
                            "<tr><td>United States</td><td>11270.9669</td></tr>\n",
                            "<tr><td>United States</td><td>11277.5637</td></tr>\n",
                            "<tr><td>United States</td><td>11339.5874</td></tr>\n",
                            "<tr><td>United States</td><td>11571.0075</td></tr>\n",
                            "<tr><td>United States</td><td>11751.9732</td></tr>\n",
                            "<tr><td>United States</td><td>11861.9651</td></tr>\n",
                            "<tr><td>United States</td><td>12172.627</td></tr>\n",
                            "<tr><td>United States</td><td>12226.9688</td></tr>\n",
                            "<tr><td>United States</td><td>12305.227</td></tr>\n",
                            "<tr><td>United States</td><td>12360.1612</td></tr>\n",
                            "<tr><td>United States</td><td>12645.1073</td></tr>\n",
                            "<tr><td>United States</td><td>12820.3344</td></tr>\n",
                            "<tr><td>United States</td><td>12959.5284</td></tr>\n",
                            "<tr><td>United States</td><td>13017.3834</td></tr>\n",
                            "<tr><td>United States</td><td>13331.2597</td></tr>\n",
                            "<tr><td>United States</td><td>13425.7102</td></tr>\n",
                            "<tr><td>United States</td><td>13488.1145</td></tr>\n",
                            "<tr><td>United States</td><td>13525.1602</td></tr>\n",
                            "<tr><td>United States</td><td>13585.5208</td></tr>\n",
                            "<tr><td>United States</td><td>13694.2054</td></tr>\n",
                            "<tr><td>United States</td><td>13733.5124</td></tr>\n",
                            "<tr><td>United States</td><td>13843.3804</td></tr>\n",
                            "<tr><td>United States</td><td>13888.6956</td></tr>\n",
                            "<tr><td>United States</td><td>14157.0193</td></tr>\n",
                            "<tr><td>United States</td><td>14225.7457</td></tr>\n",
                            "<tr><td>United States</td><td>14234.3581</td></tr>\n",
                            "<tr><td>United States</td><td>14311.2354</td></tr>\n",
                            "<tr><td>United States</td><td>14463.7594</td></tr>\n",
                            "<tr><td>United States</td><td>14579.4695</td></tr>\n",
                            "<tr><td>United States</td><td>14731.3175</td></tr>\n",
                            "<tr><td>United States</td><td>14957.0568</td></tr>\n",
                            "<tr><td>United States</td><td>15072.2021</td></tr>\n",
                            "<tr><td>United States</td><td>15215.7837</td></tr>\n",
                            "<tr><td>United States</td><td>15381.5337</td></tr>\n",
                            "<tr><td>United States</td><td>15444.0209</td></tr>\n",
                            "<tr><td>United States</td><td>15612.2568</td></tr>\n",
                            "<tr><td>United States</td><td>15663.3286</td></tr>\n",
                            "<tr><td>United States</td><td>15779.3536</td></tr>\n",
                            "<tr><td>United States</td><td>15806.3841</td></tr>\n",
                            "<tr><td>United States</td><td>15855.861</td></tr>\n",
                            "<tr><td>United States</td><td>16028.5835</td></tr>\n",
                            "<tr><td>United States</td><td>16199.4105</td></tr>\n",
                            "<tr><td>United States</td><td>16442.4024</td></tr>\n",
                            "<tr><td>United States</td><td>16471.306</td></tr>\n",
                            "<tr><td>United States</td><td>16695.4933</td></tr>\n",
                            "<tr><td>United States</td><td>16880.8656</td></tr>\n",
                            "<tr><td>United States</td><td>17297.3029</td></tr>\n",
                            "<tr><td>United States</td><td>17485.7275</td></tr>\n",
                            "<tr><td>United States</td><td>17746.0868</td></tr>\n",
                            "<tr><td>United States</td><td>17900.947</td></tr>\n",
                            "<tr><td>United States</td><td>18018.0244</td></tr>\n",
                            "<tr><td>United States</td><td>18033.547</td></tr>\n",
                            "<tr><td>United States</td><td>18415.4898</td></tr>\n",
                            "<tr><td>United States</td><td>18738.7448</td></tr>\n",
                            "<tr><td>United States</td><td>18942.8715</td></tr>\n",
                            "<tr><td>United States</td><td>19466.0889</td></tr>\n",
                            "<tr><td>United States</td><td>19875.6174</td></tr>\n",
                            "<tr><td>United States</td><td>20138.5654</td></tr>\n",
                            "<tr><td>United States</td><td>20287.7404</td></tr>\n",
                            "<tr><td>United States</td><td>20400.0154</td></tr>\n",
                            "<tr><td>United States</td><td>20647.0892</td></tr>\n",
                            "<tr><td>United States</td><td>21145.4319</td></tr>\n",
                            "<tr><td>United States</td><td>21200.6586</td></tr>\n",
                            "<tr><td>United States</td><td>22023.5618</td></tr>\n",
                            "<tr><td>United States</td><td>22376.1837</td></tr>\n",
                            "<tr><td>United States</td><td>22541.9337</td></tr>\n",
                            "<tr><td>United States</td><td>22771.0789</td></tr>\n",
                            "<tr><td>United States</td><td>23317.4752</td></tr>\n",
                            "<tr><td>United States</td><td>23400.0344</td></tr>\n",
                            "<tr><td>United States</td><td>24776.5072</td></tr>\n",
                            "<tr><td>United States</td><td>25374.5183</td></tr>\n",
                            "<tr><td>United States</td><td>25437.2456</td></tr>\n",
                            "<tr><td>United States</td><td>25625.6702</td></tr>\n",
                            "<tr><td>United States</td><td>27557.0161</td></tr>\n",
                            "<tr><td>United States</td><td>28905.9249</td></tr>\n",
                            "<tr><td>United States</td><td>29896.6152</td></tr>\n",
                            "<tr><td>United States</td><td>30822.449</td></tr>\n",
                            "</table>"
                        ]
                    },
                    "execution_count": 23,
                    "metadata": {},
                    "output_type": "execute_result"
                }
            ],
            "source": [
                "--1. Give the Store Name with Total orders over $100000. Include the subtotal plus tax plus freight.\n",
                "\n",
                "SELECT\n",
                "    C.LastName\n",
                "    ,(I.SalesAmount + I.TaxAmt + I.Freight) as 'Total Order'\n",
                "FROM\n",
                "    FactInternetSales I\n",
                "JOIN\n",
                "    DimCustomer C\n",
                "ON\n",
                "    I.CustomerKey = C.CustomerKey\n",
                "WHERE\n",
                "    (I.SalesAmount + I.TaxAmt + I.Freight) > 10000\n",
                "GROUP BY\n",
                "    C.LastName\n",
                "    ,(I.SalesAmount + I.TaxAmt + I.Freight)\n",
                "UNION\n",
                "SELECT\n",
                "    C.LastName\n",
                "    ,(R.SalesAmount + R.TaxAmt + R.Freight) as 'Total Order'\n",
                "FROM\n",
                "    FactResellerSales R\n",
                "JOIN\n",
                "    R.CustomerKey = C.CustomerKey\n",
                "ON\n",
                "    R.SalesTerritoryKey = T.SalesTerritoryKey\n",
                "WHERE\n",
                "    (R.SalesAmount + R.TaxAmt + R.Freight) > 10000\n",
                "GROUP BY\n",
                "    T.SalesTerritoryCountry\n",
                "    ,(R.SalesAmount + R.TaxAmt + R.Freight)"
            ]
        }
    ],
    "metadata": {
        "kernelspec": {
            "display_name": "SQL",
            "language": "sql",
            "name": "SQL"
        },
        "language_info": {
            "name": "sql",
            "version": ""
        }
    },
    "nbformat": 4,
    "nbformat_minor": 2
}
