{
 "cells": [
  {
   "cell_type": "code",
   "execution_count": 1,
   "metadata": {},
   "outputs": [
    {
     "name": "stdout",
     "output_type": "stream",
     "text": [
      "Change Calculator\n",
      "\n",
      "\n",
      "Quarters:  4\n",
      "Dimes:     0\n",
      "Nickels:   0\n",
      "Pennies:   0\n",
      "\n",
      "\n",
      "Bye!\n"
     ]
    }
   ],
   "source": [
    "# Python 3-3Wchids \n",
    "# display a welcome message\n",
    "print(\"Change Calculator\")\n",
    "print()\n",
    "\n",
    "choice = \"y\"\n",
    "while choice.lower() == \"y\":\n",
    "\n",
    "    # get input from the user\n",
    "    cents = int(input(\"Enter number of cents (0-99): \"))\n",
    "    print()\n",
    "\n",
    "    # calculate the number of quarters\n",
    "    quarters = cents // 25\n",
    "    cents = cents % 25      # assign the remainder to the cents variable\n",
    "\n",
    "    # calculate the number of dimes\n",
    "    dimes = cents // 10\n",
    "    cents = cents % 10      # assign the remainder to the cents variable\n",
    "\n",
    "    # calculate the number of nickels and pennies\n",
    "    nickels = cents // 5    # get number of nickels\n",
    "    pennies = cents % 5     # get number of pennies    \n",
    "\n",
    "    # display coins\n",
    "    print(\"Quarters: \", quarters)\n",
    "    print(\"Dimes:    \", dimes)\n",
    "    print(\"Nickels:  \", nickels)\n",
    "    print(\"Pennies:  \", pennies)\n",
    "    print()\n",
    "\n",
    "    # see if the user wants to continue\n",
    "    choice = input(\"Continue? (y/n): \")\n",
    "    print()\n",
    "\n",
    "print(\"Bye!\")\n"
   ]
  }
 ],
 "metadata": {
  "kernelspec": {
   "display_name": "Python 3.10.7 64-bit",
   "language": "python",
   "name": "python3"
  },
  "language_info": {
   "codemirror_mode": {
    "name": "ipython",
    "version": 3
   },
   "file_extension": ".py",
   "mimetype": "text/x-python",
   "name": "python",
   "nbconvert_exporter": "python",
   "pygments_lexer": "ipython3",
   "version": "3.10.7"
  },
  "orig_nbformat": 4,
  "vscode": {
   "interpreter": {
    "hash": "b1bbe9456d20300904e9b13151849e2cec71d81e4372ca48313873a0c8e6e415"
   }
  }
 },
 "nbformat": 4,
 "nbformat_minor": 2
}
