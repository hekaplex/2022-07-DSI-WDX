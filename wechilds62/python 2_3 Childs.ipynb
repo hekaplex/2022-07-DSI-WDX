{
 "cells": [
  {
   "cell_type": "code",
   "execution_count": 2,
   "metadata": {},
   "outputs": [
    {
     "name": "stdout",
     "output_type": "stream",
     "text": [
      "Tip Calculator\n",
      "\n",
      "\n",
      "Tip amount:  6.0\n",
      "Total amount: 46.0\n"
     ]
    }
   ],
   "source": [
    "print(\"Tip Calculator\")\n",
    "print()\n",
    "# get input from user \n",
    "meal_cost = float(input(\"Cost of meal : \"))\n",
    "tip_percent = float(input (\"Tip Percent\"))\n",
    "print()\n",
    "\n",
    "#tip and total amount \n",
    "tip_amount = round(meal_cost *(tip_percent / 100), 2)\n",
    "total = round (meal_cost + tip_amount, 2)\n",
    "\n",
    "# input response \n",
    "print (\"Tip amount: \", tip_amount)\n",
    "print (\"Total amount:\", total)"
   ]
  }
 ],
 "metadata": {
  "kernelspec": {
   "display_name": "Python 3.10.7 64-bit",
   "language": "python",
   "name": "python3"
  },
  "language_info": {
   "codemirror_mode": {
    "name": "ipython",
    "version": 3
   },
   "file_extension": ".py",
   "mimetype": "text/x-python",
   "name": "python",
   "nbconvert_exporter": "python",
   "pygments_lexer": "ipython3",
   "version": "3.10.7"
  },
  "orig_nbformat": 4,
  "vscode": {
   "interpreter": {
    "hash": "b1bbe9456d20300904e9b13151849e2cec71d81e4372ca48313873a0c8e6e415"
   }
  }
 },
 "nbformat": 4,
 "nbformat_minor": 2
}
