{
 "cells": [
  {
   "cell_type": "code",
   "execution_count": 5,
   "metadata": {},
   "outputs": [
    {
     "name": "stdout",
     "output_type": "stream",
     "text": [
      "Tip Calculator\n",
      "\n",
      "\n",
      "15%\n",
      "Tip amount:  45.0\n",
      "Total amount: 345.0\n",
      "\n",
      "20%\n",
      "Tip amount:  60.0\n",
      "Total amount: 360.0\n",
      "\n",
      "25%\n",
      "Tip amount:  75.0\n",
      "Total amount: 375.0\n",
      "\n"
     ]
    }
   ],
   "source": [
    "# display welcome message \n",
    "print(\"Tip Calculator\")\n",
    "print()\n",
    "\n",
    "# user input \n",
    "meal_cost = float(input(\"Cost of meal \"))\n",
    "print()\n",
    "\n",
    "for tip_percent in range(15, 30, 5):\n",
    "    print(f\"{tip_percent}%\")\n",
    "\n",
    "    # calculate tip and total amount\n",
    "    tip_percent = tip_percent / 100\n",
    "    tip_amount = round(meal_cost * tip_percent, 2)\n",
    "    total = round(meal_cost + tip_amount, 2)\n",
    "\n",
    "    # display the results \n",
    "    print(\"Tip amount: \", tip_amount)\n",
    "    print(\"Total amount:\", total)\n",
    "    print()\n",
    "\n"
   ]
  }
 ],
 "metadata": {
  "kernelspec": {
   "display_name": "Python 3.10.7 64-bit",
   "language": "python",
   "name": "python3"
  },
  "language_info": {
   "codemirror_mode": {
    "name": "ipython",
    "version": 3
   },
   "file_extension": ".py",
   "mimetype": "text/x-python",
   "name": "python",
   "nbconvert_exporter": "python",
   "pygments_lexer": "ipython3",
   "version": "3.10.7"
  },
  "orig_nbformat": 4,
  "vscode": {
   "interpreter": {
    "hash": "b1bbe9456d20300904e9b13151849e2cec71d81e4372ca48313873a0c8e6e415"
   }
  }
 },
 "nbformat": 4,
 "nbformat_minor": 2
}
