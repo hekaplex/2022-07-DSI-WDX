{
 "cells": [
  {
   "cell_type": "code",
   "execution_count": 3,
   "metadata": {},
   "outputs": [
    {
     "name": "stdout",
     "output_type": "stream",
     "text": [
      "Table of Powers\n",
      "\n",
      "\n",
      "Number\tSquared\tCubed\n",
      "======\t=======\t=====\n",
      "11\t121\t1331\n",
      "12\t144\t1728\n",
      "13\t169\t2197\n"
     ]
    }
   ],
   "source": [
    "# display program title\n",
    "print(\"Table of Powers\")\n",
    "print()\n",
    "\n",
    "# get input from the user\n",
    "while True:\n",
    "    start = int(input(\"Start number: \"))\n",
    "    stop  = int(input(\"Stop number:  \"))\n",
    "    if start > stop:\n",
    "        print(\"Start number must be less than stop number. Please try again.\\n\")\n",
    "        continue\n",
    "    else:\n",
    "        print()\n",
    "        break\n",
    "\n",
    "print(\"Number\\tSquared\\tCubed\")\n",
    "print(\"======\\t=======\\t=====\")\n",
    "for number in range(start, stop+1):\n",
    "    print(f\"{number}\\t{number**2}\\t{number**3}\")\n"
   ]
  }
 ],
 "metadata": {
  "kernelspec": {
   "display_name": "Python 3.10.7 64-bit",
   "language": "python",
   "name": "python3"
  },
  "language_info": {
   "codemirror_mode": {
    "name": "ipython",
    "version": 3
   },
   "file_extension": ".py",
   "mimetype": "text/x-python",
   "name": "python",
   "nbconvert_exporter": "python",
   "pygments_lexer": "ipython3",
   "version": "3.10.7"
  },
  "orig_nbformat": 4,
  "vscode": {
   "interpreter": {
    "hash": "b1bbe9456d20300904e9b13151849e2cec71d81e4372ca48313873a0c8e6e415"
   }
  }
 },
 "nbformat": 4,
 "nbformat_minor": 2
}
