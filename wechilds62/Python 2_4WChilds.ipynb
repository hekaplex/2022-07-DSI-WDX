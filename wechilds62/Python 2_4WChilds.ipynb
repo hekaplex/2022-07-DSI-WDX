{
 "cells": [
  {
   "cell_type": "code",
   "execution_count": 4,
   "metadata": {},
   "outputs": [
    {
     "name": "stdout",
     "output_type": "stream",
     "text": [
      "Price Comparison\n",
      "\n"
     ]
    }
   ],
   "source": [
    "# display message \n",
    "print (\"Price Comparison\")\n",
    "print()\n",
    "\n",
    "# actual cost \n",
    "price_64_oz = float (input(\"Price of 64 oz size\"))\n",
    "price_32_oz = float (input(\"Price of 32 oz size\"))\n",
    "print()\n",
    "\n",
    "# unit price calculation\n",
    "price_per_oz_64 = round(price_64_oz / 64, 2)\n",
    "price_per_oz_32= round(price_32_oz / 32, 2)\n",
    "\n",
    "# results \n",
    "print (\"Price per oz (64 oz):\", price_per_oz_64)\n",
    "print (\"Price per oz (32 oz):\", price_per_oz_32)\n",
    "\n"
   ]
  }
 ],
 "metadata": {
  "kernelspec": {
   "display_name": "Python 3.10.7 64-bit",
   "language": "python",
   "name": "python3"
  },
  "language_info": {
   "codemirror_mode": {
    "name": "ipython",
    "version": 3
   },
   "file_extension": ".py",
   "mimetype": "text/x-python",
   "name": "python",
   "nbconvert_exporter": "python",
   "pygments_lexer": "ipython3",
   "version": "3.10.7"
  },
  "orig_nbformat": 4,
  "vscode": {
   "interpreter": {
    "hash": "b1bbe9456d20300904e9b13151849e2cec71d81e4372ca48313873a0c8e6e415"
   }
  }
 },
 "nbformat": 4,
 "nbformat_minor": 2
}
