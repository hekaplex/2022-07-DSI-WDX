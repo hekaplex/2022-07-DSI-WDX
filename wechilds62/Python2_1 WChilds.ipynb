{
 "cells": [
  {
   "cell_type": "code",
   "execution_count": 1,
   "metadata": {},
   "outputs": [
    {
     "name": "stdout",
     "output_type": "stream",
     "text": [
      "Registration Form\n",
      "\n",
      "\n",
      "\n",
      "\n",
      "\n",
      "Welcome  childs !\n",
      "Your registration is complete.\n",
      "Your temporary password is: *1962\n",
      "Your temporary password is: *1962\n"
     ]
    }
   ],
   "source": [
    "print(\"Registration Form\")\n",
    "print(\"\\n\")\n",
    "\n",
    "firstName = input (\"First Name: \")\n",
    "lastName = input (\"Last Name: \")\n",
    "birthYear = input (\"Birth Year: \")\n",
    "\n",
    "print(\"\\n\\n\")\n",
    "\n",
    "print(f\"Welcome {firstName} {lastName}!\")\n",
    "print(\"Your registration is complete.\")\n",
    "print(f\"Your temporary password is: {firstName}*{birthYear}\")\n",
    "pwd = firstName + \"*\" + birthYear\n",
    "print (\"Your temporary password is: \" + pwd)"
   ]
  }
 ],
 "metadata": {
  "kernelspec": {
   "display_name": "Python 3.10.7 64-bit",
   "language": "python",
   "name": "python3"
  },
  "language_info": {
   "codemirror_mode": {
    "name": "ipython",
    "version": 3
   },
   "file_extension": ".py",
   "mimetype": "text/x-python",
   "name": "python",
   "nbconvert_exporter": "python",
   "pygments_lexer": "ipython3",
   "version": "3.10.7"
  },
  "orig_nbformat": 4,
  "vscode": {
   "interpreter": {
    "hash": "b1bbe9456d20300904e9b13151849e2cec71d81e4372ca48313873a0c8e6e415"
   }
  }
 },
 "nbformat": 4,
 "nbformat_minor": 2
}
