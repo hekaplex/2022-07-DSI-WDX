{
 "cells": [
  {
   "cell_type": "code",
   "execution_count": 6,
   "metadata": {},
   "outputs": [
    {
     "name": "stdout",
     "output_type": "stream",
     "text": [
      "Letter Grade Converter\n",
      "\n",
      "letter grade: D\n",
      "\n",
      "\n",
      "letter grade: F\n",
      "\n",
      "\n",
      "Bye!\n"
     ]
    }
   ],
   "source": [
    "# Python 3_1 WChilds\n",
    "#Display a welcome message\n",
    "print(\"Letter Grade Converter\")\n",
    "print()\n",
    "\n",
    "choice = \"y\"\n",
    "while choice.lower () == \"y\":\n",
    "\n",
    "    # get input fromn the user\n",
    "    number = int(input (\"Enter numerical grade\"))\n",
    "\n",
    "    # convert number to letter grade \n",
    "    if number > 87:\n",
    "        letter = \"A\"\n",
    "    elif number > 79:\n",
    "        letter = \"B\"\n",
    "    elif number > 66:\n",
    "        letter = \"C\"\n",
    "    elif number > 59:\n",
    "        letter = \"D\"\n",
    "    else:\n",
    "        letter = \"F\"\n",
    "\n",
    "    # display letter grade \n",
    "    print(\"letter grade:\", letter)\n",
    "    print()\n",
    "\n",
    "    # see if the user wants to continue \n",
    "    choice = input(\"Continue (y/n)?:\")\n",
    "    print()\n",
    "\n",
    "print(\"Bye!\")\n",
    "\n",
    "\n"
   ]
  }
 ],
 "metadata": {
  "kernelspec": {
   "display_name": "Python 3.10.7 64-bit",
   "language": "python",
   "name": "python3"
  },
  "language_info": {
   "codemirror_mode": {
    "name": "ipython",
    "version": 3
   },
   "file_extension": ".py",
   "mimetype": "text/x-python",
   "name": "python",
   "nbconvert_exporter": "python",
   "pygments_lexer": "ipython3",
   "version": "3.10.7"
  },
  "orig_nbformat": 4,
  "vscode": {
   "interpreter": {
    "hash": "b1bbe9456d20300904e9b13151849e2cec71d81e4372ca48313873a0c8e6e415"
   }
  }
 },
 "nbformat": 4,
 "nbformat_minor": 2
}
