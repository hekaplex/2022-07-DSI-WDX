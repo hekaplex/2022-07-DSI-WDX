{
 "cells": [
  {
   "cell_type": "code",
   "execution_count": 1,
   "metadata": {},
   "outputs": [
    {
     "name": "stdout",
     "output_type": "stream",
     "text": [
      "Welcome to the Future Value Calculator\n",
      "\n",
      "Future value:\t\t\t$12,821.41\n",
      "\n",
      "\n"
     ]
    }
   ],
   "source": [
    "#!/usr/bin/env python3\n",
    "\n",
    "import locale\n",
    "\n",
    "# set the locale for use in currency formatting\n",
    "\n",
    "locale.setlocale(locale.LC_ALL, 'en_US')\n",
    "\n",
    "# display a welcome message\n",
    "\n",
    "print(\"Welcome to the Future Value Calculator\")\n",
    "\n",
    "print()\n",
    "\n",
    "choice = \"y\"\n",
    "\n",
    "while choice.lower() == \"y\":\n",
    "\n",
    "    # get input from the user\n",
    "\n",
    "    monthly_investment = float(input(\"Enter monthly investment:\\t\"))\n",
    "\n",
    "    yearly_interest_rate = float(input(\"Enter yearly interest rate:\\t\"))\n",
    "\n",
    "    years = int(input(\"Enter number of years:\\t\\t\"))\n",
    "\n",
    "    # convert yearly values to monthly values\n",
    "\n",
    "    monthly_interest_rate = yearly_interest_rate / 12 / 100\n",
    "\n",
    "    months = years * 12\n",
    "\n",
    "    # calculate the future value\n",
    "\n",
    "    future_value = 0\n",
    "\n",
    "    for i in range(months):\n",
    "\n",
    "        future_value = future_value + monthly_investment\n",
    "\n",
    "        monthly_interest_amount = future_value * monthly_interest_rate\n",
    "\n",
    "        future_value = future_value + monthly_interest_amount\n",
    "\n",
    "    # format and display the result\n",
    "\n",
    "    print(\"Future value:\\t\\t\\t\" + locale.currency(\n",
    "\n",
    "        future_value, grouping=True))\n",
    "\n",
    "    print()\n",
    "\n",
    "    # see if the user wants to continue\n",
    "\n",
    "    choice = input(\"Continue? (y/n): \")\n",
    "\n",
    "    print()\n",
    "\n",
    "print(\"Bye!\")"
   ]
  }
 ],
 "metadata": {
  "kernelspec": {
   "display_name": "Python 3.10.7 64-bit",
   "language": "python",
   "name": "python3"
  },
  "language_info": {
   "codemirror_mode": {
    "name": "ipython",
    "version": 3
   },
   "file_extension": ".py",
   "mimetype": "text/x-python",
   "name": "python",
   "nbconvert_exporter": "python",
   "pygments_lexer": "ipython3",
   "version": "3.10.7"
  },
  "orig_nbformat": 4,
  "vscode": {
   "interpreter": {
    "hash": "b1bbe9456d20300904e9b13151849e2cec71d81e4372ca48313873a0c8e6e415"
   }
  }
 },
 "nbformat": 4,
 "nbformat_minor": 2
}
