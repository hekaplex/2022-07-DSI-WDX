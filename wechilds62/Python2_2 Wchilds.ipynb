{
 "cells": [
  {
   "cell_type": "code",
   "execution_count": 3,
   "metadata": {},
   "outputs": [
    {
     "name": "stdout",
     "output_type": "stream",
     "text": [
      "Pay Check Calculator\n",
      "\n",
      "Gross Pay:\t\t 1000.0\n",
      "Tax Rate:\t\t 18%\n",
      "Tax Amount: \t\t 180.0\n",
      "take Home Pay:\t\t 820.0\n"
     ]
    }
   ],
   "source": [
    "#Display Welcome Message\n",
    "print (\"Pay Check Calculator\")\n",
    "print()\n",
    "\n",
    "hoursWorked = (\"Hours Worked\")\n",
    "hourlyPayRate = (\"Hourly Pay Rate\")\n",
    "\n",
    "#display input about pay\n",
    "hours = float (input(\"Hours Worked:\\t\\t\"))\n",
    "pay_rate = float(input(\"Hourly Pay Rate:\\t\"))\n",
    "\n",
    "# make calculations \n",
    "gross_pay = round(hours * pay_rate,2)\n",
    "tax_rate = 18\n",
    "tax_amount = round (gross_pay * (tax_rate /100), 2)\n",
    "take_home_pay = round (gross_pay - tax_amount, 2)\n",
    "\n",
    "# display the results \n",
    "print (\"Gross Pay:\\t\\t\", gross_pay)\n",
    "print (\"Tax Rate:\\t\\t\", str(tax_rate) + \"%\")\n",
    "print (\"Tax Amount: \\t\\t\", tax_amount)\n",
    "print (\"take Home Pay:\\t\\t\", take_home_pay)\n"
   ]
  }
 ],
 "metadata": {
  "kernelspec": {
   "display_name": "Python 3.10.7 64-bit",
   "language": "python",
   "name": "python3"
  },
  "language_info": {
   "codemirror_mode": {
    "name": "ipython",
    "version": 3
   },
   "file_extension": ".py",
   "mimetype": "text/x-python",
   "name": "python",
   "nbconvert_exporter": "python",
   "pygments_lexer": "ipython3",
   "version": "3.10.7"
  },
  "orig_nbformat": 4,
  "vscode": {
   "interpreter": {
    "hash": "b1bbe9456d20300904e9b13151849e2cec71d81e4372ca48313873a0c8e6e415"
   }
  }
 },
 "nbformat": 4,
 "nbformat_minor": 2
}
