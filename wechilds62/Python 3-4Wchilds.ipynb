{
 "cells": [
  {
   "cell_type": "code",
   "execution_count": 2,
   "metadata": {},
   "outputs": [
    {
     "name": "stdout",
     "output_type": "stream",
     "text": [
      "===============================================================\n",
      "Shipping Calculator\n",
      "===============================================================\n",
      "Shipping cost:          0\n",
      "Total cost:             250.0\n",
      "\n",
      "===============================================================\n",
      "Shipping cost:          5.95\n",
      "Total cost:             16.95\n",
      "\n"
     ]
    }
   ],
   "source": [
    "#Python 3-4 WChilds \n",
    "# display a welcome message\n",
    "print(\"===============================================================\")\n",
    "print(\"Shipping Calculator\")\n",
    "print(\"===============================================================\")\n",
    "\n",
    "choice = \"y\"\n",
    "while choice.lower() == \"y\":\n",
    "\n",
    "    # get input from the user\n",
    "    cost_of_items = float(input(\"Cost of items ordered:  \"))\n",
    "\n",
    "    # make sure input is a positive number\n",
    "    if cost_of_items < 0:\n",
    "        print(\"You must enter a positive number. Please try again.\")\n",
    "        continue\n",
    "    \n",
    "    # get shipping cost\n",
    "    if cost_of_items >= 75:\n",
    "        shipping_cost = 0\n",
    "    elif cost_of_items >= 50:\n",
    "        shipping_cost = 9.95\n",
    "    elif cost_of_items >= 30:\n",
    "        shipping_cost = 7.95\n",
    "    else:\n",
    "        shipping_cost = 5.95\n",
    "    \n",
    "    # calculate total cost\n",
    "    total_cost = round(cost_of_items + shipping_cost, 2)\n",
    "\n",
    "    # display coins\n",
    "    print(\"Shipping cost:         \", shipping_cost)\n",
    "    print(\"Total cost:            \", total_cost)\n",
    "    print()\n",
    "\n",
    "    # see if the user wants to continue\n",
    "    choice = input(\"Continue? (y/n): \")\n",
    "    print(\"===============================================================\")\n",
    "        \n",
    "print(\"Bye!\")\n"
   ]
  }
 ],
 "metadata": {
  "kernelspec": {
   "display_name": "Python 3.10.7 64-bit",
   "language": "python",
   "name": "python3"
  },
  "language_info": {
   "codemirror_mode": {
    "name": "ipython",
    "version": 3
   },
   "file_extension": ".py",
   "mimetype": "text/x-python",
   "name": "python",
   "nbconvert_exporter": "python",
   "pygments_lexer": "ipython3",
   "version": "3.10.7"
  },
  "orig_nbformat": 4,
  "vscode": {
   "interpreter": {
    "hash": "b1bbe9456d20300904e9b13151849e2cec71d81e4372ca48313873a0c8e6e415"
   }
  }
 },
 "nbformat": 4,
 "nbformat_minor": 2
}
